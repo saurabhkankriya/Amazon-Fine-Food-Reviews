{
 "cells": [
  {
   "cell_type": "markdown",
   "metadata": {
    "colab_type": "text",
    "id": "UIn1GsFNJkjH"
   },
   "source": [
    "# Amazon Fine Food Reviews Analysis\n",
    "\n",
    "\n",
    "Data Source: https://www.kaggle.com/snap/amazon-fine-food-reviews <br>\n",
    "\n",
    "EDA: https://nycdatascience.com/blog/student-works/amazon-fine-foods-visualization/\n",
    "\n",
    "\n",
    "The Amazon Fine Food Reviews dataset consists of reviews of fine foods from Amazon.<br>\n",
    "\n",
    "Number of reviews: 568,454<br>\n",
    "Number of users: 256,059<br>\n",
    "Number of products: 74,258<br>\n",
    "Timespan: Oct 1999 - Oct 2012<br>\n",
    "Number of Attributes/Columns in data: 10 \n",
    "\n",
    "Attribute Information:\n",
    "\n",
    "1. Id\n",
    "2. ProductId - unique identifier for the product\n",
    "3. UserId - unqiue identifier for the user\n",
    "4. ProfileName\n",
    "5. HelpfulnessNumerator - number of users who found the review helpful\n",
    "6. HelpfulnessDenominator - number of users who indicated whether they found the review helpful or not\n",
    "7. Score - rating between 1 and 5\n",
    "8. Time - timestamp for the review\n",
    "9. Summary - brief summary of the review\n",
    "10. Text - text of the review\n",
    "\n",
    "\n",
    "#### Objective:\n",
    "Given a review, determine whether the review is positive (rating of 4 or 5) or negative (rating of 1 or 2).\n",
    "\n",
    "<br>\n",
    "[Q] How to determine if a review is positive or negative?<br>\n",
    "<br> \n",
    "[Ans] We could use Score/Rating. A rating of 4 or 5 can be cosnidered as a positive review. A rating of 1 or 2 can be considered as negative one. A review of rating 3 is considered nuetral and such reviews are ignored from our analysis. This is an approximate and proxy way of determining the polarity (positivity/negativity) of a review.\n",
    "\n",
    "\n"
   ]
  },
  {
   "cell_type": "markdown",
   "metadata": {
    "colab_type": "text",
    "id": "5Uf26aoLJkjJ"
   },
   "source": [
    "# [1]. Reading Data"
   ]
  },
  {
   "cell_type": "markdown",
   "metadata": {
    "colab_type": "text",
    "id": "yo-LaJg3JkjK"
   },
   "source": [
    "## [1.1] Loading the data\n",
    "\n",
    "The dataset is available in two forms\n",
    "1. .csv file\n",
    "2. SQLite Database\n",
    "\n",
    "In order to load the data, We have used the SQLITE dataset as it is easier to query the data and visualise the data efficiently.\n",
    "<br> \n",
    "\n",
    "Here as we only want to get the global sentiment of the recommendations (positive or negative), we will purposefully ignore all Scores equal to 3. If the score is above 3, then the recommendation wil be set to \"positive\". Otherwise, it will be set to \"negative\"."
   ]
  },
  {
   "cell_type": "code",
   "execution_count": 0,
   "metadata": {
    "ExecuteTime": {
     "end_time": "2019-03-13T09:28:12.011393Z",
     "start_time": "2019-03-13T09:28:00.657230Z"
    },
    "colab": {},
    "colab_type": "code",
    "id": "dLYq3BkfJkjL"
   },
   "outputs": [],
   "source": [
    "%matplotlib inline\n",
    "import warnings\n",
    "warnings.filterwarnings(\"ignore\")\n",
    "\n",
    "import sqlite3\n",
    "\n",
    "import pandas as pd\n",
    "import numpy as np\n",
    "import matplotlib.pyplot as plt\n",
    "import seaborn as sns\n",
    "\n",
    "import nltk\n",
    "import string\n",
    "\n",
    "from sklearn.feature_extraction.text import TfidfTransformer\n",
    "from sklearn.feature_extraction.text import TfidfVectorizer\n",
    "from nltk.stem.porter import PorterStemmer\n",
    "\n",
    "import re\n",
    "# Tutorial about Python regular expressions: https://pymotw.com/2/re/\n",
    "from nltk.corpus import stopwords\n",
    "from nltk.stem import PorterStemmer\n",
    "from nltk.stem.wordnet import WordNetLemmatizer\n",
    "\n",
    "from gensim.models import Word2Vec\n",
    "from gensim.models import KeyedVectors\n",
    "\n",
    "import pickle\n",
    "from tqdm import tqdm\n",
    "import os\n",
    "from collections import Counter\n",
    "\n",
    "# ============================== loading libraries ===========================================\n",
    "\n",
    "from sklearn.model_selection import train_test_split\n",
    "from sklearn.model_selection import cross_validate\n",
    "from sklearn.model_selection import cross_val_score\n",
    "\n",
    "from sklearn.preprocessing import StandardScaler\n",
    "\n",
    "from sklearn.neighbors import KNeighborsClassifier\n",
    "\n",
    "from sklearn.metrics import accuracy_score\n",
    "from sklearn.metrics import confusion_matrix\n",
    "from sklearn import metrics\n",
    "from sklearn.metrics import roc_curve, auc\n",
    "\n",
    "from sklearn.feature_extraction.text import CountVectorizer\n"
   ]
  },
  {
   "cell_type": "code",
   "execution_count": 84,
   "metadata": {
    "ExecuteTime": {
     "end_time": "2019-03-13T09:28:12.038465Z",
     "start_time": "2019-03-13T09:28:12.020418Z"
    },
    "colab": {
     "base_uri": "https://localhost:8080/",
     "height": 204
    },
    "colab_type": "code",
    "id": "fJTMZD_rbLjC",
    "outputId": "01fc8c7e-25c8-44f9-ab77-47f022eefee0"
   },
   "outputs": [
    {
     "data": {
      "text/plain": [
       "['.config',\n",
       " 'finalized_df_0317.sav',\n",
       " 'Reviews.csv',\n",
       " 'kaggle.json',\n",
       " 'final_0317.pkl',\n",
       " 'database.sqlite',\n",
       " 'amazon-fine-food-reviews.zip',\n",
       " '.ipynb_checkpoints',\n",
       " 'drive',\n",
       " 'hashes.txt',\n",
       " 'sample_data']"
      ]
     },
     "execution_count": 84,
     "metadata": {
      "tags": []
     },
     "output_type": "execute_result"
    }
   ],
   "source": [
    "import os\n",
    "os.listdir('.')"
   ]
  },
  {
   "cell_type": "code",
   "execution_count": 85,
   "metadata": {
    "colab": {
     "base_uri": "https://localhost:8080/",
     "height": 51
    },
    "colab_type": "code",
    "id": "LTXvlly4JAdJ",
    "outputId": "aa4557bb-c3e0-4558-b125-1e471ffbe2d8"
   },
   "outputs": [
    {
     "name": "stdout",
     "output_type": "stream",
     "text": [
      "Archive:  amazon-fine-food-reviews.zip\n",
      "replace Reviews.csv? [y]es, [n]o, [A]ll, [N]one, [r]ename: "
     ]
    }
   ],
   "source": [
    "!unzip amazon-fine-food-reviews.zip"
   ]
  },
  {
   "cell_type": "code",
   "execution_count": 86,
   "metadata": {
    "colab": {
     "base_uri": "https://localhost:8080/",
     "height": 54
    },
    "colab_type": "code",
    "id": "hFbJ6dqpEzSQ",
    "outputId": "aa4a58b9-3d14-4160-9e21-c2663994bdc1"
   },
   "outputs": [
    {
     "name": "stdout",
     "output_type": "stream",
     "text": [
      "Drive already mounted at /content/drive; to attempt to forcibly remount, call drive.mount(\"/content/drive\", force_remount=True).\n"
     ]
    }
   ],
   "source": [
    "from google.colab import drive\n",
    "drive.mount('/content/drive')"
   ]
  },
  {
   "cell_type": "code",
   "execution_count": 87,
   "metadata": {
    "colab": {
     "base_uri": "https://localhost:8080/",
     "height": 57,
     "resources": {
      "http://localhost:8080/nbextensions/google.colab/files.js": {
       "data": "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",
       "headers": [
        [
         "content-type",
         "application/javascript"
        ]
       ],
       "ok": true,
       "status": 200,
       "status_text": ""
      }
     }
    },
    "colab_type": "code",
    "id": "DDRs9hAuHC-Y",
    "outputId": "cc16f941-1387-498c-ed9c-b0fe61c4d21a"
   },
   "outputs": [
    {
     "data": {
      "text/html": [
       "\n",
       "     <input type=\"file\" id=\"files-7573cca1-1883-433d-87c5-5a18cd538281\" name=\"files[]\" multiple disabled />\n",
       "     <output id=\"result-7573cca1-1883-433d-87c5-5a18cd538281\">\n",
       "      Upload widget is only available when the cell has been executed in the\n",
       "      current browser session. Please rerun this cell to enable.\n",
       "      </output>\n",
       "      <script src=\"/nbextensions/google.colab/files.js\"></script> "
      ],
      "text/plain": [
       "<IPython.core.display.HTML object>"
      ]
     },
     "metadata": {
      "tags": []
     },
     "output_type": "display_data"
    },
    {
     "data": {
      "text/plain": [
       "{}"
      ]
     },
     "execution_count": 87,
     "metadata": {
      "tags": []
     },
     "output_type": "execute_result"
    }
   ],
   "source": [
    "from google.colab import files\n",
    "files.upload()"
   ]
  },
  {
   "cell_type": "code",
   "execution_count": 0,
   "metadata": {
    "colab": {},
    "colab_type": "code",
    "id": "sWv5stjlHV7o"
   },
   "outputs": [],
   "source": [
    "!pip install -q kaggle"
   ]
  },
  {
   "cell_type": "code",
   "execution_count": 0,
   "metadata": {
    "colab": {},
    "colab_type": "code",
    "id": "-F2df3k7HcoA"
   },
   "outputs": [],
   "source": [
    "!mkdir -p ~/.kaggle\n",
    "!cp kaggle.json ~/.kaggle/"
   ]
  },
  {
   "cell_type": "code",
   "execution_count": 90,
   "metadata": {
    "colab": {
     "base_uri": "https://localhost:8080/",
     "height": 428
    },
    "colab_type": "code",
    "id": "8UHuLA1lHff1",
    "outputId": "f370918a-4831-4808-bd73-735b81d2c9da"
   },
   "outputs": [
    {
     "name": "stdout",
     "output_type": "stream",
     "text": [
      "Warning: Your Kaggle API key is readable by other users on this system! To fix this, you can run 'chmod 600 /root/.kaggle/kaggle.json'\n",
      "ref                                                          title                                                size  lastUpdated          downloadCount  \n",
      "-----------------------------------------------------------  --------------------------------------------------  -----  -------------------  -------------  \n",
      "ronitf/heart-disease-uci                                     Heart Disease UCI                                     3KB  2018-06-25 11:33:56          16578  \n",
      "karangadiya/fifa19                                           FIFA 19 complete player dataset                       2MB  2018-12-21 03:52:59          14276  \n",
      "russellyates88/suicide-rates-overview-1985-to-2016           Suicide Rates Overview 1985 to 2016                 396KB  2018-12-01 19:18:25          12373  \n",
      "mohansacharya/graduate-admissions                            Graduate Admissions                                   9KB  2018-12-28 10:07:14          13718  \n",
      "iarunava/cell-images-for-detecting-malaria                   Malaria Cell Images Dataset                         337MB  2018-12-05 05:40:21           2852  \n",
      "lava18/google-play-store-apps                                Google Play Store Apps                                2MB  2019-02-03 13:55:47          42663  \n",
      "bigquery/crypto-ethereum-classic                             Ethereum Classic Blockchain                          69GB  2019-03-04 14:57:33              0  \n",
      "jessicali9530/stanford-dogs-dataset                          Stanford Dogs Dataset                               735MB  2019-02-13 05:45:25           1267  \n",
      "safegraph/visit-patterns-by-census-block-group               Consumer & Visitor Insights For Neighborhoods        66MB  2018-12-19 21:31:50            823  \n",
      "noriuk/us-education-datasets-unification-project             U.S. Education Datasets: Unification Project         85MB  2019-03-02 18:41:52           2122  \n",
      "safegraph/census-block-group-american-community-survey-data  Census Block Group American Community Survey Data     2GB  2018-12-22 00:29:56            479  \n",
      "jessicali9530/celeba-dataset                                 CelebFaces Attributes (CelebA) Dataset                1GB  2018-06-01 20:08:48           5095  \n",
      "vjchoudhary7/customer-segmentation-tutorial-in-python        Mall Customer Segmentation Data                       2KB  2018-08-11 07:23:02           4533  \n",
      "jutrera/stanford-car-dataset-by-classes-folder               Stanford Car Dataset by classes folder                2GB  2018-07-02 07:35:45           2192  \n",
      "rmisra/news-headlines-dataset-for-sarcasm-detection          News Headlines Dataset For Sarcasm Detection          2MB  2018-06-09 22:14:56           1829  \n",
      "cityofLA/los-angeles-parking-citations                       Los Angeles Parking Citations                       253MB  2019-03-16 22:17:02           2315  \n",
      "pavansanagapati/urban-sound-classification                   Urban Sound Classification                            6GB  2018-06-16 13:44:36           1775  \n",
      "anokas/kuzushiji                                             Kuzushiji-MNIST                                     318MB  2018-12-17 01:19:31            612  \n",
      "fivethirtyeight/fivethirtyeight-comic-characters-dataset     FiveThirtyEight Comic Characters Dataset            577KB  2019-02-01 15:02:23           1613  \n",
      "mdhrumil/top-5000-youtube-channels-data-from-socialblade     Top 5000 Youtube channels data from Socialblade.    128KB  2018-09-09 14:05:54           5097  \n"
     ]
    }
   ],
   "source": [
    "!kaggle datasets list"
   ]
  },
  {
   "cell_type": "code",
   "execution_count": 91,
   "metadata": {
    "colab": {
     "base_uri": "https://localhost:8080/",
     "height": 71
    },
    "colab_type": "code",
    "id": "w-Ev4tOXHt7v",
    "outputId": "736f9962-e6d5-485b-ace0-9e184df22bc3"
   },
   "outputs": [
    {
     "name": "stdout",
     "output_type": "stream",
     "text": [
      "Warning: Your Kaggle API key is readable by other users on this system! To fix this, you can run 'chmod 600 /root/.kaggle/kaggle.json'\n",
      "amazon-fine-food-reviews.zip: Skipping, found more recently modified local copy (use --force to force download)\n"
     ]
    }
   ],
   "source": [
    "!kaggle datasets download -d snap/amazon-fine-food-reviews"
   ]
  },
  {
   "cell_type": "code",
   "execution_count": 92,
   "metadata": {
    "ExecuteTime": {
     "end_time": "2019-03-13T09:28:16.981759Z",
     "start_time": "2019-03-13T09:28:12.046486Z"
    },
    "colab": {
     "base_uri": "https://localhost:8080/",
     "height": 451
    },
    "colab_type": "code",
    "id": "rXVxnx_NJkjO",
    "outputId": "8d3dc5b3-506c-4605-a6a0-df8d129616ee"
   },
   "outputs": [
    {
     "name": "stdout",
     "output_type": "stream",
     "text": [
      "Number of data points in our data (525814, 10)\n"
     ]
    },
    {
     "data": {
      "text/html": [
       "<div>\n",
       "<style scoped>\n",
       "    .dataframe tbody tr th:only-of-type {\n",
       "        vertical-align: middle;\n",
       "    }\n",
       "\n",
       "    .dataframe tbody tr th {\n",
       "        vertical-align: top;\n",
       "    }\n",
       "\n",
       "    .dataframe thead th {\n",
       "        text-align: right;\n",
       "    }\n",
       "</style>\n",
       "<table border=\"1\" class=\"dataframe\">\n",
       "  <thead>\n",
       "    <tr style=\"text-align: right;\">\n",
       "      <th></th>\n",
       "      <th>Id</th>\n",
       "      <th>ProductId</th>\n",
       "      <th>UserId</th>\n",
       "      <th>ProfileName</th>\n",
       "      <th>HelpfulnessNumerator</th>\n",
       "      <th>HelpfulnessDenominator</th>\n",
       "      <th>Score</th>\n",
       "      <th>Time</th>\n",
       "      <th>Summary</th>\n",
       "      <th>Text</th>\n",
       "    </tr>\n",
       "  </thead>\n",
       "  <tbody>\n",
       "    <tr>\n",
       "      <th>0</th>\n",
       "      <td>1</td>\n",
       "      <td>B001E4KFG0</td>\n",
       "      <td>A3SGXH7AUHU8GW</td>\n",
       "      <td>delmartian</td>\n",
       "      <td>1</td>\n",
       "      <td>1</td>\n",
       "      <td>1</td>\n",
       "      <td>1303862400</td>\n",
       "      <td>Good Quality Dog Food</td>\n",
       "      <td>I have bought several of the Vitality canned d...</td>\n",
       "    </tr>\n",
       "    <tr>\n",
       "      <th>1</th>\n",
       "      <td>2</td>\n",
       "      <td>B00813GRG4</td>\n",
       "      <td>A1D87F6ZCVE5NK</td>\n",
       "      <td>dll pa</td>\n",
       "      <td>0</td>\n",
       "      <td>0</td>\n",
       "      <td>0</td>\n",
       "      <td>1346976000</td>\n",
       "      <td>Not as Advertised</td>\n",
       "      <td>Product arrived labeled as Jumbo Salted Peanut...</td>\n",
       "    </tr>\n",
       "    <tr>\n",
       "      <th>2</th>\n",
       "      <td>3</td>\n",
       "      <td>B000LQOCH0</td>\n",
       "      <td>ABXLMWJIXXAIN</td>\n",
       "      <td>Natalia Corres \"Natalia Corres\"</td>\n",
       "      <td>1</td>\n",
       "      <td>1</td>\n",
       "      <td>1</td>\n",
       "      <td>1219017600</td>\n",
       "      <td>\"Delight\" says it all</td>\n",
       "      <td>This is a confection that has been around a fe...</td>\n",
       "    </tr>\n",
       "  </tbody>\n",
       "</table>\n",
       "</div>"
      ],
      "text/plain": [
       "   Id   ProductId          UserId                      ProfileName  \\\n",
       "0   1  B001E4KFG0  A3SGXH7AUHU8GW                       delmartian   \n",
       "1   2  B00813GRG4  A1D87F6ZCVE5NK                           dll pa   \n",
       "2   3  B000LQOCH0   ABXLMWJIXXAIN  Natalia Corres \"Natalia Corres\"   \n",
       "\n",
       "   HelpfulnessNumerator  HelpfulnessDenominator  Score        Time  \\\n",
       "0                     1                       1      1  1303862400   \n",
       "1                     0                       0      0  1346976000   \n",
       "2                     1                       1      1  1219017600   \n",
       "\n",
       "                 Summary                                               Text  \n",
       "0  Good Quality Dog Food  I have bought several of the Vitality canned d...  \n",
       "1      Not as Advertised  Product arrived labeled as Jumbo Salted Peanut...  \n",
       "2  \"Delight\" says it all  This is a confection that has been around a fe...  "
      ]
     },
     "execution_count": 92,
     "metadata": {
      "tags": []
     },
     "output_type": "execute_result"
    }
   ],
   "source": [
    "# using SQLite Table to read data.\n",
    "con = sqlite3.connect('/content/database.sqlite')\n",
    "\n",
    "# filtering only positive and negative reviews i.e. \n",
    "# not taking into consideration those reviews with Score=3\n",
    "# SELECT * FROM Reviews WHERE Score != 3 LIMIT 500000, will give top 500000 data points\n",
    "# you can change the number to any other number based on your computing power\n",
    "\n",
    "# filtered_data = pd.read_sql_query(\"\"\" SELECT * FROM Reviews WHERE Score != 3 LIMIT 500000\"\"\", con) \n",
    "# for tsne assignment you can take 5k data points\n",
    "#con = pd.read_csv('content/Reviews.csv')\n",
    "filtered_data = pd.read_sql_query(\"\"\" SELECT * FROM Reviews WHERE Score != 3\"\"\", con) \n",
    "\n",
    "# Give reviews with Score>3 a positive rating(1), and reviews with a score<3 a negative rating(0).\n",
    "def partition(x):\n",
    "    if x < 3:\n",
    "        return 0\n",
    "    return 1\n",
    "\n",
    "#changing reviews with score less than 3 to be positive and vice-versa\n",
    "actualScore = filtered_data['Score']\n",
    "positiveNegative = actualScore.map(partition) \n",
    "filtered_data['Score'] = positiveNegative\n",
    "print(\"Number of data points in our data\", filtered_data.shape)\n",
    "filtered_data.head(3)"
   ]
  },
  {
   "cell_type": "code",
   "execution_count": 0,
   "metadata": {
    "ExecuteTime": {
     "end_time": "2019-03-13T09:28:21.960712Z",
     "start_time": "2019-03-13T09:28:16.983762Z"
    },
    "colab": {},
    "colab_type": "code",
    "id": "ZLasp3QxJkjS"
   },
   "outputs": [],
   "source": [
    "display = pd.read_sql_query(\"\"\"\n",
    "SELECT UserId, ProductId, ProfileName, Time, Score, Text, COUNT(*)\n",
    "FROM Reviews\n",
    "GROUP BY UserId\n",
    "HAVING COUNT(*)>1\n",
    "\"\"\", con)"
   ]
  },
  {
   "cell_type": "code",
   "execution_count": 94,
   "metadata": {
    "ExecuteTime": {
     "end_time": "2019-03-13T09:28:21.976650Z",
     "start_time": "2019-03-13T09:28:21.962613Z"
    },
    "colab": {
     "base_uri": "https://localhost:8080/",
     "height": 306
    },
    "colab_type": "code",
    "id": "pHzk_lUkJkjW",
    "outputId": "7b79615a-c9ac-4019-cbd2-12d5a7bfd347",
    "scrolled": false
   },
   "outputs": [
    {
     "name": "stdout",
     "output_type": "stream",
     "text": [
      "(80668, 7)\n"
     ]
    },
    {
     "data": {
      "text/html": [
       "<div>\n",
       "<style scoped>\n",
       "    .dataframe tbody tr th:only-of-type {\n",
       "        vertical-align: middle;\n",
       "    }\n",
       "\n",
       "    .dataframe tbody tr th {\n",
       "        vertical-align: top;\n",
       "    }\n",
       "\n",
       "    .dataframe thead th {\n",
       "        text-align: right;\n",
       "    }\n",
       "</style>\n",
       "<table border=\"1\" class=\"dataframe\">\n",
       "  <thead>\n",
       "    <tr style=\"text-align: right;\">\n",
       "      <th></th>\n",
       "      <th>UserId</th>\n",
       "      <th>ProductId</th>\n",
       "      <th>ProfileName</th>\n",
       "      <th>Time</th>\n",
       "      <th>Score</th>\n",
       "      <th>Text</th>\n",
       "      <th>COUNT(*)</th>\n",
       "    </tr>\n",
       "  </thead>\n",
       "  <tbody>\n",
       "    <tr>\n",
       "      <th>0</th>\n",
       "      <td>#oc-R115TNMSPFT9I7</td>\n",
       "      <td>B007Y59HVM</td>\n",
       "      <td>Breyton</td>\n",
       "      <td>1331510400</td>\n",
       "      <td>2</td>\n",
       "      <td>Overall its just OK when considering the price...</td>\n",
       "      <td>2</td>\n",
       "    </tr>\n",
       "    <tr>\n",
       "      <th>1</th>\n",
       "      <td>#oc-R11D9D7SHXIJB9</td>\n",
       "      <td>B005HG9ET0</td>\n",
       "      <td>Louis E. Emory \"hoppy\"</td>\n",
       "      <td>1342396800</td>\n",
       "      <td>5</td>\n",
       "      <td>My wife has recurring extreme muscle spasms, u...</td>\n",
       "      <td>3</td>\n",
       "    </tr>\n",
       "    <tr>\n",
       "      <th>2</th>\n",
       "      <td>#oc-R11DNU2NBKQ23Z</td>\n",
       "      <td>B007Y59HVM</td>\n",
       "      <td>Kim Cieszykowski</td>\n",
       "      <td>1348531200</td>\n",
       "      <td>1</td>\n",
       "      <td>This coffee is horrible and unfortunately not ...</td>\n",
       "      <td>2</td>\n",
       "    </tr>\n",
       "    <tr>\n",
       "      <th>3</th>\n",
       "      <td>#oc-R11O5J5ZVQE25C</td>\n",
       "      <td>B005HG9ET0</td>\n",
       "      <td>Penguin Chick</td>\n",
       "      <td>1346889600</td>\n",
       "      <td>5</td>\n",
       "      <td>This will be the bottle that you grab from the...</td>\n",
       "      <td>3</td>\n",
       "    </tr>\n",
       "    <tr>\n",
       "      <th>4</th>\n",
       "      <td>#oc-R12KPBODL2B5ZD</td>\n",
       "      <td>B007OSBE1U</td>\n",
       "      <td>Christopher P. Presta</td>\n",
       "      <td>1348617600</td>\n",
       "      <td>1</td>\n",
       "      <td>I didnt like this coffee. Instead of telling y...</td>\n",
       "      <td>2</td>\n",
       "    </tr>\n",
       "  </tbody>\n",
       "</table>\n",
       "</div>"
      ],
      "text/plain": [
       "               UserId   ProductId             ProfileName        Time  Score  \\\n",
       "0  #oc-R115TNMSPFT9I7  B007Y59HVM                 Breyton  1331510400      2   \n",
       "1  #oc-R11D9D7SHXIJB9  B005HG9ET0  Louis E. Emory \"hoppy\"  1342396800      5   \n",
       "2  #oc-R11DNU2NBKQ23Z  B007Y59HVM        Kim Cieszykowski  1348531200      1   \n",
       "3  #oc-R11O5J5ZVQE25C  B005HG9ET0           Penguin Chick  1346889600      5   \n",
       "4  #oc-R12KPBODL2B5ZD  B007OSBE1U   Christopher P. Presta  1348617600      1   \n",
       "\n",
       "                                                Text  COUNT(*)  \n",
       "0  Overall its just OK when considering the price...         2  \n",
       "1  My wife has recurring extreme muscle spasms, u...         3  \n",
       "2  This coffee is horrible and unfortunately not ...         2  \n",
       "3  This will be the bottle that you grab from the...         3  \n",
       "4  I didnt like this coffee. Instead of telling y...         2  "
      ]
     },
     "execution_count": 94,
     "metadata": {
      "tags": []
     },
     "output_type": "execute_result"
    }
   ],
   "source": [
    "print(display.shape)\n",
    "display.head()"
   ]
  },
  {
   "cell_type": "code",
   "execution_count": 95,
   "metadata": {
    "ExecuteTime": {
     "end_time": "2019-03-13T09:28:22.084933Z",
     "start_time": "2019-03-13T09:28:21.978656Z"
    },
    "colab": {
     "base_uri": "https://localhost:8080/",
     "height": 97
    },
    "colab_type": "code",
    "id": "HUsn2lg8Jkjb",
    "outputId": "c16bc2c5-1364-4634-a1f5-ec747a10ef49"
   },
   "outputs": [
    {
     "data": {
      "text/html": [
       "<div>\n",
       "<style scoped>\n",
       "    .dataframe tbody tr th:only-of-type {\n",
       "        vertical-align: middle;\n",
       "    }\n",
       "\n",
       "    .dataframe tbody tr th {\n",
       "        vertical-align: top;\n",
       "    }\n",
       "\n",
       "    .dataframe thead th {\n",
       "        text-align: right;\n",
       "    }\n",
       "</style>\n",
       "<table border=\"1\" class=\"dataframe\">\n",
       "  <thead>\n",
       "    <tr style=\"text-align: right;\">\n",
       "      <th></th>\n",
       "      <th>UserId</th>\n",
       "      <th>ProductId</th>\n",
       "      <th>ProfileName</th>\n",
       "      <th>Time</th>\n",
       "      <th>Score</th>\n",
       "      <th>Text</th>\n",
       "      <th>COUNT(*)</th>\n",
       "    </tr>\n",
       "  </thead>\n",
       "  <tbody>\n",
       "    <tr>\n",
       "      <th>80638</th>\n",
       "      <td>AZY10LLTJ71NX</td>\n",
       "      <td>B006P7E5ZI</td>\n",
       "      <td>undertheshrine \"undertheshrine\"</td>\n",
       "      <td>1334707200</td>\n",
       "      <td>5</td>\n",
       "      <td>I was recommended to try green tea extract to ...</td>\n",
       "      <td>5</td>\n",
       "    </tr>\n",
       "  </tbody>\n",
       "</table>\n",
       "</div>"
      ],
      "text/plain": [
       "              UserId   ProductId                      ProfileName        Time  \\\n",
       "80638  AZY10LLTJ71NX  B006P7E5ZI  undertheshrine \"undertheshrine\"  1334707200   \n",
       "\n",
       "       Score                                               Text  COUNT(*)  \n",
       "80638      5  I was recommended to try green tea extract to ...         5  "
      ]
     },
     "execution_count": 95,
     "metadata": {
      "tags": []
     },
     "output_type": "execute_result"
    }
   ],
   "source": [
    "display[display['UserId']=='AZY10LLTJ71NX']"
   ]
  },
  {
   "cell_type": "code",
   "execution_count": 96,
   "metadata": {
    "ExecuteTime": {
     "end_time": "2019-03-13T09:28:22.249366Z",
     "start_time": "2019-03-13T09:28:22.087940Z"
    },
    "colab": {
     "base_uri": "https://localhost:8080/",
     "height": 34
    },
    "colab_type": "code",
    "id": "CyPhzHZKJkjf",
    "outputId": "7825c37a-0b72-4de4-cab4-d03bb11dc90e"
   },
   "outputs": [
    {
     "data": {
      "text/plain": [
       "393063"
      ]
     },
     "execution_count": 96,
     "metadata": {
      "tags": []
     },
     "output_type": "execute_result"
    }
   ],
   "source": [
    "display['COUNT(*)'].sum()"
   ]
  },
  {
   "cell_type": "markdown",
   "metadata": {
    "colab_type": "text",
    "id": "y22fy_WtJkji"
   },
   "source": [
    "#  [2] Exploratory Data Analysis"
   ]
  },
  {
   "cell_type": "markdown",
   "metadata": {
    "colab_type": "text",
    "id": "ZqpW3tWPJkjl"
   },
   "source": [
    "## [2.1] Data Cleaning: Deduplication\n",
    "\n",
    "It is observed (as shown in the table below) that the reviews data had many duplicate entries. Hence it was necessary to remove duplicates in order to get unbiased results for the analysis of the data.  Following is an example:"
   ]
  },
  {
   "cell_type": "code",
   "execution_count": 97,
   "metadata": {
    "ExecuteTime": {
     "end_time": "2019-03-13T09:28:22.814861Z",
     "start_time": "2019-03-13T09:28:22.251374Z"
    },
    "colab": {
     "base_uri": "https://localhost:8080/",
     "height": 564
    },
    "colab_type": "code",
    "id": "fmlu_oooJkjl",
    "outputId": "3d9dacaa-178a-4f26-85a8-173780b1bead",
    "scrolled": false
   },
   "outputs": [
    {
     "data": {
      "text/html": [
       "<div>\n",
       "<style scoped>\n",
       "    .dataframe tbody tr th:only-of-type {\n",
       "        vertical-align: middle;\n",
       "    }\n",
       "\n",
       "    .dataframe tbody tr th {\n",
       "        vertical-align: top;\n",
       "    }\n",
       "\n",
       "    .dataframe thead th {\n",
       "        text-align: right;\n",
       "    }\n",
       "</style>\n",
       "<table border=\"1\" class=\"dataframe\">\n",
       "  <thead>\n",
       "    <tr style=\"text-align: right;\">\n",
       "      <th></th>\n",
       "      <th>Id</th>\n",
       "      <th>ProductId</th>\n",
       "      <th>UserId</th>\n",
       "      <th>ProfileName</th>\n",
       "      <th>HelpfulnessNumerator</th>\n",
       "      <th>HelpfulnessDenominator</th>\n",
       "      <th>Score</th>\n",
       "      <th>Time</th>\n",
       "      <th>Summary</th>\n",
       "      <th>Text</th>\n",
       "    </tr>\n",
       "  </thead>\n",
       "  <tbody>\n",
       "    <tr>\n",
       "      <th>0</th>\n",
       "      <td>78445</td>\n",
       "      <td>B000HDL1RQ</td>\n",
       "      <td>AR5J8UI46CURR</td>\n",
       "      <td>Geetha Krishnan</td>\n",
       "      <td>2</td>\n",
       "      <td>2</td>\n",
       "      <td>5</td>\n",
       "      <td>1199577600</td>\n",
       "      <td>LOACKER QUADRATINI VANILLA WAFERS</td>\n",
       "      <td>DELICIOUS WAFERS. I FIND THAT EUROPEAN WAFERS ...</td>\n",
       "    </tr>\n",
       "    <tr>\n",
       "      <th>1</th>\n",
       "      <td>138317</td>\n",
       "      <td>B000HDOPYC</td>\n",
       "      <td>AR5J8UI46CURR</td>\n",
       "      <td>Geetha Krishnan</td>\n",
       "      <td>2</td>\n",
       "      <td>2</td>\n",
       "      <td>5</td>\n",
       "      <td>1199577600</td>\n",
       "      <td>LOACKER QUADRATINI VANILLA WAFERS</td>\n",
       "      <td>DELICIOUS WAFERS. I FIND THAT EUROPEAN WAFERS ...</td>\n",
       "    </tr>\n",
       "    <tr>\n",
       "      <th>2</th>\n",
       "      <td>138277</td>\n",
       "      <td>B000HDOPYM</td>\n",
       "      <td>AR5J8UI46CURR</td>\n",
       "      <td>Geetha Krishnan</td>\n",
       "      <td>2</td>\n",
       "      <td>2</td>\n",
       "      <td>5</td>\n",
       "      <td>1199577600</td>\n",
       "      <td>LOACKER QUADRATINI VANILLA WAFERS</td>\n",
       "      <td>DELICIOUS WAFERS. I FIND THAT EUROPEAN WAFERS ...</td>\n",
       "    </tr>\n",
       "    <tr>\n",
       "      <th>3</th>\n",
       "      <td>73791</td>\n",
       "      <td>B000HDOPZG</td>\n",
       "      <td>AR5J8UI46CURR</td>\n",
       "      <td>Geetha Krishnan</td>\n",
       "      <td>2</td>\n",
       "      <td>2</td>\n",
       "      <td>5</td>\n",
       "      <td>1199577600</td>\n",
       "      <td>LOACKER QUADRATINI VANILLA WAFERS</td>\n",
       "      <td>DELICIOUS WAFERS. I FIND THAT EUROPEAN WAFERS ...</td>\n",
       "    </tr>\n",
       "    <tr>\n",
       "      <th>4</th>\n",
       "      <td>155049</td>\n",
       "      <td>B000PAQ75C</td>\n",
       "      <td>AR5J8UI46CURR</td>\n",
       "      <td>Geetha Krishnan</td>\n",
       "      <td>2</td>\n",
       "      <td>2</td>\n",
       "      <td>5</td>\n",
       "      <td>1199577600</td>\n",
       "      <td>LOACKER QUADRATINI VANILLA WAFERS</td>\n",
       "      <td>DELICIOUS WAFERS. I FIND THAT EUROPEAN WAFERS ...</td>\n",
       "    </tr>\n",
       "  </tbody>\n",
       "</table>\n",
       "</div>"
      ],
      "text/plain": [
       "       Id   ProductId         UserId      ProfileName  HelpfulnessNumerator  \\\n",
       "0   78445  B000HDL1RQ  AR5J8UI46CURR  Geetha Krishnan                     2   \n",
       "1  138317  B000HDOPYC  AR5J8UI46CURR  Geetha Krishnan                     2   \n",
       "2  138277  B000HDOPYM  AR5J8UI46CURR  Geetha Krishnan                     2   \n",
       "3   73791  B000HDOPZG  AR5J8UI46CURR  Geetha Krishnan                     2   \n",
       "4  155049  B000PAQ75C  AR5J8UI46CURR  Geetha Krishnan                     2   \n",
       "\n",
       "   HelpfulnessDenominator  Score        Time  \\\n",
       "0                       2      5  1199577600   \n",
       "1                       2      5  1199577600   \n",
       "2                       2      5  1199577600   \n",
       "3                       2      5  1199577600   \n",
       "4                       2      5  1199577600   \n",
       "\n",
       "                             Summary  \\\n",
       "0  LOACKER QUADRATINI VANILLA WAFERS   \n",
       "1  LOACKER QUADRATINI VANILLA WAFERS   \n",
       "2  LOACKER QUADRATINI VANILLA WAFERS   \n",
       "3  LOACKER QUADRATINI VANILLA WAFERS   \n",
       "4  LOACKER QUADRATINI VANILLA WAFERS   \n",
       "\n",
       "                                                Text  \n",
       "0  DELICIOUS WAFERS. I FIND THAT EUROPEAN WAFERS ...  \n",
       "1  DELICIOUS WAFERS. I FIND THAT EUROPEAN WAFERS ...  \n",
       "2  DELICIOUS WAFERS. I FIND THAT EUROPEAN WAFERS ...  \n",
       "3  DELICIOUS WAFERS. I FIND THAT EUROPEAN WAFERS ...  \n",
       "4  DELICIOUS WAFERS. I FIND THAT EUROPEAN WAFERS ...  "
      ]
     },
     "execution_count": 97,
     "metadata": {
      "tags": []
     },
     "output_type": "execute_result"
    }
   ],
   "source": [
    "display= pd.read_sql_query(\"\"\"\n",
    "SELECT *\n",
    "FROM Reviews\n",
    "WHERE Score != 3 AND UserId=\"AR5J8UI46CURR\"\n",
    "ORDER BY ProductID\n",
    "\"\"\", con)\n",
    "display.head()"
   ]
  },
  {
   "cell_type": "markdown",
   "metadata": {
    "colab_type": "text",
    "id": "pvogJHEyJkjq"
   },
   "source": [
    "As it can be seen above that same user has multiple reviews with same values for HelpfulnessNumerator, HelpfulnessDenominator, Score, Time, Summary and Text and on doing analysis it was found that <br>\n",
    "<br> \n",
    "ProductId=B000HDOPZG was Loacker Quadratini Vanilla Wafer Cookies, 8.82-Ounce Packages (Pack of 8)<br>\n",
    "<br> \n",
    "ProductId=B000HDL1RQ was Loacker Quadratini Lemon Wafer Cookies, 8.82-Ounce Packages (Pack of 8) and so on<br>\n",
    "\n",
    "It was inferred after analysis that reviews with same parameters other than ProductId belonged to the same product just having different flavour or quantity. Hence in order to reduce redundancy it was decided to eliminate the rows having same parameters.<br>\n",
    "\n",
    "The method used for the same was that we first sort the data according to ProductId and then just keep the first similar product review and delelte the others. for eg. in the above just the review for ProductId=B000HDL1RQ remains. This method ensures that there is only one representative for each product and deduplication without sorting would lead to possibility of different representatives still existing for the same product."
   ]
  },
  {
   "cell_type": "code",
   "execution_count": 0,
   "metadata": {
    "ExecuteTime": {
     "end_time": "2019-03-13T09:28:23.465669Z",
     "start_time": "2019-03-13T09:28:22.816866Z"
    },
    "colab": {},
    "colab_type": "code",
    "id": "LAWOrfBaJkjr"
   },
   "outputs": [],
   "source": [
    "#Sorting data according to ProductId in ascending order\n",
    "sorted_data=filtered_data.sort_values('ProductId', axis=0, ascending=True, inplace=False, kind='quicksort', na_position='last')"
   ]
  },
  {
   "cell_type": "code",
   "execution_count": 99,
   "metadata": {
    "ExecuteTime": {
     "end_time": "2019-03-13T09:28:24.567549Z",
     "start_time": "2019-03-13T09:28:23.467644Z"
    },
    "colab": {
     "base_uri": "https://localhost:8080/",
     "height": 34
    },
    "colab_type": "code",
    "id": "dfaQob28Jkju",
    "outputId": "5ed2de29-5c80-4a1d-f64b-ffa3814d5b3f"
   },
   "outputs": [
    {
     "data": {
      "text/plain": [
       "(364173, 10)"
      ]
     },
     "execution_count": 99,
     "metadata": {
      "tags": []
     },
     "output_type": "execute_result"
    }
   ],
   "source": [
    "#Deduplication of entries\n",
    "final=sorted_data.drop_duplicates(subset={\"UserId\",\"ProfileName\",\"Time\",\"Text\"}, keep='first', inplace=False)\n",
    "final.shape"
   ]
  },
  {
   "cell_type": "code",
   "execution_count": 100,
   "metadata": {
    "ExecuteTime": {
     "end_time": "2019-03-13T09:28:24.575570Z",
     "start_time": "2019-03-13T09:28:24.569554Z"
    },
    "colab": {
     "base_uri": "https://localhost:8080/",
     "height": 34
    },
    "colab_type": "code",
    "id": "9QVxT6oxJkjx",
    "outputId": "616b967a-6461-49b1-fc89-7ab52400db82"
   },
   "outputs": [
    {
     "data": {
      "text/plain": [
       "69.25890143662969"
      ]
     },
     "execution_count": 100,
     "metadata": {
      "tags": []
     },
     "output_type": "execute_result"
    }
   ],
   "source": [
    "#Checking to see how much % of data still remains\n",
    "(final['Id'].size*1.0)/(filtered_data['Id'].size*1.0)*100"
   ]
  },
  {
   "cell_type": "markdown",
   "metadata": {
    "colab_type": "text",
    "id": "qVaxONHLJkj1"
   },
   "source": [
    "<b>Observation:-</b> It was also seen that in two rows given below the value of HelpfulnessNumerator is greater than HelpfulnessDenominator which is not practically possible hence these two rows too are removed from calcualtions"
   ]
  },
  {
   "cell_type": "code",
   "execution_count": 101,
   "metadata": {
    "ExecuteTime": {
     "end_time": "2019-03-13T09:28:24.680564Z",
     "start_time": "2019-03-13T09:28:24.577575Z"
    },
    "colab": {
     "base_uri": "https://localhost:8080/",
     "height": 335
    },
    "colab_type": "code",
    "id": "vLoqfOjcJkj1",
    "outputId": "2a406c30-73f3-4e22-e785-7b03f7df0993"
   },
   "outputs": [
    {
     "data": {
      "text/html": [
       "<div>\n",
       "<style scoped>\n",
       "    .dataframe tbody tr th:only-of-type {\n",
       "        vertical-align: middle;\n",
       "    }\n",
       "\n",
       "    .dataframe tbody tr th {\n",
       "        vertical-align: top;\n",
       "    }\n",
       "\n",
       "    .dataframe thead th {\n",
       "        text-align: right;\n",
       "    }\n",
       "</style>\n",
       "<table border=\"1\" class=\"dataframe\">\n",
       "  <thead>\n",
       "    <tr style=\"text-align: right;\">\n",
       "      <th></th>\n",
       "      <th>Id</th>\n",
       "      <th>ProductId</th>\n",
       "      <th>UserId</th>\n",
       "      <th>ProfileName</th>\n",
       "      <th>HelpfulnessNumerator</th>\n",
       "      <th>HelpfulnessDenominator</th>\n",
       "      <th>Score</th>\n",
       "      <th>Time</th>\n",
       "      <th>Summary</th>\n",
       "      <th>Text</th>\n",
       "    </tr>\n",
       "  </thead>\n",
       "  <tbody>\n",
       "    <tr>\n",
       "      <th>0</th>\n",
       "      <td>64422</td>\n",
       "      <td>B000MIDROQ</td>\n",
       "      <td>A161DK06JJMCYF</td>\n",
       "      <td>J. E. Stephens \"Jeanne\"</td>\n",
       "      <td>3</td>\n",
       "      <td>1</td>\n",
       "      <td>5</td>\n",
       "      <td>1224892800</td>\n",
       "      <td>Bought This for My Son at College</td>\n",
       "      <td>My son loves spaghetti so I didn't hesitate or...</td>\n",
       "    </tr>\n",
       "    <tr>\n",
       "      <th>1</th>\n",
       "      <td>44737</td>\n",
       "      <td>B001EQ55RW</td>\n",
       "      <td>A2V0I904FH7ABY</td>\n",
       "      <td>Ram</td>\n",
       "      <td>3</td>\n",
       "      <td>2</td>\n",
       "      <td>4</td>\n",
       "      <td>1212883200</td>\n",
       "      <td>Pure cocoa taste with crunchy almonds inside</td>\n",
       "      <td>It was almost a 'love at first bite' - the per...</td>\n",
       "    </tr>\n",
       "  </tbody>\n",
       "</table>\n",
       "</div>"
      ],
      "text/plain": [
       "      Id   ProductId          UserId              ProfileName  \\\n",
       "0  64422  B000MIDROQ  A161DK06JJMCYF  J. E. Stephens \"Jeanne\"   \n",
       "1  44737  B001EQ55RW  A2V0I904FH7ABY                      Ram   \n",
       "\n",
       "   HelpfulnessNumerator  HelpfulnessDenominator  Score        Time  \\\n",
       "0                     3                       1      5  1224892800   \n",
       "1                     3                       2      4  1212883200   \n",
       "\n",
       "                                        Summary  \\\n",
       "0             Bought This for My Son at College   \n",
       "1  Pure cocoa taste with crunchy almonds inside   \n",
       "\n",
       "                                                Text  \n",
       "0  My son loves spaghetti so I didn't hesitate or...  \n",
       "1  It was almost a 'love at first bite' - the per...  "
      ]
     },
     "execution_count": 101,
     "metadata": {
      "tags": []
     },
     "output_type": "execute_result"
    }
   ],
   "source": [
    "display= pd.read_sql_query(\"\"\"\n",
    "SELECT *\n",
    "FROM Reviews\n",
    "WHERE Score != 3 AND Id=44737 OR Id=64422\n",
    "ORDER BY ProductID\n",
    "\"\"\", con)\n",
    "\n",
    "display.head()"
   ]
  },
  {
   "cell_type": "code",
   "execution_count": 0,
   "metadata": {
    "ExecuteTime": {
     "end_time": "2019-03-13T09:28:24.925211Z",
     "start_time": "2019-03-13T09:28:24.682569Z"
    },
    "colab": {},
    "colab_type": "code",
    "id": "f_185ozFJkj9"
   },
   "outputs": [],
   "source": [
    "final=final[final.HelpfulnessNumerator<=final.HelpfulnessDenominator]"
   ]
  },
  {
   "cell_type": "code",
   "execution_count": 103,
   "metadata": {
    "ExecuteTime": {
     "end_time": "2019-03-13T09:28:24.943259Z",
     "start_time": "2019-03-13T09:28:24.927217Z"
    },
    "colab": {
     "base_uri": "https://localhost:8080/",
     "height": 85
    },
    "colab_type": "code",
    "id": "CofRySJyJkkC",
    "outputId": "9bab50d1-3be9-46f0-c941-1a78a6dc5e8b"
   },
   "outputs": [
    {
     "name": "stdout",
     "output_type": "stream",
     "text": [
      "(364171, 10)\n"
     ]
    },
    {
     "data": {
      "text/plain": [
       "1    307061\n",
       "0     57110\n",
       "Name: Score, dtype: int64"
      ]
     },
     "execution_count": 103,
     "metadata": {
      "tags": []
     },
     "output_type": "execute_result"
    }
   ],
   "source": [
    "#Before starting the next phase of preprocessing lets see the number of entries left\n",
    "print(final.shape)\n",
    "\n",
    "#How many positive and negative reviews are present in our dataset?\n",
    "final['Score'].value_counts()"
   ]
  },
  {
   "cell_type": "code",
   "execution_count": 104,
   "metadata": {
    "ExecuteTime": {
     "end_time": "2019-03-13T09:28:25.209963Z",
     "start_time": "2019-03-13T09:28:24.946267Z"
    },
    "colab": {
     "base_uri": "https://localhost:8080/",
     "height": 284
    },
    "colab_type": "code",
    "id": "SoBGadXCZajO",
    "outputId": "8656862d-d6b1-4571-ad70-0fc7222cada0"
   },
   "outputs": [
    {
     "data": {
      "image/png": "[encoded data removed]",
      "text/plain": [
       "<Figure size 432x288 with 1 Axes>"
      ]
     },
     "metadata": {
      "tags": []
     },
     "output_type": "display_data"
    }
   ],
   "source": [
    "# Code referred from https://stackoverflow.com/questions/31749448/how-to-add-percentages-on-top-of-bars-in-seaborn\n",
    "ax = final['Score'].value_counts().plot(kind='bar', \n",
    "                                         fontsize=13);\n",
    "ax.set_alpha(0.8)\n",
    "ax.set_title(\"Score class distribution\", fontsize=18)\n",
    "ax.set_ylabel(\"Count\", fontsize=18);\n",
    "#ax.set_yticks([0, 5, 10, 15, 20])\n",
    "ax.set_xticklabels(['Positive', 'Negative'], rotation=0, fontsize=11)\n",
    "\n",
    "# create a list to collect the plt.patches data\n",
    "totals = []\n",
    "\n",
    "# find the values and append to list\n",
    "for i in ax.patches:\n",
    "    totals.append(i.get_height())\n",
    "\n",
    "# set individual bar lables using above list\n",
    "total = sum(totals)\n",
    "\n",
    "# set individual bar lables using above list\n",
    "for i in ax.patches:\n",
    "    # Decreasing the i.get_x()+.12 will shift the text to left side and decreasing the i.get_height()-14 will bring the text down\n",
    "    ax.text(i.get_x()+.04, i.get_height()-36000, \\\n",
    "            str(round((i.get_height()/total)*100, 2))+'%', fontsize=20,\n",
    "                color='white')"
   ]
  },
  {
   "cell_type": "markdown",
   "metadata": {
    "_uuid": "ea5e6ac7fa195b93511c5ae405468b1ecba5d4b6",
    "colab_type": "text",
    "id": "S1YPVDKLZajZ"
   },
   "source": [
    "**Observation:** This is an imbalance dataset. There are roughly 84% Positive review and 16% Negative reviews."
   ]
  },
  {
   "cell_type": "markdown",
   "metadata": {
    "colab_type": "text",
    "id": "-fEWeywxJkkI"
   },
   "source": [
    "#  [3] Preprocessing"
   ]
  },
  {
   "cell_type": "markdown",
   "metadata": {
    "colab_type": "text",
    "id": "tzpbt9aOJkkJ"
   },
   "source": [
    "## [3.1].  Preprocessing Review Text\n",
    "\n",
    "Now that we have finished deduplication our data requires some preprocessing before we go on further with analysis and making the prediction model.\n",
    "\n",
    "Hence in the Preprocessing phase we do the following in the order below:-\n",
    "\n",
    "1. Begin by removing the html tags\n",
    "2. Remove any punctuations or limited set of special characters like , or . or # etc.\n",
    "3. Check if the word is made up of english letters and is not alpha-numeric\n",
    "4. Check to see if the length of the word is greater than 2 (as it was researched that there is no adjective in 2-letters)\n",
    "5. Convert the word to lowercase\n",
    "6. Remove Stopwords\n",
    "7. Finally Snowball Stemming the word (it was obsereved to be better than Porter Stemming)<br>\n",
    "\n",
    "After which we collect the words used to describe positive and negative reviews"
   ]
  },
  {
   "cell_type": "code",
   "execution_count": 105,
   "metadata": {
    "ExecuteTime": {
     "end_time": "2019-03-13T09:28:25.237036Z",
     "start_time": "2019-03-13T09:28:25.212976Z"
    },
    "colab": {
     "base_uri": "https://localhost:8080/",
     "height": 173
    },
    "colab_type": "code",
    "id": "YqxBeLk8JkkL",
    "outputId": "21111162-1e28-4465-ba1b-20aefa673e45"
   },
   "outputs": [
    {
     "name": "stdout",
     "output_type": "stream",
     "text": [
      "this witty little book makes my son laugh at loud. i recite it in the car as we're driving along and he always can sing the refrain. he's learned about whales, India, drooping roses:  i love all the new words this book  introduces and the silliness of it all.  this is a classic book i am  willing to bet my son will STILL be able to recite from memory when he is  in college\n",
      "==================================================\n",
      "I was really looking forward to these pods based on the reviews.  Starbucks is good, but I prefer bolder taste.... imagine my surprise when I ordered 2 boxes - both were expired! One expired back in 2005 for gosh sakes.  I admit that Amazon agreed to credit me for cost plus part of shipping, but geez, 2 years expired!!!  I'm hoping to find local San Diego area shoppe that carries pods so that I can try something different than starbucks.\n",
      "==================================================\n",
      "Great ingredients although, chicken should have been 1st rather than chicken broth, the only thing I do not think belongs in it is Canola oil. Canola or rapeseed is not someting a dog would ever find in nature and if it did find rapeseed in nature and eat it, it would poison them. Today's Food industries have convinced the masses that Canola oil is a safe and even better oil than olive or virgin coconut, facts though say otherwise. Until the late 70's it was poisonous until they figured out a way to fix that. I still like it but it could be better.\n",
      "==================================================\n",
      "Can't do sugar.  Have tried scores of SF Syrups.  NONE of them can touch the excellence of this product.<br /><br />Thick, delicious.  Perfect.  3 ingredients: Water, Maltitol, Natural Maple Flavor.  PERIOD.  No chemicals.  No garbage.<br /><br />Have numerous friends & family members hooked on this stuff.  My husband & son, who do NOT like \"sugar free\" prefer this over major label regular syrup.<br /><br />I use this as my SWEETENER in baking: cheesecakes, white brownies, muffins, pumpkin pies, etc... Unbelievably delicious...<br /><br />Can you tell I like it? :)\n",
      "==================================================\n"
     ]
    }
   ],
   "source": [
    "# printing some random reviews\n",
    "sent_0 = final['Text'].values[0]\n",
    "print(sent_0)\n",
    "print(\"=\"*50)\n",
    "\n",
    "sent_1000 = final['Text'].values[1000]\n",
    "print(sent_1000)\n",
    "print(\"=\"*50)\n",
    "\n",
    "sent_1500 = final['Text'].values[1500]\n",
    "print(sent_1500)\n",
    "print(\"=\"*50)\n",
    "\n",
    "sent_4900 = final['Text'].values[4900]\n",
    "print(sent_4900)\n",
    "print(\"=\"*50)"
   ]
  },
  {
   "cell_type": "code",
   "execution_count": 106,
   "metadata": {
    "ExecuteTime": {
     "end_time": "2019-03-13T09:28:25.370389Z",
     "start_time": "2019-03-13T09:28:25.240042Z"
    },
    "colab": {
     "base_uri": "https://localhost:8080/",
     "height": 54
    },
    "colab_type": "code",
    "id": "lWiJ2_9gJkkP",
    "outputId": "a7be1e40-c6d8-452b-fc78-d5b51185e01b"
   },
   "outputs": [
    {
     "name": "stdout",
     "output_type": "stream",
     "text": [
      "this witty little book makes my son laugh at loud. i recite it in the car as we're driving along and he always can sing the refrain. he's learned about whales, India, drooping roses:  i love all the new words this book  introduces and the silliness of it all.  this is a classic book i am  willing to bet my son will STILL be able to recite from memory when he is  in college\n"
     ]
    }
   ],
   "source": [
    "# remove urls from text python: https://stackoverflow.com/a/40823105/4084039\n",
    "sent_0 = re.sub(r\"http\\S+\", \"\", sent_0)\n",
    "sent_1000 = re.sub(r\"http\\S+\", \"\", sent_1000)\n",
    "sent_150 = re.sub(r\"http\\S+\", \"\", sent_1500)\n",
    "sent_4900 = re.sub(r\"http\\S+\", \"\", sent_4900)\n",
    "\n",
    "print(sent_0)"
   ]
  },
  {
   "cell_type": "code",
   "execution_count": 107,
   "metadata": {
    "ExecuteTime": {
     "end_time": "2019-03-13T09:28:25.816948Z",
     "start_time": "2019-03-13T09:28:25.372391Z"
    },
    "colab": {
     "base_uri": "https://localhost:8080/",
     "height": 156
    },
    "colab_type": "code",
    "id": "cpLtZ-lAJkkR",
    "outputId": "847b41c1-7d38-43f3-da50-c231e2f222ae"
   },
   "outputs": [
    {
     "name": "stdout",
     "output_type": "stream",
     "text": [
      "this witty little book makes my son laugh at loud. i recite it in the car as we're driving along and he always can sing the refrain. he's learned about whales, India, drooping roses:  i love all the new words this book  introduces and the silliness of it all.  this is a classic book i am  willing to bet my son will STILL be able to recite from memory when he is  in college\n",
      "==================================================\n",
      "I was really looking forward to these pods based on the reviews.  Starbucks is good, but I prefer bolder taste.... imagine my surprise when I ordered 2 boxes - both were expired! One expired back in 2005 for gosh sakes.  I admit that Amazon agreed to credit me for cost plus part of shipping, but geez, 2 years expired!!!  I'm hoping to find local San Diego area shoppe that carries pods so that I can try something different than starbucks.\n",
      "==================================================\n",
      "Great ingredients although, chicken should have been 1st rather than chicken broth, the only thing I do not think belongs in it is Canola oil. Canola or rapeseed is not someting a dog would ever find in nature and if it did find rapeseed in nature and eat it, it would poison them. Today's Food industries have convinced the masses that Canola oil is a safe and even better oil than olive or virgin coconut, facts though say otherwise. Until the late 70's it was poisonous until they figured out a way to fix that. I still like it but it could be better.\n",
      "==================================================\n",
      "Can't do sugar.  Have tried scores of SF Syrups.  NONE of them can touch the excellence of this product.Thick, delicious.  Perfect.  3 ingredients: Water, Maltitol, Natural Maple Flavor.  PERIOD.  No chemicals.  No garbage.Have numerous friends & family members hooked on this stuff.  My husband & son, who do NOT like \"sugar free\" prefer this over major label regular syrup.I use this as my SWEETENER in baking: cheesecakes, white brownies, muffins, pumpkin pies, etc... Unbelievably delicious...Can you tell I like it? :)\n"
     ]
    }
   ],
   "source": [
    "# https://stackoverflow.com/questions/16206380/python-beautifulsoup-how-to-remove-all-tags-from-an-element\n",
    "from bs4 import BeautifulSoup\n",
    "\n",
    "soup = BeautifulSoup(sent_0, 'lxml')\n",
    "text = soup.get_text()\n",
    "print(text)\n",
    "print(\"=\"*50)\n",
    "\n",
    "soup = BeautifulSoup(sent_1000, 'lxml')\n",
    "text = soup.get_text()\n",
    "print(text)\n",
    "print(\"=\"*50)\n",
    "\n",
    "soup = BeautifulSoup(sent_1500, 'lxml')\n",
    "text = soup.get_text()\n",
    "print(text)\n",
    "print(\"=\"*50)\n",
    "\n",
    "soup = BeautifulSoup(sent_4900, 'lxml')\n",
    "text = soup.get_text()\n",
    "print(text)"
   ]
  },
  {
   "cell_type": "code",
   "execution_count": 0,
   "metadata": {
    "ExecuteTime": {
     "end_time": "2019-03-13T09:28:25.826975Z",
     "start_time": "2019-03-13T09:28:25.821964Z"
    },
    "colab": {},
    "colab_type": "code",
    "id": "HYBbtiCMJkkW"
   },
   "outputs": [],
   "source": [
    "# https://stackoverflow.com/a/47091490/4084039\n",
    "import re\n",
    "\n",
    "def decontracted(phrase):\n",
    "    # specific\n",
    "    phrase = re.sub(r\"won't\", \"will not\", phrase)\n",
    "    phrase = re.sub(r\"can\\'t\", \"can not\", phrase)\n",
    "\n",
    "    # general\n",
    "    phrase = re.sub(r\"n\\'t\", \" not\", phrase)\n",
    "    phrase = re.sub(r\"\\'re\", \" are\", phrase)\n",
    "    phrase = re.sub(r\"\\'s\", \" is\", phrase)\n",
    "    phrase = re.sub(r\"\\'d\", \" would\", phrase)\n",
    "    phrase = re.sub(r\"\\'ll\", \" will\", phrase)\n",
    "    phrase = re.sub(r\"\\'t\", \" not\", phrase)\n",
    "    phrase = re.sub(r\"\\'ve\", \" have\", phrase)\n",
    "    phrase = re.sub(r\"\\'m\", \" am\", phrase)\n",
    "    return phrase"
   ]
  },
  {
   "cell_type": "code",
   "execution_count": 109,
   "metadata": {
    "ExecuteTime": {
     "end_time": "2019-03-13T09:28:25.920056Z",
     "start_time": "2019-03-13T09:28:25.828980Z"
    },
    "colab": {
     "base_uri": "https://localhost:8080/",
     "height": 71
    },
    "colab_type": "code",
    "id": "WPQSZurTJkkY",
    "outputId": "cf456cd3-125b-4120-9e61-3775ce4a91be"
   },
   "outputs": [
    {
     "name": "stdout",
     "output_type": "stream",
     "text": [
      "Great ingredients although, chicken should have been 1st rather than chicken broth, the only thing I do not think belongs in it is Canola oil. Canola or rapeseed is not someting a dog would ever find in nature and if it did find rapeseed in nature and eat it, it would poison them. Today is Food industries have convinced the masses that Canola oil is a safe and even better oil than olive or virgin coconut, facts though say otherwise. Until the late 70 is it was poisonous until they figured out a way to fix that. I still like it but it could be better.\n",
      "==================================================\n"
     ]
    }
   ],
   "source": [
    "sent_1500 = decontracted(sent_1500)\n",
    "print(sent_1500)\n",
    "print(\"=\"*50)"
   ]
  },
  {
   "cell_type": "code",
   "execution_count": 110,
   "metadata": {
    "ExecuteTime": {
     "end_time": "2019-03-13T09:28:26.009292Z",
     "start_time": "2019-03-13T09:28:25.923064Z"
    },
    "colab": {
     "base_uri": "https://localhost:8080/",
     "height": 54
    },
    "colab_type": "code",
    "id": "6bakeyaQJkkb",
    "outputId": "b7fe39a8-3fdd-4727-a35c-e127566fa305"
   },
   "outputs": [
    {
     "name": "stdout",
     "output_type": "stream",
     "text": [
      "this witty little book makes my son laugh at loud. i recite it in the car as we're driving along and he always can sing the refrain. he's learned about whales, India, drooping roses:  i love all the new words this book  introduces and the silliness of it all.  this is a classic book i am  willing to bet my son will STILL be able to recite from memory when he is  in college\n"
     ]
    }
   ],
   "source": [
    "#remove words with numbers python: https://stackoverflow.com/a/18082370/4084039\n",
    "sent_0 = re.sub(\"\\S*\\d\\S*\", \"\", sent_0).strip()\n",
    "print(sent_0)"
   ]
  },
  {
   "cell_type": "code",
   "execution_count": 111,
   "metadata": {
    "ExecuteTime": {
     "end_time": "2019-03-13T09:28:26.093514Z",
     "start_time": "2019-03-13T09:28:26.011297Z"
    },
    "colab": {
     "base_uri": "https://localhost:8080/",
     "height": 54
    },
    "colab_type": "code",
    "id": "dMqqVqadJkkg",
    "outputId": "f6cdf5f6-f249-4533-b293-7d635471c800"
   },
   "outputs": [
    {
     "name": "stdout",
     "output_type": "stream",
     "text": [
      "Great ingredients although chicken should have been 1st rather than chicken broth the only thing I do not think belongs in it is Canola oil Canola or rapeseed is not someting a dog would ever find in nature and if it did find rapeseed in nature and eat it it would poison them Today is Food industries have convinced the masses that Canola oil is a safe and even better oil than olive or virgin coconut facts though say otherwise Until the late 70 is it was poisonous until they figured out a way to fix that I still like it but it could be better \n"
     ]
    }
   ],
   "source": [
    "#remove spacial character: https://stackoverflow.com/a/5843547/4084039\n",
    "sent_1500 = re.sub('[^A-Za-z0-9]+', ' ', sent_1500)\n",
    "print(sent_1500)"
   ]
  },
  {
   "cell_type": "code",
   "execution_count": 0,
   "metadata": {
    "ExecuteTime": {
     "end_time": "2019-03-13T09:28:26.207817Z",
     "start_time": "2019-03-13T09:28:26.096522Z"
    },
    "colab": {},
    "colab_type": "code",
    "id": "bvEoXB5NJkkk"
   },
   "outputs": [],
   "source": [
    "# https://gist.github.com/sebleier/554280\n",
    "# we are removing the words from the stop words list: 'no', 'nor', 'not'\n",
    "# <br /><br /> ==> after the above steps, we are getting \"br br\"\n",
    "# we are including them into stop words list\n",
    "# instead of <br /> if we have <br/> these tags would have revmoved in the 1st step\n",
    "\n",
    "stopwords= set(['br', 'the', 'i', 'me', 'my', 'myself', 'we', 'our', 'ours', 'ourselves', 'you', \"you're\", \"you've\",\\\n",
    "            \"you'll\", \"you'd\", 'your', 'yours', 'yourself', 'yourselves', 'he', 'him', 'his', 'himself', \\\n",
    "            'she', \"she's\", 'her', 'hers', 'herself', 'it', \"it's\", 'its', 'itself', 'they', 'them', 'their',\\\n",
    "            'theirs', 'themselves', 'what', 'which', 'who', 'whom', 'this', 'that', \"that'll\", 'these', 'those', \\\n",
    "            'am', 'is', 'are', 'was', 'were', 'be', 'been', 'being', 'have', 'has', 'had', 'having', 'do', 'does', \\\n",
    "            'did', 'doing', 'a', 'an', 'the', 'and', 'but', 'if', 'or', 'because', 'as', 'until', 'while', 'of', \\\n",
    "            'at', 'by', 'for', 'with', 'about', 'against', 'between', 'into', 'through', 'during', 'before', 'after',\\\n",
    "            'above', 'below', 'to', 'from', 'up', 'down', 'in', 'out', 'on', 'off', 'over', 'under', 'again', 'further',\\\n",
    "            'then', 'once', 'here', 'there', 'when', 'where', 'why', 'how', 'all', 'any', 'both', 'each', 'few', 'more',\\\n",
    "            'most', 'other', 'some', 'such', 'only', 'own', 'same', 'so', 'than', 'too', 'very', \\\n",
    "            's', 't', 'can', 'will', 'just', 'don', \"don't\", 'should', \"should've\", 'now', 'd', 'll', 'm', 'o', 're', \\\n",
    "            've', 'y', 'ain', 'aren', \"aren't\", 'couldn', \"couldn't\", 'didn', \"didn't\", 'doesn', \"doesn't\", 'hadn',\\\n",
    "            \"hadn't\", 'hasn', \"hasn't\", 'haven', \"haven't\", 'isn', \"isn't\", 'ma', 'mightn', \"mightn't\", 'mustn',\\\n",
    "            \"mustn't\", 'needn', \"needn't\", 'shan', \"shan't\", 'shouldn', \"shouldn't\", 'wasn', \"wasn't\", 'weren', \"weren't\", \\\n",
    "            'won', \"won't\", 'wouldn', \"wouldn't\"])"
   ]
  },
  {
   "cell_type": "code",
   "execution_count": 113,
   "metadata": {
    "ExecuteTime": {
     "end_time": "2019-03-13T09:30:14.074975Z",
     "start_time": "2019-03-13T09:28:26.209822Z"
    },
    "colab": {
     "base_uri": "https://localhost:8080/",
     "height": 34
    },
    "colab_type": "code",
    "id": "0j3jfqWCJkko",
    "outputId": "c4c995ab-5fec-4e91-ed8d-6966e313d21c"
   },
   "outputs": [
    {
     "name": "stderr",
     "output_type": "stream",
     "text": [
      "100%|██████████| 364171/364171 [02:24<00:00, 2526.48it/s]\n"
     ]
    }
   ],
   "source": [
    "# Combining all the above stundents \n",
    "from tqdm import tqdm\n",
    "preprocessed_reviews = []\n",
    "# tqdm is for printing the status bar\n",
    "for sentance in tqdm(final['Text'].values):\n",
    "    sentance = re.sub(r\"http\\S+\", \"\", sentance)\n",
    "    sentance = BeautifulSoup(sentance, 'lxml').get_text()\n",
    "    sentance = decontracted(sentance)\n",
    "    sentance = re.sub(\"\\S*\\d\\S*\", \"\", sentance).strip()\n",
    "    sentance = re.sub('[^A-Za-z]+', ' ', sentance)\n",
    "    # https://gist.github.com/sebleier/554280\n",
    "    sentance = ' '.join(e.lower() for e in sentance.split() if e.lower() not in stopwords)\n",
    "    preprocessed_reviews.append(sentance.strip())"
   ]
  },
  {
   "cell_type": "code",
   "execution_count": 114,
   "metadata": {
    "ExecuteTime": {
     "end_time": "2019-03-13T09:30:14.089011Z",
     "start_time": "2019-03-13T09:30:14.077983Z"
    },
    "colab": {
     "base_uri": "https://localhost:8080/",
     "height": 54
    },
    "colab_type": "code",
    "id": "nS_7EeV7Jkkr",
    "outputId": "6da10122-b10a-45ab-e80d-532c6dc18359"
   },
   "outputs": [
    {
     "data": {
      "text/plain": [
       "'great ingredients although chicken rather chicken broth thing not think belongs canola oil canola rapeseed not someting dog would ever find nature find rapeseed nature eat would poison today food industries convinced masses canola oil safe even better oil olive virgin coconut facts though say otherwise late poisonous figured way fix still like could better'"
      ]
     },
     "execution_count": 114,
     "metadata": {
      "tags": []
     },
     "output_type": "execute_result"
    }
   ],
   "source": [
    "preprocessed_reviews[1500]"
   ]
  },
  {
   "cell_type": "markdown",
   "metadata": {
    "colab_type": "text",
    "id": "zak5yP5zJkkt"
   },
   "source": [
    "<h2>[3.2] Preprocessing Review Summary</h2>"
   ]
  },
  {
   "cell_type": "code",
   "execution_count": 115,
   "metadata": {
    "ExecuteTime": {
     "end_time": "2019-03-13T09:31:38.819243Z",
     "start_time": "2019-03-13T09:30:14.091017Z"
    },
    "colab": {
     "base_uri": "https://localhost:8080/",
     "height": 34
    },
    "colab_type": "code",
    "id": "wZ3Epk1wJkku",
    "outputId": "7ee40ead-ab0d-49fe-a5dd-db513c5ca9d8"
   },
   "outputs": [
    {
     "name": "stderr",
     "output_type": "stream",
     "text": [
      "100%|██████████| 364171/364171 [01:34<00:00, 3833.57it/s]\n"
     ]
    }
   ],
   "source": [
    "from tqdm import tqdm\n",
    "preprocessed_summary = []\n",
    "# tqdm is for printing the status bar\n",
    "for sentance in tqdm(final['Summary'].values):\n",
    "    sentance = re.sub(r\"http\\S+\", \"\", sentance)\n",
    "    sentance = BeautifulSoup(sentance, 'lxml').get_text()\n",
    "    sentance = decontracted(sentance)\n",
    "    sentance = re.sub(\"\\S*\\d\\S*\", \"\", sentance).strip()\n",
    "    sentance = re.sub('[^A-Za-z]+', ' ', sentance)\n",
    "    # https://gist.github.com/sebleier/554280\n",
    "    sentance = ' '.join(e.lower() for e in sentance.split() if e.lower() not in stopwords)\n",
    "    preprocessed_summary.append(sentance.strip())"
   ]
  },
  {
   "cell_type": "code",
   "execution_count": 0,
   "metadata": {
    "ExecuteTime": {
     "end_time": "2019-03-13T09:31:38.932546Z",
     "start_time": "2019-03-13T09:31:38.821248Z"
    },
    "colab": {},
    "colab_type": "code",
    "id": "O-9Zq8fqZalQ"
   },
   "outputs": [],
   "source": [
    "final['CleanedText']= preprocessed_reviews  # Review Text"
   ]
  },
  {
   "cell_type": "code",
   "execution_count": 0,
   "metadata": {
    "ExecuteTime": {
     "end_time": "2019-03-13T09:31:38.979676Z",
     "start_time": "2019-03-13T09:31:38.934552Z"
    },
    "colab": {},
    "colab_type": "code",
    "id": "GcsMFeUVZalW"
   },
   "outputs": [],
   "source": [
    "final['CleanedSummary']= preprocessed_summary # Summary Text"
   ]
  },
  {
   "cell_type": "code",
   "execution_count": 118,
   "metadata": {
    "ExecuteTime": {
     "end_time": "2019-03-13T09:31:39.085962Z",
     "start_time": "2019-03-13T09:31:38.983184Z"
    },
    "colab": {
     "base_uri": "https://localhost:8080/",
     "height": 85
    },
    "colab_type": "code",
    "id": "B4ra4MWiZald",
    "outputId": "9923193d-1a08-4b1c-cb78-4e22a700e231"
   },
   "outputs": [
    {
     "data": {
      "text/plain": [
       "Index(['Id', 'ProductId', 'UserId', 'ProfileName', 'HelpfulnessNumerator',\n",
       "       'HelpfulnessDenominator', 'Score', 'Time', 'Summary', 'Text',\n",
       "       'CleanedText', 'CleanedSummary'],\n",
       "      dtype='object')"
      ]
     },
     "execution_count": 118,
     "metadata": {
      "tags": []
     },
     "output_type": "execute_result"
    }
   ],
   "source": [
    "final.columns"
   ]
  },
  {
   "cell_type": "code",
   "execution_count": 0,
   "metadata": {
    "ExecuteTime": {
     "end_time": "2019-03-13T09:31:39.175233Z",
     "start_time": "2019-03-13T09:31:39.088507Z"
    },
    "colab": {},
    "colab_type": "code",
    "id": "FwAqAp35Zall"
   },
   "outputs": [],
   "source": [
    "import pickle"
   ]
  },
  {
   "cell_type": "code",
   "execution_count": 0,
   "metadata": {
    "colab": {},
    "colab_type": "code",
    "id": "hS1A3KthOmqG"
   },
   "outputs": [],
   "source": [
    "# Saving final df to colab\n",
    "\n",
    "#final.to_pickle('final_0317.pkl')    #to save the dataframe, df to 123.pkl\n"
   ]
  },
  {
   "cell_type": "code",
   "execution_count": 0,
   "metadata": {
    "colab": {},
    "colab_type": "code",
    "id": "km4bu1V_UsJU"
   },
   "outputs": [],
   "source": [
    "# Moving pickle file to drive\n",
    "#!cp /content/final_0317.pkl /content/drive/My\\ Drive/Aaic/\n"
   ]
  },
  {
   "cell_type": "code",
   "execution_count": 0,
   "metadata": {
    "colab": {},
    "colab_type": "code",
    "id": "oTL5FOqAOt1i"
   },
   "outputs": [],
   "source": [
    "# Reading back\n",
    "#final = pd.read_pickle('final_0317.pkl') #to load 123.pkl back to the dataframe df"
   ]
  },
  {
   "cell_type": "code",
   "execution_count": 0,
   "metadata": {
    "ExecuteTime": {
     "end_time": "2019-03-13T09:31:43.113646Z",
     "start_time": "2019-03-13T09:31:42.233801Z"
    },
    "colab": {},
    "colab_type": "code",
    "id": "VhX8arkuZaly"
   },
   "outputs": [],
   "source": [
    "#not used\n",
    "\n",
    "#final = pickle.load(open('finalized_0317.sav', 'rb'))\n"
   ]
  },
  {
   "cell_type": "code",
   "execution_count": 124,
   "metadata": {
    "colab": {
     "base_uri": "https://localhost:8080/",
     "height": 68
    },
    "colab_type": "code",
    "id": "h5gxHUVPPQ3Y",
    "outputId": "8a244233-2b34-47c1-c94b-72334971dd8b"
   },
   "outputs": [
    {
     "name": "stdout",
     "output_type": "stream",
     "text": [
      "amazon-fine-food-reviews.zip  final_0317.pkl\t     kaggle.json\n",
      "database.sqlite\t\t      finalized_df_0317.sav  Reviews.csv\n",
      "drive\t\t\t      hashes.txt\t     sample_data\n"
     ]
    }
   ],
   "source": [
    "!ls\n"
   ]
  },
  {
   "cell_type": "code",
   "execution_count": 0,
   "metadata": {
    "colab": {},
    "colab_type": "code",
    "id": "_LGP7m6oPJTf"
   },
   "outputs": [],
   "source": [
    "# downloading files\n",
    "#from google.colab import files\n",
    "\n",
    "#files.download('final_0317.pkl')"
   ]
  },
  {
   "cell_type": "code",
   "execution_count": 125,
   "metadata": {
    "ExecuteTime": {
     "end_time": "2019-03-13T09:31:43.120666Z",
     "start_time": "2019-03-13T09:31:43.115653Z"
    },
    "colab": {
     "base_uri": "https://localhost:8080/",
     "height": 34
    },
    "colab_type": "code",
    "id": "w2TVsSEdZal7",
    "outputId": "1f064d2b-89c9-49b3-8972-8de3564f53b2"
   },
   "outputs": [
    {
     "data": {
      "text/plain": [
       "(364171, 12)"
      ]
     },
     "execution_count": 125,
     "metadata": {
      "tags": []
     },
     "output_type": "execute_result"
    }
   ],
   "source": [
    "final.shape"
   ]
  },
  {
   "cell_type": "code",
   "execution_count": 126,
   "metadata": {
    "ExecuteTime": {
     "end_time": "2019-03-13T09:31:43.231966Z",
     "start_time": "2019-03-13T09:31:43.123176Z"
    },
    "colab": {
     "base_uri": "https://localhost:8080/",
     "height": 34
    },
    "colab_type": "code",
    "id": "OdvFOzuGZamB",
    "outputId": "5b814b8a-e17b-4e9a-c0f6-3c86aef0caf8"
   },
   "outputs": [
    {
     "data": {
      "text/plain": [
       "0"
      ]
     },
     "execution_count": 126,
     "metadata": {
      "tags": []
     },
     "output_type": "execute_result"
    }
   ],
   "source": [
    "final.CleanedText.isnull().sum()"
   ]
  },
  {
   "cell_type": "code",
   "execution_count": 127,
   "metadata": {
    "ExecuteTime": {
     "end_time": "2019-03-13T09:31:43.416467Z",
     "start_time": "2019-03-13T09:31:43.234472Z"
    },
    "colab": {
     "base_uri": "https://localhost:8080/",
     "height": 34
    },
    "colab_type": "code",
    "id": "pmUrd6K-ZamM",
    "outputId": "f9f26e46-89d1-4207-cca1-b07ee3ed9c6c"
   },
   "outputs": [
    {
     "data": {
      "text/plain": [
       "0"
      ]
     },
     "execution_count": 127,
     "metadata": {
      "tags": []
     },
     "output_type": "execute_result"
    }
   ],
   "source": [
    "final.CleanedSummary.isnull().sum()"
   ]
  },
  {
   "cell_type": "code",
   "execution_count": 0,
   "metadata": {
    "ExecuteTime": {
     "end_time": "2019-03-13T09:31:43.493665Z",
     "start_time": "2019-03-13T09:31:43.419466Z"
    },
    "colab": {},
    "colab_type": "code",
    "id": "DtC_fjZ4ZamR"
   },
   "outputs": [],
   "source": [
    "# Create X and Y variable \n",
    "X = final['CleanedText'].values\n",
    "y= final['Score'].values"
   ]
  },
  {
   "cell_type": "code",
   "execution_count": 129,
   "metadata": {
    "ExecuteTime": {
     "end_time": "2019-03-13T09:31:43.585912Z",
     "start_time": "2019-03-13T09:31:43.495671Z"
    },
    "colab": {
     "base_uri": "https://localhost:8080/",
     "height": 34
    },
    "colab_type": "code",
    "id": "d-wU_cl8ZamX",
    "outputId": "7783ef03-3d73-4faa-b621-5043b0942505"
   },
   "outputs": [
    {
     "data": {
      "text/plain": [
       "numpy.ndarray"
      ]
     },
     "execution_count": 129,
     "metadata": {
      "tags": []
     },
     "output_type": "execute_result"
    }
   ],
   "source": [
    "type(X)"
   ]
  },
  {
   "cell_type": "code",
   "execution_count": 130,
   "metadata": {
    "ExecuteTime": {
     "end_time": "2019-03-13T09:31:43.678158Z",
     "start_time": "2019-03-13T09:31:43.588919Z"
    },
    "colab": {
     "base_uri": "https://localhost:8080/",
     "height": 34
    },
    "colab_type": "code",
    "id": "o9TZxBZ6Zamm",
    "outputId": "86c7161e-8c96-45ba-dcec-6f5d0dfaed3b"
   },
   "outputs": [
    {
     "data": {
      "text/plain": [
       "numpy.ndarray"
      ]
     },
     "execution_count": 130,
     "metadata": {
      "tags": []
     },
     "output_type": "execute_result"
    }
   ],
   "source": [
    "type(y)"
   ]
  },
  {
   "cell_type": "code",
   "execution_count": 0,
   "metadata": {
    "ExecuteTime": {
     "end_time": "2019-03-13T09:31:43.812513Z",
     "start_time": "2019-03-13T09:31:43.680162Z"
    },
    "colab": {},
    "colab_type": "code",
    "id": "9KGexK6FZamx"
   },
   "outputs": [],
   "source": [
    "from sklearn.model_selection import train_test_split\n",
    "\n",
    "# Splitting into train and test in the ratio 70:30\n",
    "X_train, X_test, y_train, y_test = train_test_split(X, y, test_size=0.30,shuffle=False, random_state=507)\n",
    "X_train, X_cv, y_train, y_cv = train_test_split(X_train, y_train, test_size=0.30, shuffle=False, random_state=507)"
   ]
  },
  {
   "cell_type": "code",
   "execution_count": 132,
   "metadata": {
    "ExecuteTime": {
     "end_time": "2019-03-13T09:31:43.877690Z",
     "start_time": "2019-03-13T09:31:43.815524Z"
    },
    "colab": {
     "base_uri": "https://localhost:8080/",
     "height": 85
    },
    "colab_type": "code",
    "id": "8XGDv65R3lsK",
    "outputId": "2a991afd-e41e-42d5-b078-c394bd1db878"
   },
   "outputs": [
    {
     "name": "stdout",
     "output_type": "stream",
     "text": [
      "(178443,) (178443,)\n",
      "(76476,) (76476,)\n",
      "(109252,) (109252,)\n",
      "====================================================================================================\n"
     ]
    }
   ],
   "source": [
    "# ss\n",
    "print(X_train.shape, y_train.shape)\n",
    "print(X_cv.shape, y_cv.shape)\n",
    "print(X_test.shape, y_test.shape)\n",
    "\n",
    "print(\"=\"*100)\n"
   ]
  },
  {
   "cell_type": "markdown",
   "metadata": {
    "colab_type": "text",
    "id": "Ypk5aPFxZam4"
   },
   "source": [
    "<font color='red'>In amazon food review dataset our feature importance is words which we get after vectorizations</font>"
   ]
  },
  {
   "cell_type": "markdown",
   "metadata": {
    "colab_type": "text",
    "id": "ChHwtw1iJkky"
   },
   "source": [
    "# [4] Featurization"
   ]
  },
  {
   "cell_type": "markdown",
   "metadata": {
    "colab_type": "text",
    "id": "qyWESNvzJkky"
   },
   "source": [
    "## [4.1] BAG OF WORDS"
   ]
  },
  {
   "cell_type": "code",
   "execution_count": 133,
   "metadata": {
    "ExecuteTime": {
     "end_time": "2019-03-13T09:32:00.798211Z",
     "start_time": "2019-03-13T09:31:43.879696Z"
    },
    "colab": {
     "base_uri": "https://localhost:8080/",
     "height": 102
    },
    "colab_type": "code",
    "id": "_BusMpNGZam_",
    "outputId": "e2778fc6-4bfe-499e-e92c-e6182bbf03b8",
    "scrolled": true
   },
   "outputs": [
    {
     "name": "stdout",
     "output_type": "stream",
     "text": [
      "After vectorizations\n",
      "(178443, 80067) (178443,)\n",
      "(76476, 80067) (76476,)\n",
      "(109252, 80067) (109252,)\n",
      "====================================================================================================\n"
     ]
    }
   ],
   "source": [
    "# ss\n",
    "from sklearn.feature_extraction.text import CountVectorizer\n",
    "vectorizer = CountVectorizer()\n",
    "vectorizer.fit(X_train) # fit has to happen only on train data\n",
    "\n",
    "# we use the fitted CountVectorizer to convert the text to vector\n",
    "X_train_bow = vectorizer.transform(X_train)\n",
    "X_cv_bow = vectorizer.transform(X_cv)\n",
    "X_test_bow = vectorizer.transform(X_test)\n",
    "\n",
    "print(\"After vectorizations\")\n",
    "print(X_train_bow.shape, y_train.shape)\n",
    "print(X_cv_bow.shape, y_cv.shape)\n",
    "print(X_test_bow.shape, y_test.shape)\n",
    "print(\"=\"*100)"
   ]
  },
  {
   "cell_type": "code",
   "execution_count": 134,
   "metadata": {
    "ExecuteTime": {
     "end_time": "2019-03-13T09:32:00.821272Z",
     "start_time": "2019-03-13T09:32:00.807235Z"
    },
    "colab": {
     "base_uri": "https://localhost:8080/",
     "height": 68
    },
    "colab_type": "code",
    "id": "VTU4ND1z309f",
    "outputId": "57be048c-8a4c-4315-dcbb-877692f91123"
   },
   "outputs": [
    {
     "name": "stdout",
     "output_type": "stream",
     "text": [
      "the type of count vectorizer  <class 'scipy.sparse.csr.csr_matrix'>\n",
      "the shape of cut text BOW vectorizer  (178443, 80067)\n",
      "the number of unique words:  80067\n"
     ]
    }
   ],
   "source": [
    "print(\"the type of count vectorizer \",type(X_train_bow))\n",
    "print(\"the shape of cut text BOW vectorizer \",X_train_bow.get_shape())\n",
    "print(\"the number of unique words: \", X_train_bow.get_shape()[1])"
   ]
  },
  {
   "cell_type": "markdown",
   "metadata": {
    "colab_type": "text",
    "id": "LChtHtLjJkk1"
   },
   "source": [
    "## [4.2] Bi-Grams and n-Grams."
   ]
  },
  {
   "cell_type": "code",
   "execution_count": 0,
   "metadata": {
    "ExecuteTime": {
     "end_time": "2019-03-13T09:32:00.909506Z",
     "start_time": "2019-03-13T09:32:00.823276Z"
    },
    "colab": {},
    "colab_type": "code",
    "id": "Xgw2pSsoJkk3"
   },
   "outputs": [],
   "source": [
    "#bi-gram, tri-gram and n-gram\n",
    "\n",
    "#removing stop words like \"not\" should be avoided before building n-grams\n",
    "# count_vect = CountVectorizer(ngram_range=(1,2))\n",
    "# please do read the CountVectorizer documentation http://scikit-learn.org/stable/modules/generated/sklearn.feature_extraction.text.CountVectorizer.html\n",
    "\n",
    "# you can choose these numebrs min_df=10, max_features=5000, of your choice\n",
    "#count_vect = CountVectorizer(ngram_range=(1,2), min_df=10, max_features=5000)\n",
    "#final_bigram_counts = count_vect.fit_transform(preprocessed_reviews)\n",
    "#print(\"the type of count vectorizer \",type(final_bigram_counts))\n",
    "#print(\"the shape of out text BOW vectorizer \",final_bigram_counts.get_shape())\n",
    "#print(\"the number of unique words including both unigrams and bigrams \", final_bigram_counts.get_shape()[1])"
   ]
  },
  {
   "cell_type": "markdown",
   "metadata": {
    "colab_type": "text",
    "id": "VjtyVdsnZana"
   },
   "source": [
    " <li><strong>Apply Multinomial NaiveBayes on these feature sets</strong>\n",
    "        <ul>\n",
    "            <li><font color='red'>SET 1:</font>Review text, preprocessed one converted into vectors using (BOW)</li>"
   ]
  },
  {
   "cell_type": "code",
   "execution_count": 0,
   "metadata": {
    "ExecuteTime": {
     "end_time": "2019-03-13T09:32:01.008772Z",
     "start_time": "2019-03-13T09:32:00.911512Z"
    },
    "colab": {},
    "colab_type": "code",
    "id": "ft7zUNEtZane"
   },
   "outputs": [],
   "source": [
    "from sklearn.naive_bayes import MultinomialNB"
   ]
  },
  {
   "cell_type": "code",
   "execution_count": 137,
   "metadata": {
    "ExecuteTime": {
     "end_time": "2019-03-13T09:32:03.512850Z",
     "start_time": "2019-03-13T09:32:01.010778Z"
    },
    "colab": {
     "base_uri": "https://localhost:8080/",
     "height": 332
    },
    "colab_type": "code",
    "id": "hAYNZY72Zank",
    "outputId": "f03b84af-2b74-45ff-af44-8e4f73abaf5d"
   },
   "outputs": [
    {
     "data": {
      "image/png": "[encoded data removed]",
      "text/plain": [
       "<Figure size 432x288 with 1 Axes>"
      ]
     },
     "metadata": {
      "tags": []
     },
     "output_type": "display_data"
    },
    {
     "name": "stdout",
     "output_type": "stream",
     "text": [
      "\n",
      "The optimal number of alpha is 1\n"
     ]
    }
   ],
   "source": [
    "from sklearn.metrics import roc_auc_score\n",
    "import matplotlib.pyplot as plt\n",
    "\n",
    "# alpha values\n",
    "alpha_range = [0.00001, 0.0001, 0.001, 0.01, 0.1, 1, 10, 100,1000]\n",
    "\n",
    "# empty list that will hold cv scores\n",
    "train_auc = []\n",
    "cv_auc = []\n",
    "\n",
    "\n",
    "for a in alpha_range:\n",
    "    mn_nb = MultinomialNB(alpha= a)\n",
    "    mn_nb.fit(X_train_bow, y_train)\n",
    "    # roc_auc_score(y_true, y_score) the 2nd parameter should be probability estimates of the positive class\n",
    "    # not the predicted outputs\n",
    "    y_train_pred =  mn_nb.predict_proba(X_train_bow)[:,1]\n",
    "    y_cv_pred =  mn_nb.predict_proba(X_cv_bow)[:,1]\n",
    "    \n",
    "    train_auc.append(roc_auc_score(y_train,y_train_pred))\n",
    "    cv_auc.append(roc_auc_score(y_cv, y_cv_pred))\n",
    "\n",
    "plt.plot(alpha_range, train_auc, label='Train AUC')\n",
    "plt.plot(alpha_range, cv_auc, label='CV AUC')\n",
    "plt.legend()\n",
    "plt.xlabel(\"alpha: hyperparameter\")\n",
    "plt.xscale('log')\n",
    "plt.ylabel(\"AUC\")\n",
    "plt.title(\"ERROR PLOTS\")\n",
    "plt.show()\n",
    "\n",
    "\n",
    "\n",
    "\n",
    "# changing to misclassification error\n",
    "MSE = [1 - x for x in cv_auc]\n",
    "\n",
    "\n",
    "# determining best alpha\n",
    "optimal_alpha_bow_mnnb = alpha_range[MSE.index(min(MSE))]\n",
    "print('\\nThe optimal number of alpha is {}'.format(optimal_alpha_bow_mnnb))\n"
   ]
  },
  {
   "cell_type": "code",
   "execution_count": 139,
   "metadata": {
    "ExecuteTime": {
     "end_time": "2019-03-13T09:32:04.268332Z",
     "start_time": "2019-03-13T09:32:03.516359Z"
    },
    "colab": {
     "base_uri": "https://localhost:8080/",
     "height": 413
    },
    "colab_type": "code",
    "id": "hxYimn2q5g5d",
    "outputId": "79b271cf-9250-4978-b89a-e300a1c6df6c",
    "scrolled": false
   },
   "outputs": [
    {
     "data": {
      "image/png": "[encoded data removed]",
      "text/plain": [
       "<Figure size 432x288 with 1 Axes>"
      ]
     },
     "metadata": {
      "tags": []
     },
     "output_type": "display_data"
    },
    {
     "name": "stdout",
     "output_type": "stream",
     "text": [
      "====================================================================================================\n",
      "Train confusion matrix\n",
      "[[ 19633   7332]\n",
      " [  7071 144407]]\n",
      "Test confusion matrix\n",
      "[[11828  6530]\n",
      " [ 4099 86795]]\n"
     ]
    }
   ],
   "source": [
    "## ss\n",
    "\n",
    "# https://scikit-learn.org/stable/modules/generated/sklearn.metrics.roc_curve.html#sklearn.metrics.roc_curve\n",
    "from sklearn.metrics import roc_curve, auc\n",
    "\n",
    "\n",
    "neigh = MultinomialNB(alpha=optimal_alpha_bow_mnnb)\n",
    "neigh.fit(X_train_bow, y_train)\n",
    "# roc_auc_score(y_true, y_score) the 2nd parameter should be probability estimates of the positive class\n",
    "# not the predicted outputs\n",
    "\n",
    "train_fpr, train_tpr, thresholds = roc_curve(y_train, neigh.predict_proba(X_train_bow)[:,1])\n",
    "test_fpr, test_tpr, thresholds = roc_curve(y_test, neigh.predict_proba(X_test_bow)[:,1])\n",
    "\n",
    "plt.plot([0,1],[0,1],'k--')\n",
    "plt.plot(train_fpr, train_tpr, label=\"train AUC =\"+str(auc(train_fpr, train_tpr)))\n",
    "plt.plot(test_fpr, test_tpr, label=\"test AUC =\"+str(auc(test_fpr, test_tpr)))\n",
    "plt.legend()\n",
    "plt.xlabel(\"FFR\")\n",
    "plt.ylabel(\"TPR\")\n",
    "plt.title(\"AUC\")\n",
    "plt.show()\n",
    "\n",
    "print(\"=\"*100)\n",
    "\n",
    "from sklearn.metrics import confusion_matrix\n",
    "print(\"Train confusion matrix\")\n",
    "print(confusion_matrix(y_train, neigh.predict(X_train_bow)))\n",
    "print(\"Test confusion matrix\")\n",
    "print(confusion_matrix(y_test, neigh.predict(X_test_bow)))"
   ]
  },
  {
   "cell_type": "code",
   "execution_count": 0,
   "metadata": {
    "ExecuteTime": {
     "end_time": "2019-03-13T09:32:04.275350Z",
     "start_time": "2019-03-13T09:32:04.270337Z"
    },
    "colab": {},
    "colab_type": "code",
    "id": "3XC1fy346L9j"
   },
   "outputs": [],
   "source": [
    "auc_train_bow_mnnb = auc(train_fpr, train_tpr)\n",
    "auc_test_bow_mnnb = auc(test_fpr, test_tpr)"
   ]
  },
  {
   "cell_type": "code",
   "execution_count": 0,
   "metadata": {
    "ExecuteTime": {
     "end_time": "2019-03-13T09:32:04.343029Z",
     "start_time": "2019-03-13T09:32:04.278359Z"
    },
    "colab": {},
    "colab_type": "code",
    "id": "gHGfAj_R6VYr"
   },
   "outputs": [],
   "source": [
    "# Get the confusion matrix\n",
    "from sklearn.metrics import classification_report\n",
    "\n",
    "\n",
    "# Code modified from sklearn tutorial: https://scikit-learn.org/stable/auto_examples/model_selection/plot_confusion_matrix.html\n",
    "\n",
    "import itertools\n",
    "def plot_confusion_matrix(cm, classes,\n",
    "                          normalize=False,\n",
    "                          title='Confusion matrix',\n",
    "                          cmap=plt.cm.Blues):\n",
    "    \"\"\"\n",
    "    This function prints and plots the confusion matrix.\n",
    "    Normalization can be applied by setting `normalize=True`.\n",
    "    \"\"\"\n",
    "    #if normalize:\n",
    "     #   cm = cm.astype('float') / cm.sum(axis=1)[:, np.newaxis]\n",
    "     #   print(\"Normalized confusion matrix\")\n",
    "    #else:\n",
    "      #  print('Confusion matrix')\n",
    "\n",
    "    #print(cm)\n",
    "\n",
    "    plt.imshow(cm, interpolation='nearest', cmap=cmap)\n",
    "    plt.title(title)\n",
    "    plt.colorbar()\n",
    "    tick_marks = np.arange(len(classes))\n",
    "    plt.xticks(tick_marks, classes, rotation=45)\n",
    "    plt.yticks(tick_marks, classes)\n",
    "\n",
    "    fmt = '.2f' if normalize else 'd'\n",
    "    thresh = cm.max() / 2.\n",
    "    for i, j in itertools.product(range(cm.shape[0]), range(cm.shape[1])):\n",
    "        plt.text(j, i, format(cm[i, j], fmt),\n",
    "                 horizontalalignment=\"center\",\n",
    "                 color=\"white\" if cm[i, j] > thresh else \"black\")\n",
    "\n",
    "    plt.ylabel('True label')\n",
    "    plt.xlabel('Predicted label')\n",
    "    plt.tight_layout()\n"
   ]
  },
  {
   "cell_type": "code",
   "execution_count": 142,
   "metadata": {
    "ExecuteTime": {
     "end_time": "2019-03-13T09:32:04.660390Z",
     "start_time": "2019-03-13T09:32:04.345036Z"
    },
    "colab": {
     "base_uri": "https://localhost:8080/",
     "height": 297
    },
    "colab_type": "code",
    "id": "IcBjT2U-6XDU",
    "outputId": "f1e3e43a-8675-4a7f-d247-ade53749ab0d"
   },
   "outputs": [
    {
     "data": {
      "image/png": "[encoded data removed]",
      "text/plain": [
       "<Figure size 432x288 with 2 Axes>"
      ]
     },
     "metadata": {
      "tags": []
     },
     "output_type": "display_data"
    }
   ],
   "source": [
    "cnf_matrix = confusion_matrix(y_test, neigh.predict(X_test_bow))\n",
    "np.set_printoptions(precision=2)\n",
    "class_names = ['Negative', 'Positive']\n",
    "# Plot non-normalized confusion matrix\n",
    "plt.figure()\n",
    "plot_confusion_matrix(cnf_matrix, classes=class_names, title='Confusion Matrix');"
   ]
  },
  {
   "cell_type": "code",
   "execution_count": 143,
   "metadata": {
    "ExecuteTime": {
     "end_time": "2019-03-13T09:32:04.667408Z",
     "start_time": "2019-03-13T09:32:04.663398Z"
    },
    "colab": {
     "base_uri": "https://localhost:8080/",
     "height": 34
    },
    "colab_type": "code",
    "id": "IPBdFIx8Zao1",
    "outputId": "e68f8b2c-b611-491b-d4a9-7cad66e538f7"
   },
   "outputs": [
    {
     "data": {
      "text/plain": [
       "array([0, 1])"
      ]
     },
     "execution_count": 143,
     "metadata": {
      "tags": []
     },
     "output_type": "execute_result"
    }
   ],
   "source": [
    "neigh.classes_"
   ]
  },
  {
   "cell_type": "code",
   "execution_count": 0,
   "metadata": {
    "ExecuteTime": {
     "end_time": "2019-03-13T09:32:04.743107Z",
     "start_time": "2019-03-13T09:32:04.669413Z"
    },
    "colab": {},
    "colab_type": "code",
    "id": "v3-9ivoiZapG"
   },
   "outputs": [],
   "source": [
    "# This code has been referred from https://stackoverflow.com/questions/11116697/how-to-get-most-informative-features-for-scikit-learn-classifiers#answer-50810751\n",
    "\n",
    "def important_features(vectorizer,classifier,n=10):\n",
    "    \n",
    "    \"\"\"\n",
    "    This function takes in the vectorizer, classifer and the number of words required.\n",
    "    Returns the top feature names along with their coeffiecent\n",
    "    \"\"\"\n",
    "    from prettytable import PrettyTable\n",
    "    t1 = PrettyTable()\n",
    "    t2 = PrettyTable()\n",
    "    \n",
    "    t1.field_names= ['class','feature', 'importance']\n",
    "    t2.field_names= ['class','feature', 'importance']\n",
    "    \n",
    "    class_labels = classifier.classes_\n",
    "    feature_names =vectorizer.get_feature_names()\n",
    "    topn_class1 = sorted(zip(classifier.feature_log_prob_[0], feature_names),reverse=True)[:n] \n",
    "    topn_class2 = sorted(zip(classifier.feature_log_prob_[1], feature_names),reverse=True)[:n]\n",
    "    \n",
    "    print(\"Important words in negative reviews\")\n",
    "    for coef, feat in topn_class1:\n",
    "        t1.add_row([class_labels[0], feat, abs(coef)])\n",
    "    print(t1)\n",
    "    \n",
    "    print('*' * 32)\n",
    "    \n",
    "    print(\"Important words in positive reviews\")\n",
    "    for coef, feat in topn_class2:\n",
    "        t2.add_row([class_labels[1], feat, abs(coef)])       \n",
    "    print(t2)\n",
    "        \n",
    "    #print(\"-----------------------------------------\")\n",
    "    #print(\"Important words in positive reviews\")\n",
    "    #for coef, feat in topn_class2:\n",
    "     #   print(class_labels[1], coef, feat)"
   ]
  },
  {
   "cell_type": "code",
   "execution_count": 145,
   "metadata": {
    "ExecuteTime": {
     "end_time": "2019-03-13T09:32:05.094543Z",
     "start_time": "2019-03-13T09:32:04.745112Z"
    },
    "colab": {
     "base_uri": "https://localhost:8080/",
     "height": 544
    },
    "colab_type": "code",
    "id": "icoUQSmrZapJ",
    "outputId": "bf9e6707-59ff-41a4-af48-5ad92880840f",
    "run_control": {
     "marked": false
    }
   },
   "outputs": [
    {
     "name": "stdout",
     "output_type": "stream",
     "text": [
      "Important words in negative reviews\n",
      "+-------+---------+-------------------+\n",
      "| class | feature |     importance    |\n",
      "+-------+---------+-------------------+\n",
      "|   0   |   not   | 3.352726827355946 |\n",
      "|   0   |   like  | 4.529139529519954 |\n",
      "|   0   | product |  4.70843747661416 |\n",
      "|   0   |  would  | 4.770125134223722 |\n",
      "|   0   |  taste  | 4.826104401965624 |\n",
      "|   0   |   one   | 4.920265816566076 |\n",
      "|   0   |    no   | 5.191023415679439 |\n",
      "|   0   |   good  | 5.191926894132704 |\n",
      "|   0   |   tea   | 5.298493318890541 |\n",
      "|   0   |  flavor | 5.332412207447838 |\n",
      "+-------+---------+-------------------+\n",
      "********************************\n",
      "Important words in positive reviews\n",
      "+-------+---------+--------------------+\n",
      "| class | feature |     importance     |\n",
      "+-------+---------+--------------------+\n",
      "|   1   |   not   | 3.7698863943340104 |\n",
      "|   1   |   like  | 4.638346408821736  |\n",
      "|   1   |   good  | 4.709338927181472  |\n",
      "|   1   |  great  | 4.737199069831567  |\n",
      "|   1   |   tea   | 4.862455589694864  |\n",
      "|   1   |   one   | 4.921519461638127  |\n",
      "|   1   |  taste  | 5.044201283301623  |\n",
      "|   1   | product | 5.071021705439792  |\n",
      "|   1   |   love  | 5.102033482053635  |\n",
      "|   1   |  flavor | 5.1810368944341825 |\n",
      "+-------+---------+--------------------+\n"
     ]
    }
   ],
   "source": [
    "important_features(vectorizer, neigh)"
   ]
  },
  {
   "cell_type": "markdown",
   "metadata": {},
   "source": [
    "**Observation:**\n",
    "1. For the BoW vectorizer, we optimal value of alpha we got is 1.\n",
    "2. The AUC for test data is quite high (~91%)\n",
    "3. We can some important features are common in both the reviews; positive and negative.\n",
    "4. The confusion matrix shows the classification. It shows we correctly classified 86795 positive reviews and 11828 negative reviews. "
   ]
  },
  {
   "cell_type": "markdown",
   "metadata": {
    "colab_type": "text",
    "id": "1fvAmu91Jkk6"
   },
   "source": [
    "## [4.3] TF-IDF"
   ]
  },
  {
   "cell_type": "code",
   "execution_count": 146,
   "metadata": {
    "ExecuteTime": {
     "end_time": "2019-03-13T09:32:48.869699Z",
     "start_time": "2019-03-13T09:32:05.096548Z"
    },
    "colab": {
     "base_uri": "https://localhost:8080/",
     "height": 102
    },
    "colab_type": "code",
    "id": "O5W-69Ej8O2Z",
    "outputId": "59178323-96bd-46f2-b039-35f303ef55bb"
   },
   "outputs": [
    {
     "name": "stdout",
     "output_type": "stream",
     "text": [
      "After vectorizations\n",
      "(178443, 99725) (178443,)\n",
      "(76476, 99725) (76476,)\n",
      "(109252, 99725) (109252,)\n",
      "====================================================================================================\n"
     ]
    }
   ],
   "source": [
    "# ss\n",
    "from sklearn.feature_extraction.text import TfidfVectorizer\n",
    "tf_idf_vect = TfidfVectorizer(ngram_range=(1,2), min_df=10)\n",
    "tf_idf_vect.fit(X_train) # fit has to happen only on train data\n",
    "\n",
    "# we use the fitted CountVectorizer to convert the text to vector\n",
    "X_train_tfidf = tf_idf_vect.transform(X_train)\n",
    "X_cv_tfidf = tf_idf_vect.transform(X_cv)\n",
    "X_test_tfidf = tf_idf_vect.transform(X_test)\n",
    "\n",
    "print(\"After vectorizations\")\n",
    "print(X_train_tfidf.shape, y_train.shape)\n",
    "print(X_cv_tfidf.shape, y_cv.shape)\n",
    "print(X_test_tfidf.shape, y_test.shape)\n",
    "print(\"=\"*100)"
   ]
  },
  {
   "cell_type": "code",
   "execution_count": 147,
   "metadata": {
    "ExecuteTime": {
     "end_time": "2019-03-13T09:32:51.248927Z",
     "start_time": "2019-03-13T09:32:48.871704Z"
    },
    "colab": {
     "base_uri": "https://localhost:8080/",
     "height": 332
    },
    "colab_type": "code",
    "id": "1ORHvTnm8nH-",
    "outputId": "3d99df04-c67d-45fb-f38f-694631f1bbab"
   },
   "outputs": [
    {
     "data": {
      "image/png": "[encoded data removed]",
      "text/plain": [
       "<Figure size 432x288 with 1 Axes>"
      ]
     },
     "metadata": {
      "tags": []
     },
     "output_type": "display_data"
    },
    {
     "name": "stdout",
     "output_type": "stream",
     "text": [
      "\n",
      "The optimal number of alpha is 0.1\n"
     ]
    }
   ],
   "source": [
    "from sklearn.metrics import roc_auc_score\n",
    "import matplotlib.pyplot as plt\n",
    "\n",
    "# alpha values\n",
    "alpha_range = [0.00001, 0.0001, 0.001, 0.01, 0.1, 1, 10, 100,1000]\n",
    "\n",
    "# empty list that will hold cv scores\n",
    "train_auc = []\n",
    "cv_auc = []\n",
    "\n",
    "\n",
    "for a in alpha_range:\n",
    "    mn_nb = MultinomialNB(alpha= a)\n",
    "    mn_nb.fit(X_train_tfidf, y_train)\n",
    "    # roc_auc_score(y_true, y_score) the 2nd parameter should be probability estimates of the positive class\n",
    "    # not the predicted outputs\n",
    "    y_train_pred =  mn_nb.predict_proba(X_train_tfidf)[:,1]\n",
    "    y_cv_pred =  mn_nb.predict_proba(X_cv_tfidf)[:,1]\n",
    "    \n",
    "    train_auc.append(roc_auc_score(y_train,y_train_pred))\n",
    "    cv_auc.append(roc_auc_score(y_cv, y_cv_pred))\n",
    "\n",
    "plt.plot(alpha_range, train_auc, label='Train AUC')\n",
    "plt.plot(alpha_range, cv_auc, label='CV AUC')\n",
    "plt.legend()\n",
    "plt.xlabel(\"alpha: hyperparameter\")\n",
    "plt.xscale('log')\n",
    "plt.ylabel(\"AUC\")\n",
    "plt.title(\"ERROR PLOTS\")\n",
    "plt.show()\n",
    "\n",
    "\n",
    "\n",
    "\n",
    "# changing to misclassification error\n",
    "MSE = [1 - x for x in cv_auc]\n",
    "\n",
    "\n",
    "# determining best alpha\n",
    "optimal_alpha_tfidf_mnnb = alpha_range[MSE.index(min(MSE))]\n",
    "print('\\nThe optimal number of alpha is {}'.format(optimal_alpha_tfidf_mnnb))\n"
   ]
  },
  {
   "cell_type": "code",
   "execution_count": 148,
   "metadata": {
    "ExecuteTime": {
     "end_time": "2019-03-13T09:32:51.896633Z",
     "start_time": "2019-03-13T09:32:51.253926Z"
    },
    "colab": {
     "base_uri": "https://localhost:8080/",
     "height": 413
    },
    "colab_type": "code",
    "id": "CJfavfeq-kPG",
    "outputId": "5e76416c-28de-4c1a-c5e4-010a9161c6a0"
   },
   "outputs": [
    {
     "data": {
      "image/png": "[encoded data removed]",
      "text/plain": [
       "<Figure size 432x288 with 1 Axes>"
      ]
     },
     "metadata": {
      "tags": []
     },
     "output_type": "display_data"
    },
    {
     "name": "stdout",
     "output_type": "stream",
     "text": [
      "====================================================================================================\n",
      "Train confusion matrix\n",
      "[[ 18834   8131]\n",
      " [  1983 149495]]\n",
      "Test confusion matrix\n",
      "[[10077  8281]\n",
      " [ 1176 89718]]\n"
     ]
    }
   ],
   "source": [
    "## ss\n",
    "\n",
    "# https://scikit-learn.org/stable/modules/generated/sklearn.metrics.roc_curve.html#sklearn.metrics.roc_curve\n",
    "from sklearn.metrics import roc_curve, auc\n",
    "\n",
    "\n",
    "optimal_alpha_tfidf = MultinomialNB(alpha=optimal_alpha_tfidf_mnnb)\n",
    "optimal_alpha_tfidf.fit(X_train_tfidf, y_train)\n",
    "# roc_auc_score(y_true, y_score) the 2nd parameter should be probability estimates of the positive class\n",
    "# not the predicted outputs\n",
    "\n",
    "train_fpr, train_tpr, thresholds = roc_curve(y_train, optimal_alpha_tfidf.predict_proba(X_train_tfidf)[:,1])\n",
    "test_fpr, test_tpr, thresholds = roc_curve(y_test, optimal_alpha_tfidf.predict_proba(X_test_tfidf)[:,1])\n",
    "\n",
    "plt.plot([0,1],[0,1],'k--')\n",
    "plt.plot(train_fpr, train_tpr, label=\"train AUC =\"+str(auc(train_fpr, train_tpr)))\n",
    "plt.plot(test_fpr, test_tpr, label=\"test AUC =\"+str(auc(test_fpr, test_tpr)))\n",
    "plt.legend()\n",
    "plt.xlabel(\"FFR\")\n",
    "plt.ylabel(\"TPR\")\n",
    "plt.title(\"AUC - ROC plot\")\n",
    "plt.show()\n",
    "\n",
    "print(\"=\"*100)\n",
    "\n",
    "from sklearn.metrics import confusion_matrix\n",
    "print(\"Train confusion matrix\")\n",
    "print(confusion_matrix(y_train, optimal_alpha_tfidf.predict(X_train_tfidf)))\n",
    "print(\"Test confusion matrix\")\n",
    "print(confusion_matrix(y_test, optimal_alpha_tfidf.predict(X_test_tfidf)))"
   ]
  },
  {
   "cell_type": "code",
   "execution_count": 0,
   "metadata": {
    "ExecuteTime": {
     "end_time": "2019-03-13T09:32:51.903656Z",
     "start_time": "2019-03-13T09:32:51.898639Z"
    },
    "colab": {},
    "colab_type": "code",
    "id": "DYGupvh-_YBF"
   },
   "outputs": [],
   "source": [
    "auc_train_tfidf_mnnb = auc(train_fpr, train_tpr)\n",
    "auc_test_tfidf_mnnb = auc(test_fpr, test_tpr)"
   ]
  },
  {
   "cell_type": "code",
   "execution_count": 150,
   "metadata": {
    "ExecuteTime": {
     "end_time": "2019-03-13T09:32:52.203275Z",
     "start_time": "2019-03-13T09:32:51.906163Z"
    },
    "colab": {
     "base_uri": "https://localhost:8080/",
     "height": 297
    },
    "colab_type": "code",
    "id": "__-6ehGo_yWd",
    "outputId": "8b14d046-5b5f-468f-96c1-3c12f3318e9f"
   },
   "outputs": [
    {
     "data": {
      "image/png": "[encoded data removed]",
      "text/plain": [
       "<Figure size 432x288 with 2 Axes>"
      ]
     },
     "metadata": {
      "tags": []
     },
     "output_type": "display_data"
    }
   ],
   "source": [
    "cnf_matrix = confusion_matrix(y_test, optimal_alpha_tfidf.predict(X_test_tfidf))\n",
    "np.set_printoptions(precision=2)\n",
    "class_names = ['Negative', 'Positive']\n",
    "# Plot non-normalized confusion matrix\n",
    "plt.figure()\n",
    "plot_confusion_matrix(cnf_matrix, classes=class_names, title='Confusion Matrix');"
   ]
  },
  {
   "cell_type": "code",
   "execution_count": 151,
   "metadata": {
    "ExecuteTime": {
     "end_time": "2019-03-13T09:32:52.585685Z",
     "start_time": "2019-03-13T09:32:52.206283Z"
    },
    "colab": {
     "base_uri": "https://localhost:8080/",
     "height": 544
    },
    "colab_type": "code",
    "id": "Stbda2LrZaqg",
    "outputId": "f7ba4af8-c295-4fbf-85c3-8d39f187ada5",
    "scrolled": false
   },
   "outputs": [
    {
     "name": "stdout",
     "output_type": "stream",
     "text": [
      "Important words in negative reviews\n",
      "+-------+---------+--------------------+\n",
      "| class | feature |     importance     |\n",
      "+-------+---------+--------------------+\n",
      "|   0   |   not   | 4.9299176851900794 |\n",
      "|   0   |   like  | 5.782091332279363  |\n",
      "|   0   | product | 5.811530955014628  |\n",
      "|   0   |  would  | 5.894882831191134  |\n",
      "|   0   |  taste  | 5.903203138089251  |\n",
      "|   0   |   one   | 6.127316678033396  |\n",
      "|   0   |    no   | 6.251209363175992  |\n",
      "|   0   |   tea   | 6.291378149001668  |\n",
      "|   0   |  flavor | 6.370895063231856  |\n",
      "|   0   |   good  | 6.394922571770179  |\n",
      "+-------+---------+--------------------+\n",
      "********************************\n",
      "Important words in positive reviews\n",
      "+-------+---------+--------------------+\n",
      "| class | feature |     importance     |\n",
      "+-------+---------+--------------------+\n",
      "|   1   |   not   | 5.480920305432166  |\n",
      "|   1   |  great  | 5.809191289843023  |\n",
      "|   1   |   tea   | 5.870564605851304  |\n",
      "|   1   |   good  | 5.887065857732393  |\n",
      "|   1   |   like  |  5.98377367270373  |\n",
      "|   1   |   love  | 6.066127004252319  |\n",
      "|   1   | product | 6.1211881323497845 |\n",
      "|   1   |   one   | 6.195427175875111  |\n",
      "|   1   |  taste  |  6.21002737466358  |\n",
      "|   1   |  flavor | 6.268809517336725  |\n",
      "+-------+---------+--------------------+\n"
     ]
    }
   ],
   "source": [
    "important_features(tf_idf_vect, optimal_alpha_tfidf)"
   ]
  },
  {
   "cell_type": "markdown",
   "metadata": {},
   "source": [
    "**Observation:**\n",
    "1. For the TFIDF vectorizer, we optimal value of alpha we got is 0.1.\n",
    "2. The AUC for test data is quite high (~95%)\n",
    "3. We can some important features are common in both the reviews; positive and negative.\n",
    "4. The confusion matrix shows the classification. It shows we correctly classified 89718 positive reviews and 10077 negative reviews. "
   ]
  },
  {
   "cell_type": "markdown",
   "metadata": {
    "colab_type": "text",
    "id": "Uji1BM-2CpEf"
   },
   "source": [
    "**Feature Engineering:** For feature engineering we will append lenght of reviews the vectorized text."
   ]
  },
  {
   "cell_type": "markdown",
   "metadata": {
    "colab_type": "text",
    "id": "wmExKx9FC6Mk"
   },
   "source": [
    "**Finding length of review Text**"
   ]
  },
  {
   "cell_type": "code",
   "execution_count": 0,
   "metadata": {
    "ExecuteTime": {
     "end_time": "2019-03-13T09:32:52.591700Z",
     "start_time": "2019-03-13T09:32:52.587690Z"
    },
    "colab": {},
    "colab_type": "code",
    "id": "Ww-nvQxpDF73"
   },
   "outputs": [],
   "source": [
    "# Create X and Y variable \n",
    "X2 = final['CleanedText'].values  #,  'CleanedSummary']].values\n",
    "y2 = final['Score'].values\n",
    "#rev_len = final['ReviewTextLength'].values"
   ]
  },
  {
   "cell_type": "code",
   "execution_count": 0,
   "metadata": {
    "ExecuteTime": {
     "end_time": "2019-03-13T09:32:52.746078Z",
     "start_time": "2019-03-13T09:32:52.594711Z"
    },
    "colab": {},
    "colab_type": "code",
    "id": "Jb479SskDmYB"
   },
   "outputs": [],
   "source": [
    "from sklearn.model_selection import train_test_split\n",
    "\n",
    "# Splitting into train and test in the ratio 70:30\n",
    "X_train, X_test, y_train, y_test = train_test_split(X2, y2, test_size=0.30,shuffle=False, random_state=507)\n",
    "X_train, X_cv, y_train, y_cv = train_test_split(X_train, y_train, test_size=0.30, shuffle=False, random_state=507)"
   ]
  },
  {
   "cell_type": "code",
   "execution_count": 154,
   "metadata": {
    "ExecuteTime": {
     "end_time": "2019-03-13T09:32:52.785872Z",
     "start_time": "2019-03-13T09:32:52.747978Z"
    },
    "colab": {
     "base_uri": "https://localhost:8080/",
     "height": 68
    },
    "colab_type": "code",
    "id": "iTv2RMXy-69b",
    "outputId": "57535bf9-06b2-458e-cb42-7fa2e3b0a5d5"
   },
   "outputs": [
    {
     "name": "stdout",
     "output_type": "stream",
     "text": [
      "(178443,) (178443,)\n",
      "(76476,) (76476,)\n",
      "(109252,) (109252,)\n"
     ]
    }
   ],
   "source": [
    "print(X_train.shape, y_train.shape)\n",
    "print(X_cv.shape, y_cv.shape)\n",
    "print(X_test.shape, y_test.shape)"
   ]
  },
  {
   "cell_type": "markdown",
   "metadata": {
    "colab_type": "text",
    "id": "luoFzO_KCdK7"
   },
   "source": [
    "**Free-up space by deleting variables that are not required from this point onwards**"
   ]
  },
  {
   "cell_type": "code",
   "execution_count": 0,
   "metadata": {
    "ExecuteTime": {
     "end_time": "2019-03-13T09:32:53.070687Z",
     "start_time": "2019-03-13T09:32:52.787878Z"
    },
    "colab": {},
    "colab_type": "code",
    "id": "S4qWKx0CCdK8"
   },
   "outputs": [],
   "source": [
    "del actualScore, positiveNegative, filtered_data, display,sorted_data, final, sent_0, sent_1000, sent_150, sent_4900, soup, text, sent_1500, X, y, train_auc, cv_auc, MSE, vectorizer, neigh, cnf_matrix, X2, y2"
   ]
  },
  {
   "cell_type": "code",
   "execution_count": 0,
   "metadata": {
    "ExecuteTime": {
     "end_time": "2019-03-13T09:32:53.148893Z",
     "start_time": "2019-03-13T09:32:53.072694Z"
    },
    "colab": {},
    "colab_type": "code",
    "id": "BQAW1xUuCdLB"
   },
   "outputs": [],
   "source": [
    "# https://stackoverflow.com/questions/18691084/what-does-1-mean-in-numpy-reshape\n",
    "\n",
    "def get_text_length(x):\n",
    "    \n",
    "    \"\"\"\n",
    "    This function takes in a array and returns the length of the elements in the array.\n",
    "    \"\"\"\n",
    "    return np.array([len(t) for t in x]).reshape(-1, 1)"
   ]
  },
  {
   "cell_type": "code",
   "execution_count": 0,
   "metadata": {
    "ExecuteTime": {
     "end_time": "2019-03-13T09:32:53.313957Z",
     "start_time": "2019-03-13T09:32:53.156878Z"
    },
    "colab": {},
    "colab_type": "code",
    "id": "ac82y5fuCdLL"
   },
   "outputs": [],
   "source": [
    "rev_len_X_train = get_text_length(X_train)\n",
    "rev_len_X_cv = get_text_length(X_cv)\n",
    "rev_len_X_test = get_text_length(X_test)"
   ]
  },
  {
   "cell_type": "code",
   "execution_count": 158,
   "metadata": {
    "ExecuteTime": {
     "end_time": "2019-03-13T09:32:53.323731Z",
     "start_time": "2019-03-13T09:32:53.316437Z"
    },
    "colab": {
     "base_uri": "https://localhost:8080/",
     "height": 68
    },
    "colab_type": "code",
    "id": "Cm0cKv1NCdLQ",
    "outputId": "43e93636-c27c-4624-e49d-fbc364d47574"
   },
   "outputs": [
    {
     "name": "stdout",
     "output_type": "stream",
     "text": [
      "178443\n",
      "76476\n",
      "109252\n"
     ]
    }
   ],
   "source": [
    "print(len(rev_len_X_train))\n",
    "print(len(rev_len_X_cv))\n",
    "print(len(rev_len_X_test))"
   ]
  },
  {
   "cell_type": "markdown",
   "metadata": {
    "colab_type": "text",
    "id": "UwLfdAUcCdLZ"
   },
   "source": [
    "**BoW with Feature Engineering**"
   ]
  },
  {
   "cell_type": "code",
   "execution_count": 159,
   "metadata": {
    "ExecuteTime": {
     "end_time": "2019-03-13T09:32:58.459755Z",
     "start_time": "2019-03-13T09:32:53.325737Z"
    },
    "colab": {
     "base_uri": "https://localhost:8080/",
     "height": 119
    },
    "colab_type": "code",
    "id": "3U_CzcOjAaR6",
    "outputId": "b1e06e1a-8a30-4417-d17f-e56f5c835087"
   },
   "outputs": [
    {
     "data": {
      "text/plain": [
       "CountVectorizer(analyzer='word', binary=False, decode_error='strict',\n",
       "        dtype=<class 'numpy.int64'>, encoding='utf-8', input='content',\n",
       "        lowercase=True, max_df=1.0, max_features=None, min_df=1,\n",
       "        ngram_range=(1, 1), preprocessor=None, stop_words=None,\n",
       "        strip_accents=None, token_pattern='(?u)\\\\b\\\\w\\\\w+\\\\b',\n",
       "        tokenizer=None, vocabulary=None)"
      ]
     },
     "execution_count": 159,
     "metadata": {
      "tags": []
     },
     "output_type": "execute_result"
    }
   ],
   "source": [
    "# ss\n",
    "from sklearn.feature_extraction.text import CountVectorizer\n",
    "vectorizer = CountVectorizer()\n",
    "vectorizer.fit(X_train) # fit has to happen only on train data"
   ]
  },
  {
   "cell_type": "code",
   "execution_count": 160,
   "metadata": {
    "ExecuteTime": {
     "end_time": "2019-03-13T09:33:10.081697Z",
     "start_time": "2019-03-13T09:33:10.076683Z"
    },
    "colab": {
     "base_uri": "https://localhost:8080/",
     "height": 34
    },
    "colab_type": "code",
    "id": "ZxaGZ-cLCdLu",
    "outputId": "e578ebc4-9c1c-482d-aca3-d8135bf80f1c"
   },
   "outputs": [
    {
     "data": {
      "text/plain": [
       "numpy.ndarray"
      ]
     },
     "execution_count": 160,
     "metadata": {
      "tags": []
     },
     "output_type": "execute_result"
    }
   ],
   "source": [
    "type(rev_len_X_train)"
   ]
  },
  {
   "cell_type": "code",
   "execution_count": 161,
   "metadata": {
    "ExecuteTime": {
     "end_time": "2019-03-13T09:33:10.160762Z",
     "start_time": "2019-03-13T09:33:10.083703Z"
    },
    "colab": {
     "base_uri": "https://localhost:8080/",
     "height": 34
    },
    "colab_type": "code",
    "id": "BKiSp38DCdLz",
    "outputId": "20252ae2-e2f8-4ddf-ba7f-44f9e561bcba"
   },
   "outputs": [
    {
     "data": {
      "text/plain": [
       "scipy.sparse.csr.csr_matrix"
      ]
     },
     "execution_count": 161,
     "metadata": {
      "tags": []
     },
     "output_type": "execute_result"
    }
   ],
   "source": [
    "type(X_train_bow)"
   ]
  },
  {
   "cell_type": "code",
   "execution_count": 0,
   "metadata": {
    "ExecuteTime": {
     "end_time": "2019-03-13T09:33:10.561863Z",
     "start_time": "2019-03-13T09:33:10.163769Z"
    },
    "colab": {},
    "colab_type": "code",
    "id": "bK49t0lXCdL5"
   },
   "outputs": [],
   "source": [
    "from scipy.sparse import hstack\n",
    "\n",
    "# Here we append the sparse matrix and the dense array that contains the length of the text passed to it\n",
    "\n",
    "xltf = hstack((X_train_bow, np.array(rev_len_X_train)))\n",
    "\n",
    "xltf_cv = hstack((X_cv_bow, np.array(rev_len_X_cv)))\n",
    "\n",
    "xltf_test = hstack((X_test_bow, np.array(rev_len_X_test)))"
   ]
  },
  {
   "cell_type": "code",
   "execution_count": 0,
   "metadata": {
    "ExecuteTime": {
     "end_time": "2019-03-13T09:33:10.569885Z",
     "start_time": "2019-03-13T09:33:10.566876Z"
    },
    "colab": {},
    "colab_type": "code",
    "id": "eLov38x3Exuw"
   },
   "outputs": [],
   "source": [
    "from sklearn.naive_bayes import MultinomialNB"
   ]
  },
  {
   "cell_type": "code",
   "execution_count": 164,
   "metadata": {
    "ExecuteTime": {
     "end_time": "2019-03-13T09:33:14.383177Z",
     "start_time": "2019-03-13T09:33:10.572891Z"
    },
    "colab": {
     "base_uri": "https://localhost:8080/",
     "height": 332
    },
    "colab_type": "code",
    "id": "63LgKMrSHP8t",
    "outputId": "dcb3e6fd-d02f-415f-8aa0-fe360b44de10"
   },
   "outputs": [
    {
     "data": {
      "image/png": "[encoded data removed]",
      "text/plain": [
       "<Figure size 432x288 with 1 Axes>"
      ]
     },
     "metadata": {
      "tags": []
     },
     "output_type": "display_data"
    },
    {
     "name": "stdout",
     "output_type": "stream",
     "text": [
      "\n",
      "The optimal number of alpha is 0.1\n"
     ]
    }
   ],
   "source": [
    "from sklearn.metrics import roc_auc_score\n",
    "import matplotlib.pyplot as plt\n",
    "\n",
    "# alpha values\n",
    "alpha_range = [0.00001, 0.0001, 0.001, 0.01, 0.1, 1, 10, 100,1000]\n",
    "\n",
    "# empty list that will hold cv scores\n",
    "train_auc = []\n",
    "cv_auc = []\n",
    "\n",
    "\n",
    "for a in alpha_range:\n",
    "    mn_nb = MultinomialNB(alpha= a)\n",
    "    mn_nb.fit(xltf, y_train)\n",
    "    # roc_auc_score(y_true, y_score) the 2nd parameter should be probability estimates of the positive class\n",
    "    # not the predicted outputs\n",
    "    y_train_pred =  mn_nb.predict_proba(xltf)[:,1]\n",
    "    y_cv_pred =  mn_nb.predict_proba(xltf_cv)[:,1]\n",
    "    \n",
    "    train_auc.append(roc_auc_score(y_train,y_train_pred))\n",
    "    cv_auc.append(roc_auc_score(y_cv, y_cv_pred))\n",
    "\n",
    "plt.plot(alpha_range, train_auc, label='Train AUC')\n",
    "plt.plot(alpha_range, cv_auc, label='CV AUC')\n",
    "plt.legend()\n",
    "plt.xlabel(\"alpha: hyperparameter\")\n",
    "plt.ylabel(\"AUC\")\n",
    "plt.xscale('log')\n",
    "plt.title(\"ERROR PLOTS\")\n",
    "plt.show()\n",
    "\n",
    "\n",
    "\n",
    "\n",
    "# changing to misclassification error\n",
    "MSE = [1 - x for x in cv_auc]\n",
    "\n",
    "\n",
    "# determining best alpha\n",
    "optimal_alpha_bow2_mnnb = alpha_range[MSE.index(min(MSE))]\n",
    "print('\\nThe optimal number of alpha is {}'.format(optimal_alpha_bow2_mnnb))\n"
   ]
  },
  {
   "cell_type": "code",
   "execution_count": 165,
   "metadata": {
    "ExecuteTime": {
     "end_time": "2019-03-13T09:33:15.409638Z",
     "start_time": "2019-03-13T09:33:14.386186Z"
    },
    "colab": {
     "base_uri": "https://localhost:8080/",
     "height": 413
    },
    "colab_type": "code",
    "id": "da8QSzO1Jvlk",
    "outputId": "af66958e-d8cf-45f5-fc43-4e95e551f9ca"
   },
   "outputs": [
    {
     "data": {
      "image/png": "[encoded data removed]",
      "text/plain": [
       "<Figure size 432x288 with 1 Axes>"
      ]
     },
     "metadata": {
      "tags": []
     },
     "output_type": "display_data"
    },
    {
     "name": "stdout",
     "output_type": "stream",
     "text": [
      "====================================================================================================\n",
      "Train confusion matrix\n",
      "[[ 21547   5418]\n",
      " [  7770 143708]]\n",
      "Test confusion matrix\n",
      "[[12703  5655]\n",
      " [ 5505 85389]]\n"
     ]
    }
   ],
   "source": [
    "## ss\n",
    "\n",
    "# https://scikit-learn.org/stable/modules/generated/sklearn.metrics.roc_curve.html#sklearn.metrics.roc_curve\n",
    "from sklearn.metrics import roc_curve, auc\n",
    "\n",
    "\n",
    "neigh = MultinomialNB(alpha=optimal_alpha_bow2_mnnb)\n",
    "neigh.fit(xltf, y_train)\n",
    "# roc_auc_score(y_true, y_score) the 2nd parameter should be probability estimates of the positive class\n",
    "# not the predicted outputs\n",
    "\n",
    "train_fpr, train_tpr, thresholds = roc_curve(y_train, neigh.predict_proba(xltf)[:,1])\n",
    "test_fpr, test_tpr, thresholds = roc_curve(y_test, neigh.predict_proba(xltf_test)[:,1])\n",
    "\n",
    "plt.plot([0,1],[0,1],'k--')\n",
    "plt.plot(train_fpr, train_tpr, label=\"train AUC =\"+str(auc(train_fpr, train_tpr)))\n",
    "plt.plot(test_fpr, test_tpr, label=\"train AUC =\"+str(auc(test_fpr, test_tpr)))\n",
    "plt.legend()\n",
    "plt.xlabel(\"FFR\")\n",
    "plt.ylabel(\"TPR\")\n",
    "plt.title(\"AUC- ROC plot\")\n",
    "plt.show()\n",
    "\n",
    "print(\"=\"*100)\n",
    "\n",
    "from sklearn.metrics import confusion_matrix\n",
    "print(\"Train confusion matrix\")\n",
    "print(confusion_matrix(y_train, neigh.predict(xltf)))\n",
    "print(\"Test confusion matrix\")\n",
    "print(confusion_matrix(y_test, neigh.predict(xltf_test)))"
   ]
  },
  {
   "cell_type": "code",
   "execution_count": 0,
   "metadata": {
    "ExecuteTime": {
     "end_time": "2019-03-13T09:33:15.422192Z",
     "start_time": "2019-03-13T09:33:15.414172Z"
    },
    "colab": {},
    "colab_type": "code",
    "id": "nP8g4j6AFFyp"
   },
   "outputs": [],
   "source": [
    "auc_train_bow2_mnnb = auc(train_fpr, train_tpr)\n",
    "auc_test_bow2_mnnb = auc(test_fpr, test_tpr)"
   ]
  },
  {
   "cell_type": "code",
   "execution_count": 167,
   "metadata": {
    "ExecuteTime": {
     "end_time": "2019-03-13T09:33:15.770389Z",
     "start_time": "2019-03-13T09:33:15.425207Z"
    },
    "colab": {
     "base_uri": "https://localhost:8080/",
     "height": 297
    },
    "colab_type": "code",
    "id": "e8R-zkBeFQvy",
    "outputId": "6f0385c0-7592-4519-cfd6-8e80ceca4d8a"
   },
   "outputs": [
    {
     "data": {
      "image/png": "[encoded data removed]",
      "text/plain": [
       "<Figure size 432x288 with 2 Axes>"
      ]
     },
     "metadata": {
      "tags": []
     },
     "output_type": "display_data"
    }
   ],
   "source": [
    "cnf_matrix = confusion_matrix(y_test, neigh.predict(xltf_test))\n",
    "np.set_printoptions(precision=2)\n",
    "class_names = ['Negative', 'Positive']\n",
    "# Plot non-normalized confusion matrix\n",
    "plt.figure()\n",
    "plot_confusion_matrix(cnf_matrix, classes=class_names, title='Confusion Matrix');"
   ]
  },
  {
   "cell_type": "code",
   "execution_count": 168,
   "metadata": {
    "ExecuteTime": {
     "end_time": "2019-03-13T09:33:16.038387Z",
     "start_time": "2019-03-13T09:33:15.773396Z"
    },
    "colab": {
     "base_uri": "https://localhost:8080/",
     "height": 544
    },
    "colab_type": "code",
    "id": "ETtEaw5XCdMk",
    "outputId": "f8d8124c-a935-4916-c15f-2b633376d4d5"
   },
   "outputs": [
    {
     "name": "stdout",
     "output_type": "stream",
     "text": [
      "Important words in negative reviews\n",
      "+-------+---------+--------------------+\n",
      "| class | feature |     importance     |\n",
      "+-------+---------+--------------------+\n",
      "|   0   |   not   | 5.3055941944631755 |\n",
      "|   0   |   like  | 6.482055229862741  |\n",
      "|   0   | product | 6.661366901081326  |\n",
      "|   0   |  would  | 6.723059878896089  |\n",
      "|   0   |  taste  | 6.779044266974202  |\n",
      "|   0   |   one   | 6.873214968110277  |\n",
      "|   0   |    no   |   7.14400470212    |\n",
      "|   0   |   good  | 7.144908303030867  |\n",
      "|   0   |   tea   | 7.2514899765280845 |\n",
      "|   0   |  flavor | 7.285414069608427  |\n",
      "+-------+---------+--------------------+\n",
      "********************************\n",
      "Important words in positive reviews\n",
      "+-------+---------+-------------------+\n",
      "| class | feature |     importance    |\n",
      "+-------+---------+-------------------+\n",
      "|   1   |   not   | 5.770965303803038 |\n",
      "|   1   |   like  | 6.639434786291659 |\n",
      "|   1   |   good  | 6.710428504843417 |\n",
      "|   1   |  great  | 6.738289142271407 |\n",
      "|   1   |   tea   | 6.863548065095065 |\n",
      "|   1   |   one   | 6.922613178899054 |\n",
      "|   1   |  taste  | 7.045297826788294 |\n",
      "|   1   | product | 7.072118914349293 |\n",
      "|   1   |   love  | 7.103131482956494 |\n",
      "|   1   |  flavor | 7.182137027529523 |\n",
      "+-------+---------+-------------------+\n"
     ]
    }
   ],
   "source": [
    "important_features(vectorizer,neigh)"
   ]
  },
  {
   "cell_type": "markdown",
   "metadata": {},
   "source": [
    "**Observation:**\n",
    "1. For the BoW vectorizer, we performed feature engineering and the optimal value of alpha we got is 0.1.\n",
    "2. The AUC for test data is quite high (~91%)\n",
    "3. We can some important features are common in both the reviews; positive and negative.\n",
    "4. The confusion matrix shows the classification. It shows we correctly classified 86389 positive reviews and 12703 negative reviews. "
   ]
  },
  {
   "cell_type": "markdown",
   "metadata": {
    "colab_type": "text",
    "id": "EDKHW0JDFZWm"
   },
   "source": [
    "**TFIDF of with feature engineering**"
   ]
  },
  {
   "cell_type": "code",
   "execution_count": 169,
   "metadata": {
    "ExecuteTime": {
     "end_time": "2019-03-13T09:34:02.497471Z",
     "start_time": "2019-03-13T09:33:16.041396Z"
    },
    "colab": {
     "base_uri": "https://localhost:8080/",
     "height": 102
    },
    "colab_type": "code",
    "id": "umXaxM4rFiEu",
    "outputId": "338dffc0-251d-4ed4-d69d-f28df83ef87f",
    "scrolled": true
   },
   "outputs": [
    {
     "name": "stdout",
     "output_type": "stream",
     "text": [
      "After vectorizations\n",
      "(178443, 99725) (178443,)\n",
      "(76476, 99725) (76476,)\n",
      "(109252, 99725) (109252,)\n",
      "====================================================================================================\n"
     ]
    }
   ],
   "source": [
    "# ss\n",
    "from sklearn.feature_extraction.text import TfidfVectorizer\n",
    "tf_idf_vect = TfidfVectorizer(ngram_range=(1,2), min_df=10)\n",
    "tf_idf_vect.fit(X_train) # fit has to happen only on train data\n",
    "\n",
    "# we use the fitted CountVectorizer to convert the text to vector\n",
    "X_train_tfidf = tf_idf_vect.transform(X_train)\n",
    "X_cv_tfidf = tf_idf_vect.transform(X_cv)\n",
    "X_test_tfidf = tf_idf_vect.transform(X_test)\n",
    "\n",
    "print(\"After vectorizations\")\n",
    "print(X_train_tfidf.shape, y_train.shape)\n",
    "print(X_cv_tfidf.shape, y_cv.shape)\n",
    "print(X_test_tfidf.shape, y_test.shape)\n",
    "print(\"=\"*100)"
   ]
  },
  {
   "cell_type": "code",
   "execution_count": 0,
   "metadata": {
    "ExecuteTime": {
     "end_time": "2019-03-13T09:34:02.971909Z",
     "start_time": "2019-03-13T09:34:02.500479Z"
    },
    "colab": {},
    "colab_type": "code",
    "id": "yeizMTuRCdM7"
   },
   "outputs": [],
   "source": [
    "xltf_tfidf = hstack((X_train_tfidf, np.array(rev_len_X_train)))\n",
    "\n",
    "xltf_cv_tfidf = hstack((X_cv_tfidf, np.array(rev_len_X_cv)))\n",
    "\n",
    "xltf_test_tfidf = hstack((X_test_tfidf, np.array(rev_len_X_test)))"
   ]
  },
  {
   "cell_type": "code",
   "execution_count": 172,
   "metadata": {
    "ExecuteTime": {
     "end_time": "2019-03-13T09:34:09.583980Z",
     "start_time": "2019-03-13T09:34:02.973943Z"
    },
    "colab": {
     "base_uri": "https://localhost:8080/",
     "height": 332
    },
    "colab_type": "code",
    "id": "a7mHU1X2FngL",
    "outputId": "3a4cb898-910b-41c5-c560-45867565e2dc"
   },
   "outputs": [
    {
     "data": {
      "image/png": "[encoded data removed]",
      "text/plain": [
       "<Figure size 432x288 with 1 Axes>"
      ]
     },
     "metadata": {
      "tags": []
     },
     "output_type": "display_data"
    },
    {
     "name": "stdout",
     "output_type": "stream",
     "text": [
      "\n",
      "The optimal number of alpha is 0.1\n"
     ]
    }
   ],
   "source": [
    "from sklearn.metrics import roc_auc_score\n",
    "import matplotlib.pyplot as plt\n",
    "\n",
    "# alpha values\n",
    "alpha_range = [0.00001, 0.0001, 0.001, 0.01, 0.1, 1, 10, 100,1000]\n",
    "\n",
    "# empty list that will hold cv scores\n",
    "train_auc = []\n",
    "cv_auc = []\n",
    "\n",
    "\n",
    "for a in alpha_range:\n",
    "    mn_nb = MultinomialNB(alpha= a)\n",
    "    mn_nb.fit(xltf_tfidf, y_train)\n",
    "    # roc_auc_score(y_true, y_score) the 2nd parameter should be probability estimates of the positive class\n",
    "    # not the predicted outputs\n",
    "    y_train_pred =  mn_nb.predict_proba(xltf_tfidf)[:,1]\n",
    "    y_cv_pred =  mn_nb.predict_proba(xltf_cv_tfidf)[:,1]\n",
    "    \n",
    "    train_auc.append(roc_auc_score(y_train,y_train_pred))\n",
    "    cv_auc.append(roc_auc_score(y_cv, y_cv_pred))\n",
    "\n",
    "plt.plot(alpha_range, train_auc, label='Train AUC')\n",
    "plt.plot(alpha_range, cv_auc, label='CV AUC')\n",
    "plt.legend()\n",
    "plt.xlabel(\"alpha: hyperparameter\")\n",
    "plt.xscale('log')\n",
    "plt.ylabel(\"AUC\")\n",
    "plt.title(\"ERROR PLOTS\")\n",
    "plt.show()\n",
    "\n",
    "\n",
    "\n",
    "\n",
    "# changing to misclassification error\n",
    "MSE = [1 - x for x in cv_auc]\n",
    "\n",
    "\n",
    "# determining best alpha\n",
    "optimal_alpha_tfidf2_mnnb = alpha_range[MSE.index(min(MSE))]\n",
    "print('\\nThe optimal number of alpha is {}'.format(optimal_alpha_tfidf2_mnnb))\n"
   ]
  },
  {
   "cell_type": "code",
   "execution_count": 192,
   "metadata": {
    "ExecuteTime": {
     "end_time": "2019-03-13T09:34:11.204306Z",
     "start_time": "2019-03-13T09:34:09.586988Z"
    },
    "colab": {
     "base_uri": "https://localhost:8080/",
     "height": 413
    },
    "colab_type": "code",
    "id": "HJiSYXvLF2h7",
    "outputId": "1d4893fb-3b5f-49c0-a5fe-a6b7d71f6faf"
   },
   "outputs": [
    {
     "data": {
      "image/png": "[encoded data removed]",
      "text/plain": [
       "<Figure size 432x288 with 1 Axes>"
      ]
     },
     "metadata": {
      "tags": []
     },
     "output_type": "display_data"
    },
    {
     "name": "stdout",
     "output_type": "stream",
     "text": [
      "====================================================================================================\n",
      "Train confusion matrix\n",
      "[[ 18838   8127]\n",
      " [  2263 149215]]\n",
      "Test confusion matrix\n",
      "[[10231  8127]\n",
      " [ 1368 89526]]\n"
     ]
    }
   ],
   "source": [
    "## ss\n",
    "\n",
    "# https://scikit-learn.org/stable/modules/generated/sklearn.metrics.roc_curve.html#sklearn.metrics.roc_curve\n",
    "from sklearn.metrics import roc_curve, auc\n",
    "\n",
    "\n",
    "optimal_alpha_tfidf = MultinomialNB(alpha=optimal_alpha_tfidf2_mnnb)\n",
    "optimal_alpha_tfidf.fit(xltf_tfidf, y_train)\n",
    "# roc_auc_score(y_true, y_score) the 2nd parameter should be probability estimates of the positive class\n",
    "# not the predicted outputs\n",
    "\n",
    "train_fpr, train_tpr, thresholds = roc_curve(y_train, optimal_alpha_tfidf.predict_proba(xltf_tfidf)[:,1])\n",
    "test_fpr, test_tpr, thresholds = roc_curve(y_test, optimal_alpha_tfidf.predict_proba(xltf_test_tfidf)[:,1])\n",
    "\n",
    "plt.plot([0,1],[0,1],'k--')\n",
    "plt.plot(train_fpr, train_tpr, label=\"train AUC =\"+str(auc(train_fpr, train_tpr)))\n",
    "plt.plot(test_fpr, test_tpr, label=\"test AUC =\"+str(auc(test_fpr, test_tpr)))\n",
    "plt.legend()\n",
    "plt.xlabel(\"FFR\")\n",
    "plt.ylabel(\"TPR\")\n",
    "plt.title(\"AUC- ROC plot\")\n",
    "plt.show()\n",
    "\n",
    "print(\"=\"*100)\n",
    "\n",
    "from sklearn.metrics import confusion_matrix\n",
    "print(\"Train confusion matrix\")\n",
    "print(confusion_matrix(y_train, optimal_alpha_tfidf.predict(xltf_tfidf)))\n",
    "print(\"Test confusion matrix\")\n",
    "print(confusion_matrix(y_test, optimal_alpha_tfidf.predict(xltf_test_tfidf)))"
   ]
  },
  {
   "cell_type": "code",
   "execution_count": 0,
   "metadata": {
    "ExecuteTime": {
     "end_time": "2019-03-13T09:34:11.212325Z",
     "start_time": "2019-03-13T09:34:11.207311Z"
    },
    "colab": {},
    "colab_type": "code",
    "id": "hRaadIgDGBhD"
   },
   "outputs": [],
   "source": [
    "auc_train_tfidf2_mnnb = auc(train_fpr, train_tpr)\n",
    "auc_test_tfidf2_mnnb = auc(test_fpr, test_tpr)"
   ]
  },
  {
   "cell_type": "code",
   "execution_count": 194,
   "metadata": {
    "ExecuteTime": {
     "end_time": "2019-03-13T09:34:11.631479Z",
     "start_time": "2019-03-13T09:34:11.216336Z"
    },
    "colab": {
     "base_uri": "https://localhost:8080/",
     "height": 297
    },
    "colab_type": "code",
    "id": "DkMPM6NCGLzz",
    "outputId": "69d66881-7f57-4b28-a008-3fd952baa3da"
   },
   "outputs": [
    {
     "data": {
      "image/png": "[encoded data removed]",
      "text/plain": [
       "<Figure size 432x288 with 2 Axes>"
      ]
     },
     "metadata": {
      "tags": []
     },
     "output_type": "display_data"
    }
   ],
   "source": [
    "cnf_matrix = confusion_matrix(y_test, optimal_alpha_tfidf.predict(xltf_test_tfidf))\n",
    "np.set_printoptions(precision=2)\n",
    "class_names = ['Negative', 'Positive']\n",
    "# Plot non-normalized confusion matrix\n",
    "plt.figure()\n",
    "plot_confusion_matrix(cnf_matrix, classes=class_names, title='Confusion Matrix');"
   ]
  },
  {
   "cell_type": "code",
   "execution_count": 195,
   "metadata": {
    "ExecuteTime": {
     "end_time": "2019-03-13T09:34:12.065527Z",
     "start_time": "2019-03-13T09:34:11.634459Z"
    },
    "colab": {
     "base_uri": "https://localhost:8080/",
     "height": 544
    },
    "colab_type": "code",
    "id": "JFYV1RPZCdNe",
    "outputId": "ad4ddf88-3a7c-435a-8feb-20db8b7893e5"
   },
   "outputs": [
    {
     "name": "stdout",
     "output_type": "stream",
     "text": [
      "Important words in negative reviews\n",
      "+-------+---------+--------------------+\n",
      "| class | feature |     importance     |\n",
      "+-------+---------+--------------------+\n",
      "|   0   |   not   | 8.686746936902168  |\n",
      "|   0   |   like  |  9.53892058399145  |\n",
      "|   0   | product | 9.568360206726716  |\n",
      "|   0   |  would  |  9.65171208290322  |\n",
      "|   0   |  taste  | 9.660032389801337  |\n",
      "|   0   |   one   | 9.884145929745483  |\n",
      "|   0   |    no   | 10.008038614888079 |\n",
      "|   0   |   tea   | 10.048207400713755 |\n",
      "|   0   |  flavor | 10.127724314943944 |\n",
      "|   0   |   good  | 10.151751823482266 |\n",
      "+-------+---------+--------------------+\n",
      "********************************\n",
      "Important words in positive reviews\n",
      "+-------+---------+-------------------+\n",
      "| class | feature |     importance    |\n",
      "+-------+---------+-------------------+\n",
      "|   1   |   not   | 9.197896407951081 |\n",
      "|   1   |  great  | 9.526167392361938 |\n",
      "|   1   |   tea   |  9.58754070837022 |\n",
      "|   1   |   good  | 9.604041960251308 |\n",
      "|   1   |   like  | 9.700749775222645 |\n",
      "|   1   |   love  | 9.783103106771234 |\n",
      "|   1   | product |  9.8381642348687  |\n",
      "|   1   |   one   | 9.912403278394027 |\n",
      "|   1   |  taste  | 9.927003477182495 |\n",
      "|   1   |  flavor |  9.98578561985564 |\n",
      "+-------+---------+-------------------+\n"
     ]
    }
   ],
   "source": [
    "important_features(tf_idf_vect,optimal_alpha_tfidf)"
   ]
  },
  {
   "cell_type": "markdown",
   "metadata": {},
   "source": [
    "**Observation:**\n",
    "1. For the TFIDF vectorizer, we performed feature engineering and the optimal value of alpha we got is 0.1.\n",
    "2. The AUC for test data is quite high (~95%)\n",
    "3. We can some important features are common in both the reviews; positive and negative.\n",
    "4. The confusion matrix shows the classification. It shows we correctly classified 89526 positive reviews and 10231 negative reviews. "
   ]
  },
  {
   "cell_type": "markdown",
   "metadata": {
    "colab_type": "text",
    "id": "iB6r8ZtXCdNk"
   },
   "source": [
    "**Summary**"
   ]
  },
  {
   "cell_type": "code",
   "execution_count": 0,
   "metadata": {
    "ExecuteTime": {
     "end_time": "2019-03-13T09:34:12.072545Z",
     "start_time": "2019-03-13T09:34:12.068536Z"
    },
    "colab": {},
    "colab_type": "code",
    "id": "76-AqB8PCdNn"
   },
   "outputs": [],
   "source": [
    "from prettytable import PrettyTable"
   ]
  },
  {
   "cell_type": "code",
   "execution_count": 0,
   "metadata": {
    "colab": {},
    "colab_type": "code",
    "id": "g11hUcg8Zma0"
   },
   "outputs": [],
   "source": [
    "del t1"
   ]
  },
  {
   "cell_type": "code",
   "execution_count": 0,
   "metadata": {
    "ExecuteTime": {
     "end_time": "2019-03-13T09:34:12.140808Z",
     "start_time": "2019-03-13T09:34:12.075555Z"
    },
    "colab": {},
    "colab_type": "code",
    "id": "t0grHRAxCdNr"
   },
   "outputs": [],
   "source": [
    "t1 = PrettyTable()\n",
    "t1.field_names = ['Sr. No', 'Vectorizer', 'Feature Engineering', 'Optimal alpha', 'AUC Train','AUC Test']"
   ]
  },
  {
   "cell_type": "code",
   "execution_count": 0,
   "metadata": {
    "ExecuteTime": {
     "end_time": "2019-03-13T09:34:12.207496Z",
     "start_time": "2019-03-13T09:34:12.142813Z"
    },
    "colab": {},
    "colab_type": "code",
    "id": "J6VSjMEcCdNv"
   },
   "outputs": [],
   "source": [
    "t1.add_row([1, 'BoW', 0, optimal_alpha_bow_mnnb, auc_train_bow_mnnb,auc_test_bow_mnnb])\n",
    "t1.add_row([2, 'TF-IDF', 0, optimal_alpha_tfidf_mnnb, auc_train_tfidf_mnnb, auc_test_tfidf_mnnb])\n",
    "t1.add_row([3, 'BoW', 1, optimal_alpha_bow2_mnnb, auc_train_bow2_mnnb,auc_test_bow2_mnnb])\n",
    "t1.add_row([4, 'TF-IDF',1, optimal_alpha_tfidf2_mnnb, auc_train_tfidf2_mnnb, auc_test_tfidf2_mnnb])"
   ]
  },
  {
   "cell_type": "code",
   "execution_count": 200,
   "metadata": {
    "ExecuteTime": {
     "end_time": "2019-03-13T09:34:12.352157Z",
     "start_time": "2019-03-13T09:34:12.209500Z"
    },
    "colab": {
     "base_uri": "https://localhost:8080/",
     "height": 153
    },
    "colab_type": "code",
    "id": "MFz7ZGzcCdNy",
    "outputId": "cbe4a6ef-3d5b-45c8-ccd7-a4d4d755cd2a"
   },
   "outputs": [
    {
     "name": "stdout",
     "output_type": "stream",
     "text": [
      "+--------+------------+---------------------+---------------+--------------------+--------------------+\n",
      "| Sr. No | Vectorizer | Feature Engineering | Optimal alpha |     AUC Train      |      AUC Test      |\n",
      "+--------+------------+---------------------+---------------+--------------------+--------------------+\n",
      "|   1    |    BoW     |          0          |       1       | 0.9391807647500696 | 0.9127441973648484 |\n",
      "|   2    |   TF-IDF   |          0          |      0.1      | 0.981424533814141  | 0.9572985045357382 |\n",
      "|   3    |    BoW     |          1          |      0.1      | 0.9546115213995994 | 0.9117835847492158 |\n",
      "|   4    |   TF-IDF   |          1          |      0.1      | 0.9803262867861615 | 0.956271576521293  |\n",
      "+--------+------------+---------------------+---------------+--------------------+--------------------+\n"
     ]
    }
   ],
   "source": [
    "print(t1)"
   ]
  },
  {
   "cell_type": "markdown",
   "metadata": {
    "colab_type": "text",
    "id": "0dFr-6_pCdOS"
   },
   "source": [
    "**Conclusion**\n",
    "\n",
    "1. We performed Naive Bayes on BoW and TF-IDF with and without feature engineering and it is evident that latter performed better. \n",
    "2. Naive Bayes is simple algorithm which is used in benchmarking. \n",
    "3. It should be notes that Naive Bayes assumes that the features are independent of each other. This may not be true in real world. \n",
    "4. Different alpha value for BoW and TFIDF is obtained here and their results are also different.\n",
    "5. The area under curve for both Train and Test data is quite good.\n",
    "6. Naive Bayes is faster compared to KNN. "
   ]
  },
  {
   "cell_type": "markdown",
   "metadata": {
    "colab_type": "text",
    "id": "JTAIr--YZaq-"
   },
   "source": [
    "**Why Multinomial Naive Bayes**: It uses word count and can be used with BoW and TFIDF"
   ]
  }
 ],
 "metadata": {
  "colab": {
   "collapsed_sections": [
    "FxGKHpZlJkle",
    "u-ZSD3tlJklg",
    "mquFtwF5Jklj",
    "6bp7BbwCJkll",
    "Dtpj7iMSJkln",
    "UovIVRyEJklq"
   ],
   "name": "04 Amazon Fine Food Reviews Analysis_NaiveBayes (1).ipynb",
   "provenance": [],
   "toc_visible": true,
   "version": "0.3.2"
  },
  "kernelspec": {
   "display_name": "Python 3",
   "language": "python",
   "name": "python3"
  },
  "language_info": {
   "codemirror_mode": {
    "name": "ipython",
    "version": 3
   },
   "file_extension": ".py",
   "mimetype": "text/x-python",
   "name": "python",
   "nbconvert_exporter": "python",
   "pygments_lexer": "ipython3",
   "version": "3.6.5"
  },
  "toc": {
   "base_numbering": 1,
   "nav_menu": {},
   "number_sections": true,
   "sideBar": true,
   "skip_h1_title": false,
   "title_cell": "Table of Contents",
   "title_sidebar": "Contents",
   "toc_cell": false,
   "toc_position": {},
   "toc_section_display": true,
   "toc_window_display": false
  },
  "varInspector": {
   "cols": {
    "lenName": 16,
    "lenType": 16,
    "lenVar": 40
   },
   "kernels_config": {
    "python": {
     "delete_cmd_postfix": "",
     "delete_cmd_prefix": "del ",
     "library": "var_list.py",
     "varRefreshCmd": "print(var_dic_list())"
    },
    "r": {
     "delete_cmd_postfix": ") ",
     "delete_cmd_prefix": "rm(",
     "library": "var_list.r",
     "varRefreshCmd": "cat(var_dic_list()) "
    }
   },
   "types_to_exclude": [
    "module",
    "function",
    "builtin_function_or_method",
    "instance",
    "_Feature"
   ],
   "window_display": false
  }
 },
 "nbformat": 4,
 "nbformat_minor": 1
}
