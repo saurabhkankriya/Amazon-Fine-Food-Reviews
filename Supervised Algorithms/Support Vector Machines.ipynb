{
 "cells": [
  {
   "cell_type": "markdown",
   "metadata": {
    "_uuid": "f5e35b9f8eac1c9e23292ac9e75886f513fe8519",
    "colab_type": "text",
    "id": "209x4d6Z1KiE"
   },
   "source": [
    "# Amazon Fine Food Reviews Analysis\n",
    "\n",
    "\n",
    "Data Source: https://www.kaggle.com/snap/amazon-fine-food-reviews <br>\n",
    "\n",
    "EDA: https://nycdatascience.com/blog/student-works/amazon-fine-foods-visualization/\n",
    "\n",
    "\n",
    "The Amazon Fine Food Reviews dataset consists of reviews of fine foods from Amazon.<br>\n",
    "\n",
    "Number of reviews: 568,454<br>\n",
    "Number of users: 256,059<br>\n",
    "Number of products: 74,258<br>\n",
    "Timespan: Oct 1999 - Oct 2012<br>\n",
    "Number of Attributes/Columns in data: 10 \n",
    "\n",
    "Attribute Information:\n",
    "\n",
    "1. Id\n",
    "2. ProductId - unique identifier for the product\n",
    "3. UserId - unqiue identifier for the user\n",
    "4. ProfileName\n",
    "5. HelpfulnessNumerator - number of users who found the review helpful\n",
    "6. HelpfulnessDenominator - number of users who indicated whether they found the review helpful or not\n",
    "7. Score - rating between 1 and 5\n",
    "8. Time - timestamp for the review\n",
    "9. Summary - brief summary of the review\n",
    "10. Text - text of the review\n",
    "\n",
    "\n",
    "#### Objective:\n",
    "Given a review, determine whether the review is positive (rating of 4 or 5) or negative (rating of 1 or 2).\n",
    "\n",
    "<br>\n",
    "[Q] How to determine if a review is positive or negative?<br>\n",
    "<br> \n",
    "[Ans] We could use Score/Rating. A rating of 4 or 5 can be cosnidered as a positive review. A rating of 1 or 2 can be considered as negative one. A review of rating 3 is considered nuetral and such reviews are ignored from our analysis. This is an approximate and proxy way of determining the polarity (positivity/negativity) of a review.\n",
    "\n",
    "\n"
   ]
  },
  {
   "cell_type": "markdown",
   "metadata": {
    "_uuid": "499c036ac717873bde5a6a09918c0324a9ad7c36",
    "colab_type": "text",
    "id": "GEj3PEFt1Kio"
   },
   "source": [
    "# [1]. Reading Data"
   ]
  },
  {
   "cell_type": "markdown",
   "metadata": {
    "_uuid": "25065d10fdf20fcc0b1ad772d44b4a7da3d792cb",
    "colab_type": "text",
    "id": "llHiLTny1Kiu"
   },
   "source": [
    "## [1.1] Loading the data\n",
    "\n",
    "The dataset is available in two forms\n",
    "1. .csv file\n",
    "2. SQLite Database\n",
    "\n",
    "In order to load the data, We have used the SQLITE dataset as it is easier to query the data and visualise the data efficiently.\n",
    "<br> \n",
    "\n",
    "Here as we only want to get the global sentiment of the recommendations (positive or negative), we will purposefully ignore all Scores equal to 3. If the score is above 3, then the recommendation wil be set to \"positive\". Otherwise, it will be set to \"negative\"."
   ]
  },
  {
   "cell_type": "code",
   "execution_count": 1,
   "metadata": {
    "ExecuteTime": {
     "end_time": "2019-04-15T03:45:12.601534Z",
     "start_time": "2019-04-15T03:45:11.071465Z"
    },
    "_uuid": "853a9dde70d428a1d7aea7357c1f50b12ed9c612",
    "colab": {},
    "colab_type": "code",
    "id": "TKiTHrKq1Ki1"
   },
   "outputs": [
    {
     "name": "stderr",
     "output_type": "stream",
     "text": [
      "C:\\Users\\Nit-prj1010\\AppData\\Local\\Continuum\\anaconda3\\lib\\site-packages\\gensim\\utils.py:1197: UserWarning: detected Windows; aliasing chunkize to chunkize_serial\n",
      "  warnings.warn(\"detected Windows; aliasing chunkize to chunkize_serial\")\n"
     ]
    }
   ],
   "source": [
    "%matplotlib inline\n",
    "import warnings\n",
    "warnings.filterwarnings(\"ignore\")\n",
    "\n",
    "import sqlite3\n",
    "\n",
    "import pandas as pd\n",
    "import numpy as np\n",
    "import matplotlib.pyplot as plt\n",
    "import seaborn as sns\n",
    "\n",
    "import nltk\n",
    "import string\n",
    "\n",
    "from sklearn.feature_extraction.text import TfidfTransformer\n",
    "from sklearn.feature_extraction.text import TfidfVectorizer\n",
    "from nltk.stem.porter import PorterStemmer\n",
    "\n",
    "import re\n",
    "# Tutorial about Python regular expressions: https://pymotw.com/2/re/\n",
    "from nltk.corpus import stopwords\n",
    "from nltk.stem import PorterStemmer\n",
    "from nltk.stem.wordnet import WordNetLemmatizer\n",
    "\n",
    "from gensim.models import Word2Vec\n",
    "from gensim.models import KeyedVectors\n",
    "\n",
    "import pickle\n",
    "from tqdm import tqdm\n",
    "import os\n",
    "from collections import Counter\n",
    "\n",
    "# ============================== loading libraries ===========================================\n",
    "\n",
    "from sklearn.model_selection import train_test_split\n",
    "from sklearn.model_selection import cross_validate\n",
    "from sklearn.model_selection import cross_val_score\n",
    "\n",
    "from sklearn.preprocessing import StandardScaler\n",
    "\n",
    "from sklearn.model_selection import train_test_split\n",
    "from sklearn.model_selection import GridSearchCV\n",
    "from sklearn.model_selection import RandomizedSearchCV\n",
    "from sklearn.linear_model import LogisticRegression\n",
    "\n",
    "from sklearn.metrics import accuracy_score\n",
    "from sklearn.metrics import confusion_matrix\n",
    "from sklearn import metrics\n",
    "from sklearn.metrics import roc_curve, auc\n",
    "\n",
    "from sklearn.feature_extraction.text import CountVectorizer\n",
    "\n",
    "from prettytable import PrettyTable\n",
    "\n",
    "from sklearn.metrics import confusion_matrix\n",
    "from sklearn.metrics import classification_report\n",
    "\n",
    "import itertools\n",
    "from sklearn.linear_model import SGDClassifier\n",
    "from sklearn.calibration import CalibratedClassifierCV\n",
    "from sklearn.svm import SVC"
   ]
  },
  {
   "cell_type": "markdown",
   "metadata": {
    "_uuid": "1d3c03c38ec1baa87935cfdfdca4bc2a63611b62",
    "colab_type": "text",
    "id": "4FaO7Z3q1Kjk"
   },
   "source": [
    "##  Data Import and Preprocessing"
   ]
  },
  {
   "cell_type": "markdown",
   "metadata": {
    "colab_type": "text",
    "id": "1nxaNO0y1Kq6"
   },
   "source": [
    "**Load preprocessed 'final' data for linear kernel**"
   ]
  },
  {
   "cell_type": "code",
   "execution_count": 57,
   "metadata": {
    "ExecuteTime": {
     "end_time": "2019-04-15T08:37:15.903291Z",
     "start_time": "2019-04-15T08:37:15.229666Z"
    },
    "colab": {},
    "colab_type": "code",
    "id": "2bHfE1o21Kq8"
   },
   "outputs": [],
   "source": [
    "final = pickle.load(open('preprocessed_final_linear_kernel', 'rb'))"
   ]
  },
  {
   "cell_type": "markdown",
   "metadata": {
    "_uuid": "40303c9dc888ce87b9ee6909de656d42e132c51f",
    "colab_type": "text",
    "id": "yjTKYUcw1KrL"
   },
   "source": [
    " *Checkpoint 2: Data is now sorted based on Time and preprocessed.*"
   ]
  },
  {
   "cell_type": "code",
   "execution_count": 58,
   "metadata": {
    "ExecuteTime": {
     "end_time": "2019-04-15T08:37:16.200553Z",
     "start_time": "2019-04-15T08:37:16.196474Z"
    },
    "_uuid": "c0c4a2bd7e3c93da838face7bdddde16da39b5a1",
    "colab": {},
    "colab_type": "code",
    "id": "m-ErAmeZ1KrN"
   },
   "outputs": [],
   "source": [
    "# Create X and Y variable \n",
    "X = final['CleanedText'].values\n",
    "y= final['Score'].values"
   ]
  },
  {
   "cell_type": "code",
   "execution_count": 59,
   "metadata": {
    "ExecuteTime": {
     "end_time": "2019-04-15T08:37:16.525434Z",
     "start_time": "2019-04-15T08:37:16.521424Z"
    },
    "_uuid": "7eca81ddf0d38acc6ee572a03f67c8558a61dff0",
    "colab": {
     "base_uri": "https://localhost:8080/",
     "height": 34
    },
    "colab_type": "code",
    "id": "QDM3nzFY1KrU",
    "outputId": "76b9920d-103b-4a15-cfc9-9833a8cafa70",
    "scrolled": false
   },
   "outputs": [
    {
     "data": {
      "text/plain": [
       "numpy.ndarray"
      ]
     },
     "execution_count": 59,
     "metadata": {},
     "output_type": "execute_result"
    }
   ],
   "source": [
    "type(X)"
   ]
  },
  {
   "cell_type": "code",
   "execution_count": 60,
   "metadata": {
    "ExecuteTime": {
     "end_time": "2019-04-15T08:37:16.836274Z",
     "start_time": "2019-04-15T08:37:16.832264Z"
    },
    "_uuid": "7edc9d363ac68aadd01005ea64fd207166c592b7",
    "colab": {
     "base_uri": "https://localhost:8080/",
     "height": 34
    },
    "colab_type": "code",
    "id": "ayd34xz-1Krd",
    "outputId": "79c8ee73-b43f-440a-e0e7-67d6ad7a1330"
   },
   "outputs": [
    {
     "data": {
      "text/plain": [
       "numpy.ndarray"
      ]
     },
     "execution_count": 60,
     "metadata": {},
     "output_type": "execute_result"
    }
   ],
   "source": [
    "type(y)"
   ]
  },
  {
   "cell_type": "code",
   "execution_count": 61,
   "metadata": {
    "ExecuteTime": {
     "end_time": "2019-04-15T08:37:17.145113Z",
     "start_time": "2019-04-15T08:37:17.134081Z"
    },
    "_uuid": "ea363c9dc4d0476c6b9e6bf90c4ff6460f3a080c",
    "colab": {},
    "colab_type": "code",
    "id": "oh83OMFV1Krj"
   },
   "outputs": [],
   "source": [
    "# ss\n",
    "from sklearn.model_selection import train_test_split\n",
    "\n",
    "# Splitting into train and test in the ratio 70:30\n",
    "X_train, X_test, y_train, y_test = train_test_split(X, y, test_size=0.30,shuffle=False, random_state=507)\n",
    "#X_train, X_cv, y_train, y_cv = train_test_split(X_train, y_train, test_size=0.30, shuffle=False, random_state=507)"
   ]
  },
  {
   "cell_type": "code",
   "execution_count": 62,
   "metadata": {
    "ExecuteTime": {
     "end_time": "2019-04-15T08:37:17.441504Z",
     "start_time": "2019-04-15T08:37:17.429475Z"
    },
    "_uuid": "d6db3ab76eb89a4a205816b6c7faa6daf72b6863",
    "colab": {
     "base_uri": "https://localhost:8080/",
     "height": 51
    },
    "colab_type": "code",
    "id": "gy2wyF0B1Kru",
    "outputId": "9a7039f5-6dd4-49ab-a9d4-f7415f17aba0",
    "scrolled": true
   },
   "outputs": [
    {
     "name": "stdout",
     "output_type": "stream",
     "text": [
      "Train Set: (61441,) 61441\n",
      "Test Set: (26332,) 26332\n"
     ]
    }
   ],
   "source": [
    "print(\"Train Set:\",X_train.shape, y_train.shape[0])\n",
    "print(\"Test Set:\",X_test.shape, y_test.shape[0])"
   ]
  },
  {
   "cell_type": "markdown",
   "metadata": {
    "_uuid": "53560339c0e099f09b757c6d38e86eaea2522418",
    "colab_type": "text",
    "id": "JYRqD9o91Kr_"
   },
   "source": [
    "*Checkpoint 3: Data has been partioned into train, cv and test*"
   ]
  },
  {
   "cell_type": "markdown",
   "metadata": {},
   "source": [
    "##  Linear SVM"
   ]
  },
  {
   "cell_type": "markdown",
   "metadata": {
    "colab_type": "text",
    "id": "0J_0kgdSI36f"
   },
   "source": [
    "**Defining functions that we will be using throughout the notebook for BoW, TFIDF, AvgW2V, TFIDF-WW2V**\n"
   ]
  },
  {
   "cell_type": "markdown",
   "metadata": {
    "colab_type": "text",
    "id": "mV7fe3HJ1Ksn"
   },
   "source": [
    "**Finding the hyper parameter alpha (i.e. 1/C) using RandomSearchCV with cv = 5**"
   ]
  },
  {
   "cell_type": "code",
   "execution_count": 63,
   "metadata": {
    "ExecuteTime": {
     "end_time": "2019-04-15T08:37:17.763372Z",
     "start_time": "2019-04-15T08:37:17.754348Z"
    }
   },
   "outputs": [],
   "source": [
    "def get_error_plot(X_train,penalty_l):\n",
    "    \n",
    "    \"\"\"\n",
    "    This funtion takes in the training data and runs CV with the penalty provided\n",
    "    It returns the error plot\n",
    "    \"\"\"\n",
    "    alpha = [10**-4, 10**-3,10**-2,10**-1, 10**0,10**1, 10**2,10**3, 10**4]\n",
    "    \n",
    "    params_dict = {\n",
    "                \"alpha\": [10**-4, 10**-3,10**-2,10**-1, 10**0,10**1, 10**2,10**3, 10**4]\n",
    "                \n",
    "               }\n",
    "    gs_obj = GridSearchCV(SGDClassifier(loss='hinge',penalty = penalty_l), param_grid = params_dict, scoring = 'roc_auc', cv=5)\n",
    "    \n",
    "    gs_obj.fit(X_train, y_train)\n",
    "\n",
    "\n",
    "    train_scores_mean= gs_obj.cv_results_['mean_train_score']\n",
    "    train_scores_std= gs_obj.cv_results_['std_train_score']\n",
    "    test_scores_mean = gs_obj.cv_results_['mean_test_score'] \n",
    "    test_scores_std= gs_obj.cv_results_['std_test_score']\n",
    "    \n",
    "    # draws the error plot\n",
    "\n",
    "    plt.plot(alpha, train_scores_mean, label='Train AUC')\n",
    "    # this code is copied from here: https://stackoverflow.com/a/48803361/4084039\n",
    "    #plt.gca().fill_between(alpha,train_auc - train_auc_std,train_auc + train_auc_std,alpha=0.2,color='darkblue')\n",
    "\n",
    "    plt.plot(alpha, test_scores_mean, label='CV AUC')\n",
    "    # this code is copied from here: https://stackoverflow.com/a/48803361/4084039 \n",
    "    #plt.gca().fill_between(alpha,cv_auc - cv_auc_std,cv_auc + cv_auc_std,alpha=0.2,color='darkorange')\n",
    "    plt.legend()\n",
    "    plt.xlabel(\"log(alpha)- hyperparamter\")\n",
    "    plt.xscale('log')\n",
    "    plt.ylabel(\"AUC\")\n",
    "    plt.title(\"ERROR PLOT\")\n",
    "    plt.show()"
   ]
  },
  {
   "cell_type": "code",
   "execution_count": 64,
   "metadata": {
    "ExecuteTime": {
     "end_time": "2019-04-15T08:37:18.055173Z",
     "start_time": "2019-04-15T08:37:18.047152Z"
    }
   },
   "outputs": [],
   "source": [
    "def get_best_hyperparameter_alpha(vectorizer, X_train, X_test, y_train, y_test):\n",
    "  \n",
    "    \"\"\"\n",
    "    This funtion takes in the vectorizer,  and performs SGDClassifier hyperparameter tuning using GridSearchCV with 5 fold cv \n",
    "    Returns the value of hyperparameter alpha and draws the error plot for various values of alpha\n",
    "  \n",
    "    Usage: get_best_hyperparameter_C(vectorizer, X_train, X_test, y_train, y_test, penalty)\n",
    "    \"\"\"\n",
    "      \n",
    "    params_dict = {\n",
    "                \"alpha\": [10**-4, 10**-3,10**-2,10**-1, 10**0,10**1, 10**2,10**3, 10**4], \n",
    "                \"penalty\": ['l1', 'l2']\n",
    "               }\n",
    "   \n",
    "    # Using GridSearchCVSearchCV with 5 fold cv\n",
    "    #gs_obj = GridSearchCV(LogisticRegression(penalty= penalty_l), tuned_parameters, scoring = 'roc_auc', cv=5)\n",
    "    gs_obj = GridSearchCV(SGDClassifier(loss='hinge'), param_grid = params_dict, scoring = 'roc_auc', cv=5)\n",
    "\n",
    "    gs_obj.fit(X_train, y_train)\n",
    "  \n",
    "  \n",
    "    # Code https://stackoverflow.com/questions/42793254/what-replaces-gridsearchcv-grid-scores-in-scikit#answer-42800056\n",
    "    means = gs_obj.cv_results_['mean_test_score']\n",
    "    stds = gs_obj.cv_results_['std_test_score']\n",
    "\n",
    "\n",
    "    t1 = PrettyTable()\n",
    "    t1.field_names = ['Mean CV Score', 'Std CV Score', 'Param']\n",
    "\n",
    "    for mean, std, params in zip(means, stds, gs_obj.cv_results_['params']):\n",
    "        t1.add_row([round(mean, 3), round(std * 2,5), params])\n",
    "\n",
    "    print(t1) \n",
    "  \n",
    "    print(\"\\nThe best estimator:{}\".format(gs_obj.best_estimator_))\n",
    "    print(\"\\nThe best score is:{}\".format(gs_obj.best_score_))\n",
    "    print(\"The best value of C is:{}\".format(gs_obj.best_params_))\n",
    "\n",
    "    # Returns the mean accuracy on the given test data and labels.\n",
    "    print(\"Mean Score: {}\".format(gs_obj.score(X_test, y_test)))\n",
    "    #print(\"penalty: {}\".format(gs_obj.best_params_['penalty']))\n",
    "    \n",
    "    #draws error plot\n",
    "    get_error_plot(X_train, gs_obj.best_params_['penalty'])"
   ]
  },
  {
   "cell_type": "markdown",
   "metadata": {
    "colab_type": "text",
    "id": "yYvUA3nK1Kte"
   },
   "source": [
    "**train and test AUC**"
   ]
  },
  {
   "cell_type": "code",
   "execution_count": 65,
   "metadata": {
    "ExecuteTime": {
     "end_time": "2019-04-15T08:37:18.354873Z",
     "start_time": "2019-04-15T08:37:18.348858Z"
    },
    "colab": {},
    "colab_type": "code",
    "id": "zSNJlv1e1Ktg"
   },
   "outputs": [],
   "source": [
    "def plot_auc_sgd(model, X_train, X_test):\n",
    "    \n",
    "    \"\"\"\n",
    "    This function will plot the AUC for the vectorized train and test data.\n",
    "    Returns the plot and also the values of auc for train and test\n",
    "    \n",
    "    Usage: auc_train, auc_test = plot_auc(model, X_train, X_test)\n",
    "    \"\"\"\n",
    "    clf_sigmoid = CalibratedClassifierCV(model, cv=5, method='sigmoid')\n",
    "    clf_sigmoid.fit(X_train, y_train)\n",
    "    prob_pos_sigmoid = clf_sigmoid.predict_proba(X_test)[:, 1]\n",
    "    \n",
    "    train_fpr, train_tpr, thresholds = roc_curve(y_train, clf_sigmoid.predict_proba(X_train)[:, 1])\n",
    "    test_fpr, test_tpr, thresholds = roc_curve(y_test, clf_sigmoid.predict_proba(X_test)[:, 1])\n",
    "\n",
    "    plt.plot([0,1],[0,1],'k--')\n",
    "    plt.plot(train_fpr, train_tpr, label=\"train AUC =\"+str(auc(train_fpr, train_tpr)))\n",
    "    plt.plot(test_fpr, test_tpr, label=\"test AUC =\"+str(auc(test_fpr, test_tpr)))\n",
    "    plt.legend()\n",
    "    plt.xlabel(\"fpr\")\n",
    "    plt.ylabel(\"tpr\")\n",
    "    plt.title(\"ROC Curve\")\n",
    "    plt.show()\n",
    "    \n",
    "    print(\"train AUC: {}\".format(auc(train_fpr, train_tpr)))\n",
    "    print(\"test AUC: {}\".format(auc(test_fpr, test_tpr)))\n",
    "    \n",
    "    \n",
    "    return auc(train_fpr, train_tpr), auc(test_fpr, test_tpr)\n",
    "    "
   ]
  },
  {
   "cell_type": "markdown",
   "metadata": {
    "colab_type": "text",
    "id": "NkZou-uYfDp0"
   },
   "source": [
    "**important features**"
   ]
  },
  {
   "cell_type": "code",
   "execution_count": 66,
   "metadata": {
    "ExecuteTime": {
     "end_time": "2019-04-15T08:37:18.647667Z",
     "start_time": "2019-04-15T08:37:18.641651Z"
    },
    "colab": {},
    "colab_type": "code",
    "id": "JoslwxVZ1KuL"
   },
   "outputs": [],
   "source": [
    "# https://stackoverflow.com/questions/26976362/how-to-get-most-informative-features-for-scikit-learn-classifier-for-different-c\n",
    "def most_informative_feature_for_binary_classification(vectorizer, classifier, n=10):\n",
    "  \n",
    "    \"\"\"\n",
    "     Takes in the vectorizer, classifier (model) and the number of important features to return\n",
    "  \n",
    "     Usage: most_informative_feature_for_binary_classification(vectorizer, classifier, n=10)\n",
    "    \"\"\"\n",
    "    class_labels = classifier.classes_\n",
    "    feature_names = vectorizer.get_feature_names()\n",
    "    topn_class_0 = sorted(zip(classifier.coef_[0], feature_names))[:n]\n",
    "    topn_class_1 = sorted(zip(classifier.coef_[0], feature_names))[-n:]\n",
    "    \n",
    "    t1 = PrettyTable()\n",
    "    t1.field_names = ['Class', 'Coefficient (Importance)', 'Feature Name']\n",
    "    \n",
    "    for coef, feat in topn_class_0:\n",
    "        t1.add_row([class_labels[0], abs(coef), feat])\n",
    "\n",
    "    print(t1)\n",
    "    \n",
    "    print(\"*\"*52)\n",
    "    \n",
    "    t2 = PrettyTable()\n",
    "    t2.field_names = ['Class', 'Coefficient (Importance)', 'Feature Name']\n",
    " \n",
    "    for coef, feat in reversed(topn_class_1):\n",
    "        t2.add_row([class_labels[1], abs(coef), feat])\n",
    "      \n",
    "      \n",
    "    print(t2)  \n",
    "\n",
    "    #for coef, feat in topn_class1:\n",
    "        #if coef < 0:\n",
    "        #print(class_labels[0], abs(coef), feat)\n",
    "\n",
    "    #print(\"*\"*30)\n",
    "\n",
    "    #for coef, feat in reversed(topn_class2):\n",
    "        #if coef > 0:\n",
    "     #   print(class_labels[1], abs(coef), feat)"
   ]
  },
  {
   "cell_type": "markdown",
   "metadata": {
    "colab_type": "text",
    "id": "IRzapfgSfDp5"
   },
   "source": [
    "**print confustion matrix**"
   ]
  },
  {
   "cell_type": "code",
   "execution_count": 67,
   "metadata": {
    "ExecuteTime": {
     "end_time": "2019-04-15T08:37:18.942283Z",
     "start_time": "2019-04-15T08:37:18.938272Z"
    },
    "colab": {},
    "colab_type": "code",
    "id": "1F0galr5hep0"
   },
   "outputs": [],
   "source": [
    "def print_confusion_matrix(model, X_train, X_test):\n",
    "    \"\"\"\n",
    "    Takes in the model, X_train, X_test and prints the confusion matrix\n",
    "    Usage: print_confusion_matrix(model, X_train, X_test)\n",
    "    \"\"\"\n",
    "    print(\"*****Train confusion matrix*****\")\n",
    "    print(confusion_matrix(y_train, model.predict(X_train)))\n",
    "    print(\"\\n*****Test confusion matrix*****\")\n",
    "    print(confusion_matrix(y_test, model.predict(X_test)))"
   ]
  },
  {
   "cell_type": "markdown",
   "metadata": {
    "colab_type": "text",
    "id": "tYSm6RvMfDqE"
   },
   "source": [
    "**heat map of confusion matrix**"
   ]
  },
  {
   "cell_type": "code",
   "execution_count": 68,
   "metadata": {
    "ExecuteTime": {
     "end_time": "2019-04-15T08:37:19.283208Z",
     "start_time": "2019-04-15T08:37:19.276190Z"
    },
    "colab": {},
    "colab_type": "code",
    "id": "iNZeoZMS1Kv2"
   },
   "outputs": [],
   "source": [
    "# Code modified from sklearn tutorial: https://scikit-learn.org/stable/auto_examples/model_selection/plot_confusion_matrix.html\n",
    "\n",
    "# Heat map of confusion matrix\n",
    "\n",
    "def plot_confusion_matrix_heatmap(cm, classes,\n",
    "                          normalize=False,\n",
    "                          title='Confusion matrix',\n",
    "                          cmap=plt.cm.Blues):\n",
    "    \"\"\"\n",
    "    This function prints and plots the confusion matrix.\n",
    "    Normalization can be applied by setting `normalize=True`.\n",
    "    \"\"\"\n",
    "    #if normalize:\n",
    "     #   cm = cm.astype('float') / cm.sum(axis=1)[:, np.newaxis]\n",
    "     #   print(\"Normalized confusion matrix\")\n",
    "    #else:\n",
    "      #  print('Confusion matrix')\n",
    "\n",
    "    #print(cm)\n",
    "\n",
    "    plt.imshow(cm, interpolation='nearest', cmap=cmap)\n",
    "    plt.title(title)\n",
    "    plt.colorbar()\n",
    "    tick_marks = np.arange(len(classes))\n",
    "    plt.xticks(tick_marks, classes, rotation=45)\n",
    "    plt.yticks(tick_marks, classes)\n",
    "\n",
    "    fmt = '.2f' if normalize else 'd'\n",
    "    thresh = cm.max() / 2.\n",
    "    for i, j in itertools.product(range(cm.shape[0]), range(cm.shape[1])):\n",
    "        plt.text(j, i, format(cm[i, j], fmt),\n",
    "                 horizontalalignment=\"center\",\n",
    "                 color=\"white\" if cm[i, j] > thresh else \"black\")\n",
    "\n",
    "    plt.ylabel('True label')\n",
    "    plt.xlabel('Predicted label')\n",
    "    plt.tight_layout()"
   ]
  },
  {
   "cell_type": "markdown",
   "metadata": {
    "_uuid": "ecb14af336b09aed612c6128fe1b2fe509a7bf43",
    "colab_type": "text",
    "id": "rjQi79R41KsB"
   },
   "source": [
    "# [4.1] BAG OF WORDS"
   ]
  },
  {
   "cell_type": "code",
   "execution_count": 69,
   "metadata": {
    "ExecuteTime": {
     "end_time": "2019-04-15T08:37:32.885606Z",
     "start_time": "2019-04-15T08:37:19.580011Z"
    },
    "_uuid": "19133a925d5ceefbf872451b8c59308ceab59650",
    "colab": {
     "base_uri": "https://localhost:8080/",
     "height": 85
    },
    "colab_type": "code",
    "id": "yMDplkeN1KsE",
    "outputId": "266068bb-2e9e-4d7c-db0b-813df6b2917e",
    "scrolled": true
   },
   "outputs": [
    {
     "name": "stdout",
     "output_type": "stream",
     "text": [
      "After vectorizations\n",
      "(61441, 10000) (61441,)\n",
      "(26332, 10000) (26332,)\n",
      "====================================================================================================\n"
     ]
    }
   ],
   "source": [
    "# ss\n",
    "from sklearn.feature_extraction.text import CountVectorizer\n",
    "bow_vectorizer= CountVectorizer(ngram_range=(1,2), min_df=10, max_features=10000)\n",
    "bow_vectorizer.fit(X_train) # fit has to happen only on train data\n",
    "\n",
    "# we use the fitted CountVectorizer to convert the text to vector\n",
    "X_train_bow = bow_vectorizer.transform(X_train)\n",
    "#X_cv_bow = vectorizer.transform(X_cv)\n",
    "X_test_bow = bow_vectorizer.transform(X_test)\n",
    "\n",
    "print(\"After vectorizations\")\n",
    "print(X_train_bow.shape, y_train.shape)\n",
    "#print(X_cv_bow.shape, y_cv.shape)\n",
    "print(X_test_bow.shape, y_test.shape)\n",
    "print(\"=\"*100)"
   ]
  },
  {
   "cell_type": "code",
   "execution_count": 70,
   "metadata": {
    "ExecuteTime": {
     "end_time": "2019-04-15T08:37:33.363931Z",
     "start_time": "2019-04-15T08:37:33.350895Z"
    },
    "_uuid": "2e025115407a3ca9fe94af6e0986f914035f8b1b",
    "colab": {
     "base_uri": "https://localhost:8080/",
     "height": 68
    },
    "colab_type": "code",
    "id": "K-TX7mYe1KsN",
    "outputId": "bb8f7215-85da-4208-874a-ecdcd9c4b1f8"
   },
   "outputs": [
    {
     "name": "stdout",
     "output_type": "stream",
     "text": [
      "the type of count vectorizer  <class 'scipy.sparse.csr.csr_matrix'>\n",
      "the shape of cut text BOW vectorizer  (61441, 10000)\n",
      "the number of unique words:  10000\n"
     ]
    }
   ],
   "source": [
    "print(\"the type of count vectorizer \",type(X_train_bow))\n",
    "print(\"the shape of cut text BOW vectorizer \",X_train_bow.get_shape())\n",
    "print(\"the number of unique words: \", X_train_bow.get_shape()[1])"
   ]
  },
  {
   "cell_type": "markdown",
   "metadata": {
    "colab_type": "text",
    "id": "IVFq9Jr81Ksa"
   },
   "source": [
    "**Standardize the data**"
   ]
  },
  {
   "cell_type": "code",
   "execution_count": 71,
   "metadata": {
    "ExecuteTime": {
     "end_time": "2019-04-15T08:37:33.980552Z",
     "start_time": "2019-04-15T08:37:33.842150Z"
    },
    "colab": {
     "base_uri": "https://localhost:8080/",
     "height": 51
    },
    "colab_type": "code",
    "id": "CFKUKALv1Ksc",
    "outputId": "763dcd77-1ded-443a-9ef9-bd0f834fb3ee"
   },
   "outputs": [
    {
     "name": "stderr",
     "output_type": "stream",
     "text": [
      "C:\\Users\\Nit-prj1010\\AppData\\Local\\Continuum\\anaconda3\\lib\\site-packages\\sklearn\\utils\\validation.py:595: DataConversionWarning: Data with input dtype int64 was converted to float64 by StandardScaler.\n",
      "  warnings.warn(msg, DataConversionWarning)\n",
      "C:\\Users\\Nit-prj1010\\AppData\\Local\\Continuum\\anaconda3\\lib\\site-packages\\sklearn\\utils\\validation.py:595: DataConversionWarning: Data with input dtype int64 was converted to float64 by StandardScaler.\n",
      "  warnings.warn(msg, DataConversionWarning)\n",
      "C:\\Users\\Nit-prj1010\\AppData\\Local\\Continuum\\anaconda3\\lib\\site-packages\\sklearn\\utils\\validation.py:595: DataConversionWarning: Data with input dtype int64 was converted to float64 by StandardScaler.\n",
      "  warnings.warn(msg, DataConversionWarning)\n",
      "C:\\Users\\Nit-prj1010\\AppData\\Local\\Continuum\\anaconda3\\lib\\site-packages\\sklearn\\utils\\validation.py:595: DataConversionWarning: Data with input dtype int64 was converted to float64 by StandardScaler.\n",
      "  warnings.warn(msg, DataConversionWarning)\n"
     ]
    },
    {
     "name": "stdout",
     "output_type": "stream",
     "text": [
      "(61441, 10000) (61441,)\n",
      "(26332, 10000) (26332,)\n"
     ]
    }
   ],
   "source": [
    "# We will set the attribute with_mean = False, as StandardScaler does not work on sparse matrix\n",
    "# when attempted on sparse matrices, because centering them entails building a dense matrix which in common use cases\n",
    "# is likely to be too large to fit in memory.  ---> sklearn documentation\n",
    "\n",
    "from sklearn.preprocessing import StandardScaler\n",
    "X_train_bow=StandardScaler(with_mean=False).fit_transform(X_train_bow)\n",
    "X_test_bow=StandardScaler(with_mean=False).fit_transform(X_test_bow)\n",
    "\n",
    "print(X_train_bow.shape, y_train.shape) \n",
    "\n",
    "print(X_test_bow.shape, y_test.shape) "
   ]
  },
  {
   "cell_type": "markdown",
   "metadata": {},
   "source": [
    "### [5.1.1] Applying Linear SVM on BOW,<font color='red'> SET 1</font>"
   ]
  },
  {
   "cell_type": "code",
   "execution_count": 72,
   "metadata": {
    "ExecuteTime": {
     "end_time": "2019-04-15T08:37:52.634243Z",
     "start_time": "2019-04-15T08:37:34.478522Z"
    }
   },
   "outputs": [
    {
     "name": "stdout",
     "output_type": "stream",
     "text": [
      "+---------------+--------------+------------------------------------+\n",
      "| Mean CV Score | Std CV Score |               Param                |\n",
      "+---------------+--------------+------------------------------------+\n",
      "|     0.888     |   0.02585    | {'alpha': 0.0001, 'penalty': 'l1'} |\n",
      "|     0.899     |   0.02626    | {'alpha': 0.0001, 'penalty': 'l2'} |\n",
      "|     0.845     |   0.03581    | {'alpha': 0.001, 'penalty': 'l1'}  |\n",
      "|     0.904     |   0.01819    | {'alpha': 0.001, 'penalty': 'l2'}  |\n",
      "|     0.719     |   0.03024    |  {'alpha': 0.01, 'penalty': 'l1'}  |\n",
      "|     0.912     |   0.01366    |  {'alpha': 0.01, 'penalty': 'l2'}  |\n",
      "|     0.618     |    0.0509    |  {'alpha': 0.1, 'penalty': 'l1'}   |\n",
      "|     0.928     |   0.01927    |  {'alpha': 0.1, 'penalty': 'l2'}   |\n",
      "|      0.5      |    0.0184    |   {'alpha': 1, 'penalty': 'l1'}    |\n",
      "|     0.912     |   0.02427    |   {'alpha': 1, 'penalty': 'l2'}    |\n",
      "|      0.5      |   0.00111    |   {'alpha': 10, 'penalty': 'l1'}   |\n",
      "|     0.698     |    0.0326    |   {'alpha': 10, 'penalty': 'l2'}   |\n",
      "|      0.5      |     0.0      |  {'alpha': 100, 'penalty': 'l1'}   |\n",
      "|     0.557     |    0.0272    |  {'alpha': 100, 'penalty': 'l2'}   |\n",
      "|      0.5      |     0.0      |  {'alpha': 1000, 'penalty': 'l1'}  |\n",
      "|      0.55     |   0.02709    |  {'alpha': 1000, 'penalty': 'l2'}  |\n",
      "|      0.5      |     0.0      | {'alpha': 10000, 'penalty': 'l1'}  |\n",
      "|      0.55     |   0.02709    | {'alpha': 10000, 'penalty': 'l2'}  |\n",
      "+---------------+--------------+------------------------------------+\n",
      "\n",
      "The best estimator:SGDClassifier(alpha=0.1, average=False, class_weight=None,\n",
      "       early_stopping=False, epsilon=0.1, eta0=0.0, fit_intercept=True,\n",
      "       l1_ratio=0.15, learning_rate='optimal', loss='hinge', max_iter=None,\n",
      "       n_iter=None, n_iter_no_change=5, n_jobs=None, penalty='l2',\n",
      "       power_t=0.5, random_state=None, shuffle=True, tol=None,\n",
      "       validation_fraction=0.1, verbose=0, warm_start=False)\n",
      "\n",
      "The best score is:0.9275283273834641\n",
      "The best value of C is:{'alpha': 0.1, 'penalty': 'l2'}\n",
      "Mean Score: 0.93530213922538\n"
     ]
    },
    {
     "data": {
      "image/png": "[encoded data removed]",
      "text/plain": [
       "<Figure size 432x288 with 1 Axes>"
      ]
     },
     "metadata": {
      "needs_background": "light"
     },
     "output_type": "display_data"
    }
   ],
   "source": [
    "get_best_hyperparameter_alpha(bow_vectorizer, X_train_bow, X_test_bow, y_train, y_test)"
   ]
  },
  {
   "cell_type": "code",
   "execution_count": 98,
   "metadata": {
    "ExecuteTime": {
     "end_time": "2019-04-15T09:24:45.067694Z",
     "start_time": "2019-04-15T09:24:44.973444Z"
    }
   },
   "outputs": [],
   "source": [
    "model_bow_sgd = SGDClassifier(alpha= 0.1 ,penalty = 'l2')\n",
    "model_bow_sgd.fit(X_train_bow,y_train)\n",
    "y_pred = model_bow_sgd.predict(X_test_bow)"
   ]
  },
  {
   "cell_type": "code",
   "execution_count": 99,
   "metadata": {
    "ExecuteTime": {
     "end_time": "2019-04-15T09:26:35.084348Z",
     "start_time": "2019-04-15T09:26:34.316194Z"
    }
   },
   "outputs": [
    {
     "data": {
      "image/png": "[encoded data removed]",
      "text/plain": [
       "<Figure size 432x288 with 1 Axes>"
      ]
     },
     "metadata": {
      "needs_background": "light"
     },
     "output_type": "display_data"
    },
    {
     "name": "stdout",
     "output_type": "stream",
     "text": [
      "train AUC: 0.9844621305883833\n",
      "test AUC: 0.9406548359131066\n"
     ]
    }
   ],
   "source": [
    "auc_train_bow_sgd, auc_test_bow_sgd = plot_auc_sgd(model_bow_sgd, X_train_bow, X_test_bow)"
   ]
  },
  {
   "cell_type": "markdown",
   "metadata": {},
   "source": [
    "https://answers.dataiku.com/2711/probability-calibration-in-dataiku"
   ]
  },
  {
   "cell_type": "markdown",
   "metadata": {},
   "source": [
    "**Most important features for BoW**"
   ]
  },
  {
   "cell_type": "code",
   "execution_count": 100,
   "metadata": {
    "ExecuteTime": {
     "end_time": "2019-04-15T09:28:24.710584Z",
     "start_time": "2019-04-15T09:28:24.660449Z"
    },
    "colab": {
     "base_uri": "https://localhost:8080/",
     "height": 510
    },
    "colab_type": "code",
    "id": "DtBSmZtF1KuT",
    "outputId": "66d2477f-13e4-46b2-92d3-e0035e3fd39b",
    "scrolled": false
   },
   "outputs": [
    {
     "name": "stdout",
     "output_type": "stream",
     "text": [
      "+-------+--------------------------+---------------+\n",
      "| Class | Coefficient (Importance) |  Feature Name |\n",
      "+-------+--------------------------+---------------+\n",
      "|   0   |   0.09635004651467102    |  disappointed |\n",
      "|   0   |    0.0802213700099049    |     worst     |\n",
      "|   0   |   0.07401661444290543    |   not worth   |\n",
      "|   0   |   0.07161304594053323    |    not buy    |\n",
      "|   0   |   0.07158800461883856    |    terrible   |\n",
      "|   0   |   0.07084121621217061    |    not good   |\n",
      "|   0   |   0.06940553529083396    | not recommend |\n",
      "|   0   |   0.06360239115214682    | disappointing |\n",
      "|   0   |   0.06306238333750386    |     awful     |\n",
      "|   0   |   0.06061576273183535    |   two stars   |\n",
      "+-------+--------------------------+---------------+\n",
      "****************************************************\n",
      "+-------+--------------------------+--------------+\n",
      "| Class | Coefficient (Importance) | Feature Name |\n",
      "+-------+--------------------------+--------------+\n",
      "|   1   |    0.1569419250296165    |    great     |\n",
      "|   1   |   0.13017215299239665    |     good     |\n",
      "|   1   |   0.12047203812380917    |     love     |\n",
      "|   1   |   0.11848199616223926    |  delicious   |\n",
      "|   1   |   0.11461126316072343    |     best     |\n",
      "|   1   |   0.09088776179429825    |    loves     |\n",
      "|   1   |   0.08395882323442243    |   perfect    |\n",
      "|   1   |   0.07655350004722232    |    tasty     |\n",
      "|   1   |   0.07584924118588247    |  excellent   |\n",
      "|   1   |   0.07156665697203098    |  wonderful   |\n",
      "+-------+--------------------------+--------------+\n"
     ]
    }
   ],
   "source": [
    "most_informative_feature_for_binary_classification(bow_vectorizer, model_bow_sgd)"
   ]
  },
  {
   "cell_type": "code",
   "execution_count": 101,
   "metadata": {
    "ExecuteTime": {
     "end_time": "2019-04-15T09:30:15.066837Z",
     "start_time": "2019-04-15T09:30:14.979100Z"
    },
    "colab": {
     "base_uri": "https://localhost:8080/",
     "height": 136
    },
    "colab_type": "code",
    "id": "YxbckAK-fDrd",
    "outputId": "5d656e8f-89b3-4f86-e48f-8f6ee5d6ee60"
   },
   "outputs": [
    {
     "name": "stdout",
     "output_type": "stream",
     "text": [
      "*****Train confusion matrix*****\n",
      "[[ 7889  1735]\n",
      " [  638 51179]]\n",
      "\n",
      "*****Test confusion matrix*****\n",
      "[[ 3210  1347]\n",
      " [  636 21139]]\n"
     ]
    }
   ],
   "source": [
    "# Confusion Matrix\n",
    "print_confusion_matrix(model_bow_sgd, X_train_bow, X_test_bow)"
   ]
  },
  {
   "cell_type": "code",
   "execution_count": 102,
   "metadata": {
    "ExecuteTime": {
     "end_time": "2019-04-15T09:49:00.773487Z",
     "start_time": "2019-04-15T09:49:00.447763Z"
    },
    "colab": {
     "base_uri": "https://localhost:8080/",
     "height": 314
    },
    "colab_type": "code",
    "id": "LZyHYB_asCvl",
    "outputId": "0fbbe97b-648f-4c94-b21b-1f1f1e9b0268"
   },
   "outputs": [
    {
     "data": {
      "text/plain": [
       "<Figure size 432x288 with 0 Axes>"
      ]
     },
     "metadata": {},
     "output_type": "display_data"
    },
    {
     "data": {
      "image/png": "[encoded data removed]",
      "text/plain": [
       "<Figure size 1080x288 with 4 Axes>"
      ]
     },
     "metadata": {
      "needs_background": "light"
     },
     "output_type": "display_data"
    }
   ],
   "source": [
    "plt.figure(1)\n",
    "plt.figure(figsize=(15, 4))\n",
    "\n",
    "\n",
    "plt.subplot(121)  # Test confusion matrix\n",
    "cnf_matrix = confusion_matrix(y_test, model_bow_sgd.predict(X_test_bow))\n",
    "np.set_printoptions(precision=2)\n",
    "class_names = ['Negative', 'Positive']\n",
    "# Plot non-normalized confusion matrix\n",
    "#plt.figure()\n",
    "plot_confusion_matrix_heatmap(cnf_matrix, classes=class_names, title='Test Set Confusion Matrix');\n",
    "\n",
    "plt.subplot(122) # Train Confusion matrix\n",
    "cnf_matrix = confusion_matrix(y_train, model_bow_sgd.predict(X_train_bow))\n",
    "np.set_printoptions(precision=2)\n",
    "class_names = ['Negative', 'Positive']\n",
    "# Plot non-normalized confusion matrix\n",
    "#plt.figure()\n",
    "plot_confusion_matrix_heatmap(cnf_matrix, classes=class_names, title='Train Set Confusion Matrix');\n"
   ]
  },
  {
   "cell_type": "markdown",
   "metadata": {
    "colab_type": "text",
    "id": "9uOjgLypkbBK"
   },
   "source": [
    "**Observation**\n",
    "1. For the BoW vectorizer, we calculated alpha = 0.1 using GridSearchCV with cv = 5 and with penalty l2. \n",
    "2. We got train AUC: 0.9844621305883833 and test AUC: 0.9406548359131066 \n",
    "3. Using the confusion matrix, we can say that our model correctly predicted 21139 positive reviews and 3210 negative reviews.\n",
    "4. The model incorrectly classified 636 negative reviews and 1347 positive reviews."
   ]
  },
  {
   "cell_type": "markdown",
   "metadata": {
    "colab_type": "text",
    "id": "X-8P29d-fDrs"
   },
   "source": [
    "**Feature Engineering** Let us perform FE to see if we can further improve the model. Here, we will append length of reviews as another feature."
   ]
  },
  {
   "cell_type": "code",
   "execution_count": 73,
   "metadata": {
    "ExecuteTime": {
     "end_time": "2019-04-15T08:37:53.098519Z",
     "start_time": "2019-04-15T08:37:53.094509Z"
    },
    "colab": {},
    "colab_type": "code",
    "id": "1LGZFXc7fDrt"
   },
   "outputs": [],
   "source": [
    "def get_text_length(x):\n",
    "    \"\"\"\n",
    "     This function takes in a array and returns the length of the elements in the array.\n",
    "    \"\"\"\n",
    "    return np.array([len(t) for t in x]).reshape(-1, 1)"
   ]
  },
  {
   "cell_type": "code",
   "execution_count": 74,
   "metadata": {
    "ExecuteTime": {
     "end_time": "2019-04-15T08:37:53.543294Z",
     "start_time": "2019-04-15T08:37:53.524217Z"
    },
    "colab": {},
    "colab_type": "code",
    "id": "fIkPN6qafDrw"
   },
   "outputs": [],
   "source": [
    "rev_len_X_train = get_text_length(X_train)\n",
    "rev_len_X_test = get_text_length(X_test)"
   ]
  },
  {
   "cell_type": "code",
   "execution_count": 75,
   "metadata": {
    "ExecuteTime": {
     "end_time": "2019-04-15T08:38:02.477769Z",
     "start_time": "2019-04-15T08:37:54.024152Z"
    },
    "colab": {
     "base_uri": "https://localhost:8080/",
     "height": 119
    },
    "colab_type": "code",
    "id": "EtWZ4-pCfDr0",
    "outputId": "af93dda4-fb4a-4c50-dbfd-4fbc899e5ac0"
   },
   "outputs": [
    {
     "data": {
      "text/plain": [
       "CountVectorizer(analyzer='word', binary=False, decode_error='strict',\n",
       "        dtype=<class 'numpy.int64'>, encoding='utf-8', input='content',\n",
       "        lowercase=True, max_df=1.0, max_features=10000, min_df=10,\n",
       "        ngram_range=(1, 2), preprocessor=None, stop_words=None,\n",
       "        strip_accents=None, token_pattern='(?u)\\\\b\\\\w\\\\w+\\\\b',\n",
       "        tokenizer=None, vocabulary=None)"
      ]
     },
     "execution_count": 75,
     "metadata": {},
     "output_type": "execute_result"
    }
   ],
   "source": [
    "from sklearn.feature_extraction.text import CountVectorizer\n",
    "bow_vectorizer_fe = CountVectorizer(ngram_range=(1,2), min_df=10, max_features=10000)\n",
    "bow_vectorizer_fe.fit(X_train) # fit has to happen only on train data"
   ]
  },
  {
   "cell_type": "code",
   "execution_count": 76,
   "metadata": {
    "ExecuteTime": {
     "end_time": "2019-04-15T08:38:08.376270Z",
     "start_time": "2019-04-15T08:38:02.938062Z"
    },
    "colab": {
     "base_uri": "https://localhost:8080/",
     "height": 85
    },
    "colab_type": "code",
    "id": "T-YoUA_MfDr7",
    "outputId": "508076b8-4b4b-4370-d4ad-be24ae617723"
   },
   "outputs": [
    {
     "name": "stdout",
     "output_type": "stream",
     "text": [
      "After vectorizations\n",
      "(61441, 10000) (61441,)\n",
      "(26332, 10000) (26332,)\n",
      "====================================================================================================\n"
     ]
    }
   ],
   "source": [
    "# we use the fitted CountVectorizer to convert the text to vector\n",
    "X_train_bow = bow_vectorizer_fe.transform(X_train)\n",
    "X_test_bow = bow_vectorizer_fe.transform(X_test)\n",
    "\n",
    "print(\"After vectorizations\")\n",
    "print(X_train_bow.shape, y_train.shape)\n",
    "print(X_test_bow.shape, y_test.shape)\n",
    "print(\"=\"*100)"
   ]
  },
  {
   "cell_type": "markdown",
   "metadata": {
    "colab_type": "text",
    "id": "AbT5iTYBfDsF"
   },
   "source": [
    "**Standardize the data**"
   ]
  },
  {
   "cell_type": "code",
   "execution_count": 77,
   "metadata": {
    "ExecuteTime": {
     "end_time": "2019-04-15T08:38:08.981408Z",
     "start_time": "2019-04-15T08:38:08.833011Z"
    },
    "colab": {
     "base_uri": "https://localhost:8080/",
     "height": 51
    },
    "colab_type": "code",
    "id": "TSPPavxnfDsK",
    "outputId": "a67446a0-8007-454d-8a38-f1da3ad53f55"
   },
   "outputs": [
    {
     "name": "stderr",
     "output_type": "stream",
     "text": [
      "C:\\Users\\Nit-prj1010\\AppData\\Local\\Continuum\\anaconda3\\lib\\site-packages\\sklearn\\utils\\validation.py:595: DataConversionWarning: Data with input dtype int64 was converted to float64 by StandardScaler.\n",
      "  warnings.warn(msg, DataConversionWarning)\n",
      "C:\\Users\\Nit-prj1010\\AppData\\Local\\Continuum\\anaconda3\\lib\\site-packages\\sklearn\\utils\\validation.py:595: DataConversionWarning: Data with input dtype int64 was converted to float64 by StandardScaler.\n",
      "  warnings.warn(msg, DataConversionWarning)\n",
      "C:\\Users\\Nit-prj1010\\AppData\\Local\\Continuum\\anaconda3\\lib\\site-packages\\sklearn\\utils\\validation.py:595: DataConversionWarning: Data with input dtype int64 was converted to float64 by StandardScaler.\n",
      "  warnings.warn(msg, DataConversionWarning)\n",
      "C:\\Users\\Nit-prj1010\\AppData\\Local\\Continuum\\anaconda3\\lib\\site-packages\\sklearn\\utils\\validation.py:595: DataConversionWarning: Data with input dtype int64 was converted to float64 by StandardScaler.\n",
      "  warnings.warn(msg, DataConversionWarning)\n"
     ]
    },
    {
     "name": "stdout",
     "output_type": "stream",
     "text": [
      "(61441, 10000) (61441,)\n",
      "(26332, 10000) (26332,)\n"
     ]
    }
   ],
   "source": [
    "# We will set the attribute with_mean = False, as StandardScaler does not work on sparse matrix\n",
    "# when attempted on sparse matrices, because centering them entails building a dense matrix which in common use cases\n",
    "# is likely to be too large to fit in memory.  ---> sklearn documentation\n",
    "\n",
    "from sklearn.preprocessing import StandardScaler\n",
    "X_train_bow=StandardScaler(with_mean=False).fit_transform(X_train_bow)\n",
    "X_test_bow=StandardScaler(with_mean=False).fit_transform(X_test_bow)\n",
    "\n",
    "print(X_train_bow.shape, y_train.shape) \n",
    "\n",
    "print(X_test_bow.shape, y_test.shape) "
   ]
  },
  {
   "cell_type": "code",
   "execution_count": 78,
   "metadata": {
    "ExecuteTime": {
     "end_time": "2019-04-15T08:38:09.444367Z",
     "start_time": "2019-04-15T08:38:09.440358Z"
    },
    "colab": {
     "base_uri": "https://localhost:8080/",
     "height": 34
    },
    "colab_type": "code",
    "id": "SLyVDZdDfDsQ",
    "outputId": "fdddd8df-7a4d-4c45-aa0c-b099e8eb00cc"
   },
   "outputs": [
    {
     "data": {
      "text/plain": [
       "numpy.ndarray"
      ]
     },
     "execution_count": 78,
     "metadata": {},
     "output_type": "execute_result"
    }
   ],
   "source": [
    "type(rev_len_X_train)\n"
   ]
  },
  {
   "cell_type": "code",
   "execution_count": 79,
   "metadata": {
    "ExecuteTime": {
     "end_time": "2019-04-15T08:38:09.889573Z",
     "start_time": "2019-04-15T08:38:09.884560Z"
    },
    "colab": {
     "base_uri": "https://localhost:8080/",
     "height": 34
    },
    "colab_type": "code",
    "id": "5UzzWaPhfDsW",
    "outputId": "f2cbd5f6-a49b-4ab6-a4e0-6440e53afe5d"
   },
   "outputs": [
    {
     "data": {
      "text/plain": [
       "scipy.sparse.csr.csr_matrix"
      ]
     },
     "execution_count": 79,
     "metadata": {},
     "output_type": "execute_result"
    }
   ],
   "source": [
    "type(X_train_bow)"
   ]
  },
  {
   "cell_type": "code",
   "execution_count": 80,
   "metadata": {
    "ExecuteTime": {
     "end_time": "2019-04-15T08:38:10.425596Z",
     "start_time": "2019-04-15T08:38:10.333770Z"
    },
    "colab": {},
    "colab_type": "code",
    "id": "HrvLOfmCfDsf"
   },
   "outputs": [],
   "source": [
    "from scipy.sparse import hstack\n",
    "# Here we append the sparse matrix and the dense array that contains the length of the text passed to it\n",
    "X_train_bow_fe = hstack((X_train_bow, np.array(rev_len_X_train)))\n",
    "X_test_bow_fe = hstack((X_test_bow, np.array(rev_len_X_test)))"
   ]
  },
  {
   "cell_type": "code",
   "execution_count": 81,
   "metadata": {
    "ExecuteTime": {
     "end_time": "2019-04-15T08:38:30.207907Z",
     "start_time": "2019-04-15T08:38:10.870824Z"
    },
    "colab": {
     "base_uri": "https://localhost:8080/",
     "height": 604
    },
    "colab_type": "code",
    "id": "C8QcYhgnfDsk",
    "outputId": "21f3cc00-5e71-4a3e-f192-86c0fa05fff7"
   },
   "outputs": [
    {
     "name": "stdout",
     "output_type": "stream",
     "text": [
      "+---------------+--------------+------------------------------------+\n",
      "| Mean CV Score | Std CV Score |               Param                |\n",
      "+---------------+--------------+------------------------------------+\n",
      "|     0.908     |    0.0301    | {'alpha': 0.0001, 'penalty': 'l1'} |\n",
      "|     0.867     |   0.16914    | {'alpha': 0.0001, 'penalty': 'l2'} |\n",
      "|     0.859     |   0.04961    | {'alpha': 0.001, 'penalty': 'l1'}  |\n",
      "|      0.92     |   0.07292    | {'alpha': 0.001, 'penalty': 'l2'}  |\n",
      "|     0.738     |   0.05858    |  {'alpha': 0.01, 'penalty': 'l1'}  |\n",
      "|     0.937     |   0.01175    |  {'alpha': 0.01, 'penalty': 'l2'}  |\n",
      "|     0.514     |   0.03485    |  {'alpha': 0.1, 'penalty': 'l1'}   |\n",
      "|      0.93     |   0.03104    |  {'alpha': 0.1, 'penalty': 'l2'}   |\n",
      "|     0.443     |   0.02479    |   {'alpha': 1, 'penalty': 'l1'}    |\n",
      "|     0.901     |   0.04563    |   {'alpha': 1, 'penalty': 'l2'}    |\n",
      "|     0.442     |   0.02502    |   {'alpha': 10, 'penalty': 'l1'}   |\n",
      "|     0.557     |   0.04838    |   {'alpha': 10, 'penalty': 'l2'}   |\n",
      "|     0.466     |   0.05638    |  {'alpha': 100, 'penalty': 'l1'}   |\n",
      "|     0.451     |    0.0191    |  {'alpha': 100, 'penalty': 'l2'}   |\n",
      "|      0.5      |     0.0      |  {'alpha': 1000, 'penalty': 'l1'}  |\n",
      "|     0.441     |   0.01866    |  {'alpha': 1000, 'penalty': 'l2'}  |\n",
      "|      0.5      |     0.0      | {'alpha': 10000, 'penalty': 'l1'}  |\n",
      "|     0.441     |   0.01865    | {'alpha': 10000, 'penalty': 'l2'}  |\n",
      "+---------------+--------------+------------------------------------+\n",
      "\n",
      "The best estimator:SGDClassifier(alpha=0.01, average=False, class_weight=None,\n",
      "       early_stopping=False, epsilon=0.1, eta0=0.0, fit_intercept=True,\n",
      "       l1_ratio=0.15, learning_rate='optimal', loss='hinge', max_iter=None,\n",
      "       n_iter=None, n_iter_no_change=5, n_jobs=None, penalty='l2',\n",
      "       power_t=0.5, random_state=None, shuffle=True, tol=None,\n",
      "       validation_fraction=0.1, verbose=0, warm_start=False)\n",
      "\n",
      "The best score is:0.936964376772133\n",
      "The best value of C is:{'alpha': 0.01, 'penalty': 'l2'}\n",
      "Mean Score: 0.9455859407575481\n"
     ]
    },
    {
     "data": {
      "image/png": "[encoded data removed]",
      "text/plain": [
       "<Figure size 432x288 with 1 Axes>"
      ]
     },
     "metadata": {
      "needs_background": "light"
     },
     "output_type": "display_data"
    }
   ],
   "source": [
    "# Get the best hyperparameter using GridSearchCV with penalty l1 and cv = 5\n",
    "get_best_hyperparameter_alpha(bow_vectorizer_fe, X_train_bow_fe, X_test_bow_fe, y_train, y_test)"
   ]
  },
  {
   "cell_type": "code",
   "execution_count": 103,
   "metadata": {
    "ExecuteTime": {
     "end_time": "2019-04-15T09:51:05.185550Z",
     "start_time": "2019-04-15T09:51:05.047743Z"
    },
    "colab": {},
    "colab_type": "code",
    "id": "ndC4nhL-fDsr"
   },
   "outputs": [],
   "source": [
    "# Fitting the BoW vectorizer on LogisticRegression Model with penalty l1 and C = 0.01 \n",
    "model_bow_fe_sgd = SGDClassifier(alpha = 0.01 ,penalty = 'l2')\n",
    "model_bow_fe_sgd.fit(X_train_bow_fe,y_train)\n",
    "y_pred = model_bow_fe_sgd.predict(X_test_bow_fe)"
   ]
  },
  {
   "cell_type": "code",
   "execution_count": 104,
   "metadata": {
    "ExecuteTime": {
     "end_time": "2019-04-15T09:52:58.781006Z",
     "start_time": "2019-04-15T09:52:57.832862Z"
    },
    "colab": {
     "base_uri": "https://localhost:8080/",
     "height": 328
    },
    "colab_type": "code",
    "id": "7sEj5ik-fDsy",
    "outputId": "e1b3c308-8537-4c78-b2df-103b77735ec2"
   },
   "outputs": [
    {
     "data": {
      "image/png": "[encoded data removed]",
      "text/plain": [
       "<Figure size 432x288 with 1 Axes>"
      ]
     },
     "metadata": {
      "needs_background": "light"
     },
     "output_type": "display_data"
    },
    {
     "name": "stdout",
     "output_type": "stream",
     "text": [
      "train AUC: 0.9782117196089936\n",
      "test AUC: 0.9514549297367924\n"
     ]
    }
   ],
   "source": [
    "# AUC-ROC plot\n",
    "auc_train_bow_fe_sgd, auc_test_bow_fe_sgd = plot_auc_sgd(model_bow_fe_sgd, X_train_bow_fe, X_test_bow_fe)"
   ]
  },
  {
   "cell_type": "code",
   "execution_count": 105,
   "metadata": {
    "ExecuteTime": {
     "end_time": "2019-04-15T09:54:56.763432Z",
     "start_time": "2019-04-15T09:54:56.645991Z"
    },
    "colab": {
     "base_uri": "https://localhost:8080/",
     "height": 136
    },
    "colab_type": "code",
    "id": "onp3FYWyfDs5",
    "outputId": "e5a44443-64c2-4217-b740-26aea6169596"
   },
   "outputs": [
    {
     "name": "stdout",
     "output_type": "stream",
     "text": [
      "*****Train confusion matrix*****\n",
      "[[ 7270  2354]\n",
      " [  783 51034]]\n",
      "\n",
      "*****Test confusion matrix*****\n",
      "[[ 2970  1587]\n",
      " [  521 21254]]\n"
     ]
    }
   ],
   "source": [
    "# Confusion Matrix\n",
    "print_confusion_matrix(model_bow_fe_sgd, X_train_bow_fe, X_test_bow_fe)"
   ]
  },
  {
   "cell_type": "code",
   "execution_count": 106,
   "metadata": {
    "ExecuteTime": {
     "end_time": "2019-04-15T09:56:52.597922Z",
     "start_time": "2019-04-15T09:56:52.229961Z"
    },
    "colab": {
     "base_uri": "https://localhost:8080/",
     "height": 297
    },
    "colab_type": "code",
    "id": "TKfeX1xXfDtB",
    "outputId": "64724fd9-c97e-4f5a-e5bc-e5a0eab5ff59"
   },
   "outputs": [
    {
     "data": {
      "text/plain": [
       "<Figure size 432x288 with 0 Axes>"
      ]
     },
     "metadata": {},
     "output_type": "display_data"
    },
    {
     "data": {
      "image/png": "[encoded data removed]",
      "text/plain": [
       "<Figure size 1080x288 with 4 Axes>"
      ]
     },
     "metadata": {
      "needs_background": "light"
     },
     "output_type": "display_data"
    }
   ],
   "source": [
    "# Confustion Matrix heatmap\n",
    "plt.figure(1)\n",
    "plt.figure(figsize=(15, 4))\n",
    "\n",
    "\n",
    "plt.subplot(121)  # Test confusion matrix\n",
    "cnf_matrix = confusion_matrix(y_test, model_bow_fe_sgd.predict(X_test_bow_fe))\n",
    "np.set_printoptions(precision=2)\n",
    "class_names = ['Negative', 'Positive']\n",
    "# Plot non-normalized confusion matrix\n",
    "#plt.figure()\n",
    "plot_confusion_matrix_heatmap(cnf_matrix, classes=class_names, title='Test Set Confusion Matrix');\n",
    "\n",
    "plt.subplot(122) # Train Confusion matrix\n",
    "cnf_matrix = confusion_matrix(y_train, model_bow_fe_sgd.predict(X_train_bow_fe))\n",
    "np.set_printoptions(precision=2)\n",
    "class_names = ['Negative', 'Positive']\n",
    "# Plot non-normalized confusion matrix\n",
    "#plt.figure()\n",
    "plot_confusion_matrix_heatmap(cnf_matrix, classes=class_names, title='Train Set Confusion Matrix');"
   ]
  },
  {
   "cell_type": "markdown",
   "metadata": {
    "colab_type": "text",
    "id": "c6KXXYiXfDtF"
   },
   "source": [
    "**Observation**\n",
    "1. For the BoW vectorizer with Feature Engineering, we calculated C = 0.01 using GridSearchCV with cv = 5 and with penalty l2. \n",
    "2. We got train AUC: 0.9782117196089936 and test AUC: 0.9514549297367924\n",
    "3. Using the confusion matrix, we can say that our model correctly predicted 21245 positive reviews and 2970 negative reviews.\n",
    "4. The model incorrectly classified 521 negative reviews and 1587 positive reviews.\n",
    "5. **Doing Feature Engineering has made the model slightly perform better than the model without feature engineering.**\n"
   ]
  },
  {
   "cell_type": "markdown",
   "metadata": {
    "_uuid": "3bc166f7cfd22ecb52ea1e430f88bc1c11a94f94",
    "colab_type": "text",
    "id": "R1kZLz2b1Kwr"
   },
   "source": [
    "## [4.2] Bi-Grams and n-Grams."
   ]
  },
  {
   "cell_type": "code",
   "execution_count": null,
   "metadata": {
    "ExecuteTime": {
     "start_time": "2019-03-20T10:32:16.047Z"
    },
    "_uuid": "c3c070a040e1d5a1b0e889d8df933259fba9841f",
    "colab": {},
    "colab_type": "code",
    "id": "AAo6WKox1Kws"
   },
   "outputs": [],
   "source": [
    "#bi-gram, tri-gram and n-gram\n",
    "\n",
    "#removing stop words like \"not\" should be avoided before building n-grams\n",
    "# count_vect = CountVectorizer(ngram_range=(1,2))\n",
    "# please do read the CountVectorizer documentation http://scikit-learn.org/stable/modules/generated/sklearn.feature_extraction.text.CountVectorizer.html\n",
    "\n",
    "# you can choose these numebrs min_df=10, max_features=5000, of your choice\n",
    "#count_vect = CountVectorizer(ngram_range=(1,2), min_df=10, max_features=5000)\n",
    "#final_bigram_counts = count_vect.fit_transform(preprocessed_reviews)\n",
    "#print(\"the type of count vectorizer \",type(final_bigram_counts))\n",
    "#print(\"the shape of out text BOW vectorizer \",final_bigram_counts.get_shape())\n",
    "#print(\"the number of unique words including both unigrams and bigrams \", final_bigram_counts.get_shape()[1])"
   ]
  },
  {
   "cell_type": "markdown",
   "metadata": {
    "_uuid": "3b3048ac927c6351e73f3b1f354c5f59dc53cc73",
    "colab_type": "text",
    "id": "NOdeFIOf1Kwv"
   },
   "source": [
    "## [4.3] TF-IDF"
   ]
  },
  {
   "cell_type": "code",
   "execution_count": 82,
   "metadata": {
    "ExecuteTime": {
     "end_time": "2019-04-15T08:38:44.222220Z",
     "start_time": "2019-04-15T08:38:30.707495Z"
    },
    "_uuid": "41aa60ec9d9ca36442c5f6298ff6c3191c9f861c",
    "colab": {
     "base_uri": "https://localhost:8080/",
     "height": 85
    },
    "colab_type": "code",
    "id": "LHdOu8741Kww",
    "outputId": "0c3d6f5a-d0bf-4841-d1a6-ccd20716d2e6"
   },
   "outputs": [
    {
     "name": "stdout",
     "output_type": "stream",
     "text": [
      "After vectorizations\n",
      "(61441, 36173) (61441,)\n",
      "(26332, 36173) (26332,)\n",
      "====================================================================================================\n"
     ]
    }
   ],
   "source": [
    "# ss\n",
    "from sklearn.feature_extraction.text import TfidfVectorizer\n",
    "tf_idf_vect = TfidfVectorizer(ngram_range=(1,2), min_df=10)\n",
    "tf_idf_vect.fit(X_train) # fit has to happen only on train data\n",
    "\n",
    "# we use the fitted CountVectorizer to convert the text to vector\n",
    "X_train_tfidf = tf_idf_vect.transform(X_train)\n",
    "#X_cv_tfidf = tf_idf_vect.transform(X_cv)\n",
    "X_test_tfidf = tf_idf_vect.transform(X_test)\n",
    "\n",
    "print(\"After vectorizations\")\n",
    "print(X_train_tfidf.shape, y_train.shape)\n",
    "#print(X_cv_tfidf.shape, y_cv.shape)\n",
    "print(X_test_tfidf.shape, y_test.shape)\n",
    "print(\"=\"*100)"
   ]
  },
  {
   "cell_type": "code",
   "execution_count": 83,
   "metadata": {
    "ExecuteTime": {
     "end_time": "2019-04-15T08:38:44.853333Z",
     "start_time": "2019-04-15T08:38:44.844309Z"
    },
    "_uuid": "b0bf672b68a7876aba0ea412c16fe74e5320ea1e",
    "colab": {
     "base_uri": "https://localhost:8080/",
     "height": 68
    },
    "colab_type": "code",
    "id": "IMy3SC4S1Kw0",
    "outputId": "0800bc27-9e7a-4633-c639-13fa42d2545b"
   },
   "outputs": [
    {
     "name": "stdout",
     "output_type": "stream",
     "text": [
      "the type of count vectorizer  <class 'scipy.sparse.csr.csr_matrix'>\n",
      "the shape of cut text TFIDF vectorizer  (61441, 36173)\n",
      "the number of unique words:  36173\n"
     ]
    }
   ],
   "source": [
    "print(\"the type of count vectorizer \",type(X_train_tfidf))\n",
    "print(\"the shape of cut text TFIDF vectorizer \",X_train_tfidf.get_shape())\n",
    "print(\"the number of unique words: \", X_train_tfidf.get_shape()[1])"
   ]
  },
  {
   "cell_type": "markdown",
   "metadata": {},
   "source": [
    "### [5.1.2] Applying Linear SVM on TFIDF,<font color='red'> SET 2</font>"
   ]
  },
  {
   "cell_type": "code",
   "execution_count": 84,
   "metadata": {
    "ExecuteTime": {
     "end_time": "2019-04-15T08:39:05.788998Z",
     "start_time": "2019-04-15T08:38:45.447474Z"
    },
    "colab": {
     "base_uri": "https://localhost:8080/",
     "height": 604
    },
    "colab_type": "code",
    "id": "vFlwdS07fDvg",
    "outputId": "37d88222-c784-4daa-ffa7-3f8556791ceb"
   },
   "outputs": [
    {
     "name": "stdout",
     "output_type": "stream",
     "text": [
      "+---------------+--------------+------------------------------------+\n",
      "| Mean CV Score | Std CV Score |               Param                |\n",
      "+---------------+--------------+------------------------------------+\n",
      "|      0.93     |   0.01365    | {'alpha': 0.0001, 'penalty': 'l1'} |\n",
      "|     0.955     |   0.01329    | {'alpha': 0.0001, 'penalty': 'l2'} |\n",
      "|     0.678     |    0.0804    | {'alpha': 0.001, 'penalty': 'l1'}  |\n",
      "|     0.948     |   0.01552    | {'alpha': 0.001, 'penalty': 'l2'}  |\n",
      "|      0.5      |     0.0      |  {'alpha': 0.01, 'penalty': 'l1'}  |\n",
      "|     0.948     |   0.01529    |  {'alpha': 0.01, 'penalty': 'l2'}  |\n",
      "|      0.5      |     0.0      |  {'alpha': 0.1, 'penalty': 'l1'}   |\n",
      "|     0.589     |   0.02017    |  {'alpha': 0.1, 'penalty': 'l2'}   |\n",
      "|      0.5      |     0.0      |   {'alpha': 1, 'penalty': 'l1'}    |\n",
      "|     0.589     |   0.02015    |   {'alpha': 1, 'penalty': 'l2'}    |\n",
      "|      0.5      |     0.0      |   {'alpha': 10, 'penalty': 'l1'}   |\n",
      "|     0.589     |   0.02015    |   {'alpha': 10, 'penalty': 'l2'}   |\n",
      "|      0.5      |     0.0      |  {'alpha': 100, 'penalty': 'l1'}   |\n",
      "|     0.589     |   0.02015    |  {'alpha': 100, 'penalty': 'l2'}   |\n",
      "|      0.5      |     0.0      |  {'alpha': 1000, 'penalty': 'l1'}  |\n",
      "|     0.589     |   0.02015    |  {'alpha': 1000, 'penalty': 'l2'}  |\n",
      "|      0.5      |     0.0      | {'alpha': 10000, 'penalty': 'l1'}  |\n",
      "|     0.589     |   0.02015    | {'alpha': 10000, 'penalty': 'l2'}  |\n",
      "+---------------+--------------+------------------------------------+\n",
      "\n",
      "The best estimator:SGDClassifier(alpha=0.0001, average=False, class_weight=None,\n",
      "       early_stopping=False, epsilon=0.1, eta0=0.0, fit_intercept=True,\n",
      "       l1_ratio=0.15, learning_rate='optimal', loss='hinge', max_iter=None,\n",
      "       n_iter=None, n_iter_no_change=5, n_jobs=None, penalty='l2',\n",
      "       power_t=0.5, random_state=None, shuffle=True, tol=None,\n",
      "       validation_fraction=0.1, verbose=0, warm_start=False)\n",
      "\n",
      "The best score is:0.9545224952996035\n",
      "The best value of C is:{'alpha': 0.0001, 'penalty': 'l2'}\n",
      "Mean Score: 0.9600699999269364\n"
     ]
    },
    {
     "data": {
      "image/png": "[encoded data removed]",
      "text/plain": [
       "<Figure size 432x288 with 1 Axes>"
      ]
     },
     "metadata": {
      "needs_background": "light"
     },
     "output_type": "display_data"
    }
   ],
   "source": [
    "# Get the best hyperparameter using GridSearchCV with penalty l1 and cv = 5\n",
    "get_best_hyperparameter_alpha(tf_idf_vect, X_train_tfidf, X_test_tfidf, y_train, y_test)"
   ]
  },
  {
   "cell_type": "code",
   "execution_count": 107,
   "metadata": {
    "ExecuteTime": {
     "end_time": "2019-04-15T09:58:51.707909Z",
     "start_time": "2019-04-15T09:58:51.598103Z"
    },
    "colab": {},
    "colab_type": "code",
    "id": "5t8gqUqofDvj",
    "run_control": {
     "marked": false
    }
   },
   "outputs": [],
   "source": [
    "# Fitting the model with the best hyperparameter\n",
    "model_tfidf_sgd = SGDClassifier(alpha= 0.0001 ,penalty = 'l2')\n",
    "model_tfidf_sgd.fit(X_train_tfidf,y_train)\n",
    "y_pred = model_tfidf_sgd.predict(X_test_tfidf)"
   ]
  },
  {
   "cell_type": "code",
   "execution_count": 108,
   "metadata": {
    "ExecuteTime": {
     "end_time": "2019-04-15T10:00:54.358247Z",
     "start_time": "2019-04-15T10:00:53.129994Z"
    },
    "colab": {
     "base_uri": "https://localhost:8080/",
     "height": 328
    },
    "colab_type": "code",
    "id": "F8Nbx73jfDvl",
    "outputId": "449d0a50-a284-41e0-a539-e6349f8dc1d6"
   },
   "outputs": [
    {
     "data": {
      "image/png": "[encoded data removed]",
      "text/plain": [
       "<Figure size 432x288 with 1 Axes>"
      ]
     },
     "metadata": {
      "needs_background": "light"
     },
     "output_type": "display_data"
    },
    {
     "name": "stdout",
     "output_type": "stream",
     "text": [
      "train AUC: 0.9748968093818116\n",
      "test AUC: 0.9603306201559176\n"
     ]
    }
   ],
   "source": [
    "# AUC- ROC plot\n",
    "auc_train_tfidf_sgd, auc_test_tfidf_sgd = plot_auc_sgd(model_tfidf_sgd, X_train_tfidf, X_test_tfidf)"
   ]
  },
  {
   "cell_type": "code",
   "execution_count": 109,
   "metadata": {
    "ExecuteTime": {
     "end_time": "2019-04-15T10:02:46.552272Z",
     "start_time": "2019-04-15T10:02:46.463036Z"
    },
    "colab": {
     "base_uri": "https://localhost:8080/",
     "height": 136
    },
    "colab_type": "code",
    "id": "ViJc1G8PfDvs",
    "outputId": "90232b13-b35b-45a3-95d0-005d10483be2"
   },
   "outputs": [
    {
     "name": "stdout",
     "output_type": "stream",
     "text": [
      "*****Train confusion matrix*****\n",
      "[[ 5022  4602]\n",
      " [  230 51587]]\n",
      "\n",
      "*****Test confusion matrix*****\n",
      "[[ 2204  2353]\n",
      " [  159 21616]]\n"
     ]
    }
   ],
   "source": [
    "# Confusion Matrix\n",
    "print_confusion_matrix(model_tfidf_sgd, X_train_tfidf, X_test_tfidf)"
   ]
  },
  {
   "cell_type": "code",
   "execution_count": 110,
   "metadata": {
    "ExecuteTime": {
     "end_time": "2019-04-15T10:04:38.688043Z",
     "start_time": "2019-04-15T10:04:38.418340Z"
    },
    "colab": {
     "base_uri": "https://localhost:8080/",
     "height": 297
    },
    "colab_type": "code",
    "id": "BuJvZwoPfDvv",
    "outputId": "81e29177-dbfc-4da9-b8b3-111f4b9a6b51",
    "run_control": {
     "marked": false
    }
   },
   "outputs": [
    {
     "data": {
      "text/plain": [
       "<Figure size 432x288 with 0 Axes>"
      ]
     },
     "metadata": {},
     "output_type": "display_data"
    },
    {
     "data": {
      "image/png": "[encoded data removed]",
      "text/plain": [
       "<Figure size 1080x288 with 4 Axes>"
      ]
     },
     "metadata": {
      "needs_background": "light"
     },
     "output_type": "display_data"
    }
   ],
   "source": [
    "# Heatmap Confusion Matrix\n",
    "plt.figure(1)\n",
    "plt.figure(figsize=(15, 4))\n",
    "\n",
    "\n",
    "plt.subplot(121)  # Test confusion matrix\n",
    "cnf_matrix = confusion_matrix(y_test, model_tfidf_sgd.predict(X_test_tfidf))\n",
    "np.set_printoptions(precision=2)\n",
    "class_names = ['Negative', 'Positive']\n",
    "# Plot non-normalized confusion matrix\n",
    "#plt.figure()\n",
    "plot_confusion_matrix_heatmap(cnf_matrix, classes=class_names, title='Test Set Confusion Matrix');\n",
    "\n",
    "plt.subplot(122) # Train Confusion matrix\n",
    "cnf_matrix = confusion_matrix(y_train, model_tfidf_sgd.predict(X_train_tfidf))\n",
    "np.set_printoptions(precision=2)\n",
    "class_names = ['Negative', 'Positive']\n",
    "# Plot non-normalized confusion matrix\n",
    "#plt.figure()\n",
    "plot_confusion_matrix_heatmap(cnf_matrix, classes=class_names, title='Train Set Confusion Matrix');"
   ]
  },
  {
   "cell_type": "markdown",
   "metadata": {
    "colab_type": "text",
    "id": "diqGTMXdkbEd"
   },
   "source": [
    "**Observation**\n",
    "1. For the TFIDF vectorizer, we calculated C = 0.0001 using GridSearchCV with cv = 5 and with penalty l2. \n",
    "2. We got train AUC: 0.9748968093818116 and test AUC: 0.9603306201559176\n",
    "3. Using the confusion matrix, we can say that our model correctly predicted 21616 positive reviews and 2204 negative reviews.\n",
    "4. The model incorrectly classified 159 negative reviews and 2353 positive reviews."
   ]
  },
  {
   "cell_type": "markdown",
   "metadata": {
    "_uuid": "62bcc553cadeaeb9086bf0ea6d4b7c00b638eefd",
    "colab_type": "text",
    "id": "NkTP8p_D1Kxd"
   },
   "source": [
    "## [4.4] Word2Vec"
   ]
  },
  {
   "cell_type": "code",
   "execution_count": 85,
   "metadata": {
    "ExecuteTime": {
     "end_time": "2019-04-15T08:39:06.817574Z",
     "start_time": "2019-04-15T08:39:06.423760Z"
    },
    "_uuid": "3eba5421ef7bac1a8a64c3d1a69e7646db9ca204",
    "colab": {},
    "colab_type": "code",
    "id": "2Yv13gNy1Kxk"
   },
   "outputs": [],
   "source": [
    "# Train your own Word2Vec model using your own text corpus \n",
    "i=0\n",
    "list_of_sentance_train=[]\n",
    "for sentance in X_train:\n",
    "    list_of_sentance_train.append(sentance.split())"
   ]
  },
  {
   "cell_type": "code",
   "execution_count": 86,
   "metadata": {
    "ExecuteTime": {
     "end_time": "2019-04-15T08:39:08.482160Z",
     "start_time": "2019-04-15T08:39:08.478150Z"
    },
    "_uuid": "92d9891774578f8e61bcce0059d2df595d440f90",
    "colab": {
     "base_uri": "https://localhost:8080/",
     "height": 54
    },
    "colab_type": "code",
    "id": "9ndor9pA1Kxr",
    "outputId": "06138a91-3598-4196-ae1f-d73e09295b14",
    "scrolled": true
   },
   "outputs": [
    {
     "name": "stdout",
     "output_type": "stream",
     "text": [
      "['bought', 'apartment', 'infested', 'fruit', 'flies', 'hours', 'trap', 'attracted', 'many', 'flies', 'within', 'days', 'practically', 'gone', 'may', 'not', 'long', 'term', 'solution', 'flies', 'driving', 'crazy', 'consider', 'buying', 'one', 'caution', 'surface', 'sticky', 'try', 'avoid', 'touching']\n"
     ]
    }
   ],
   "source": [
    "print(list_of_sentance_train[0])"
   ]
  },
  {
   "cell_type": "code",
   "execution_count": 87,
   "metadata": {
    "ExecuteTime": {
     "end_time": "2019-04-15T08:39:18.132755Z",
     "start_time": "2019-04-15T08:39:09.950335Z"
    },
    "_uuid": "85f0a3737e103fca84d75deaf28614ff156efdc7",
    "colab": {
     "base_uri": "https://localhost:8080/",
     "height": 88
    },
    "colab_type": "code",
    "id": "tRvIseDA1Kxz",
    "outputId": "1ffc5e78-8e1b-4371-fa9e-6cea26ca35c9"
   },
   "outputs": [
    {
     "name": "stdout",
     "output_type": "stream",
     "text": [
      "[('good', 0.821457028388977), ('terrific', 0.8163110613822937), ('fantastic', 0.8123440146446228), ('excellent', 0.8065283894538879), ('awesome', 0.8021259903907776), ('wonderful', 0.797581136226654), ('perfect', 0.7288220524787903), ('nice', 0.7148672938346863), ('fabulous', 0.7089940309524536), ('decent', 0.695073127746582)]\n",
      "==================================================\n",
      "[('greatest', 0.7920302748680115), ('best', 0.7550718784332275), ('nastiest', 0.7323176860809326), ('tastiest', 0.7221068143844604), ('closest', 0.6759981513023376), ('coolest', 0.662483274936676), ('disgusting', 0.6464158296585083), ('humble', 0.6225912570953369), ('softest', 0.5897253751754761), ('smoothest', 0.5827312469482422)]\n"
     ]
    }
   ],
   "source": [
    "is_your_ram_gt_16g=False\n",
    "want_to_use_google_w2v = False\n",
    "want_to_train_w2v = True\n",
    "\n",
    "if want_to_train_w2v:\n",
    "    # min_count = 5 considers only words that occured atleast 5 times\n",
    "    w2v_model=Word2Vec(list_of_sentance_train,min_count=5,size=50, workers=4)\n",
    "    print(w2v_model.wv.most_similar('great'))\n",
    "    print('='*50)\n",
    "    print(w2v_model.wv.most_similar('worst'))\n",
    "    \n",
    "elif want_to_use_google_w2v and is_your_ram_gt_16g:\n",
    "    if os.path.isfile('GoogleNews-vectors-negative300.bin'):\n",
    "        w2v_model=KeyedVectors.load_word2vec_format('GoogleNews-vectors-negative300.bin', binary=True)\n",
    "        print(w2v_model.wv.most_similar('great'))\n",
    "        print(w2v_model.wv.most_similar('worst'))\n",
    "    else:\n",
    "        print(\"you don't have gogole's word2vec file, keep want_to_train_w2v = True, to train your own w2v \")"
   ]
  },
  {
   "cell_type": "code",
   "execution_count": 88,
   "metadata": {
    "ExecuteTime": {
     "end_time": "2019-04-15T08:39:19.720306Z",
     "start_time": "2019-04-15T08:39:19.709277Z"
    },
    "_uuid": "3a48a0f64fb3bfa0716f0f02d28819bbbdefdfc5",
    "colab": {
     "base_uri": "https://localhost:8080/",
     "height": 71
    },
    "colab_type": "code",
    "id": "43dvFfQD1Kx3",
    "outputId": "e3de60ca-ac01-4e5b-e3f8-54e7ae704582"
   },
   "outputs": [
    {
     "name": "stdout",
     "output_type": "stream",
     "text": [
      "number of words that occured minimum 5 times  14799\n",
      "sample words  ['bought', 'apartment', 'infested', 'fruit', 'flies', 'hours', 'trap', 'attracted', 'many', 'within', 'days', 'practically', 'gone', 'may', 'not', 'long', 'term', 'solution', 'driving', 'crazy', 'consider', 'buying', 'one', 'caution', 'surface', 'sticky', 'try', 'avoid', 'touching', 'really', 'good', 'idea', 'final', 'product', 'outstanding', 'use', 'car', 'window', 'everybody', 'asks', 'made', 'two', 'thumbs', 'received', 'shipment', 'could', 'hardly', 'wait', 'love', 'call']\n"
     ]
    }
   ],
   "source": [
    "w2v_words = list(w2v_model.wv.vocab)\n",
    "print(\"number of words that occured minimum 5 times \",len(w2v_words))\n",
    "print(\"sample words \", w2v_words[0:50])"
   ]
  },
  {
   "cell_type": "markdown",
   "metadata": {
    "_uuid": "fc2388a44995a313f86ca1076dc1c6e49fd0b3e8",
    "colab_type": "text",
    "id": "0G4-3ywU1Kx8"
   },
   "source": [
    "**Converting train text data**"
   ]
  },
  {
   "cell_type": "code",
   "execution_count": 89,
   "metadata": {
    "ExecuteTime": {
     "end_time": "2019-04-15T08:41:13.797834Z",
     "start_time": "2019-04-15T08:39:21.364862Z"
    },
    "_uuid": "57528fa94bdfc0e346a0a9ed1b21607a1386960a",
    "colab": {
     "base_uri": "https://localhost:8080/",
     "height": 204
    },
    "colab_type": "code",
    "id": "qiC2yQEF1Kx-",
    "outputId": "973f4b8c-d893-4ce1-c1af-64d9a9825651"
   },
   "outputs": [
    {
     "name": "stderr",
     "output_type": "stream",
     "text": [
      "100%|███████████████████████████████████████████████████████████████████████████████████████████████████████████████████████████| 61441/61441 [01:52<00:00, 618.29it/s]\n"
     ]
    },
    {
     "name": "stdout",
     "output_type": "stream",
     "text": [
      "(61441, 50)\n",
      "[ 0.5   0.28  0.01  0.78  0.19 -0.33 -0.03 -0.04 -0.18 -0.08  0.39  0.13\n",
      "  0.2   0.1  -0.27 -0.62 -0.13 -0.44  0.11 -0.07 -0.22  0.14  0.17  0.27\n",
      "  0.08  0.21  0.48  0.5   0.5   0.04  0.06 -0.39  0.38 -0.19 -0.28 -0.05\n",
      "  1.   -0.05 -0.44 -0.11 -0.13 -0.32  0.11 -0.2   0.22  0.   -0.    0.42\n",
      "  0.13 -0.12]\n"
     ]
    }
   ],
   "source": [
    "# average Word2Vec\n",
    "# compute average word2vec for each review.\n",
    "sent_vectors_train = []; # the avg-w2v for each sentence/review is stored in this list\n",
    "for sent in tqdm(list_of_sentance_train): # for each review/sentence\n",
    "    sent_vec = np.zeros(50) # as word vectors are of zero length 50, you might need to change this to 300 if you use google's w2v\n",
    "    cnt_words =0; # num of words with a valid vector in the sentence/review\n",
    "    for word in sent: # for each word in a review/sentence\n",
    "        if word in w2v_words:\n",
    "            vec = w2v_model.wv[word]\n",
    "            sent_vec += vec\n",
    "            cnt_words += 1\n",
    "    if cnt_words != 0:\n",
    "        sent_vec /= cnt_words\n",
    "    sent_vectors_train.append(sent_vec)\n",
    "sent_vectors_train = np.array(sent_vectors_train)\n",
    "print(sent_vectors_train.shape)\n",
    "print(sent_vectors_train[0])"
   ]
  },
  {
   "cell_type": "markdown",
   "metadata": {
    "_uuid": "a2c12dd1486c702b87863cf25cee30008bcfbfde",
    "colab_type": "text",
    "id": "1budLyC51KyO"
   },
   "source": [
    "**Converting test text data**"
   ]
  },
  {
   "cell_type": "code",
   "execution_count": 90,
   "metadata": {
    "ExecuteTime": {
     "end_time": "2019-04-15T08:41:15.580967Z",
     "start_time": "2019-04-15T08:41:15.261254Z"
    },
    "_uuid": "e727e3f1df3db7d3a8c9118caaffaa2ae10e8a83",
    "colab": {},
    "colab_type": "code",
    "id": "cSl0uad91KyP"
   },
   "outputs": [],
   "source": [
    "i=0\n",
    "list_of_sentance_test=[]\n",
    "for sentance in X_test:\n",
    "    list_of_sentance_test.append(sentance.split())"
   ]
  },
  {
   "cell_type": "code",
   "execution_count": 91,
   "metadata": {
    "ExecuteTime": {
     "end_time": "2019-04-15T08:42:01.697562Z",
     "start_time": "2019-04-15T08:41:17.406239Z"
    },
    "_uuid": "c8039314c79e3616a6e76e13135665a19bb37697",
    "colab": {
     "base_uri": "https://localhost:8080/",
     "height": 204
    },
    "colab_type": "code",
    "id": "OVxdVVkJ1KyS",
    "outputId": "60c06565-57cb-4c79-f4e4-c4b67dcc30c3"
   },
   "outputs": [
    {
     "name": "stderr",
     "output_type": "stream",
     "text": [
      "100%|███████████████████████████████████████████████████████████████████████████████████████████████████████████████████████████| 26332/26332 [00:44<00:00, 595.22it/s]\n"
     ]
    },
    {
     "name": "stdout",
     "output_type": "stream",
     "text": [
      "(26332, 50)\n",
      "[-0.2   0.15  0.1  -0.8  -0.12  1.12 -0.45 -0.67 -0.05 -0.19  0.26 -0.81\n",
      " -0.47  1.24  0.33 -0.78  0.16  0.49  0.04 -0.53  0.3  -0.21  0.2   0.67\n",
      " -0.06 -0.68  0.22  0.41 -0.04 -0.09 -0.73  0.46  0.09 -0.74 -0.39 -1.04\n",
      "  0.48  0.09 -0.01  0.49 -0.01 -0.5  -0.3  -0.27 -0.16  1.19 -0.3   0.36\n",
      "  0.01  0.56]\n"
     ]
    }
   ],
   "source": [
    "# average Word2Vec\n",
    "# compute average word2vec for each review.\n",
    "sent_vectors_test = []; # the avg-w2v for each sentence/review is stored in this list\n",
    "for sent in tqdm(list_of_sentance_test): # for each review/sentence\n",
    "    sent_vec = np.zeros(50) # as word vectors are of zero length 50, you might need to change this to 300 if you use google's w2v\n",
    "    cnt_words =0; # num of words with a valid vector in the sentence/review\n",
    "    for word in sent: # for each word in a review/sentence\n",
    "        if word in w2v_words:\n",
    "            vec = w2v_model.wv[word]\n",
    "            sent_vec += vec\n",
    "            cnt_words += 1\n",
    "    if cnt_words != 0:\n",
    "        sent_vec /= cnt_words\n",
    "    sent_vectors_test.append(sent_vec)\n",
    "sent_vectors_test = np.array(sent_vectors_test)\n",
    "\n",
    "print(sent_vectors_test.shape)\n",
    "print(sent_vectors_test[0])"
   ]
  },
  {
   "cell_type": "markdown",
   "metadata": {
    "colab_type": "text",
    "id": "WBNHhAjZkbFe"
   },
   "source": [
    "hyperparameter tuning with cv = 5 using gridsearch"
   ]
  },
  {
   "cell_type": "markdown",
   "metadata": {},
   "source": [
    "### [5.1.3]  Applying Linear SVM on AVG W2V,<font color='red'> SET 3</font>"
   ]
  },
  {
   "cell_type": "code",
   "execution_count": 92,
   "metadata": {
    "ExecuteTime": {
     "end_time": "2019-04-15T08:42:14.143439Z",
     "start_time": "2019-04-15T08:42:03.526006Z"
    }
   },
   "outputs": [
    {
     "name": "stdout",
     "output_type": "stream",
     "text": [
      "+---------------+--------------+------------------------------------+\n",
      "| Mean CV Score | Std CV Score |               Param                |\n",
      "+---------------+--------------+------------------------------------+\n",
      "|     0.894     |   0.01043    | {'alpha': 0.0001, 'penalty': 'l1'} |\n",
      "|      0.89     |   0.01894    | {'alpha': 0.0001, 'penalty': 'l2'} |\n",
      "|      0.9      |   0.01401    | {'alpha': 0.001, 'penalty': 'l1'}  |\n",
      "|      0.9      |   0.01779    | {'alpha': 0.001, 'penalty': 'l2'}  |\n",
      "|      0.86     |    0.0229    |  {'alpha': 0.01, 'penalty': 'l1'}  |\n",
      "|     0.901     |   0.01561    |  {'alpha': 0.01, 'penalty': 'l2'}  |\n",
      "|      0.5      |     0.0      |  {'alpha': 0.1, 'penalty': 'l1'}   |\n",
      "|      0.9      |   0.01582    |  {'alpha': 0.1, 'penalty': 'l2'}   |\n",
      "|      0.5      |     0.0      |   {'alpha': 1, 'penalty': 'l1'}    |\n",
      "|     0.898     |   0.02486    |   {'alpha': 1, 'penalty': 'l2'}    |\n",
      "|      0.5      |     0.0      |   {'alpha': 10, 'penalty': 'l1'}   |\n",
      "|     0.798     |   0.02807    |   {'alpha': 10, 'penalty': 'l2'}   |\n",
      "|      0.5      |     0.0      |  {'alpha': 100, 'penalty': 'l1'}   |\n",
      "|     0.631     |   0.02232    |  {'alpha': 100, 'penalty': 'l2'}   |\n",
      "|      0.5      |     0.0      |  {'alpha': 1000, 'penalty': 'l1'}  |\n",
      "|     0.631     |   0.02232    |  {'alpha': 1000, 'penalty': 'l2'}  |\n",
      "|      0.5      |     0.0      | {'alpha': 10000, 'penalty': 'l1'}  |\n",
      "|     0.631     |   0.02232    | {'alpha': 10000, 'penalty': 'l2'}  |\n",
      "+---------------+--------------+------------------------------------+\n",
      "\n",
      "The best estimator:SGDClassifier(alpha=0.01, average=False, class_weight=None,\n",
      "       early_stopping=False, epsilon=0.1, eta0=0.0, fit_intercept=True,\n",
      "       l1_ratio=0.15, learning_rate='optimal', loss='hinge', max_iter=None,\n",
      "       n_iter=None, n_iter_no_change=5, n_jobs=None, penalty='l2',\n",
      "       power_t=0.5, random_state=None, shuffle=True, tol=None,\n",
      "       validation_fraction=0.1, verbose=0, warm_start=False)\n",
      "\n",
      "The best score is:0.9014066804762465\n",
      "The best value of C is:{'alpha': 0.01, 'penalty': 'l2'}\n",
      "Mean Score: 0.9023320325500668\n"
     ]
    }
   ],
   "source": [
    "params_dict = {\n",
    "                \"alpha\": [10**-4, 10**-3,10**-2,10**-1, 10**0,10**1, 10**2,10**3, 10**4], \n",
    "                \"penalty\": ['l1', 'l2']\n",
    "               }\n",
    "   \n",
    "# Using GridSearchCVSearchCV with 5 fold cv\n",
    "gs_obj = GridSearchCV(SGDClassifier(loss='hinge'), param_grid = params_dict, scoring = 'roc_auc', cv=5)\n",
    "\n",
    "gs_obj.fit(sent_vectors_train, y_train)\n",
    "  \n",
    "# Code https://stackoverflow.com/questions/42793254/what-replaces-gridsearchcv-grid-scores-in-scikit#answer-42800056\n",
    "means = gs_obj.cv_results_['mean_test_score']\n",
    "stds = gs_obj.cv_results_['std_test_score']\n",
    "\n",
    "\n",
    "t1 = PrettyTable()\n",
    "t1.field_names = ['Mean CV Score', 'Std CV Score', 'Param']\n",
    "\n",
    "for mean, std, params in zip(means, stds, gs_obj.cv_results_['params']):\n",
    "    t1.add_row([round(mean, 3), round(std * 2,5), params])\n",
    "\n",
    "print(t1) \n",
    "\n",
    "print(\"\\nThe best estimator:{}\".format(gs_obj.best_estimator_))\n",
    "print(\"\\nThe best score is:{}\".format(gs_obj.best_score_))\n",
    "print(\"The best value of C is:{}\".format(gs_obj.best_params_))\n",
    "\n",
    "# Returns the mean accuracy on the given test data and labels.\n",
    "print(\"Mean Score: {}\".format(gs_obj.score(sent_vectors_test, y_test)))\n",
    "   \n",
    "del t1    "
   ]
  },
  {
   "cell_type": "code",
   "execution_count": 93,
   "metadata": {
    "ExecuteTime": {
     "end_time": "2019-04-15T08:42:20.772943Z",
     "start_time": "2019-04-15T08:42:16.005833Z"
    }
   },
   "outputs": [
    {
     "data": {
      "image/png": "[encoded data removed]",
      "text/plain": [
       "<Figure size 432x288 with 1 Axes>"
      ]
     },
     "metadata": {
      "needs_background": "light"
     },
     "output_type": "display_data"
    }
   ],
   "source": [
    "alpha = [10**-4, 10**-3,10**-2,10**-1, 10**0,10**1, 10**2,10**3, 10**4]\n",
    "    \n",
    "params_dict = {\n",
    "                \"alpha\": [10**-4, 10**-3,10**-2,10**-1, 10**0,10**1, 10**2,10**3, 10**4]\n",
    "                \n",
    "               }\n",
    "gs_obj = GridSearchCV(SGDClassifier(loss='hinge',penalty = 'l2'), param_grid = params_dict, scoring = 'roc_auc', cv=5)\n",
    "    \n",
    "gs_obj.fit(sent_vectors_train, y_train)\n",
    "\n",
    "\n",
    "train_scores_mean= gs_obj.cv_results_['mean_train_score']\n",
    "train_scores_std= gs_obj.cv_results_['std_train_score']\n",
    "test_scores_mean = gs_obj.cv_results_['mean_test_score'] \n",
    "test_scores_std= gs_obj.cv_results_['std_test_score']\n",
    "    \n",
    "# draws the error plot\n",
    "\n",
    "plt.plot(alpha, train_scores_mean, label='Train AUC')\n",
    "    # this code is copied from here: https://stackoverflow.com/a/48803361/4084039\n",
    "    #plt.gca().fill_between(alpha,train_auc - train_auc_std,train_auc + train_auc_std,alpha=0.2,color='darkblue')\n",
    "\n",
    "plt.plot(alpha, test_scores_mean, label='CV AUC')\n",
    "    # this code is copied from here: https://stackoverflow.com/a/48803361/4084039 \n",
    "    #plt.gca().fill_between(alpha,cv_auc - cv_auc_std,cv_auc + cv_auc_std,alpha=0.2,color='darkorange')\n",
    "plt.legend()\n",
    "plt.xlabel(\"log(alpha)- hyperparamter\")\n",
    "plt.xscale('log')\n",
    "plt.ylabel(\"AUC\")\n",
    "plt.title(\"ERROR PLOT\")\n",
    "plt.show()"
   ]
  },
  {
   "cell_type": "code",
   "execution_count": 115,
   "metadata": {
    "ExecuteTime": {
     "end_time": "2019-04-15T10:14:21.691059Z",
     "start_time": "2019-04-15T10:14:21.564157Z"
    },
    "colab": {},
    "colab_type": "code",
    "id": "VOazWNX_fDxK"
   },
   "outputs": [],
   "source": [
    "# Fitting the model with the best hyperparameter\n",
    "model_avgw2v_sgd = SGDClassifier(alpha= 0.01 ,penalty = 'l2')\n",
    "model_avgw2v_sgd.fit(sent_vectors_train,y_train)\n",
    "y_pred = model_avgw2v_sgd.predict(sent_vectors_test)"
   ]
  },
  {
   "cell_type": "code",
   "execution_count": 116,
   "metadata": {
    "ExecuteTime": {
     "end_time": "2019-04-15T10:16:19.034114Z",
     "start_time": "2019-04-15T10:16:18.359753Z"
    },
    "colab": {
     "base_uri": "https://localhost:8080/",
     "height": 328
    },
    "colab_type": "code",
    "id": "cQ0-r-eyfDxM",
    "outputId": "8806b117-f335-449f-d91e-f8edbbe0fd3d"
   },
   "outputs": [
    {
     "data": {
      "image/png": "[encoded data removed]",
      "text/plain": [
       "<Figure size 432x288 with 1 Axes>"
      ]
     },
     "metadata": {
      "needs_background": "light"
     },
     "output_type": "display_data"
    },
    {
     "name": "stdout",
     "output_type": "stream",
     "text": [
      "train AUC: 0.9020367007582843\n",
      "test AUC: 0.9026262821709552\n"
     ]
    }
   ],
   "source": [
    "# AUC - ROC plot\n",
    "auc_train_avgw2v_l1, auc_test_avgw2v_l1 = plot_auc_sgd(model_avgw2v_sgd, sent_vectors_train, sent_vectors_test)"
   ]
  },
  {
   "cell_type": "code",
   "execution_count": 117,
   "metadata": {
    "ExecuteTime": {
     "end_time": "2019-04-15T10:18:14.516696Z",
     "start_time": "2019-04-15T10:18:14.426954Z"
    },
    "colab": {
     "base_uri": "https://localhost:8080/",
     "height": 136
    },
    "colab_type": "code",
    "id": "vqklj7HifDxP",
    "outputId": "c656e9dc-6c19-4cb7-d334-68f1d9967948"
   },
   "outputs": [
    {
     "name": "stdout",
     "output_type": "stream",
     "text": [
      "*****Train confusion matrix*****\n",
      "[[ 2592  7032]\n",
      " [  627 51190]]\n",
      "\n",
      "*****Test confusion matrix*****\n",
      "[[ 1252  3305]\n",
      " [  251 21524]]\n"
     ]
    }
   ],
   "source": [
    "# Confusion matrix\n",
    "print_confusion_matrix(model_avgw2v_sgd, sent_vectors_train, sent_vectors_test)"
   ]
  },
  {
   "cell_type": "code",
   "execution_count": 118,
   "metadata": {
    "ExecuteTime": {
     "end_time": "2019-04-15T10:20:13.240310Z",
     "start_time": "2019-04-15T10:20:12.968470Z"
    },
    "colab": {
     "base_uri": "https://localhost:8080/",
     "height": 297
    },
    "colab_type": "code",
    "id": "Nqc8-jTmfDxT",
    "outputId": "b49a9a83-3d17-4c62-d956-4ec71e772232"
   },
   "outputs": [
    {
     "data": {
      "text/plain": [
       "<Figure size 432x288 with 0 Axes>"
      ]
     },
     "metadata": {},
     "output_type": "display_data"
    },
    {
     "data": {
      "image/png": "[encoded data removed]",
      "text/plain": [
       "<Figure size 1080x288 with 4 Axes>"
      ]
     },
     "metadata": {
      "needs_background": "light"
     },
     "output_type": "display_data"
    }
   ],
   "source": [
    "# Heatmap confusion matrix\n",
    "plt.figure(1)\n",
    "plt.figure(figsize=(15, 4))\n",
    "\n",
    "\n",
    "plt.subplot(121)  # Test confusion matrix\n",
    "cnf_matrix = confusion_matrix(y_test, model_avgw2v_sgd.predict(sent_vectors_test))\n",
    "np.set_printoptions(precision=2)\n",
    "class_names = ['Negative', 'Positive']\n",
    "# Plot non-normalized confusion matrix\n",
    "#plt.figure()\n",
    "plot_confusion_matrix_heatmap(cnf_matrix, classes=class_names, title='Test Set Confusion Matrix');\n",
    "\n",
    "plt.subplot(122) # Train Confusion matrix\n",
    "cnf_matrix = confusion_matrix(y_train, model_avgw2v_sgd.predict(sent_vectors_train))\n",
    "np.set_printoptions(precision=2)\n",
    "class_names = ['Negative', 'Positive']\n",
    "# Plot non-normalized confusion matrix\n",
    "#plt.figure()\n",
    "plot_confusion_matrix_heatmap(cnf_matrix, classes=class_names, title='Train Set Confusion Matrix');"
   ]
  },
  {
   "cell_type": "markdown",
   "metadata": {
    "colab_type": "text",
    "id": "yB-0S_VVsLTG"
   },
   "source": [
    "**Observation**\n",
    "1. For the BoW vectorizer, we calculated C = 0.01 using GridSearchCV with cv = 5 and with penalty l2. \n",
    "2. We got train AUC: 0.902424731877006 and test AUC: 0.9015779662481638\n",
    "3. Using the confusion matrix, we can say that our model correctly predicted 20987 positive reviews and 2146 negative reviews.\n",
    "4. The model incorrectly classified 788 negative reviews and 2411 positive reviews.\n"
   ]
  },
  {
   "cell_type": "markdown",
   "metadata": {
    "_uuid": "675688a0dc19b358036ec2b7e58de8b1149cb8f5",
    "colab_type": "text",
    "id": "1eu04ud71Kys"
   },
   "source": [
    "#### [4.4.1.2] TFIDF weighted W2v"
   ]
  },
  {
   "cell_type": "code",
   "execution_count": 94,
   "metadata": {
    "ExecuteTime": {
     "end_time": "2019-04-15T08:42:25.317006Z",
     "start_time": "2019-04-15T08:42:22.599005Z"
    },
    "_uuid": "2d6de87b17ce76fb79714feb17d5c84f7a601975",
    "colab": {},
    "colab_type": "code",
    "id": "G7xuG9Jp1Kyt"
   },
   "outputs": [],
   "source": [
    "# S = [\"abc def pqr\", \"def def def abc\", \"pqr pqr def\"]\n",
    "model = TfidfVectorizer()\n",
    "X_train_tf_idf_w2v = model.fit_transform(X_train)\n",
    "X_test_tf_idf_w2v = model.transform(X_test)\n",
    "# we are converting a dictionary with word as a key, and the idf as a value\n",
    "dictionary = dict(zip(model.get_feature_names(), list(model.idf_)))"
   ]
  },
  {
   "cell_type": "code",
   "execution_count": 95,
   "metadata": {
    "ExecuteTime": {
     "end_time": "2019-04-15T09:07:12.009623Z",
     "start_time": "2019-04-15T08:42:27.268529Z"
    },
    "_uuid": "3b110ff2baf40700eb08ef1b3e2071402b3008a5",
    "colab": {
     "base_uri": "https://localhost:8080/",
     "height": 34
    },
    "colab_type": "code",
    "id": "ImWZHi4Z1Kyw",
    "outputId": "abf1bdf2-7213-4130-8e8c-ebe121d3486c",
    "scrolled": true
   },
   "outputs": [
    {
     "name": "stderr",
     "output_type": "stream",
     "text": [
      "100%|████████████████████████████████████████████████████████████████████████████████████████████████████████████████████████████| 61441/61441 [24:44<00:00, 32.20it/s]\n"
     ]
    }
   ],
   "source": [
    "# TF-IDF weighted Word2Vec for sentences in X_train\n",
    "tfidf_feat = model.get_feature_names() # tfidf words/col-names\n",
    "# final_tf_idf is the sparse matrix with row= sentence, col=word and cell_val = tfidf\n",
    "\n",
    "tfidf_sent_vectors_train = []; # the tfidf-w2v for each sentence/review is stored in this list\n",
    "row=0;\n",
    "for sent in tqdm(list_of_sentance_train): # for each review/sentence \n",
    "    sent_vec = np.zeros(50) # as word vectors are of zero length\n",
    "    weight_sum =0; # num of words with a valid vector in the sentence/review\n",
    "    for word in sent: # for each word in a review/sentence\n",
    "        if word in w2v_words and word in tfidf_feat:\n",
    "            vec = w2v_model.wv[word]\n",
    "#             tf_idf = tf_idf_matrix[row, tfidf_feat.index(word)]\n",
    "            # to reduce the computation we are \n",
    "            # dictionary[word] = idf value of word in whole courpus\n",
    "            # sent.count(word) = tf valeus of word in this review\n",
    "            tf_idf = dictionary[word]*(sent.count(word)/len(sent))\n",
    "            sent_vec += (vec * tf_idf)\n",
    "            weight_sum += tf_idf\n",
    "    if weight_sum != 0:\n",
    "        sent_vec /= weight_sum\n",
    "    tfidf_sent_vectors_train.append(sent_vec)\n",
    "    row += 1"
   ]
  },
  {
   "cell_type": "code",
   "execution_count": 96,
   "metadata": {
    "ExecuteTime": {
     "end_time": "2019-04-15T09:19:47.991179Z",
     "start_time": "2019-04-15T09:08:29.018626Z"
    },
    "_uuid": "bcd740ff495275cfcb325e9272e1dfdbeb741471",
    "colab": {
     "base_uri": "https://localhost:8080/",
     "height": 34
    },
    "colab_type": "code",
    "id": "-vKhBthA1Ky4",
    "outputId": "82cce351-8d36-4946-89f0-b9c4605d91e8"
   },
   "outputs": [
    {
     "name": "stderr",
     "output_type": "stream",
     "text": [
      "100%|████████████████████████████████████████████████████████████████████████████████████████████████████████████████████████████| 26332/26332 [11:18<00:00, 58.06it/s]\n"
     ]
    }
   ],
   "source": [
    "# TF-IDF weighted Word2Vec for sentences in X_test\n",
    "tfidf_feat = model.get_feature_names() # tfidf words/col-names\n",
    "# final_tf_idf is the sparse matrix with row= sentence, col=word and cell_val = tfidf\n",
    "\n",
    "tfidf_sent_vectors_test = []; # the tfidf-w2v for each sentence/review is stored in this list\n",
    "row=0;\n",
    "for sent in tqdm(list_of_sentance_test): # for each review/sentence \n",
    "    sent_vec = np.zeros(50) # as word vectors are of zero length\n",
    "    weight_sum =0; # num of words with a valid vector in the sentence/review\n",
    "    for word in sent: # for each word in a review/sentence\n",
    "        if word in w2v_words and word in tfidf_feat:\n",
    "            vec = w2v_model.wv[word]\n",
    "#             tf_idf = tf_idf_matrix[row, tfidf_feat.index(word)]\n",
    "            # to reduce the computation we are \n",
    "            # dictionary[word] = idf value of word in whole courpus\n",
    "            # sent.count(word) = tf valeus of word in this review\n",
    "            tf_idf = dictionary[word]*(sent.count(word)/len(sent))\n",
    "            sent_vec += (vec * tf_idf)\n",
    "            weight_sum += tf_idf\n",
    "    if weight_sum != 0:\n",
    "        sent_vec /= weight_sum\n",
    "    tfidf_sent_vectors_test.append(sent_vec)\n",
    "    \n",
    "    row += 1"
   ]
  },
  {
   "cell_type": "markdown",
   "metadata": {},
   "source": [
    "### [5.1.4]  Applying Linear SVM on TFIDF W2V,<font color='red'> SET 4</font>"
   ]
  },
  {
   "cell_type": "code",
   "execution_count": 97,
   "metadata": {
    "ExecuteTime": {
     "end_time": "2019-04-15T09:22:01.700915Z",
     "start_time": "2019-04-15T09:21:38.500673Z"
    },
    "colab": {
     "base_uri": "https://localhost:8080/",
     "height": 604
    },
    "colab_type": "code",
    "id": "szJifPdifDyJ",
    "outputId": "152cf055-e4de-4aab-859c-fbdc76455fdc"
   },
   "outputs": [
    {
     "name": "stdout",
     "output_type": "stream",
     "text": [
      "+---------------+--------------+------------------------------------+\n",
      "| Mean CV Score | Std CV Score |               Param                |\n",
      "+---------------+--------------+------------------------------------+\n",
      "|     0.856     |    0.027     | {'alpha': 0.0001, 'penalty': 'l1'} |\n",
      "|     0.858     |   0.02295    | {'alpha': 0.0001, 'penalty': 'l2'} |\n",
      "|     0.877     |   0.01896    | {'alpha': 0.001, 'penalty': 'l1'}  |\n",
      "|     0.876     |   0.02032    | {'alpha': 0.001, 'penalty': 'l2'}  |\n",
      "|     0.819     |   0.04099    |  {'alpha': 0.01, 'penalty': 'l1'}  |\n",
      "|     0.877     |   0.02028    |  {'alpha': 0.01, 'penalty': 'l2'}  |\n",
      "|      0.5      |     0.0      |  {'alpha': 0.1, 'penalty': 'l1'}   |\n",
      "|     0.876     |    0.0207    |  {'alpha': 0.1, 'penalty': 'l2'}   |\n",
      "|      0.5      |     0.0      |   {'alpha': 1, 'penalty': 'l1'}    |\n",
      "|     0.876     |   0.02009    |   {'alpha': 1, 'penalty': 'l2'}    |\n",
      "|      0.5      |     0.0      |   {'alpha': 10, 'penalty': 'l1'}   |\n",
      "|     0.756     |   0.14144    |   {'alpha': 10, 'penalty': 'l2'}   |\n",
      "|      0.5      |     0.0      |  {'alpha': 100, 'penalty': 'l1'}   |\n",
      "|     0.622     |    0.0264    |  {'alpha': 100, 'penalty': 'l2'}   |\n",
      "|      0.5      |     0.0      |  {'alpha': 1000, 'penalty': 'l1'}  |\n",
      "|     0.622     |    0.0264    |  {'alpha': 1000, 'penalty': 'l2'}  |\n",
      "|      0.5      |     0.0      | {'alpha': 10000, 'penalty': 'l1'}  |\n",
      "|     0.622     |    0.0264    | {'alpha': 10000, 'penalty': 'l2'}  |\n",
      "+---------------+--------------+------------------------------------+\n",
      "\n",
      "The best estimator:SGDClassifier(alpha=0.01, average=False, class_weight=None,\n",
      "       early_stopping=False, epsilon=0.1, eta0=0.0, fit_intercept=True,\n",
      "       l1_ratio=0.15, learning_rate='optimal', loss='hinge', max_iter=None,\n",
      "       n_iter=None, n_iter_no_change=5, n_jobs=None, penalty='l2',\n",
      "       power_t=0.5, random_state=None, shuffle=True, tol=None,\n",
      "       validation_fraction=0.1, verbose=0, warm_start=False)\n",
      "\n",
      "The best score is:0.8766964093747083\n",
      "The best value of C is:{'alpha': 0.01, 'penalty': 'l2'}\n",
      "Mean Score: 0.8748275435502894\n"
     ]
    },
    {
     "data": {
      "image/png": "[encoded data removed]",
      "text/plain": [
       "<Figure size 432x288 with 1 Axes>"
      ]
     },
     "metadata": {
      "needs_background": "light"
     },
     "output_type": "display_data"
    }
   ],
   "source": [
    "get_best_hyperparameter_alpha(model, tfidf_sent_vectors_train, tfidf_sent_vectors_test, y_train, y_test)"
   ]
  },
  {
   "cell_type": "code",
   "execution_count": 111,
   "metadata": {
    "ExecuteTime": {
     "end_time": "2019-04-15T10:06:36.199950Z",
     "start_time": "2019-04-15T10:06:36.060576Z"
    },
    "colab": {},
    "colab_type": "code",
    "id": "oJOC8sgNfDyK"
   },
   "outputs": [],
   "source": [
    "# Fitting the TFIDF - weighted W2V vectorizer on LogisticRegression Model \n",
    "model_tfidfw2v_sgd = SGDClassifier(alpha= 0.01 ,penalty = 'l2')\n",
    "model_tfidfw2v_sgd.fit(tfidf_sent_vectors_train,y_train)\n",
    "y_pred = model_tfidfw2v_sgd.predict(tfidf_sent_vectors_test)"
   ]
  },
  {
   "cell_type": "code",
   "execution_count": 112,
   "metadata": {
    "ExecuteTime": {
     "end_time": "2019-04-15T10:08:32.937844Z",
     "start_time": "2019-04-15T10:08:32.241425Z"
    },
    "colab": {
     "base_uri": "https://localhost:8080/",
     "height": 328
    },
    "colab_type": "code",
    "id": "mcbIifuCfDyM",
    "outputId": "95386ed9-9d40-4b7e-9eae-a9285940de1d"
   },
   "outputs": [
    {
     "data": {
      "image/png": "[encoded data removed]",
      "text/plain": [
       "<Figure size 432x288 with 1 Axes>"
      ]
     },
     "metadata": {
      "needs_background": "light"
     },
     "output_type": "display_data"
    },
    {
     "name": "stdout",
     "output_type": "stream",
     "text": [
      "train AUC: 0.8784768314946081\n",
      "test AUC: 0.8740695670883443\n"
     ]
    }
   ],
   "source": [
    "# AUC- ROC plot\n",
    "auc_train_tfidfw2v_sgd, auc_test_tfidfw2v_sgd = plot_auc_sgd(model_tfidfw2v_sgd, tfidf_sent_vectors_train, tfidf_sent_vectors_test)"
   ]
  },
  {
   "cell_type": "code",
   "execution_count": 113,
   "metadata": {
    "ExecuteTime": {
     "end_time": "2019-04-15T10:10:26.722173Z",
     "start_time": "2019-04-15T10:10:26.567752Z"
    },
    "colab": {
     "base_uri": "https://localhost:8080/",
     "height": 136
    },
    "colab_type": "code",
    "id": "ar67oz4sfDyP",
    "outputId": "4274d1cc-f030-40f0-8229-135c8a553e1c"
   },
   "outputs": [
    {
     "name": "stdout",
     "output_type": "stream",
     "text": [
      "*****Train confusion matrix*****\n",
      "[[ 1240  8384]\n",
      " [  292 51525]]\n",
      "\n",
      "*****Test confusion matrix*****\n",
      "[[  620  3937]\n",
      " [  123 21652]]\n"
     ]
    }
   ],
   "source": [
    "# Confusion Matrix\n",
    "print_confusion_matrix(model_tfidfw2v_sgd, tfidf_sent_vectors_train, tfidf_sent_vectors_test)"
   ]
  },
  {
   "cell_type": "code",
   "execution_count": 114,
   "metadata": {
    "ExecuteTime": {
     "end_time": "2019-04-15T10:12:23.980359Z",
     "start_time": "2019-04-15T10:12:23.646456Z"
    },
    "colab": {
     "base_uri": "https://localhost:8080/",
     "height": 297
    },
    "colab_type": "code",
    "id": "wmxbXKRtfDyR",
    "outputId": "6db5d35b-c13a-424a-c278-123ee31feddf"
   },
   "outputs": [
    {
     "data": {
      "text/plain": [
       "<Figure size 432x288 with 0 Axes>"
      ]
     },
     "metadata": {},
     "output_type": "display_data"
    },
    {
     "data": {
      "image/png": "[encoded data removed]",
      "text/plain": [
       "<Figure size 1080x288 with 4 Axes>"
      ]
     },
     "metadata": {
      "needs_background": "light"
     },
     "output_type": "display_data"
    }
   ],
   "source": [
    "# Heatmap Confusion Matrix\n",
    "plt.figure(1)\n",
    "plt.figure(figsize=(15, 4))\n",
    "\n",
    "\n",
    "plt.subplot(121)  # Test confusion matrix\n",
    "cnf_matrix = confusion_matrix(y_test, model_tfidfw2v_sgd.predict(tfidf_sent_vectors_test))\n",
    "np.set_printoptions(precision=2)\n",
    "class_names = ['Negative', 'Positive']\n",
    "# Plot non-normalized confusion matrix\n",
    "#plt.figure()\n",
    "plot_confusion_matrix_heatmap(cnf_matrix, classes=class_names, title='Test Set Confusion Matrix');\n",
    "\n",
    "plt.subplot(122) # Train Confusion matrix\n",
    "cnf_matrix = confusion_matrix(y_train, model_tfidfw2v_sgd.predict(tfidf_sent_vectors_train))\n",
    "np.set_printoptions(precision=2)\n",
    "class_names = ['Negative', 'Positive']\n",
    "# Plot non-normalized confusion matrix\n",
    "#plt.figure()\n",
    "plot_confusion_matrix_heatmap(cnf_matrix, classes=class_names, title='Train Set Confusion Matrix');"
   ]
  },
  {
   "cell_type": "markdown",
   "metadata": {
    "colab_type": "text",
    "id": "N_b1V-DspKGG"
   },
   "source": [
    "**Observation**\n",
    "1. For the BoW vectorizer, we calculated C = 0.01 using GridSearchCV with cv = 5 and with penalty l2. \n",
    "2. We got train AUC: 0.8784768314946081 and test AUC: 0.8740695670883443\n",
    "3. Using the confusion matrix, we can say that our model correctly predicted 21652 positive reviews and 620 negative reviews.\n",
    "4. The model incorrectly classified 123 negative reviews and 3937 positive reviews."
   ]
  },
  {
   "cell_type": "code",
   "execution_count": 121,
   "metadata": {
    "ExecuteTime": {
     "end_time": "2019-04-15T10:37:46.396699Z",
     "start_time": "2019-04-15T10:37:46.393692Z"
    }
   },
   "outputs": [],
   "source": [
    "#del final\n",
    "\n",
    "#del X, y, X_train_tfidf, X_test, y_train, y_test, X_train_bow, X_test_bow,X_train_bow_fe, X_test_bow_fe\n",
    "#del w2v_words, tfidf_feat, tfidf_sent_vectors_test, tfidf_sent_vectors_train, sent_vectors_test, sent_vectors_train, sent_vec"
   ]
  },
  {
   "cell_type": "markdown",
   "metadata": {},
   "source": [
    "## RBF SVM"
   ]
  },
  {
   "cell_type": "code",
   "execution_count": 2,
   "metadata": {
    "ExecuteTime": {
     "end_time": "2019-04-15T03:45:29.643909Z",
     "start_time": "2019-04-15T03:45:29.548769Z"
    }
   },
   "outputs": [],
   "source": [
    "final = pickle.load(open('preprocessed_final_rbf_kernel', 'rb'))"
   ]
  },
  {
   "cell_type": "code",
   "execution_count": 3,
   "metadata": {
    "ExecuteTime": {
     "end_time": "2019-04-15T03:45:31.462944Z",
     "start_time": "2019-04-15T03:45:31.453841Z"
    }
   },
   "outputs": [],
   "source": [
    "def get_best_hyperparameter_alpha_rbf(vectorizer, X_train, X_test, y_train, y_test):\n",
    "  \n",
    "    \"\"\"\n",
    "    This funtion takes in the vectorizer,  and performs LogissticRegression hyperparameter tuning using GridSearchCV with 5 fold cv \n",
    "    Returns the value of hyperparameter C and draws the error plot for various values of C\n",
    "  \n",
    "    Usage: get_best_hyperparameter_C(vectorizer, X_train, X_test, y_train, y_test, penalty)\n",
    "    \"\"\"\n",
    "    tuned_parameters = [{'C': [10**-4, 10**-3,10**-2,10**-1, 10**0,10**1, 10**2,10**3, 10**4]}]\n",
    "    alpha = [10**-4, 10**-3,10**-2,10**-1, 10**0,10**1, 10**2,10**3, 10**4]  #k\n",
    "    \n",
    "    #tuned_parameters = [{'C': [10**-4, 10**-3,10**-2]}]\n",
    "    #alpha = [10**-4, 10**-3,10**-2]\n",
    "\n",
    "    # Using GridSearchCVSearchCV with 5 fold cv\n",
    "    gs_obj = GridSearchCV(SVC(kernel='rbf'), tuned_parameters, scoring = 'roc_auc', cv=3)\n",
    "\n",
    "    gs_obj.fit(X_train, y_train)\n",
    "\n",
    "\n",
    "    train_auc= gs_obj.cv_results_['mean_train_score']\n",
    "    train_auc_std= gs_obj.cv_results_['std_train_score']\n",
    "    cv_auc = gs_obj.cv_results_['mean_test_score'] \n",
    "    cv_auc_std= gs_obj.cv_results_['std_test_score']\n",
    "\n",
    "  \n",
    "    # draws the error plot\n",
    "  \n",
    "    plt.plot(alpha, train_auc, label='Train AUC')\n",
    "    # this code is copied from here: https://stackoverflow.com/a/48803361/4084039\n",
    "    plt.gca().fill_between(alpha,train_auc - train_auc_std,train_auc + train_auc_std,alpha=0.2,color='darkblue')\n",
    "\n",
    "    plt.plot(alpha, cv_auc, label='CV AUC')\n",
    "    # this code is copied from here: https://stackoverflow.com/a/48803361/4084039 \n",
    "    plt.gca().fill_between(alpha,cv_auc - cv_auc_std,cv_auc + cv_auc_std,alpha=0.2,color='darkorange')\n",
    "    plt.legend()\n",
    "    plt.xlabel(\"log(C)- hyperparamter\")\n",
    "    plt.xscale('log')\n",
    "    plt.ylabel(\"AUC\")\n",
    "    plt.title(\"ERROR PLOT\")\n",
    "    plt.show()\n",
    "  \n",
    "  \n",
    "    # Results of the gs object\n",
    "  \n",
    "  \n",
    "    # Code https://stackoverflow.com/questions/42793254/what-replaces-gridsearchcv-grid-scores-in-scikit#answer-42800056\n",
    "    means = gs_obj.cv_results_['mean_test_score']\n",
    "    stds = gs_obj.cv_results_['std_test_score']\n",
    "\n",
    "\n",
    "    t1 = PrettyTable()\n",
    "    t1.field_names = ['Mean CV Score', 'Std CV Score', 'Param']\n",
    "\n",
    "    for mean, std, params in zip(means, stds, gs_obj.cv_results_['params']):\n",
    "        t1.add_row([round(mean, 3), round(std * 2,5), params])\n",
    "\n",
    "    print(t1) \n",
    "  \n",
    "    print(\"\\nThe best estimator:{}\".format(gs_obj.best_estimator_))\n",
    "    print(\"\\nThe best score is:{}\".format(gs_obj.best_score_))\n",
    "    print(\"The best value of C is:{}\".format(gs_obj.best_params_))\n",
    "\n",
    "    # Returns the mean accuracy on the given test data and labels.\n",
    "    print(\"Mean Score: {}\".format(gs_obj.score(X_test, y_test)))\n",
    "    \n",
    "    \n",
    "    return gs_obj.best_params_\n",
    "    "
   ]
  },
  {
   "cell_type": "code",
   "execution_count": 4,
   "metadata": {
    "ExecuteTime": {
     "end_time": "2019-04-15T03:45:33.702918Z",
     "start_time": "2019-04-15T03:45:33.696851Z"
    }
   },
   "outputs": [],
   "source": [
    "def plot_auc_rbf(model, X_train, X_test):\n",
    "    \n",
    "    \"\"\"\n",
    "    This function will plot the AUC for the vectorized train and test data.\n",
    "    Returns the plot and also the values of auc for train and test\n",
    "    \n",
    "    Usage: auc_train, auc_test = plot_auc(model, X_train, X_test)\n",
    "    \"\"\"\n",
    "    train_fpr, train_tpr, thresholds = roc_curve(y_train, model.predict_proba(X_train)[:,1])\n",
    "    test_fpr, test_tpr, thresholds = roc_curve(y_test, model.predict_proba(X_test)[:,1])\n",
    "\n",
    "    plt.plot([0,1],[0,1],'k--')\n",
    "    plt.plot(train_fpr, train_tpr, label=\"train AUC =\"+str(auc(train_fpr, train_tpr)))\n",
    "    plt.plot(test_fpr, test_tpr, label=\"test AUC =\"+str(auc(test_fpr, test_tpr)))\n",
    "    plt.legend()\n",
    "    plt.xlabel(\"fpr\")\n",
    "    plt.ylabel(\"tpr\")\n",
    "    plt.title(\"ROC Curve\")\n",
    "    plt.show()\n",
    "    \n",
    "    print(\"train AUC: {}\".format(auc(train_fpr, train_tpr)))\n",
    "    print(\"test AUC: {}\".format(auc(test_fpr, test_tpr)))\n",
    "    \n",
    "    \n",
    "    return auc(train_fpr, train_tpr), auc(test_fpr, test_tpr)\n",
    "    "
   ]
  },
  {
   "cell_type": "markdown",
   "metadata": {},
   "source": [
    "**Print Confusion Matrix**"
   ]
  },
  {
   "cell_type": "code",
   "execution_count": 5,
   "metadata": {
    "ExecuteTime": {
     "end_time": "2019-04-15T03:45:35.025346Z",
     "start_time": "2019-04-15T03:45:35.020289Z"
    }
   },
   "outputs": [],
   "source": [
    "def print_confusion_matrix(model, X_train, X_test):\n",
    "    \"\"\"\n",
    "    Takes in the model, X_train, X_test and prints the confusion matrix\n",
    "    Usage: print_confusion_matrix(model, X_train, X_test)\n",
    "    \"\"\"\n",
    "    print(\"*****Train confusion matrix*****\")\n",
    "    print(confusion_matrix(y_train, model.predict(X_train)))\n",
    "    print(\"\\n*****Test confusion matrix*****\")\n",
    "    print(confusion_matrix(y_test, model.predict(X_test)))"
   ]
  },
  {
   "cell_type": "code",
   "execution_count": 6,
   "metadata": {
    "ExecuteTime": {
     "end_time": "2019-04-15T03:45:36.321406Z",
     "start_time": "2019-04-15T03:45:36.318374Z"
    }
   },
   "outputs": [],
   "source": [
    "# Create X and Y variable \n",
    "X = final['CleanedText'].values\n",
    "y= final['Score'].values"
   ]
  },
  {
   "cell_type": "code",
   "execution_count": 7,
   "metadata": {
    "ExecuteTime": {
     "end_time": "2019-04-15T03:45:37.616543Z",
     "start_time": "2019-04-15T03:45:37.609970Z"
    }
   },
   "outputs": [],
   "source": [
    "from sklearn.model_selection import train_test_split\n",
    "\n",
    "# Splitting into train and test in the ratio 70:30\n",
    "X_train, X_test, y_train, y_test = train_test_split(X, y, test_size=0.30,shuffle=False, random_state=507)\n",
    "#X_train, X_cv, y_train, y_cv = train_test_split(X_train, y_train, test_size=0.30, shuffle=False, random_state=507)"
   ]
  },
  {
   "cell_type": "markdown",
   "metadata": {},
   "source": [
    "### [5.2.1] Applying RBF SVM on BOW,<font color='red'> SET 1</font>"
   ]
  },
  {
   "cell_type": "markdown",
   "metadata": {},
   "source": [
    "**Bag Of Words**"
   ]
  },
  {
   "cell_type": "code",
   "execution_count": 9,
   "metadata": {
    "ExecuteTime": {
     "end_time": "2019-04-15T03:45:59.716884Z",
     "start_time": "2019-04-15T03:45:54.307734Z"
    },
    "_uuid": "19133a925d5ceefbf872451b8c59308ceab59650",
    "colab": {
     "base_uri": "https://localhost:8080/",
     "height": 85
    },
    "colab_type": "code",
    "id": "yMDplkeN1KsE",
    "outputId": "266068bb-2e9e-4d7c-db0b-813df6b2917e",
    "scrolled": true
   },
   "outputs": [
    {
     "name": "stdout",
     "output_type": "stream",
     "text": [
      "After vectorizations\n",
      "(26190, 500) (26190,)\n",
      "(11225, 500) (11225,)\n",
      "====================================================================================================\n"
     ]
    }
   ],
   "source": [
    "# ss\n",
    "from sklearn.feature_extraction.text import CountVectorizer\n",
    "bow_vectorizer_rbf= CountVectorizer(ngram_range=(1,2), min_df=10, max_features=500)\n",
    "bow_vectorizer_rbf.fit(X_train) # fit has to happen only on train data\n",
    "\n",
    "# we use the fitted CountVectorizer to convert the text to vector\n",
    "X_train_bow = bow_vectorizer_rbf.transform(X_train)\n",
    "#X_cv_bow = vectorizer.transform(X_cv)\n",
    "X_test_bow = bow_vectorizer_rbf.transform(X_test)\n",
    "\n",
    "print(\"After vectorizations\")\n",
    "print(X_train_bow.shape, y_train.shape)\n",
    "#print(X_cv_bow.shape, y_cv.shape)\n",
    "print(X_test_bow.shape, y_test.shape)\n",
    "print(\"=\"*100)"
   ]
  },
  {
   "cell_type": "code",
   "execution_count": 10,
   "metadata": {
    "ExecuteTime": {
     "end_time": "2019-04-15T03:45:59.883255Z",
     "start_time": "2019-04-15T03:45:59.870107Z"
    }
   },
   "outputs": [
    {
     "name": "stdout",
     "output_type": "stream",
     "text": [
      "the type of count vectorizer  <class 'scipy.sparse.csr.csr_matrix'>\n",
      "the shape of cut text BOW vectorizer  (26190, 500)\n",
      "the number of unique words:  500\n"
     ]
    }
   ],
   "source": [
    "print(\"the type of count vectorizer \",type(X_train_bow))\n",
    "print(\"the shape of cut text BOW vectorizer \",X_train_bow.get_shape())\n",
    "print(\"the number of unique words: \", X_train_bow.get_shape()[1])"
   ]
  },
  {
   "cell_type": "markdown",
   "metadata": {
    "colab_type": "text",
    "id": "IVFq9Jr81Ksa"
   },
   "source": [
    "**Standardize the data**"
   ]
  },
  {
   "cell_type": "code",
   "execution_count": 11,
   "metadata": {
    "ExecuteTime": {
     "end_time": "2019-04-15T03:46:14.775067Z",
     "start_time": "2019-04-15T03:46:14.727530Z"
    },
    "colab": {
     "base_uri": "https://localhost:8080/",
     "height": 51
    },
    "colab_type": "code",
    "id": "CFKUKALv1Ksc",
    "outputId": "763dcd77-1ded-443a-9ef9-bd0f834fb3ee"
   },
   "outputs": [
    {
     "name": "stderr",
     "output_type": "stream",
     "text": [
      "C:\\Users\\Nit-prj1010\\AppData\\Local\\Continuum\\anaconda3\\lib\\site-packages\\sklearn\\utils\\validation.py:595: DataConversionWarning: Data with input dtype int64 was converted to float64 by StandardScaler.\n",
      "  warnings.warn(msg, DataConversionWarning)\n",
      "C:\\Users\\Nit-prj1010\\AppData\\Local\\Continuum\\anaconda3\\lib\\site-packages\\sklearn\\utils\\validation.py:595: DataConversionWarning: Data with input dtype int64 was converted to float64 by StandardScaler.\n",
      "  warnings.warn(msg, DataConversionWarning)\n",
      "C:\\Users\\Nit-prj1010\\AppData\\Local\\Continuum\\anaconda3\\lib\\site-packages\\sklearn\\utils\\validation.py:595: DataConversionWarning: Data with input dtype int64 was converted to float64 by StandardScaler.\n",
      "  warnings.warn(msg, DataConversionWarning)\n",
      "C:\\Users\\Nit-prj1010\\AppData\\Local\\Continuum\\anaconda3\\lib\\site-packages\\sklearn\\utils\\validation.py:595: DataConversionWarning: Data with input dtype int64 was converted to float64 by StandardScaler.\n",
      "  warnings.warn(msg, DataConversionWarning)\n"
     ]
    },
    {
     "name": "stdout",
     "output_type": "stream",
     "text": [
      "(26190, 500) (26190,)\n",
      "(11225, 500) (11225,)\n"
     ]
    }
   ],
   "source": [
    "# We will set the attribute with_mean = False, as StandardScaler does not work on sparse matrix\n",
    "# when attempted on sparse matrices, because centering them entails building a dense matrix which in common use cases\n",
    "# is likely to be too large to fit in memory.  ---> sklearn documentation\n",
    "\n",
    "from sklearn.preprocessing import StandardScaler\n",
    "X_train_bow=StandardScaler(with_mean=False).fit_transform(X_train_bow)\n",
    "X_test_bow=StandardScaler(with_mean=False).fit_transform(X_test_bow)\n",
    "\n",
    "print(X_train_bow.shape, y_train.shape) \n",
    "\n",
    "print(X_test_bow.shape, y_test.shape) "
   ]
  },
  {
   "cell_type": "code",
   "execution_count": 12,
   "metadata": {
    "ExecuteTime": {
     "end_time": "2019-04-15T04:33:08.934098Z",
     "start_time": "2019-04-15T03:46:20.860153Z"
    }
   },
   "outputs": [
    {
     "data": {
      "image/png": "[encoded data removed]",
      "text/plain": [
       "<Figure size 432x288 with 1 Axes>"
      ]
     },
     "metadata": {
      "needs_background": "light"
     },
     "output_type": "display_data"
    },
    {
     "name": "stdout",
     "output_type": "stream",
     "text": [
      "+---------------+--------------+---------------+\n",
      "| Mean CV Score | Std CV Score |     Param     |\n",
      "+---------------+--------------+---------------+\n",
      "|     0.812     |   0.02647    | {'C': 0.0001} |\n",
      "|     0.879     |   0.02059    |  {'C': 0.001} |\n",
      "|     0.882     |   0.01969    |  {'C': 0.01}  |\n",
      "|     0.882     |   0.01978    |   {'C': 0.1}  |\n",
      "|     0.886     |   0.01775    |    {'C': 1}   |\n",
      "|     0.884     |    0.0203    |   {'C': 10}   |\n",
      "|     0.867     |   0.02432    |   {'C': 100}  |\n",
      "|     0.854     |   0.01855    |  {'C': 1000}  |\n",
      "|     0.838     |   0.02302    |  {'C': 10000} |\n",
      "+---------------+--------------+---------------+\n",
      "\n",
      "The best estimator:SVC(C=1, cache_size=200, class_weight=None, coef0=0.0,\n",
      "  decision_function_shape='ovr', degree=3, gamma='auto_deprecated',\n",
      "  kernel='rbf', max_iter=-1, probability=False, random_state=None,\n",
      "  shrinking=True, tol=0.001, verbose=False)\n",
      "\n",
      "The best score is:0.8855856974636146\n",
      "The best value of C is:{'C': 1}\n",
      "Mean Score: 0.9036181817268996\n"
     ]
    },
    {
     "data": {
      "text/plain": [
       "{'C': 1}"
      ]
     },
     "execution_count": 12,
     "metadata": {},
     "output_type": "execute_result"
    }
   ],
   "source": [
    "get_best_hyperparameter_alpha_rbf(bow_vectorizer_rbf, X_train_bow,X_test_bow, y_train, y_test)"
   ]
  },
  {
   "cell_type": "code",
   "execution_count": 31,
   "metadata": {
    "ExecuteTime": {
     "end_time": "2019-04-15T06:43:28.966747Z",
     "start_time": "2019-04-15T06:33:13.691165Z"
    }
   },
   "outputs": [],
   "source": [
    "#SVC(kernel='rbf')\n",
    "model_bow_rbf = SVC(kernel='rbf', C= 1, probability=True)\n",
    "model_bow_rbf.fit(X_train_bow,y_train)\n",
    "y_pred = model_bow_rbf.predict(X_test_bow)"
   ]
  },
  {
   "cell_type": "code",
   "execution_count": 32,
   "metadata": {
    "ExecuteTime": {
     "end_time": "2019-04-15T06:45:33.336355Z",
     "start_time": "2019-04-15T06:44:19.513721Z"
    }
   },
   "outputs": [
    {
     "data": {
      "image/png": "[encoded data removed]",
      "text/plain": [
       "<Figure size 432x288 with 1 Axes>"
      ]
     },
     "metadata": {
      "needs_background": "light"
     },
     "output_type": "display_data"
    },
    {
     "name": "stdout",
     "output_type": "stream",
     "text": [
      "train AUC: 0.9665197249066753\n",
      "test AUC: 0.9036183953666663\n"
     ]
    }
   ],
   "source": [
    "#train_auc, test_auc = plot_auc_rbf(bow_vectorizer_rbf, X_train_bow, X_test_bow)\n",
    "auc_train_bow_rbf, auc_test_bow_rbf = plot_auc_rbf(model_bow_rbf, X_train_bow, X_test_bow)"
   ]
  },
  {
   "cell_type": "code",
   "execution_count": 33,
   "metadata": {
    "ExecuteTime": {
     "end_time": "2019-04-15T06:47:41.108734Z",
     "start_time": "2019-04-15T06:46:26.110453Z"
    }
   },
   "outputs": [
    {
     "name": "stdout",
     "output_type": "stream",
     "text": [
      "*****Train confusion matrix*****\n",
      "[[ 2709  1344]\n",
      " [  109 22028]]\n",
      "\n",
      "*****Test confusion matrix*****\n",
      "[[ 742 1296]\n",
      " [ 142 9045]]\n"
     ]
    }
   ],
   "source": [
    "print_confusion_matrix(model_bow_rbf, X_train_bow, X_test_bow)"
   ]
  },
  {
   "cell_type": "code",
   "execution_count": 42,
   "metadata": {
    "ExecuteTime": {
     "end_time": "2019-04-15T07:00:05.795656Z",
     "start_time": "2019-04-15T06:58:48.343547Z"
    }
   },
   "outputs": [
    {
     "data": {
      "text/plain": [
       "<Figure size 432x288 with 0 Axes>"
      ]
     },
     "metadata": {},
     "output_type": "display_data"
    },
    {
     "data": {
      "image/png": "[encoded data removed]",
      "text/plain": [
       "<Figure size 1080x288 with 3 Axes>"
      ]
     },
     "metadata": {
      "needs_background": "light"
     },
     "output_type": "display_data"
    }
   ],
   "source": [
    "plt.figure(1)\n",
    "plt.figure(figsize=(15, 4))\n",
    "\n",
    "\n",
    "plt.subplot(121)  # Test confusion matrix\n",
    "cnf_matrix = confusion_matrix(y_test, model_bow_rbf.predict(X_test_bow))\n",
    "np.set_printoptions(precision=2)\n",
    "class_names = ['Negative', 'Positive']\n",
    "# Plot non-normalized confusion matrix\n",
    "#plt.figure()\n",
    "plot_confusion_matrix_heatmap(cnf_matrix, classes=class_names, title='Test Set Confusion Matrix');\n",
    "\n",
    "plt.subplot(122) # Train Confusion matrix\n",
    "cnf_matrix = confusion_matrix(y_train, model_bow_rbf.predict(X_train_bow))\n",
    "np.set_printoptions(precision=2)\n",
    "class_names = ['Negative', 'Positive']\n",
    "# Plot non-normalized confusion matrix\n",
    "#plt.figure()\n",
    "plot_confusion_matrix_heatmap(cnf_matrix, classes=class_names, title='Train Set Confusion Matrix');\n"
   ]
  },
  {
   "cell_type": "markdown",
   "metadata": {},
   "source": [
    "**Observation**\n",
    "1. For the BoW vectorizer, we used SVC classifier with RBF kernel and C = 1\n",
    "2. We got train AUC: 0.9665197249066753 and test AUC: 0.9036183953666663\n",
    "3. Using the confusion matrix, we can say that our model correctly predicted 9045 positive reviews and 742 negative reviews.\n",
    "4. The model incorrectly classified 142 negative reviews and 1296 positive reviews."
   ]
  },
  {
   "cell_type": "markdown",
   "metadata": {},
   "source": [
    "### [5.2.2] Applying RBF SVM on TFIDF,<font color='red'> SET 2</font>"
   ]
  },
  {
   "cell_type": "markdown",
   "metadata": {},
   "source": [
    "**TF-IDF**\n"
   ]
  },
  {
   "cell_type": "code",
   "execution_count": 13,
   "metadata": {
    "ExecuteTime": {
     "end_time": "2019-04-15T04:33:14.783723Z",
     "start_time": "2019-04-15T04:33:09.079553Z"
    }
   },
   "outputs": [
    {
     "name": "stdout",
     "output_type": "stream",
     "text": [
      "After vectorizations\n",
      "(26190, 15875) (26190,)\n",
      "(11225, 15875) (11225,)\n",
      "====================================================================================================\n"
     ]
    }
   ],
   "source": [
    "# ss\n",
    "from sklearn.feature_extraction.text import TfidfVectorizer\n",
    "tf_idf_vect = TfidfVectorizer(ngram_range=(1,2), min_df=10)\n",
    "tf_idf_vect.fit(X_train) # fit has to happen only on train data\n",
    "\n",
    "# we use the fitted CountVectorizer to convert the text to vector\n",
    "X_train_tfidf = tf_idf_vect.transform(X_train)\n",
    "#X_cv_tfidf = tf_idf_vect.transform(X_cv)\n",
    "X_test_tfidf = tf_idf_vect.transform(X_test)\n",
    "\n",
    "print(\"After vectorizations\")\n",
    "print(X_train_tfidf.shape, y_train.shape)\n",
    "#print(X_cv_tfidf.shape, y_cv.shape)\n",
    "print(X_test_tfidf.shape, y_test.shape)\n",
    "print(\"=\"*100)"
   ]
  },
  {
   "cell_type": "code",
   "execution_count": 14,
   "metadata": {
    "ExecuteTime": {
     "end_time": "2019-04-15T04:33:14.988985Z",
     "start_time": "2019-04-15T04:33:14.978959Z"
    }
   },
   "outputs": [
    {
     "name": "stdout",
     "output_type": "stream",
     "text": [
      "the type of count vectorizer  <class 'scipy.sparse.csr.csr_matrix'>\n",
      "the shape of cut text TFIDF vectorizer  (26190, 15875)\n",
      "the number of unique words:  15875\n"
     ]
    }
   ],
   "source": [
    "print(\"the type of count vectorizer \",type(X_train_tfidf))\n",
    "print(\"the shape of cut text TFIDF vectorizer \",X_train_tfidf.get_shape())\n",
    "print(\"the number of unique words: \", X_train_tfidf.get_shape()[1])"
   ]
  },
  {
   "cell_type": "code",
   "execution_count": 15,
   "metadata": {
    "ExecuteTime": {
     "end_time": "2019-04-15T05:15:33.158612Z",
     "start_time": "2019-04-15T04:33:15.173160Z"
    }
   },
   "outputs": [
    {
     "data": {
      "image/png": "[encoded data removed]",
      "text/plain": [
       "<Figure size 432x288 with 1 Axes>"
      ]
     },
     "metadata": {
      "needs_background": "light"
     },
     "output_type": "display_data"
    },
    {
     "name": "stdout",
     "output_type": "stream",
     "text": [
      "+---------------+--------------+---------------+\n",
      "| Mean CV Score | Std CV Score |     Param     |\n",
      "+---------------+--------------+---------------+\n",
      "|     0.887     |   0.00168    | {'C': 0.0001} |\n",
      "|     0.887     |   0.00175    |  {'C': 0.001} |\n",
      "|     0.887     |   0.00171    |  {'C': 0.01}  |\n",
      "|     0.887     |   0.00185    |   {'C': 0.1}  |\n",
      "|     0.925     |   0.00794    |    {'C': 1}   |\n",
      "|      0.94     |   0.01257    |   {'C': 10}   |\n",
      "|     0.941     |   0.01291    |   {'C': 100}  |\n",
      "|     0.941     |   0.01278    |  {'C': 1000}  |\n",
      "|     0.943     |    0.0093    |  {'C': 10000} |\n",
      "+---------------+--------------+---------------+\n",
      "\n",
      "The best estimator:SVC(C=10000, cache_size=200, class_weight=None, coef0=0.0,\n",
      "  decision_function_shape='ovr', degree=3, gamma='auto_deprecated',\n",
      "  kernel='rbf', max_iter=-1, probability=False, random_state=None,\n",
      "  shrinking=True, tol=0.001, verbose=False)\n",
      "\n",
      "The best score is:0.9428445170872043\n",
      "The best value of C is:{'C': 10000}\n",
      "Mean Score: 0.9583121251356479\n"
     ]
    },
    {
     "data": {
      "text/plain": [
       "{'C': 10000}"
      ]
     },
     "execution_count": 15,
     "metadata": {},
     "output_type": "execute_result"
    }
   ],
   "source": [
    "get_best_hyperparameter_alpha_rbf(tf_idf_vect, X_train_tfidf, X_test_tfidf, y_train, y_test)"
   ]
  },
  {
   "cell_type": "code",
   "execution_count": 43,
   "metadata": {
    "ExecuteTime": {
     "end_time": "2019-04-15T07:12:37.481524Z",
     "start_time": "2019-04-15T07:00:52.973413Z"
    },
    "colab": {},
    "colab_type": "code",
    "id": "5t8gqUqofDvj",
    "run_control": {
     "marked": false
    }
   },
   "outputs": [],
   "source": [
    "# Fitting the model with the best hyperparameter\n",
    "model_tfidf_rbf = SVC(kernel='rbf', C= 10000, probability=True)\n",
    "model_tfidf_rbf.fit(X_train_tfidf,y_train)\n",
    "y_pred = model_tfidf_rbf.predict(X_test_tfidf)"
   ]
  },
  {
   "cell_type": "code",
   "execution_count": 44,
   "metadata": {
    "ExecuteTime": {
     "end_time": "2019-04-15T07:14:55.188918Z",
     "start_time": "2019-04-15T07:13:24.681282Z"
    },
    "colab": {
     "base_uri": "https://localhost:8080/",
     "height": 328
    },
    "colab_type": "code",
    "id": "F8Nbx73jfDvl",
    "outputId": "449d0a50-a284-41e0-a539-e6349f8dc1d6"
   },
   "outputs": [
    {
     "data": {
      "image/png": "[encoded data removed]",
      "text/plain": [
       "<Figure size 432x288 with 1 Axes>"
      ]
     },
     "metadata": {
      "needs_background": "light"
     },
     "output_type": "display_data"
    },
    {
     "name": "stdout",
     "output_type": "stream",
     "text": [
      "train AUC: 0.9922475342828719\n",
      "test AUC: 0.9583110302318429\n"
     ]
    }
   ],
   "source": [
    "# AUC- ROC plot\n",
    "auc_train_tfidf_rbf, auc_test_tfidf_rbf = plot_auc_rbf(model_tfidf_rbf, X_train_tfidf, X_test_tfidf)"
   ]
  },
  {
   "cell_type": "code",
   "execution_count": 45,
   "metadata": {
    "ExecuteTime": {
     "end_time": "2019-04-15T07:17:12.859198Z",
     "start_time": "2019-04-15T07:15:42.744616Z"
    },
    "colab": {
     "base_uri": "https://localhost:8080/",
     "height": 136
    },
    "colab_type": "code",
    "id": "ViJc1G8PfDvs",
    "outputId": "90232b13-b35b-45a3-95d0-005d10483be2"
   },
   "outputs": [
    {
     "name": "stdout",
     "output_type": "stream",
     "text": [
      "*****Train confusion matrix*****\n",
      "[[ 3425   628]\n",
      " [  129 22008]]\n",
      "\n",
      "*****Test confusion matrix*****\n",
      "[[1373  665]\n",
      " [ 220 8967]]\n"
     ]
    }
   ],
   "source": [
    "# Confusion Matrix\n",
    "print_confusion_matrix(model_tfidf_rbf, X_train_tfidf, X_test_tfidf)"
   ]
  },
  {
   "cell_type": "code",
   "execution_count": 46,
   "metadata": {
    "ExecuteTime": {
     "end_time": "2019-04-15T07:19:31.461294Z",
     "start_time": "2019-04-15T07:18:00.407708Z"
    },
    "colab": {
     "base_uri": "https://localhost:8080/",
     "height": 297
    },
    "colab_type": "code",
    "id": "BuJvZwoPfDvv",
    "outputId": "81e29177-dbfc-4da9-b8b3-111f4b9a6b51",
    "run_control": {
     "marked": false
    }
   },
   "outputs": [
    {
     "data": {
      "text/plain": [
       "<Figure size 432x288 with 0 Axes>"
      ]
     },
     "metadata": {},
     "output_type": "display_data"
    },
    {
     "data": {
      "image/png": "[encoded data removed]",
      "text/plain": [
       "<Figure size 1080x288 with 3 Axes>"
      ]
     },
     "metadata": {
      "needs_background": "light"
     },
     "output_type": "display_data"
    }
   ],
   "source": [
    "# Heatmap Confusion Matrix\n",
    "plt.figure(1)\n",
    "plt.figure(figsize=(15, 4))\n",
    "\n",
    "\n",
    "plt.subplot(121)  # Test confusion matrix\n",
    "cnf_matrix = confusion_matrix(y_test, model_tfidf_rbf.predict(X_test_tfidf))\n",
    "np.set_printoptions(precision=2)\n",
    "class_names = ['Negative', 'Positive']\n",
    "# Plot non-normalized confusion matrix\n",
    "#plt.figure()\n",
    "plot_confusion_matrix_heatmap(cnf_matrix, classes=class_names, title='Test Set Confusion Matrix');\n",
    "\n",
    "plt.subplot(122) # Train Confusion matrix\n",
    "cnf_matrix = confusion_matrix(y_train, model_tfidf_rbf.predict(X_train_tfidf))\n",
    "np.set_printoptions(precision=2)\n",
    "class_names = ['Negative', 'Positive']\n",
    "# Plot non-normalized confusion matrix\n",
    "#plt.figure()\n",
    "plot_confusion_matrix_heatmap(cnf_matrix, classes=class_names, title='Train Set Confusion Matrix');"
   ]
  },
  {
   "cell_type": "markdown",
   "metadata": {},
   "source": [
    "**Observation**\n",
    "1. For the TF-IDF vectorizer, we used SVC classifier with RBF kernel and C = 10000\n",
    "2. We got train AUC: 0.9922475342828719 and test AUC: 0.9583110302318429\n",
    "3. Using the confusion matrix, we can say that our model correctly predicted 8967 positive reviews and 1373 negative reviews.\n",
    "4. The model incorrectly classified 220 negative reviews and 665 positive reviews."
   ]
  },
  {
   "cell_type": "markdown",
   "metadata": {},
   "source": [
    "### [5.2.3]  Applying RBF SVM on AVG W2V,<font color='red'> SET 3</font>"
   ]
  },
  {
   "cell_type": "markdown",
   "metadata": {},
   "source": [
    "**Word2Vec**"
   ]
  },
  {
   "cell_type": "code",
   "execution_count": 16,
   "metadata": {
    "ExecuteTime": {
     "end_time": "2019-04-15T05:15:33.524035Z",
     "start_time": "2019-04-15T05:15:33.394846Z"
    }
   },
   "outputs": [],
   "source": [
    "# Train your own Word2Vec model using your own text corpus \n",
    "i=0\n",
    "list_of_sentance_train=[]\n",
    "for sentance in X_train:\n",
    "    list_of_sentance_train.append(sentance.split())"
   ]
  },
  {
   "cell_type": "code",
   "execution_count": 17,
   "metadata": {
    "ExecuteTime": {
     "end_time": "2019-04-15T05:15:34.126247Z",
     "start_time": "2019-04-15T05:15:34.121235Z"
    }
   },
   "outputs": [
    {
     "name": "stdout",
     "output_type": "stream",
     "text": [
      "['really', 'good', 'idea', 'final', 'product', 'outstanding', 'use', 'decals', 'car', 'window', 'everybody', 'asks', 'bought', 'decals', 'made', 'two', 'thumbs']\n"
     ]
    }
   ],
   "source": [
    "print(list_of_sentance_train[0])"
   ]
  },
  {
   "cell_type": "code",
   "execution_count": 18,
   "metadata": {
    "ExecuteTime": {
     "end_time": "2019-04-15T05:15:38.199405Z",
     "start_time": "2019-04-15T05:15:34.717276Z"
    }
   },
   "outputs": [
    {
     "name": "stdout",
     "output_type": "stream",
     "text": [
      "[('good', 0.82682204246521), ('fantastic', 0.7998963594436646), ('excellent', 0.7925567030906677), ('awesome', 0.7908499240875244), ('perfect', 0.7831145524978638), ('wonderful', 0.7818020582199097), ('decent', 0.7358627319335938), ('terrific', 0.7290688753128052), ('amazing', 0.7286834716796875), ('nice', 0.6692759990692139)]\n",
      "==================================================\n",
      "[('ive', 0.7540286779403687), ('best', 0.7471846342086792), ('closest', 0.7454988956451416), ('greatest', 0.7454084157943726), ('ever', 0.7155381441116333), ('tastiest', 0.714133620262146), ('coolest', 0.7013466358184814), ('eaten', 0.6940063238143921), ('hottest', 0.6812434196472168), ('hated', 0.6699789762496948)]\n"
     ]
    }
   ],
   "source": [
    "is_your_ram_gt_16g=False\n",
    "want_to_use_google_w2v = False\n",
    "want_to_train_w2v = True\n",
    "\n",
    "if want_to_train_w2v:\n",
    "    # min_count = 5 considers only words that occured atleast 5 times\n",
    "    w2v_model=Word2Vec(list_of_sentance_train,min_count=5,size=50, workers=4)\n",
    "    print(w2v_model.wv.most_similar('great'))\n",
    "    print('='*50)\n",
    "    print(w2v_model.wv.most_similar('worst'))\n",
    "    \n",
    "elif want_to_use_google_w2v and is_your_ram_gt_16g:\n",
    "    if os.path.isfile('GoogleNews-vectors-negative300.bin'):\n",
    "        w2v_model=KeyedVectors.load_word2vec_format('GoogleNews-vectors-negative300.bin', binary=True)\n",
    "        print(w2v_model.wv.most_similar('great'))\n",
    "        print(w2v_model.wv.most_similar('worst'))\n",
    "    else:\n",
    "        print(\"you don't have gogole's word2vec file, keep want_to_train_w2v = True, to train your own w2v \")"
   ]
  },
  {
   "cell_type": "code",
   "execution_count": 19,
   "metadata": {
    "ExecuteTime": {
     "end_time": "2019-04-15T05:15:38.796066Z",
     "start_time": "2019-04-15T05:15:38.787499Z"
    }
   },
   "outputs": [
    {
     "name": "stdout",
     "output_type": "stream",
     "text": [
      "number of words that occured minimum 5 times  9806\n",
      "sample words  ['really', 'good', 'idea', 'final', 'product', 'outstanding', 'use', 'car', 'window', 'everybody', 'asks', 'bought', 'made', 'two', 'thumbs', 'received', 'shipment', 'could', 'hardly', 'wait', 'try', 'love', 'call', 'instead', 'stickers', 'removed', 'easily', 'daughter', 'designed', 'signs', 'printed', 'reverse', 'windows', 'beautifully', 'print', 'shop', 'program', 'going', 'lot', 'fun', 'everywhere', 'like', 'tv', 'screens', 'computer', 'stuff', 'sugar', 'free', 'not', 'rot']\n"
     ]
    }
   ],
   "source": [
    "w2v_words = list(w2v_model.wv.vocab)\n",
    "print(\"number of words that occured minimum 5 times \",len(w2v_words))\n",
    "print(\"sample words \", w2v_words[0:50])"
   ]
  },
  {
   "cell_type": "markdown",
   "metadata": {},
   "source": [
    "**Converting train text data**"
   ]
  },
  {
   "cell_type": "code",
   "execution_count": 20,
   "metadata": {
    "ExecuteTime": {
     "end_time": "2019-04-15T05:16:14.041730Z",
     "start_time": "2019-04-15T05:15:39.390552Z"
    }
   },
   "outputs": [
    {
     "name": "stderr",
     "output_type": "stream",
     "text": [
      "100%|███████████████████████████████████████████████████████████████████████████████████████████████████████████████████████████| 26190/26190 [00:34<00:00, 756.52it/s]\n"
     ]
    },
    {
     "name": "stdout",
     "output_type": "stream",
     "text": [
      "(26190, 50)\n",
      "[ 0.35539616  0.67507411  0.19811647 -0.04278817 -0.53013102 -0.74414455\n",
      "  0.16542568 -0.0357427  -0.27203086 -0.29868526  0.18849524 -0.34642185\n",
      "  0.08427245  0.02664626  0.22361641 -0.63246711 -0.1495512  -0.33985679\n",
      "  0.24562876  0.14661298  0.30200606  0.31977542 -0.00309623  0.44167359\n",
      " -0.01330752  0.23788268  0.37888729  0.00837541  0.00578491 -0.13523789\n",
      "  0.22031652  0.36268811  0.20990701 -0.23339066 -0.39685421  0.32776209\n",
      "  0.36016558 -0.13402638 -0.03150598  0.59028035 -0.34930832 -0.16869329\n",
      " -0.26714816 -0.20518988  0.26488453  0.33967903 -0.2333802  -0.01521331\n",
      " -0.13767984  0.48225201]\n"
     ]
    }
   ],
   "source": [
    "# average Word2Vec\n",
    "# compute average word2vec for each review.\n",
    "sent_vectors_train = []; # the avg-w2v for each sentence/review is stored in this list\n",
    "for sent in tqdm(list_of_sentance_train): # for each review/sentence\n",
    "    sent_vec = np.zeros(50) # as word vectors are of zero length 50, you might need to change this to 300 if you use google's w2v\n",
    "    cnt_words =0; # num of words with a valid vector in the sentence/review\n",
    "    for word in sent: # for each word in a review/sentence\n",
    "        if word in w2v_words:\n",
    "            vec = w2v_model.wv[word]\n",
    "            sent_vec += vec\n",
    "            cnt_words += 1\n",
    "    if cnt_words != 0:\n",
    "        sent_vec /= cnt_words\n",
    "    sent_vectors_train.append(sent_vec)\n",
    "sent_vectors_train = np.array(sent_vectors_train)\n",
    "print(sent_vectors_train.shape)\n",
    "print(sent_vectors_train[0])"
   ]
  },
  {
   "cell_type": "markdown",
   "metadata": {},
   "source": [
    "**Converting test text data**"
   ]
  },
  {
   "cell_type": "code",
   "execution_count": 21,
   "metadata": {
    "ExecuteTime": {
     "end_time": "2019-04-15T05:16:14.795858Z",
     "start_time": "2019-04-15T05:16:14.639696Z"
    }
   },
   "outputs": [],
   "source": [
    "i=0\n",
    "list_of_sentance_test=[]\n",
    "for sentance in X_test:\n",
    "    list_of_sentance_test.append(sentance.split())"
   ]
  },
  {
   "cell_type": "code",
   "execution_count": 22,
   "metadata": {
    "ExecuteTime": {
     "end_time": "2019-04-15T05:16:32.057359Z",
     "start_time": "2019-04-15T05:16:15.620802Z"
    }
   },
   "outputs": [
    {
     "name": "stderr",
     "output_type": "stream",
     "text": [
      "100%|███████████████████████████████████████████████████████████████████████████████████████████████████████████████████████████| 11225/11225 [00:16<00:00, 683.93it/s]\n"
     ]
    },
    {
     "name": "stdout",
     "output_type": "stream",
     "text": [
      "(11225, 50)\n",
      "[ 0.39263485  0.19254257  0.28702555 -0.02937888 -0.43477099 -0.62666802\n",
      " -0.13603045 -0.46867406 -0.33439469 -0.62407038  0.19348719 -0.34117029\n",
      "  0.06132343  0.00273981 -0.51565557 -0.27041241  0.00160172 -0.74507409\n",
      " -0.25218976 -0.27199106  0.84837491 -0.15923582 -0.32368128  0.73714789\n",
      " -0.60299446 -0.05784993  0.21502069 -0.06885471  0.13540346 -0.24467511\n",
      " -0.31086478  0.05702842  0.15125647 -0.07592223 -0.68130675  0.20816864\n",
      "  0.61619861 -0.39252162  0.26105632  0.43081189 -0.29694408  0.0063386\n",
      " -0.04687208 -0.16527795  0.52037181  0.05131861 -0.39208821  0.05998498\n",
      " -0.01740427  0.39473478]\n"
     ]
    }
   ],
   "source": [
    "# average Word2Vec\n",
    "# compute average word2vec for each review.\n",
    "sent_vectors_test = []; # the avg-w2v for each sentence/review is stored in this list\n",
    "for sent in tqdm(list_of_sentance_test): # for each review/sentence\n",
    "    sent_vec = np.zeros(50) # as word vectors are of zero length 50, you might need to change this to 300 if you use google's w2v\n",
    "    cnt_words =0; # num of words with a valid vector in the sentence/review\n",
    "    for word in sent: # for each word in a review/sentence\n",
    "        if word in w2v_words:\n",
    "            vec = w2v_model.wv[word]\n",
    "            sent_vec += vec\n",
    "            cnt_words += 1\n",
    "    if cnt_words != 0:\n",
    "        sent_vec /= cnt_words\n",
    "    sent_vectors_test.append(sent_vec)\n",
    "sent_vectors_test = np.array(sent_vectors_test)\n",
    "\n",
    "print(sent_vectors_test.shape)\n",
    "print(sent_vectors_test[0])"
   ]
  },
  {
   "cell_type": "code",
   "execution_count": 52,
   "metadata": {
    "ExecuteTime": {
     "end_time": "2019-04-15T08:21:09.208823Z",
     "start_time": "2019-04-15T07:55:14.567395Z"
    },
    "scrolled": false
   },
   "outputs": [
    {
     "data": {
      "image/png": "[encoded data removed]",
      "text/plain": [
       "<Figure size 432x288 with 1 Axes>"
      ]
     },
     "metadata": {
      "needs_background": "light"
     },
     "output_type": "display_data"
    },
    {
     "name": "stdout",
     "output_type": "stream",
     "text": [
      "+---------------+--------------+---------------+\n",
      "| Mean CV Score | Std CV Score |     Param     |\n",
      "+---------------+--------------+---------------+\n",
      "|     0.871     |   0.00665    | {'C': 0.0001} |\n",
      "|     0.884     |   0.00481    |  {'C': 0.001} |\n",
      "|     0.885     |   0.00469    |  {'C': 0.01}  |\n",
      "|     0.885     |   0.00487    |   {'C': 0.1}  |\n",
      "|     0.887     |   0.00526    |    {'C': 1}   |\n",
      "|     0.891     |   0.00718    |   {'C': 10}   |\n",
      "|     0.889     |   0.01278    |   {'C': 100}  |\n",
      "|     0.878     |   0.00915    |  {'C': 1000}  |\n",
      "|     0.857     |    0.0093    |  {'C': 10000} |\n",
      "+---------------+--------------+---------------+\n",
      "\n",
      "The best estimator:SVC(C=10, cache_size=200, class_weight=None, coef0=0.0,\n",
      "  decision_function_shape='ovr', degree=3, gamma='auto_deprecated',\n",
      "  kernel='rbf', max_iter=-1, probability=False, random_state=None,\n",
      "  shrinking=True, tol=0.001, verbose=False)\n",
      "\n",
      "The best score is:0.8909829967726378\n",
      "The best value of C is:{'C': 10}\n",
      "Mean Score: 0.9008120500946798\n"
     ]
    }
   ],
   "source": [
    "# Hyper parameter tuning and error plot\n",
    "tuned_parameters = [{'C': [10**-4, 10**-3,10**-2,10**-1, 10**0,10**1, 10**2,10**3, 10**4]}]\n",
    "alpha = [10**-4, 10**-3,10**-2,10**-1, 10**0,10**1, 10**2,10**3, 10**4]  #k\n",
    "    \n",
    "    \n",
    "# Using GridSearchCVSearchCV with 3 fold cv\n",
    "gs_obj = GridSearchCV(SVC(kernel='rbf'), tuned_parameters, scoring = 'roc_auc', cv=3)\n",
    "gs_obj.fit(sent_vectors_train, y_train)\n",
    "\n",
    "\n",
    "train_auc= gs_obj.cv_results_['mean_train_score']\n",
    "train_auc_std= gs_obj.cv_results_['std_train_score']\n",
    "cv_auc = gs_obj.cv_results_['mean_test_score'] \n",
    "cv_auc_std= gs_obj.cv_results_['std_test_score']\n",
    "\n",
    "  \n",
    "# draws the error plot\n",
    "  \n",
    "plt.plot(alpha, train_auc, label='Train AUC')\n",
    "    # this code is copied from here: https://stackoverflow.com/a/48803361/4084039\n",
    "plt.gca().fill_between(alpha,train_auc - train_auc_std,train_auc + train_auc_std,alpha=0.2,color='darkblue')\n",
    "\n",
    "plt.plot(alpha, cv_auc, label='CV AUC')\n",
    "    # this code is copied from here: https://stackoverflow.com/a/48803361/4084039 \n",
    "plt.gca().fill_between(alpha,cv_auc - cv_auc_std,cv_auc + cv_auc_std,alpha=0.2,color='darkorange')\n",
    "plt.legend()\n",
    "plt.xlabel(\"log(C)- hyperparamter\")\n",
    "plt.xscale('log')\n",
    "plt.ylabel(\"AUC\")\n",
    "plt.title(\"ERROR PLOT\")\n",
    "plt.show()\n",
    "  \n",
    "  \n",
    " # Results of the gs object\n",
    "  \n",
    "  \n",
    "# Code https://stackoverflow.com/questions/42793254/what-replaces-gridsearchcv-grid-scores-in-scikit#answer-42800056\n",
    "means = gs_obj.cv_results_['mean_test_score']\n",
    "stds = gs_obj.cv_results_['std_test_score']\n",
    "\n",
    "\n",
    "t1 = PrettyTable()\n",
    "t1.field_names = ['Mean CV Score', 'Std CV Score', 'Param']\n",
    "\n",
    "for mean, std, params in zip(means, stds, gs_obj.cv_results_['params']):\n",
    "    t1.add_row([round(mean, 3), round(std * 2,5), params])\n",
    "\n",
    "print(t1) \n",
    "\n",
    "print(\"\\nThe best estimator:{}\".format(gs_obj.best_estimator_))\n",
    "print(\"\\nThe best score is:{}\".format(gs_obj.best_score_))\n",
    "print(\"The best value of C is:{}\".format(gs_obj.best_params_))\n",
    "\n",
    "# Returns the mean accuracy on the given test data and labels.\n",
    "print(\"Mean Score: {}\".format(gs_obj.score(sent_vectors_test, y_test)))\n",
    "\n",
    "del t1"
   ]
  },
  {
   "cell_type": "code",
   "execution_count": 48,
   "metadata": {
    "ExecuteTime": {
     "end_time": "2019-04-15T07:50:05.395337Z",
     "start_time": "2019-04-15T07:47:30.299113Z"
    }
   },
   "outputs": [],
   "source": [
    "# Fitting the model with the best hyperparameter \n",
    "model_avgw2v_rbf = SVC(kernel='rbf', C= 10,probability=True)\n",
    "model_avgw2v_rbf.fit(sent_vectors_train,y_train)\n",
    "y_pred = model_avgw2v_rbf.predict(sent_vectors_test)"
   ]
  },
  {
   "cell_type": "code",
   "execution_count": 49,
   "metadata": {
    "ExecuteTime": {
     "end_time": "2019-04-15T07:51:09.336684Z",
     "start_time": "2019-04-15T07:50:52.874174Z"
    },
    "colab": {
     "base_uri": "https://localhost:8080/",
     "height": 328
    },
    "colab_type": "code",
    "id": "cQ0-r-eyfDxM",
    "outputId": "8806b117-f335-449f-d91e-f8edbbe0fd3d"
   },
   "outputs": [
    {
     "data": {
      "image/png": "[encoded data removed]",
      "text/plain": [
       "<Figure size 432x288 with 1 Axes>"
      ]
     },
     "metadata": {
      "needs_background": "light"
     },
     "output_type": "display_data"
    },
    {
     "name": "stdout",
     "output_type": "stream",
     "text": [
      "train AUC: 0.9045761851251735\n",
      "test AUC: 0.9008129580636888\n"
     ]
    }
   ],
   "source": [
    "# AUC - ROC plot\n",
    "auc_train_avgw2v_rbf, auc_test_avgw2v_rbf = plot_auc_rbf(model_avgw2v_rbf, sent_vectors_train, sent_vectors_test)"
   ]
  },
  {
   "cell_type": "code",
   "execution_count": 50,
   "metadata": {
    "ExecuteTime": {
     "end_time": "2019-04-15T07:52:12.993531Z",
     "start_time": "2019-04-15T07:51:56.793290Z"
    },
    "colab": {
     "base_uri": "https://localhost:8080/",
     "height": 136
    },
    "colab_type": "code",
    "id": "vqklj7HifDxP",
    "outputId": "c656e9dc-6c19-4cb7-d334-68f1d9967948"
   },
   "outputs": [
    {
     "name": "stdout",
     "output_type": "stream",
     "text": [
      "*****Train confusion matrix*****\n",
      "[[ 1508  2545]\n",
      " [  462 21675]]\n",
      "\n",
      "*****Test confusion matrix*****\n",
      "[[ 794 1244]\n",
      " [ 215 8972]]\n"
     ]
    }
   ],
   "source": [
    "# Confusion matrix\n",
    "print_confusion_matrix(model_avgw2v_rbf, sent_vectors_train, sent_vectors_test)"
   ]
  },
  {
   "cell_type": "code",
   "execution_count": 51,
   "metadata": {
    "ExecuteTime": {
     "end_time": "2019-04-15T07:53:19.251248Z",
     "start_time": "2019-04-15T07:53:01.836556Z"
    },
    "colab": {
     "base_uri": "https://localhost:8080/",
     "height": 297
    },
    "colab_type": "code",
    "id": "Nqc8-jTmfDxT",
    "outputId": "b49a9a83-3d17-4c62-d956-4ec71e772232"
   },
   "outputs": [
    {
     "data": {
      "text/plain": [
       "<Figure size 432x288 with 0 Axes>"
      ]
     },
     "metadata": {},
     "output_type": "display_data"
    },
    {
     "data": {
      "image/png": "[encoded data removed]",
      "text/plain": [
       "<Figure size 1080x288 with 3 Axes>"
      ]
     },
     "metadata": {
      "needs_background": "light"
     },
     "output_type": "display_data"
    }
   ],
   "source": [
    "# Heatmap confusion matrix\n",
    "plt.figure(1)\n",
    "plt.figure(figsize=(15, 4))\n",
    "\n",
    "\n",
    "plt.subplot(121)  # Test confusion matrix\n",
    "cnf_matrix = confusion_matrix(y_test, model_avgw2v_rbf.predict(sent_vectors_test))\n",
    "np.set_printoptions(precision=2)\n",
    "class_names = ['Negative', 'Positive']\n",
    "# Plot non-normalized confusion matrix\n",
    "#plt.figure()\n",
    "plot_confusion_matrix_heatmap(cnf_matrix, classes=class_names, title='Test Set Confusion Matrix');\n",
    "\n",
    "plt.subplot(122) # Train Confusion matrix\n",
    "cnf_matrix = confusion_matrix(y_train, model_avgw2v_rbf.predict(sent_vectors_train))\n",
    "np.set_printoptions(precision=2)\n",
    "class_names = ['Negative', 'Positive']\n",
    "# Plot non-normalized confusion matrix\n",
    "#plt.figure()\n",
    "plot_confusion_matrix_heatmap(cnf_matrix, classes=class_names, title='Train Set Confusion Matrix');"
   ]
  },
  {
   "cell_type": "markdown",
   "metadata": {},
   "source": [
    "**Observation**\n",
    "1. For the Avg. W2V vectorizer, we used SVC classifier with RBF kernel and C = 10\n",
    "2. We got train AUC: 0.9045761851251735 and test AUC: 0.9008129580636888\n",
    "3. Using the confusion matrix, we can say that our model correctly predicted 8972 positive reviews and 794 negative reviews.\n",
    "4. The model incorrectly classified 215 negative reviews and 1244 positive reviews."
   ]
  },
  {
   "cell_type": "markdown",
   "metadata": {},
   "source": [
    "### [5.2.4]  Applying RBF SVM on TFIDF W2V,<font color='red'> SET 4</font>"
   ]
  },
  {
   "cell_type": "markdown",
   "metadata": {},
   "source": [
    "**TFIDF-Weighted Word2Vec**"
   ]
  },
  {
   "cell_type": "code",
   "execution_count": 23,
   "metadata": {
    "ExecuteTime": {
     "end_time": "2019-04-15T05:16:34.106222Z",
     "start_time": "2019-04-15T05:16:32.876408Z"
    }
   },
   "outputs": [],
   "source": [
    "# S = [\"abc def pqr\", \"def def def abc\", \"pqr pqr def\"]\n",
    "model = TfidfVectorizer()\n",
    "X_train_tf_idf_w2v = model.fit_transform(X_train)\n",
    "X_test_tf_idf_w2v = model.transform(X_test)\n",
    "# we are converting a dictionary with word as a key, and the idf as a value\n",
    "dictionary = dict(zip(model.get_feature_names(), list(model.idf_)))"
   ]
  },
  {
   "cell_type": "code",
   "execution_count": 24,
   "metadata": {
    "ExecuteTime": {
     "end_time": "2019-04-15T05:22:34.267091Z",
     "start_time": "2019-04-15T05:16:35.023654Z"
    }
   },
   "outputs": [
    {
     "name": "stderr",
     "output_type": "stream",
     "text": [
      "100%|████████████████████████████████████████████████████████████████████████████████████████████████████████████████████████████| 26190/26190 [05:59<00:00, 72.91it/s]\n"
     ]
    }
   ],
   "source": [
    "# TF-IDF weighted Word2Vec for sentences in X_train\n",
    "tfidf_feat = model.get_feature_names() # tfidf words/col-names\n",
    "# final_tf_idf is the sparse matrix with row= sentence, col=word and cell_val = tfidf\n",
    "\n",
    "tfidf_sent_vectors_train = []; # the tfidf-w2v for each sentence/review is stored in this list\n",
    "row=0;\n",
    "for sent in tqdm(list_of_sentance_train): # for each review/sentence \n",
    "    sent_vec = np.zeros(50) # as word vectors are of zero length\n",
    "    weight_sum =0; # num of words with a valid vector in the sentence/review\n",
    "    for word in sent: # for each word in a review/sentence\n",
    "        if word in w2v_words and word in tfidf_feat:\n",
    "            vec = w2v_model.wv[word]\n",
    "#             tf_idf = tf_idf_matrix[row, tfidf_feat.index(word)]\n",
    "            # to reduce the computation we are \n",
    "            # dictionary[word] = idf value of word in whole courpus\n",
    "            # sent.count(word) = tf valeus of word in this review\n",
    "            tf_idf = dictionary[word]*(sent.count(word)/len(sent))\n",
    "            sent_vec += (vec * tf_idf)\n",
    "            weight_sum += tf_idf\n",
    "    if weight_sum != 0:\n",
    "        sent_vec /= weight_sum\n",
    "    tfidf_sent_vectors_train.append(sent_vec)\n",
    "    row += 1"
   ]
  },
  {
   "cell_type": "code",
   "execution_count": 25,
   "metadata": {
    "ExecuteTime": {
     "end_time": "2019-04-15T05:25:48.891948Z",
     "start_time": "2019-04-15T05:23:15.012773Z"
    }
   },
   "outputs": [
    {
     "name": "stderr",
     "output_type": "stream",
     "text": [
      "100%|████████████████████████████████████████████████████████████████████████████████████████████████████████████████████████████| 11225/11225 [02:33<00:00, 72.96it/s]\n"
     ]
    }
   ],
   "source": [
    "# TF-IDF weighted Word2Vec for sentences in X_test\n",
    "tfidf_feat = model.get_feature_names() # tfidf words/col-names\n",
    "# final_tf_idf is the sparse matrix with row= sentence, col=word and cell_val = tfidf\n",
    "\n",
    "tfidf_sent_vectors_test = []; # the tfidf-w2v for each sentence/review is stored in this list\n",
    "row=0;\n",
    "for sent in tqdm(list_of_sentance_test): # for each review/sentence \n",
    "    sent_vec = np.zeros(50) # as word vectors are of zero length\n",
    "    weight_sum =0; # num of words with a valid vector in the sentence/review\n",
    "    for word in sent: # for each word in a review/sentence\n",
    "        if word in w2v_words and word in tfidf_feat:\n",
    "            vec = w2v_model.wv[word]\n",
    "#             tf_idf = tf_idf_matrix[row, tfidf_feat.index(word)]\n",
    "            # to reduce the computation we are \n",
    "            # dictionary[word] = idf value of word in whole courpus\n",
    "            # sent.count(word) = tf valeus of word in this review\n",
    "            tf_idf = dictionary[word]*(sent.count(word)/len(sent))\n",
    "            sent_vec += (vec * tf_idf)\n",
    "            weight_sum += tf_idf\n",
    "    if weight_sum != 0:\n",
    "        sent_vec /= weight_sum\n",
    "    tfidf_sent_vectors_test.append(sent_vec)\n",
    "    \n",
    "    row += 1"
   ]
  },
  {
   "cell_type": "code",
   "execution_count": 26,
   "metadata": {
    "ExecuteTime": {
     "end_time": "2019-04-15T05:56:01.014866Z",
     "start_time": "2019-04-15T05:26:40.969415Z"
    }
   },
   "outputs": [
    {
     "data": {
      "image/png": "[encoded data removed]",
      "text/plain": [
       "<Figure size 432x288 with 1 Axes>"
      ]
     },
     "metadata": {
      "needs_background": "light"
     },
     "output_type": "display_data"
    },
    {
     "name": "stdout",
     "output_type": "stream",
     "text": [
      "+---------------+--------------+---------------+\n",
      "| Mean CV Score | Std CV Score |     Param     |\n",
      "+---------------+--------------+---------------+\n",
      "|     0.839     |   0.00531    | {'C': 0.0001} |\n",
      "|     0.863     |    0.0062    |  {'C': 0.001} |\n",
      "|     0.866     |   0.00765    |  {'C': 0.01}  |\n",
      "|     0.867     |   0.00773    |   {'C': 0.1}  |\n",
      "|     0.868     |   0.00725    |    {'C': 1}   |\n",
      "|     0.871     |    0.0097    |   {'C': 10}   |\n",
      "|      0.87     |   0.01467    |   {'C': 100}  |\n",
      "|     0.857     |   0.01535    |  {'C': 1000}  |\n",
      "|     0.835     |    0.0059    |  {'C': 10000} |\n",
      "+---------------+--------------+---------------+\n",
      "\n",
      "The best estimator:SVC(C=10, cache_size=200, class_weight=None, coef0=0.0,\n",
      "  decision_function_shape='ovr', degree=3, gamma='auto_deprecated',\n",
      "  kernel='rbf', max_iter=-1, probability=False, random_state=None,\n",
      "  shrinking=True, tol=0.001, verbose=False)\n",
      "\n",
      "The best score is:0.870704860021974\n",
      "The best value of C is:{'C': 10}\n",
      "Mean Score: 0.881100630418906\n"
     ]
    },
    {
     "data": {
      "text/plain": [
       "{'C': 10}"
      ]
     },
     "execution_count": 26,
     "metadata": {},
     "output_type": "execute_result"
    }
   ],
   "source": [
    "get_best_hyperparameter_alpha_rbf(model, tfidf_sent_vectors_train, tfidf_sent_vectors_test, y_train, y_test)"
   ]
  },
  {
   "cell_type": "code",
   "execution_count": 35,
   "metadata": {
    "ExecuteTime": {
     "end_time": "2019-04-15T06:52:37.427012Z",
     "start_time": "2019-04-15T06:49:53.344208Z"
    },
    "colab": {},
    "colab_type": "code",
    "id": "oJOC8sgNfDyK"
   },
   "outputs": [],
   "source": [
    "# Fitting the TFIDF - weighted W2V vectorizer on LogisticRegression Model \n",
    "model_tfidfw2v_rbf = SVC(kernel='rbf', C= 10, probability=True)\n",
    "model_tfidfw2v_rbf.fit(tfidf_sent_vectors_train,y_train)\n",
    "y_pred = model_tfidfw2v_rbf.predict(tfidf_sent_vectors_test)"
   ]
  },
  {
   "cell_type": "code",
   "execution_count": 36,
   "metadata": {
    "ExecuteTime": {
     "end_time": "2019-04-15T06:53:42.541521Z",
     "start_time": "2019-04-15T06:53:25.147862Z"
    },
    "colab": {
     "base_uri": "https://localhost:8080/",
     "height": 328
    },
    "colab_type": "code",
    "id": "mcbIifuCfDyM",
    "outputId": "95386ed9-9d40-4b7e-9eae-a9285940de1d"
   },
   "outputs": [
    {
     "data": {
      "image/png": "[encoded data removed]",
      "text/plain": [
       "<Figure size 432x288 with 1 Axes>"
      ]
     },
     "metadata": {
      "needs_background": "light"
     },
     "output_type": "display_data"
    },
    {
     "name": "stdout",
     "output_type": "stream",
     "text": [
      "train AUC: 0.8916478113253445\n",
      "test AUC: 0.8811029270463993\n"
     ]
    }
   ],
   "source": [
    "# AUC- ROC plot\n",
    "auc_train_tfidfw2v_rbf, auc_test_tfidfw2v_rbf = plot_auc_rbf(model_tfidfw2v_rbf, tfidf_sent_vectors_train, tfidf_sent_vectors_test)"
   ]
  },
  {
   "cell_type": "code",
   "execution_count": 37,
   "metadata": {
    "ExecuteTime": {
     "end_time": "2019-04-15T06:54:48.901276Z",
     "start_time": "2019-04-15T06:54:31.061345Z"
    },
    "colab": {
     "base_uri": "https://localhost:8080/",
     "height": 136
    },
    "colab_type": "code",
    "id": "ar67oz4sfDyP",
    "outputId": "4274d1cc-f030-40f0-8229-135c8a553e1c"
   },
   "outputs": [
    {
     "name": "stdout",
     "output_type": "stream",
     "text": [
      "*****Train confusion matrix*****\n",
      "[[ 1147  2906]\n",
      " [  323 21814]]\n",
      "\n",
      "*****Test confusion matrix*****\n",
      "[[ 609 1429]\n",
      " [ 157 9030]]\n"
     ]
    }
   ],
   "source": [
    "# Confusion Matrix\n",
    "print_confusion_matrix(model_tfidfw2v_rbf, tfidf_sent_vectors_train, tfidf_sent_vectors_test)"
   ]
  },
  {
   "cell_type": "code",
   "execution_count": 41,
   "metadata": {
    "ExecuteTime": {
     "end_time": "2019-04-15T06:58:01.388334Z",
     "start_time": "2019-04-15T06:57:44.128167Z"
    },
    "colab": {
     "base_uri": "https://localhost:8080/",
     "height": 297
    },
    "colab_type": "code",
    "id": "wmxbXKRtfDyR",
    "outputId": "6db5d35b-c13a-424a-c278-123ee31feddf"
   },
   "outputs": [
    {
     "data": {
      "text/plain": [
       "<Figure size 432x288 with 0 Axes>"
      ]
     },
     "metadata": {},
     "output_type": "display_data"
    },
    {
     "data": {
      "image/png": "[encoded data removed]",
      "text/plain": [
       "<Figure size 1080x288 with 3 Axes>"
      ]
     },
     "metadata": {
      "needs_background": "light"
     },
     "output_type": "display_data"
    }
   ],
   "source": [
    "# Heatmap Confusion Matrix\n",
    "plt.figure(1)\n",
    "plt.figure(figsize=(15, 4))\n",
    "\n",
    "\n",
    "plt.subplot(121)  # Test confusion matrix\n",
    "cnf_matrix = confusion_matrix(y_test, model_tfidfw2v_rbf.predict(tfidf_sent_vectors_test))\n",
    "np.set_printoptions(precision=2)\n",
    "class_names = ['Negative', 'Positive']\n",
    "# Plot non-normalized confusion matrix\n",
    "#plt.figure()\n",
    "plot_confusion_matrix_heatmap(cnf_matrix, classes=class_names, title='Test Set Confusion Matrix');\n",
    "\n",
    "plt.subplot(122) # Train Confusion matrix\n",
    "cnf_matrix = confusion_matrix(y_train, model_tfidfw2v_rbf.predict(tfidf_sent_vectors_train))\n",
    "np.set_printoptions(precision=2)\n",
    "class_names = ['Negative', 'Positive']\n",
    "# Plot non-normalized confusion matrix\n",
    "#plt.figure()\n",
    "plot_confusion_matrix_heatmap(cnf_matrix, classes=class_names, title='Train Set Confusion Matrix');"
   ]
  },
  {
   "cell_type": "markdown",
   "metadata": {},
   "source": [
    "**Observation**\n",
    "1. For the TFIIDF-weightedW2V vectorizer, we used SVC classifier with RBF kernel and alpha = 10\n",
    "2. We got train AUC: 0.8916478113253445 and test AUC: 0.8811029270463993\n",
    "3. Using the confusion matrix, we can say that our model correctly predicted 9030 positive reviews and 609 negative reviews.\n",
    "4. The model incorrectly classified 157 negative reviews and 1429 positive reviews.\n"
   ]
  },
  {
   "cell_type": "markdown",
   "metadata": {},
   "source": [
    "# [6] Conclusions"
   ]
  },
  {
   "cell_type": "code",
   "execution_count": 120,
   "metadata": {
    "ExecuteTime": {
     "end_time": "2019-04-15T10:27:37.957721Z",
     "start_time": "2019-04-15T10:27:37.949700Z"
    },
    "_uuid": "cb30fb8b0724c950bcdf193760d95e5ccdd652a4",
    "colab": {
     "base_uri": "https://localhost:8080/",
     "height": 221
    },
    "colab_type": "code",
    "id": "cKFZZnlI1K3p",
    "outputId": "b3bb57ee-a60b-43c1-a493-53610d314cf1"
   },
   "outputs": [
    {
     "name": "stdout",
     "output_type": "stream",
     "text": [
      "+--------+------------+----------------------+---------+--------------------+--------------------+\n",
      "| Sr. No | Vectorizer | Hyperparameter value | Penalty |     Train AUC      |      Test AUC      |\n",
      "+--------+------------+----------------------+---------+--------------------+--------------------+\n",
      "|   1    |    BoW     |          L2          |   0.1   | 0.9844621305883833 | 0.9844621305883833 |\n",
      "|   2    |    BoW     |          L2          |    1    | 0.9665197249066753 | 0.9036183953666663 |\n",
      "|   3    |   TF_IDF   |          L2          |  0.0001 | 0.9748968093818116 | 0.9603306201559176 |\n",
      "|   4    |   TF_IDF   |          L2          |  10000  | 0.9922475342828719 | 0.9922475342828719 |\n",
      "|   5    |  Avg-W2V   |          L2          |   0.01  | 0.9020367007582843 | 0.9026262821709552 |\n",
      "|   6    |  Avg-W2V   |          L2          |    10   | 0.9045761851251735 | 0.9008129580636888 |\n",
      "|   7    | TFIDF-W2V  |          L2          |   0.01  | 0.8784768314946081 | 0.8740695670883443 |\n",
      "|   8    | TFIDF-W2V  |          L2          |    10   | 0.8916478113253445 | 0.8811029270463993 |\n",
      "+--------+------------+----------------------+---------+--------------------+--------------------+\n"
     ]
    }
   ],
   "source": [
    "C = PrettyTable()\n",
    "\n",
    "C.field_names = ['Sr. No', 'Vectorizer','Hyperparameter value','Penalty', 'Train AUC', 'Test AUC']\n",
    "C.add_row([1, 'BoW', 'L2', 0.1, auc_train_bow_sgd, auc_train_bow_sgd])\n",
    "C.add_row([2, 'BoW', 'L2', 1,auc_train_bow_rbf ,auc_test_bow_rbf])\n",
    "C.add_row([3, 'TF_IDF', 'L2', 0.0001, auc_train_tfidf_sgd, auc_test_tfidf_sgd])\n",
    "C.add_row([4, 'TF_IDF', 'L2', 10000, auc_train_tfidf_rbf, auc_train_tfidf_rbf])\n",
    "C.add_row([5, 'Avg-W2V', 'L2', 0.01,auc_train_avgw2v_l1, auc_test_avgw2v_l1])\n",
    "C.add_row([6, 'Avg-W2V', 'L2', 10,auc_train_avgw2v_rbf ,auc_test_avgw2v_rbf])\n",
    "C.add_row([7, 'TFIDF-W2V', 'L2', 0.01,auc_train_tfidfw2v_sgd, auc_test_tfidfw2v_sgd])\n",
    "C.add_row([8, 'TFIDF-W2V', 'L2', 10, auc_train_tfidfw2v_rbf,auc_test_tfidfw2v_rbf])\n",
    "           \n",
    "\n",
    "print(C)\n",
    "del C"
   ]
  },
  {
   "cell_type": "markdown",
   "metadata": {},
   "source": [
    "## Summary"
   ]
  },
  {
   "cell_type": "markdown",
   "metadata": {},
   "source": [
    "1. We performed Support Vector Machine Classification on the Amazon fine food dataset using SGDClasssifier for the linear kernel and SVC for RBF kernel \n",
    "2. Made use of GridSearchCV to find the best value of C , the hyperparameter. We also used CalibratedSearchCV when working with SGD classifier. \n",
    "3. Performed Feature Engineering on the BoW model and found out the model slightly performed better.\n",
    "4. Different vectors take on different hyperparameter values. We saw values being taken from  10**-4 to 10**4\n",
    "5. We also found penalty L1 and L2 using hyperparameter tuning on BoW, TFIDF, Avg-W2V, TFIDF-WW2V on the Amazon Fine Food Reviews.\n",
    "6. We also printed out feature importance for BoW vectorizer"
   ]
  }
 ],
 "metadata": {
  "colab": {
   "collapsed_sections": [
    "1eu04ud71Kys"
   ],
   "name": "Amazon Logistic Regression Submission.ipynb",
   "provenance": [],
   "version": "0.3.2"
  },
  "hide_input": false,
  "kernelspec": {
   "display_name": "Python 3",
   "language": "python",
   "name": "python3"
  },
  "language_info": {
   "codemirror_mode": {
    "name": "ipython",
    "version": 3
   },
   "file_extension": ".py",
   "mimetype": "text/x-python",
   "name": "python",
   "nbconvert_exporter": "python",
   "pygments_lexer": "ipython3",
   "version": "3.7.0"
  },
  "notify_time": "5",
  "toc": {
   "base_numbering": 1,
   "nav_menu": {},
   "number_sections": true,
   "sideBar": true,
   "skip_h1_title": false,
   "title_cell": "Table of Contents",
   "title_sidebar": "Contents",
   "toc_cell": false,
   "toc_position": {},
   "toc_section_display": true,
   "toc_window_display": false
  },
  "varInspector": {
   "cols": {
    "lenName": 16,
    "lenType": 16,
    "lenVar": 40
   },
   "kernels_config": {
    "python": {
     "delete_cmd_postfix": "",
     "delete_cmd_prefix": "del ",
     "library": "var_list.py",
     "varRefreshCmd": "print(var_dic_list())"
    },
    "r": {
     "delete_cmd_postfix": ") ",
     "delete_cmd_prefix": "rm(",
     "library": "var_list.r",
     "varRefreshCmd": "cat(var_dic_list()) "
    }
   },
   "oldHeight": 257,
   "position": {
    "height": "279px",
    "left": "63px",
    "right": "20px",
    "top": "78px",
    "width": "676px"
   },
   "types_to_exclude": [
    "module",
    "function",
    "builtin_function_or_method",
    "instance",
    "_Feature"
   ],
   "varInspector_section_display": "block",
   "window_display": false
  }
 },
 "nbformat": 4,
 "nbformat_minor": 1
}
