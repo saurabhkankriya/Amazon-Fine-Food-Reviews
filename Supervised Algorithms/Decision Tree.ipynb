{
 "cells": [
  {
   "cell_type": "markdown",
   "metadata": {
    "_uuid": "f5e35b9f8eac1c9e23292ac9e75886f513fe8519",
    "colab_type": "text",
    "id": "209x4d6Z1KiE"
   },
   "source": [
    "# Amazon Fine Food Reviews Analysis\n",
    "\n",
    "\n",
    "Data Source: https://www.kaggle.com/snap/amazon-fine-food-reviews <br>\n",
    "\n",
    "EDA: https://nycdatascience.com/blog/student-works/amazon-fine-foods-visualization/\n",
    "\n",
    "\n",
    "The Amazon Fine Food Reviews dataset consists of reviews of fine foods from Amazon.<br>\n",
    "\n",
    "Number of reviews: 568,454<br>\n",
    "Number of users: 256,059<br>\n",
    "Number of products: 74,258<br>\n",
    "Timespan: Oct 1999 - Oct 2012<br>\n",
    "Number of Attributes/Columns in data: 10 \n",
    "\n",
    "Attribute Information:\n",
    "\n",
    "1. Id\n",
    "2. ProductId - unique identifier for the product\n",
    "3. UserId - unqiue identifier for the user\n",
    "4. ProfileName\n",
    "5. HelpfulnessNumerator - number of users who found the review helpful\n",
    "6. HelpfulnessDenominator - number of users who indicated whether they found the review helpful or not\n",
    "7. Score - rating between 1 and 5\n",
    "8. Time - timestamp for the review\n",
    "9. Summary - brief summary of the review\n",
    "10. Text - text of the review\n",
    "\n",
    "\n",
    "#### Objective:\n",
    "Given a review, determine whether the review is positive (rating of 4 or 5) or negative (rating of 1 or 2).\n",
    "\n",
    "<br>\n",
    "[Q] How to determine if a review is positive or negative?<br>\n",
    "<br> \n",
    "[Ans] We could use Score/Rating. A rating of 4 or 5 can be cosnidered as a positive review. A rating of 1 or 2 can be considered as negative one. A review of rating 3 is considered nuetral and such reviews are ignored from our analysis. This is an approximate and proxy way of determining the polarity (positivity/negativity) of a review.\n",
    "\n",
    "\n"
   ]
  },
  {
   "cell_type": "markdown",
   "metadata": {
    "_uuid": "499c036ac717873bde5a6a09918c0324a9ad7c36",
    "colab_type": "text",
    "id": "GEj3PEFt1Kio"
   },
   "source": [
    "# [1]. Reading Data"
   ]
  },
  {
   "cell_type": "markdown",
   "metadata": {
    "_uuid": "25065d10fdf20fcc0b1ad772d44b4a7da3d792cb",
    "colab_type": "text",
    "id": "llHiLTny1Kiu"
   },
   "source": [
    "## [1.1] Loading the data\n",
    "\n",
    "The dataset is available in two forms\n",
    "1. .csv file\n",
    "2. SQLite Database\n",
    "\n",
    "In order to load the data, We have used the SQLITE dataset as it is easier to query the data and visualise the data efficiently.\n",
    "<br> \n",
    "\n",
    "Here as we only want to get the global sentiment of the recommendations (positive or negative), we will purposefully ignore all Scores equal to 3. If the score is above 3, then the recommendation wil be set to \"positive\". Otherwise, it will be set to \"negative\"."
   ]
  },
  {
   "cell_type": "code",
   "execution_count": 1,
   "metadata": {
    "ExecuteTime": {
     "end_time": "2019-04-22T03:55:47.164391Z",
     "start_time": "2019-04-22T03:55:36.961211Z"
    },
    "_uuid": "853a9dde70d428a1d7aea7357c1f50b12ed9c612",
    "colab": {},
    "colab_type": "code",
    "id": "TKiTHrKq1Ki1"
   },
   "outputs": [
    {
     "name": "stderr",
     "output_type": "stream",
     "text": [
      "C:\\Users\\Nit-prj1010\\AppData\\Local\\Continuum\\anaconda3\\lib\\site-packages\\gensim\\utils.py:1197: UserWarning: detected Windows; aliasing chunkize to chunkize_serial\n",
      "  warnings.warn(\"detected Windows; aliasing chunkize to chunkize_serial\")\n"
     ]
    }
   ],
   "source": [
    "%matplotlib inline\n",
    "import warnings\n",
    "warnings.filterwarnings(\"ignore\")\n",
    "\n",
    "import sqlite3\n",
    "\n",
    "import pandas as pd\n",
    "import numpy as np\n",
    "import matplotlib.pyplot as plt\n",
    "import seaborn as sns\n",
    "\n",
    "import nltk\n",
    "import string\n",
    "\n",
    "from sklearn.feature_extraction.text import TfidfTransformer\n",
    "from sklearn.feature_extraction.text import TfidfVectorizer\n",
    "from nltk.stem.porter import PorterStemmer\n",
    "\n",
    "import re\n",
    "# Tutorial about Python regular expressions: https://pymotw.com/2/re/\n",
    "from nltk.corpus import stopwords\n",
    "from nltk.stem import PorterStemmer\n",
    "from nltk.stem.wordnet import WordNetLemmatizer\n",
    "\n",
    "from gensim.models import Word2Vec\n",
    "from gensim.models import KeyedVectors\n",
    "\n",
    "import pickle\n",
    "from tqdm import tqdm\n",
    "import os\n",
    "from collections import Counter\n",
    "\n",
    "# ============================== loading libraries ===========================================\n",
    "\n",
    "from sklearn.model_selection import train_test_split\n",
    "from sklearn.model_selection import cross_validate\n",
    "from sklearn.model_selection import cross_val_score\n",
    "\n",
    "from sklearn.preprocessing import StandardScaler\n",
    "\n",
    "from sklearn.model_selection import train_test_split\n",
    "from sklearn.model_selection import GridSearchCV\n",
    "from sklearn.model_selection import RandomizedSearchCV\n",
    "from sklearn.linear_model import LogisticRegression\n",
    "\n",
    "from sklearn.metrics import accuracy_score\n",
    "from sklearn.metrics import confusion_matrix\n",
    "from sklearn import metrics\n",
    "from sklearn.metrics import roc_curve, auc\n",
    "\n",
    "from sklearn.feature_extraction.text import CountVectorizer\n",
    "\n",
    "from prettytable import PrettyTable\n",
    "\n",
    "from sklearn.metrics import confusion_matrix\n",
    "from sklearn.metrics import classification_report\n",
    "\n",
    "import itertools\n",
    "from sklearn.tree import DecisionTreeClassifier\n"
   ]
  },
  {
   "cell_type": "markdown",
   "metadata": {
    "_uuid": "1d3c03c38ec1baa87935cfdfdca4bc2a63611b62",
    "colab_type": "text",
    "id": "4FaO7Z3q1Kjk"
   },
   "source": [
    "##  Data Import and Preprocessing"
   ]
  },
  {
   "cell_type": "markdown",
   "metadata": {
    "colab_type": "text",
    "id": "1nxaNO0y1Kq6"
   },
   "source": [
    "**Load preprocessed 'final' data**"
   ]
  },
  {
   "cell_type": "code",
   "execution_count": 2,
   "metadata": {
    "ExecuteTime": {
     "end_time": "2019-04-22T03:55:47.858832Z",
     "start_time": "2019-04-22T03:55:47.239954Z"
    },
    "colab": {},
    "colab_type": "code",
    "id": "2bHfE1o21Kq8"
   },
   "outputs": [],
   "source": [
    "final = pickle.load(open('preprocessed_final', 'rb'))"
   ]
  },
  {
   "cell_type": "markdown",
   "metadata": {
    "_uuid": "40303c9dc888ce87b9ee6909de656d42e132c51f",
    "colab_type": "text",
    "id": "yjTKYUcw1KrL"
   },
   "source": [
    " *Checkpoint 2: Data is now sorted based on Time and preprocessed.*"
   ]
  },
  {
   "cell_type": "code",
   "execution_count": 3,
   "metadata": {
    "ExecuteTime": {
     "end_time": "2019-04-22T03:55:47.965681Z",
     "start_time": "2019-04-22T03:55:47.957617Z"
    },
    "_uuid": "c0c4a2bd7e3c93da838face7bdddde16da39b5a1",
    "colab": {},
    "colab_type": "code",
    "id": "m-ErAmeZ1KrN"
   },
   "outputs": [],
   "source": [
    "# Create X and Y variable \n",
    "X = final['CleanedText'].values\n",
    "y= final['Score'].values"
   ]
  },
  {
   "cell_type": "code",
   "execution_count": 4,
   "metadata": {
    "ExecuteTime": {
     "end_time": "2019-04-22T03:55:48.055404Z",
     "start_time": "2019-04-22T03:55:48.044316Z"
    },
    "_uuid": "7eca81ddf0d38acc6ee572a03f67c8558a61dff0",
    "colab": {
     "base_uri": "https://localhost:8080/",
     "height": 34
    },
    "colab_type": "code",
    "id": "QDM3nzFY1KrU",
    "outputId": "76b9920d-103b-4a15-cfc9-9833a8cafa70",
    "scrolled": false
   },
   "outputs": [
    {
     "data": {
      "text/plain": [
       "numpy.ndarray"
      ]
     },
     "execution_count": 4,
     "metadata": {},
     "output_type": "execute_result"
    }
   ],
   "source": [
    "type(X)"
   ]
  },
  {
   "cell_type": "code",
   "execution_count": 5,
   "metadata": {
    "ExecuteTime": {
     "end_time": "2019-04-22T03:55:48.130003Z",
     "start_time": "2019-04-22T03:55:48.121939Z"
    },
    "_uuid": "7edc9d363ac68aadd01005ea64fd207166c592b7",
    "colab": {
     "base_uri": "https://localhost:8080/",
     "height": 34
    },
    "colab_type": "code",
    "id": "ayd34xz-1Krd",
    "outputId": "79c8ee73-b43f-440a-e0e7-67d6ad7a1330"
   },
   "outputs": [
    {
     "data": {
      "text/plain": [
       "numpy.ndarray"
      ]
     },
     "execution_count": 5,
     "metadata": {},
     "output_type": "execute_result"
    }
   ],
   "source": [
    "type(y)"
   ]
  },
  {
   "cell_type": "code",
   "execution_count": 6,
   "metadata": {
    "ExecuteTime": {
     "end_time": "2019-04-22T03:55:53.028346Z",
     "start_time": "2019-04-22T03:55:53.015241Z"
    },
    "_uuid": "ea363c9dc4d0476c6b9e6bf90c4ff6460f3a080c",
    "colab": {},
    "colab_type": "code",
    "id": "oh83OMFV1Krj"
   },
   "outputs": [],
   "source": [
    "# ss\n",
    "from sklearn.model_selection import train_test_split\n",
    "\n",
    "# Splitting into train and test in the ratio 70:30\n",
    "X_train, X_test, y_train, y_test = train_test_split(X, y, test_size=0.30,shuffle=False, random_state=507)\n",
    "#X_train, X_cv, y_train, y_cv = train_test_split(X_train, y_train, test_size=0.30, shuffle=False, random_state=507)"
   ]
  },
  {
   "cell_type": "code",
   "execution_count": 7,
   "metadata": {
    "ExecuteTime": {
     "end_time": "2019-04-22T03:55:55.145392Z",
     "start_time": "2019-04-22T03:55:55.126237Z"
    },
    "_uuid": "d6db3ab76eb89a4a205816b6c7faa6daf72b6863",
    "colab": {
     "base_uri": "https://localhost:8080/",
     "height": 51
    },
    "colab_type": "code",
    "id": "gy2wyF0B1Kru",
    "outputId": "9a7039f5-6dd4-49ab-a9d4-f7415f17aba0",
    "scrolled": true
   },
   "outputs": [
    {
     "name": "stdout",
     "output_type": "stream",
     "text": [
      "Train Set: (61441,) 61441\n",
      "Test Set: (26332,) 26332\n"
     ]
    }
   ],
   "source": [
    "print(\"Train Set:\",X_train.shape, y_train.shape[0])\n",
    "print(\"Test Set:\",X_test.shape, y_test.shape[0])"
   ]
  },
  {
   "cell_type": "markdown",
   "metadata": {
    "_uuid": "53560339c0e099f09b757c6d38e86eaea2522418",
    "colab_type": "text",
    "id": "JYRqD9o91Kr_"
   },
   "source": [
    "*Checkpoint 3: Data has been partioned into train, cv and test*"
   ]
  },
  {
   "cell_type": "markdown",
   "metadata": {
    "colab_type": "text",
    "id": "0J_0kgdSI36f"
   },
   "source": [
    "**Defining functions that we will be using throughout the notebook for BoW, TFIDF, AvgW2V, TFIDF-WW2V**\n"
   ]
  },
  {
   "cell_type": "markdown",
   "metadata": {},
   "source": [
    "**hyperparameter tuning**"
   ]
  },
  {
   "cell_type": "code",
   "execution_count": 15,
   "metadata": {
    "ExecuteTime": {
     "end_time": "2019-04-22T04:02:37.845856Z",
     "start_time": "2019-04-22T04:02:37.835811Z"
    }
   },
   "outputs": [],
   "source": [
    "def get_best_hyperparameters(vectorizer, X_train, X_test, y_train, y_test):\n",
    "  \n",
    "    \"\"\"\n",
    "    This funtion takes in the vectorizer,  and performs DecisionTreeClassifier hyperparameter tuning using GridSearchCV with 5 fold cv \n",
    "    Returns the value of hyperparameter alpha and draws the error plot for various values of alpha\n",
    "  \n",
    "    Usage: get_best_hyperparameter_C(vectorizer, X_train, X_test, y_train, y_test, penalty)\n",
    "    \"\"\"\n",
    "      \n",
    "    params_dict = {\n",
    "                \"max_depth\": [1, 5, 10, 50, 100, 500, 1000], \n",
    "                \"min_samples_split\": [5, 10, 100, 500]\n",
    "                #\"max_depth\": [1, 5, 10], \n",
    "                #\"min_samples_split\": [5, 10]\n",
    "               }\n",
    "    \n",
    "    clf = DecisionTreeClassifier(random_state= 507)\n",
    "   \n",
    "    # Using GridSearchCVSearchCV with 5 fold cv\n",
    "    gs_obj = GridSearchCV(clf, param_grid = params_dict, scoring = 'roc_auc', cv=3)\n",
    "\n",
    "    gs_obj.fit(X_train, y_train)\n",
    "  \n",
    "  \n",
    "    # Code https://stackoverflow.com/questions/42793254/what-replaces-gridsearchcv-grid-scores-in-scikit#answer-42800056\n",
    "    means = gs_obj.cv_results_['mean_test_score']\n",
    "    stds = gs_obj.cv_results_['std_test_score']\n",
    "\n",
    "\n",
    "    t1 = PrettyTable()\n",
    "    t1.field_names = ['Mean CV Score', 'Std CV Score', 'Param']\n",
    "\n",
    "    for mean, std, params in zip(means, stds, gs_obj.cv_results_['params']):\n",
    "        t1.add_row([round(mean, 3), round(std * 2,5), params])\n",
    "\n",
    "    print(t1) \n",
    "  \n",
    "    print(\"\\nThe best estimator:{}\".format(gs_obj.best_estimator_))\n",
    "    print(\"\\nThe best score is:{}\".format(gs_obj.best_score_))\n",
    "    print(\"The best value of hyperparameters are:{}\".format(gs_obj.best_params_))\n",
    "\n",
    "    # Returns the mean accuracy on the given test data and labels.\n",
    "    print(\"Mean Score: {}\".format(gs_obj.score(X_test, y_test)))\n",
    "    #print(\"penalty: {}\".format(gs_obj.best_params_['penalty']))\n",
    "    \n",
    "    #plotting heatmap\n",
    "    # https://stackoverflow.com/questions/48791709/how-to-plot-a-heat-map-on-pivot-table-after-grid-search\n",
    "    \n",
    "    plt.figure(1)\n",
    "    plt.figure(figsize=(15, 4))\n",
    "    \n",
    "    plt.subplot(121)\n",
    "    pvt = pd.pivot_table(pd.DataFrame(gs_obj.cv_results_),\n",
    "          values='mean_test_score', index='param_max_depth', columns='param_min_samples_split')\n",
    "    \n",
    "    ax = sns.heatmap(pvt,annot = True)\n",
    "    ax.set_title(\"CV set results\")\n",
    "    \n",
    "    plt.subplot(122) \n",
    "    pvt2 = pd.pivot_table(pd.DataFrame(gs_obj.cv_results_),\n",
    "          values='mean_train_score', index='param_max_depth', columns='param_min_samples_split')\n",
    "    \n",
    "    ax2 = sns.heatmap(pvt2,annot = True, )\n",
    "    ax2.set_title('training set results')\n",
    "    "
   ]
  },
  {
   "cell_type": "code",
   "execution_count": null,
   "metadata": {},
   "outputs": [],
   "source": [
    "plt.figure(1)\n",
    "plt.figure(figsize=(15, 4))\n",
    "\n",
    "\n",
    "plt.subplot(121)  # Test confusion matrix\n",
    "cnf_matrix = confusion_matrix(y_test, model_bow.predict(X_test_bow))\n",
    "np.set_printoptions(precision=2)\n",
    "class_names = ['Negative', 'Positive']\n",
    "# Plot non-normalized confusion matrix\n",
    "#plt.figure()\n",
    "plot_confusion_matrix_heatmap(cnf_matrix, classes=class_names, title='Test Set Confusion Matrix');\n",
    "\n",
    "plt.subplot(122) # Train Confusion matrix\n",
    "cnf_matrix = confusion_matrix(y_train, model_bow.predict(X_train_bow))\n",
    "np.set_printoptions(precision=2)\n",
    "class_names = ['Negative', 'Positive']\n",
    "# Plot non-normalized confusion matrix\n",
    "#plt.figure()\n",
    "plot_confusion_matrix_heatmap(cnf_matrix, classes=class_names, title='Train Set Confusion Matrix');"
   ]
  },
  {
   "cell_type": "markdown",
   "metadata": {},
   "source": [
    "**train and test AUC**"
   ]
  },
  {
   "cell_type": "code",
   "execution_count": 9,
   "metadata": {
    "ExecuteTime": {
     "end_time": "2019-04-16T09:00:29.223371Z",
     "start_time": "2019-04-16T09:00:29.218358Z"
    }
   },
   "outputs": [],
   "source": [
    "def plot_auc(model, X_train, X_test):\n",
    "    \n",
    "    \"\"\"\n",
    "    This function will plot the AUC for the vectorized train and test data.\n",
    "    Returns the plot and also the values of auc for train and test\n",
    "    \n",
    "    Usage: auc_train, auc_test = plot_auc(model, X_train, X_test)\n",
    "    \"\"\"\n",
    "    train_fpr, train_tpr, thresholds = roc_curve(y_train, model.predict_proba(X_train)[:,1])\n",
    "    test_fpr, test_tpr, thresholds = roc_curve(y_test, model.predict_proba(X_test)[:,1])\n",
    "\n",
    "    plt.plot([0,1],[0,1],'k--')\n",
    "    plt.plot(train_fpr, train_tpr, label=\"train AUC =\"+str(auc(train_fpr, train_tpr)))\n",
    "    plt.plot(test_fpr, test_tpr, label=\"test AUC =\"+str(auc(test_fpr, test_tpr)))\n",
    "    plt.legend()\n",
    "    plt.xlabel(\"fpr\")\n",
    "    plt.ylabel(\"tpr\")\n",
    "    plt.title(\"ROC Curve\")\n",
    "    plt.show()\n",
    "    \n",
    "    print(\"train AUC: {}\".format(auc(train_fpr, train_tpr)))\n",
    "    print(\"test AUC: {}\".format(auc(test_fpr, test_tpr)))\n",
    "    \n",
    "    \n",
    "    return auc(train_fpr, train_tpr), auc(test_fpr, test_tpr)\n",
    "    "
   ]
  },
  {
   "cell_type": "markdown",
   "metadata": {
    "colab_type": "text",
    "id": "NkZou-uYfDp0"
   },
   "source": [
    "**important features**"
   ]
  },
  {
   "cell_type": "code",
   "execution_count": 11,
   "metadata": {
    "ExecuteTime": {
     "end_time": "2019-04-16T09:02:05.868495Z",
     "start_time": "2019-04-16T09:02:05.865489Z"
    },
    "colab": {},
    "colab_type": "code",
    "id": "JoslwxVZ1KuL"
   },
   "outputs": [],
   "source": [
    "# https://stackoverflow.com/questions/26976362/how-to-get-most-informative-features-for-scikit-learn-classifier-for-different-c\n",
    "def most_informative_feature_for_binary_classification(vectorizer, classifier, n=20):\n",
    "  \n",
    "    \"\"\"\n",
    "     Takes in the vectorizer, classifier (model) and the number of important features to return\n",
    "  \n",
    "     Usage: most_informative_feature_for_binary_classification(vectorizer, classifier, n=20)\n",
    "    \"\"\"\n",
    "    class_labels = classifier.classes_\n",
    "    feature_names = vectorizer.get_feature_names()\n",
    "    \n",
    "    topn_class_1 = sorted(zip(classifier.feature_importances_, feature_names))[-n:]\n",
    "    \n",
    "        \n",
    "    t2 = PrettyTable()\n",
    "    t2.field_names = ['Coefficient (Importance)', 'Feature Name']\n",
    " \n",
    "    for coef, feat in reversed(topn_class_1):\n",
    "        t2.add_row([abs(coef), feat])\n",
    "      \n",
    "      \n",
    "    print(t2)  \n",
    "    del (t2)"
   ]
  },
  {
   "cell_type": "markdown",
   "metadata": {
    "colab_type": "text",
    "id": "IRzapfgSfDp5"
   },
   "source": [
    "**print confustion matrix**"
   ]
  },
  {
   "cell_type": "code",
   "execution_count": 12,
   "metadata": {
    "ExecuteTime": {
     "end_time": "2019-04-16T09:02:11.307563Z",
     "start_time": "2019-04-16T09:02:11.304559Z"
    },
    "colab": {},
    "colab_type": "code",
    "id": "1F0galr5hep0"
   },
   "outputs": [],
   "source": [
    "def print_confusion_matrix(model, X_train, X_test):\n",
    "    \"\"\"\n",
    "    Takes in the model, X_train, X_test and prints the confusion matrix\n",
    "    Usage: print_confusion_matrix(model, X_train, X_test)\n",
    "    \"\"\"\n",
    "    print(\"*****Train confusion matrix*****\")\n",
    "    print(confusion_matrix(y_train, model.predict(X_train)))\n",
    "    print(\"\\n*****Test confusion matrix*****\")\n",
    "    print(confusion_matrix(y_test, model.predict(X_test)))"
   ]
  },
  {
   "cell_type": "markdown",
   "metadata": {
    "colab_type": "text",
    "id": "tYSm6RvMfDqE"
   },
   "source": [
    "**heat map of confusion matrix**"
   ]
  },
  {
   "cell_type": "code",
   "execution_count": 13,
   "metadata": {
    "ExecuteTime": {
     "end_time": "2019-04-16T09:02:13.966260Z",
     "start_time": "2019-04-16T09:02:13.961248Z"
    },
    "colab": {},
    "colab_type": "code",
    "id": "iNZeoZMS1Kv2"
   },
   "outputs": [],
   "source": [
    "# Code modified from sklearn tutorial: https://scikit-learn.org/stable/auto_examples/model_selection/plot_confusion_matrix.html\n",
    "\n",
    "# Heat map of confusion matrix\n",
    "\n",
    "def plot_confusion_matrix_heatmap(cm, classes,\n",
    "                          normalize=False,\n",
    "                          title='Confusion matrix',\n",
    "                          cmap=plt.cm.Blues):\n",
    "    \"\"\"\n",
    "    This function prints and plots the confusion matrix.\n",
    "    Normalization can be applied by setting `normalize=True`.\n",
    "    \"\"\"\n",
    "    #if normalize:\n",
    "     #   cm = cm.astype('float') / cm.sum(axis=1)[:, np.newaxis]\n",
    "     #   print(\"Normalized confusion matrix\")\n",
    "    #else:\n",
    "      #  print('Confusion matrix')\n",
    "\n",
    "    #print(cm)\n",
    "\n",
    "    plt.imshow(cm, interpolation='nearest', cmap=cmap)\n",
    "    plt.title(title)\n",
    "    plt.colorbar()\n",
    "    tick_marks = np.arange(len(classes))\n",
    "    plt.xticks(tick_marks, classes, rotation=45)\n",
    "    plt.yticks(tick_marks, classes)\n",
    "\n",
    "    fmt = '.2f' if normalize else 'd'\n",
    "    thresh = cm.max() / 2.\n",
    "    for i, j in itertools.product(range(cm.shape[0]), range(cm.shape[1])):\n",
    "        plt.text(j, i, format(cm[i, j], fmt),\n",
    "                 horizontalalignment=\"center\",\n",
    "                 color=\"white\" if cm[i, j] > thresh else \"black\")\n",
    "\n",
    "    plt.ylabel('True label')\n",
    "    plt.xlabel('Predicted label')\n",
    "    plt.tight_layout()"
   ]
  },
  {
   "cell_type": "markdown",
   "metadata": {},
   "source": [
    "**visualize decision tree**"
   ]
  },
  {
   "cell_type": "code",
   "execution_count": 18,
   "metadata": {
    "ExecuteTime": {
     "end_time": "2019-04-16T09:13:50.837502Z",
     "start_time": "2019-04-16T09:13:50.828477Z"
    }
   },
   "outputs": [],
   "source": [
    "import graphviz\n",
    "from sklearn import tree"
   ]
  },
  {
   "cell_type": "code",
   "execution_count": 30,
   "metadata": {
    "ExecuteTime": {
     "end_time": "2019-04-16T09:15:52.123814Z",
     "start_time": "2019-04-16T09:15:52.119803Z"
    }
   },
   "outputs": [],
   "source": [
    "# code inspired from: https://scikit-learn.org/stable/modules/tree.html\n",
    "def plot_decision_tree(vectorizer, model):\n",
    "    # for visualization of tree\n",
    "    dot_data = tree.export_graphviz(model_bow_viz, out_file=None, \n",
    "                     feature_names=bow_vectorizer.get_feature_names(),  \n",
    "                     class_names=['positive','negative'],\n",
    "                   filled=True, rounded=True,  \n",
    "                      special_characters=True)  \n",
    "    graph = graphviz.Source(dot_data)  \n",
    "    return graph"
   ]
  },
  {
   "cell_type": "markdown",
   "metadata": {
    "_uuid": "ecb14af336b09aed612c6128fe1b2fe509a7bf43",
    "colab_type": "text",
    "id": "rjQi79R41KsB"
   },
   "source": [
    "# [4.1] BAG OF WORDS"
   ]
  },
  {
   "cell_type": "code",
   "execution_count": 10,
   "metadata": {
    "ExecuteTime": {
     "end_time": "2019-04-22T03:59:18.813245Z",
     "start_time": "2019-04-22T03:59:06.713614Z"
    },
    "_uuid": "19133a925d5ceefbf872451b8c59308ceab59650",
    "colab": {
     "base_uri": "https://localhost:8080/",
     "height": 85
    },
    "colab_type": "code",
    "id": "yMDplkeN1KsE",
    "outputId": "266068bb-2e9e-4d7c-db0b-813df6b2917e",
    "scrolled": true
   },
   "outputs": [
    {
     "name": "stdout",
     "output_type": "stream",
     "text": [
      "After vectorizations\n",
      "(61441, 10000) (61441,)\n",
      "(26332, 10000) (26332,)\n",
      "====================================================================================================\n"
     ]
    }
   ],
   "source": [
    "# ss\n",
    "from sklearn.feature_extraction.text import CountVectorizer\n",
    "bow_vectorizer= CountVectorizer(ngram_range=(1,2), min_df=10, max_features=10000)\n",
    "bow_vectorizer.fit(X_train) # fit has to happen only on train data\n",
    "\n",
    "# we use the fitted CountVectorizer to convert the text to vector\n",
    "X_train_bow = bow_vectorizer.transform(X_train)\n",
    "#X_cv_bow = vectorizer.transform(X_cv)\n",
    "X_test_bow = bow_vectorizer.transform(X_test)\n",
    "\n",
    "print(\"After vectorizations\")\n",
    "print(X_train_bow.shape, y_train.shape)\n",
    "#print(X_cv_bow.shape, y_cv.shape)\n",
    "print(X_test_bow.shape, y_test.shape)\n",
    "print(\"=\"*100)"
   ]
  },
  {
   "cell_type": "code",
   "execution_count": 11,
   "metadata": {
    "ExecuteTime": {
     "end_time": "2019-04-22T03:59:18.965948Z",
     "start_time": "2019-04-22T03:59:18.954898Z"
    },
    "_uuid": "2e025115407a3ca9fe94af6e0986f914035f8b1b",
    "colab": {
     "base_uri": "https://localhost:8080/",
     "height": 68
    },
    "colab_type": "code",
    "id": "K-TX7mYe1KsN",
    "outputId": "bb8f7215-85da-4208-874a-ecdcd9c4b1f8"
   },
   "outputs": [
    {
     "name": "stdout",
     "output_type": "stream",
     "text": [
      "the type of count vectorizer  <class 'scipy.sparse.csr.csr_matrix'>\n",
      "the shape of cut text BOW vectorizer  (61441, 10000)\n",
      "the number of unique words:  10000\n"
     ]
    }
   ],
   "source": [
    "print(\"the type of count vectorizer \",type(X_train_bow))\n",
    "print(\"the shape of cut text BOW vectorizer \",X_train_bow.get_shape())\n",
    "print(\"the number of unique words: \", X_train_bow.get_shape()[1])"
   ]
  },
  {
   "cell_type": "markdown",
   "metadata": {
    "colab_type": "text",
    "id": "IVFq9Jr81Ksa"
   },
   "source": [
    "**Standardize the data:** Not standardizing data as we are not dealing with distances unlike previous alogrithms."
   ]
  },
  {
   "cell_type": "code",
   "execution_count": null,
   "metadata": {
    "ExecuteTime": {
     "end_time": "2019-04-16T05:26:22.609177Z",
     "start_time": "2019-04-16T05:26:22.361133Z"
    },
    "colab": {
     "base_uri": "https://localhost:8080/",
     "height": 51
    },
    "colab_type": "code",
    "id": "CFKUKALv1Ksc",
    "outputId": "763dcd77-1ded-443a-9ef9-bd0f834fb3ee"
   },
   "outputs": [],
   "source": [
    "# We will set the attribute with_mean = False, as StandardScaler does not work on sparse matrix\n",
    "# when attempted on sparse matrices, because centering them entails building a dense matrix which in common use cases\n",
    "# is likely to be too large to fit in memory.  ---> sklearn documentation\n",
    "\n",
    "# from sklearn.preprocessing import StandardScaler\n",
    "# X_train_bow=StandardScaler(with_mean=False).fit_transform(X_train_bow)\n",
    "# X_test_bow=StandardScaler(with_mean=False).fit_transform(X_test_bow)\n",
    "\n",
    "# print(X_train_bow.shape, y_train.shape) \n",
    "\n",
    "# print(X_test_bow.shape, y_test.shape) "
   ]
  },
  {
   "cell_type": "markdown",
   "metadata": {},
   "source": [
    "## [5.1] Applying Decision Trees on BOW,<font color='red'> SET 1</font>"
   ]
  },
  {
   "cell_type": "code",
   "execution_count": 16,
   "metadata": {
    "ExecuteTime": {
     "end_time": "2019-04-22T04:13:07.092246Z",
     "start_time": "2019-04-22T04:02:43.936623Z"
    }
   },
   "outputs": [
    {
     "name": "stdout",
     "output_type": "stream",
     "text": [
      "+---------------+--------------+-----------------------------------------------+\n",
      "| Mean CV Score | Std CV Score |                     Param                     |\n",
      "+---------------+--------------+-----------------------------------------------+\n",
      "|     0.614     |   0.02453    |    {'max_depth': 1, 'min_samples_split': 5}   |\n",
      "|     0.614     |   0.02453    |   {'max_depth': 1, 'min_samples_split': 10}   |\n",
      "|     0.614     |   0.02453    |   {'max_depth': 1, 'min_samples_split': 100}  |\n",
      "|     0.614     |   0.02453    |   {'max_depth': 1, 'min_samples_split': 500}  |\n",
      "|     0.698     |    0.0168    |    {'max_depth': 5, 'min_samples_split': 5}   |\n",
      "|     0.698     |    0.0168    |   {'max_depth': 5, 'min_samples_split': 10}   |\n",
      "|     0.698     |   0.01639    |   {'max_depth': 5, 'min_samples_split': 100}  |\n",
      "|     0.699     |   0.01619    |   {'max_depth': 5, 'min_samples_split': 500}  |\n",
      "|     0.725     |   0.04433    |   {'max_depth': 10, 'min_samples_split': 5}   |\n",
      "|     0.728     |    0.0443    |   {'max_depth': 10, 'min_samples_split': 10}  |\n",
      "|     0.735     |   0.04368    |  {'max_depth': 10, 'min_samples_split': 100}  |\n",
      "|     0.735     |   0.04122    |  {'max_depth': 10, 'min_samples_split': 500}  |\n",
      "|     0.717     |   0.02749    |   {'max_depth': 50, 'min_samples_split': 5}   |\n",
      "|     0.735     |   0.01701    |   {'max_depth': 50, 'min_samples_split': 10}  |\n",
      "|     0.794     |   0.01097    |  {'max_depth': 50, 'min_samples_split': 100}  |\n",
      "|     0.823     |   0.01571    |  {'max_depth': 50, 'min_samples_split': 500}  |\n",
      "|     0.706     |   0.04464    |   {'max_depth': 100, 'min_samples_split': 5}  |\n",
      "|     0.722     |   0.04076    |  {'max_depth': 100, 'min_samples_split': 10}  |\n",
      "|     0.788     |   0.01799    |  {'max_depth': 100, 'min_samples_split': 100} |\n",
      "|     0.818     |   0.02894    |  {'max_depth': 100, 'min_samples_split': 500} |\n",
      "|     0.706     |   0.02239    |   {'max_depth': 500, 'min_samples_split': 5}  |\n",
      "|     0.723     |   0.01715    |  {'max_depth': 500, 'min_samples_split': 10}  |\n",
      "|     0.766     |    0.0178    |  {'max_depth': 500, 'min_samples_split': 100} |\n",
      "|     0.789     |   0.02485    |  {'max_depth': 500, 'min_samples_split': 500} |\n",
      "|     0.706     |   0.02239    |  {'max_depth': 1000, 'min_samples_split': 5}  |\n",
      "|     0.723     |   0.01715    |  {'max_depth': 1000, 'min_samples_split': 10} |\n",
      "|     0.766     |    0.0178    | {'max_depth': 1000, 'min_samples_split': 100} |\n",
      "|     0.789     |   0.02485    | {'max_depth': 1000, 'min_samples_split': 500} |\n",
      "+---------------+--------------+-----------------------------------------------+\n",
      "\n",
      "The best estimator:DecisionTreeClassifier(class_weight=None, criterion='gini', max_depth=50,\n",
      "            max_features=None, max_leaf_nodes=None,\n",
      "            min_impurity_decrease=0.0, min_impurity_split=None,\n",
      "            min_samples_leaf=1, min_samples_split=500,\n",
      "            min_weight_fraction_leaf=0.0, presort=False, random_state=507,\n",
      "            splitter='best')\n",
      "\n",
      "The best score is:0.823056169311365\n",
      "The best value of hyperparameters are:{'max_depth': 50, 'min_samples_split': 500}\n",
      "Mean Score: 0.8452604148951903\n"
     ]
    },
    {
     "data": {
      "text/plain": [
       "<Figure size 432x288 with 0 Axes>"
      ]
     },
     "metadata": {},
     "output_type": "display_data"
    },
    {
     "data": {
      "image/png": "[encoded data removed]",
      "text/plain": [
       "<Figure size 1080x288 with 4 Axes>"
      ]
     },
     "metadata": {
      "needs_background": "light"
     },
     "output_type": "display_data"
    }
   ],
   "source": [
    "# get hyperparameter using gridsearchcv\n",
    "get_best_hyperparameters(bow_vectorizer, X_train_bow, X_test_bow, y_train, y_test)"
   ]
  },
  {
   "cell_type": "code",
   "execution_count": 20,
   "metadata": {
    "ExecuteTime": {
     "end_time": "2019-04-16T09:14:18.047544Z",
     "start_time": "2019-04-16T09:14:10.582113Z"
    }
   },
   "outputs": [],
   "source": [
    "#fit the model on test set\n",
    "model_bow = DecisionTreeClassifier(max_depth= 50, min_samples_split= 500, random_state= 507)\n",
    "model_bow.fit(X_train_bow,y_train)\n",
    "y_pred = model_bow.predict(X_test_bow)"
   ]
  },
  {
   "cell_type": "code",
   "execution_count": 21,
   "metadata": {
    "ExecuteTime": {
     "end_time": "2019-04-16T09:14:20.213019Z",
     "start_time": "2019-04-16T09:14:20.077661Z"
    }
   },
   "outputs": [
    {
     "data": {
      "image/png": "[encoded data removed]",
      "text/plain": [
       "<Figure size 432x288 with 1 Axes>"
      ]
     },
     "metadata": {
      "needs_background": "light"
     },
     "output_type": "display_data"
    },
    {
     "name": "stdout",
     "output_type": "stream",
     "text": [
      "train AUC: 0.9033231564850217\n",
      "test AUC: 0.8452604148951903\n"
     ]
    }
   ],
   "source": [
    "# plot roc\n",
    "auc_train_bow, auc_test_bow = plot_auc(model_bow, X_train_bow, X_test_bow)"
   ]
  },
  {
   "cell_type": "code",
   "execution_count": 22,
   "metadata": {
    "ExecuteTime": {
     "end_time": "2019-04-16T09:14:26.862355Z",
     "start_time": "2019-04-16T09:14:26.758079Z"
    }
   },
   "outputs": [
    {
     "name": "stdout",
     "output_type": "stream",
     "text": [
      "*****Train confusion matrix*****\n",
      "[[ 5243  4381]\n",
      " [ 2253 49564]]\n",
      "\n",
      "*****Test confusion matrix*****\n",
      "[[ 2163  2394]\n",
      " [ 1317 20458]]\n"
     ]
    }
   ],
   "source": [
    "# confusion matrix\n",
    "print_confusion_matrix(model_bow, X_train_bow, X_test_bow)"
   ]
  },
  {
   "cell_type": "code",
   "execution_count": 82,
   "metadata": {
    "ExecuteTime": {
     "end_time": "2019-04-16T11:34:25.122124Z",
     "start_time": "2019-04-16T11:34:24.854413Z"
    }
   },
   "outputs": [
    {
     "data": {
      "text/plain": [
       "<Figure size 432x288 with 0 Axes>"
      ]
     },
     "metadata": {},
     "output_type": "display_data"
    },
    {
     "data": {
      "image/png": "[encoded data removed]",
      "text/plain": [
       "<Figure size 1080x288 with 4 Axes>"
      ]
     },
     "metadata": {
      "needs_background": "light"
     },
     "output_type": "display_data"
    }
   ],
   "source": [
    "# heatmap of confusion matrix\n",
    "plt.figure(1)\n",
    "plt.figure(figsize=(15, 4))\n",
    "\n",
    "\n",
    "plt.subplot(121)  # Test confusion matrix\n",
    "cnf_matrix = confusion_matrix(y_test, model_bow.predict(X_test_bow))\n",
    "np.set_printoptions(precision=2)\n",
    "class_names = ['Negative', 'Positive']\n",
    "# Plot non-normalized confusion matrix\n",
    "#plt.figure()\n",
    "plot_confusion_matrix_heatmap(cnf_matrix, classes=class_names, title='Test Set Confusion Matrix');\n",
    "\n",
    "plt.subplot(122) # Train Confusion matrix\n",
    "cnf_matrix = confusion_matrix(y_train, model_bow.predict(X_train_bow))\n",
    "np.set_printoptions(precision=2)\n",
    "class_names = ['Negative', 'Positive']\n",
    "# Plot non-normalized confusion matrix\n",
    "#plt.figure()\n",
    "plot_confusion_matrix_heatmap(cnf_matrix, classes=class_names, title='Train Set Confusion Matrix');\n"
   ]
  },
  {
   "cell_type": "markdown",
   "metadata": {
    "colab_type": "text",
    "id": "9uOjgLypkbBK"
   },
   "source": [
    "**Observation**\n",
    "1. For the BoW vectorizer, we calculated max_depth= 50 and min_samples_split= 500 using GridSearchCV for the DecisionTreeClassifier. \n",
    "2. We got train AUC: 0.9033231564850217 and test AUC: 0.8452604148951903 \n",
    "3. Using the confusion matrix, we can say that our model correctly predicted 20458 positive reviews and 2163 negative reviews.\n",
    "4. The model incorrectly classified 1317 negative reviews and 2394 positive reviews."
   ]
  },
  {
   "cell_type": "markdown",
   "metadata": {
    "colab_type": "text",
    "id": "yYvUA3nK1Kte"
   },
   "source": [
    "### [5.1.1] Top 20 important features from<font color='red'> SET 1</font>"
   ]
  },
  {
   "cell_type": "code",
   "execution_count": 24,
   "metadata": {
    "ExecuteTime": {
     "end_time": "2019-04-16T09:14:34.080220Z",
     "start_time": "2019-04-16T09:14:34.054145Z"
    }
   },
   "outputs": [
    {
     "name": "stdout",
     "output_type": "stream",
     "text": [
      "+--------------------------+------------------+\n",
      "| Coefficient (Importance) |   Feature Name   |\n",
      "+--------------------------+------------------+\n",
      "|   0.08074660036001163    |       not        |\n",
      "|   0.054264591076350455   |      great       |\n",
      "|   0.04414659552886127    |      worst       |\n",
      "|   0.033922039825206335   |   disappointed   |\n",
      "|    0.0337595221175283    |     not buy      |\n",
      "|   0.03004935828669208    |      waste       |\n",
      "|   0.025471753452879588   |     horrible     |\n",
      "|   0.02504340706488353    |    not worth     |\n",
      "|   0.02472941486610792    | not disappointed |\n",
      "|   0.024168343015224455   |      return      |\n",
      "|   0.02297280640602137    |     terrible     |\n",
      "|   0.022686454236523733   |      awful       |\n",
      "|   0.018810697405536203   |       best       |\n",
      "|   0.017497441091217626   |       bad        |\n",
      "|   0.01695800997713052    |    delicious     |\n",
      "|    0.0167923626480178    |       love       |\n",
      "|   0.014768774728228932   |     not good     |\n",
      "|   0.014033097386979507   |  not recommend   |\n",
      "|   0.011366397188260173   |      threw       |\n",
      "|   0.011300390174990299   |       good       |\n",
      "+--------------------------+------------------+\n"
     ]
    }
   ],
   "source": [
    "# get top 20 important features\n",
    "most_informative_feature_for_binary_classification(bow_vectorizer, model_bow)"
   ]
  },
  {
   "cell_type": "markdown",
   "metadata": {},
   "source": [
    "### [5.1.2] Graphviz visualization of Decision Tree on BOW,<font color='red'> SET 1</font>"
   ]
  },
  {
   "cell_type": "code",
   "execution_count": 25,
   "metadata": {
    "ExecuteTime": {
     "end_time": "2019-04-16T09:14:42.485299Z",
     "start_time": "2019-04-16T09:14:42.246410Z"
    }
   },
   "outputs": [],
   "source": [
    "model_bow_viz = DecisionTreeClassifier(max_depth= 3, min_samples_split= 500, random_state= 507)\n",
    "model_bow_viz.fit(X_train_bow,y_train)\n",
    "y_pred = model_bow_viz.predict(X_test_bow)"
   ]
  },
  {
   "cell_type": "code",
   "execution_count": 31,
   "metadata": {
    "ExecuteTime": {
     "end_time": "2019-04-16T09:16:07.891557Z",
     "start_time": "2019-04-16T09:16:07.775138Z"
    }
   },
   "outputs": [
    {
     "data": {
      "image/svg+xml": [
       "<?xml version=\"1.0\" encoding=\"UTF-8\" standalone=\"no\"?>\r\n",
       "<!DOCTYPE svg PUBLIC \"-//W3C//DTD SVG 1.1//EN\"\r\n",
       " \"http://www.w3.org/Graphics/SVG/1.1/DTD/svg11.dtd\">\r\n",
       "<!-- Generated by graphviz version 2.38.0 (20140413.2041)\r\n",
       " -->\r\n",
       "<!-- Title: Tree Pages: 1 -->\r\n",
       "<svg width=\"928pt\" height=\"433pt\"\r\n",
       " viewBox=\"0.00 0.00 927.50 433.00\" xmlns=\"http://www.w3.org/2000/svg\" xmlns:xlink=\"http://www.w3.org/1999/xlink\">\r\n",
       "<g id=\"graph0\" class=\"graph\" transform=\"scale(1 1) rotate(0) translate(4 429)\">\r\n",
       "<title>Tree</title>\r\n",
       "<polygon fill=\"white\" stroke=\"none\" points=\"-4,4 -4,-429 923.5,-429 923.5,4 -4,4\"/>\r\n",
       "<!-- 0 -->\r\n",
       "<g id=\"node1\" class=\"node\"><title>0</title>\r\n",
       "<path fill=\"#399de5\" fill-opacity=\"0.815686\" stroke=\"black\" d=\"M541,-425C541,-425 410,-425 410,-425 404,-425 398,-419 398,-413 398,-413 398,-354 398,-354 398,-348 404,-342 410,-342 410,-342 541,-342 541,-342 547,-342 553,-348 553,-354 553,-354 553,-413 553,-413 553,-419 547,-425 541,-425\"/>\r\n",
       "<text text-anchor=\"start\" x=\"448\" y=\"-409.8\" font-family=\"Helvetica,sans-Serif\" font-size=\"14.00\">not ≤ 0.5</text>\r\n",
       "<text text-anchor=\"start\" x=\"438\" y=\"-394.8\" font-family=\"Helvetica,sans-Serif\" font-size=\"14.00\">gini = 0.264</text>\r\n",
       "<text text-anchor=\"start\" x=\"419.5\" y=\"-379.8\" font-family=\"Helvetica,sans-Serif\" font-size=\"14.00\">samples = 61441</text>\r\n",
       "<text text-anchor=\"start\" x=\"406\" y=\"-364.8\" font-family=\"Helvetica,sans-Serif\" font-size=\"14.00\">value = [9624, 51817]</text>\r\n",
       "<text text-anchor=\"start\" x=\"424\" y=\"-349.8\" font-family=\"Helvetica,sans-Serif\" font-size=\"14.00\">class = negative</text>\r\n",
       "</g>\r\n",
       "<!-- 1 -->\r\n",
       "<g id=\"node2\" class=\"node\"><title>1</title>\r\n",
       "<path fill=\"#399de5\" fill-opacity=\"0.905882\" stroke=\"black\" d=\"M455,-306C455,-306 324,-306 324,-306 318,-306 312,-300 312,-294 312,-294 312,-235 312,-235 312,-229 318,-223 324,-223 324,-223 455,-223 455,-223 461,-223 467,-229 467,-235 467,-235 467,-294 467,-294 467,-300 461,-306 455,-306\"/>\r\n",
       "<text text-anchor=\"start\" x=\"354.5\" y=\"-290.8\" font-family=\"Helvetica,sans-Serif\" font-size=\"14.00\">worst ≤ 0.5</text>\r\n",
       "<text text-anchor=\"start\" x=\"352\" y=\"-275.8\" font-family=\"Helvetica,sans-Serif\" font-size=\"14.00\">gini = 0.157</text>\r\n",
       "<text text-anchor=\"start\" x=\"333.5\" y=\"-260.8\" font-family=\"Helvetica,sans-Serif\" font-size=\"14.00\">samples = 28101</text>\r\n",
       "<text text-anchor=\"start\" x=\"320\" y=\"-245.8\" font-family=\"Helvetica,sans-Serif\" font-size=\"14.00\">value = [2412, 25689]</text>\r\n",
       "<text text-anchor=\"start\" x=\"338\" y=\"-230.8\" font-family=\"Helvetica,sans-Serif\" font-size=\"14.00\">class = negative</text>\r\n",
       "</g>\r\n",
       "<!-- 0&#45;&gt;1 -->\r\n",
       "<g id=\"edge1\" class=\"edge\"><title>0&#45;&gt;1</title>\r\n",
       "<path fill=\"none\" stroke=\"black\" d=\"M445.663,-341.907C439.126,-333.014 432.139,-323.509 425.393,-314.331\"/>\r\n",
       "<polygon fill=\"black\" stroke=\"black\" points=\"428.027,-312.005 419.285,-306.021 422.387,-316.151 428.027,-312.005\"/>\r\n",
       "<text text-anchor=\"middle\" x=\"415.511\" y=\"-327.034\" font-family=\"Helvetica,sans-Serif\" font-size=\"14.00\">True</text>\r\n",
       "</g>\r\n",
       "<!-- 6 -->\r\n",
       "<g id=\"node7\" class=\"node\"><title>6</title>\r\n",
       "<path fill=\"#399de5\" fill-opacity=\"0.725490\" stroke=\"black\" d=\"M628,-306C628,-306 497,-306 497,-306 491,-306 485,-300 485,-294 485,-294 485,-235 485,-235 485,-229 491,-223 497,-223 497,-223 628,-223 628,-223 634,-223 640,-229 640,-235 640,-235 640,-294 640,-294 640,-300 634,-306 628,-306\"/>\r\n",
       "<text text-anchor=\"start\" x=\"528.5\" y=\"-290.8\" font-family=\"Helvetica,sans-Serif\" font-size=\"14.00\">great ≤ 0.5</text>\r\n",
       "<text text-anchor=\"start\" x=\"525\" y=\"-275.8\" font-family=\"Helvetica,sans-Serif\" font-size=\"14.00\">gini = 0.339</text>\r\n",
       "<text text-anchor=\"start\" x=\"506.5\" y=\"-260.8\" font-family=\"Helvetica,sans-Serif\" font-size=\"14.00\">samples = 33340</text>\r\n",
       "<text text-anchor=\"start\" x=\"493\" y=\"-245.8\" font-family=\"Helvetica,sans-Serif\" font-size=\"14.00\">value = [7212, 26128]</text>\r\n",
       "<text text-anchor=\"start\" x=\"511\" y=\"-230.8\" font-family=\"Helvetica,sans-Serif\" font-size=\"14.00\">class = negative</text>\r\n",
       "</g>\r\n",
       "<!-- 0&#45;&gt;6 -->\r\n",
       "<g id=\"edge6\" class=\"edge\"><title>0&#45;&gt;6</title>\r\n",
       "<path fill=\"none\" stroke=\"black\" d=\"M505.684,-341.907C512.365,-332.923 519.509,-323.315 526.399,-314.05\"/>\r\n",
       "<polygon fill=\"black\" stroke=\"black\" points=\"529.211,-316.134 532.369,-306.021 523.593,-311.957 529.211,-316.134\"/>\r\n",
       "<text text-anchor=\"middle\" x=\"536.006\" y=\"-327.055\" font-family=\"Helvetica,sans-Serif\" font-size=\"14.00\">False</text>\r\n",
       "</g>\r\n",
       "<!-- 2 -->\r\n",
       "<g id=\"node3\" class=\"node\"><title>2</title>\r\n",
       "<path fill=\"#399de5\" fill-opacity=\"0.909804\" stroke=\"black\" d=\"M303,-187C303,-187 172,-187 172,-187 166,-187 160,-181 160,-175 160,-175 160,-116 160,-116 160,-110 166,-104 172,-104 172,-104 303,-104 303,-104 309,-104 315,-110 315,-116 315,-116 315,-175 315,-175 315,-181 309,-187 303,-187\"/>\r\n",
       "<text text-anchor=\"start\" x=\"178.5\" y=\"-171.8\" font-family=\"Helvetica,sans-Serif\" font-size=\"14.00\">disappointed ≤ 0.5</text>\r\n",
       "<text text-anchor=\"start\" x=\"200\" y=\"-156.8\" font-family=\"Helvetica,sans-Serif\" font-size=\"14.00\">gini = 0.152</text>\r\n",
       "<text text-anchor=\"start\" x=\"181.5\" y=\"-141.8\" font-family=\"Helvetica,sans-Serif\" font-size=\"14.00\">samples = 28004</text>\r\n",
       "<text text-anchor=\"start\" x=\"168\" y=\"-126.8\" font-family=\"Helvetica,sans-Serif\" font-size=\"14.00\">value = [2329, 25675]</text>\r\n",
       "<text text-anchor=\"start\" x=\"186\" y=\"-111.8\" font-family=\"Helvetica,sans-Serif\" font-size=\"14.00\">class = negative</text>\r\n",
       "</g>\r\n",
       "<!-- 1&#45;&gt;2 -->\r\n",
       "<g id=\"edge2\" class=\"edge\"><title>1&#45;&gt;2</title>\r\n",
       "<path fill=\"none\" stroke=\"black\" d=\"M336.764,-222.907C324.385,-213.379 311.094,-203.148 298.39,-193.37\"/>\r\n",
       "<polygon fill=\"black\" stroke=\"black\" points=\"300.202,-190.347 290.142,-187.021 295.932,-195.894 300.202,-190.347\"/>\r\n",
       "</g>\r\n",
       "<!-- 5 -->\r\n",
       "<g id=\"node6\" class=\"node\"><title>5</title>\r\n",
       "<path fill=\"#e58139\" fill-opacity=\"0.831373\" stroke=\"black\" d=\"M435.5,-179.5C435.5,-179.5 345.5,-179.5 345.5,-179.5 339.5,-179.5 333.5,-173.5 333.5,-167.5 333.5,-167.5 333.5,-123.5 333.5,-123.5 333.5,-117.5 339.5,-111.5 345.5,-111.5 345.5,-111.5 435.5,-111.5 435.5,-111.5 441.5,-111.5 447.5,-117.5 447.5,-123.5 447.5,-123.5 447.5,-167.5 447.5,-167.5 447.5,-173.5 441.5,-179.5 435.5,-179.5\"/>\r\n",
       "<text text-anchor=\"start\" x=\"353\" y=\"-164.3\" font-family=\"Helvetica,sans-Serif\" font-size=\"14.00\">gini = 0.247</text>\r\n",
       "<text text-anchor=\"start\" x=\"347\" y=\"-149.3\" font-family=\"Helvetica,sans-Serif\" font-size=\"14.00\">samples = 97</text>\r\n",
       "<text text-anchor=\"start\" x=\"342\" y=\"-134.3\" font-family=\"Helvetica,sans-Serif\" font-size=\"14.00\">value = [83, 14]</text>\r\n",
       "<text text-anchor=\"start\" x=\"341.5\" y=\"-119.3\" font-family=\"Helvetica,sans-Serif\" font-size=\"14.00\">class = positive</text>\r\n",
       "</g>\r\n",
       "<!-- 1&#45;&gt;5 -->\r\n",
       "<g id=\"edge5\" class=\"edge\"><title>1&#45;&gt;5</title>\r\n",
       "<path fill=\"none\" stroke=\"black\" d=\"M389.847,-222.907C389.938,-212.204 390.037,-200.615 390.13,-189.776\"/>\r\n",
       "<polygon fill=\"black\" stroke=\"black\" points=\"393.631,-189.697 390.217,-179.667 386.631,-189.637 393.631,-189.697\"/>\r\n",
       "</g>\r\n",
       "<!-- 3 -->\r\n",
       "<g id=\"node4\" class=\"node\"><title>3</title>\r\n",
       "<path fill=\"#399de5\" fill-opacity=\"0.913725\" stroke=\"black\" d=\"M143,-68C143,-68 12,-68 12,-68 6,-68 0,-62 0,-56 0,-56 0,-12 0,-12 0,-6 6,-0 12,-0 12,-0 143,-0 143,-0 149,-0 155,-6 155,-12 155,-12 155,-56 155,-56 155,-62 149,-68 143,-68\"/>\r\n",
       "<text text-anchor=\"start\" x=\"40\" y=\"-52.8\" font-family=\"Helvetica,sans-Serif\" font-size=\"14.00\">gini = 0.145</text>\r\n",
       "<text text-anchor=\"start\" x=\"21.5\" y=\"-37.8\" font-family=\"Helvetica,sans-Serif\" font-size=\"14.00\">samples = 27736</text>\r\n",
       "<text text-anchor=\"start\" x=\"8\" y=\"-22.8\" font-family=\"Helvetica,sans-Serif\" font-size=\"14.00\">value = [2186, 25550]</text>\r\n",
       "<text text-anchor=\"start\" x=\"26\" y=\"-7.8\" font-family=\"Helvetica,sans-Serif\" font-size=\"14.00\">class = negative</text>\r\n",
       "</g>\r\n",
       "<!-- 2&#45;&gt;3 -->\r\n",
       "<g id=\"edge3\" class=\"edge\"><title>2&#45;&gt;3</title>\r\n",
       "<path fill=\"none\" stroke=\"black\" d=\"M177.922,-103.726C163.721,-94.0078 148.601,-83.6597 134.519,-74.0222\"/>\r\n",
       "<polygon fill=\"black\" stroke=\"black\" points=\"136.131,-70.8846 125.902,-68.1252 132.178,-76.6614 136.131,-70.8846\"/>\r\n",
       "</g>\r\n",
       "<!-- 4 -->\r\n",
       "<g id=\"node5\" class=\"node\"><title>4</title>\r\n",
       "<path fill=\"#e58139\" fill-opacity=\"0.125490\" stroke=\"black\" d=\"M291.5,-68C291.5,-68 185.5,-68 185.5,-68 179.5,-68 173.5,-62 173.5,-56 173.5,-56 173.5,-12 173.5,-12 173.5,-6 179.5,-0 185.5,-0 185.5,-0 291.5,-0 291.5,-0 297.5,-0 303.5,-6 303.5,-12 303.5,-12 303.5,-56 303.5,-56 303.5,-62 297.5,-68 291.5,-68\"/>\r\n",
       "<text text-anchor=\"start\" x=\"201\" y=\"-52.8\" font-family=\"Helvetica,sans-Serif\" font-size=\"14.00\">gini = 0.498</text>\r\n",
       "<text text-anchor=\"start\" x=\"191\" y=\"-37.8\" font-family=\"Helvetica,sans-Serif\" font-size=\"14.00\">samples = 268</text>\r\n",
       "<text text-anchor=\"start\" x=\"181.5\" y=\"-22.8\" font-family=\"Helvetica,sans-Serif\" font-size=\"14.00\">value = [143, 125]</text>\r\n",
       "<text text-anchor=\"start\" x=\"189.5\" y=\"-7.8\" font-family=\"Helvetica,sans-Serif\" font-size=\"14.00\">class = positive</text>\r\n",
       "</g>\r\n",
       "<!-- 2&#45;&gt;4 -->\r\n",
       "<g id=\"edge4\" class=\"edge\"><title>2&#45;&gt;4</title>\r\n",
       "<path fill=\"none\" stroke=\"black\" d=\"M237.872,-103.726C237.947,-95.5175 238.026,-86.8595 238.102,-78.56\"/>\r\n",
       "<polygon fill=\"black\" stroke=\"black\" points=\"241.604,-78.3312 238.196,-68.2996 234.605,-78.2672 241.604,-78.3312\"/>\r\n",
       "</g>\r\n",
       "<!-- 7 -->\r\n",
       "<g id=\"node8\" class=\"node\"><title>7</title>\r\n",
       "<path fill=\"#399de5\" fill-opacity=\"0.658824\" stroke=\"black\" d=\"M620,-187C620,-187 489,-187 489,-187 483,-187 477,-181 477,-175 477,-175 477,-116 477,-116 477,-110 483,-104 489,-104 489,-104 620,-104 620,-104 626,-104 632,-110 632,-116 632,-116 632,-175 632,-175 632,-181 626,-187 620,-187\"/>\r\n",
       "<text text-anchor=\"start\" x=\"513.5\" y=\"-171.8\" font-family=\"Helvetica,sans-Serif\" font-size=\"14.00\">not buy ≤ 0.5</text>\r\n",
       "<text text-anchor=\"start\" x=\"517\" y=\"-156.8\" font-family=\"Helvetica,sans-Serif\" font-size=\"14.00\">gini = 0.379</text>\r\n",
       "<text text-anchor=\"start\" x=\"498.5\" y=\"-141.8\" font-family=\"Helvetica,sans-Serif\" font-size=\"14.00\">samples = 25503</text>\r\n",
       "<text text-anchor=\"start\" x=\"485\" y=\"-126.8\" font-family=\"Helvetica,sans-Serif\" font-size=\"14.00\">value = [6489, 19014]</text>\r\n",
       "<text text-anchor=\"start\" x=\"503\" y=\"-111.8\" font-family=\"Helvetica,sans-Serif\" font-size=\"14.00\">class = negative</text>\r\n",
       "</g>\r\n",
       "<!-- 6&#45;&gt;7 -->\r\n",
       "<g id=\"edge7\" class=\"edge\"><title>6&#45;&gt;7</title>\r\n",
       "<path fill=\"none\" stroke=\"black\" d=\"M559.724,-222.907C559.154,-214.558 558.546,-205.671 557.954,-197.02\"/>\r\n",
       "<polygon fill=\"black\" stroke=\"black\" points=\"561.445,-196.759 557.271,-187.021 554.461,-197.236 561.445,-196.759\"/>\r\n",
       "</g>\r\n",
       "<!-- 10 -->\r\n",
       "<g id=\"node11\" class=\"node\"><title>10</title>\r\n",
       "<path fill=\"#399de5\" fill-opacity=\"0.898039\" stroke=\"black\" d=\"M776.5,-187C776.5,-187 662.5,-187 662.5,-187 656.5,-187 650.5,-181 650.5,-175 650.5,-175 650.5,-116 650.5,-116 650.5,-110 656.5,-104 662.5,-104 662.5,-104 776.5,-104 776.5,-104 782.5,-104 788.5,-110 788.5,-116 788.5,-116 788.5,-175 788.5,-175 788.5,-181 782.5,-187 776.5,-187\"/>\r\n",
       "<text text-anchor=\"start\" x=\"660\" y=\"-171.8\" font-family=\"Helvetica,sans-Serif\" font-size=\"14.00\">waste money ≤ 0.5</text>\r\n",
       "<text text-anchor=\"start\" x=\"682\" y=\"-156.8\" font-family=\"Helvetica,sans-Serif\" font-size=\"14.00\">gini = 0.167</text>\r\n",
       "<text text-anchor=\"start\" x=\"668\" y=\"-141.8\" font-family=\"Helvetica,sans-Serif\" font-size=\"14.00\">samples = 7837</text>\r\n",
       "<text text-anchor=\"start\" x=\"658.5\" y=\"-126.8\" font-family=\"Helvetica,sans-Serif\" font-size=\"14.00\">value = [723, 7114]</text>\r\n",
       "<text text-anchor=\"start\" x=\"668\" y=\"-111.8\" font-family=\"Helvetica,sans-Serif\" font-size=\"14.00\">class = negative</text>\r\n",
       "</g>\r\n",
       "<!-- 6&#45;&gt;10 -->\r\n",
       "<g id=\"edge10\" class=\"edge\"><title>6&#45;&gt;10</title>\r\n",
       "<path fill=\"none\" stroke=\"black\" d=\"M616.97,-222.907C629.879,-213.288 643.746,-202.953 656.981,-193.09\"/>\r\n",
       "<polygon fill=\"black\" stroke=\"black\" points=\"659.199,-195.803 665.126,-187.021 655.016,-190.19 659.199,-195.803\"/>\r\n",
       "</g>\r\n",
       "<!-- 8 -->\r\n",
       "<g id=\"node9\" class=\"node\"><title>8</title>\r\n",
       "<path fill=\"#399de5\" fill-opacity=\"0.678431\" stroke=\"black\" d=\"M469,-68C469,-68 338,-68 338,-68 332,-68 326,-62 326,-56 326,-56 326,-12 326,-12 326,-6 332,-0 338,-0 338,-0 469,-0 469,-0 475,-0 481,-6 481,-12 481,-12 481,-56 481,-56 481,-62 475,-68 469,-68\"/>\r\n",
       "<text text-anchor=\"start\" x=\"366\" y=\"-52.8\" font-family=\"Helvetica,sans-Serif\" font-size=\"14.00\">gini = 0.368</text>\r\n",
       "<text text-anchor=\"start\" x=\"347.5\" y=\"-37.8\" font-family=\"Helvetica,sans-Serif\" font-size=\"14.00\">samples = 24814</text>\r\n",
       "<text text-anchor=\"start\" x=\"334\" y=\"-22.8\" font-family=\"Helvetica,sans-Serif\" font-size=\"14.00\">value = [6041, 18773]</text>\r\n",
       "<text text-anchor=\"start\" x=\"352\" y=\"-7.8\" font-family=\"Helvetica,sans-Serif\" font-size=\"14.00\">class = negative</text>\r\n",
       "</g>\r\n",
       "<!-- 7&#45;&gt;8 -->\r\n",
       "<g id=\"edge8\" class=\"edge\"><title>7&#45;&gt;8</title>\r\n",
       "<path fill=\"none\" stroke=\"black\" d=\"M498.273,-103.726C484.941,-94.0582 470.749,-83.767 457.518,-74.172\"/>\r\n",
       "<polygon fill=\"black\" stroke=\"black\" points=\"459.57,-71.3368 449.42,-68.2996 455.461,-77.0036 459.57,-71.3368\"/>\r\n",
       "</g>\r\n",
       "<!-- 9 -->\r\n",
       "<g id=\"node10\" class=\"node\"><title>9</title>\r\n",
       "<path fill=\"#e58139\" fill-opacity=\"0.462745\" stroke=\"black\" d=\"M617.5,-68C617.5,-68 511.5,-68 511.5,-68 505.5,-68 499.5,-62 499.5,-56 499.5,-56 499.5,-12 499.5,-12 499.5,-6 505.5,-0 511.5,-0 511.5,-0 617.5,-0 617.5,-0 623.5,-0 629.5,-6 629.5,-12 629.5,-12 629.5,-56 629.5,-56 629.5,-62 623.5,-68 617.5,-68\"/>\r\n",
       "<text text-anchor=\"start\" x=\"527\" y=\"-52.8\" font-family=\"Helvetica,sans-Serif\" font-size=\"14.00\">gini = 0.455</text>\r\n",
       "<text text-anchor=\"start\" x=\"517\" y=\"-37.8\" font-family=\"Helvetica,sans-Serif\" font-size=\"14.00\">samples = 689</text>\r\n",
       "<text text-anchor=\"start\" x=\"507.5\" y=\"-22.8\" font-family=\"Helvetica,sans-Serif\" font-size=\"14.00\">value = [448, 241]</text>\r\n",
       "<text text-anchor=\"start\" x=\"515.5\" y=\"-7.8\" font-family=\"Helvetica,sans-Serif\" font-size=\"14.00\">class = positive</text>\r\n",
       "</g>\r\n",
       "<!-- 7&#45;&gt;9 -->\r\n",
       "<g id=\"edge9\" class=\"edge\"><title>7&#45;&gt;9</title>\r\n",
       "<path fill=\"none\" stroke=\"black\" d=\"M558.224,-103.726C558.982,-95.4263 559.782,-86.6671 560.547,-78.2834\"/>\r\n",
       "<polygon fill=\"black\" stroke=\"black\" points=\"564.035,-78.5765 561.459,-68.2996 557.064,-77.9398 564.035,-78.5765\"/>\r\n",
       "</g>\r\n",
       "<!-- 11 -->\r\n",
       "<g id=\"node12\" class=\"node\"><title>11</title>\r\n",
       "<path fill=\"#399de5\" fill-opacity=\"0.901961\" stroke=\"black\" d=\"M775.5,-68C775.5,-68 661.5,-68 661.5,-68 655.5,-68 649.5,-62 649.5,-56 649.5,-56 649.5,-12 649.5,-12 649.5,-6 655.5,-0 661.5,-0 661.5,-0 775.5,-0 775.5,-0 781.5,-0 787.5,-6 787.5,-12 787.5,-12 787.5,-56 787.5,-56 787.5,-62 781.5,-68 775.5,-68\"/>\r\n",
       "<text text-anchor=\"start\" x=\"681\" y=\"-52.8\" font-family=\"Helvetica,sans-Serif\" font-size=\"14.00\">gini = 0.164</text>\r\n",
       "<text text-anchor=\"start\" x=\"667\" y=\"-37.8\" font-family=\"Helvetica,sans-Serif\" font-size=\"14.00\">samples = 7814</text>\r\n",
       "<text text-anchor=\"start\" x=\"657.5\" y=\"-22.8\" font-family=\"Helvetica,sans-Serif\" font-size=\"14.00\">value = [704, 7110]</text>\r\n",
       "<text text-anchor=\"start\" x=\"667\" y=\"-7.8\" font-family=\"Helvetica,sans-Serif\" font-size=\"14.00\">class = negative</text>\r\n",
       "</g>\r\n",
       "<!-- 10&#45;&gt;11 -->\r\n",
       "<g id=\"edge11\" class=\"edge\"><title>10&#45;&gt;11</title>\r\n",
       "<path fill=\"none\" stroke=\"black\" d=\"M719.128,-103.726C719.053,-95.5175 718.974,-86.8595 718.898,-78.56\"/>\r\n",
       "<polygon fill=\"black\" stroke=\"black\" points=\"722.395,-78.2672 718.804,-68.2996 715.396,-78.3312 722.395,-78.2672\"/>\r\n",
       "</g>\r\n",
       "<!-- 12 -->\r\n",
       "<g id=\"node13\" class=\"node\"><title>12</title>\r\n",
       "<path fill=\"#e58139\" fill-opacity=\"0.788235\" stroke=\"black\" d=\"M907.5,-68C907.5,-68 817.5,-68 817.5,-68 811.5,-68 805.5,-62 805.5,-56 805.5,-56 805.5,-12 805.5,-12 805.5,-6 811.5,-0 817.5,-0 817.5,-0 907.5,-0 907.5,-0 913.5,-0 919.5,-6 919.5,-12 919.5,-12 919.5,-56 919.5,-56 919.5,-62 913.5,-68 907.5,-68\"/>\r\n",
       "<text text-anchor=\"start\" x=\"825\" y=\"-52.8\" font-family=\"Helvetica,sans-Serif\" font-size=\"14.00\">gini = 0.287</text>\r\n",
       "<text text-anchor=\"start\" x=\"819\" y=\"-37.8\" font-family=\"Helvetica,sans-Serif\" font-size=\"14.00\">samples = 23</text>\r\n",
       "<text text-anchor=\"start\" x=\"818\" y=\"-22.8\" font-family=\"Helvetica,sans-Serif\" font-size=\"14.00\">value = [19, 4]</text>\r\n",
       "<text text-anchor=\"start\" x=\"813.5\" y=\"-7.8\" font-family=\"Helvetica,sans-Serif\" font-size=\"14.00\">class = positive</text>\r\n",
       "</g>\r\n",
       "<!-- 10&#45;&gt;12 -->\r\n",
       "<g id=\"edge12\" class=\"edge\"><title>10&#45;&gt;12</title>\r\n",
       "<path fill=\"none\" stroke=\"black\" d=\"M772.748,-103.726C785.255,-94.1494 798.56,-83.9611 810.989,-74.4438\"/>\r\n",
       "<polygon fill=\"black\" stroke=\"black\" points=\"813.201,-77.1582 819.013,-68.2996 808.945,-71.6004 813.201,-77.1582\"/>\r\n",
       "</g>\r\n",
       "</g>\r\n",
       "</svg>\r\n"
      ],
      "text/plain": [
       "<graphviz.files.Source at 0x1e7a5405e48>"
      ]
     },
     "execution_count": 31,
     "metadata": {},
     "output_type": "execute_result"
    }
   ],
   "source": [
    "dt = plot_decision_tree(bow_vectorizer, model_bow_viz)\n",
    "dt"
   ]
  },
  {
   "cell_type": "markdown",
   "metadata": {
    "colab_type": "text",
    "id": "X-8P29d-fDrs"
   },
   "source": [
    "**Feature Engineering** Let us perform FE to see if we can further improve the model. Here, we will append length of reviews as another feature."
   ]
  },
  {
   "cell_type": "code",
   "execution_count": 17,
   "metadata": {
    "ExecuteTime": {
     "end_time": "2019-04-22T04:15:15.630198Z",
     "start_time": "2019-04-22T04:15:15.628193Z"
    },
    "colab": {},
    "colab_type": "code",
    "id": "1LGZFXc7fDrt"
   },
   "outputs": [],
   "source": [
    "def get_text_length(x):\n",
    "    \"\"\"\n",
    "     This function takes in a array and returns the length of the elements in the array.\n",
    "    \"\"\"\n",
    "    return np.array([len(t) for t in x]).reshape(-1, 1)"
   ]
  },
  {
   "cell_type": "code",
   "execution_count": 18,
   "metadata": {
    "ExecuteTime": {
     "end_time": "2019-04-22T04:15:16.398861Z",
     "start_time": "2019-04-22T04:15:16.378805Z"
    },
    "colab": {},
    "colab_type": "code",
    "id": "fIkPN6qafDrw"
   },
   "outputs": [],
   "source": [
    "rev_len_X_train = get_text_length(X_train)\n",
    "rev_len_X_test = get_text_length(X_test)"
   ]
  },
  {
   "cell_type": "code",
   "execution_count": 19,
   "metadata": {
    "ExecuteTime": {
     "end_time": "2019-04-22T04:15:24.819296Z",
     "start_time": "2019-04-22T04:15:17.035337Z"
    },
    "colab": {
     "base_uri": "https://localhost:8080/",
     "height": 119
    },
    "colab_type": "code",
    "id": "EtWZ4-pCfDr0",
    "outputId": "af93dda4-fb4a-4c50-dbfd-4fbc899e5ac0",
    "scrolled": true
   },
   "outputs": [
    {
     "data": {
      "text/plain": [
       "CountVectorizer(analyzer='word', binary=False, decode_error='strict',\n",
       "        dtype=<class 'numpy.int64'>, encoding='utf-8', input='content',\n",
       "        lowercase=True, max_df=1.0, max_features=10000, min_df=10,\n",
       "        ngram_range=(1, 2), preprocessor=None, stop_words=None,\n",
       "        strip_accents=None, token_pattern='(?u)\\\\b\\\\w\\\\w+\\\\b',\n",
       "        tokenizer=None, vocabulary=None)"
      ]
     },
     "execution_count": 19,
     "metadata": {},
     "output_type": "execute_result"
    }
   ],
   "source": [
    "from sklearn.feature_extraction.text import CountVectorizer\n",
    "bow_vectorizer_fe = CountVectorizer(ngram_range=(1,2), min_df=10, max_features=10000)\n",
    "bow_vectorizer_fe.fit(X_train) # fit has to happen only on train data"
   ]
  },
  {
   "cell_type": "code",
   "execution_count": 20,
   "metadata": {
    "ExecuteTime": {
     "end_time": "2019-04-22T04:15:29.647604Z",
     "start_time": "2019-04-22T04:15:24.946653Z"
    },
    "colab": {
     "base_uri": "https://localhost:8080/",
     "height": 85
    },
    "colab_type": "code",
    "id": "T-YoUA_MfDr7",
    "outputId": "508076b8-4b4b-4370-d4ad-be24ae617723"
   },
   "outputs": [
    {
     "name": "stdout",
     "output_type": "stream",
     "text": [
      "After vectorizations\n",
      "(61441, 10000) (61441,)\n",
      "(26332, 10000) (26332,)\n",
      "====================================================================================================\n"
     ]
    }
   ],
   "source": [
    "# we use the fitted CountVectorizer to convert the text to vector\n",
    "X_train_bow = bow_vectorizer_fe.transform(X_train)\n",
    "X_test_bow = bow_vectorizer_fe.transform(X_test)\n",
    "\n",
    "print(\"After vectorizations\")\n",
    "print(X_train_bow.shape, y_train.shape)\n",
    "print(X_test_bow.shape, y_test.shape)\n",
    "print(\"=\"*100)"
   ]
  },
  {
   "cell_type": "markdown",
   "metadata": {
    "colab_type": "text",
    "id": "AbT5iTYBfDsF"
   },
   "source": [
    "**Standardize the data:** Not standardizing data as we are not dealing with distances."
   ]
  },
  {
   "cell_type": "code",
   "execution_count": null,
   "metadata": {
    "ExecuteTime": {
     "end_time": "2019-04-15T08:38:08.981408Z",
     "start_time": "2019-04-15T08:38:08.833011Z"
    },
    "colab": {
     "base_uri": "https://localhost:8080/",
     "height": 51
    },
    "colab_type": "code",
    "id": "TSPPavxnfDsK",
    "outputId": "a67446a0-8007-454d-8a38-f1da3ad53f55"
   },
   "outputs": [],
   "source": [
    "# We will set the attribute with_mean = False, as StandardScaler does not work on sparse matrix\n",
    "# when attempted on sparse matrices, because centering them entails building a dense matrix which in common use cases\n",
    "# is likely to be too large to fit in memory.  ---> sklearn documentation\n",
    "\n",
    "# from sklearn.preprocessing import StandardScaler\n",
    "# X_train_bow=StandardScaler(with_mean=False).fit_transform(X_train_bow)\n",
    "# X_test_bow=StandardScaler(with_mean=False).fit_transform(X_test_bow)\n",
    "\n",
    "# print(X_train_bow.shape, y_train.shape) \n",
    "\n",
    "# print(X_test_bow.shape, y_test.shape) "
   ]
  },
  {
   "cell_type": "code",
   "execution_count": 21,
   "metadata": {
    "ExecuteTime": {
     "end_time": "2019-04-22T04:19:02.541557Z",
     "start_time": "2019-04-22T04:19:02.536545Z"
    },
    "colab": {
     "base_uri": "https://localhost:8080/",
     "height": 34
    },
    "colab_type": "code",
    "id": "SLyVDZdDfDsQ",
    "outputId": "fdddd8df-7a4d-4c45-aa0c-b099e8eb00cc"
   },
   "outputs": [
    {
     "data": {
      "text/plain": [
       "numpy.ndarray"
      ]
     },
     "execution_count": 21,
     "metadata": {},
     "output_type": "execute_result"
    }
   ],
   "source": [
    "type(rev_len_X_train)\n"
   ]
  },
  {
   "cell_type": "code",
   "execution_count": 22,
   "metadata": {
    "ExecuteTime": {
     "end_time": "2019-04-22T04:19:03.381352Z",
     "start_time": "2019-04-22T04:19:03.377342Z"
    },
    "colab": {
     "base_uri": "https://localhost:8080/",
     "height": 34
    },
    "colab_type": "code",
    "id": "5UzzWaPhfDsW",
    "outputId": "f2cbd5f6-a49b-4ab6-a4e0-6440e53afe5d"
   },
   "outputs": [
    {
     "data": {
      "text/plain": [
       "scipy.sparse.csr.csr_matrix"
      ]
     },
     "execution_count": 22,
     "metadata": {},
     "output_type": "execute_result"
    }
   ],
   "source": [
    "type(X_train_bow)"
   ]
  },
  {
   "cell_type": "code",
   "execution_count": 23,
   "metadata": {
    "ExecuteTime": {
     "end_time": "2019-04-22T04:19:04.855891Z",
     "start_time": "2019-04-22T04:19:04.761533Z"
    },
    "colab": {},
    "colab_type": "code",
    "id": "HrvLOfmCfDsf"
   },
   "outputs": [],
   "source": [
    "from scipy.sparse import hstack\n",
    "# Here we append the sparse matrix and the dense array that contains the length of the text passed to it\n",
    "X_train_bow_fe = hstack((X_train_bow, np.array(rev_len_X_train)))\n",
    "X_test_bow_fe = hstack((X_test_bow, np.array(rev_len_X_test)))"
   ]
  },
  {
   "cell_type": "code",
   "execution_count": 24,
   "metadata": {
    "ExecuteTime": {
     "end_time": "2019-04-22T04:29:17.307496Z",
     "start_time": "2019-04-22T04:19:08.209584Z"
    },
    "colab": {
     "base_uri": "https://localhost:8080/",
     "height": 604
    },
    "colab_type": "code",
    "id": "C8QcYhgnfDsk",
    "outputId": "21f3cc00-5e71-4a3e-f192-86c0fa05fff7"
   },
   "outputs": [
    {
     "name": "stdout",
     "output_type": "stream",
     "text": [
      "+---------------+--------------+-----------------------------------------------+\n",
      "| Mean CV Score | Std CV Score |                     Param                     |\n",
      "+---------------+--------------+-----------------------------------------------+\n",
      "|     0.614     |   0.02453    |    {'max_depth': 1, 'min_samples_split': 5}   |\n",
      "|     0.614     |   0.02453    |   {'max_depth': 1, 'min_samples_split': 10}   |\n",
      "|     0.614     |   0.02453    |   {'max_depth': 1, 'min_samples_split': 100}  |\n",
      "|     0.614     |   0.02453    |   {'max_depth': 1, 'min_samples_split': 500}  |\n",
      "|     0.698     |   0.01642    |    {'max_depth': 5, 'min_samples_split': 5}   |\n",
      "|     0.698     |   0.01643    |   {'max_depth': 5, 'min_samples_split': 10}   |\n",
      "|     0.698     |   0.01638    |   {'max_depth': 5, 'min_samples_split': 100}  |\n",
      "|     0.699     |   0.01619    |   {'max_depth': 5, 'min_samples_split': 500}  |\n",
      "|     0.725     |   0.04647    |   {'max_depth': 10, 'min_samples_split': 5}   |\n",
      "|     0.727     |   0.04583    |   {'max_depth': 10, 'min_samples_split': 10}  |\n",
      "|     0.735     |   0.04544    |  {'max_depth': 10, 'min_samples_split': 100}  |\n",
      "|     0.735     |   0.04171    |  {'max_depth': 10, 'min_samples_split': 500}  |\n",
      "|     0.718     |   0.02261    |   {'max_depth': 50, 'min_samples_split': 5}   |\n",
      "|     0.734     |   0.01832    |   {'max_depth': 50, 'min_samples_split': 10}  |\n",
      "|     0.795     |   0.00641    |  {'max_depth': 50, 'min_samples_split': 100}  |\n",
      "|     0.822     |   0.01636    |  {'max_depth': 50, 'min_samples_split': 500}  |\n",
      "|     0.711     |   0.04512    |   {'max_depth': 100, 'min_samples_split': 5}  |\n",
      "|     0.727     |   0.04127    |  {'max_depth': 100, 'min_samples_split': 10}  |\n",
      "|     0.786     |   0.04429    |  {'max_depth': 100, 'min_samples_split': 100} |\n",
      "|     0.814     |   0.03433    |  {'max_depth': 100, 'min_samples_split': 500} |\n",
      "|     0.705     |   0.01765    |   {'max_depth': 500, 'min_samples_split': 5}  |\n",
      "|     0.717     |   0.02053    |  {'max_depth': 500, 'min_samples_split': 10}  |\n",
      "|     0.759     |   0.03384    |  {'max_depth': 500, 'min_samples_split': 100} |\n",
      "|     0.789     |   0.02566    |  {'max_depth': 500, 'min_samples_split': 500} |\n",
      "|     0.705     |   0.01765    |  {'max_depth': 1000, 'min_samples_split': 5}  |\n",
      "|     0.717     |   0.02053    |  {'max_depth': 1000, 'min_samples_split': 10} |\n",
      "|     0.759     |   0.03384    | {'max_depth': 1000, 'min_samples_split': 100} |\n",
      "|     0.789     |   0.02566    | {'max_depth': 1000, 'min_samples_split': 500} |\n",
      "+---------------+--------------+-----------------------------------------------+\n",
      "\n",
      "The best estimator:DecisionTreeClassifier(class_weight=None, criterion='gini', max_depth=50,\n",
      "            max_features=None, max_leaf_nodes=None,\n",
      "            min_impurity_decrease=0.0, min_impurity_split=None,\n",
      "            min_samples_leaf=1, min_samples_split=500,\n",
      "            min_weight_fraction_leaf=0.0, presort=False, random_state=507,\n",
      "            splitter='best')\n",
      "\n",
      "The best score is:0.8222967023176474\n",
      "The best value of hyperparameters are:{'max_depth': 50, 'min_samples_split': 500}\n",
      "Mean Score: 0.8468831968178554\n"
     ]
    },
    {
     "data": {
      "text/plain": [
       "<Figure size 432x288 with 0 Axes>"
      ]
     },
     "metadata": {},
     "output_type": "display_data"
    },
    {
     "data": {
      "image/png": "[encoded data removed]",
      "text/plain": [
       "<Figure size 1080x288 with 4 Axes>"
      ]
     },
     "metadata": {
      "needs_background": "light"
     },
     "output_type": "display_data"
    }
   ],
   "source": [
    "# Get the best hyperparameter using GridSearchCV with penalty l1 and cv = 5\n",
    "get_best_hyperparameters(bow_vectorizer_fe, X_train_bow_fe, X_test_bow_fe, y_train, y_test)"
   ]
  },
  {
   "cell_type": "code",
   "execution_count": 90,
   "metadata": {
    "ExecuteTime": {
     "end_time": "2019-04-18T04:19:59.156293Z",
     "start_time": "2019-04-18T04:19:51.357686Z"
    },
    "colab": {},
    "colab_type": "code",
    "id": "ndC4nhL-fDsr"
   },
   "outputs": [],
   "source": [
    "model_bow_fe = DecisionTreeClassifier(max_depth= 50,min_samples_split= 500, random_state= 507)\n",
    "model_bow_fe.fit(X_train_bow_fe,y_train)\n",
    "y_pred = model_bow_fe.predict(X_test_bow_fe)"
   ]
  },
  {
   "cell_type": "code",
   "execution_count": 91,
   "metadata": {
    "ExecuteTime": {
     "end_time": "2019-04-18T04:19:59.803523Z",
     "start_time": "2019-04-18T04:19:59.628413Z"
    },
    "colab": {
     "base_uri": "https://localhost:8080/",
     "height": 328
    },
    "colab_type": "code",
    "id": "7sEj5ik-fDsy",
    "outputId": "e1b3c308-8537-4c78-b2df-103b77735ec2"
   },
   "outputs": [
    {
     "data": {
      "image/png": "[encoded data removed]",
      "text/plain": [
       "<Figure size 432x288 with 1 Axes>"
      ]
     },
     "metadata": {
      "needs_background": "light"
     },
     "output_type": "display_data"
    },
    {
     "name": "stdout",
     "output_type": "stream",
     "text": [
      "train AUC: 0.9036868196040189\n",
      "test AUC: 0.8468831968178554\n"
     ]
    }
   ],
   "source": [
    "# AUC-ROC plot\n",
    "auc_train_bow_fe, auc_test_bow_fe = plot_auc(model_bow_fe, X_train_bow_fe, X_test_bow_fe)"
   ]
  },
  {
   "cell_type": "code",
   "execution_count": 92,
   "metadata": {
    "ExecuteTime": {
     "end_time": "2019-04-18T04:20:00.425142Z",
     "start_time": "2019-04-18T04:20:00.274743Z"
    },
    "colab": {
     "base_uri": "https://localhost:8080/",
     "height": 136
    },
    "colab_type": "code",
    "id": "onp3FYWyfDs5",
    "outputId": "e5a44443-64c2-4217-b740-26aea6169596"
   },
   "outputs": [
    {
     "name": "stdout",
     "output_type": "stream",
     "text": [
      "*****Train confusion matrix*****\n",
      "[[ 5235  4389]\n",
      " [ 2254 49563]]\n",
      "\n",
      "*****Test confusion matrix*****\n",
      "[[ 2165  2392]\n",
      " [ 1286 20489]]\n"
     ]
    }
   ],
   "source": [
    "# Confusion Matrix\n",
    "print_confusion_matrix(model_bow_fe, X_train_bow_fe, X_test_bow_fe)"
   ]
  },
  {
   "cell_type": "code",
   "execution_count": 93,
   "metadata": {
    "ExecuteTime": {
     "end_time": "2019-04-18T04:20:03.181037Z",
     "start_time": "2019-04-18T04:20:02.851184Z"
    },
    "colab": {
     "base_uri": "https://localhost:8080/",
     "height": 297
    },
    "colab_type": "code",
    "id": "TKfeX1xXfDtB",
    "outputId": "64724fd9-c97e-4f5a-e5bc-e5a0eab5ff59"
   },
   "outputs": [
    {
     "data": {
      "text/plain": [
       "<Figure size 432x288 with 0 Axes>"
      ]
     },
     "metadata": {},
     "output_type": "display_data"
    },
    {
     "data": {
      "image/png": "[encoded data removed]",
      "text/plain": [
       "<Figure size 1080x288 with 4 Axes>"
      ]
     },
     "metadata": {
      "needs_background": "light"
     },
     "output_type": "display_data"
    }
   ],
   "source": [
    "# Confustion Matrix heatmap\n",
    "plt.figure(1)\n",
    "plt.figure(figsize=(15, 4))\n",
    "\n",
    "\n",
    "plt.subplot(121)  # Test confusion matrix\n",
    "cnf_matrix = confusion_matrix(y_test, model_bow_fe.predict(X_test_bow_fe))\n",
    "np.set_printoptions(precision=2)\n",
    "class_names = ['Negative', 'Positive']\n",
    "# Plot non-normalized confusion matrix\n",
    "#plt.figure()\n",
    "plot_confusion_matrix_heatmap(cnf_matrix, classes=class_names, title='Test Set Confusion Matrix');\n",
    "\n",
    "plt.subplot(122) # Train Confusion matrix\n",
    "cnf_matrix = confusion_matrix(y_train, model_bow_fe.predict(X_train_bow_fe))\n",
    "np.set_printoptions(precision=2)\n",
    "class_names = ['Negative', 'Positive']\n",
    "# Plot non-normalized confusion matrix\n",
    "#plt.figure()\n",
    "plot_confusion_matrix_heatmap(cnf_matrix, classes=class_names, title='Train Set Confusion Matrix');"
   ]
  },
  {
   "cell_type": "markdown",
   "metadata": {
    "colab_type": "text",
    "id": "c6KXXYiXfDtF"
   },
   "source": [
    "**Observation**\n",
    "1. For this BoW vectorizer, we performed feature engineering and calculated max_depth= 50 and min_samples_split= 500 using GridSearchCV for the DecisionTreeClassifier. \n",
    "2. We got train AUC: 0.9036868196040189 and test AUC: 0.8468831968178554\n",
    "3. Using the confusion matrix, we can say that our model correctly predicted 20489 positive reviews and 2165 negative reviews.\n",
    "4. The model incorrectly classified 1286 negative reviews and 2392 positive reviews.\n",
    "5. **Doing Feature Engineering has made the model slightly perform better than the model without feature engineering.**\n"
   ]
  },
  {
   "cell_type": "markdown",
   "metadata": {
    "_uuid": "3bc166f7cfd22ecb52ea1e430f88bc1c11a94f94",
    "colab_type": "text",
    "id": "R1kZLz2b1Kwr"
   },
   "source": [
    "## [4.2] Bi-Grams and n-Grams."
   ]
  },
  {
   "cell_type": "code",
   "execution_count": null,
   "metadata": {
    "ExecuteTime": {
     "start_time": "2019-03-20T10:32:16.047Z"
    },
    "_uuid": "c3c070a040e1d5a1b0e889d8df933259fba9841f",
    "colab": {},
    "colab_type": "code",
    "id": "AAo6WKox1Kws"
   },
   "outputs": [],
   "source": [
    "#bi-gram, tri-gram and n-gram\n",
    "\n",
    "#removing stop words like \"not\" should be avoided before building n-grams\n",
    "# count_vect = CountVectorizer(ngram_range=(1,2))\n",
    "# please do read the CountVectorizer documentation http://scikit-learn.org/stable/modules/generated/sklearn.feature_extraction.text.CountVectorizer.html\n",
    "\n",
    "# you can choose these numebrs min_df=10, max_features=5000, of your choice\n",
    "#count_vect = CountVectorizer(ngram_range=(1,2), min_df=10, max_features=5000)\n",
    "#final_bigram_counts = count_vect.fit_transform(preprocessed_reviews)\n",
    "#print(\"the type of count vectorizer \",type(final_bigram_counts))\n",
    "#print(\"the shape of out text BOW vectorizer \",final_bigram_counts.get_shape())\n",
    "#print(\"the number of unique words including both unigrams and bigrams \", final_bigram_counts.get_shape()[1])"
   ]
  },
  {
   "cell_type": "markdown",
   "metadata": {
    "_uuid": "3b3048ac927c6351e73f3b1f354c5f59dc53cc73",
    "colab_type": "text",
    "id": "NOdeFIOf1Kwv"
   },
   "source": [
    "## [4.3] TF-IDF"
   ]
  },
  {
   "cell_type": "code",
   "execution_count": 25,
   "metadata": {
    "ExecuteTime": {
     "end_time": "2019-04-22T04:29:31.851458Z",
     "start_time": "2019-04-22T04:29:17.440821Z"
    },
    "_uuid": "41aa60ec9d9ca36442c5f6298ff6c3191c9f861c",
    "colab": {
     "base_uri": "https://localhost:8080/",
     "height": 85
    },
    "colab_type": "code",
    "id": "LHdOu8741Kww",
    "outputId": "0c3d6f5a-d0bf-4841-d1a6-ccd20716d2e6"
   },
   "outputs": [
    {
     "name": "stdout",
     "output_type": "stream",
     "text": [
      "After vectorizations\n",
      "(61441, 36173) (61441,)\n",
      "(26332, 36173) (26332,)\n",
      "====================================================================================================\n"
     ]
    }
   ],
   "source": [
    "# ss\n",
    "from sklearn.feature_extraction.text import TfidfVectorizer\n",
    "tf_idf_vect = TfidfVectorizer(ngram_range=(1,2), min_df=10)\n",
    "tf_idf_vect.fit(X_train) # fit has to happen only on train data\n",
    "\n",
    "# we use the fitted CountVectorizer to convert the text to vector\n",
    "X_train_tfidf = tf_idf_vect.transform(X_train)\n",
    "#X_cv_tfidf = tf_idf_vect.transform(X_cv)\n",
    "X_test_tfidf = tf_idf_vect.transform(X_test)\n",
    "\n",
    "print(\"After vectorizations\")\n",
    "print(X_train_tfidf.shape, y_train.shape)\n",
    "#print(X_cv_tfidf.shape, y_cv.shape)\n",
    "print(X_test_tfidf.shape, y_test.shape)\n",
    "print(\"=\"*100)"
   ]
  },
  {
   "cell_type": "code",
   "execution_count": 26,
   "metadata": {
    "ExecuteTime": {
     "end_time": "2019-04-22T04:29:32.152259Z",
     "start_time": "2019-04-22T04:29:32.133208Z"
    },
    "_uuid": "b0bf672b68a7876aba0ea412c16fe74e5320ea1e",
    "colab": {
     "base_uri": "https://localhost:8080/",
     "height": 68
    },
    "colab_type": "code",
    "id": "IMy3SC4S1Kw0",
    "outputId": "0800bc27-9e7a-4633-c639-13fa42d2545b"
   },
   "outputs": [
    {
     "name": "stdout",
     "output_type": "stream",
     "text": [
      "the type of count vectorizer  <class 'scipy.sparse.csr.csr_matrix'>\n",
      "the shape of cut text TFIDF vectorizer  (61441, 36173)\n",
      "the number of unique words:  36173\n"
     ]
    }
   ],
   "source": [
    "print(\"the type of count vectorizer \",type(X_train_tfidf))\n",
    "print(\"the shape of cut text TFIDF vectorizer \",X_train_tfidf.get_shape())\n",
    "print(\"the number of unique words: \", X_train_tfidf.get_shape()[1])"
   ]
  },
  {
   "cell_type": "markdown",
   "metadata": {},
   "source": [
    "## [5.2] Applying Decision Trees on TFIDF,<font color='red'> SET 2</font>"
   ]
  },
  {
   "cell_type": "code",
   "execution_count": 27,
   "metadata": {
    "ExecuteTime": {
     "end_time": "2019-04-22T04:49:37.586843Z",
     "start_time": "2019-04-22T04:29:32.397913Z"
    },
    "colab": {
     "base_uri": "https://localhost:8080/",
     "height": 604
    },
    "colab_type": "code",
    "id": "vFlwdS07fDvg",
    "outputId": "37d88222-c784-4daa-ffa7-3f8556791ceb"
   },
   "outputs": [
    {
     "name": "stdout",
     "output_type": "stream",
     "text": [
      "+---------------+--------------+-----------------------------------------------+\n",
      "| Mean CV Score | Std CV Score |                     Param                     |\n",
      "+---------------+--------------+-----------------------------------------------+\n",
      "|     0.611     |   0.01329    |    {'max_depth': 1, 'min_samples_split': 5}   |\n",
      "|     0.611     |   0.01329    |   {'max_depth': 1, 'min_samples_split': 10}   |\n",
      "|     0.611     |   0.01329    |   {'max_depth': 1, 'min_samples_split': 100}  |\n",
      "|     0.611     |   0.01329    |   {'max_depth': 1, 'min_samples_split': 500}  |\n",
      "|     0.685     |   0.02068    |    {'max_depth': 5, 'min_samples_split': 5}   |\n",
      "|     0.685     |   0.02054    |   {'max_depth': 5, 'min_samples_split': 10}   |\n",
      "|     0.685     |   0.02091    |   {'max_depth': 5, 'min_samples_split': 100}  |\n",
      "|     0.684     |    0.023     |   {'max_depth': 5, 'min_samples_split': 500}  |\n",
      "|     0.727     |   0.03779    |   {'max_depth': 10, 'min_samples_split': 5}   |\n",
      "|      0.73     |   0.03826    |   {'max_depth': 10, 'min_samples_split': 10}  |\n",
      "|      0.74     |   0.03455    |  {'max_depth': 10, 'min_samples_split': 100}  |\n",
      "|     0.743     |   0.03498    |  {'max_depth': 10, 'min_samples_split': 500}  |\n",
      "|     0.695     |   0.02704    |   {'max_depth': 50, 'min_samples_split': 5}   |\n",
      "|     0.704     |   0.03875    |   {'max_depth': 50, 'min_samples_split': 10}  |\n",
      "|     0.765     |   0.01726    |  {'max_depth': 50, 'min_samples_split': 100}  |\n",
      "|     0.795     |   0.01963    |  {'max_depth': 50, 'min_samples_split': 500}  |\n",
      "|      0.68     |   0.02819    |   {'max_depth': 100, 'min_samples_split': 5}  |\n",
      "|     0.694     |    0.0349    |  {'max_depth': 100, 'min_samples_split': 10}  |\n",
      "|     0.754     |   0.01292    |  {'max_depth': 100, 'min_samples_split': 100} |\n",
      "|     0.784     |   0.01692    |  {'max_depth': 100, 'min_samples_split': 500} |\n",
      "|     0.698     |   0.01768    |   {'max_depth': 500, 'min_samples_split': 5}  |\n",
      "|     0.708     |    0.0203    |  {'max_depth': 500, 'min_samples_split': 10}  |\n",
      "|     0.745     |   0.01825    |  {'max_depth': 500, 'min_samples_split': 100} |\n",
      "|     0.768     |   0.02899    |  {'max_depth': 500, 'min_samples_split': 500} |\n",
      "|     0.698     |   0.01768    |  {'max_depth': 1000, 'min_samples_split': 5}  |\n",
      "|     0.708     |    0.0203    |  {'max_depth': 1000, 'min_samples_split': 10} |\n",
      "|     0.745     |   0.01825    | {'max_depth': 1000, 'min_samples_split': 100} |\n",
      "|     0.768     |   0.02899    | {'max_depth': 1000, 'min_samples_split': 500} |\n",
      "+---------------+--------------+-----------------------------------------------+\n",
      "\n",
      "The best estimator:DecisionTreeClassifier(class_weight=None, criterion='gini', max_depth=50,\n",
      "            max_features=None, max_leaf_nodes=None,\n",
      "            min_impurity_decrease=0.0, min_impurity_split=None,\n",
      "            min_samples_leaf=1, min_samples_split=500,\n",
      "            min_weight_fraction_leaf=0.0, presort=False, random_state=507,\n",
      "            splitter='best')\n",
      "\n",
      "The best score is:0.7948497509424926\n",
      "The best value of hyperparameters are:{'max_depth': 50, 'min_samples_split': 500}\n",
      "Mean Score: 0.8277381865675421\n"
     ]
    },
    {
     "data": {
      "text/plain": [
       "<Figure size 432x288 with 0 Axes>"
      ]
     },
     "metadata": {},
     "output_type": "display_data"
    },
    {
     "data": {
      "image/png": "[encoded data removed]",
      "text/plain": [
       "<Figure size 1080x288 with 4 Axes>"
      ]
     },
     "metadata": {
      "needs_background": "light"
     },
     "output_type": "display_data"
    }
   ],
   "source": [
    "# Get the best hyperparameter using GridSearchCV \n",
    "get_best_hyperparameters(tf_idf_vect, X_train_tfidf, X_test_tfidf, y_train, y_test)"
   ]
  },
  {
   "cell_type": "code",
   "execution_count": 44,
   "metadata": {
    "ExecuteTime": {
     "end_time": "2019-04-16T09:49:40.986061Z",
     "start_time": "2019-04-16T09:49:24.270760Z"
    },
    "colab": {},
    "colab_type": "code",
    "id": "5t8gqUqofDvj",
    "run_control": {
     "marked": false
    }
   },
   "outputs": [],
   "source": [
    "# Fitting the model with the best hyperparameter\n",
    "model_tfidf = DecisionTreeClassifier(max_depth= 50, min_samples_split= 500, random_state= 507)\n",
    "model_tfidf.fit(X_train_tfidf,y_train)\n",
    "y_pred = model_tfidf.predict(X_test_tfidf)"
   ]
  },
  {
   "cell_type": "code",
   "execution_count": 46,
   "metadata": {
    "ExecuteTime": {
     "end_time": "2019-04-16T09:49:49.020328Z",
     "start_time": "2019-04-16T09:49:48.829826Z"
    },
    "colab": {
     "base_uri": "https://localhost:8080/",
     "height": 328
    },
    "colab_type": "code",
    "id": "F8Nbx73jfDvl",
    "outputId": "449d0a50-a284-41e0-a539-e6349f8dc1d6"
   },
   "outputs": [
    {
     "data": {
      "image/png": "[encoded data removed]",
      "text/plain": [
       "<Figure size 432x288 with 1 Axes>"
      ]
     },
     "metadata": {
      "needs_background": "light"
     },
     "output_type": "display_data"
    },
    {
     "name": "stdout",
     "output_type": "stream",
     "text": [
      "train AUC: 0.9039702399747457\n",
      "test AUC: 0.8277381865675421\n"
     ]
    }
   ],
   "source": [
    "# AUC- ROC plot\n",
    "auc_train_tfidf, auc_test_tfidf = plot_auc(model_tfidf, X_train_tfidf, X_test_tfidf)"
   ]
  },
  {
   "cell_type": "code",
   "execution_count": 47,
   "metadata": {
    "ExecuteTime": {
     "end_time": "2019-04-16T09:49:53.321921Z",
     "start_time": "2019-04-16T09:49:53.211629Z"
    },
    "colab": {
     "base_uri": "https://localhost:8080/",
     "height": 136
    },
    "colab_type": "code",
    "id": "ViJc1G8PfDvs",
    "outputId": "90232b13-b35b-45a3-95d0-005d10483be2"
   },
   "outputs": [
    {
     "name": "stdout",
     "output_type": "stream",
     "text": [
      "*****Train confusion matrix*****\n",
      "[[ 5551  4073]\n",
      " [ 2113 49704]]\n",
      "\n",
      "*****Test confusion matrix*****\n",
      "[[ 2111  2446]\n",
      " [ 1387 20388]]\n"
     ]
    }
   ],
   "source": [
    "# Confusion Matrix\n",
    "print_confusion_matrix(model_tfidf, X_train_tfidf, X_test_tfidf)"
   ]
  },
  {
   "cell_type": "code",
   "execution_count": 48,
   "metadata": {
    "ExecuteTime": {
     "end_time": "2019-04-16T09:49:56.773412Z",
     "start_time": "2019-04-16T09:49:56.475624Z"
    },
    "colab": {
     "base_uri": "https://localhost:8080/",
     "height": 297
    },
    "colab_type": "code",
    "id": "BuJvZwoPfDvv",
    "outputId": "81e29177-dbfc-4da9-b8b3-111f4b9a6b51",
    "run_control": {
     "marked": false
    }
   },
   "outputs": [
    {
     "data": {
      "text/plain": [
       "<Figure size 432x288 with 0 Axes>"
      ]
     },
     "metadata": {},
     "output_type": "display_data"
    },
    {
     "data": {
      "image/png": "[encoded data removed]",
      "text/plain": [
       "<Figure size 1080x288 with 4 Axes>"
      ]
     },
     "metadata": {
      "needs_background": "light"
     },
     "output_type": "display_data"
    }
   ],
   "source": [
    "# Heatmap Confusion Matrix\n",
    "plt.figure(1)\n",
    "plt.figure(figsize=(15, 4))\n",
    "\n",
    "\n",
    "plt.subplot(121)  # Test confusion matrix\n",
    "cnf_matrix = confusion_matrix(y_test, model_tfidf.predict(X_test_tfidf))\n",
    "np.set_printoptions(precision=2)\n",
    "class_names = ['Negative', 'Positive']\n",
    "# Plot non-normalized confusion matrix\n",
    "#plt.figure()\n",
    "plot_confusion_matrix_heatmap(cnf_matrix, classes=class_names, title='Test Set Confusion Matrix');\n",
    "\n",
    "plt.subplot(122) # Train Confusion matrix\n",
    "cnf_matrix = confusion_matrix(y_train, model_tfidf.predict(X_train_tfidf))\n",
    "np.set_printoptions(precision=2)\n",
    "class_names = ['Negative', 'Positive']\n",
    "# Plot non-normalized confusion matrix\n",
    "#plt.figure()\n",
    "plot_confusion_matrix_heatmap(cnf_matrix, classes=class_names, title='Train Set Confusion Matrix');"
   ]
  },
  {
   "cell_type": "markdown",
   "metadata": {
    "colab_type": "text",
    "id": "diqGTMXdkbEd"
   },
   "source": [
    "**Observation**\n",
    "1. For the TFIDF vectorizer, we calculated max_depth= 50 and min_samples_split= 500 using GridSearchCV for the DecisionTreeClassifier. \n",
    "2. We got train AUC: 0.9039702399747457 and test AUC: 0.8277381865675421\n",
    "3. Using the confusion matrix, we can say that our model correctly predicted 20388 positive reviews and 2111 negative reviews.\n",
    "4. The model incorrectly classified 1387 negative reviews and 2446 positive reviews."
   ]
  },
  {
   "cell_type": "markdown",
   "metadata": {},
   "source": [
    "### [5.2.1] Top 20 important features from<font color='red'> SET 2</font>"
   ]
  },
  {
   "cell_type": "code",
   "execution_count": 49,
   "metadata": {
    "ExecuteTime": {
     "end_time": "2019-04-16T09:50:01.055478Z",
     "start_time": "2019-04-16T09:50:00.971255Z"
    }
   },
   "outputs": [
    {
     "name": "stdout",
     "output_type": "stream",
     "text": [
      "+--------------------------+---------------+\n",
      "| Coefficient (Importance) |  Feature Name |\n",
      "+--------------------------+---------------+\n",
      "|   0.10137005419134902    |      not      |\n",
      "|   0.05204075324183794    |     great     |\n",
      "|   0.039259743215712996   |     worst     |\n",
      "|   0.03642855871993688    |  disappointed |\n",
      "|   0.026023013545145128   |     money     |\n",
      "|   0.024029274612239228   |     awful     |\n",
      "|   0.023783643769020656   |      bad      |\n",
      "|   0.023678598141716325   |    not buy    |\n",
      "|   0.022035580042702743   |    horrible   |\n",
      "|   0.021354501474108726   |    terrible   |\n",
      "|   0.02082295803182179    |     return    |\n",
      "|   0.018211719877531927   |     threw     |\n",
      "|    0.0172706283668819    | not recommend |\n",
      "|   0.014765720583619028   |   not worth   |\n",
      "|   0.01460628947339885    |  waste money  |\n",
      "|   0.014543360442087724   | disappointing |\n",
      "|   0.013300877953397306   |      good     |\n",
      "|   0.01253783958248458    |     refund    |\n",
      "|   0.011737565443496233   |    product    |\n",
      "|   0.011657239934582063   |   delicious   |\n",
      "+--------------------------+---------------+\n"
     ]
    }
   ],
   "source": [
    "most_informative_feature_for_binary_classification(tf_idf_vect, model_tfidf)"
   ]
  },
  {
   "cell_type": "markdown",
   "metadata": {},
   "source": [
    "### [5.2.2] Graphviz visualization of Decision Tree on TFIDF,<font color='red'> SET 2</font>"
   ]
  },
  {
   "cell_type": "code",
   "execution_count": 50,
   "metadata": {
    "ExecuteTime": {
     "end_time": "2019-04-16T09:50:07.984382Z",
     "start_time": "2019-04-16T09:50:07.076981Z"
    }
   },
   "outputs": [],
   "source": [
    "model_tfidf_viz = DecisionTreeClassifier(max_depth= 3, min_samples_split= 500, random_state= 507)\n",
    "model_tfidf_viz.fit(X_train_tfidf,y_train)\n",
    "y_pred = model_tfidf_viz.predict(X_test_tfidf)"
   ]
  },
  {
   "cell_type": "code",
   "execution_count": 51,
   "metadata": {
    "ExecuteTime": {
     "end_time": "2019-04-16T09:50:10.241995Z",
     "start_time": "2019-04-16T09:50:10.107817Z"
    }
   },
   "outputs": [
    {
     "data": {
      "image/svg+xml": [
       "<?xml version=\"1.0\" encoding=\"UTF-8\" standalone=\"no\"?>\r\n",
       "<!DOCTYPE svg PUBLIC \"-//W3C//DTD SVG 1.1//EN\"\r\n",
       " \"http://www.w3.org/Graphics/SVG/1.1/DTD/svg11.dtd\">\r\n",
       "<!-- Generated by graphviz version 2.38.0 (20140413.2041)\r\n",
       " -->\r\n",
       "<!-- Title: Tree Pages: 1 -->\r\n",
       "<svg width=\"928pt\" height=\"433pt\"\r\n",
       " viewBox=\"0.00 0.00 927.50 433.00\" xmlns=\"http://www.w3.org/2000/svg\" xmlns:xlink=\"http://www.w3.org/1999/xlink\">\r\n",
       "<g id=\"graph0\" class=\"graph\" transform=\"scale(1 1) rotate(0) translate(4 429)\">\r\n",
       "<title>Tree</title>\r\n",
       "<polygon fill=\"white\" stroke=\"none\" points=\"-4,4 -4,-429 923.5,-429 923.5,4 -4,4\"/>\r\n",
       "<!-- 0 -->\r\n",
       "<g id=\"node1\" class=\"node\"><title>0</title>\r\n",
       "<path fill=\"#399de5\" fill-opacity=\"0.815686\" stroke=\"black\" d=\"M541,-425C541,-425 410,-425 410,-425 404,-425 398,-419 398,-413 398,-413 398,-354 398,-354 398,-348 404,-342 410,-342 410,-342 541,-342 541,-342 547,-342 553,-348 553,-354 553,-354 553,-413 553,-413 553,-419 547,-425 541,-425\"/>\r\n",
       "<text text-anchor=\"start\" x=\"448\" y=\"-409.8\" font-family=\"Helvetica,sans-Serif\" font-size=\"14.00\">not ≤ 0.5</text>\r\n",
       "<text text-anchor=\"start\" x=\"438\" y=\"-394.8\" font-family=\"Helvetica,sans-Serif\" font-size=\"14.00\">gini = 0.264</text>\r\n",
       "<text text-anchor=\"start\" x=\"419.5\" y=\"-379.8\" font-family=\"Helvetica,sans-Serif\" font-size=\"14.00\">samples = 61441</text>\r\n",
       "<text text-anchor=\"start\" x=\"406\" y=\"-364.8\" font-family=\"Helvetica,sans-Serif\" font-size=\"14.00\">value = [9624, 51817]</text>\r\n",
       "<text text-anchor=\"start\" x=\"424\" y=\"-349.8\" font-family=\"Helvetica,sans-Serif\" font-size=\"14.00\">class = negative</text>\r\n",
       "</g>\r\n",
       "<!-- 1 -->\r\n",
       "<g id=\"node2\" class=\"node\"><title>1</title>\r\n",
       "<path fill=\"#399de5\" fill-opacity=\"0.905882\" stroke=\"black\" d=\"M455,-306C455,-306 324,-306 324,-306 318,-306 312,-300 312,-294 312,-294 312,-235 312,-235 312,-229 318,-223 324,-223 324,-223 455,-223 455,-223 461,-223 467,-229 467,-235 467,-235 467,-294 467,-294 467,-300 461,-306 455,-306\"/>\r\n",
       "<text text-anchor=\"start\" x=\"354.5\" y=\"-290.8\" font-family=\"Helvetica,sans-Serif\" font-size=\"14.00\">worst ≤ 0.5</text>\r\n",
       "<text text-anchor=\"start\" x=\"352\" y=\"-275.8\" font-family=\"Helvetica,sans-Serif\" font-size=\"14.00\">gini = 0.157</text>\r\n",
       "<text text-anchor=\"start\" x=\"333.5\" y=\"-260.8\" font-family=\"Helvetica,sans-Serif\" font-size=\"14.00\">samples = 28101</text>\r\n",
       "<text text-anchor=\"start\" x=\"320\" y=\"-245.8\" font-family=\"Helvetica,sans-Serif\" font-size=\"14.00\">value = [2412, 25689]</text>\r\n",
       "<text text-anchor=\"start\" x=\"338\" y=\"-230.8\" font-family=\"Helvetica,sans-Serif\" font-size=\"14.00\">class = negative</text>\r\n",
       "</g>\r\n",
       "<!-- 0&#45;&gt;1 -->\r\n",
       "<g id=\"edge1\" class=\"edge\"><title>0&#45;&gt;1</title>\r\n",
       "<path fill=\"none\" stroke=\"black\" d=\"M445.663,-341.907C439.126,-333.014 432.139,-323.509 425.393,-314.331\"/>\r\n",
       "<polygon fill=\"black\" stroke=\"black\" points=\"428.027,-312.005 419.285,-306.021 422.387,-316.151 428.027,-312.005\"/>\r\n",
       "<text text-anchor=\"middle\" x=\"415.511\" y=\"-327.034\" font-family=\"Helvetica,sans-Serif\" font-size=\"14.00\">True</text>\r\n",
       "</g>\r\n",
       "<!-- 6 -->\r\n",
       "<g id=\"node7\" class=\"node\"><title>6</title>\r\n",
       "<path fill=\"#399de5\" fill-opacity=\"0.725490\" stroke=\"black\" d=\"M628,-306C628,-306 497,-306 497,-306 491,-306 485,-300 485,-294 485,-294 485,-235 485,-235 485,-229 491,-223 497,-223 497,-223 628,-223 628,-223 634,-223 640,-229 640,-235 640,-235 640,-294 640,-294 640,-300 634,-306 628,-306\"/>\r\n",
       "<text text-anchor=\"start\" x=\"528.5\" y=\"-290.8\" font-family=\"Helvetica,sans-Serif\" font-size=\"14.00\">great ≤ 0.5</text>\r\n",
       "<text text-anchor=\"start\" x=\"525\" y=\"-275.8\" font-family=\"Helvetica,sans-Serif\" font-size=\"14.00\">gini = 0.339</text>\r\n",
       "<text text-anchor=\"start\" x=\"506.5\" y=\"-260.8\" font-family=\"Helvetica,sans-Serif\" font-size=\"14.00\">samples = 33340</text>\r\n",
       "<text text-anchor=\"start\" x=\"493\" y=\"-245.8\" font-family=\"Helvetica,sans-Serif\" font-size=\"14.00\">value = [7212, 26128]</text>\r\n",
       "<text text-anchor=\"start\" x=\"511\" y=\"-230.8\" font-family=\"Helvetica,sans-Serif\" font-size=\"14.00\">class = negative</text>\r\n",
       "</g>\r\n",
       "<!-- 0&#45;&gt;6 -->\r\n",
       "<g id=\"edge6\" class=\"edge\"><title>0&#45;&gt;6</title>\r\n",
       "<path fill=\"none\" stroke=\"black\" d=\"M505.684,-341.907C512.365,-332.923 519.509,-323.315 526.399,-314.05\"/>\r\n",
       "<polygon fill=\"black\" stroke=\"black\" points=\"529.211,-316.134 532.369,-306.021 523.593,-311.957 529.211,-316.134\"/>\r\n",
       "<text text-anchor=\"middle\" x=\"536.006\" y=\"-327.055\" font-family=\"Helvetica,sans-Serif\" font-size=\"14.00\">False</text>\r\n",
       "</g>\r\n",
       "<!-- 2 -->\r\n",
       "<g id=\"node3\" class=\"node\"><title>2</title>\r\n",
       "<path fill=\"#399de5\" fill-opacity=\"0.909804\" stroke=\"black\" d=\"M303,-187C303,-187 172,-187 172,-187 166,-187 160,-181 160,-175 160,-175 160,-116 160,-116 160,-110 166,-104 172,-104 172,-104 303,-104 303,-104 309,-104 315,-110 315,-116 315,-116 315,-175 315,-175 315,-181 309,-187 303,-187\"/>\r\n",
       "<text text-anchor=\"start\" x=\"178.5\" y=\"-171.8\" font-family=\"Helvetica,sans-Serif\" font-size=\"14.00\">disappointed ≤ 0.5</text>\r\n",
       "<text text-anchor=\"start\" x=\"200\" y=\"-156.8\" font-family=\"Helvetica,sans-Serif\" font-size=\"14.00\">gini = 0.152</text>\r\n",
       "<text text-anchor=\"start\" x=\"181.5\" y=\"-141.8\" font-family=\"Helvetica,sans-Serif\" font-size=\"14.00\">samples = 28004</text>\r\n",
       "<text text-anchor=\"start\" x=\"168\" y=\"-126.8\" font-family=\"Helvetica,sans-Serif\" font-size=\"14.00\">value = [2329, 25675]</text>\r\n",
       "<text text-anchor=\"start\" x=\"186\" y=\"-111.8\" font-family=\"Helvetica,sans-Serif\" font-size=\"14.00\">class = negative</text>\r\n",
       "</g>\r\n",
       "<!-- 1&#45;&gt;2 -->\r\n",
       "<g id=\"edge2\" class=\"edge\"><title>1&#45;&gt;2</title>\r\n",
       "<path fill=\"none\" stroke=\"black\" d=\"M336.764,-222.907C324.385,-213.379 311.094,-203.148 298.39,-193.37\"/>\r\n",
       "<polygon fill=\"black\" stroke=\"black\" points=\"300.202,-190.347 290.142,-187.021 295.932,-195.894 300.202,-190.347\"/>\r\n",
       "</g>\r\n",
       "<!-- 5 -->\r\n",
       "<g id=\"node6\" class=\"node\"><title>5</title>\r\n",
       "<path fill=\"#e58139\" fill-opacity=\"0.831373\" stroke=\"black\" d=\"M435.5,-179.5C435.5,-179.5 345.5,-179.5 345.5,-179.5 339.5,-179.5 333.5,-173.5 333.5,-167.5 333.5,-167.5 333.5,-123.5 333.5,-123.5 333.5,-117.5 339.5,-111.5 345.5,-111.5 345.5,-111.5 435.5,-111.5 435.5,-111.5 441.5,-111.5 447.5,-117.5 447.5,-123.5 447.5,-123.5 447.5,-167.5 447.5,-167.5 447.5,-173.5 441.5,-179.5 435.5,-179.5\"/>\r\n",
       "<text text-anchor=\"start\" x=\"353\" y=\"-164.3\" font-family=\"Helvetica,sans-Serif\" font-size=\"14.00\">gini = 0.247</text>\r\n",
       "<text text-anchor=\"start\" x=\"347\" y=\"-149.3\" font-family=\"Helvetica,sans-Serif\" font-size=\"14.00\">samples = 97</text>\r\n",
       "<text text-anchor=\"start\" x=\"342\" y=\"-134.3\" font-family=\"Helvetica,sans-Serif\" font-size=\"14.00\">value = [83, 14]</text>\r\n",
       "<text text-anchor=\"start\" x=\"341.5\" y=\"-119.3\" font-family=\"Helvetica,sans-Serif\" font-size=\"14.00\">class = positive</text>\r\n",
       "</g>\r\n",
       "<!-- 1&#45;&gt;5 -->\r\n",
       "<g id=\"edge5\" class=\"edge\"><title>1&#45;&gt;5</title>\r\n",
       "<path fill=\"none\" stroke=\"black\" d=\"M389.847,-222.907C389.938,-212.204 390.037,-200.615 390.13,-189.776\"/>\r\n",
       "<polygon fill=\"black\" stroke=\"black\" points=\"393.631,-189.697 390.217,-179.667 386.631,-189.637 393.631,-189.697\"/>\r\n",
       "</g>\r\n",
       "<!-- 3 -->\r\n",
       "<g id=\"node4\" class=\"node\"><title>3</title>\r\n",
       "<path fill=\"#399de5\" fill-opacity=\"0.913725\" stroke=\"black\" d=\"M143,-68C143,-68 12,-68 12,-68 6,-68 0,-62 0,-56 0,-56 0,-12 0,-12 0,-6 6,-0 12,-0 12,-0 143,-0 143,-0 149,-0 155,-6 155,-12 155,-12 155,-56 155,-56 155,-62 149,-68 143,-68\"/>\r\n",
       "<text text-anchor=\"start\" x=\"40\" y=\"-52.8\" font-family=\"Helvetica,sans-Serif\" font-size=\"14.00\">gini = 0.145</text>\r\n",
       "<text text-anchor=\"start\" x=\"21.5\" y=\"-37.8\" font-family=\"Helvetica,sans-Serif\" font-size=\"14.00\">samples = 27736</text>\r\n",
       "<text text-anchor=\"start\" x=\"8\" y=\"-22.8\" font-family=\"Helvetica,sans-Serif\" font-size=\"14.00\">value = [2186, 25550]</text>\r\n",
       "<text text-anchor=\"start\" x=\"26\" y=\"-7.8\" font-family=\"Helvetica,sans-Serif\" font-size=\"14.00\">class = negative</text>\r\n",
       "</g>\r\n",
       "<!-- 2&#45;&gt;3 -->\r\n",
       "<g id=\"edge3\" class=\"edge\"><title>2&#45;&gt;3</title>\r\n",
       "<path fill=\"none\" stroke=\"black\" d=\"M177.922,-103.726C163.721,-94.0078 148.601,-83.6597 134.519,-74.0222\"/>\r\n",
       "<polygon fill=\"black\" stroke=\"black\" points=\"136.131,-70.8846 125.902,-68.1252 132.178,-76.6614 136.131,-70.8846\"/>\r\n",
       "</g>\r\n",
       "<!-- 4 -->\r\n",
       "<g id=\"node5\" class=\"node\"><title>4</title>\r\n",
       "<path fill=\"#e58139\" fill-opacity=\"0.125490\" stroke=\"black\" d=\"M291.5,-68C291.5,-68 185.5,-68 185.5,-68 179.5,-68 173.5,-62 173.5,-56 173.5,-56 173.5,-12 173.5,-12 173.5,-6 179.5,-0 185.5,-0 185.5,-0 291.5,-0 291.5,-0 297.5,-0 303.5,-6 303.5,-12 303.5,-12 303.5,-56 303.5,-56 303.5,-62 297.5,-68 291.5,-68\"/>\r\n",
       "<text text-anchor=\"start\" x=\"201\" y=\"-52.8\" font-family=\"Helvetica,sans-Serif\" font-size=\"14.00\">gini = 0.498</text>\r\n",
       "<text text-anchor=\"start\" x=\"191\" y=\"-37.8\" font-family=\"Helvetica,sans-Serif\" font-size=\"14.00\">samples = 268</text>\r\n",
       "<text text-anchor=\"start\" x=\"181.5\" y=\"-22.8\" font-family=\"Helvetica,sans-Serif\" font-size=\"14.00\">value = [143, 125]</text>\r\n",
       "<text text-anchor=\"start\" x=\"189.5\" y=\"-7.8\" font-family=\"Helvetica,sans-Serif\" font-size=\"14.00\">class = positive</text>\r\n",
       "</g>\r\n",
       "<!-- 2&#45;&gt;4 -->\r\n",
       "<g id=\"edge4\" class=\"edge\"><title>2&#45;&gt;4</title>\r\n",
       "<path fill=\"none\" stroke=\"black\" d=\"M237.872,-103.726C237.947,-95.5175 238.026,-86.8595 238.102,-78.56\"/>\r\n",
       "<polygon fill=\"black\" stroke=\"black\" points=\"241.604,-78.3312 238.196,-68.2996 234.605,-78.2672 241.604,-78.3312\"/>\r\n",
       "</g>\r\n",
       "<!-- 7 -->\r\n",
       "<g id=\"node8\" class=\"node\"><title>7</title>\r\n",
       "<path fill=\"#399de5\" fill-opacity=\"0.658824\" stroke=\"black\" d=\"M620,-187C620,-187 489,-187 489,-187 483,-187 477,-181 477,-175 477,-175 477,-116 477,-116 477,-110 483,-104 489,-104 489,-104 620,-104 620,-104 626,-104 632,-110 632,-116 632,-116 632,-175 632,-175 632,-181 626,-187 620,-187\"/>\r\n",
       "<text text-anchor=\"start\" x=\"513.5\" y=\"-171.8\" font-family=\"Helvetica,sans-Serif\" font-size=\"14.00\">not buy ≤ 0.5</text>\r\n",
       "<text text-anchor=\"start\" x=\"517\" y=\"-156.8\" font-family=\"Helvetica,sans-Serif\" font-size=\"14.00\">gini = 0.379</text>\r\n",
       "<text text-anchor=\"start\" x=\"498.5\" y=\"-141.8\" font-family=\"Helvetica,sans-Serif\" font-size=\"14.00\">samples = 25503</text>\r\n",
       "<text text-anchor=\"start\" x=\"485\" y=\"-126.8\" font-family=\"Helvetica,sans-Serif\" font-size=\"14.00\">value = [6489, 19014]</text>\r\n",
       "<text text-anchor=\"start\" x=\"503\" y=\"-111.8\" font-family=\"Helvetica,sans-Serif\" font-size=\"14.00\">class = negative</text>\r\n",
       "</g>\r\n",
       "<!-- 6&#45;&gt;7 -->\r\n",
       "<g id=\"edge7\" class=\"edge\"><title>6&#45;&gt;7</title>\r\n",
       "<path fill=\"none\" stroke=\"black\" d=\"M559.724,-222.907C559.154,-214.558 558.546,-205.671 557.954,-197.02\"/>\r\n",
       "<polygon fill=\"black\" stroke=\"black\" points=\"561.445,-196.759 557.271,-187.021 554.461,-197.236 561.445,-196.759\"/>\r\n",
       "</g>\r\n",
       "<!-- 10 -->\r\n",
       "<g id=\"node11\" class=\"node\"><title>10</title>\r\n",
       "<path fill=\"#399de5\" fill-opacity=\"0.898039\" stroke=\"black\" d=\"M776.5,-187C776.5,-187 662.5,-187 662.5,-187 656.5,-187 650.5,-181 650.5,-175 650.5,-175 650.5,-116 650.5,-116 650.5,-110 656.5,-104 662.5,-104 662.5,-104 776.5,-104 776.5,-104 782.5,-104 788.5,-110 788.5,-116 788.5,-116 788.5,-175 788.5,-175 788.5,-181 782.5,-187 776.5,-187\"/>\r\n",
       "<text text-anchor=\"start\" x=\"660\" y=\"-171.8\" font-family=\"Helvetica,sans-Serif\" font-size=\"14.00\">waste money ≤ 0.5</text>\r\n",
       "<text text-anchor=\"start\" x=\"682\" y=\"-156.8\" font-family=\"Helvetica,sans-Serif\" font-size=\"14.00\">gini = 0.167</text>\r\n",
       "<text text-anchor=\"start\" x=\"668\" y=\"-141.8\" font-family=\"Helvetica,sans-Serif\" font-size=\"14.00\">samples = 7837</text>\r\n",
       "<text text-anchor=\"start\" x=\"658.5\" y=\"-126.8\" font-family=\"Helvetica,sans-Serif\" font-size=\"14.00\">value = [723, 7114]</text>\r\n",
       "<text text-anchor=\"start\" x=\"668\" y=\"-111.8\" font-family=\"Helvetica,sans-Serif\" font-size=\"14.00\">class = negative</text>\r\n",
       "</g>\r\n",
       "<!-- 6&#45;&gt;10 -->\r\n",
       "<g id=\"edge10\" class=\"edge\"><title>6&#45;&gt;10</title>\r\n",
       "<path fill=\"none\" stroke=\"black\" d=\"M616.97,-222.907C629.879,-213.288 643.746,-202.953 656.981,-193.09\"/>\r\n",
       "<polygon fill=\"black\" stroke=\"black\" points=\"659.199,-195.803 665.126,-187.021 655.016,-190.19 659.199,-195.803\"/>\r\n",
       "</g>\r\n",
       "<!-- 8 -->\r\n",
       "<g id=\"node9\" class=\"node\"><title>8</title>\r\n",
       "<path fill=\"#399de5\" fill-opacity=\"0.678431\" stroke=\"black\" d=\"M469,-68C469,-68 338,-68 338,-68 332,-68 326,-62 326,-56 326,-56 326,-12 326,-12 326,-6 332,-0 338,-0 338,-0 469,-0 469,-0 475,-0 481,-6 481,-12 481,-12 481,-56 481,-56 481,-62 475,-68 469,-68\"/>\r\n",
       "<text text-anchor=\"start\" x=\"366\" y=\"-52.8\" font-family=\"Helvetica,sans-Serif\" font-size=\"14.00\">gini = 0.368</text>\r\n",
       "<text text-anchor=\"start\" x=\"347.5\" y=\"-37.8\" font-family=\"Helvetica,sans-Serif\" font-size=\"14.00\">samples = 24814</text>\r\n",
       "<text text-anchor=\"start\" x=\"334\" y=\"-22.8\" font-family=\"Helvetica,sans-Serif\" font-size=\"14.00\">value = [6041, 18773]</text>\r\n",
       "<text text-anchor=\"start\" x=\"352\" y=\"-7.8\" font-family=\"Helvetica,sans-Serif\" font-size=\"14.00\">class = negative</text>\r\n",
       "</g>\r\n",
       "<!-- 7&#45;&gt;8 -->\r\n",
       "<g id=\"edge8\" class=\"edge\"><title>7&#45;&gt;8</title>\r\n",
       "<path fill=\"none\" stroke=\"black\" d=\"M498.273,-103.726C484.941,-94.0582 470.749,-83.767 457.518,-74.172\"/>\r\n",
       "<polygon fill=\"black\" stroke=\"black\" points=\"459.57,-71.3368 449.42,-68.2996 455.461,-77.0036 459.57,-71.3368\"/>\r\n",
       "</g>\r\n",
       "<!-- 9 -->\r\n",
       "<g id=\"node10\" class=\"node\"><title>9</title>\r\n",
       "<path fill=\"#e58139\" fill-opacity=\"0.462745\" stroke=\"black\" d=\"M617.5,-68C617.5,-68 511.5,-68 511.5,-68 505.5,-68 499.5,-62 499.5,-56 499.5,-56 499.5,-12 499.5,-12 499.5,-6 505.5,-0 511.5,-0 511.5,-0 617.5,-0 617.5,-0 623.5,-0 629.5,-6 629.5,-12 629.5,-12 629.5,-56 629.5,-56 629.5,-62 623.5,-68 617.5,-68\"/>\r\n",
       "<text text-anchor=\"start\" x=\"527\" y=\"-52.8\" font-family=\"Helvetica,sans-Serif\" font-size=\"14.00\">gini = 0.455</text>\r\n",
       "<text text-anchor=\"start\" x=\"517\" y=\"-37.8\" font-family=\"Helvetica,sans-Serif\" font-size=\"14.00\">samples = 689</text>\r\n",
       "<text text-anchor=\"start\" x=\"507.5\" y=\"-22.8\" font-family=\"Helvetica,sans-Serif\" font-size=\"14.00\">value = [448, 241]</text>\r\n",
       "<text text-anchor=\"start\" x=\"515.5\" y=\"-7.8\" font-family=\"Helvetica,sans-Serif\" font-size=\"14.00\">class = positive</text>\r\n",
       "</g>\r\n",
       "<!-- 7&#45;&gt;9 -->\r\n",
       "<g id=\"edge9\" class=\"edge\"><title>7&#45;&gt;9</title>\r\n",
       "<path fill=\"none\" stroke=\"black\" d=\"M558.224,-103.726C558.982,-95.4263 559.782,-86.6671 560.547,-78.2834\"/>\r\n",
       "<polygon fill=\"black\" stroke=\"black\" points=\"564.035,-78.5765 561.459,-68.2996 557.064,-77.9398 564.035,-78.5765\"/>\r\n",
       "</g>\r\n",
       "<!-- 11 -->\r\n",
       "<g id=\"node12\" class=\"node\"><title>11</title>\r\n",
       "<path fill=\"#399de5\" fill-opacity=\"0.901961\" stroke=\"black\" d=\"M775.5,-68C775.5,-68 661.5,-68 661.5,-68 655.5,-68 649.5,-62 649.5,-56 649.5,-56 649.5,-12 649.5,-12 649.5,-6 655.5,-0 661.5,-0 661.5,-0 775.5,-0 775.5,-0 781.5,-0 787.5,-6 787.5,-12 787.5,-12 787.5,-56 787.5,-56 787.5,-62 781.5,-68 775.5,-68\"/>\r\n",
       "<text text-anchor=\"start\" x=\"681\" y=\"-52.8\" font-family=\"Helvetica,sans-Serif\" font-size=\"14.00\">gini = 0.164</text>\r\n",
       "<text text-anchor=\"start\" x=\"667\" y=\"-37.8\" font-family=\"Helvetica,sans-Serif\" font-size=\"14.00\">samples = 7814</text>\r\n",
       "<text text-anchor=\"start\" x=\"657.5\" y=\"-22.8\" font-family=\"Helvetica,sans-Serif\" font-size=\"14.00\">value = [704, 7110]</text>\r\n",
       "<text text-anchor=\"start\" x=\"667\" y=\"-7.8\" font-family=\"Helvetica,sans-Serif\" font-size=\"14.00\">class = negative</text>\r\n",
       "</g>\r\n",
       "<!-- 10&#45;&gt;11 -->\r\n",
       "<g id=\"edge11\" class=\"edge\"><title>10&#45;&gt;11</title>\r\n",
       "<path fill=\"none\" stroke=\"black\" d=\"M719.128,-103.726C719.053,-95.5175 718.974,-86.8595 718.898,-78.56\"/>\r\n",
       "<polygon fill=\"black\" stroke=\"black\" points=\"722.395,-78.2672 718.804,-68.2996 715.396,-78.3312 722.395,-78.2672\"/>\r\n",
       "</g>\r\n",
       "<!-- 12 -->\r\n",
       "<g id=\"node13\" class=\"node\"><title>12</title>\r\n",
       "<path fill=\"#e58139\" fill-opacity=\"0.788235\" stroke=\"black\" d=\"M907.5,-68C907.5,-68 817.5,-68 817.5,-68 811.5,-68 805.5,-62 805.5,-56 805.5,-56 805.5,-12 805.5,-12 805.5,-6 811.5,-0 817.5,-0 817.5,-0 907.5,-0 907.5,-0 913.5,-0 919.5,-6 919.5,-12 919.5,-12 919.5,-56 919.5,-56 919.5,-62 913.5,-68 907.5,-68\"/>\r\n",
       "<text text-anchor=\"start\" x=\"825\" y=\"-52.8\" font-family=\"Helvetica,sans-Serif\" font-size=\"14.00\">gini = 0.287</text>\r\n",
       "<text text-anchor=\"start\" x=\"819\" y=\"-37.8\" font-family=\"Helvetica,sans-Serif\" font-size=\"14.00\">samples = 23</text>\r\n",
       "<text text-anchor=\"start\" x=\"818\" y=\"-22.8\" font-family=\"Helvetica,sans-Serif\" font-size=\"14.00\">value = [19, 4]</text>\r\n",
       "<text text-anchor=\"start\" x=\"813.5\" y=\"-7.8\" font-family=\"Helvetica,sans-Serif\" font-size=\"14.00\">class = positive</text>\r\n",
       "</g>\r\n",
       "<!-- 10&#45;&gt;12 -->\r\n",
       "<g id=\"edge12\" class=\"edge\"><title>10&#45;&gt;12</title>\r\n",
       "<path fill=\"none\" stroke=\"black\" d=\"M772.748,-103.726C785.255,-94.1494 798.56,-83.9611 810.989,-74.4438\"/>\r\n",
       "<polygon fill=\"black\" stroke=\"black\" points=\"813.201,-77.1582 819.013,-68.2996 808.945,-71.6004 813.201,-77.1582\"/>\r\n",
       "</g>\r\n",
       "</g>\r\n",
       "</svg>\r\n"
      ],
      "text/plain": [
       "<graphviz.files.Source at 0x1e7ad4f1390>"
      ]
     },
     "execution_count": 51,
     "metadata": {},
     "output_type": "execute_result"
    }
   ],
   "source": [
    "dt = plot_decision_tree(tf_idf_vect, model_tfidf_viz)\n",
    "dt"
   ]
  },
  {
   "cell_type": "markdown",
   "metadata": {
    "_uuid": "62bcc553cadeaeb9086bf0ea6d4b7c00b638eefd",
    "colab_type": "text",
    "id": "NkTP8p_D1Kxd"
   },
   "source": [
    "## [4.4] Word2Vec"
   ]
  },
  {
   "cell_type": "code",
   "execution_count": 28,
   "metadata": {
    "ExecuteTime": {
     "end_time": "2019-04-22T05:06:19.990761Z",
     "start_time": "2019-04-22T05:06:19.158490Z"
    },
    "_uuid": "3eba5421ef7bac1a8a64c3d1a69e7646db9ca204",
    "colab": {},
    "colab_type": "code",
    "id": "2Yv13gNy1Kxk"
   },
   "outputs": [],
   "source": [
    "# Train your own Word2Vec model using your own text corpus \n",
    "i=0\n",
    "list_of_sentance_train=[]\n",
    "for sentance in X_train:\n",
    "    list_of_sentance_train.append(sentance.split())"
   ]
  },
  {
   "cell_type": "code",
   "execution_count": 29,
   "metadata": {
    "ExecuteTime": {
     "end_time": "2019-04-22T05:06:21.778905Z",
     "start_time": "2019-04-22T05:06:21.774897Z"
    },
    "_uuid": "92d9891774578f8e61bcce0059d2df595d440f90",
    "colab": {
     "base_uri": "https://localhost:8080/",
     "height": 54
    },
    "colab_type": "code",
    "id": "9ndor9pA1Kxr",
    "outputId": "06138a91-3598-4196-ae1f-d73e09295b14",
    "scrolled": true
   },
   "outputs": [
    {
     "name": "stdout",
     "output_type": "stream",
     "text": [
      "['bought', 'apartment', 'infested', 'fruit', 'flies', 'hours', 'trap', 'attracted', 'many', 'flies', 'within', 'days', 'practically', 'gone', 'may', 'not', 'long', 'term', 'solution', 'flies', 'driving', 'crazy', 'consider', 'buying', 'one', 'caution', 'surface', 'sticky', 'try', 'avoid', 'touching']\n"
     ]
    }
   ],
   "source": [
    "print(list_of_sentance_train[0])"
   ]
  },
  {
   "cell_type": "code",
   "execution_count": 30,
   "metadata": {
    "ExecuteTime": {
     "end_time": "2019-04-22T05:06:31.991887Z",
     "start_time": "2019-04-22T05:06:23.230393Z"
    },
    "_uuid": "85f0a3737e103fca84d75deaf28614ff156efdc7",
    "colab": {
     "base_uri": "https://localhost:8080/",
     "height": 88
    },
    "colab_type": "code",
    "id": "tRvIseDA1Kxz",
    "outputId": "1ffc5e78-8e1b-4371-fa9e-6cea26ca35c9"
   },
   "outputs": [
    {
     "name": "stdout",
     "output_type": "stream",
     "text": [
      "[('terrific', 0.8240571022033691), ('fantastic', 0.8099831938743591), ('good', 0.8047497868537903), ('awesome', 0.7958186268806458), ('excellent', 0.7780699729919434), ('perfect', 0.7733269929885864), ('nice', 0.7343263626098633), ('wonderful', 0.726402759552002), ('amazing', 0.725594162940979), ('decent', 0.6865309476852417)]\n",
      "==================================================\n",
      "[('greatest', 0.739180326461792), ('best', 0.720755934715271), ('coolest', 0.6763705611228943), ('tastiest', 0.6613165736198425), ('closest', 0.6220431327819824), ('nastiest', 0.6111527681350708), ('disgusting', 0.5959291458129883), ('ive', 0.5813934803009033), ('horrible', 0.5744800567626953), ('experienced', 0.5710225701332092)]\n"
     ]
    }
   ],
   "source": [
    "is_your_ram_gt_16g=False\n",
    "want_to_use_google_w2v = False\n",
    "want_to_train_w2v = True\n",
    "\n",
    "if want_to_train_w2v:\n",
    "    # min_count = 5 considers only words that occured atleast 5 times\n",
    "    w2v_model=Word2Vec(list_of_sentance_train,min_count=5,size=50, workers=4)\n",
    "    print(w2v_model.wv.most_similar('great'))\n",
    "    print('='*50)\n",
    "    print(w2v_model.wv.most_similar('worst'))\n",
    "    \n",
    "elif want_to_use_google_w2v and is_your_ram_gt_16g:\n",
    "    if os.path.isfile('GoogleNews-vectors-negative300.bin'):\n",
    "        w2v_model=KeyedVectors.load_word2vec_format('GoogleNews-vectors-negative300.bin', binary=True)\n",
    "        print(w2v_model.wv.most_similar('great'))\n",
    "        print(w2v_model.wv.most_similar('worst'))\n",
    "    else:\n",
    "        print(\"you don't have gogole's word2vec file, keep want_to_train_w2v = True, to train your own w2v \")"
   ]
  },
  {
   "cell_type": "code",
   "execution_count": 31,
   "metadata": {
    "ExecuteTime": {
     "end_time": "2019-04-22T05:06:32.703237Z",
     "start_time": "2019-04-22T05:06:32.690205Z"
    },
    "_uuid": "3a48a0f64fb3bfa0716f0f02d28819bbbdefdfc5",
    "colab": {
     "base_uri": "https://localhost:8080/",
     "height": 71
    },
    "colab_type": "code",
    "id": "43dvFfQD1Kx3",
    "outputId": "e3de60ca-ac01-4e5b-e3f8-54e7ae704582"
   },
   "outputs": [
    {
     "name": "stdout",
     "output_type": "stream",
     "text": [
      "number of words that occured minimum 5 times  14799\n",
      "sample words  ['bought', 'apartment', 'infested', 'fruit', 'flies', 'hours', 'trap', 'attracted', 'many', 'within', 'days', 'practically', 'gone', 'may', 'not', 'long', 'term', 'solution', 'driving', 'crazy', 'consider', 'buying', 'one', 'caution', 'surface', 'sticky', 'try', 'avoid', 'touching', 'really', 'good', 'idea', 'final', 'product', 'outstanding', 'use', 'car', 'window', 'everybody', 'asks', 'made', 'two', 'thumbs', 'received', 'shipment', 'could', 'hardly', 'wait', 'love', 'call']\n"
     ]
    }
   ],
   "source": [
    "w2v_words = list(w2v_model.wv.vocab)\n",
    "print(\"number of words that occured minimum 5 times \",len(w2v_words))\n",
    "print(\"sample words \", w2v_words[0:50])"
   ]
  },
  {
   "cell_type": "markdown",
   "metadata": {
    "_uuid": "fc2388a44995a313f86ca1076dc1c6e49fd0b3e8",
    "colab_type": "text",
    "id": "0G4-3ywU1Kx8"
   },
   "source": [
    "**Converting train text data**"
   ]
  },
  {
   "cell_type": "code",
   "execution_count": 32,
   "metadata": {
    "ExecuteTime": {
     "end_time": "2019-04-22T05:08:12.091145Z",
     "start_time": "2019-04-22T05:06:33.338401Z"
    },
    "_uuid": "57528fa94bdfc0e346a0a9ed1b21607a1386960a",
    "colab": {
     "base_uri": "https://localhost:8080/",
     "height": 204
    },
    "colab_type": "code",
    "id": "qiC2yQEF1Kx-",
    "outputId": "973f4b8c-d893-4ce1-c1af-64d9a9825651"
   },
   "outputs": [
    {
     "name": "stderr",
     "output_type": "stream",
     "text": [
      "100%|███████████████████████████████████████████████████████████████████████████████████████████████████████████████████████████| 61441/61441 [01:38<00:00, 622.70it/s]\n"
     ]
    },
    {
     "name": "stdout",
     "output_type": "stream",
     "text": [
      "(61441, 50)\n",
      "[ 0.22393003  0.09592169 -0.09882558 -0.17983183 -0.45694709 -0.16395379\n",
      "  0.65210179 -0.43488005 -0.27133868  0.0204279   0.14940656  0.2592161\n",
      "  0.10165668 -0.54464285 -0.32532377 -0.14426634 -0.00341055  0.22104419\n",
      "  0.01885366  0.39250911  0.5225881   0.03777609 -0.24696966  0.01686862\n",
      "  0.55910543  0.09677245 -0.62951185  0.21740808 -0.15631525 -0.32482856\n",
      " -0.43674826  0.46633292  0.08125676  0.29357839 -0.62140781 -0.04925572\n",
      " -0.02785743 -0.25851095 -0.57568086  0.23560735  0.07438516 -0.01472463\n",
      "  0.09623523 -0.27007428  0.11128199 -0.46833002  0.02425915  0.06435714\n",
      " -0.66135578 -0.50526412]\n"
     ]
    }
   ],
   "source": [
    "# average Word2Vec\n",
    "# compute average word2vec for each review.\n",
    "sent_vectors_train = []; # the avg-w2v for each sentence/review is stored in this list\n",
    "for sent in tqdm(list_of_sentance_train): # for each review/sentence\n",
    "    sent_vec = np.zeros(50) # as word vectors are of zero length 50, you might need to change this to 300 if you use google's w2v\n",
    "    cnt_words =0; # num of words with a valid vector in the sentence/review\n",
    "    for word in sent: # for each word in a review/sentence\n",
    "        if word in w2v_words:\n",
    "            vec = w2v_model.wv[word]\n",
    "            sent_vec += vec\n",
    "            cnt_words += 1\n",
    "    if cnt_words != 0:\n",
    "        sent_vec /= cnt_words\n",
    "    sent_vectors_train.append(sent_vec)\n",
    "sent_vectors_train = np.array(sent_vectors_train)\n",
    "print(sent_vectors_train.shape)\n",
    "print(sent_vectors_train[0])"
   ]
  },
  {
   "cell_type": "markdown",
   "metadata": {
    "_uuid": "a2c12dd1486c702b87863cf25cee30008bcfbfde",
    "colab_type": "text",
    "id": "1budLyC51KyO"
   },
   "source": [
    "**Converting test text data**"
   ]
  },
  {
   "cell_type": "code",
   "execution_count": 33,
   "metadata": {
    "ExecuteTime": {
     "end_time": "2019-04-22T05:08:12.831091Z",
     "start_time": "2019-04-22T05:08:12.739852Z"
    },
    "_uuid": "e727e3f1df3db7d3a8c9118caaffaa2ae10e8a83",
    "colab": {},
    "colab_type": "code",
    "id": "cSl0uad91KyP"
   },
   "outputs": [],
   "source": [
    "i=0\n",
    "list_of_sentance_test=[]\n",
    "for sentance in X_test:\n",
    "    list_of_sentance_test.append(sentance.split())"
   ]
  },
  {
   "cell_type": "code",
   "execution_count": 34,
   "metadata": {
    "ExecuteTime": {
     "end_time": "2019-04-22T05:09:00.346205Z",
     "start_time": "2019-04-22T05:08:13.672302Z"
    },
    "_uuid": "c8039314c79e3616a6e76e13135665a19bb37697",
    "colab": {
     "base_uri": "https://localhost:8080/",
     "height": 204
    },
    "colab_type": "code",
    "id": "OVxdVVkJ1KyS",
    "outputId": "60c06565-57cb-4c79-f4e4-c4b67dcc30c3"
   },
   "outputs": [
    {
     "name": "stderr",
     "output_type": "stream",
     "text": [
      "100%|███████████████████████████████████████████████████████████████████████████████████████████████████████████████████████████| 26332/26332 [00:46<00:00, 564.57it/s]\n"
     ]
    },
    {
     "name": "stdout",
     "output_type": "stream",
     "text": [
      "(26332, 50)\n",
      "[-0.22952905 -0.29723563 -0.58708276 -0.39022837  0.37656512 -0.57715172\n",
      "  0.14357275  0.17631177 -0.69216138  0.53853046 -0.20027078  0.56683548\n",
      " -0.45697219  0.35700065  0.23076544 -0.36637189  0.02887696  0.60715141\n",
      " -0.68229169  0.19939025 -0.06819704  0.0807292   0.20094279  0.56766275\n",
      "  0.97304636  0.058633   -0.53569158 -0.17743056  0.45552647  0.35113259\n",
      " -0.08933651 -0.841273   -0.12200916  0.07369839  0.40343299  0.28087295\n",
      "  0.70714661  0.99737026 -0.58868356  0.79578704 -0.11380306 -0.35850098\n",
      " -0.2681398  -0.41421369  0.06118299  0.80261823  0.19169296 -1.55092704\n",
      " -0.07266638 -0.85905036]\n"
     ]
    }
   ],
   "source": [
    "# average Word2Vec\n",
    "# compute average word2vec for each review.\n",
    "sent_vectors_test = []; # the avg-w2v for each sentence/review is stored in this list\n",
    "for sent in tqdm(list_of_sentance_test): # for each review/sentence\n",
    "    sent_vec = np.zeros(50) # as word vectors are of zero length 50, you might need to change this to 300 if you use google's w2v\n",
    "    cnt_words =0; # num of words with a valid vector in the sentence/review\n",
    "    for word in sent: # for each word in a review/sentence\n",
    "        if word in w2v_words:\n",
    "            vec = w2v_model.wv[word]\n",
    "            sent_vec += vec\n",
    "            cnt_words += 1\n",
    "    if cnt_words != 0:\n",
    "        sent_vec /= cnt_words\n",
    "    sent_vectors_test.append(sent_vec)\n",
    "sent_vectors_test = np.array(sent_vectors_test)\n",
    "\n",
    "print(sent_vectors_test.shape)\n",
    "print(sent_vectors_test[0])"
   ]
  },
  {
   "cell_type": "markdown",
   "metadata": {},
   "source": [
    "## [5.3] Applying Decision Trees on AVG W2V,<font color='red'> SET 3</font>"
   ]
  },
  {
   "cell_type": "code",
   "execution_count": 35,
   "metadata": {
    "ExecuteTime": {
     "end_time": "2019-04-22T05:12:04.625745Z",
     "start_time": "2019-04-22T05:09:01.168367Z"
    }
   },
   "outputs": [
    {
     "name": "stdout",
     "output_type": "stream",
     "text": [
      "+---------------+--------------+-----------------------------------------------+\n",
      "| Mean CV Score | Std CV Score |                     Param                     |\n",
      "+---------------+--------------+-----------------------------------------------+\n",
      "|     0.653     |    0.0089    |    {'max_depth': 1, 'min_samples_split': 5}   |\n",
      "|     0.653     |    0.0089    |   {'max_depth': 1, 'min_samples_split': 10}   |\n",
      "|     0.653     |    0.0089    |   {'max_depth': 1, 'min_samples_split': 100}  |\n",
      "|     0.653     |    0.0089    |   {'max_depth': 1, 'min_samples_split': 500}  |\n",
      "|     0.801     |   0.00638    |    {'max_depth': 5, 'min_samples_split': 5}   |\n",
      "|     0.801     |   0.00638    |   {'max_depth': 5, 'min_samples_split': 10}   |\n",
      "|     0.801     |   0.00609    |   {'max_depth': 5, 'min_samples_split': 100}  |\n",
      "|     0.801     |   0.00609    |   {'max_depth': 5, 'min_samples_split': 500}  |\n",
      "|     0.784     |   0.00907    |   {'max_depth': 10, 'min_samples_split': 5}   |\n",
      "|     0.787     |   0.00664    |   {'max_depth': 10, 'min_samples_split': 10}  |\n",
      "|     0.814     |   0.00437    |  {'max_depth': 10, 'min_samples_split': 100}  |\n",
      "|     0.819     |   0.00132    |  {'max_depth': 10, 'min_samples_split': 500}  |\n",
      "|     0.671     |   0.01322    |   {'max_depth': 50, 'min_samples_split': 5}   |\n",
      "|     0.687     |   0.02023    |   {'max_depth': 50, 'min_samples_split': 10}  |\n",
      "|     0.789     |   0.00644    |  {'max_depth': 50, 'min_samples_split': 100}  |\n",
      "|     0.816     |    0.0013    |  {'max_depth': 50, 'min_samples_split': 500}  |\n",
      "|     0.671     |   0.01322    |   {'max_depth': 100, 'min_samples_split': 5}  |\n",
      "|     0.687     |   0.02023    |  {'max_depth': 100, 'min_samples_split': 10}  |\n",
      "|     0.789     |   0.00644    |  {'max_depth': 100, 'min_samples_split': 100} |\n",
      "|     0.816     |    0.0013    |  {'max_depth': 100, 'min_samples_split': 500} |\n",
      "|     0.671     |   0.01322    |   {'max_depth': 500, 'min_samples_split': 5}  |\n",
      "|     0.687     |   0.02023    |  {'max_depth': 500, 'min_samples_split': 10}  |\n",
      "|     0.789     |   0.00644    |  {'max_depth': 500, 'min_samples_split': 100} |\n",
      "|     0.816     |    0.0013    |  {'max_depth': 500, 'min_samples_split': 500} |\n",
      "|     0.671     |   0.01322    |  {'max_depth': 1000, 'min_samples_split': 5}  |\n",
      "|     0.687     |   0.02023    |  {'max_depth': 1000, 'min_samples_split': 10} |\n",
      "|     0.789     |   0.00644    | {'max_depth': 1000, 'min_samples_split': 100} |\n",
      "|     0.816     |    0.0013    | {'max_depth': 1000, 'min_samples_split': 500} |\n",
      "+---------------+--------------+-----------------------------------------------+\n",
      "\n",
      "The best estimator:DecisionTreeClassifier(class_weight=None, criterion='gini', max_depth=10,\n",
      "            max_features=None, max_leaf_nodes=None,\n",
      "            min_impurity_decrease=0.0, min_impurity_split=None,\n",
      "            min_samples_leaf=1, min_samples_split=500,\n",
      "            min_weight_fraction_leaf=0.0, presort=False, random_state=507,\n",
      "            splitter='best')\n",
      "\n",
      "The best score is:0.8186259414354398\n",
      "The best value of hyperparameters are:{'max_depth': 10, 'min_samples_split': 500}\n",
      "Mean Score: 0.8138511171291968\n"
     ]
    },
    {
     "data": {
      "text/plain": [
       "Text(0.5,1,'training set results')"
      ]
     },
     "execution_count": 35,
     "metadata": {},
     "output_type": "execute_result"
    },
    {
     "data": {
      "text/plain": [
       "<Figure size 432x288 with 0 Axes>"
      ]
     },
     "metadata": {},
     "output_type": "display_data"
    },
    {
     "data": {
      "image/png": "[encoded data removed]",
      "text/plain": [
       "<Figure size 1080x288 with 4 Axes>"
      ]
     },
     "metadata": {
      "needs_background": "light"
     },
     "output_type": "display_data"
    }
   ],
   "source": [
    "params_dict = {\n",
    "                \"max_depth\": [1, 5, 10, 50, 100, 500, 1000], \n",
    "                \"min_samples_split\": [5, 10, 100, 500]\n",
    "               }\n",
    "    \n",
    "clf = DecisionTreeClassifier(random_state= 507)\n",
    "   \n",
    "# Using GridSearchCVSearchCV with 5 fold cv\n",
    "gs_obj = GridSearchCV(clf, param_grid = params_dict, scoring = 'roc_auc', cv=3)\n",
    "\n",
    "gs_obj.fit(sent_vectors_train, y_train)\n",
    "  \n",
    "# Code https://stackoverflow.com/questions/42793254/what-replaces-gridsearchcv-grid-scores-in-scikit#answer-42800056\n",
    "means = gs_obj.cv_results_['mean_test_score']\n",
    "stds = gs_obj.cv_results_['std_test_score']\n",
    "\n",
    "\n",
    "t1 = PrettyTable()\n",
    "t1.field_names = ['Mean CV Score', 'Std CV Score', 'Param']\n",
    "\n",
    "for mean, std, params in zip(means, stds, gs_obj.cv_results_['params']):\n",
    "    t1.add_row([round(mean, 3), round(std * 2,5), params])\n",
    "\n",
    "print(t1) \n",
    "  \n",
    "print(\"\\nThe best estimator:{}\".format(gs_obj.best_estimator_))\n",
    "print(\"\\nThe best score is:{}\".format(gs_obj.best_score_))\n",
    "print(\"The best value of hyperparameters are:{}\".format(gs_obj.best_params_))\n",
    "\n",
    "# Returns the mean accuracy on the given test data and labels.\n",
    "print(\"Mean Score: {}\".format(gs_obj.score(sent_vectors_test, y_test)))\n",
    "#print(\"penalty: {}\".format(gs_obj.best_params_['penalty']))\n",
    "    \n",
    "#plotting heatmap\n",
    "# https://stackoverflow.com/questions/48791709/how-to-plot-a-heat-map-on-pivot-table-after-grid-search\n",
    "plt.figure(1)\n",
    "plt.figure(figsize=(15, 4))\n",
    "    \n",
    "plt.subplot(121)\n",
    "pvt = pd.pivot_table(pd.DataFrame(gs_obj.cv_results_),\n",
    "          values='mean_test_score', index='param_max_depth', columns='param_min_samples_split')\n",
    "    \n",
    "ax = sns.heatmap(pvt,annot = True)\n",
    "ax.set_title(\"CV set results\")\n",
    "    \n",
    "plt.subplot(122) \n",
    "pvt2 = pd.pivot_table(pd.DataFrame(gs_obj.cv_results_),\n",
    "          values='mean_train_score', index='param_max_depth', columns='param_min_samples_split')\n",
    "    \n",
    "ax2 = sns.heatmap(pvt2,annot = True, )\n",
    "ax2.set_title('training set results')\n",
    "    "
   ]
  },
  {
   "cell_type": "code",
   "execution_count": 65,
   "metadata": {
    "ExecuteTime": {
     "end_time": "2019-04-16T10:49:19.230112Z",
     "start_time": "2019-04-16T10:49:16.484781Z"
    },
    "colab": {},
    "colab_type": "code",
    "id": "VOazWNX_fDxK"
   },
   "outputs": [],
   "source": [
    "# Fitting the model with the best hyperparameter\n",
    "model_avgw2v = DecisionTreeClassifier(max_depth= 10, min_samples_split= 500, random_state= 507)\n",
    "model_avgw2v.fit(sent_vectors_train,y_train)\n",
    "y_pred = model_avgw2v.predict(sent_vectors_test)"
   ]
  },
  {
   "cell_type": "code",
   "execution_count": 66,
   "metadata": {
    "ExecuteTime": {
     "end_time": "2019-04-16T10:52:08.197161Z",
     "start_time": "2019-04-16T10:52:08.074584Z"
    },
    "colab": {
     "base_uri": "https://localhost:8080/",
     "height": 328
    },
    "colab_type": "code",
    "id": "cQ0-r-eyfDxM",
    "outputId": "8806b117-f335-449f-d91e-f8edbbe0fd3d"
   },
   "outputs": [
    {
     "data": {
      "image/png": "[encoded data removed]",
      "text/plain": [
       "<Figure size 432x288 with 1 Axes>"
      ]
     },
     "metadata": {
      "needs_background": "light"
     },
     "output_type": "display_data"
    },
    {
     "name": "stdout",
     "output_type": "stream",
     "text": [
      "train AUC: 0.8695230634615063\n",
      "test AUC: 0.8312343130652505\n"
     ]
    }
   ],
   "source": [
    "# AUC - ROC plot\n",
    "auc_train_avgw2v, auc_test_avgw2v = plot_auc(model_avgw2v, sent_vectors_train, sent_vectors_test)"
   ]
  },
  {
   "cell_type": "code",
   "execution_count": 67,
   "metadata": {
    "ExecuteTime": {
     "end_time": "2019-04-16T10:54:59.592491Z",
     "start_time": "2019-04-16T10:54:59.495236Z"
    },
    "colab": {
     "base_uri": "https://localhost:8080/",
     "height": 136
    },
    "colab_type": "code",
    "id": "vqklj7HifDxP",
    "outputId": "c656e9dc-6c19-4cb7-d334-68f1d9967948"
   },
   "outputs": [
    {
     "name": "stdout",
     "output_type": "stream",
     "text": [
      "*****Train confusion matrix*****\n",
      "[[ 3159  6465]\n",
      " [ 1469 50348]]\n",
      "\n",
      "*****Test confusion matrix*****\n",
      "[[ 1410  3147]\n",
      " [  776 20999]]\n"
     ]
    }
   ],
   "source": [
    "# Confusion matrix\n",
    "print_confusion_matrix(model_avgw2v, sent_vectors_train, sent_vectors_test)"
   ]
  },
  {
   "cell_type": "code",
   "execution_count": 68,
   "metadata": {
    "ExecuteTime": {
     "end_time": "2019-04-16T10:57:41.714899Z",
     "start_time": "2019-04-16T10:57:41.430614Z"
    },
    "colab": {
     "base_uri": "https://localhost:8080/",
     "height": 297
    },
    "colab_type": "code",
    "id": "Nqc8-jTmfDxT",
    "outputId": "b49a9a83-3d17-4c62-d956-4ec71e772232"
   },
   "outputs": [
    {
     "data": {
      "text/plain": [
       "<Figure size 432x288 with 0 Axes>"
      ]
     },
     "metadata": {},
     "output_type": "display_data"
    },
    {
     "data": {
      "image/png": "[encoded data removed]",
      "text/plain": [
       "<Figure size 1080x288 with 4 Axes>"
      ]
     },
     "metadata": {
      "needs_background": "light"
     },
     "output_type": "display_data"
    }
   ],
   "source": [
    "# Heatmap confusion matrix\n",
    "plt.figure(1)\n",
    "plt.figure(figsize=(15, 4))\n",
    "\n",
    "\n",
    "plt.subplot(121)  # Test confusion matrix\n",
    "cnf_matrix = confusion_matrix(y_test, model_avgw2v.predict(sent_vectors_test))\n",
    "np.set_printoptions(precision=2)\n",
    "class_names = ['Negative', 'Positive']\n",
    "# Plot non-normalized confusion matrix\n",
    "#plt.figure()\n",
    "plot_confusion_matrix_heatmap(cnf_matrix, classes=class_names, title='Test Set Confusion Matrix');\n",
    "\n",
    "plt.subplot(122) # Train Confusion matrix\n",
    "cnf_matrix = confusion_matrix(y_train, model_avgw2v.predict(sent_vectors_train))\n",
    "np.set_printoptions(precision=2)\n",
    "class_names = ['Negative', 'Positive']\n",
    "# Plot non-normalized confusion matrix\n",
    "#plt.figure()\n",
    "plot_confusion_matrix_heatmap(cnf_matrix, classes=class_names, title='Train Set Confusion Matrix');"
   ]
  },
  {
   "cell_type": "markdown",
   "metadata": {
    "colab_type": "text",
    "id": "yB-0S_VVsLTG"
   },
   "source": [
    "**Observation**\n",
    "1. For the Avg W2V vectorizer, we calculated max_depth= 10 and min_samples_split= 500 using GridSearchCV for the DecisionTreeClassifier. \n",
    "2. We got train AUC: 0.8695230634615063 and test AUC: 0.8312343130652505\n",
    "3. Using the confusion matrix, we can say that our model correctly predicted 20999 positive reviews and 1410 negative reviews.\n",
    "4. The model incorrectly classified 776 negative reviews and 3147 positive reviews.\n"
   ]
  },
  {
   "cell_type": "markdown",
   "metadata": {
    "_uuid": "675688a0dc19b358036ec2b7e58de8b1149cb8f5",
    "colab_type": "text",
    "id": "1eu04ud71Kys"
   },
   "source": [
    "#### [4.4.1.2] TFIDF weighted W2v"
   ]
  },
  {
   "cell_type": "code",
   "execution_count": 36,
   "metadata": {
    "ExecuteTime": {
     "end_time": "2019-04-22T05:12:08.168361Z",
     "start_time": "2019-04-22T05:12:05.518596Z"
    },
    "_uuid": "2d6de87b17ce76fb79714feb17d5c84f7a601975",
    "colab": {},
    "colab_type": "code",
    "id": "G7xuG9Jp1Kyt"
   },
   "outputs": [],
   "source": [
    "# S = [\"abc def pqr\", \"def def def abc\", \"pqr pqr def\"]\n",
    "model = TfidfVectorizer()\n",
    "X_train_tf_idf_w2v = model.fit_transform(X_train)\n",
    "X_test_tf_idf_w2v = model.transform(X_test)\n",
    "# we are converting a dictionary with word as a key, and the idf as a value\n",
    "dictionary = dict(zip(model.get_feature_names(), list(model.idf_)))"
   ]
  },
  {
   "cell_type": "code",
   "execution_count": 37,
   "metadata": {
    "ExecuteTime": {
     "end_time": "2019-04-22T05:37:21.127582Z",
     "start_time": "2019-04-22T05:12:09.136147Z"
    },
    "_uuid": "3b110ff2baf40700eb08ef1b3e2071402b3008a5",
    "colab": {
     "base_uri": "https://localhost:8080/",
     "height": 34
    },
    "colab_type": "code",
    "id": "ImWZHi4Z1Kyw",
    "outputId": "abf1bdf2-7213-4130-8e8c-ebe121d3486c",
    "scrolled": true
   },
   "outputs": [
    {
     "name": "stderr",
     "output_type": "stream",
     "text": [
      "100%|████████████████████████████████████████████████████████████████████████████████████████████████████████████████████████████| 61441/61441 [25:11<00:00, 40.64it/s]\n"
     ]
    }
   ],
   "source": [
    "# TF-IDF weighted Word2Vec for sentences in X_train\n",
    "tfidf_feat = model.get_feature_names() # tfidf words/col-names\n",
    "# final_tf_idf is the sparse matrix with row= sentence, col=word and cell_val = tfidf\n",
    "\n",
    "tfidf_sent_vectors_train = []; # the tfidf-w2v for each sentence/review is stored in this list\n",
    "row=0;\n",
    "for sent in tqdm(list_of_sentance_train): # for each review/sentence \n",
    "    sent_vec = np.zeros(50) # as word vectors are of zero length\n",
    "    weight_sum =0; # num of words with a valid vector in the sentence/review\n",
    "    for word in sent: # for each word in a review/sentence\n",
    "        if word in w2v_words and word in tfidf_feat:\n",
    "            vec = w2v_model.wv[word]\n",
    "#             tf_idf = tf_idf_matrix[row, tfidf_feat.index(word)]\n",
    "            # to reduce the computation we are \n",
    "            # dictionary[word] = idf value of word in whole courpus\n",
    "            # sent.count(word) = tf valeus of word in this review\n",
    "            tf_idf = dictionary[word]*(sent.count(word)/len(sent))\n",
    "            sent_vec += (vec * tf_idf)\n",
    "            weight_sum += tf_idf\n",
    "    if weight_sum != 0:\n",
    "        sent_vec /= weight_sum\n",
    "    tfidf_sent_vectors_train.append(sent_vec)\n",
    "    row += 1"
   ]
  },
  {
   "cell_type": "code",
   "execution_count": 38,
   "metadata": {
    "ExecuteTime": {
     "end_time": "2019-04-22T05:50:12.007251Z",
     "start_time": "2019-04-22T05:38:03.640755Z"
    },
    "_uuid": "bcd740ff495275cfcb325e9272e1dfdbeb741471",
    "colab": {
     "base_uri": "https://localhost:8080/",
     "height": 34
    },
    "colab_type": "code",
    "id": "-vKhBthA1Ky4",
    "outputId": "82cce351-8d36-4946-89f0-b9c4605d91e8"
   },
   "outputs": [
    {
     "name": "stderr",
     "output_type": "stream",
     "text": [
      "100%|████████████████████████████████████████████████████████████████████████████████████████████████████████████████████████████| 26332/26332 [12:08<00:00, 36.16it/s]\n"
     ]
    }
   ],
   "source": [
    "# TF-IDF weighted Word2Vec for sentences in X_test\n",
    "tfidf_feat = model.get_feature_names() # tfidf words/col-names\n",
    "# final_tf_idf is the sparse matrix with row= sentence, col=word and cell_val = tfidf\n",
    "\n",
    "tfidf_sent_vectors_test = []; # the tfidf-w2v for each sentence/review is stored in this list\n",
    "row=0;\n",
    "for sent in tqdm(list_of_sentance_test): # for each review/sentence \n",
    "    sent_vec = np.zeros(50) # as word vectors are of zero length\n",
    "    weight_sum =0; # num of words with a valid vector in the sentence/review\n",
    "    for word in sent: # for each word in a review/sentence\n",
    "        if word in w2v_words and word in tfidf_feat:\n",
    "            vec = w2v_model.wv[word]\n",
    "#             tf_idf = tf_idf_matrix[row, tfidf_feat.index(word)]\n",
    "            # to reduce the computation we are \n",
    "            # dictionary[word] = idf value of word in whole courpus\n",
    "            # sent.count(word) = tf valeus of word in this review\n",
    "            tf_idf = dictionary[word]*(sent.count(word)/len(sent))\n",
    "            sent_vec += (vec * tf_idf)\n",
    "            weight_sum += tf_idf\n",
    "    if weight_sum != 0:\n",
    "        sent_vec /= weight_sum\n",
    "    tfidf_sent_vectors_test.append(sent_vec)\n",
    "    \n",
    "    row += 1"
   ]
  },
  {
   "cell_type": "markdown",
   "metadata": {},
   "source": [
    "### [5.1.4]  Applying Linear SVM on TFIDF W2V,<font color='red'> SET 4</font>"
   ]
  },
  {
   "cell_type": "code",
   "execution_count": 39,
   "metadata": {
    "ExecuteTime": {
     "end_time": "2019-04-22T05:54:20.560886Z",
     "start_time": "2019-04-22T05:51:14.510297Z"
    },
    "colab": {
     "base_uri": "https://localhost:8080/",
     "height": 604
    },
    "colab_type": "code",
    "id": "szJifPdifDyJ",
    "outputId": "152cf055-e4de-4aab-859c-fbdc76455fdc"
   },
   "outputs": [
    {
     "name": "stdout",
     "output_type": "stream",
     "text": [
      "+---------------+--------------+-----------------------------------------------+\n",
      "| Mean CV Score | Std CV Score |                     Param                     |\n",
      "+---------------+--------------+-----------------------------------------------+\n",
      "|     0.632     |   0.01257    |    {'max_depth': 1, 'min_samples_split': 5}   |\n",
      "|     0.632     |   0.01257    |   {'max_depth': 1, 'min_samples_split': 10}   |\n",
      "|     0.632     |   0.01257    |   {'max_depth': 1, 'min_samples_split': 100}  |\n",
      "|     0.632     |   0.01257    |   {'max_depth': 1, 'min_samples_split': 500}  |\n",
      "|     0.764     |   0.01115    |    {'max_depth': 5, 'min_samples_split': 5}   |\n",
      "|     0.764     |   0.01115    |   {'max_depth': 5, 'min_samples_split': 10}   |\n",
      "|     0.764     |   0.01115    |   {'max_depth': 5, 'min_samples_split': 100}  |\n",
      "|     0.764     |   0.00995    |   {'max_depth': 5, 'min_samples_split': 500}  |\n",
      "|     0.754     |   0.01671    |   {'max_depth': 10, 'min_samples_split': 5}   |\n",
      "|     0.755     |   0.01653    |   {'max_depth': 10, 'min_samples_split': 10}  |\n",
      "|     0.782     |   0.00842    |  {'max_depth': 10, 'min_samples_split': 100}  |\n",
      "|     0.787     |    0.0082    |  {'max_depth': 10, 'min_samples_split': 500}  |\n",
      "|     0.647     |   0.01187    |   {'max_depth': 50, 'min_samples_split': 5}   |\n",
      "|     0.666     |   0.01622    |   {'max_depth': 50, 'min_samples_split': 10}  |\n",
      "|     0.759     |   0.00977    |  {'max_depth': 50, 'min_samples_split': 100}  |\n",
      "|     0.786     |   0.00671    |  {'max_depth': 50, 'min_samples_split': 500}  |\n",
      "|     0.647     |   0.01187    |   {'max_depth': 100, 'min_samples_split': 5}  |\n",
      "|     0.666     |   0.01622    |  {'max_depth': 100, 'min_samples_split': 10}  |\n",
      "|     0.759     |   0.00977    |  {'max_depth': 100, 'min_samples_split': 100} |\n",
      "|     0.786     |   0.00671    |  {'max_depth': 100, 'min_samples_split': 500} |\n",
      "|     0.647     |   0.01187    |   {'max_depth': 500, 'min_samples_split': 5}  |\n",
      "|     0.666     |   0.01622    |  {'max_depth': 500, 'min_samples_split': 10}  |\n",
      "|     0.759     |   0.00977    |  {'max_depth': 500, 'min_samples_split': 100} |\n",
      "|     0.786     |   0.00671    |  {'max_depth': 500, 'min_samples_split': 500} |\n",
      "|     0.647     |   0.01187    |  {'max_depth': 1000, 'min_samples_split': 5}  |\n",
      "|     0.666     |   0.01622    |  {'max_depth': 1000, 'min_samples_split': 10} |\n",
      "|     0.759     |   0.00977    | {'max_depth': 1000, 'min_samples_split': 100} |\n",
      "|     0.786     |   0.00671    | {'max_depth': 1000, 'min_samples_split': 500} |\n",
      "+---------------+--------------+-----------------------------------------------+\n",
      "\n",
      "The best estimator:DecisionTreeClassifier(class_weight=None, criterion='gini', max_depth=10,\n",
      "            max_features=None, max_leaf_nodes=None,\n",
      "            min_impurity_decrease=0.0, min_impurity_split=None,\n",
      "            min_samples_leaf=1, min_samples_split=500,\n",
      "            min_weight_fraction_leaf=0.0, presort=False, random_state=507,\n",
      "            splitter='best')\n",
      "\n",
      "The best score is:0.7873629799736833\n",
      "The best value of hyperparameters are:{'max_depth': 10, 'min_samples_split': 500}\n",
      "Mean Score: 0.7872736131969917\n"
     ]
    },
    {
     "data": {
      "text/plain": [
       "<Figure size 432x288 with 0 Axes>"
      ]
     },
     "metadata": {},
     "output_type": "display_data"
    },
    {
     "data": {
      "image/png": "[encoded data removed]",
      "text/plain": [
       "<Figure size 1080x288 with 4 Axes>"
      ]
     },
     "metadata": {
      "needs_background": "light"
     },
     "output_type": "display_data"
    }
   ],
   "source": [
    "get_best_hyperparameters(model, tfidf_sent_vectors_train, tfidf_sent_vectors_test, y_train, y_test)"
   ]
  },
  {
   "cell_type": "code",
   "execution_count": 69,
   "metadata": {
    "ExecuteTime": {
     "end_time": "2019-04-16T11:00:26.621608Z",
     "start_time": "2019-04-16T11:00:23.935385Z"
    },
    "colab": {},
    "colab_type": "code",
    "id": "oJOC8sgNfDyK"
   },
   "outputs": [],
   "source": [
    "# Fitting the TFIDF - weighted W2V vectorizer on LogisticRegression Model \n",
    "model_tfidfw2v = DecisionTreeClassifier(max_depth= 10, min_samples_split= 500, random_state= 507)\n",
    "model_tfidfw2v.fit(tfidf_sent_vectors_train,y_train)\n",
    "y_pred = model_tfidfw2v.predict(tfidf_sent_vectors_test)"
   ]
  },
  {
   "cell_type": "code",
   "execution_count": 70,
   "metadata": {
    "ExecuteTime": {
     "end_time": "2019-04-16T11:03:10.049702Z",
     "start_time": "2019-04-16T11:03:09.903183Z"
    },
    "colab": {
     "base_uri": "https://localhost:8080/",
     "height": 328
    },
    "colab_type": "code",
    "id": "mcbIifuCfDyM",
    "outputId": "95386ed9-9d40-4b7e-9eae-a9285940de1d"
   },
   "outputs": [
    {
     "data": {
      "image/png": "[encoded data removed]",
      "text/plain": [
       "<Figure size 432x288 with 1 Axes>"
      ]
     },
     "metadata": {
      "needs_background": "light"
     },
     "output_type": "display_data"
    },
    {
     "name": "stdout",
     "output_type": "stream",
     "text": [
      "train AUC: 0.8456291358322838\n",
      "test AUC: 0.7961995007995422\n"
     ]
    }
   ],
   "source": [
    "# AUC- ROC plot\n",
    "auc_train_tfidfw2v, auc_test_tfidfw2v = plot_auc(model_tfidfw2v, tfidf_sent_vectors_train, tfidf_sent_vectors_test)"
   ]
  },
  {
   "cell_type": "code",
   "execution_count": 71,
   "metadata": {
    "ExecuteTime": {
     "end_time": "2019-04-16T11:05:59.606186Z",
     "start_time": "2019-04-16T11:05:59.471830Z"
    },
    "colab": {
     "base_uri": "https://localhost:8080/",
     "height": 136
    },
    "colab_type": "code",
    "id": "ar67oz4sfDyP",
    "outputId": "4274d1cc-f030-40f0-8229-135c8a553e1c"
   },
   "outputs": [
    {
     "name": "stdout",
     "output_type": "stream",
     "text": [
      "*****Train confusion matrix*****\n",
      "[[ 2752  6872]\n",
      " [ 1461 50356]]\n",
      "\n",
      "*****Test confusion matrix*****\n",
      "[[ 1207  3350]\n",
      " [  889 20886]]\n"
     ]
    }
   ],
   "source": [
    "# Confusion Matrix\n",
    "print_confusion_matrix(model_tfidfw2v, tfidf_sent_vectors_train, tfidf_sent_vectors_test)"
   ]
  },
  {
   "cell_type": "code",
   "execution_count": 72,
   "metadata": {
    "ExecuteTime": {
     "end_time": "2019-04-16T11:08:54.042795Z",
     "start_time": "2019-04-16T11:08:53.744004Z"
    },
    "colab": {
     "base_uri": "https://localhost:8080/",
     "height": 297
    },
    "colab_type": "code",
    "id": "wmxbXKRtfDyR",
    "outputId": "6db5d35b-c13a-424a-c278-123ee31feddf"
   },
   "outputs": [
    {
     "data": {
      "text/plain": [
       "<Figure size 432x288 with 0 Axes>"
      ]
     },
     "metadata": {},
     "output_type": "display_data"
    },
    {
     "data": {
      "image/png": "[encoded data removed]",
      "text/plain": [
       "<Figure size 1080x288 with 4 Axes>"
      ]
     },
     "metadata": {
      "needs_background": "light"
     },
     "output_type": "display_data"
    }
   ],
   "source": [
    "# Heatmap Confusion Matrix\n",
    "plt.figure(1)\n",
    "plt.figure(figsize=(15, 4))\n",
    "\n",
    "\n",
    "plt.subplot(121)  # Test confusion matrix\n",
    "cnf_matrix = confusion_matrix(y_test, model_tfidfw2v.predict(tfidf_sent_vectors_test))\n",
    "np.set_printoptions(precision=2)\n",
    "class_names = ['Negative', 'Positive']\n",
    "# Plot non-normalized confusion matrix\n",
    "#plt.figure()\n",
    "plot_confusion_matrix_heatmap(cnf_matrix, classes=class_names, title='Test Set Confusion Matrix');\n",
    "\n",
    "plt.subplot(122) # Train Confusion matrix\n",
    "cnf_matrix = confusion_matrix(y_train, model_tfidfw2v.predict(tfidf_sent_vectors_train))\n",
    "np.set_printoptions(precision=2)\n",
    "class_names = ['Negative', 'Positive']\n",
    "# Plot non-normalized confusion matrix\n",
    "#plt.figure()\n",
    "plot_confusion_matrix_heatmap(cnf_matrix, classes=class_names, title='Train Set Confusion Matrix');"
   ]
  },
  {
   "cell_type": "markdown",
   "metadata": {
    "colab_type": "text",
    "id": "N_b1V-DspKGG"
   },
   "source": [
    "**Observation**\n",
    "1. For the TFIDF- weighted W2V vectorizer, we calculated max_depth= 10 and min_samples_split= 500 using GridSearchCV for the DecisionTreeClassifier. \n",
    "2. We got train AUC: 0.8456291358322838 and test AUC: 0.7961995007995422\n",
    "3. Using the confusion matrix, we can say that our model correctly predicted 20886 positive reviews and 1207 negative reviews.\n",
    "4. The model incorrectly classified 889 negative reviews and 3350 positive reviews."
   ]
  },
  {
   "cell_type": "code",
   "execution_count": null,
   "metadata": {
    "ExecuteTime": {
     "end_time": "2019-04-16T11:11:39.748208Z",
     "start_time": "2019-04-16T11:09:24.212Z"
    }
   },
   "outputs": [],
   "source": [
    "#del final, X_train_bow, X_test_bow,X_train_bow_fe, X_test_bow_fe, X,y\n",
    "\n",
    "#del X_train_tfidf, X_test, y_train, y_test#, X_train_bow, X_test_bow,X_train_bow_fe, X_test_bow_fe\n",
    "#del w2v_words, tfidf_feat, tfidf_sent_vectors_test, tfidf_sent_vectors_train, sent_vectors_test, sent_vectors_train, sent_vec"
   ]
  },
  {
   "cell_type": "markdown",
   "metadata": {},
   "source": [
    "# [6] Conclusions"
   ]
  },
  {
   "cell_type": "code",
   "execution_count": 94,
   "metadata": {
    "ExecuteTime": {
     "end_time": "2019-04-18T04:27:53.767566Z",
     "start_time": "2019-04-18T04:27:53.759546Z"
    },
    "_uuid": "cb30fb8b0724c950bcdf193760d95e5ccdd652a4",
    "colab": {
     "base_uri": "https://localhost:8080/",
     "height": 221
    },
    "colab_type": "code",
    "id": "cKFZZnlI1K3p",
    "outputId": "b3bb57ee-a60b-43c1-a493-53610d314cf1"
   },
   "outputs": [
    {
     "name": "stdout",
     "output_type": "stream",
     "text": [
      "+--------+------------+-----------+--------------------+--------------------+--------------------+\n",
      "| Sr. No | Vectorizer | max_depth |  min_samples_split |     Train AUC      |      Test AUC      |\n",
      "+--------+------------+-----------+--------------------+--------------------+--------------------+\n",
      "|   1    |    BoW     |     50    |        500         | 0.9033231564850217 | 0.8452604148951903 |\n",
      "|   2    |   TF_IDF   |     50    |        500         | 0.9039702399747457 | 0.8277381865675421 |\n",
      "|   3    |  Avg-W2V   |     10    |        500         | 0.8695230634615063 | 0.8312343130652505 |\n",
      "|   4    | TFIDF-W2V  |     10    |        500         | 0.8456291358322838 | 0.7961995007995422 |\n",
      "+--------+------------+-----------+--------------------+--------------------+--------------------+\n"
     ]
    }
   ],
   "source": [
    "C = PrettyTable()\n",
    "\n",
    "C.field_names = ['Sr. No', 'Vectorizer','max_depth',' min_samples_split', 'Train AUC', 'Test AUC']\n",
    "C.add_row([1, 'BoW', 50, 500, auc_train_bow, auc_test_bow])\n",
    "C.add_row([2, 'TF_IDF', 50, 500, auc_train_tfidf, auc_test_tfidf])\n",
    "C.add_row([3, 'Avg-W2V',  10, 500,auc_train_avgw2v, auc_test_avgw2v])\n",
    "C.add_row([4, 'TFIDF-W2V', 10, 500,auc_train_tfidfw2v, auc_test_tfidfw2v])\n",
    "           \n",
    "\n",
    "print(C)\n",
    "del C"
   ]
  },
  {
   "cell_type": "markdown",
   "metadata": {},
   "source": [
    "## Summary"
   ]
  },
  {
   "cell_type": "markdown",
   "metadata": {},
   "source": [
    "1. We implemented Decision Tree Classifier on the Amazon fine food dataset. \n",
    "2. Made use of GridSearchCV to find the best value of max_depth and min_samples_split.\n",
    "3. Performed Feature Engineering on the BoW model and found out the model slightly performed better.\n",
    "4. Different vectors take on different hyperparameter values. We saw values being taken from  \"max_depth\" = [1, 5, 10, 50, 100, 500, 1000] and \"min_samples_split\": [5, 10, 100, 500]\n",
    "5. We visualize the decision tree using the graphviz tool and plot the tree for BoW and TF-IDF.\n",
    "6. We also printed out feature importance for BoW and TFIDF vectorizer "
   ]
  }
 ],
 "metadata": {
  "colab": {
   "collapsed_sections": [
    "1eu04ud71Kys"
   ],
   "name": "Amazon Logistic Regression Submission.ipynb",
   "provenance": [],
   "version": "0.3.2"
  },
  "hide_input": false,
  "kernelspec": {
   "display_name": "Python 3",
   "language": "python",
   "name": "python3"
  },
  "language_info": {
   "codemirror_mode": {
    "name": "ipython",
    "version": 3
   },
   "file_extension": ".py",
   "mimetype": "text/x-python",
   "name": "python",
   "nbconvert_exporter": "python",
   "pygments_lexer": "ipython3",
   "version": "3.7.0"
  },
  "notify_time": "5",
  "toc": {
   "base_numbering": 1,
   "nav_menu": {},
   "number_sections": true,
   "sideBar": true,
   "skip_h1_title": false,
   "title_cell": "Table of Contents",
   "title_sidebar": "Contents",
   "toc_cell": false,
   "toc_position": {},
   "toc_section_display": true,
   "toc_window_display": false
  },
  "varInspector": {
   "cols": {
    "lenName": 16,
    "lenType": 16,
    "lenVar": 40
   },
   "kernels_config": {
    "python": {
     "delete_cmd_postfix": "",
     "delete_cmd_prefix": "del ",
     "library": "var_list.py",
     "varRefreshCmd": "print(var_dic_list())"
    },
    "r": {
     "delete_cmd_postfix": ") ",
     "delete_cmd_prefix": "rm(",
     "library": "var_list.r",
     "varRefreshCmd": "cat(var_dic_list()) "
    }
   },
   "oldHeight": 257,
   "position": {
    "height": "279px",
    "left": "63px",
    "right": "20px",
    "top": "78px",
    "width": "676px"
   },
   "types_to_exclude": [
    "module",
    "function",
    "builtin_function_or_method",
    "instance",
    "_Feature"
   ],
   "varInspector_section_display": "block",
   "window_display": false
  }
 },
 "nbformat": 4,
 "nbformat_minor": 1
}
