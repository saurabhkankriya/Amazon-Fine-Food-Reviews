{
 "cells": [
  {
   "cell_type": "markdown",
   "metadata": {
    "_uuid": "f5e35b9f8eac1c9e23292ac9e75886f513fe8519",
    "colab_type": "text",
    "id": "209x4d6Z1KiE"
   },
   "source": [
    "# Amazon Fine Food Reviews Analysis\n",
    "\n",
    "\n",
    "Data Source: https://www.kaggle.com/snap/amazon-fine-food-reviews <br>\n",
    "\n",
    "EDA: https://nycdatascience.com/blog/student-works/amazon-fine-foods-visualization/\n",
    "\n",
    "\n",
    "The Amazon Fine Food Reviews dataset consists of reviews of fine foods from Amazon.<br>\n",
    "\n",
    "Number of reviews: 568,454<br>\n",
    "Number of users: 256,059<br>\n",
    "Number of products: 74,258<br>\n",
    "Timespan: Oct 1999 - Oct 2012<br>\n",
    "Number of Attributes/Columns in data: 10 \n",
    "\n",
    "Attribute Information:\n",
    "\n",
    "1. Id\n",
    "2. ProductId - unique identifier for the product\n",
    "3. UserId - unqiue identifier for the user\n",
    "4. ProfileName\n",
    "5. HelpfulnessNumerator - number of users who found the review helpful\n",
    "6. HelpfulnessDenominator - number of users who indicated whether they found the review helpful or not\n",
    "7. Score - rating between 1 and 5\n",
    "8. Time - timestamp for the review\n",
    "9. Summary - brief summary of the review\n",
    "10. Text - text of the review\n",
    "\n",
    "\n",
    "#### Objective:\n",
    "Given a review, determine whether the review is positive (rating of 4 or 5) or negative (rating of 1 or 2).\n",
    "\n",
    "<br>\n",
    "[Q] How to determine if a review is positive or negative?<br>\n",
    "<br> \n",
    "[Ans] We could use Score/Rating. A rating of 4 or 5 can be cosnidered as a positive review. A rating of 1 or 2 can be considered as negative one. A review of rating 3 is considered nuetral and such reviews are ignored from our analysis. This is an approximate and proxy way of determining the polarity (positivity/negativity) of a review.\n",
    "\n",
    "\n"
   ]
  },
  {
   "cell_type": "markdown",
   "metadata": {
    "_uuid": "499c036ac717873bde5a6a09918c0324a9ad7c36",
    "colab_type": "text",
    "id": "GEj3PEFt1Kio"
   },
   "source": [
    "# [1]. Reading Data"
   ]
  },
  {
   "cell_type": "markdown",
   "metadata": {
    "_uuid": "25065d10fdf20fcc0b1ad772d44b4a7da3d792cb",
    "colab_type": "text",
    "id": "llHiLTny1Kiu"
   },
   "source": [
    "## [1.1] Loading the data\n",
    "\n",
    "The dataset is available in two forms\n",
    "1. .csv file\n",
    "2. SQLite Database\n",
    "\n",
    "In order to load the data, We have used the SQLITE dataset as it is easier to query the data and visualise the data efficiently.\n",
    "<br> \n",
    "\n",
    "Here as we only want to get the global sentiment of the recommendations (positive or negative), we will purposefully ignore all Scores equal to 3. If the score is above 3, then the recommendation wil be set to \"positive\". Otherwise, it will be set to \"negative\"."
   ]
  },
  {
   "cell_type": "code",
   "execution_count": 1,
   "metadata": {
    "ExecuteTime": {
     "end_time": "2019-03-26T03:32:46.560559Z",
     "start_time": "2019-03-26T03:32:45.024739Z"
    },
    "_uuid": "853a9dde70d428a1d7aea7357c1f50b12ed9c612",
    "colab": {},
    "colab_type": "code",
    "id": "TKiTHrKq1Ki1"
   },
   "outputs": [
    {
     "name": "stderr",
     "output_type": "stream",
     "text": [
      "C:\\Users\\Nit-prj1010\\AppData\\Local\\Continuum\\anaconda3\\lib\\site-packages\\gensim\\utils.py:1197: UserWarning: detected Windows; aliasing chunkize to chunkize_serial\n",
      "  warnings.warn(\"detected Windows; aliasing chunkize to chunkize_serial\")\n"
     ]
    }
   ],
   "source": [
    "%matplotlib inline\n",
    "import warnings\n",
    "warnings.filterwarnings(\"ignore\")\n",
    "\n",
    "import sqlite3\n",
    "\n",
    "import pandas as pd\n",
    "import numpy as np\n",
    "import matplotlib.pyplot as plt\n",
    "import seaborn as sns\n",
    "\n",
    "import nltk\n",
    "import string\n",
    "\n",
    "from sklearn.feature_extraction.text import TfidfTransformer\n",
    "from sklearn.feature_extraction.text import TfidfVectorizer\n",
    "from nltk.stem.porter import PorterStemmer\n",
    "\n",
    "import re\n",
    "# Tutorial about Python regular expressions: https://pymotw.com/2/re/\n",
    "from nltk.corpus import stopwords\n",
    "from nltk.stem import PorterStemmer\n",
    "from nltk.stem.wordnet import WordNetLemmatizer\n",
    "\n",
    "from gensim.models import Word2Vec\n",
    "from gensim.models import KeyedVectors\n",
    "\n",
    "import pickle\n",
    "from tqdm import tqdm\n",
    "import os\n",
    "from collections import Counter\n",
    "\n",
    "# ============================== loading libraries ===========================================\n",
    "\n",
    "from sklearn.model_selection import train_test_split\n",
    "from sklearn.model_selection import cross_validate\n",
    "from sklearn.model_selection import cross_val_score\n",
    "\n",
    "from sklearn.preprocessing import StandardScaler\n",
    "\n",
    "from sklearn.model_selection import train_test_split\n",
    "from sklearn.model_selection import GridSearchCV\n",
    "from sklearn.model_selection import RandomizedSearchCV\n",
    "from sklearn.linear_model import LogisticRegression\n",
    "\n",
    "from sklearn.metrics import accuracy_score\n",
    "from sklearn.metrics import confusion_matrix\n",
    "from sklearn import metrics\n",
    "from sklearn.metrics import roc_curve, auc\n",
    "\n",
    "from sklearn.feature_extraction.text import CountVectorizer\n",
    "\n",
    "from prettytable import PrettyTable\n",
    "\n",
    "from sklearn.metrics import confusion_matrix\n",
    "from sklearn.metrics import classification_report\n",
    "\n",
    "import itertools\n"
   ]
  },
  {
   "cell_type": "code",
   "execution_count": 2,
   "metadata": {
    "ExecuteTime": {
     "end_time": "2019-03-26T03:32:48.848384Z",
     "start_time": "2019-03-26T03:32:48.843365Z"
    },
    "_uuid": "8167f4ada9910c06e20ac6bfc4ba9335958df7b9",
    "colab": {
     "base_uri": "https://localhost:8080/",
     "height": 34
    },
    "colab_type": "code",
    "id": "Tr719sLp1KjS",
    "outputId": "5e8d57be-953f-49b7-b604-1e54707b1a30",
    "scrolled": true
   },
   "outputs": [
    {
     "name": "stdout",
     "output_type": "stream",
     "text": [
      "['.ipynb_checkpoints', '04 Amazon Fine Food Reviews Analysis_NaiveBayes.ipynb', '05 Amazon Fine Food Reviews Analysis_Logistic Regression.ipynb', '05 Amazon Fine Food Reviews Analysis_Logistic Regression_original.ipynb', 'Amazon Logistic Regression Submission.ipynb', 'Amazon_Logistic_Regression_Submission.ipynb', 'database.sqlite', 'Logistic Regression in progress.ipynb', 'LogisticRegression.ipynb', 'LogisticRegression_copy.ipynb', 'Logistic_Regression_from_KNN_fun.ipynb', 'model_avgw2v_l1.pkl', 'model_avgw2v_l2.pkl', 'preprocessed_final', 'sent_vectors_test.pkl', 'sent_vectors_train.pkl', 'Some subtle python operations.ipynb']\n"
     ]
    }
   ],
   "source": [
    "import os\n",
    "print(os.listdir(\".\"))"
   ]
  },
  {
   "cell_type": "code",
   "execution_count": 3,
   "metadata": {
    "ExecuteTime": {
     "end_time": "2019-03-26T03:33:07.092410Z",
     "start_time": "2019-03-26T03:33:07.089398Z"
    },
    "colab": {
     "base_uri": "https://localhost:8080/",
     "height": 91,
     "resources": {
      "http://localhost:8080/nbextensions/google.colab/files.js": {
       "data": "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",
       "headers": [
        [
         "content-type",
         "application/javascript"
        ]
       ],
       "ok": true,
       "status": 200,
       "status_text": ""
      }
     }
    },
    "colab_type": "code",
    "id": "DzBiWyGklC1q",
    "outputId": "6ffaf0ff-ce7b-49d4-a73f-c61eb4a1f319"
   },
   "outputs": [],
   "source": [
    "# from google.colab import files\n",
    "# files.upload()\n",
    "\n",
    "# !pip install -q kaggle\n",
    "\n",
    "# !mkdir -p ~/.kaggle\n",
    "# !cp kaggle.json ~/.kaggle/\n",
    "\n",
    "# !kaggle datasets download -d snap/amazon-fine-food-reviews\n",
    "\n",
    "# !unzip amazon-fine-food-reviews.zip"
   ]
  },
  {
   "cell_type": "markdown",
   "metadata": {
    "_uuid": "1d3c03c38ec1baa87935cfdfdca4bc2a63611b62",
    "colab_type": "text",
    "id": "4FaO7Z3q1Kjk"
   },
   "source": [
    "##  Data Import and Preprocessing"
   ]
  },
  {
   "cell_type": "code",
   "execution_count": 0,
   "metadata": {
    "ExecuteTime": {
     "start_time": "2019-03-20T10:32:15.823Z"
    },
    "colab": {},
    "colab_type": "code",
    "id": "kHPocTeo3qfG"
   },
   "outputs": [],
   "source": [
    "# Google Drive\n",
    "#final = pd.read_pickle('/content/drive/My Drive/Aaic/final_0317.pkl')"
   ]
  },
  {
   "cell_type": "code",
   "execution_count": 0,
   "metadata": {
    "ExecuteTime": {
     "end_time": "2019-03-22T04:06:59.582904Z",
     "start_time": "2019-03-22T04:06:56.894465Z"
    },
    "colab": {},
    "colab_type": "code",
    "id": "3jxeFix8fDiz"
   },
   "outputs": [],
   "source": [
    "# Local\n",
    "#final = final = pickle.load(open('preprocessed_final', 'rb'))"
   ]
  },
  {
   "cell_type": "code",
   "execution_count": 8,
   "metadata": {
    "colab": {
     "base_uri": "https://localhost:8080/",
     "height": 51
    },
    "colab_type": "code",
    "id": "POk-d883l2K4",
    "outputId": "9b4202b9-c6e7-49fb-cd07-aeade7e72fe4"
   },
   "outputs": [
    {
     "name": "stdout",
     "output_type": "stream",
     "text": [
      "amazon-fine-food-reviews.zip  hashes.txt   Reviews.csv\n",
      "database.sqlite\t\t      kaggle.json  sample_data\n"
     ]
    }
   ],
   "source": [
    "#!ls\n"
   ]
  },
  {
   "cell_type": "code",
   "execution_count": 4,
   "metadata": {
    "ExecuteTime": {
     "end_time": "2019-03-26T03:33:17.285406Z",
     "start_time": "2019-03-26T03:33:17.280889Z"
    },
    "_uuid": "976b2c4205fa49ac1bf3eb385d0b17457ffe408f",
    "colab": {},
    "colab_type": "code",
    "id": "Xlem1kCT1Kjn",
    "run_control": {
     "marked": false
    }
   },
   "outputs": [],
   "source": [
    "# using SQLite Table to read data.\n",
    "con = sqlite3.connect('database.sqlite')\n",
    "\n",
    "# filtering only positive and negative reviews i.e. \n",
    "# not taking into consideration those reviews with Score=3\n",
    "# SELECT * FROM Reviews WHERE Score != 3 LIMIT 500000, will give top 500000 data points\n",
    "# you can change the number to any other number based on your computing power\n",
    "\n",
    "# filtered_data = pd.read_sql_query(\"\"\" SELECT * FROM Reviews WHERE Score != 3 LIMIT 500000\"\"\", con) \n",
    "# for tsne assignment you can take 5k data points"
   ]
  },
  {
   "cell_type": "code",
   "execution_count": 5,
   "metadata": {
    "ExecuteTime": {
     "end_time": "2019-03-26T03:33:20.509592Z",
     "start_time": "2019-03-26T03:33:19.859954Z"
    },
    "_uuid": "976b2c4205fa49ac1bf3eb385d0b17457ffe408f",
    "colab": {},
    "colab_type": "code",
    "id": "uhB8wFiJ1Kj3",
    "scrolled": true
   },
   "outputs": [],
   "source": [
    "filtered_data = pd.read_sql_query(\"\"\" SELECT * FROM Reviews WHERE Score != 3 LIMIT 100000\"\"\", con) "
   ]
  },
  {
   "cell_type": "code",
   "execution_count": 6,
   "metadata": {
    "ExecuteTime": {
     "end_time": "2019-03-26T03:33:21.345546Z",
     "start_time": "2019-03-26T03:33:21.340528Z"
    },
    "_uuid": "358b71590da0211bccc798753429e02d9d1e60e9",
    "colab": {},
    "colab_type": "code",
    "id": "hLAqwY3D1KkM"
   },
   "outputs": [],
   "source": [
    "# Give reviews with Score>3 a positive rating(1), and reviews with a score<3 a negative rating(0).\n",
    "def partition(x):\n",
    "    if x < 3:\n",
    "        return 0\n",
    "    return 1"
   ]
  },
  {
   "cell_type": "code",
   "execution_count": 7,
   "metadata": {
    "ExecuteTime": {
     "end_time": "2019-03-26T03:33:22.744823Z",
     "start_time": "2019-03-26T03:33:22.695123Z"
    },
    "_uuid": "b80201054659f6fdc2a48c573a4f6f23706d2892",
    "colab": {
     "base_uri": "https://localhost:8080/",
     "height": 244
    },
    "colab_type": "code",
    "id": "JFBXGCht1Kkg",
    "outputId": "3bf12ce9-7d26-4549-abcc-77fa8aa4bdaa",
    "scrolled": true
   },
   "outputs": [
    {
     "name": "stdout",
     "output_type": "stream",
     "text": [
      "Number of data points in our data (100000, 10)\n"
     ]
    },
    {
     "data": {
      "text/html": [
       "<div>\n",
       "<style scoped>\n",
       "    .dataframe tbody tr th:only-of-type {\n",
       "        vertical-align: middle;\n",
       "    }\n",
       "\n",
       "    .dataframe tbody tr th {\n",
       "        vertical-align: top;\n",
       "    }\n",
       "\n",
       "    .dataframe thead th {\n",
       "        text-align: right;\n",
       "    }\n",
       "</style>\n",
       "<table border=\"1\" class=\"dataframe\">\n",
       "  <thead>\n",
       "    <tr style=\"text-align: right;\">\n",
       "      <th></th>\n",
       "      <th>Id</th>\n",
       "      <th>ProductId</th>\n",
       "      <th>UserId</th>\n",
       "      <th>ProfileName</th>\n",
       "      <th>HelpfulnessNumerator</th>\n",
       "      <th>HelpfulnessDenominator</th>\n",
       "      <th>Score</th>\n",
       "      <th>Time</th>\n",
       "      <th>Summary</th>\n",
       "      <th>Text</th>\n",
       "    </tr>\n",
       "  </thead>\n",
       "  <tbody>\n",
       "    <tr>\n",
       "      <th>0</th>\n",
       "      <td>1</td>\n",
       "      <td>B001E4KFG0</td>\n",
       "      <td>A3SGXH7AUHU8GW</td>\n",
       "      <td>delmartian</td>\n",
       "      <td>1</td>\n",
       "      <td>1</td>\n",
       "      <td>1</td>\n",
       "      <td>1303862400</td>\n",
       "      <td>Good Quality Dog Food</td>\n",
       "      <td>I have bought several of the Vitality canned d...</td>\n",
       "    </tr>\n",
       "    <tr>\n",
       "      <th>1</th>\n",
       "      <td>2</td>\n",
       "      <td>B00813GRG4</td>\n",
       "      <td>A1D87F6ZCVE5NK</td>\n",
       "      <td>dll pa</td>\n",
       "      <td>0</td>\n",
       "      <td>0</td>\n",
       "      <td>0</td>\n",
       "      <td>1346976000</td>\n",
       "      <td>Not as Advertised</td>\n",
       "      <td>Product arrived labeled as Jumbo Salted Peanut...</td>\n",
       "    </tr>\n",
       "    <tr>\n",
       "      <th>2</th>\n",
       "      <td>3</td>\n",
       "      <td>B000LQOCH0</td>\n",
       "      <td>ABXLMWJIXXAIN</td>\n",
       "      <td>Natalia Corres \"Natalia Corres\"</td>\n",
       "      <td>1</td>\n",
       "      <td>1</td>\n",
       "      <td>1</td>\n",
       "      <td>1219017600</td>\n",
       "      <td>\"Delight\" says it all</td>\n",
       "      <td>This is a confection that has been around a fe...</td>\n",
       "    </tr>\n",
       "  </tbody>\n",
       "</table>\n",
       "</div>"
      ],
      "text/plain": [
       "   Id   ProductId          UserId                      ProfileName  \\\n",
       "0   1  B001E4KFG0  A3SGXH7AUHU8GW                       delmartian   \n",
       "1   2  B00813GRG4  A1D87F6ZCVE5NK                           dll pa   \n",
       "2   3  B000LQOCH0   ABXLMWJIXXAIN  Natalia Corres \"Natalia Corres\"   \n",
       "\n",
       "   HelpfulnessNumerator  HelpfulnessDenominator  Score        Time  \\\n",
       "0                     1                       1      1  1303862400   \n",
       "1                     0                       0      0  1346976000   \n",
       "2                     1                       1      1  1219017600   \n",
       "\n",
       "                 Summary                                               Text  \n",
       "0  Good Quality Dog Food  I have bought several of the Vitality canned d...  \n",
       "1      Not as Advertised  Product arrived labeled as Jumbo Salted Peanut...  \n",
       "2  \"Delight\" says it all  This is a confection that has been around a fe...  "
      ]
     },
     "execution_count": 7,
     "metadata": {},
     "output_type": "execute_result"
    }
   ],
   "source": [
    "#changing reviews with score less than 3 to be positive and vice-versa\n",
    "actualScore = filtered_data['Score']\n",
    "positiveNegative = actualScore.map(partition) \n",
    "filtered_data['Score'] = positiveNegative\n",
    "print(\"Number of data points in our data\", filtered_data.shape)\n",
    "filtered_data.head(3)"
   ]
  },
  {
   "cell_type": "code",
   "execution_count": 8,
   "metadata": {
    "ExecuteTime": {
     "end_time": "2019-03-26T03:33:28.839370Z",
     "start_time": "2019-03-26T03:33:23.959946Z"
    },
    "_uuid": "32f097b1d0e6e48d67681bb228bc35fc2040a6a4",
    "colab": {},
    "colab_type": "code",
    "id": "b5wBOeE21Kkv"
   },
   "outputs": [],
   "source": [
    "display = pd.read_sql_query(\"\"\"\n",
    "SELECT UserId, ProductId, ProfileName, Time, Score, Text, COUNT(*)\n",
    "FROM Reviews\n",
    "GROUP BY UserId\n",
    "HAVING COUNT(*)>1\n",
    "\"\"\", con)"
   ]
  },
  {
   "cell_type": "code",
   "execution_count": 9,
   "metadata": {
    "ExecuteTime": {
     "end_time": "2019-03-26T03:33:28.915220Z",
     "start_time": "2019-03-26T03:33:28.902169Z"
    },
    "_uuid": "24aa119be8f521b132a3ad5aff156af09a592f8c",
    "colab": {
     "base_uri": "https://localhost:8080/",
     "height": 221
    },
    "colab_type": "code",
    "id": "4l9OFe9Y1KlZ",
    "outputId": "d13756c5-dcc1-4767-efc9-51ce6078ca0c",
    "scrolled": false
   },
   "outputs": [
    {
     "name": "stdout",
     "output_type": "stream",
     "text": [
      "(80668, 7)\n"
     ]
    },
    {
     "data": {
      "text/html": [
       "<div>\n",
       "<style scoped>\n",
       "    .dataframe tbody tr th:only-of-type {\n",
       "        vertical-align: middle;\n",
       "    }\n",
       "\n",
       "    .dataframe tbody tr th {\n",
       "        vertical-align: top;\n",
       "    }\n",
       "\n",
       "    .dataframe thead th {\n",
       "        text-align: right;\n",
       "    }\n",
       "</style>\n",
       "<table border=\"1\" class=\"dataframe\">\n",
       "  <thead>\n",
       "    <tr style=\"text-align: right;\">\n",
       "      <th></th>\n",
       "      <th>UserId</th>\n",
       "      <th>ProductId</th>\n",
       "      <th>ProfileName</th>\n",
       "      <th>Time</th>\n",
       "      <th>Score</th>\n",
       "      <th>Text</th>\n",
       "      <th>COUNT(*)</th>\n",
       "    </tr>\n",
       "  </thead>\n",
       "  <tbody>\n",
       "    <tr>\n",
       "      <th>0</th>\n",
       "      <td>#oc-R115TNMSPFT9I7</td>\n",
       "      <td>B007Y59HVM</td>\n",
       "      <td>Breyton</td>\n",
       "      <td>1331510400</td>\n",
       "      <td>2</td>\n",
       "      <td>Overall its just OK when considering the price...</td>\n",
       "      <td>2</td>\n",
       "    </tr>\n",
       "    <tr>\n",
       "      <th>1</th>\n",
       "      <td>#oc-R11D9D7SHXIJB9</td>\n",
       "      <td>B005HG9ET0</td>\n",
       "      <td>Louis E. Emory \"hoppy\"</td>\n",
       "      <td>1342396800</td>\n",
       "      <td>5</td>\n",
       "      <td>My wife has recurring extreme muscle spasms, u...</td>\n",
       "      <td>3</td>\n",
       "    </tr>\n",
       "    <tr>\n",
       "      <th>2</th>\n",
       "      <td>#oc-R11DNU2NBKQ23Z</td>\n",
       "      <td>B007Y59HVM</td>\n",
       "      <td>Kim Cieszykowski</td>\n",
       "      <td>1348531200</td>\n",
       "      <td>1</td>\n",
       "      <td>This coffee is horrible and unfortunately not ...</td>\n",
       "      <td>2</td>\n",
       "    </tr>\n",
       "    <tr>\n",
       "      <th>3</th>\n",
       "      <td>#oc-R11O5J5ZVQE25C</td>\n",
       "      <td>B005HG9ET0</td>\n",
       "      <td>Penguin Chick</td>\n",
       "      <td>1346889600</td>\n",
       "      <td>5</td>\n",
       "      <td>This will be the bottle that you grab from the...</td>\n",
       "      <td>3</td>\n",
       "    </tr>\n",
       "    <tr>\n",
       "      <th>4</th>\n",
       "      <td>#oc-R12KPBODL2B5ZD</td>\n",
       "      <td>B007OSBE1U</td>\n",
       "      <td>Christopher P. Presta</td>\n",
       "      <td>1348617600</td>\n",
       "      <td>1</td>\n",
       "      <td>I didnt like this coffee. Instead of telling y...</td>\n",
       "      <td>2</td>\n",
       "    </tr>\n",
       "  </tbody>\n",
       "</table>\n",
       "</div>"
      ],
      "text/plain": [
       "               UserId   ProductId             ProfileName        Time  Score  \\\n",
       "0  #oc-R115TNMSPFT9I7  B007Y59HVM                 Breyton  1331510400      2   \n",
       "1  #oc-R11D9D7SHXIJB9  B005HG9ET0  Louis E. Emory \"hoppy\"  1342396800      5   \n",
       "2  #oc-R11DNU2NBKQ23Z  B007Y59HVM        Kim Cieszykowski  1348531200      1   \n",
       "3  #oc-R11O5J5ZVQE25C  B005HG9ET0           Penguin Chick  1346889600      5   \n",
       "4  #oc-R12KPBODL2B5ZD  B007OSBE1U   Christopher P. Presta  1348617600      1   \n",
       "\n",
       "                                                Text  COUNT(*)  \n",
       "0  Overall its just OK when considering the price...         2  \n",
       "1  My wife has recurring extreme muscle spasms, u...         3  \n",
       "2  This coffee is horrible and unfortunately not ...         2  \n",
       "3  This will be the bottle that you grab from the...         3  \n",
       "4  I didnt like this coffee. Instead of telling y...         2  "
      ]
     },
     "execution_count": 9,
     "metadata": {},
     "output_type": "execute_result"
    }
   ],
   "source": [
    "print(display.shape)\n",
    "display.head()"
   ]
  },
  {
   "cell_type": "code",
   "execution_count": 10,
   "metadata": {
    "ExecuteTime": {
     "end_time": "2019-03-26T03:33:29.004580Z",
     "start_time": "2019-03-26T03:33:28.978473Z"
    },
    "_uuid": "95f274a02a2a63a0604f300309a05b697788a261",
    "colab": {
     "base_uri": "https://localhost:8080/",
     "height": 80
    },
    "colab_type": "code",
    "id": "M-zbGfJ61Klo",
    "outputId": "3fcb0b05-14f6-4ecc-e003-81e0eb3c4f7e",
    "scrolled": true
   },
   "outputs": [
    {
     "data": {
      "text/html": [
       "<div>\n",
       "<style scoped>\n",
       "    .dataframe tbody tr th:only-of-type {\n",
       "        vertical-align: middle;\n",
       "    }\n",
       "\n",
       "    .dataframe tbody tr th {\n",
       "        vertical-align: top;\n",
       "    }\n",
       "\n",
       "    .dataframe thead th {\n",
       "        text-align: right;\n",
       "    }\n",
       "</style>\n",
       "<table border=\"1\" class=\"dataframe\">\n",
       "  <thead>\n",
       "    <tr style=\"text-align: right;\">\n",
       "      <th></th>\n",
       "      <th>UserId</th>\n",
       "      <th>ProductId</th>\n",
       "      <th>ProfileName</th>\n",
       "      <th>Time</th>\n",
       "      <th>Score</th>\n",
       "      <th>Text</th>\n",
       "      <th>COUNT(*)</th>\n",
       "    </tr>\n",
       "  </thead>\n",
       "  <tbody>\n",
       "    <tr>\n",
       "      <th>80638</th>\n",
       "      <td>AZY10LLTJ71NX</td>\n",
       "      <td>B006P7E5ZI</td>\n",
       "      <td>undertheshrine \"undertheshrine\"</td>\n",
       "      <td>1334707200</td>\n",
       "      <td>5</td>\n",
       "      <td>I was recommended to try green tea extract to ...</td>\n",
       "      <td>5</td>\n",
       "    </tr>\n",
       "  </tbody>\n",
       "</table>\n",
       "</div>"
      ],
      "text/plain": [
       "              UserId   ProductId                      ProfileName        Time  \\\n",
       "80638  AZY10LLTJ71NX  B006P7E5ZI  undertheshrine \"undertheshrine\"  1334707200   \n",
       "\n",
       "       Score                                               Text  COUNT(*)  \n",
       "80638      5  I was recommended to try green tea extract to ...         5  "
      ]
     },
     "execution_count": 10,
     "metadata": {},
     "output_type": "execute_result"
    }
   ],
   "source": [
    "display[display['UserId']=='AZY10LLTJ71NX']"
   ]
  },
  {
   "cell_type": "code",
   "execution_count": 11,
   "metadata": {
    "ExecuteTime": {
     "end_time": "2019-03-26T03:33:29.074875Z",
     "start_time": "2019-03-26T03:33:29.068348Z"
    },
    "_uuid": "df56eab9da252a051b7498b0ba01eed76251ca86",
    "colab": {
     "base_uri": "https://localhost:8080/",
     "height": 34
    },
    "colab_type": "code",
    "id": "p8QXsopx1Kl0",
    "outputId": "2c40edd2-350e-4c59-dd8c-ee809a5d9613"
   },
   "outputs": [
    {
     "data": {
      "text/plain": [
       "393063"
      ]
     },
     "execution_count": 11,
     "metadata": {},
     "output_type": "execute_result"
    }
   ],
   "source": [
    "display['COUNT(*)'].sum()"
   ]
  },
  {
   "cell_type": "markdown",
   "metadata": {
    "_uuid": "d9f42b667c244cc482ecf2bbb26f6917edb84d34",
    "colab_type": "text",
    "id": "FF0hDOwG1KmO"
   },
   "source": [
    "#  [2] Exploratory Data Analysis"
   ]
  },
  {
   "cell_type": "markdown",
   "metadata": {
    "_uuid": "8a6efe966d0489efb1c30de43ac82077d0d13c42",
    "colab_type": "text",
    "id": "WvUoBvHe1KmT"
   },
   "source": [
    "## [2.1] Data Cleaning: Deduplication\n",
    "\n",
    "It is observed (as shown in the table below) that the reviews data had many duplicate entries. Hence it was necessary to remove duplicates in order to get unbiased results for the analysis of the data.  Following is an example:"
   ]
  },
  {
   "cell_type": "code",
   "execution_count": 12,
   "metadata": {
    "ExecuteTime": {
     "end_time": "2019-03-26T03:33:29.753344Z",
     "start_time": "2019-03-26T03:33:29.223706Z"
    },
    "_uuid": "e7270ea3dd1fad62b918ceaa80e9d1062434b45f",
    "colab": {
     "base_uri": "https://localhost:8080/",
     "height": 459
    },
    "colab_type": "code",
    "id": "rZJZodKE1Kmc",
    "outputId": "29730ab4-cc76-461c-ecdb-b04bcc4ecb16",
    "scrolled": false
   },
   "outputs": [
    {
     "data": {
      "text/html": [
       "<div>\n",
       "<style scoped>\n",
       "    .dataframe tbody tr th:only-of-type {\n",
       "        vertical-align: middle;\n",
       "    }\n",
       "\n",
       "    .dataframe tbody tr th {\n",
       "        vertical-align: top;\n",
       "    }\n",
       "\n",
       "    .dataframe thead th {\n",
       "        text-align: right;\n",
       "    }\n",
       "</style>\n",
       "<table border=\"1\" class=\"dataframe\">\n",
       "  <thead>\n",
       "    <tr style=\"text-align: right;\">\n",
       "      <th></th>\n",
       "      <th>Id</th>\n",
       "      <th>ProductId</th>\n",
       "      <th>UserId</th>\n",
       "      <th>ProfileName</th>\n",
       "      <th>HelpfulnessNumerator</th>\n",
       "      <th>HelpfulnessDenominator</th>\n",
       "      <th>Score</th>\n",
       "      <th>Time</th>\n",
       "      <th>Summary</th>\n",
       "      <th>Text</th>\n",
       "    </tr>\n",
       "  </thead>\n",
       "  <tbody>\n",
       "    <tr>\n",
       "      <th>0</th>\n",
       "      <td>78445</td>\n",
       "      <td>B000HDL1RQ</td>\n",
       "      <td>AR5J8UI46CURR</td>\n",
       "      <td>Geetha Krishnan</td>\n",
       "      <td>2</td>\n",
       "      <td>2</td>\n",
       "      <td>5</td>\n",
       "      <td>1199577600</td>\n",
       "      <td>LOACKER QUADRATINI VANILLA WAFERS</td>\n",
       "      <td>DELICIOUS WAFERS. I FIND THAT EUROPEAN WAFERS ...</td>\n",
       "    </tr>\n",
       "    <tr>\n",
       "      <th>1</th>\n",
       "      <td>138317</td>\n",
       "      <td>B000HDOPYC</td>\n",
       "      <td>AR5J8UI46CURR</td>\n",
       "      <td>Geetha Krishnan</td>\n",
       "      <td>2</td>\n",
       "      <td>2</td>\n",
       "      <td>5</td>\n",
       "      <td>1199577600</td>\n",
       "      <td>LOACKER QUADRATINI VANILLA WAFERS</td>\n",
       "      <td>DELICIOUS WAFERS. I FIND THAT EUROPEAN WAFERS ...</td>\n",
       "    </tr>\n",
       "    <tr>\n",
       "      <th>2</th>\n",
       "      <td>138277</td>\n",
       "      <td>B000HDOPYM</td>\n",
       "      <td>AR5J8UI46CURR</td>\n",
       "      <td>Geetha Krishnan</td>\n",
       "      <td>2</td>\n",
       "      <td>2</td>\n",
       "      <td>5</td>\n",
       "      <td>1199577600</td>\n",
       "      <td>LOACKER QUADRATINI VANILLA WAFERS</td>\n",
       "      <td>DELICIOUS WAFERS. I FIND THAT EUROPEAN WAFERS ...</td>\n",
       "    </tr>\n",
       "    <tr>\n",
       "      <th>3</th>\n",
       "      <td>73791</td>\n",
       "      <td>B000HDOPZG</td>\n",
       "      <td>AR5J8UI46CURR</td>\n",
       "      <td>Geetha Krishnan</td>\n",
       "      <td>2</td>\n",
       "      <td>2</td>\n",
       "      <td>5</td>\n",
       "      <td>1199577600</td>\n",
       "      <td>LOACKER QUADRATINI VANILLA WAFERS</td>\n",
       "      <td>DELICIOUS WAFERS. I FIND THAT EUROPEAN WAFERS ...</td>\n",
       "    </tr>\n",
       "    <tr>\n",
       "      <th>4</th>\n",
       "      <td>155049</td>\n",
       "      <td>B000PAQ75C</td>\n",
       "      <td>AR5J8UI46CURR</td>\n",
       "      <td>Geetha Krishnan</td>\n",
       "      <td>2</td>\n",
       "      <td>2</td>\n",
       "      <td>5</td>\n",
       "      <td>1199577600</td>\n",
       "      <td>LOACKER QUADRATINI VANILLA WAFERS</td>\n",
       "      <td>DELICIOUS WAFERS. I FIND THAT EUROPEAN WAFERS ...</td>\n",
       "    </tr>\n",
       "  </tbody>\n",
       "</table>\n",
       "</div>"
      ],
      "text/plain": [
       "       Id   ProductId         UserId      ProfileName  HelpfulnessNumerator  \\\n",
       "0   78445  B000HDL1RQ  AR5J8UI46CURR  Geetha Krishnan                     2   \n",
       "1  138317  B000HDOPYC  AR5J8UI46CURR  Geetha Krishnan                     2   \n",
       "2  138277  B000HDOPYM  AR5J8UI46CURR  Geetha Krishnan                     2   \n",
       "3   73791  B000HDOPZG  AR5J8UI46CURR  Geetha Krishnan                     2   \n",
       "4  155049  B000PAQ75C  AR5J8UI46CURR  Geetha Krishnan                     2   \n",
       "\n",
       "   HelpfulnessDenominator  Score        Time  \\\n",
       "0                       2      5  1199577600   \n",
       "1                       2      5  1199577600   \n",
       "2                       2      5  1199577600   \n",
       "3                       2      5  1199577600   \n",
       "4                       2      5  1199577600   \n",
       "\n",
       "                             Summary  \\\n",
       "0  LOACKER QUADRATINI VANILLA WAFERS   \n",
       "1  LOACKER QUADRATINI VANILLA WAFERS   \n",
       "2  LOACKER QUADRATINI VANILLA WAFERS   \n",
       "3  LOACKER QUADRATINI VANILLA WAFERS   \n",
       "4  LOACKER QUADRATINI VANILLA WAFERS   \n",
       "\n",
       "                                                Text  \n",
       "0  DELICIOUS WAFERS. I FIND THAT EUROPEAN WAFERS ...  \n",
       "1  DELICIOUS WAFERS. I FIND THAT EUROPEAN WAFERS ...  \n",
       "2  DELICIOUS WAFERS. I FIND THAT EUROPEAN WAFERS ...  \n",
       "3  DELICIOUS WAFERS. I FIND THAT EUROPEAN WAFERS ...  \n",
       "4  DELICIOUS WAFERS. I FIND THAT EUROPEAN WAFERS ...  "
      ]
     },
     "execution_count": 12,
     "metadata": {},
     "output_type": "execute_result"
    }
   ],
   "source": [
    "display= pd.read_sql_query(\"\"\"\n",
    "SELECT *\n",
    "FROM Reviews\n",
    "WHERE Score != 3 AND UserId=\"AR5J8UI46CURR\"\n",
    "ORDER BY ProductID\n",
    "\"\"\", con)\n",
    "display.head()"
   ]
  },
  {
   "cell_type": "markdown",
   "metadata": {
    "_uuid": "091012ef34b5b632109b9d32fe9d73c29a57434c",
    "colab_type": "text",
    "id": "TK0nMT161Kmk"
   },
   "source": [
    "As it can be seen above that same user has multiple reviews with same values for HelpfulnessNumerator, HelpfulnessDenominator, Score, Time, Summary and Text and on doing analysis it was found that <br>\n",
    "<br> \n",
    "ProductId=B000HDOPZG was Loacker Quadratini Vanilla Wafer Cookies, 8.82-Ounce Packages (Pack of 8)<br>\n",
    "<br> \n",
    "ProductId=B000HDL1RQ was Loacker Quadratini Lemon Wafer Cookies, 8.82-Ounce Packages (Pack of 8) and so on<br>\n",
    "\n",
    "It was inferred after analysis that reviews with same parameters other than ProductId belonged to the same product just having different flavour or quantity. Hence in order to reduce redundancy it was decided to eliminate the rows having same parameters.<br>\n",
    "\n",
    "The method used for the same was that we first sort the data according to ProductId and then just keep the first similar product review and delelte the others. for eg. in the above just the review for ProductId=B000HDL1RQ remains. This method ensures that there is only one representative for each product and deduplication without sorting would lead to possibility of different representatives still existing for the same product."
   ]
  },
  {
   "cell_type": "code",
   "execution_count": 13,
   "metadata": {
    "ExecuteTime": {
     "end_time": "2019-03-26T03:33:31.895362Z",
     "start_time": "2019-03-26T03:33:31.761321Z"
    },
    "_uuid": "8a683015eee067c5bc16ecd1e9b490f775afda15",
    "colab": {},
    "colab_type": "code",
    "id": "zugh3wG71Kmn"
   },
   "outputs": [],
   "source": [
    "#Sorting data according to ProductId in ascending order\n",
    "sorted_data=filtered_data.sort_values('ProductId', axis=0, ascending=True, inplace=False, kind='quicksort', na_position='last')"
   ]
  },
  {
   "cell_type": "code",
   "execution_count": 14,
   "metadata": {
    "ExecuteTime": {
     "end_time": "2019-03-26T03:33:32.849265Z",
     "start_time": "2019-03-26T03:33:32.620628Z"
    },
    "_uuid": "a34056eb9fe78061de6d85145347828c5f418838",
    "colab": {
     "base_uri": "https://localhost:8080/",
     "height": 34
    },
    "colab_type": "code",
    "id": "9tcS7t291Kmt",
    "outputId": "e09a874c-da90-4a70-fdf2-84803d82bdf0"
   },
   "outputs": [
    {
     "data": {
      "text/plain": [
       "(87775, 10)"
      ]
     },
     "execution_count": 14,
     "metadata": {},
     "output_type": "execute_result"
    }
   ],
   "source": [
    "#Deduplication of entries\n",
    "final=sorted_data.drop_duplicates(subset={\"UserId\",\"ProfileName\",\"Time\",\"Text\"}, keep='first', inplace=False)\n",
    "final.shape"
   ]
  },
  {
   "cell_type": "code",
   "execution_count": 15,
   "metadata": {
    "ExecuteTime": {
     "end_time": "2019-03-26T03:33:34.007862Z",
     "start_time": "2019-03-26T03:33:34.003847Z"
    },
    "_uuid": "186e4f97533826cdccd23da69501a6b61e1d3447",
    "colab": {
     "base_uri": "https://localhost:8080/",
     "height": 34
    },
    "colab_type": "code",
    "id": "LD5fR9FT1Km4",
    "outputId": "d8e42bf4-ad2c-4c7b-d3bf-2359ede1b820"
   },
   "outputs": [
    {
     "data": {
      "text/plain": [
       "87.775"
      ]
     },
     "execution_count": 15,
     "metadata": {},
     "output_type": "execute_result"
    }
   ],
   "source": [
    "#Checking to see how much % of data still remains\n",
    "(final['Id'].size*1.0)/(filtered_data['Id'].size*1.0)*100"
   ]
  },
  {
   "cell_type": "markdown",
   "metadata": {
    "_uuid": "b9782e07e0d2e1a3ccae817d447aa90a8cae90f7",
    "colab_type": "text",
    "id": "-fVQiTA51KnL"
   },
   "source": [
    "<b>Observation:-</b> It was also seen that in two rows given below the value of HelpfulnessNumerator is greater than HelpfulnessDenominator which is not practically possible hence these two rows too are removed from calcualtions"
   ]
  },
  {
   "cell_type": "code",
   "execution_count": 16,
   "metadata": {
    "ExecuteTime": {
     "end_time": "2019-03-26T03:33:35.319156Z",
     "start_time": "2019-03-26T03:33:35.307110Z"
    },
    "_uuid": "82563b5bd42fe6ca3cbbf621ad08afea6ade7be3",
    "colab": {
     "base_uri": "https://localhost:8080/",
     "height": 179
    },
    "colab_type": "code",
    "id": "Z7bqGYt_1KnO",
    "outputId": "7da6e96e-1225-4dec-e44d-ce770cd463b8",
    "scrolled": false
   },
   "outputs": [
    {
     "data": {
      "text/html": [
       "<div>\n",
       "<style scoped>\n",
       "    .dataframe tbody tr th:only-of-type {\n",
       "        vertical-align: middle;\n",
       "    }\n",
       "\n",
       "    .dataframe tbody tr th {\n",
       "        vertical-align: top;\n",
       "    }\n",
       "\n",
       "    .dataframe thead th {\n",
       "        text-align: right;\n",
       "    }\n",
       "</style>\n",
       "<table border=\"1\" class=\"dataframe\">\n",
       "  <thead>\n",
       "    <tr style=\"text-align: right;\">\n",
       "      <th></th>\n",
       "      <th>Id</th>\n",
       "      <th>ProductId</th>\n",
       "      <th>UserId</th>\n",
       "      <th>ProfileName</th>\n",
       "      <th>HelpfulnessNumerator</th>\n",
       "      <th>HelpfulnessDenominator</th>\n",
       "      <th>Score</th>\n",
       "      <th>Time</th>\n",
       "      <th>Summary</th>\n",
       "      <th>Text</th>\n",
       "    </tr>\n",
       "  </thead>\n",
       "  <tbody>\n",
       "    <tr>\n",
       "      <th>0</th>\n",
       "      <td>64422</td>\n",
       "      <td>B000MIDROQ</td>\n",
       "      <td>A161DK06JJMCYF</td>\n",
       "      <td>J. E. Stephens \"Jeanne\"</td>\n",
       "      <td>3</td>\n",
       "      <td>1</td>\n",
       "      <td>5</td>\n",
       "      <td>1224892800</td>\n",
       "      <td>Bought This for My Son at College</td>\n",
       "      <td>My son loves spaghetti so I didn't hesitate or...</td>\n",
       "    </tr>\n",
       "    <tr>\n",
       "      <th>1</th>\n",
       "      <td>44737</td>\n",
       "      <td>B001EQ55RW</td>\n",
       "      <td>A2V0I904FH7ABY</td>\n",
       "      <td>Ram</td>\n",
       "      <td>3</td>\n",
       "      <td>2</td>\n",
       "      <td>4</td>\n",
       "      <td>1212883200</td>\n",
       "      <td>Pure cocoa taste with crunchy almonds inside</td>\n",
       "      <td>It was almost a 'love at first bite' - the per...</td>\n",
       "    </tr>\n",
       "  </tbody>\n",
       "</table>\n",
       "</div>"
      ],
      "text/plain": [
       "      Id   ProductId          UserId              ProfileName  \\\n",
       "0  64422  B000MIDROQ  A161DK06JJMCYF  J. E. Stephens \"Jeanne\"   \n",
       "1  44737  B001EQ55RW  A2V0I904FH7ABY                      Ram   \n",
       "\n",
       "   HelpfulnessNumerator  HelpfulnessDenominator  Score        Time  \\\n",
       "0                     3                       1      5  1224892800   \n",
       "1                     3                       2      4  1212883200   \n",
       "\n",
       "                                        Summary  \\\n",
       "0             Bought This for My Son at College   \n",
       "1  Pure cocoa taste with crunchy almonds inside   \n",
       "\n",
       "                                                Text  \n",
       "0  My son loves spaghetti so I didn't hesitate or...  \n",
       "1  It was almost a 'love at first bite' - the per...  "
      ]
     },
     "execution_count": 16,
     "metadata": {},
     "output_type": "execute_result"
    }
   ],
   "source": [
    "display= pd.read_sql_query(\"\"\"\n",
    "SELECT *\n",
    "FROM Reviews\n",
    "WHERE Score != 3 AND Id=44737 OR Id=64422\n",
    "ORDER BY ProductID\n",
    "\"\"\", con)\n",
    "\n",
    "display.head()"
   ]
  },
  {
   "cell_type": "code",
   "execution_count": 17,
   "metadata": {
    "ExecuteTime": {
     "end_time": "2019-03-26T03:33:36.967956Z",
     "start_time": "2019-03-26T03:33:36.936806Z"
    },
    "_uuid": "dac960069bb7650b32e53c30454a527df1725d39",
    "colab": {},
    "colab_type": "code",
    "id": "Zl-M1quF1Knf",
    "scrolled": false
   },
   "outputs": [],
   "source": [
    "final=final[final.HelpfulnessNumerator<=final.HelpfulnessDenominator]"
   ]
  },
  {
   "cell_type": "code",
   "execution_count": 18,
   "metadata": {
    "ExecuteTime": {
     "end_time": "2019-03-26T03:33:38.198869Z",
     "start_time": "2019-03-26T03:33:38.186793Z"
    },
    "_uuid": "84d961775985eb7fcb51cf7a70c7a098e1b9bde9",
    "colab": {
     "base_uri": "https://localhost:8080/",
     "height": 357
    },
    "colab_type": "code",
    "id": "TAonp25I1Knl",
    "outputId": "eed8abf5-ea59-412f-b48b-2fecc7a84101",
    "scrolled": true
   },
   "outputs": [
    {
     "data": {
      "text/html": [
       "<div>\n",
       "<style scoped>\n",
       "    .dataframe tbody tr th:only-of-type {\n",
       "        vertical-align: middle;\n",
       "    }\n",
       "\n",
       "    .dataframe tbody tr th {\n",
       "        vertical-align: top;\n",
       "    }\n",
       "\n",
       "    .dataframe thead th {\n",
       "        text-align: right;\n",
       "    }\n",
       "</style>\n",
       "<table border=\"1\" class=\"dataframe\">\n",
       "  <thead>\n",
       "    <tr style=\"text-align: right;\">\n",
       "      <th></th>\n",
       "      <th>Id</th>\n",
       "      <th>ProductId</th>\n",
       "      <th>UserId</th>\n",
       "      <th>ProfileName</th>\n",
       "      <th>HelpfulnessNumerator</th>\n",
       "      <th>HelpfulnessDenominator</th>\n",
       "      <th>Score</th>\n",
       "      <th>Time</th>\n",
       "      <th>Summary</th>\n",
       "      <th>Text</th>\n",
       "    </tr>\n",
       "  </thead>\n",
       "  <tbody>\n",
       "    <tr>\n",
       "      <th>22620</th>\n",
       "      <td>24750</td>\n",
       "      <td>2734888454</td>\n",
       "      <td>A13ISQV0U9GZIC</td>\n",
       "      <td>Sandikaye</td>\n",
       "      <td>1</td>\n",
       "      <td>1</td>\n",
       "      <td>0</td>\n",
       "      <td>1192060800</td>\n",
       "      <td>made in china</td>\n",
       "      <td>My dogs loves this chicken but its a product f...</td>\n",
       "    </tr>\n",
       "    <tr>\n",
       "      <th>22621</th>\n",
       "      <td>24751</td>\n",
       "      <td>2734888454</td>\n",
       "      <td>A1C298ITT645B6</td>\n",
       "      <td>Hugh G. Pritchard</td>\n",
       "      <td>0</td>\n",
       "      <td>0</td>\n",
       "      <td>1</td>\n",
       "      <td>1195948800</td>\n",
       "      <td>Dog Lover Delites</td>\n",
       "      <td>Our dogs just love them.  I saw them in a pet ...</td>\n",
       "    </tr>\n",
       "    <tr>\n",
       "      <th>70677</th>\n",
       "      <td>76870</td>\n",
       "      <td>B00002N8SM</td>\n",
       "      <td>A19Q006CSFT011</td>\n",
       "      <td>Arlielle</td>\n",
       "      <td>0</td>\n",
       "      <td>0</td>\n",
       "      <td>0</td>\n",
       "      <td>1288396800</td>\n",
       "      <td>only one fruitfly stuck</td>\n",
       "      <td>I had an infestation of fruitflies, they were ...</td>\n",
       "    </tr>\n",
       "    <tr>\n",
       "      <th>70676</th>\n",
       "      <td>76869</td>\n",
       "      <td>B00002N8SM</td>\n",
       "      <td>A1FYH4S02BW7FN</td>\n",
       "      <td>wonderer</td>\n",
       "      <td>0</td>\n",
       "      <td>0</td>\n",
       "      <td>0</td>\n",
       "      <td>1290038400</td>\n",
       "      <td>Doesn't work!! Don't waste your money!!</td>\n",
       "      <td>Worst product I have gotten in long time. Woul...</td>\n",
       "    </tr>\n",
       "    <tr>\n",
       "      <th>70675</th>\n",
       "      <td>76868</td>\n",
       "      <td>B00002N8SM</td>\n",
       "      <td>AUE8TB5VHS6ZV</td>\n",
       "      <td>eyeofthestorm</td>\n",
       "      <td>0</td>\n",
       "      <td>0</td>\n",
       "      <td>0</td>\n",
       "      <td>1306972800</td>\n",
       "      <td>A big rip off</td>\n",
       "      <td>I wish I'd read the reviews before making this...</td>\n",
       "    </tr>\n",
       "  </tbody>\n",
       "</table>\n",
       "</div>"
      ],
      "text/plain": [
       "          Id   ProductId          UserId        ProfileName  \\\n",
       "22620  24750  2734888454  A13ISQV0U9GZIC          Sandikaye   \n",
       "22621  24751  2734888454  A1C298ITT645B6  Hugh G. Pritchard   \n",
       "70677  76870  B00002N8SM  A19Q006CSFT011           Arlielle   \n",
       "70676  76869  B00002N8SM  A1FYH4S02BW7FN           wonderer   \n",
       "70675  76868  B00002N8SM   AUE8TB5VHS6ZV      eyeofthestorm   \n",
       "\n",
       "       HelpfulnessNumerator  HelpfulnessDenominator  Score        Time  \\\n",
       "22620                     1                       1      0  1192060800   \n",
       "22621                     0                       0      1  1195948800   \n",
       "70677                     0                       0      0  1288396800   \n",
       "70676                     0                       0      0  1290038400   \n",
       "70675                     0                       0      0  1306972800   \n",
       "\n",
       "                                       Summary  \\\n",
       "22620                            made in china   \n",
       "22621                        Dog Lover Delites   \n",
       "70677                  only one fruitfly stuck   \n",
       "70676  Doesn't work!! Don't waste your money!!   \n",
       "70675                            A big rip off   \n",
       "\n",
       "                                                    Text  \n",
       "22620  My dogs loves this chicken but its a product f...  \n",
       "22621  Our dogs just love them.  I saw them in a pet ...  \n",
       "70677  I had an infestation of fruitflies, they were ...  \n",
       "70676  Worst product I have gotten in long time. Woul...  \n",
       "70675  I wish I'd read the reviews before making this...  "
      ]
     },
     "execution_count": 18,
     "metadata": {},
     "output_type": "execute_result"
    }
   ],
   "source": [
    "final.head()"
   ]
  },
  {
   "cell_type": "code",
   "execution_count": 19,
   "metadata": {
    "ExecuteTime": {
     "end_time": "2019-03-26T03:33:40.116864Z",
     "start_time": "2019-03-26T03:33:40.108328Z"
    },
    "_uuid": "8aaa88c807f5b9c74c32708135a8ed1f1dc65ca9",
    "colab": {
     "base_uri": "https://localhost:8080/",
     "height": 85
    },
    "colab_type": "code",
    "id": "1cXswHI_1Knr",
    "outputId": "089f8b4d-2dba-46e1-a447-4fccd9f9650c"
   },
   "outputs": [
    {
     "name": "stdout",
     "output_type": "stream",
     "text": [
      "(87773, 10)\n"
     ]
    },
    {
     "data": {
      "text/plain": [
       "1    73592\n",
       "0    14181\n",
       "Name: Score, dtype: int64"
      ]
     },
     "execution_count": 19,
     "metadata": {},
     "output_type": "execute_result"
    }
   ],
   "source": [
    "#Before starting the next phase of preprocessing lets see the number of entries left\n",
    "print(final.shape)\n",
    "\n",
    "#How many positive and negative reviews are present in our dataset?\n",
    "final['Score'].value_counts()"
   ]
  },
  {
   "cell_type": "markdown",
   "metadata": {
    "_uuid": "ea5e6ac7fa195b93511c5ae405468b1ecba5d4b6",
    "colab_type": "text",
    "id": "iqZU5roe1Kn_"
   },
   "source": [
    "**Observation:** This is an imbalance dataset. There are roughly 84% Positive review and 16% Negative reviews."
   ]
  },
  {
   "cell_type": "markdown",
   "metadata": {
    "_uuid": "ee67a001bb7fcae6e4e8f069ac2ec2c8c3c88f9d",
    "colab_type": "text",
    "id": "HB64zW-t1KoB"
   },
   "source": [
    "*Checkpoint 1: Imported data and some basic eda*"
   ]
  },
  {
   "cell_type": "code",
   "execution_count": 0,
   "metadata": {
    "ExecuteTime": {
     "start_time": "2019-03-20T10:32:15.882Z"
    },
    "_uuid": "756abc9f9eff3728fe7b6855c2fe78b1df786e52",
    "colab": {},
    "colab_type": "code",
    "id": "9k0xW_j41KoD"
   },
   "outputs": [],
   "source": [
    "# Filtering 1 (positive) and 0 (negative) reviews\n",
    "#pos_reviews = final[final['Score'] == 1].sample(n=10000, random_state=507)\n",
    "#neg_reviews = final[final['Score'] == 0].sample(n=10000, random_state=507)\n",
    "\n",
    "# Combining the above dataframes into one\n",
    "#final = pd.concat([pos_reviews, neg_reviews])"
   ]
  },
  {
   "cell_type": "code",
   "execution_count": 20,
   "metadata": {
    "ExecuteTime": {
     "end_time": "2019-03-26T03:33:43.586645Z",
     "start_time": "2019-03-26T03:33:43.496862Z"
    },
    "_uuid": "0f6f2a8d97334813b888a5d99a526d42207f96c2",
    "colab": {},
    "colab_type": "code",
    "id": "7a8ISx7U1KoL"
   },
   "outputs": [],
   "source": [
    "# Converting Time to time format in seconds using a unix epoch time\n",
    "# We will arrange the entire final dataframe in ascending order for time based splitting\n",
    "\n",
    "final[\"Time\"] = pd.to_datetime(final[\"Time\"], origin='unix', unit = \"s\")\n",
    "final = final.sort_values(by = \"Time\")"
   ]
  },
  {
   "cell_type": "code",
   "execution_count": 21,
   "metadata": {
    "ExecuteTime": {
     "end_time": "2019-03-26T03:33:44.509544Z",
     "start_time": "2019-03-26T03:33:44.505530Z"
    },
    "_uuid": "1c4770f064cf3a9a8cfa6438f339b89e2f61a9c3",
    "colab": {
     "base_uri": "https://localhost:8080/",
     "height": 34
    },
    "colab_type": "code",
    "id": "xroXG3sY1KoS",
    "outputId": "93e0121b-1245-4f24-b3d6-6fd0003d7180",
    "scrolled": true
   },
   "outputs": [
    {
     "data": {
      "text/plain": [
       "877730"
      ]
     },
     "execution_count": 21,
     "metadata": {},
     "output_type": "execute_result"
    }
   ],
   "source": [
    "final.size"
   ]
  },
  {
   "cell_type": "markdown",
   "metadata": {
    "_uuid": "f2ad985fa4ffb4357996108fe1ac8d4d6075e78c",
    "colab_type": "text",
    "id": "xk8P9fRd1Kob"
   },
   "source": [
    "#  [3] Preprocessing"
   ]
  },
  {
   "cell_type": "markdown",
   "metadata": {
    "_uuid": "3f377bb936169ec3459ec977dcd0e0f3b970598b",
    "colab_type": "text",
    "id": "1bdzgEx31Kof"
   },
   "source": [
    "## [3.1].  Preprocessing Review Text\n",
    "\n",
    "Now that we have finished deduplication our data requires some preprocessing before we go on further with analysis and making the prediction model.\n",
    "\n",
    "Hence in the Preprocessing phase we do the following in the order below:-\n",
    "\n",
    "1. Begin by removing the html tags\n",
    "2. Remove any punctuations or limited set of special characters like , or . or # etc.\n",
    "3. Check if the word is made up of english letters and is not alpha-numeric\n",
    "4. Check to see if the length of the word is greater than 2 (as it was researched that there is no adjective in 2-letters)\n",
    "5. Convert the word to lowercase\n",
    "6. Remove Stopwords\n",
    "7. Finally Snowball Stemming the word (it was obsereved to be better than Porter Stemming)<br>\n",
    "\n",
    "After which we collect the words used to describe positive and negative reviews"
   ]
  },
  {
   "cell_type": "code",
   "execution_count": 22,
   "metadata": {
    "ExecuteTime": {
     "end_time": "2019-03-26T03:33:46.515581Z",
     "start_time": "2019-03-26T03:33:46.500529Z"
    },
    "_uuid": "bfa8772053bfc15b07f2af1e1b8ceadfcafefe8b",
    "colab": {
     "base_uri": "https://localhost:8080/",
     "height": 173
    },
    "colab_type": "code",
    "id": "G86ilB0g1Koh",
    "outputId": "614dfbd7-d550-4e3a-8890-1a6526468f58"
   },
   "outputs": [
    {
     "name": "stdout",
     "output_type": "stream",
     "text": [
      "I bought a few of these after my apartment was infested with fruit flies. After only a few hours, the trap had &quot;attracted&quot; many flies and within a few days they were practically gone. This may not be a long term  solution, but if flies are driving you crazy, consider buying this. One  caution- the surface is very sticky, so try to avoid touching it.\n",
      "==================================================\n",
      "I have made these brownies for family and for a den of cub scouts and no one would have known they were gluten free and everyone asked for seconds!  These brownies have a fudgy texture and have bits of chocolate chips in them which are delicious.  I would say the mix is very thick and a little difficult to work with.  The cooked brownies are slightly difficult to cut into very neat edges as the edges tend to crumble a little and I would also say that they make a slightly thinner layer of brownies than most of the store brand gluten containing but they taste just as good, if not better.  Highly recommended!<br /><br />(For those wondering, this mix requires 2 eggs OR 4 egg whites and 7 tbs melted butter to prepare.  They do have suggestions for lactose free and low fat preparations)\n",
      "==================================================\n",
      "This gum is my absolute favorite. By purchasing on amazon I can get the savings of large quanities at a very good price. I highly recommend to all gum chewers. Plus as you enjoy the peppermint flavor and freshing of breath you are whitening your teeth all at the same time.\n",
      "==================================================\n",
      "This is an excellent product, both tastey and priced right. It's difficult to find this product in regular local grocery stores, so I was thrilled to find it.\n",
      "==================================================\n"
     ]
    }
   ],
   "source": [
    "# printing some random reviews\n",
    "sent_0 = final['Text'].values[0]\n",
    "print(sent_0)\n",
    "print(\"=\"*50)\n",
    "\n",
    "sent_1000 = final['Text'].values[1000]\n",
    "print(sent_1000)\n",
    "print(\"=\"*50)\n",
    "\n",
    "sent_1500 = final['Text'].values[1500]\n",
    "print(sent_1500)\n",
    "print(\"=\"*50)\n",
    "\n",
    "sent_4900 = final['Text'].values[4900]\n",
    "print(sent_4900)\n",
    "print(\"=\"*50)"
   ]
  },
  {
   "cell_type": "code",
   "execution_count": 23,
   "metadata": {
    "ExecuteTime": {
     "end_time": "2019-03-26T03:33:47.947141Z",
     "start_time": "2019-03-26T03:33:47.942165Z"
    },
    "_uuid": "439ffe6a30f72f20fa172d433edd0ad7508dfc98",
    "colab": {
     "base_uri": "https://localhost:8080/",
     "height": 54
    },
    "colab_type": "code",
    "id": "9qPm2WCV1Kos",
    "outputId": "7cc97de1-e77a-4593-c1b2-017f53fd4ac7"
   },
   "outputs": [
    {
     "name": "stdout",
     "output_type": "stream",
     "text": [
      "I bought a few of these after my apartment was infested with fruit flies. After only a few hours, the trap had &quot;attracted&quot; many flies and within a few days they were practically gone. This may not be a long term  solution, but if flies are driving you crazy, consider buying this. One  caution- the surface is very sticky, so try to avoid touching it.\n"
     ]
    }
   ],
   "source": [
    "# remove urls from text python: https://stackoverflow.com/a/40823105/4084039\n",
    "sent_0 = re.sub(r\"http\\S+\", \"\", sent_0)\n",
    "sent_1000 = re.sub(r\"http\\S+\", \"\", sent_1000)\n",
    "sent_150 = re.sub(r\"http\\S+\", \"\", sent_1500)\n",
    "sent_4900 = re.sub(r\"http\\S+\", \"\", sent_4900)\n",
    "\n",
    "print(sent_0)"
   ]
  },
  {
   "cell_type": "code",
   "execution_count": 24,
   "metadata": {
    "ExecuteTime": {
     "end_time": "2019-03-26T03:33:49.025403Z",
     "start_time": "2019-03-26T03:33:48.968179Z"
    },
    "_uuid": "9ae6ae6e1713e0756304fc7e0d607dbdffda738a",
    "colab": {
     "base_uri": "https://localhost:8080/",
     "height": 156
    },
    "colab_type": "code",
    "id": "_LWXI53x1Koz",
    "outputId": "039c3a8d-c504-427d-b1ed-d3d5c4fc4585"
   },
   "outputs": [
    {
     "name": "stdout",
     "output_type": "stream",
     "text": [
      "I bought a few of these after my apartment was infested with fruit flies. After only a few hours, the trap had \"attracted\" many flies and within a few days they were practically gone. This may not be a long term  solution, but if flies are driving you crazy, consider buying this. One  caution- the surface is very sticky, so try to avoid touching it.\n",
      "==================================================\n",
      "I have made these brownies for family and for a den of cub scouts and no one would have known they were gluten free and everyone asked for seconds!  These brownies have a fudgy texture and have bits of chocolate chips in them which are delicious.  I would say the mix is very thick and a little difficult to work with.  The cooked brownies are slightly difficult to cut into very neat edges as the edges tend to crumble a little and I would also say that they make a slightly thinner layer of brownies than most of the store brand gluten containing but they taste just as good, if not better.  Highly recommended!(For those wondering, this mix requires 2 eggs OR 4 egg whites and 7 tbs melted butter to prepare.  They do have suggestions for lactose free and low fat preparations)\n",
      "==================================================\n",
      "This gum is my absolute favorite. By purchasing on amazon I can get the savings of large quanities at a very good price. I highly recommend to all gum chewers. Plus as you enjoy the peppermint flavor and freshing of breath you are whitening your teeth all at the same time.\n",
      "==================================================\n",
      "This is an excellent product, both tastey and priced right. It's difficult to find this product in regular local grocery stores, so I was thrilled to find it.\n"
     ]
    }
   ],
   "source": [
    "# https://stackoverflow.com/questions/16206380/python-beautifulsoup-how-to-remove-all-tags-from-an-element\n",
    "from bs4 import BeautifulSoup\n",
    "\n",
    "soup = BeautifulSoup(sent_0, 'lxml')\n",
    "text = soup.get_text()\n",
    "print(text)\n",
    "print(\"=\"*50)\n",
    "\n",
    "soup = BeautifulSoup(sent_1000, 'lxml')\n",
    "text = soup.get_text()\n",
    "print(text)\n",
    "print(\"=\"*50)\n",
    "\n",
    "soup = BeautifulSoup(sent_1500, 'lxml')\n",
    "text = soup.get_text()\n",
    "print(text)\n",
    "print(\"=\"*50)\n",
    "\n",
    "soup = BeautifulSoup(sent_4900, 'lxml')\n",
    "text = soup.get_text()\n",
    "print(text)"
   ]
  },
  {
   "cell_type": "code",
   "execution_count": 25,
   "metadata": {
    "ExecuteTime": {
     "end_time": "2019-03-26T03:33:50.885448Z",
     "start_time": "2019-03-26T03:33:50.881435Z"
    },
    "_uuid": "fd7ad81c7c2d08e85dd929b7d59451e05b30951f",
    "colab": {},
    "colab_type": "code",
    "id": "e9nZ89XC1Ko9"
   },
   "outputs": [],
   "source": [
    "# https://stackoverflow.com/a/47091490/4084039\n",
    "import re\n",
    "\n",
    "def decontracted(phrase):\n",
    "    # specific\n",
    "    phrase = re.sub(r\"won't\", \"will not\", phrase)\n",
    "    phrase = re.sub(r\"can\\'t\", \"can not\", phrase)\n",
    "\n",
    "    # general\n",
    "    phrase = re.sub(r\"n\\'t\", \" not\", phrase)\n",
    "    phrase = re.sub(r\"\\'re\", \" are\", phrase)\n",
    "    phrase = re.sub(r\"\\'s\", \" is\", phrase)\n",
    "    phrase = re.sub(r\"\\'d\", \" would\", phrase)\n",
    "    phrase = re.sub(r\"\\'ll\", \" will\", phrase)\n",
    "    phrase = re.sub(r\"\\'t\", \" not\", phrase)\n",
    "    phrase = re.sub(r\"\\'ve\", \" have\", phrase)\n",
    "    phrase = re.sub(r\"\\'m\", \" am\", phrase)\n",
    "    return phrase"
   ]
  },
  {
   "cell_type": "code",
   "execution_count": 26,
   "metadata": {
    "ExecuteTime": {
     "end_time": "2019-03-26T03:33:52.305636Z",
     "start_time": "2019-03-26T03:33:52.299613Z"
    },
    "_uuid": "dfa9516c855963facf0a161ee2a2dcb760601778",
    "colab": {
     "base_uri": "https://localhost:8080/",
     "height": 71
    },
    "colab_type": "code",
    "id": "8xEJc0W61KpI",
    "outputId": "0259c881-eeaf-432a-bf58-84440f1a7dc6",
    "scrolled": true
   },
   "outputs": [
    {
     "name": "stdout",
     "output_type": "stream",
     "text": [
      "This gum is my absolute favorite. By purchasing on amazon I can get the savings of large quanities at a very good price. I highly recommend to all gum chewers. Plus as you enjoy the peppermint flavor and freshing of breath you are whitening your teeth all at the same time.\n",
      "==================================================\n"
     ]
    }
   ],
   "source": [
    "sent_1500 = decontracted(sent_1500)\n",
    "print(sent_1500)\n",
    "print(\"=\"*50)"
   ]
  },
  {
   "cell_type": "code",
   "execution_count": 27,
   "metadata": {
    "ExecuteTime": {
     "end_time": "2019-03-26T03:33:53.354019Z",
     "start_time": "2019-03-26T03:33:53.349003Z"
    },
    "_uuid": "41d6c81ea8300cbaab471b9c0db2d90d186abed8",
    "colab": {
     "base_uri": "https://localhost:8080/",
     "height": 54
    },
    "colab_type": "code",
    "id": "SDRZZ8Uv1KpV",
    "outputId": "2f5175a1-9249-4949-f8c9-dcb8827eb13f",
    "scrolled": true
   },
   "outputs": [
    {
     "name": "stdout",
     "output_type": "stream",
     "text": [
      "I bought a few of these after my apartment was infested with fruit flies. After only a few hours, the trap had &quot;attracted&quot; many flies and within a few days they were practically gone. This may not be a long term  solution, but if flies are driving you crazy, consider buying this. One  caution- the surface is very sticky, so try to avoid touching it.\n"
     ]
    }
   ],
   "source": [
    "#remove words with numbers python: https://stackoverflow.com/a/18082370/4084039\n",
    "sent_0 = re.sub(\"\\S*\\d\\S*\", \"\", sent_0).strip()\n",
    "print(sent_0)"
   ]
  },
  {
   "cell_type": "code",
   "execution_count": 28,
   "metadata": {
    "ExecuteTime": {
     "end_time": "2019-03-26T03:33:54.363049Z",
     "start_time": "2019-03-26T03:33:54.358030Z"
    },
    "_uuid": "370b649400e05334718fe754d77a97683d033873",
    "colab": {
     "base_uri": "https://localhost:8080/",
     "height": 54
    },
    "colab_type": "code",
    "id": "DFgjbl8d1Kpa",
    "outputId": "cf1d37b1-ef2e-4680-af88-0609380d4217",
    "scrolled": true
   },
   "outputs": [
    {
     "name": "stdout",
     "output_type": "stream",
     "text": [
      "This gum is my absolute favorite By purchasing on amazon I can get the savings of large quanities at a very good price I highly recommend to all gum chewers Plus as you enjoy the peppermint flavor and freshing of breath you are whitening your teeth all at the same time \n"
     ]
    }
   ],
   "source": [
    "#remove spacial character: https://stackoverflow.com/a/5843547/4084039\n",
    "sent_1500 = re.sub('[^A-Za-z0-9]+', ' ', sent_1500)\n",
    "print(sent_1500)"
   ]
  },
  {
   "cell_type": "code",
   "execution_count": 29,
   "metadata": {
    "ExecuteTime": {
     "end_time": "2019-03-26T03:33:55.615304Z",
     "start_time": "2019-03-26T03:33:55.608277Z"
    },
    "_uuid": "f5df15848a5f8316b5f96351700ec1f194060c46",
    "colab": {},
    "colab_type": "code",
    "id": "cYo6etQN1Kph"
   },
   "outputs": [],
   "source": [
    "# https://gist.github.com/sebleier/554280\n",
    "# we are removing the words from the stop words list: 'no', 'nor', 'not'\n",
    "# <br /><br /> ==> after the above steps, we are getting \"br br\"\n",
    "# we are including them into stop words list\n",
    "# instead of <br /> if we have <br/> these tags would have revmoved in the 1st step\n",
    "\n",
    "stopwords= set(['br', 'the', 'i', 'me', 'my', 'myself', 'we', 'our', 'ours', 'ourselves', 'you', \"you're\", \"you've\",\\\n",
    "            \"you'll\", \"you'd\", 'your', 'yours', 'yourself', 'yourselves', 'he', 'him', 'his', 'himself', \\\n",
    "            'she', \"she's\", 'her', 'hers', 'herself', 'it', \"it's\", 'its', 'itself', 'they', 'them', 'their',\\\n",
    "            'theirs', 'themselves', 'what', 'which', 'who', 'whom', 'this', 'that', \"that'll\", 'these', 'those', \\\n",
    "            'am', 'is', 'are', 'was', 'were', 'be', 'been', 'being', 'have', 'has', 'had', 'having', 'do', 'does', \\\n",
    "            'did', 'doing', 'a', 'an', 'the', 'and', 'but', 'if', 'or', 'because', 'as', 'until', 'while', 'of', \\\n",
    "            'at', 'by', 'for', 'with', 'about', 'against', 'between', 'into', 'through', 'during', 'before', 'after',\\\n",
    "            'above', 'below', 'to', 'from', 'up', 'down', 'in', 'out', 'on', 'off', 'over', 'under', 'again', 'further',\\\n",
    "            'then', 'once', 'here', 'there', 'when', 'where', 'why', 'how', 'all', 'any', 'both', 'each', 'few', 'more',\\\n",
    "            'most', 'other', 'some', 'such', 'only', 'own', 'same', 'so', 'than', 'too', 'very', \\\n",
    "            's', 't', 'can', 'will', 'just', 'don', \"don't\", 'should', \"should've\", 'now', 'd', 'll', 'm', 'o', 're', \\\n",
    "            've', 'y', 'ain', 'aren', \"aren't\", 'couldn', \"couldn't\", 'didn', \"didn't\", 'doesn', \"doesn't\", 'hadn',\\\n",
    "            \"hadn't\", 'hasn', \"hasn't\", 'haven', \"haven't\", 'isn', \"isn't\", 'ma', 'mightn', \"mightn't\", 'mustn',\\\n",
    "            \"mustn't\", 'needn', \"needn't\", 'shan', \"shan't\", 'shouldn', \"shouldn't\", 'wasn', \"wasn't\", 'weren', \"weren't\", \\\n",
    "            'won', \"won't\", 'wouldn', \"wouldn't\"])"
   ]
  },
  {
   "cell_type": "code",
   "execution_count": 30,
   "metadata": {
    "ExecuteTime": {
     "end_time": "2019-03-26T03:34:27.152277Z",
     "start_time": "2019-03-26T03:33:56.978099Z"
    },
    "_uuid": "cbc8bc6d979e78a5bc5eabf70a31c36443c0e927",
    "colab": {
     "base_uri": "https://localhost:8080/",
     "height": 34
    },
    "colab_type": "code",
    "id": "A3EMQVrh1Kpl",
    "outputId": "2c5486d9-a22b-422c-b321-a597bd132fc8"
   },
   "outputs": [
    {
     "name": "stderr",
     "output_type": "stream",
     "text": [
      "100%|██████████████████████████████████████████████████████████████████████████████████████████████████████████████████████████| 87773/87773 [00:30<00:00, 2909.84it/s]\n"
     ]
    }
   ],
   "source": [
    "# Combining all the above stundents \n",
    "from tqdm import tqdm\n",
    "preprocessed_reviews = []\n",
    "# tqdm is for printing the status bar\n",
    "for sentance in tqdm(final['Text'].values):\n",
    "    sentance = re.sub(r\"http\\S+\", \"\", sentance)\n",
    "    sentance = BeautifulSoup(sentance, 'lxml').get_text()\n",
    "    sentance = decontracted(sentance)\n",
    "    sentance = re.sub(\"\\S*\\d\\S*\", \"\", sentance).strip()\n",
    "    sentance = re.sub('[^A-Za-z]+', ' ', sentance)\n",
    "    # https://gist.github.com/sebleier/554280\n",
    "    sentance = ' '.join(e.lower() for e in sentance.split() if e.lower() not in stopwords)\n",
    "    preprocessed_reviews.append(sentance.strip())"
   ]
  },
  {
   "cell_type": "code",
   "execution_count": 31,
   "metadata": {
    "ExecuteTime": {
     "end_time": "2019-03-26T03:34:27.455039Z",
     "start_time": "2019-03-26T03:34:27.447008Z"
    },
    "_uuid": "e10a3eef49a17bacc4f91165153ad9c433d05237",
    "colab": {
     "base_uri": "https://localhost:8080/",
     "height": 54
    },
    "colab_type": "code",
    "id": "7vFpwXef1Kpt",
    "outputId": "c7bff709-2838-4663-f7db-0bbc966b07d8",
    "scrolled": true
   },
   "outputs": [
    {
     "data": {
      "text/plain": [
       "'gum absolute favorite purchasing amazon get savings large quanities good price highly recommend gum chewers plus enjoy peppermint flavor freshing breath whitening teeth time'"
      ]
     },
     "execution_count": 31,
     "metadata": {},
     "output_type": "execute_result"
    }
   ],
   "source": [
    "preprocessed_reviews[1500]"
   ]
  },
  {
   "cell_type": "markdown",
   "metadata": {
    "_uuid": "9bf3c65e727ea36bb3f0b928c41196e4f2aeaf4c",
    "colab_type": "text",
    "id": "WEzgch4q1Kp1"
   },
   "source": [
    "<h2>[3.2] Preprocessing Review Summary</h2>"
   ]
  },
  {
   "cell_type": "code",
   "execution_count": 32,
   "metadata": {
    "ExecuteTime": {
     "end_time": "2019-03-26T03:34:48.090977Z",
     "start_time": "2019-03-26T03:34:27.807462Z"
    },
    "_uuid": "b6edf38bfae55eb2b53df0c65bfcb6b61d2543a1",
    "colab": {
     "base_uri": "https://localhost:8080/",
     "height": 34
    },
    "colab_type": "code",
    "id": "YbzEh00M1Kp3",
    "outputId": "497e6a77-44e8-4ce4-efbb-43aa527aa3db",
    "scrolled": true
   },
   "outputs": [
    {
     "name": "stderr",
     "output_type": "stream",
     "text": [
      "  2%|██▎                                                                                                                        | 1694/87773 [00:00<00:32, 2682.41it/s]C:\\Users\\Nit-prj1010\\AppData\\Local\\Continuum\\anaconda3\\lib\\site-packages\\bs4\\__init__.py:273: UserWarning: \"b'...'\" looks like a filename, not markup. You should probably open this file and pass the filehandle into Beautiful Soup.\n",
      "  ' Beautiful Soup.' % markup)\n",
      " 43%|████████████████████████████████████████████████████▍                                                                     | 37757/87773 [00:09<00:11, 4525.80it/s]C:\\Users\\Nit-prj1010\\AppData\\Local\\Continuum\\anaconda3\\lib\\site-packages\\bs4\\__init__.py:273: UserWarning: \"b'...'\" looks like a filename, not markup. You should probably open this file and pass the filehandle into Beautiful Soup.\n",
      "  ' Beautiful Soup.' % markup)\n",
      " 56%|███████████████████████████████████████████████████████████████████▊                                                      | 48811/87773 [00:12<00:11, 3520.87it/s]C:\\Users\\Nit-prj1010\\AppData\\Local\\Continuum\\anaconda3\\lib\\site-packages\\bs4\\__init__.py:273: UserWarning: \"b'...'\" looks like a filename, not markup. You should probably open this file and pass the filehandle into Beautiful Soup.\n",
      "  ' Beautiful Soup.' % markup)\n",
      " 82%|████████████████████████████████████████████████████████████████████████████████████████████████████▍                     | 72288/87773 [00:17<00:02, 5350.16it/s]C:\\Users\\Nit-prj1010\\AppData\\Local\\Continuum\\anaconda3\\lib\\site-packages\\bs4\\__init__.py:273: UserWarning: \"b'...'\" looks like a filename, not markup. You should probably open this file and pass the filehandle into Beautiful Soup.\n",
      "  ' Beautiful Soup.' % markup)\n",
      "100%|██████████████████████████████████████████████████████████████████████████████████████████████████████████████████████████| 87773/87773 [00:20<00:00, 4329.33it/s]\n"
     ]
    }
   ],
   "source": [
    "## Similartly you can do preprocessing for review summary also.\n",
    "from tqdm import tqdm\n",
    "preprocessed_summary = []\n",
    "# tqdm is for printing the status bar\n",
    "for sentence in tqdm(final['Summary'].values):\n",
    "    sentence = re.sub(r\"http\\S+\", \"\", sentence)\n",
    "    sentence = BeautifulSoup(sentence, 'lxml').get_text()\n",
    "    sentence = decontracted(sentence)\n",
    "    sentence = re.sub(\"\\S*\\d\\S*\", \"\", sentence).strip()\n",
    "    sentence = re.sub('[^A-Za-z]+', ' ', sentence)\n",
    "    # https://gist.github.com/sebleier/554280\n",
    "    sentence = ' '.join(e.lower() for e in sentence.split() if e.lower() not in stopwords)\n",
    "    preprocessed_summary.append(sentence.strip())\n"
   ]
  },
  {
   "cell_type": "code",
   "execution_count": 33,
   "metadata": {
    "ExecuteTime": {
     "end_time": "2019-03-26T03:34:48.436664Z",
     "start_time": "2019-03-26T03:34:48.425630Z"
    },
    "_uuid": "6f38ce9d96a54852dedba8af9809e5826c5464ab",
    "colab": {
     "base_uri": "https://localhost:8080/",
     "height": 340
    },
    "colab_type": "code",
    "id": "dmW-gv2i1KqA",
    "outputId": "a445fa4d-8cc3-4a49-a0f3-0aa4f826abb6",
    "scrolled": false
   },
   "outputs": [
    {
     "data": {
      "text/html": [
       "<div>\n",
       "<style scoped>\n",
       "    .dataframe tbody tr th:only-of-type {\n",
       "        vertical-align: middle;\n",
       "    }\n",
       "\n",
       "    .dataframe tbody tr th {\n",
       "        vertical-align: top;\n",
       "    }\n",
       "\n",
       "    .dataframe thead th {\n",
       "        text-align: right;\n",
       "    }\n",
       "</style>\n",
       "<table border=\"1\" class=\"dataframe\">\n",
       "  <thead>\n",
       "    <tr style=\"text-align: right;\">\n",
       "      <th></th>\n",
       "      <th>Id</th>\n",
       "      <th>ProductId</th>\n",
       "      <th>UserId</th>\n",
       "      <th>ProfileName</th>\n",
       "      <th>HelpfulnessNumerator</th>\n",
       "      <th>HelpfulnessDenominator</th>\n",
       "      <th>Score</th>\n",
       "      <th>Time</th>\n",
       "      <th>Summary</th>\n",
       "      <th>Text</th>\n",
       "    </tr>\n",
       "  </thead>\n",
       "  <tbody>\n",
       "    <tr>\n",
       "      <th>70688</th>\n",
       "      <td>76882</td>\n",
       "      <td>B00002N8SM</td>\n",
       "      <td>A32DW342WBJ6BX</td>\n",
       "      <td>Buttersugar</td>\n",
       "      <td>0</td>\n",
       "      <td>0</td>\n",
       "      <td>1</td>\n",
       "      <td>2000-01-24</td>\n",
       "      <td>A sure death for flies</td>\n",
       "      <td>I bought a few of these after my apartment was...</td>\n",
       "    </tr>\n",
       "    <tr>\n",
       "      <th>1146</th>\n",
       "      <td>1245</td>\n",
       "      <td>B00002Z754</td>\n",
       "      <td>A29Z5PI9BW2PU3</td>\n",
       "      <td>Robbie</td>\n",
       "      <td>7</td>\n",
       "      <td>7</td>\n",
       "      <td>1</td>\n",
       "      <td>2000-06-23</td>\n",
       "      <td>Great Product</td>\n",
       "      <td>This was a really good idea and the final prod...</td>\n",
       "    </tr>\n",
       "    <tr>\n",
       "      <th>1145</th>\n",
       "      <td>1244</td>\n",
       "      <td>B00002Z754</td>\n",
       "      <td>A3B8RCEI0FXFI6</td>\n",
       "      <td>B G Chase</td>\n",
       "      <td>10</td>\n",
       "      <td>10</td>\n",
       "      <td>1</td>\n",
       "      <td>2000-06-29</td>\n",
       "      <td>WOW Make your own 'slickers' !</td>\n",
       "      <td>I just received my shipment and could hardly w...</td>\n",
       "    </tr>\n",
       "    <tr>\n",
       "      <th>28086</th>\n",
       "      <td>30629</td>\n",
       "      <td>B00008RCMI</td>\n",
       "      <td>A19E94CF5O1LY7</td>\n",
       "      <td>Andrew Arnold</td>\n",
       "      <td>0</td>\n",
       "      <td>0</td>\n",
       "      <td>1</td>\n",
       "      <td>2003-10-25</td>\n",
       "      <td>I've chewed this gum many times, but used?</td>\n",
       "      <td>Nothing against the product, but it does bothe...</td>\n",
       "    </tr>\n",
       "    <tr>\n",
       "      <th>28087</th>\n",
       "      <td>30630</td>\n",
       "      <td>B00008RCMI</td>\n",
       "      <td>A284C7M23F0APC</td>\n",
       "      <td>A. Mendoza</td>\n",
       "      <td>0</td>\n",
       "      <td>0</td>\n",
       "      <td>1</td>\n",
       "      <td>2003-10-25</td>\n",
       "      <td>Best sugarless gum ever!</td>\n",
       "      <td>I love this stuff. It is sugar-free so it does...</td>\n",
       "    </tr>\n",
       "  </tbody>\n",
       "</table>\n",
       "</div>"
      ],
      "text/plain": [
       "          Id   ProductId          UserId    ProfileName  HelpfulnessNumerator  \\\n",
       "70688  76882  B00002N8SM  A32DW342WBJ6BX    Buttersugar                     0   \n",
       "1146    1245  B00002Z754  A29Z5PI9BW2PU3         Robbie                     7   \n",
       "1145    1244  B00002Z754  A3B8RCEI0FXFI6      B G Chase                    10   \n",
       "28086  30629  B00008RCMI  A19E94CF5O1LY7  Andrew Arnold                     0   \n",
       "28087  30630  B00008RCMI  A284C7M23F0APC     A. Mendoza                     0   \n",
       "\n",
       "       HelpfulnessDenominator  Score       Time  \\\n",
       "70688                       0      1 2000-01-24   \n",
       "1146                        7      1 2000-06-23   \n",
       "1145                       10      1 2000-06-29   \n",
       "28086                       0      1 2003-10-25   \n",
       "28087                       0      1 2003-10-25   \n",
       "\n",
       "                                          Summary  \\\n",
       "70688                      A sure death for flies   \n",
       "1146                                Great Product   \n",
       "1145               WOW Make your own 'slickers' !   \n",
       "28086  I've chewed this gum many times, but used?   \n",
       "28087                    Best sugarless gum ever!   \n",
       "\n",
       "                                                    Text  \n",
       "70688  I bought a few of these after my apartment was...  \n",
       "1146   This was a really good idea and the final prod...  \n",
       "1145   I just received my shipment and could hardly w...  \n",
       "28086  Nothing against the product, but it does bothe...  \n",
       "28087  I love this stuff. It is sugar-free so it does...  "
      ]
     },
     "execution_count": 33,
     "metadata": {},
     "output_type": "execute_result"
    }
   ],
   "source": [
    "final.head()"
   ]
  },
  {
   "cell_type": "code",
   "execution_count": 34,
   "metadata": {
    "ExecuteTime": {
     "end_time": "2019-03-26T03:34:48.768752Z",
     "start_time": "2019-03-26T03:34:48.750666Z"
    },
    "_uuid": "f81293d867004b125b0b2f1362b1c84100c1510d",
    "colab": {},
    "colab_type": "code",
    "id": "8c1elubb1KqH"
   },
   "outputs": [],
   "source": [
    "final['CleanedText']= preprocessed_reviews\n",
    "final['CleanedSummary']= preprocessed_summary"
   ]
  },
  {
   "cell_type": "code",
   "execution_count": 35,
   "metadata": {
    "ExecuteTime": {
     "end_time": "2019-03-26T03:34:49.109621Z",
     "start_time": "2019-03-26T03:34:49.096579Z"
    },
    "_uuid": "224037c0cecfce59be7b094f24a7c8b54aa7d7d5",
    "colab": {
     "base_uri": "https://localhost:8080/",
     "height": 34
    },
    "colab_type": "code",
    "id": "vMI3qyTf1KqU",
    "outputId": "a7a3986b-2438-43e6-c20c-eddee95c9d27"
   },
   "outputs": [
    {
     "data": {
      "text/plain": [
       "0"
      ]
     },
     "execution_count": 35,
     "metadata": {},
     "output_type": "execute_result"
    }
   ],
   "source": [
    "final.CleanedText.isnull().sum()"
   ]
  },
  {
   "cell_type": "code",
   "execution_count": 36,
   "metadata": {
    "ExecuteTime": {
     "end_time": "2019-03-26T03:34:49.498859Z",
     "start_time": "2019-03-26T03:34:49.481302Z"
    },
    "_uuid": "954865252f5a82e6f64a8e0e1b51f536c34344a6",
    "colab": {
     "base_uri": "https://localhost:8080/",
     "height": 649
    },
    "colab_type": "code",
    "id": "Ge5LQ3ip1Kqa",
    "outputId": "df288f6d-4236-4d33-9f8b-4a2838c29b2d",
    "scrolled": false
   },
   "outputs": [
    {
     "data": {
      "text/html": [
       "<div>\n",
       "<style scoped>\n",
       "    .dataframe tbody tr th:only-of-type {\n",
       "        vertical-align: middle;\n",
       "    }\n",
       "\n",
       "    .dataframe tbody tr th {\n",
       "        vertical-align: top;\n",
       "    }\n",
       "\n",
       "    .dataframe thead th {\n",
       "        text-align: right;\n",
       "    }\n",
       "</style>\n",
       "<table border=\"1\" class=\"dataframe\">\n",
       "  <thead>\n",
       "    <tr style=\"text-align: right;\">\n",
       "      <th></th>\n",
       "      <th>Id</th>\n",
       "      <th>ProductId</th>\n",
       "      <th>UserId</th>\n",
       "      <th>ProfileName</th>\n",
       "      <th>HelpfulnessNumerator</th>\n",
       "      <th>HelpfulnessDenominator</th>\n",
       "      <th>Score</th>\n",
       "      <th>Time</th>\n",
       "      <th>Summary</th>\n",
       "      <th>Text</th>\n",
       "      <th>CleanedText</th>\n",
       "      <th>CleanedSummary</th>\n",
       "    </tr>\n",
       "  </thead>\n",
       "  <tbody>\n",
       "    <tr>\n",
       "      <th>70688</th>\n",
       "      <td>76882</td>\n",
       "      <td>B00002N8SM</td>\n",
       "      <td>A32DW342WBJ6BX</td>\n",
       "      <td>Buttersugar</td>\n",
       "      <td>0</td>\n",
       "      <td>0</td>\n",
       "      <td>1</td>\n",
       "      <td>2000-01-24</td>\n",
       "      <td>A sure death for flies</td>\n",
       "      <td>I bought a few of these after my apartment was...</td>\n",
       "      <td>bought apartment infested fruit flies hours tr...</td>\n",
       "      <td>sure death flies</td>\n",
       "    </tr>\n",
       "    <tr>\n",
       "      <th>1146</th>\n",
       "      <td>1245</td>\n",
       "      <td>B00002Z754</td>\n",
       "      <td>A29Z5PI9BW2PU3</td>\n",
       "      <td>Robbie</td>\n",
       "      <td>7</td>\n",
       "      <td>7</td>\n",
       "      <td>1</td>\n",
       "      <td>2000-06-23</td>\n",
       "      <td>Great Product</td>\n",
       "      <td>This was a really good idea and the final prod...</td>\n",
       "      <td>really good idea final product outstanding use...</td>\n",
       "      <td>great product</td>\n",
       "    </tr>\n",
       "    <tr>\n",
       "      <th>1145</th>\n",
       "      <td>1244</td>\n",
       "      <td>B00002Z754</td>\n",
       "      <td>A3B8RCEI0FXFI6</td>\n",
       "      <td>B G Chase</td>\n",
       "      <td>10</td>\n",
       "      <td>10</td>\n",
       "      <td>1</td>\n",
       "      <td>2000-06-29</td>\n",
       "      <td>WOW Make your own 'slickers' !</td>\n",
       "      <td>I just received my shipment and could hardly w...</td>\n",
       "      <td>received shipment could hardly wait try produc...</td>\n",
       "      <td>wow make islickers</td>\n",
       "    </tr>\n",
       "    <tr>\n",
       "      <th>28086</th>\n",
       "      <td>30629</td>\n",
       "      <td>B00008RCMI</td>\n",
       "      <td>A19E94CF5O1LY7</td>\n",
       "      <td>Andrew Arnold</td>\n",
       "      <td>0</td>\n",
       "      <td>0</td>\n",
       "      <td>1</td>\n",
       "      <td>2003-10-25</td>\n",
       "      <td>I've chewed this gum many times, but used?</td>\n",
       "      <td>Nothing against the product, but it does bothe...</td>\n",
       "      <td>nothing product bother link top page buy used ...</td>\n",
       "      <td>chewed gum many times used</td>\n",
       "    </tr>\n",
       "    <tr>\n",
       "      <th>28087</th>\n",
       "      <td>30630</td>\n",
       "      <td>B00008RCMI</td>\n",
       "      <td>A284C7M23F0APC</td>\n",
       "      <td>A. Mendoza</td>\n",
       "      <td>0</td>\n",
       "      <td>0</td>\n",
       "      <td>1</td>\n",
       "      <td>2003-10-25</td>\n",
       "      <td>Best sugarless gum ever!</td>\n",
       "      <td>I love this stuff. It is sugar-free so it does...</td>\n",
       "      <td>love stuff sugar free not rot gums tastes good...</td>\n",
       "      <td>best sugarless gum ever</td>\n",
       "    </tr>\n",
       "  </tbody>\n",
       "</table>\n",
       "</div>"
      ],
      "text/plain": [
       "          Id   ProductId          UserId    ProfileName  HelpfulnessNumerator  \\\n",
       "70688  76882  B00002N8SM  A32DW342WBJ6BX    Buttersugar                     0   \n",
       "1146    1245  B00002Z754  A29Z5PI9BW2PU3         Robbie                     7   \n",
       "1145    1244  B00002Z754  A3B8RCEI0FXFI6      B G Chase                    10   \n",
       "28086  30629  B00008RCMI  A19E94CF5O1LY7  Andrew Arnold                     0   \n",
       "28087  30630  B00008RCMI  A284C7M23F0APC     A. Mendoza                     0   \n",
       "\n",
       "       HelpfulnessDenominator  Score       Time  \\\n",
       "70688                       0      1 2000-01-24   \n",
       "1146                        7      1 2000-06-23   \n",
       "1145                       10      1 2000-06-29   \n",
       "28086                       0      1 2003-10-25   \n",
       "28087                       0      1 2003-10-25   \n",
       "\n",
       "                                          Summary  \\\n",
       "70688                      A sure death for flies   \n",
       "1146                                Great Product   \n",
       "1145               WOW Make your own 'slickers' !   \n",
       "28086  I've chewed this gum many times, but used?   \n",
       "28087                    Best sugarless gum ever!   \n",
       "\n",
       "                                                    Text  \\\n",
       "70688  I bought a few of these after my apartment was...   \n",
       "1146   This was a really good idea and the final prod...   \n",
       "1145   I just received my shipment and could hardly w...   \n",
       "28086  Nothing against the product, but it does bothe...   \n",
       "28087  I love this stuff. It is sugar-free so it does...   \n",
       "\n",
       "                                             CleanedText  \\\n",
       "70688  bought apartment infested fruit flies hours tr...   \n",
       "1146   really good idea final product outstanding use...   \n",
       "1145   received shipment could hardly wait try produc...   \n",
       "28086  nothing product bother link top page buy used ...   \n",
       "28087  love stuff sugar free not rot gums tastes good...   \n",
       "\n",
       "                   CleanedSummary  \n",
       "70688            sure death flies  \n",
       "1146                great product  \n",
       "1145           wow make islickers  \n",
       "28086  chewed gum many times used  \n",
       "28087     best sugarless gum ever  "
      ]
     },
     "execution_count": 36,
     "metadata": {},
     "output_type": "execute_result"
    }
   ],
   "source": [
    "final.head()"
   ]
  },
  {
   "cell_type": "code",
   "execution_count": 0,
   "metadata": {
    "ExecuteTime": {
     "start_time": "2019-03-20T10:32:15.953Z"
    },
    "_uuid": "a05f31796979ab80301aa820f45859577cfb38e7",
    "colab": {},
    "colab_type": "code",
    "id": "YDrefoHz1Kqs"
   },
   "outputs": [],
   "source": [
    "# writing the preprocessed final dataframe to dist\n",
    "#file_Name = \"preprocessed_final\"\n",
    "# open the file for writing\n",
    "#fileObject = open(file_Name,'wb') \n",
    "\n",
    "# this writes the object a to the\n",
    "# file named 'testfile'\n",
    "#pickle.dump(final,fileObject)"
   ]
  },
  {
   "cell_type": "markdown",
   "metadata": {
    "colab_type": "text",
    "id": "1nxaNO0y1Kq6"
   },
   "source": [
    "**Load saved final**"
   ]
  },
  {
   "cell_type": "code",
   "execution_count": 0,
   "metadata": {
    "ExecuteTime": {
     "start_time": "2019-03-20T10:32:15.956Z"
    },
    "colab": {},
    "colab_type": "code",
    "id": "2bHfE1o21Kq8"
   },
   "outputs": [],
   "source": [
    "#final = pickle.load(open('preprocessed_final', 'rb'))"
   ]
  },
  {
   "cell_type": "code",
   "execution_count": 37,
   "metadata": {
    "ExecuteTime": {
     "end_time": "2019-03-26T03:34:49.852116Z",
     "start_time": "2019-03-26T03:34:49.847105Z"
    },
    "colab": {
     "base_uri": "https://localhost:8080/",
     "height": 85
    },
    "colab_type": "code",
    "id": "Qb7obUKr1KrC",
    "outputId": "e6f46bb3-33fe-4826-f381-a7e275842ee7"
   },
   "outputs": [
    {
     "data": {
      "text/plain": [
       "Index(['Id', 'ProductId', 'UserId', 'ProfileName', 'HelpfulnessNumerator',\n",
       "       'HelpfulnessDenominator', 'Score', 'Time', 'Summary', 'Text',\n",
       "       'CleanedText', 'CleanedSummary'],\n",
       "      dtype='object')"
      ]
     },
     "execution_count": 37,
     "metadata": {},
     "output_type": "execute_result"
    }
   ],
   "source": [
    "final.columns"
   ]
  },
  {
   "cell_type": "markdown",
   "metadata": {
    "_uuid": "40303c9dc888ce87b9ee6909de656d42e132c51f",
    "colab_type": "text",
    "id": "yjTKYUcw1KrL"
   },
   "source": [
    " *Checkpoint 2: Data is now sorted based on Time and preprocessed.*"
   ]
  },
  {
   "cell_type": "code",
   "execution_count": 38,
   "metadata": {
    "ExecuteTime": {
     "end_time": "2019-03-26T03:34:50.185675Z",
     "start_time": "2019-03-26T03:34:50.182666Z"
    },
    "_uuid": "c0c4a2bd7e3c93da838face7bdddde16da39b5a1",
    "colab": {},
    "colab_type": "code",
    "id": "m-ErAmeZ1KrN"
   },
   "outputs": [],
   "source": [
    "# Create X and Y variable \n",
    "X = final['CleanedText'].values\n",
    "y= final['Score'].values"
   ]
  },
  {
   "cell_type": "code",
   "execution_count": 39,
   "metadata": {
    "ExecuteTime": {
     "end_time": "2019-03-26T03:34:50.564914Z",
     "start_time": "2019-03-26T03:34:50.558895Z"
    },
    "_uuid": "7eca81ddf0d38acc6ee572a03f67c8558a61dff0",
    "colab": {
     "base_uri": "https://localhost:8080/",
     "height": 34
    },
    "colab_type": "code",
    "id": "QDM3nzFY1KrU",
    "outputId": "76b9920d-103b-4a15-cfc9-9833a8cafa70",
    "scrolled": false
   },
   "outputs": [
    {
     "data": {
      "text/plain": [
       "numpy.ndarray"
      ]
     },
     "execution_count": 39,
     "metadata": {},
     "output_type": "execute_result"
    }
   ],
   "source": [
    "type(X)"
   ]
  },
  {
   "cell_type": "code",
   "execution_count": 40,
   "metadata": {
    "ExecuteTime": {
     "end_time": "2019-03-26T03:34:50.910822Z",
     "start_time": "2019-03-26T03:34:50.905807Z"
    },
    "_uuid": "7edc9d363ac68aadd01005ea64fd207166c592b7",
    "colab": {
     "base_uri": "https://localhost:8080/",
     "height": 34
    },
    "colab_type": "code",
    "id": "ayd34xz-1Krd",
    "outputId": "79c8ee73-b43f-440a-e0e7-67d6ad7a1330"
   },
   "outputs": [
    {
     "data": {
      "text/plain": [
       "numpy.ndarray"
      ]
     },
     "execution_count": 40,
     "metadata": {},
     "output_type": "execute_result"
    }
   ],
   "source": [
    "type(y)"
   ]
  },
  {
   "cell_type": "code",
   "execution_count": 41,
   "metadata": {
    "ExecuteTime": {
     "end_time": "2019-03-26T03:34:51.294699Z",
     "start_time": "2019-03-26T03:34:51.284662Z"
    },
    "_uuid": "ea363c9dc4d0476c6b9e6bf90c4ff6460f3a080c",
    "colab": {},
    "colab_type": "code",
    "id": "oh83OMFV1Krj"
   },
   "outputs": [],
   "source": [
    "# ss\n",
    "from sklearn.model_selection import train_test_split\n",
    "\n",
    "# Splitting into train and test in the ratio 70:30\n",
    "X_train, X_test, y_train, y_test = train_test_split(X, y, test_size=0.30,shuffle=False, random_state=507)\n",
    "#X_train, X_cv, y_train, y_cv = train_test_split(X_train, y_train, test_size=0.30, shuffle=False, random_state=507)"
   ]
  },
  {
   "cell_type": "code",
   "execution_count": 42,
   "metadata": {
    "ExecuteTime": {
     "end_time": "2019-03-26T03:34:51.687939Z",
     "start_time": "2019-03-26T03:34:51.674900Z"
    },
    "_uuid": "d6db3ab76eb89a4a205816b6c7faa6daf72b6863",
    "colab": {
     "base_uri": "https://localhost:8080/",
     "height": 51
    },
    "colab_type": "code",
    "id": "gy2wyF0B1Kru",
    "outputId": "9a7039f5-6dd4-49ab-a9d4-f7415f17aba0",
    "scrolled": true
   },
   "outputs": [
    {
     "name": "stdout",
     "output_type": "stream",
     "text": [
      "Train Set: (61441,) 61441\n",
      "Test Set: (26332,) 26332\n"
     ]
    }
   ],
   "source": [
    "print(\"Train Set:\",X_train.shape, y_train.shape[0])\n",
    "print(\"Test Set:\",X_test.shape, y_test.shape[0])"
   ]
  },
  {
   "cell_type": "markdown",
   "metadata": {
    "_uuid": "53560339c0e099f09b757c6d38e86eaea2522418",
    "colab_type": "text",
    "id": "JYRqD9o91Kr_"
   },
   "source": [
    "*Checkpoint 3: Data has been partioned into train, cv and test*"
   ]
  },
  {
   "cell_type": "markdown",
   "metadata": {
    "colab_type": "text",
    "id": "0J_0kgdSI36f"
   },
   "source": [
    "**Defining functions that we will be using throughout the notebook for BoW, TFIDF, AvgW2V, TFIDF-WW2V**\n",
    "\n",
    "1. **get_best_hyperparameter_C(vectorizer, X_train, X_test, y_train, y_test, penalty)** : This function will run GridSearchCV with cv = 5 and the penalty on the training and test set data specified by the user.  \n",
    "2. **plot_auc(model, X_train, X_test)**: This funtion will plot the AUC curve\n",
    "3. **most_informative_feature_for_binary_classification(vectorizer, classifier, n=10)** : This function will return the most imporant features for the positive and the negative class\n",
    "4. **print_confusion_matrix(model, X_train, X_test)**: Prints the confusion matrix for the train and test set data.\n",
    "5. **plot_confusion_matrix_heatmap(cm, classes, normalize=False,title='Confusion matrix', cmap=plt.cm.Blues)** : Taken from the official sklearn website, this function will return heatmap representation of the confusion matrix\n",
    "6. **plot_heatmap_confusion_matrix(model, X_test)**: Calculates the confusion matrix on the dataset provided and passes it to plot_confusion_matrix_heatmap() to print the heatmap"
   ]
  },
  {
   "cell_type": "markdown",
   "metadata": {
    "colab_type": "text",
    "id": "mV7fe3HJ1Ksn"
   },
   "source": [
    "**Finding the hyper parameter C (1/lambda) using RandomSearchCV with cv = 5**"
   ]
  },
  {
   "cell_type": "code",
   "execution_count": 43,
   "metadata": {
    "ExecuteTime": {
     "end_time": "2019-03-26T03:34:52.045004Z",
     "start_time": "2019-03-26T03:34:52.035975Z"
    },
    "colab": {},
    "colab_type": "code",
    "id": "0bTBVWAcLN4k"
   },
   "outputs": [],
   "source": [
    "def get_best_hyperparameter_C(vectorizer, X_train, X_test, y_train, y_test, penalty_l):\n",
    "  \n",
    "    \"\"\"\n",
    "    This funtion takes in the vectorizer,  and performs LogissticRegression hyperparameter tuning using GridSearchCV with 5 fold cv \n",
    "    Returns the value of hyperparameter C and draws the error plot for various values of C\n",
    "  \n",
    "    Usage: get_best_hyperparameter_C(vectorizer, X_train, X_test, y_train, y_test, penalty)\n",
    "    \"\"\"\n",
    "    tuned_parameters = [{'C': [10**-4, 10**-3,10**-2,10**-1, 10**0,10**1, 10**2,10**3, 10**4]}]\n",
    "    alpha = [10**-4, 10**-3,10**-2,10**-1, 10**0,10**1, 10**2,10**3, 10**4]  #k\n",
    "    \n",
    "    #tuned_parameters = [{'C': [10**-4, 10**-3,10**-2]}]\n",
    "    #alpha = [10**-4, 10**-3,10**-2]\n",
    "\n",
    "    # Using GridSearchCVSearchCV with 5 fold cv\n",
    "    gs_obj = GridSearchCV(LogisticRegression(penalty= penalty_l), tuned_parameters, scoring = 'roc_auc', cv=5)\n",
    "\n",
    "    gs_obj.fit(X_train, y_train)\n",
    "\n",
    "\n",
    "    train_auc= gs_obj.cv_results_['mean_train_score']\n",
    "    train_auc_std= gs_obj.cv_results_['std_train_score']\n",
    "    cv_auc = gs_obj.cv_results_['mean_test_score'] \n",
    "    cv_auc_std= gs_obj.cv_results_['std_test_score']\n",
    "\n",
    "  \n",
    "    # draws the error plot\n",
    "  \n",
    "    plt.plot(alpha, train_auc, label='Train AUC')\n",
    "    # this code is copied from here: https://stackoverflow.com/a/48803361/4084039\n",
    "    plt.gca().fill_between(alpha,train_auc - train_auc_std,train_auc + train_auc_std,alpha=0.2,color='darkblue')\n",
    "\n",
    "    plt.plot(alpha, cv_auc, label='CV AUC')\n",
    "    # this code is copied from here: https://stackoverflow.com/a/48803361/4084039 \n",
    "    plt.gca().fill_between(alpha,cv_auc - cv_auc_std,cv_auc + cv_auc_std,alpha=0.2,color='darkorange')\n",
    "    plt.legend()\n",
    "    plt.xlabel(\"log(C)- hyperparamter\")\n",
    "    plt.xscale('log')\n",
    "    plt.ylabel(\"AUC\")\n",
    "    plt.title(\"ERROR PLOT\")\n",
    "    plt.show()\n",
    "  \n",
    "  \n",
    "    # Results of the gs object\n",
    "  \n",
    "  \n",
    "    # Code https://stackoverflow.com/questions/42793254/what-replaces-gridsearchcv-grid-scores-in-scikit#answer-42800056\n",
    "    means = gs_obj.cv_results_['mean_test_score']\n",
    "    stds = gs_obj.cv_results_['std_test_score']\n",
    "\n",
    "\n",
    "    t1 = PrettyTable()\n",
    "    t1.field_names = ['Mean CV Score', 'Std CV Score', 'Param']\n",
    "\n",
    "    for mean, std, params in zip(means, stds, gs_obj.cv_results_['params']):\n",
    "        t1.add_row([round(mean, 3), round(std * 2,5), params])\n",
    "\n",
    "    print(t1) \n",
    "  \n",
    "    print(\"\\nThe best estimator:{}\".format(gs_obj.best_estimator_))\n",
    "    print(\"\\nThe best score is:{}\".format(gs_obj.best_score_))\n",
    "    print(\"The best value of C is:{}\".format(gs_obj.best_params_))\n",
    "\n",
    "    # Returns the mean accuracy on the given test data and labels.\n",
    "    print(\"Mean Score: {}\".format(gs_obj.score(X_test, y_test)))\n",
    "    \n",
    "    \n",
    "    return gs_obj.best_params_\n",
    "    "
   ]
  },
  {
   "cell_type": "markdown",
   "metadata": {
    "colab_type": "text",
    "id": "yYvUA3nK1Kte"
   },
   "source": [
    "**train and test AUC**"
   ]
  },
  {
   "cell_type": "code",
   "execution_count": 44,
   "metadata": {
    "ExecuteTime": {
     "end_time": "2019-03-26T03:34:52.378085Z",
     "start_time": "2019-03-26T03:34:52.372069Z"
    },
    "colab": {},
    "colab_type": "code",
    "id": "zSNJlv1e1Ktg"
   },
   "outputs": [],
   "source": [
    "def plot_auc(model, X_train, X_test):\n",
    "    \n",
    "    \"\"\"\n",
    "    This function will plot the AUC for the vectorized train and test data.\n",
    "    Returns the plot and also the values of auc for train and test\n",
    "    \n",
    "    Usage: auc_train, auc_test = plot_auc(model, X_train, X_test)\n",
    "    \"\"\"\n",
    "    train_fpr, train_tpr, thresholds = roc_curve(y_train, model.predict_proba(X_train)[:,1])\n",
    "    test_fpr, test_tpr, thresholds = roc_curve(y_test, model.predict_proba(X_test)[:,1])\n",
    "\n",
    "    plt.plot([0,1],[0,1],'k--')\n",
    "    plt.plot(train_fpr, train_tpr, label=\"train AUC =\"+str(auc(train_fpr, train_tpr)))\n",
    "    plt.plot(test_fpr, test_tpr, label=\"test AUC =\"+str(auc(test_fpr, test_tpr)))\n",
    "    plt.legend()\n",
    "    plt.xlabel(\"fpr\")\n",
    "    plt.ylabel(\"tpr\")\n",
    "    plt.title(\"ROC Curve\")\n",
    "    plt.show()\n",
    "    \n",
    "    print(\"train AUC: {}\".format(auc(train_fpr, train_tpr)))\n",
    "    print(\"test AUC: {}\".format(auc(test_fpr, test_tpr)))\n",
    "    \n",
    "    \n",
    "    return auc(train_fpr, train_tpr), auc(test_fpr, test_tpr)\n",
    "    "
   ]
  },
  {
   "cell_type": "markdown",
   "metadata": {
    "colab_type": "text",
    "id": "NkZou-uYfDp0"
   },
   "source": [
    "**important features**"
   ]
  },
  {
   "cell_type": "code",
   "execution_count": 45,
   "metadata": {
    "ExecuteTime": {
     "end_time": "2019-03-26T03:34:52.700591Z",
     "start_time": "2019-03-26T03:34:52.695074Z"
    },
    "colab": {},
    "colab_type": "code",
    "id": "JoslwxVZ1KuL"
   },
   "outputs": [],
   "source": [
    "# https://stackoverflow.com/questions/26976362/how-to-get-most-informative-features-for-scikit-learn-classifier-for-different-c\n",
    "def most_informative_feature_for_binary_classification(vectorizer, classifier, n=10):\n",
    "  \n",
    "    \"\"\"\n",
    "     Takes in the vectorizer, classifier (model) and the number of important features to return\n",
    "  \n",
    "     Usage: most_informative_feature_for_binary_classification(vectorizer, classifier, n=10)\n",
    "    \"\"\"\n",
    "    class_labels = classifier.classes_\n",
    "    feature_names = vectorizer.get_feature_names()\n",
    "    topn_class_0 = sorted(zip(classifier.coef_[0], feature_names))[:n]\n",
    "    topn_class_1 = sorted(zip(classifier.coef_[0], feature_names))[-n:]\n",
    "    \n",
    "    t1 = PrettyTable()\n",
    "    t1.field_names = ['Class', 'Coefficient (Importance)', 'Feature Name']\n",
    "    \n",
    "    for coef, feat in topn_class_0:\n",
    "        t1.add_row([class_labels[0], abs(coef), feat])\n",
    "\n",
    "    print(t1)\n",
    "    \n",
    "    print(\"*\"*52)\n",
    "    \n",
    "    t2 = PrettyTable()\n",
    "    t2.field_names = ['Class', 'Coefficient (Importance)', 'Feature Name']\n",
    " \n",
    "    for coef, feat in reversed(topn_class_1):\n",
    "        t2.add_row([class_labels[1], abs(coef), feat])\n",
    "      \n",
    "      \n",
    "    print(t2)  \n",
    "\n",
    "    #for coef, feat in topn_class1:\n",
    "        #if coef < 0:\n",
    "        #print(class_labels[0], abs(coef), feat)\n",
    "\n",
    "    #print(\"*\"*30)\n",
    "\n",
    "    #for coef, feat in reversed(topn_class2):\n",
    "        #if coef > 0:\n",
    "     #   print(class_labels[1], abs(coef), feat)"
   ]
  },
  {
   "cell_type": "markdown",
   "metadata": {
    "colab_type": "text",
    "id": "IRzapfgSfDp5"
   },
   "source": [
    "**print confustion matrix**"
   ]
  },
  {
   "cell_type": "code",
   "execution_count": 46,
   "metadata": {
    "ExecuteTime": {
     "end_time": "2019-03-26T03:34:53.032801Z",
     "start_time": "2019-03-26T03:34:53.028788Z"
    },
    "colab": {},
    "colab_type": "code",
    "id": "1F0galr5hep0"
   },
   "outputs": [],
   "source": [
    "def print_confusion_matrix(model, X_train, X_test):\n",
    "    \"\"\"\n",
    "    Takes in the model, X_train, X_test and prints the confusion matrix\n",
    "    Usage: print_confusion_matrix(model, X_train, X_test)\n",
    "    \"\"\"\n",
    "    print(\"*****Train confusion matrix*****\")\n",
    "    print(confusion_matrix(y_train, model.predict(X_train)))\n",
    "    print(\"\\n*****Test confusion matrix*****\")\n",
    "    print(confusion_matrix(y_test, model.predict(X_test)))"
   ]
  },
  {
   "cell_type": "markdown",
   "metadata": {
    "colab_type": "text",
    "id": "tYSm6RvMfDqE"
   },
   "source": [
    "**heat map of confusion matrix**"
   ]
  },
  {
   "cell_type": "code",
   "execution_count": 47,
   "metadata": {
    "ExecuteTime": {
     "end_time": "2019-03-26T03:34:53.365406Z",
     "start_time": "2019-03-26T03:34:53.360391Z"
    },
    "colab": {},
    "colab_type": "code",
    "id": "iNZeoZMS1Kv2"
   },
   "outputs": [],
   "source": [
    "# Code modified from sklearn tutorial: https://scikit-learn.org/stable/auto_examples/model_selection/plot_confusion_matrix.html\n",
    "\n",
    "# Heat map of confusion matrix\n",
    "\n",
    "def plot_confusion_matrix_heatmap(cm, classes,\n",
    "                          normalize=False,\n",
    "                          title='Confusion matrix',\n",
    "                          cmap=plt.cm.Blues):\n",
    "    \"\"\"\n",
    "    This function prints and plots the confusion matrix.\n",
    "    Normalization can be applied by setting `normalize=True`.\n",
    "    \"\"\"\n",
    "    #if normalize:\n",
    "     #   cm = cm.astype('float') / cm.sum(axis=1)[:, np.newaxis]\n",
    "     #   print(\"Normalized confusion matrix\")\n",
    "    #else:\n",
    "      #  print('Confusion matrix')\n",
    "\n",
    "    #print(cm)\n",
    "\n",
    "    plt.imshow(cm, interpolation='nearest', cmap=cmap)\n",
    "    plt.title(title)\n",
    "    plt.colorbar()\n",
    "    tick_marks = np.arange(len(classes))\n",
    "    plt.xticks(tick_marks, classes, rotation=45)\n",
    "    plt.yticks(tick_marks, classes)\n",
    "\n",
    "    fmt = '.2f' if normalize else 'd'\n",
    "    thresh = cm.max() / 2.\n",
    "    for i, j in itertools.product(range(cm.shape[0]), range(cm.shape[1])):\n",
    "        plt.text(j, i, format(cm[i, j], fmt),\n",
    "                 horizontalalignment=\"center\",\n",
    "                 color=\"white\" if cm[i, j] > thresh else \"black\")\n",
    "\n",
    "    plt.ylabel('True label')\n",
    "    plt.xlabel('Predicted label')\n",
    "    plt.tight_layout()"
   ]
  },
  {
   "cell_type": "code",
   "execution_count": 48,
   "metadata": {
    "ExecuteTime": {
     "end_time": "2019-03-26T03:35:04.946950Z",
     "start_time": "2019-03-26T03:35:04.943941Z"
    },
    "colab": {},
    "colab_type": "code",
    "id": "uzAy-Nw51KwH"
   },
   "outputs": [],
   "source": [
    "# def plot_heatmap_confusion_matrix(model, X_test):\n",
    "#     cnf_matrix = confusion_matrix(y_test, model.predict(X_test))\n",
    "#     np.set_printoptions(precision=2)\n",
    "#     class_names = ['Negative', 'Positive']\n",
    "#     # Plot non-normalized confusion matrix\n",
    "#     plt.figure()\n",
    "#     plot_confusion_matrix_heatmap(cnf_matrix, classes=class_names, title='Test Set Confusion Matrix');"
   ]
  },
  {
   "cell_type": "code",
   "execution_count": 49,
   "metadata": {
    "ExecuteTime": {
     "end_time": "2019-03-26T03:35:06.747327Z",
     "start_time": "2019-03-26T03:35:06.744318Z"
    },
    "colab": {},
    "colab_type": "code",
    "id": "aClsbz-FlqfG"
   },
   "outputs": [],
   "source": [
    "# def plot_heatmap_confusion_matrix_train(model, X_train):\n",
    "#     cnf_matrix = confusion_matrix(y_train, model.predict(X_train))\n",
    "#     np.set_printoptions(precision=2)\n",
    "#     class_names = ['Negative', 'Positive']\n",
    "#     # Plot non-normalized confusion matrix\n",
    "#     plt.figure()\n",
    "#     plot_confusion_matrix_heatmap(cnf_matrix, classes=class_names, title='Train Set Confusion Matrix');\n",
    "    "
   ]
  },
  {
   "cell_type": "markdown",
   "metadata": {
    "_uuid": "ecb14af336b09aed612c6128fe1b2fe509a7bf43",
    "colab_type": "text",
    "id": "rjQi79R41KsB"
   },
   "source": [
    "# [4.1] BAG OF WORDS"
   ]
  },
  {
   "cell_type": "code",
   "execution_count": 50,
   "metadata": {
    "ExecuteTime": {
     "end_time": "2019-03-26T03:35:21.348234Z",
     "start_time": "2019-03-26T03:35:08.842540Z"
    },
    "_uuid": "19133a925d5ceefbf872451b8c59308ceab59650",
    "colab": {
     "base_uri": "https://localhost:8080/",
     "height": 85
    },
    "colab_type": "code",
    "id": "yMDplkeN1KsE",
    "outputId": "266068bb-2e9e-4d7c-db0b-813df6b2917e",
    "scrolled": true
   },
   "outputs": [
    {
     "name": "stdout",
     "output_type": "stream",
     "text": [
      "After vectorizations\n",
      "(61441, 10000) (61441,)\n",
      "(26332, 10000) (26332,)\n",
      "====================================================================================================\n"
     ]
    }
   ],
   "source": [
    "# ss\n",
    "from sklearn.feature_extraction.text import CountVectorizer\n",
    "bow_vectorizer= CountVectorizer(ngram_range=(1,2), min_df=10, max_features=10000)\n",
    "bow_vectorizer.fit(X_train) # fit has to happen only on train data\n",
    "\n",
    "# we use the fitted CountVectorizer to convert the text to vector\n",
    "X_train_bow = bow_vectorizer.transform(X_train)\n",
    "#X_cv_bow = vectorizer.transform(X_cv)\n",
    "X_test_bow = bow_vectorizer.transform(X_test)\n",
    "\n",
    "print(\"After vectorizations\")\n",
    "print(X_train_bow.shape, y_train.shape)\n",
    "#print(X_cv_bow.shape, y_cv.shape)\n",
    "print(X_test_bow.shape, y_test.shape)\n",
    "print(\"=\"*100)"
   ]
  },
  {
   "cell_type": "code",
   "execution_count": 51,
   "metadata": {
    "ExecuteTime": {
     "end_time": "2019-03-26T03:35:21.775658Z",
     "start_time": "2019-03-26T03:35:21.763620Z"
    },
    "_uuid": "2e025115407a3ca9fe94af6e0986f914035f8b1b",
    "colab": {
     "base_uri": "https://localhost:8080/",
     "height": 68
    },
    "colab_type": "code",
    "id": "K-TX7mYe1KsN",
    "outputId": "bb8f7215-85da-4208-874a-ecdcd9c4b1f8"
   },
   "outputs": [
    {
     "name": "stdout",
     "output_type": "stream",
     "text": [
      "the type of count vectorizer  <class 'scipy.sparse.csr.csr_matrix'>\n",
      "the shape of cut text BOW vectorizer  (61441, 10000)\n",
      "the number of unique words:  10000\n"
     ]
    }
   ],
   "source": [
    "print(\"the type of count vectorizer \",type(X_train_bow))\n",
    "print(\"the shape of cut text BOW vectorizer \",X_train_bow.get_shape())\n",
    "print(\"the number of unique words: \", X_train_bow.get_shape()[1])"
   ]
  },
  {
   "cell_type": "markdown",
   "metadata": {
    "colab_type": "text",
    "id": "IVFq9Jr81Ksa"
   },
   "source": [
    "**Standardize the data**"
   ]
  },
  {
   "cell_type": "code",
   "execution_count": 52,
   "metadata": {
    "ExecuteTime": {
     "end_time": "2019-03-26T03:35:22.338045Z",
     "start_time": "2019-03-26T03:35:22.173950Z"
    },
    "colab": {
     "base_uri": "https://localhost:8080/",
     "height": 51
    },
    "colab_type": "code",
    "id": "CFKUKALv1Ksc",
    "outputId": "763dcd77-1ded-443a-9ef9-bd0f834fb3ee"
   },
   "outputs": [
    {
     "name": "stderr",
     "output_type": "stream",
     "text": [
      "C:\\Users\\Nit-prj1010\\AppData\\Local\\Continuum\\anaconda3\\lib\\site-packages\\sklearn\\utils\\validation.py:595: DataConversionWarning: Data with input dtype int64 was converted to float64 by StandardScaler.\n",
      "  warnings.warn(msg, DataConversionWarning)\n",
      "C:\\Users\\Nit-prj1010\\AppData\\Local\\Continuum\\anaconda3\\lib\\site-packages\\sklearn\\utils\\validation.py:595: DataConversionWarning: Data with input dtype int64 was converted to float64 by StandardScaler.\n",
      "  warnings.warn(msg, DataConversionWarning)\n",
      "C:\\Users\\Nit-prj1010\\AppData\\Local\\Continuum\\anaconda3\\lib\\site-packages\\sklearn\\utils\\validation.py:595: DataConversionWarning: Data with input dtype int64 was converted to float64 by StandardScaler.\n",
      "  warnings.warn(msg, DataConversionWarning)\n",
      "C:\\Users\\Nit-prj1010\\AppData\\Local\\Continuum\\anaconda3\\lib\\site-packages\\sklearn\\utils\\validation.py:595: DataConversionWarning: Data with input dtype int64 was converted to float64 by StandardScaler.\n",
      "  warnings.warn(msg, DataConversionWarning)\n"
     ]
    },
    {
     "name": "stdout",
     "output_type": "stream",
     "text": [
      "(61441, 10000) (61441,)\n",
      "(26332, 10000) (26332,)\n"
     ]
    }
   ],
   "source": [
    "# We will set the attribute with_mean = False, as StandardScaler does not work on sparse matrix\n",
    "# when attempted on sparse matrices, because centering them entails building a dense matrix which in common use cases\n",
    "# is likely to be too large to fit in memory.  ---> sklearn documentation\n",
    "\n",
    "from sklearn.preprocessing import StandardScaler\n",
    "X_train_bow=StandardScaler(with_mean=False).fit_transform(X_train_bow)\n",
    "X_test_bow=StandardScaler(with_mean=False).fit_transform(X_test_bow)\n",
    "\n",
    "print(X_train_bow.shape, y_train.shape) \n",
    "\n",
    "print(X_test_bow.shape, y_test.shape) "
   ]
  },
  {
   "cell_type": "markdown",
   "metadata": {
    "colab_type": "text",
    "id": "PQ8w-04jfDrB"
   },
   "source": [
    "### [5.1.1] Applying Logistic Regression with L1 regularization on BOW,<font color='red'> SET 1</font>"
   ]
  },
  {
   "cell_type": "code",
   "execution_count": 107,
   "metadata": {
    "ExecuteTime": {
     "end_time": "2019-03-26T04:11:13.318413Z",
     "start_time": "2019-03-26T04:11:13.156482Z"
    },
    "colab": {},
    "colab_type": "code",
    "id": "le_Vvo2AkbAq"
   },
   "outputs": [],
   "source": [
    "# Free up some space\n",
    "del final,display, preprocessed_reviews, preprocessed_summary, X, y, sorted_data, filtered_data, actualScore, sent_0, sent_1000, sent_150, sent_1500, sent_4900\n",
    "#del sent_vectors_cv, sent_vectors_test, sent_vectors_train\n",
    "#del tfidf_sent_vectors_train, tfidf_sent_vectors_cv, tfidf_sent_vectors_test\n",
    "#del list_of_sentance_cv, list_of_sentance_test, list_of_sentance_train\n",
    "#del dictionary, stopwords, tfidf_feat, w2v_words"
   ]
  },
  {
   "cell_type": "code",
   "execution_count": 53,
   "metadata": {
    "ExecuteTime": {
     "end_time": "2019-03-26T04:01:21.117585Z",
     "start_time": "2019-03-26T03:36:01.898376Z"
    },
    "colab": {
     "base_uri": "https://localhost:8080/",
     "height": 672
    },
    "colab_type": "code",
    "id": "j4xqdVvAfDrC",
    "outputId": "5f886e97-e39b-451d-cb99-a70b5ab64a50"
   },
   "outputs": [
    {
     "name": "stderr",
     "output_type": "stream",
     "text": [
      "C:\\Users\\Nit-prj1010\\AppData\\Local\\Continuum\\anaconda3\\lib\\site-packages\\sklearn\\svm\\base.py:922: ConvergenceWarning: Liblinear failed to converge, increase the number of iterations.\n",
      "  \"the number of iterations.\", ConvergenceWarning)\n",
      "C:\\Users\\Nit-prj1010\\AppData\\Local\\Continuum\\anaconda3\\lib\\site-packages\\sklearn\\svm\\base.py:922: ConvergenceWarning: Liblinear failed to converge, increase the number of iterations.\n",
      "  \"the number of iterations.\", ConvergenceWarning)\n"
     ]
    },
    {
     "data": {
      "image/png": "[encoded data removed]",
      "text/plain": [
       "<Figure size 432x288 with 1 Axes>"
      ]
     },
     "metadata": {
      "needs_background": "light"
     },
     "output_type": "display_data"
    },
    {
     "name": "stdout",
     "output_type": "stream",
     "text": [
      "+---------------+--------------+---------------+\n",
      "| Mean CV Score | Std CV Score |     Param     |\n",
      "+---------------+--------------+---------------+\n",
      "|      0.5      |     0.0      | {'C': 0.0001} |\n",
      "|     0.857     |   0.02148    |  {'C': 0.001} |\n",
      "|     0.946     |   0.00967    |  {'C': 0.01}  |\n",
      "|     0.931     |   0.01305    |   {'C': 0.1}  |\n",
      "|     0.906     |   0.01855    |    {'C': 1}   |\n",
      "|     0.899     |   0.01977    |   {'C': 10}   |\n",
      "|      0.89     |   0.02458    |   {'C': 100}  |\n",
      "|     0.883     |   0.02402    |  {'C': 1000}  |\n",
      "|      0.88     |   0.02441    |  {'C': 10000} |\n",
      "+---------------+--------------+---------------+\n",
      "\n",
      "The best estimator:LogisticRegression(C=0.01, class_weight=None, dual=False, fit_intercept=True,\n",
      "          intercept_scaling=1, max_iter=100, multi_class='warn',\n",
      "          n_jobs=None, penalty='l1', random_state=None, solver='warn',\n",
      "          tol=0.0001, verbose=0, warm_start=False)\n",
      "\n",
      "The best score is:0.945815885045128\n",
      "The best value of C is:{'C': 0.01}\n",
      "Mean Score: 0.9547743986302348\n"
     ]
    }
   ],
   "source": [
    "# Vectorizer = BoW, penalty = l1\n",
    "best_estimator_bow_l1= get_best_hyperparameter_C(bow_vectorizer, X_train_bow, X_test_bow, y_train, y_test, penalty_l = 'l1' )\n"
   ]
  },
  {
   "cell_type": "code",
   "execution_count": 66,
   "metadata": {
    "colab": {
     "base_uri": "https://localhost:8080/",
     "height": 34
    },
    "colab_type": "code",
    "id": "6nPmCeU0Tx2b",
    "outputId": "b68f004b-f5f5-401c-95a3-adcaecc661b5"
   },
   "outputs": [
    {
     "data": {
      "text/plain": [
       "0.01"
      ]
     },
     "execution_count": 66,
     "metadata": {
      "tags": []
     },
     "output_type": "execute_result"
    }
   ],
   "source": [
    "# https://stackoverflow.com/questions/3097866/access-an-arbitrary-element-in-a-dictionary-in-python\n",
    "#list(my_dict.keys())[0]\n",
    "list(best_estimator_bow_l1.values())[0]\n"
   ]
  },
  {
   "cell_type": "code",
   "execution_count": 54,
   "metadata": {
    "ExecuteTime": {
     "end_time": "2019-03-26T04:01:21.950749Z",
     "start_time": "2019-03-26T04:01:21.589869Z"
    },
    "colab": {},
    "colab_type": "code",
    "id": "6evyT4VmfDrH"
   },
   "outputs": [],
   "source": [
    "model_bow_l1 = LogisticRegression(C= list(best_estimator_bow_l1.values())[0] ,penalty = 'l1')\n",
    "model_bow_l1.fit(X_train_bow,y_train)\n",
    "y_pred = model_bow_l1.predict(X_test_bow)"
   ]
  },
  {
   "cell_type": "code",
   "execution_count": 55,
   "metadata": {
    "ExecuteTime": {
     "end_time": "2019-03-26T04:01:22.644647Z",
     "start_time": "2019-03-26T04:01:22.371459Z"
    },
    "colab": {
     "base_uri": "https://localhost:8080/",
     "height": 328
    },
    "colab_type": "code",
    "id": "KzDaPZ5KfDrN",
    "outputId": "f72fa0f1-5dbd-434e-ae6a-d82dd69ca464"
   },
   "outputs": [
    {
     "data": {
      "image/png": "[encoded data removed]",
      "text/plain": [
       "<Figure size 432x288 with 1 Axes>"
      ]
     },
     "metadata": {
      "needs_background": "light"
     },
     "output_type": "display_data"
    },
    {
     "name": "stdout",
     "output_type": "stream",
     "text": [
      "train AUC: 0.9695167883807346\n",
      "test AUC: 0.9547676364720178\n"
     ]
    }
   ],
   "source": [
    "# AUC-ROC plot\n",
    "auc_train_bow_l1, auc_test_bow_l1 = plot_auc(model_bow_l1, X_train_bow, X_test_bow)"
   ]
  },
  {
   "cell_type": "code",
   "execution_count": 56,
   "metadata": {
    "ExecuteTime": {
     "end_time": "2019-03-26T04:01:23.165194Z",
     "start_time": "2019-03-26T04:01:23.066309Z"
    },
    "colab": {
     "base_uri": "https://localhost:8080/",
     "height": 136
    },
    "colab_type": "code",
    "id": "YxbckAK-fDrd",
    "outputId": "5d656e8f-89b3-4f86-e48f-8f6ee5d6ee60"
   },
   "outputs": [
    {
     "name": "stdout",
     "output_type": "stream",
     "text": [
      "*****Train confusion matrix*****\n",
      "[[ 6280  3344]\n",
      " [  655 51162]]\n",
      "\n",
      "*****Test confusion matrix*****\n",
      "[[ 2785  1772]\n",
      " [  376 21399]]\n"
     ]
    }
   ],
   "source": [
    "# Confusion Matrix\n",
    "print_confusion_matrix(model_bow_l1, X_train_bow, X_test_bow)"
   ]
  },
  {
   "cell_type": "code",
   "execution_count": 57,
   "metadata": {
    "ExecuteTime": {
     "end_time": "2019-03-26T04:01:23.875734Z",
     "start_time": "2019-03-26T04:01:23.588120Z"
    },
    "colab": {
     "base_uri": "https://localhost:8080/",
     "height": 314
    },
    "colab_type": "code",
    "id": "LZyHYB_asCvl",
    "outputId": "0fbbe97b-648f-4c94-b21b-1f1f1e9b0268"
   },
   "outputs": [
    {
     "data": {
      "text/plain": [
       "<Figure size 432x288 with 0 Axes>"
      ]
     },
     "metadata": {},
     "output_type": "display_data"
    },
    {
     "data": {
      "image/png": "[encoded data removed]",
      "text/plain": [
       "<Figure size 1080x288 with 4 Axes>"
      ]
     },
     "metadata": {
      "needs_background": "light"
     },
     "output_type": "display_data"
    }
   ],
   "source": [
    "plt.figure(1)\n",
    "plt.figure(figsize=(15, 4))\n",
    "\n",
    "\n",
    "plt.subplot(121)  # Test confusion matrix\n",
    "cnf_matrix = confusion_matrix(y_test, model_bow_l1.predict(X_test_bow))\n",
    "np.set_printoptions(precision=2)\n",
    "class_names = ['Negative', 'Positive']\n",
    "# Plot non-normalized confusion matrix\n",
    "#plt.figure()\n",
    "plot_confusion_matrix_heatmap(cnf_matrix, classes=class_names, title='Test Set Confusion Matrix');\n",
    "\n",
    "plt.subplot(122) # Train Confusion matrix\n",
    "cnf_matrix = confusion_matrix(y_train, model_bow_l1.predict(X_train_bow))\n",
    "np.set_printoptions(precision=2)\n",
    "class_names = ['Negative', 'Positive']\n",
    "# Plot non-normalized confusion matrix\n",
    "#plt.figure()\n",
    "plot_confusion_matrix_heatmap(cnf_matrix, classes=class_names, title='Train Set Confusion Matrix');\n"
   ]
  },
  {
   "cell_type": "markdown",
   "metadata": {
    "colab_type": "text",
    "id": "9uOjgLypkbBK"
   },
   "source": [
    "**Observation**\n",
    "1. For the BoW vectorizer, we calculated C = 0.01 using GridSearchCV with cv = 5 and with penalty l1. \n",
    "2. We got train AUC: 0.9695167883807346 and test AUC: 0.9547676364720178\n",
    "3. Using the confusion matrix, we can say that our model correctly predicted 21399 positive reviews and 2785 negative reviews.\n",
    "4. The model incorrectly classified 376 negative reviews and 1772 positive reviews.\n",
    "5. The True Postive Rate is 98.27 and the True Negative Rate is 61.11\n",
    "6. The accuracy of the model is 91.84"
   ]
  },
  {
   "cell_type": "code",
   "execution_count": 58,
   "metadata": {
    "ExecuteTime": {
     "end_time": "2019-03-26T04:01:24.297875Z",
     "start_time": "2019-03-26T04:01:24.294867Z"
    },
    "colab": {
     "base_uri": "https://localhost:8080/",
     "height": 314
    },
    "colab_type": "code",
    "id": "vXU0fizGfDrk",
    "outputId": "7e73f11d-1aa8-4d53-928c-ba9a6e1b1515"
   },
   "outputs": [],
   "source": [
    "# Confustion Matrix heatmap\n",
    "#print(\"Train set\")\n",
    "#plot_heatmap_confusion_matrix(model_bow_l1, X_train_bow)\n",
    "#plot_heatmap_confusion_matrix_train(model_bow_l1, X_train_bow)\n",
    "#confusion_matrix(y_train, model_bow_l1.predict(X_train_bow))\n",
    "\n",
    "# Confustion Matrix heatmap\n",
    "#print(\"Train set\")\n",
    "#plot_heatmap_confusion_matrix(model_bow_l1, X_test_bow)"
   ]
  },
  {
   "cell_type": "markdown",
   "metadata": {
    "colab_type": "text",
    "id": "ArPMkO5wkbBL"
   },
   "source": [
    "#### [5.1.1.1] Calculating sparsity on weight vector obtained using L1 regularization on BOW,<font color='red'> SET 1</font>"
   ]
  },
  {
   "cell_type": "code",
   "execution_count": 59,
   "metadata": {
    "ExecuteTime": {
     "end_time": "2019-03-26T04:01:24.717519Z",
     "start_time": "2019-03-26T04:01:24.711999Z"
    },
    "colab": {
     "base_uri": "https://localhost:8080/",
     "height": 34
    },
    "colab_type": "code",
    "id": "OdznyoI3kbBM",
    "outputId": "42d2308a-0994-4e12-b906-2e4c1088d6f8"
   },
   "outputs": [
    {
     "name": "stdout",
     "output_type": "stream",
     "text": [
      "The sparsity (no. of non-zero elements) in weight vector is 1910\n"
     ]
    }
   ],
   "source": [
    "# The model has already been fitted. Here we are just going to calculate the sparsity on weight vector \n",
    "w = model_bow_l1.coef_\n",
    "print(\"The sparsity (no. of non-zero elements) in weight vector is {}\".format(np.count_nonzero(w)))"
   ]
  },
  {
   "cell_type": "markdown",
   "metadata": {
    "colab_type": "text",
    "id": "X-8P29d-fDrs"
   },
   "source": [
    "**Feature Engineering** Let us perform FE to see if we can further improve the model. Here, we will append length of reviews as another feature."
   ]
  },
  {
   "cell_type": "code",
   "execution_count": 60,
   "metadata": {
    "ExecuteTime": {
     "end_time": "2019-03-26T04:01:25.147138Z",
     "start_time": "2019-03-26T04:01:25.143125Z"
    },
    "colab": {},
    "colab_type": "code",
    "id": "1LGZFXc7fDrt"
   },
   "outputs": [],
   "source": [
    "def get_text_length(x):\n",
    "    \"\"\"\n",
    "     This function takes in a array and returns the length of the elements in the array.\n",
    "    \"\"\"\n",
    "    return np.array([len(t) for t in x]).reshape(-1, 1)"
   ]
  },
  {
   "cell_type": "code",
   "execution_count": 61,
   "metadata": {
    "ExecuteTime": {
     "end_time": "2019-03-26T04:01:25.583543Z",
     "start_time": "2019-03-26T04:01:25.560482Z"
    },
    "colab": {},
    "colab_type": "code",
    "id": "fIkPN6qafDrw"
   },
   "outputs": [],
   "source": [
    "rev_len_X_train = get_text_length(X_train)\n",
    "rev_len_X_test = get_text_length(X_test)"
   ]
  },
  {
   "cell_type": "code",
   "execution_count": 62,
   "metadata": {
    "ExecuteTime": {
     "end_time": "2019-03-26T04:01:33.441037Z",
     "start_time": "2019-03-26T04:01:26.007278Z"
    },
    "colab": {
     "base_uri": "https://localhost:8080/",
     "height": 119
    },
    "colab_type": "code",
    "id": "EtWZ4-pCfDr0",
    "outputId": "af93dda4-fb4a-4c50-dbfd-4fbc899e5ac0"
   },
   "outputs": [
    {
     "data": {
      "text/plain": [
       "CountVectorizer(analyzer='word', binary=False, decode_error='strict',\n",
       "        dtype=<class 'numpy.int64'>, encoding='utf-8', input='content',\n",
       "        lowercase=True, max_df=1.0, max_features=10000, min_df=10,\n",
       "        ngram_range=(1, 2), preprocessor=None, stop_words=None,\n",
       "        strip_accents=None, token_pattern='(?u)\\\\b\\\\w\\\\w+\\\\b',\n",
       "        tokenizer=None, vocabulary=None)"
      ]
     },
     "execution_count": 62,
     "metadata": {},
     "output_type": "execute_result"
    }
   ],
   "source": [
    "from sklearn.feature_extraction.text import CountVectorizer\n",
    "bow_vectorizer_fe = CountVectorizer(ngram_range=(1,2), min_df=10, max_features=10000)\n",
    "bow_vectorizer_fe.fit(X_train) # fit has to happen only on train data"
   ]
  },
  {
   "cell_type": "code",
   "execution_count": 63,
   "metadata": {
    "ExecuteTime": {
     "end_time": "2019-03-26T04:01:38.729726Z",
     "start_time": "2019-03-26T04:01:33.870033Z"
    },
    "colab": {
     "base_uri": "https://localhost:8080/",
     "height": 85
    },
    "colab_type": "code",
    "id": "T-YoUA_MfDr7",
    "outputId": "508076b8-4b4b-4370-d4ad-be24ae617723"
   },
   "outputs": [
    {
     "name": "stdout",
     "output_type": "stream",
     "text": [
      "After vectorizations\n",
      "(61441, 10000) (61441,)\n",
      "(26332, 10000) (26332,)\n",
      "====================================================================================================\n"
     ]
    }
   ],
   "source": [
    "# we use the fitted CountVectorizer to convert the text to vector\n",
    "X_train_bow = bow_vectorizer_fe.transform(X_train)\n",
    "X_test_bow = bow_vectorizer_fe.transform(X_test)\n",
    "\n",
    "print(\"After vectorizations\")\n",
    "print(X_train_bow.shape, y_train.shape)\n",
    "print(X_test_bow.shape, y_test.shape)\n",
    "print(\"=\"*100)"
   ]
  },
  {
   "cell_type": "markdown",
   "metadata": {
    "colab_type": "text",
    "id": "AbT5iTYBfDsF"
   },
   "source": [
    "**Standardize the data**"
   ]
  },
  {
   "cell_type": "code",
   "execution_count": 64,
   "metadata": {
    "ExecuteTime": {
     "end_time": "2019-03-26T04:01:39.321329Z",
     "start_time": "2019-03-26T04:01:39.168920Z"
    },
    "colab": {
     "base_uri": "https://localhost:8080/",
     "height": 51
    },
    "colab_type": "code",
    "id": "TSPPavxnfDsK",
    "outputId": "a67446a0-8007-454d-8a38-f1da3ad53f55"
   },
   "outputs": [
    {
     "name": "stderr",
     "output_type": "stream",
     "text": [
      "C:\\Users\\Nit-prj1010\\AppData\\Local\\Continuum\\anaconda3\\lib\\site-packages\\sklearn\\utils\\validation.py:595: DataConversionWarning: Data with input dtype int64 was converted to float64 by StandardScaler.\n",
      "  warnings.warn(msg, DataConversionWarning)\n",
      "C:\\Users\\Nit-prj1010\\AppData\\Local\\Continuum\\anaconda3\\lib\\site-packages\\sklearn\\utils\\validation.py:595: DataConversionWarning: Data with input dtype int64 was converted to float64 by StandardScaler.\n",
      "  warnings.warn(msg, DataConversionWarning)\n",
      "C:\\Users\\Nit-prj1010\\AppData\\Local\\Continuum\\anaconda3\\lib\\site-packages\\sklearn\\utils\\validation.py:595: DataConversionWarning: Data with input dtype int64 was converted to float64 by StandardScaler.\n",
      "  warnings.warn(msg, DataConversionWarning)\n",
      "C:\\Users\\Nit-prj1010\\AppData\\Local\\Continuum\\anaconda3\\lib\\site-packages\\sklearn\\utils\\validation.py:595: DataConversionWarning: Data with input dtype int64 was converted to float64 by StandardScaler.\n",
      "  warnings.warn(msg, DataConversionWarning)\n"
     ]
    },
    {
     "name": "stdout",
     "output_type": "stream",
     "text": [
      "(61441, 10000) (61441,)\n",
      "(26332, 10000) (26332,)\n"
     ]
    }
   ],
   "source": [
    "# We will set the attribute with_mean = False, as StandardScaler does not work on sparse matrix\n",
    "# when attempted on sparse matrices, because centering them entails building a dense matrix which in common use cases\n",
    "# is likely to be too large to fit in memory.  ---> sklearn documentation\n",
    "\n",
    "from sklearn.preprocessing import StandardScaler\n",
    "X_train_bow=StandardScaler(with_mean=False).fit_transform(X_train_bow)\n",
    "X_test_bow=StandardScaler(with_mean=False).fit_transform(X_test_bow)\n",
    "\n",
    "print(X_train_bow.shape, y_train.shape) \n",
    "\n",
    "print(X_test_bow.shape, y_test.shape) "
   ]
  },
  {
   "cell_type": "code",
   "execution_count": 65,
   "metadata": {
    "ExecuteTime": {
     "end_time": "2019-03-26T04:01:39.780572Z",
     "start_time": "2019-03-26T04:01:39.774556Z"
    },
    "colab": {
     "base_uri": "https://localhost:8080/",
     "height": 34
    },
    "colab_type": "code",
    "id": "SLyVDZdDfDsQ",
    "outputId": "fdddd8df-7a4d-4c45-aa0c-b099e8eb00cc"
   },
   "outputs": [
    {
     "data": {
      "text/plain": [
       "numpy.ndarray"
      ]
     },
     "execution_count": 65,
     "metadata": {},
     "output_type": "execute_result"
    }
   ],
   "source": [
    "type(rev_len_X_train)\n"
   ]
  },
  {
   "cell_type": "code",
   "execution_count": 66,
   "metadata": {
    "ExecuteTime": {
     "end_time": "2019-03-26T04:01:40.261876Z",
     "start_time": "2019-03-26T04:01:40.255860Z"
    },
    "colab": {
     "base_uri": "https://localhost:8080/",
     "height": 34
    },
    "colab_type": "code",
    "id": "5UzzWaPhfDsW",
    "outputId": "f2cbd5f6-a49b-4ab6-a4e0-6440e53afe5d"
   },
   "outputs": [
    {
     "data": {
      "text/plain": [
       "scipy.sparse.csr.csr_matrix"
      ]
     },
     "execution_count": 66,
     "metadata": {},
     "output_type": "execute_result"
    }
   ],
   "source": [
    "type(X_train_bow)"
   ]
  },
  {
   "cell_type": "code",
   "execution_count": 67,
   "metadata": {
    "ExecuteTime": {
     "end_time": "2019-03-26T04:01:40.769314Z",
     "start_time": "2019-03-26T04:01:40.681050Z"
    },
    "colab": {},
    "colab_type": "code",
    "id": "HrvLOfmCfDsf"
   },
   "outputs": [],
   "source": [
    "from scipy.sparse import hstack\n",
    "# Here we append the sparse matrix and the dense array that contains the length of the text passed to it\n",
    "X_train_bow_fe = hstack((X_train_bow, np.array(rev_len_X_train)))\n",
    "X_test_bow_fe = hstack((X_test_bow, np.array(rev_len_X_test)))"
   ]
  },
  {
   "cell_type": "code",
   "execution_count": 68,
   "metadata": {
    "ExecuteTime": {
     "end_time": "2019-03-26T04:06:36.540749Z",
     "start_time": "2019-03-26T04:01:41.205496Z"
    },
    "colab": {
     "base_uri": "https://localhost:8080/",
     "height": 604
    },
    "colab_type": "code",
    "id": "C8QcYhgnfDsk",
    "outputId": "21f3cc00-5e71-4a3e-f192-86c0fa05fff7"
   },
   "outputs": [
    {
     "data": {
      "image/png": "[encoded data removed]",
      "text/plain": [
       "<Figure size 432x288 with 1 Axes>"
      ]
     },
     "metadata": {
      "needs_background": "light"
     },
     "output_type": "display_data"
    },
    {
     "name": "stdout",
     "output_type": "stream",
     "text": [
      "+---------------+--------------+---------------+\n",
      "| Mean CV Score | Std CV Score |     Param     |\n",
      "+---------------+--------------+---------------+\n",
      "|      0.44     |   0.01866    | {'C': 0.0001} |\n",
      "|     0.849     |   0.02492    |  {'C': 0.001} |\n",
      "|     0.945     |   0.00919    |  {'C': 0.01}  |\n",
      "|     0.931     |   0.01316    |   {'C': 0.1}  |\n",
      "|     0.906     |   0.01843    |    {'C': 1}   |\n",
      "|     0.898     |    0.0208    |   {'C': 10}   |\n",
      "|     0.888     |   0.02375    |   {'C': 100}  |\n",
      "|     0.882     |   0.02482    |  {'C': 1000}  |\n",
      "|     0.881     |   0.02594    |  {'C': 10000} |\n",
      "+---------------+--------------+---------------+\n",
      "\n",
      "The best estimator:LogisticRegression(C=0.01, class_weight=None, dual=False, fit_intercept=True,\n",
      "          intercept_scaling=1, max_iter=100, multi_class='warn',\n",
      "          n_jobs=None, penalty='l1', random_state=None, solver='warn',\n",
      "          tol=0.0001, verbose=0, warm_start=False)\n",
      "\n",
      "The best score is:0.9450663381665366\n",
      "The best value of C is:{'C': 0.01}\n",
      "Mean Score: 0.9538766994520484\n"
     ]
    }
   ],
   "source": [
    "# Get the best hyperparameter using GridSearchCV with penalty l1 and cv = 5\n",
    "best_estimator_bow_l1_fe = get_best_hyperparameter_C(bow_vectorizer_fe, X_train_bow_fe, X_test_bow_fe, y_train, y_test, penalty_l = 'l1' )"
   ]
  },
  {
   "cell_type": "code",
   "execution_count": 69,
   "metadata": {
    "ExecuteTime": {
     "end_time": "2019-03-26T04:06:37.693913Z",
     "start_time": "2019-03-26T04:06:36.994930Z"
    },
    "colab": {},
    "colab_type": "code",
    "id": "ndC4nhL-fDsr"
   },
   "outputs": [],
   "source": [
    "# Fitting the BoW vectorizer on LogisticRegression Model with penalty l1 and C = 0.01 \n",
    "model_bow_l1_fe = LogisticRegression(C= list(best_estimator_bow_l1_fe.values())[0] ,penalty = 'l1')\n",
    "model_bow_l1_fe.fit(X_train_bow_fe,y_train)\n",
    "y_pred = model_bow_l1_fe.predict(X_test_bow_fe)"
   ]
  },
  {
   "cell_type": "code",
   "execution_count": 70,
   "metadata": {
    "ExecuteTime": {
     "end_time": "2019-03-26T04:06:38.259408Z",
     "start_time": "2019-03-26T04:06:38.109020Z"
    },
    "colab": {
     "base_uri": "https://localhost:8080/",
     "height": 328
    },
    "colab_type": "code",
    "id": "7sEj5ik-fDsy",
    "outputId": "e1b3c308-8537-4c78-b2df-103b77735ec2"
   },
   "outputs": [
    {
     "data": {
      "image/png": "[encoded data removed]",
      "text/plain": [
       "<Figure size 432x288 with 1 Axes>"
      ]
     },
     "metadata": {
      "needs_background": "light"
     },
     "output_type": "display_data"
    },
    {
     "name": "stdout",
     "output_type": "stream",
     "text": [
      "train AUC: 0.9694355169306984\n",
      "test AUC: 0.9538764071978185\n"
     ]
    }
   ],
   "source": [
    "# AUC-ROC plot\n",
    "auc_train_bow_l1_fe, auc_test_bow_l1_fe = plot_auc(model_bow_l1_fe, X_train_bow_fe, X_test_bow_fe)"
   ]
  },
  {
   "cell_type": "code",
   "execution_count": 71,
   "metadata": {
    "ExecuteTime": {
     "end_time": "2019-03-26T04:06:38.795326Z",
     "start_time": "2019-03-26T04:06:38.685534Z"
    },
    "colab": {
     "base_uri": "https://localhost:8080/",
     "height": 136
    },
    "colab_type": "code",
    "id": "onp3FYWyfDs5",
    "outputId": "e5a44443-64c2-4217-b740-26aea6169596"
   },
   "outputs": [
    {
     "name": "stdout",
     "output_type": "stream",
     "text": [
      "*****Train confusion matrix*****\n",
      "[[ 6274  3350]\n",
      " [  652 51165]]\n",
      "\n",
      "*****Test confusion matrix*****\n",
      "[[ 2788  1769]\n",
      " [  362 21413]]\n"
     ]
    }
   ],
   "source": [
    "# Confusion Matrix\n",
    "print_confusion_matrix(model_bow_l1_fe, X_train_bow_fe, X_test_bow_fe)"
   ]
  },
  {
   "cell_type": "code",
   "execution_count": 72,
   "metadata": {
    "ExecuteTime": {
     "end_time": "2019-03-26T04:06:39.499817Z",
     "start_time": "2019-03-26T04:06:39.218083Z"
    },
    "colab": {
     "base_uri": "https://localhost:8080/",
     "height": 297
    },
    "colab_type": "code",
    "id": "TKfeX1xXfDtB",
    "outputId": "64724fd9-c97e-4f5a-e5bc-e5a0eab5ff59"
   },
   "outputs": [
    {
     "data": {
      "text/plain": [
       "<Figure size 432x288 with 0 Axes>"
      ]
     },
     "metadata": {},
     "output_type": "display_data"
    },
    {
     "data": {
      "image/png": "[encoded data removed]",
      "text/plain": [
       "<Figure size 1080x288 with 4 Axes>"
      ]
     },
     "metadata": {
      "needs_background": "light"
     },
     "output_type": "display_data"
    }
   ],
   "source": [
    "# Confustion Matrix heatmap\n",
    "plt.figure(1)\n",
    "plt.figure(figsize=(15, 4))\n",
    "\n",
    "\n",
    "plt.subplot(121)  # Test confusion matrix\n",
    "cnf_matrix = confusion_matrix(y_test, model_bow_l1_fe.predict(X_test_bow_fe))\n",
    "np.set_printoptions(precision=2)\n",
    "class_names = ['Negative', 'Positive']\n",
    "# Plot non-normalized confusion matrix\n",
    "#plt.figure()\n",
    "plot_confusion_matrix_heatmap(cnf_matrix, classes=class_names, title='Test Set Confusion Matrix');\n",
    "\n",
    "plt.subplot(122) # Train Confusion matrix\n",
    "cnf_matrix = confusion_matrix(y_train, model_bow_l1_fe.predict(X_train_bow_fe))\n",
    "np.set_printoptions(precision=2)\n",
    "class_names = ['Negative', 'Positive']\n",
    "# Plot non-normalized confusion matrix\n",
    "#plt.figure()\n",
    "plot_confusion_matrix_heatmap(cnf_matrix, classes=class_names, title='Train Set Confusion Matrix');"
   ]
  },
  {
   "cell_type": "markdown",
   "metadata": {
    "colab_type": "text",
    "id": "c6KXXYiXfDtF"
   },
   "source": [
    "**Observation**\n",
    "1. For the BoW vectorizer with Feature Engineering, we calculated C = 0.01 using GridSearchCV with cv = 5 and with penalty l1. \n",
    "2. We got train AUC: 0.9694354808358998 and test AUC: 0.9538772738827763\n",
    "3. Using the confusion matrix, we can say that our model correctly predicted 21413 positive reviews and 2788 negative reviews.\n",
    "4. The model incorrectly classified 362 negative reviews and 1769 positive reviews.\n",
    "5. The True Postive Rate is 98.33 and the True Negative Rate is 61.18\n",
    "6. The overall accuracy of the model is 91.90\n",
    "7. **Doing Feature Engineering has made the model slightly perform better than the model without feature engineering.**\n"
   ]
  },
  {
   "cell_type": "markdown",
   "metadata": {
    "colab_type": "text",
    "id": "vWNvZ8WWfDtL"
   },
   "source": [
    "**Observation**"
   ]
  },
  {
   "cell_type": "markdown",
   "metadata": {
    "colab_type": "text",
    "id": "MJv6h9NNfDtO"
   },
   "source": [
    "### [5.1.2] Applying Logistic Regression with L2 regularization on BOW,<font color='red'> SET 1</font>"
   ]
  },
  {
   "cell_type": "code",
   "execution_count": 73,
   "metadata": {
    "ExecuteTime": {
     "end_time": "2019-03-26T04:09:27.432995Z",
     "start_time": "2019-03-26T04:06:39.923458Z"
    },
    "colab": {
     "base_uri": "https://localhost:8080/",
     "height": 604
    },
    "colab_type": "code",
    "id": "QV4JAKGFOpgr",
    "outputId": "fba2a7d3-9842-47ec-ad2e-9f683e3da1d8"
   },
   "outputs": [
    {
     "name": "stderr",
     "output_type": "stream",
     "text": [
      "C:\\Users\\Nit-prj1010\\AppData\\Local\\Continuum\\anaconda3\\lib\\site-packages\\sklearn\\svm\\base.py:922: ConvergenceWarning: Liblinear failed to converge, increase the number of iterations.\n",
      "  \"the number of iterations.\", ConvergenceWarning)\n",
      "C:\\Users\\Nit-prj1010\\AppData\\Local\\Continuum\\anaconda3\\lib\\site-packages\\sklearn\\svm\\base.py:922: ConvergenceWarning: Liblinear failed to converge, increase the number of iterations.\n",
      "  \"the number of iterations.\", ConvergenceWarning)\n",
      "C:\\Users\\Nit-prj1010\\AppData\\Local\\Continuum\\anaconda3\\lib\\site-packages\\sklearn\\svm\\base.py:922: ConvergenceWarning: Liblinear failed to converge, increase the number of iterations.\n",
      "  \"the number of iterations.\", ConvergenceWarning)\n",
      "C:\\Users\\Nit-prj1010\\AppData\\Local\\Continuum\\anaconda3\\lib\\site-packages\\sklearn\\svm\\base.py:922: ConvergenceWarning: Liblinear failed to converge, increase the number of iterations.\n",
      "  \"the number of iterations.\", ConvergenceWarning)\n",
      "C:\\Users\\Nit-prj1010\\AppData\\Local\\Continuum\\anaconda3\\lib\\site-packages\\sklearn\\svm\\base.py:922: ConvergenceWarning: Liblinear failed to converge, increase the number of iterations.\n",
      "  \"the number of iterations.\", ConvergenceWarning)\n",
      "C:\\Users\\Nit-prj1010\\AppData\\Local\\Continuum\\anaconda3\\lib\\site-packages\\sklearn\\svm\\base.py:922: ConvergenceWarning: Liblinear failed to converge, increase the number of iterations.\n",
      "  \"the number of iterations.\", ConvergenceWarning)\n",
      "C:\\Users\\Nit-prj1010\\AppData\\Local\\Continuum\\anaconda3\\lib\\site-packages\\sklearn\\svm\\base.py:922: ConvergenceWarning: Liblinear failed to converge, increase the number of iterations.\n",
      "  \"the number of iterations.\", ConvergenceWarning)\n",
      "C:\\Users\\Nit-prj1010\\AppData\\Local\\Continuum\\anaconda3\\lib\\site-packages\\sklearn\\svm\\base.py:922: ConvergenceWarning: Liblinear failed to converge, increase the number of iterations.\n",
      "  \"the number of iterations.\", ConvergenceWarning)\n",
      "C:\\Users\\Nit-prj1010\\AppData\\Local\\Continuum\\anaconda3\\lib\\site-packages\\sklearn\\svm\\base.py:922: ConvergenceWarning: Liblinear failed to converge, increase the number of iterations.\n",
      "  \"the number of iterations.\", ConvergenceWarning)\n",
      "C:\\Users\\Nit-prj1010\\AppData\\Local\\Continuum\\anaconda3\\lib\\site-packages\\sklearn\\svm\\base.py:922: ConvergenceWarning: Liblinear failed to converge, increase the number of iterations.\n",
      "  \"the number of iterations.\", ConvergenceWarning)\n",
      "C:\\Users\\Nit-prj1010\\AppData\\Local\\Continuum\\anaconda3\\lib\\site-packages\\sklearn\\svm\\base.py:922: ConvergenceWarning: Liblinear failed to converge, increase the number of iterations.\n",
      "  \"the number of iterations.\", ConvergenceWarning)\n",
      "C:\\Users\\Nit-prj1010\\AppData\\Local\\Continuum\\anaconda3\\lib\\site-packages\\sklearn\\svm\\base.py:922: ConvergenceWarning: Liblinear failed to converge, increase the number of iterations.\n",
      "  \"the number of iterations.\", ConvergenceWarning)\n",
      "C:\\Users\\Nit-prj1010\\AppData\\Local\\Continuum\\anaconda3\\lib\\site-packages\\sklearn\\svm\\base.py:922: ConvergenceWarning: Liblinear failed to converge, increase the number of iterations.\n",
      "  \"the number of iterations.\", ConvergenceWarning)\n",
      "C:\\Users\\Nit-prj1010\\AppData\\Local\\Continuum\\anaconda3\\lib\\site-packages\\sklearn\\svm\\base.py:922: ConvergenceWarning: Liblinear failed to converge, increase the number of iterations.\n",
      "  \"the number of iterations.\", ConvergenceWarning)\n",
      "C:\\Users\\Nit-prj1010\\AppData\\Local\\Continuum\\anaconda3\\lib\\site-packages\\sklearn\\svm\\base.py:922: ConvergenceWarning: Liblinear failed to converge, increase the number of iterations.\n",
      "  \"the number of iterations.\", ConvergenceWarning)\n",
      "C:\\Users\\Nit-prj1010\\AppData\\Local\\Continuum\\anaconda3\\lib\\site-packages\\sklearn\\svm\\base.py:922: ConvergenceWarning: Liblinear failed to converge, increase the number of iterations.\n",
      "  \"the number of iterations.\", ConvergenceWarning)\n",
      "C:\\Users\\Nit-prj1010\\AppData\\Local\\Continuum\\anaconda3\\lib\\site-packages\\sklearn\\svm\\base.py:922: ConvergenceWarning: Liblinear failed to converge, increase the number of iterations.\n",
      "  \"the number of iterations.\", ConvergenceWarning)\n"
     ]
    },
    {
     "data": {
      "image/png": "[encoded data removed]",
      "text/plain": [
       "<Figure size 432x288 with 1 Axes>"
      ]
     },
     "metadata": {
      "needs_background": "light"
     },
     "output_type": "display_data"
    },
    {
     "name": "stdout",
     "output_type": "stream",
     "text": [
      "+---------------+--------------+---------------+\n",
      "| Mean CV Score | Std CV Score |     Param     |\n",
      "+---------------+--------------+---------------+\n",
      "|     0.929     |   0.02038    | {'C': 0.0001} |\n",
      "|     0.937     |   0.01645    |  {'C': 0.001} |\n",
      "|     0.921     |   0.01764    |  {'C': 0.01}  |\n",
      "|     0.905     |   0.02018    |   {'C': 0.1}  |\n",
      "|     0.898     |   0.02079    |    {'C': 1}   |\n",
      "|     0.903     |   0.01494    |   {'C': 10}   |\n",
      "|     0.905     |   0.02151    |   {'C': 100}  |\n",
      "|     0.902     |   0.03122    |  {'C': 1000}  |\n",
      "|     0.896     |   0.02433    |  {'C': 10000} |\n",
      "+---------------+--------------+---------------+\n",
      "\n",
      "The best estimator:LogisticRegression(C=0.001, class_weight=None, dual=False, fit_intercept=True,\n",
      "          intercept_scaling=1, max_iter=100, multi_class='warn',\n",
      "          n_jobs=None, penalty='l2', random_state=None, solver='warn',\n",
      "          tol=0.0001, verbose=0, warm_start=False)\n",
      "\n",
      "The best score is:0.9367812057739767\n",
      "The best value of C is:{'C': 0.001}\n",
      "Mean Score: 0.9415796492294188\n"
     ]
    }
   ],
   "source": [
    "# Vectorizer = BoW, penalty = l2\n",
    "best_estimator_bow_l2= get_best_hyperparameter_C(bow_vectorizer, X_train_bow, X_test_bow, y_train, y_test, penalty_l = 'l2' )"
   ]
  },
  {
   "cell_type": "code",
   "execution_count": 74,
   "metadata": {
    "ExecuteTime": {
     "end_time": "2019-03-26T04:09:29.077378Z",
     "start_time": "2019-03-26T04:09:27.858681Z"
    },
    "colab": {},
    "colab_type": "code",
    "id": "dRcf8njn1KtY"
   },
   "outputs": [],
   "source": [
    "# Fitting the model with the best hyperparameter\n",
    "model_bow_l2 = LogisticRegression(C= list(best_estimator_bow_l2.values())[0] ,penalty = 'l2')\n",
    "model_bow_l2.fit(X_train_bow,y_train)\n",
    "y_pred = model_bow_l2.predict(X_test_bow)"
   ]
  },
  {
   "cell_type": "code",
   "execution_count": 75,
   "metadata": {
    "ExecuteTime": {
     "end_time": "2019-03-26T04:09:29.633360Z",
     "start_time": "2019-03-26T04:09:29.512036Z"
    },
    "colab": {
     "base_uri": "https://localhost:8080/",
     "height": 328
    },
    "colab_type": "code",
    "id": "URybDimx1Ktl",
    "outputId": "620b5cae-0bb4-47de-ff35-e80d5a601a71"
   },
   "outputs": [
    {
     "data": {
      "image/png": "[encoded data removed]",
      "text/plain": [
       "<Figure size 432x288 with 1 Axes>"
      ]
     },
     "metadata": {
      "needs_background": "light"
     },
     "output_type": "display_data"
    },
    {
     "name": "stdout",
     "output_type": "stream",
     "text": [
      "train AUC: 0.99309054211035\n",
      "test AUC: 0.9415796492294188\n"
     ]
    }
   ],
   "source": [
    "# AUC- ROC plot\n",
    "auc_train_bow_l2, auc_test_bow_l2 = plot_auc(model_bow_l2, X_train_bow, X_test_bow)"
   ]
  },
  {
   "cell_type": "code",
   "execution_count": 76,
   "metadata": {
    "ExecuteTime": {
     "end_time": "2019-03-26T04:09:30.131684Z",
     "start_time": "2019-03-26T04:09:30.056482Z"
    },
    "colab": {
     "base_uri": "https://localhost:8080/",
     "height": 136
    },
    "colab_type": "code",
    "id": "Gbvxjp8DiUdx",
    "outputId": "c2a006cf-21b7-4cca-8c28-b11e270f4e16"
   },
   "outputs": [
    {
     "name": "stdout",
     "output_type": "stream",
     "text": [
      "*****Train confusion matrix*****\n",
      "[[ 8166  1458]\n",
      " [  412 51405]]\n",
      "\n",
      "*****Test confusion matrix*****\n",
      "[[ 3150  1407]\n",
      " [  623 21152]]\n"
     ]
    }
   ],
   "source": [
    "# Confusion Matrix\n",
    "print_confusion_matrix(model_bow_l2, X_train_bow, X_test_bow)"
   ]
  },
  {
   "cell_type": "code",
   "execution_count": 77,
   "metadata": {
    "ExecuteTime": {
     "end_time": "2019-03-26T04:09:30.798981Z",
     "start_time": "2019-03-26T04:09:30.548198Z"
    },
    "colab": {
     "base_uri": "https://localhost:8080/",
     "height": 297
    },
    "colab_type": "code",
    "id": "PAJX8H031KwM",
    "outputId": "fca559f4-4641-45fd-985d-d6b059235b18",
    "scrolled": true
   },
   "outputs": [
    {
     "data": {
      "text/plain": [
       "<Figure size 432x288 with 0 Axes>"
      ]
     },
     "metadata": {},
     "output_type": "display_data"
    },
    {
     "data": {
      "image/png": "[encoded data removed]",
      "text/plain": [
       "<Figure size 1080x288 with 4 Axes>"
      ]
     },
     "metadata": {
      "needs_background": "light"
     },
     "output_type": "display_data"
    }
   ],
   "source": [
    "# Heatmap Confusion Matrix\n",
    "plt.figure(1)\n",
    "plt.figure(figsize=(15, 4))\n",
    "\n",
    "\n",
    "plt.subplot(121)  # Test confusion matrix\n",
    "cnf_matrix = confusion_matrix(y_test, model_bow_l2.predict(X_test_bow))\n",
    "np.set_printoptions(precision=2)\n",
    "class_names = ['Negative', 'Positive']\n",
    "# Plot non-normalized confusion matrix\n",
    "#plt.figure()\n",
    "plot_confusion_matrix_heatmap(cnf_matrix, classes=class_names, title='Test Set Confusion Matrix');\n",
    "\n",
    "plt.subplot(122) # Train Confusion matrix\n",
    "cnf_matrix = confusion_matrix(y_train, model_bow_l2.predict(X_train_bow))\n",
    "np.set_printoptions(precision=2)\n",
    "class_names = ['Negative', 'Positive']\n",
    "# Plot non-normalized confusion matrix\n",
    "#plt.figure()\n",
    "plot_confusion_matrix_heatmap(cnf_matrix, classes=class_names, title='Train Set Confusion Matrix');"
   ]
  },
  {
   "cell_type": "markdown",
   "metadata": {
    "colab_type": "text",
    "id": "Tmisc0AVkbDC"
   },
   "source": [
    "**Observation**\n",
    "1. For the BoW vectorizer, we calculated C = 0.001 using GridSearchCV with cv = 5 and with penalty l2. \n",
    "2. We got train AUC: 0.99309054211035 and test AUC: 0.9415796492294188\n",
    "3. Using the confusion matrix, we can say that our model correctly predicted 21152 positive reviews and 3150 negative reviews.\n",
    "4. The model incorrectly classified 623 negative reviews and 1407 positive reviews.\n",
    "5. The True Postive Rate is 98.67 and the True Negative Rate is 60.03\n",
    "6. The accuracy of the model is 91.98"
   ]
  },
  {
   "cell_type": "code",
   "execution_count": 0,
   "metadata": {
    "colab": {},
    "colab_type": "code",
    "id": "tSFS7EFokbDD"
   },
   "outputs": [],
   "source": [
    "import sys\n",
    "def sizeof_fmt(num, suffix='B'):\n",
    "    ''' By Fred Cirera, after https://stackoverflow.com/a/1094933/1870254'''\n",
    "    for unit in ['','Ki','Mi','Gi','Ti','Pi','Ei','Zi']:\n",
    "        if abs(num) < 1024.0:\n",
    "            return \"%3.1f%s%s\" % (num, unit, suffix)\n",
    "        num /= 1024.0\n",
    "    return \"%.1f%s%s\" % (num, 'Yi', suffix)\n",
    "\n",
    "for name, size in sorted(((name, sys.getsizeof(value)) for name,value in locals().items()),\n",
    "                         key= lambda x: -x[1])[:10]:\n",
    "    print(\"{:>30}: {:>8}\".format(name,sizeof_fmt(size)))"
   ]
  },
  {
   "cell_type": "markdown",
   "metadata": {
    "colab_type": "text",
    "id": "W4cXUk92fDty"
   },
   "source": [
    "**Pertubation Test**"
   ]
  },
  {
   "cell_type": "markdown",
   "metadata": {
    "colab_type": "text",
    "id": "aJHX3k0kfDtz"
   },
   "source": [
    "#### [5.1.2.1] Performing pertubation test (multicollinearity check) on BOW,<font color='red'> SET 1</font>\n"
   ]
  },
  {
   "cell_type": "code",
   "execution_count": 78,
   "metadata": {
    "ExecuteTime": {
     "end_time": "2019-03-26T04:09:31.217148Z",
     "start_time": "2019-03-26T04:09:31.214140Z"
    },
    "colab": {},
    "colab_type": "code",
    "id": "Eu-Oo0eJfDt0",
    "run_control": {
     "marked": false
    }
   },
   "outputs": [],
   "source": [
    "# Step 1: Get the weights W after fitting your model with the data X\n",
    "W_vect = model_bow_l2.coef_"
   ]
  },
  {
   "cell_type": "code",
   "execution_count": 79,
   "metadata": {
    "ExecuteTime": {
     "end_time": "2019-03-26T04:09:31.665006Z",
     "start_time": "2019-03-26T04:09:31.618643Z"
    },
    "colab": {},
    "colab_type": "code",
    "id": "Zm35sR0pfDt4"
   },
   "outputs": [],
   "source": [
    "# Step 2: Add a noise to the X (X' = X+e) and get the new dataset X'\n",
    "\n",
    "# We need to preserve our existing X and create a copy of it before we can add noise to it\n",
    "# source: https://www.geeksforgeeks.org/copy-python-deep-copy-shallow-copy/\n",
    "# deepcopy(): any changes made to a copy of object do not reflect in the original object. \n",
    "\n",
    "import copy\n",
    "X_train_bow_noisy = copy.deepcopy(X_train_bow) # copy of X_train_bow\n",
    "uniform_noise = np.random.uniform(-0.0001,0.0001,1 ) # adding some random uniform noise"
   ]
  },
  {
   "cell_type": "code",
   "execution_count": 80,
   "metadata": {
    "ExecuteTime": {
     "end_time": "2019-03-26T04:09:32.145568Z",
     "start_time": "2019-03-26T04:09:32.141556Z"
    },
    "colab": {
     "base_uri": "https://localhost:8080/",
     "height": 34
    },
    "colab_type": "code",
    "id": "HrzLNdjlfDt_",
    "outputId": "40b40bac-f377-4edd-b6d8-d753a780a15a"
   },
   "outputs": [
    {
     "data": {
      "text/plain": [
       "scipy.sparse.csr.csr_matrix"
      ]
     },
     "execution_count": 80,
     "metadata": {},
     "output_type": "execute_result"
    }
   ],
   "source": [
    "type(X_train_bow)"
   ]
  },
  {
   "cell_type": "code",
   "execution_count": 81,
   "metadata": {
    "ExecuteTime": {
     "end_time": "2019-03-26T04:09:32.623469Z",
     "start_time": "2019-03-26T04:09:32.613443Z"
    },
    "colab": {
     "base_uri": "https://localhost:8080/",
     "height": 34
    },
    "colab_type": "code",
    "id": "D9yNPKAjfDuG",
    "outputId": "dcdb0bfa-07b9-4287-d093-5a81649d3ce7"
   },
   "outputs": [
    {
     "name": "stdout",
     "output_type": "stream",
     "text": [
      "(61441, 10000)\n"
     ]
    }
   ],
   "source": [
    "# Since X_train_bow is space matrix, we do X.data += e\n",
    "X_train_bow_noisy.data += uniform_noise  \n",
    "print(X_train_bow_noisy.shape)"
   ]
  },
  {
   "cell_type": "code",
   "execution_count": 82,
   "metadata": {
    "ExecuteTime": {
     "end_time": "2019-03-26T04:09:34.316851Z",
     "start_time": "2019-03-26T04:09:33.103620Z"
    },
    "colab": {},
    "colab_type": "code",
    "id": "PV__98fhfDuJ"
   },
   "outputs": [],
   "source": [
    "# Step 3: We fit the model again on data X_train_bow_noisy and get the weights W'\n",
    "\n",
    "# Fitting the BoW vectorizer on LogisticRegression Model \n",
    "model_bow_l2_noisy = LogisticRegression(C= list(best_estimator_bow_l2.values())[0],penalty = 'l2')\n",
    "model_bow_l2_noisy.fit(X_train_bow_noisy,y_train)\n",
    "y_pred = model_bow_l2_noisy.predict(X_test_bow)"
   ]
  },
  {
   "cell_type": "code",
   "execution_count": 83,
   "metadata": {
    "ExecuteTime": {
     "end_time": "2019-03-26T04:09:34.862304Z",
     "start_time": "2019-03-26T04:09:34.858294Z"
    },
    "colab": {},
    "colab_type": "code",
    "id": "Sn0DBbqcfDuM"
   },
   "outputs": [],
   "source": [
    "# Get the weights W after fitting your model with the noisy data X'\n",
    "W_vect_noisy = model_bow_l2_noisy.coef_"
   ]
  },
  {
   "cell_type": "code",
   "execution_count": 84,
   "metadata": {
    "ExecuteTime": {
     "end_time": "2019-03-26T04:09:35.334542Z",
     "start_time": "2019-03-26T04:09:35.331026Z"
    },
    "colab": {},
    "colab_type": "code",
    "id": "zxbgYUO6fDuO"
   },
   "outputs": [],
   "source": [
    "# Step 4: Add small epsilon value to eliminate the 'divisible by zero' error to W_vect and W_vect_noisy\n",
    "esp = 10**-6\n",
    "W_vect += esp\n",
    "W_vect_noisy += esp"
   ]
  },
  {
   "cell_type": "code",
   "execution_count": 85,
   "metadata": {
    "ExecuteTime": {
     "end_time": "2019-03-26T04:09:35.920928Z",
     "start_time": "2019-03-26T04:09:35.799911Z"
    },
    "colab": {},
    "colab_type": "code",
    "id": "jIejl0UcfDuR"
   },
   "outputs": [],
   "source": [
    "# Step 5: Find % change between W_vect and W_vect_noisy\n",
    "\n",
    "W_percent_change_vector = abs((W_vect - W_vect_noisy) / W_vect) *100"
   ]
  },
  {
   "cell_type": "code",
   "execution_count": 86,
   "metadata": {
    "ExecuteTime": {
     "end_time": "2019-03-26T04:09:36.399786Z",
     "start_time": "2019-03-26T04:09:36.395776Z"
    },
    "colab": {
     "base_uri": "https://localhost:8080/",
     "height": 34
    },
    "colab_type": "code",
    "id": "l1aefa10fDuT",
    "outputId": "be0d7618-44c1-4e2e-b6a6-bc7afff03604"
   },
   "outputs": [
    {
     "data": {
      "text/plain": [
       "array([[9.93e-04, 7.01e-06, 1.03e-02, ..., 2.59e-03, 5.13e-04, 6.51e-03]])"
      ]
     },
     "execution_count": 86,
     "metadata": {},
     "output_type": "execute_result"
    }
   ],
   "source": [
    "W_percent_change_vector"
   ]
  },
  {
   "cell_type": "code",
   "execution_count": 87,
   "metadata": {
    "ExecuteTime": {
     "end_time": "2019-03-26T04:09:36.962161Z",
     "start_time": "2019-03-26T04:09:36.860890Z"
    },
    "colab": {
     "base_uri": "https://localhost:8080/",
     "height": 549
    },
    "colab_type": "code",
    "id": "rDq2Nye7fDuX",
    "outputId": "a1b180e3-a455-451b-91d1-d0220c69996d"
   },
   "outputs": [
    {
     "name": "stdout",
     "output_type": "stream",
     "text": [
      "+-------------+------------------------+\n",
      "| Percentile  |    Percentile Value    |\n",
      "+-------------+------------------------+\n",
      "|      0      |  2.1288236710142e-08   |\n",
      "|      10     | 0.0001290710220424033  |\n",
      "|      20     | 0.00026651132954525614 |\n",
      "|      30     |  0.000404709561975814  |\n",
      "|      40     |  0.000581215567616487  |\n",
      "|      50     | 0.0007999871796000233  |\n",
      "|      60     | 0.0010965094631658796  |\n",
      "|      70     | 0.0015858030927552692  |\n",
      "|      80     |  0.002512170755860659  |\n",
      "|      90     |  0.005024878518104683  |\n",
      "|     100     |   12.572261483067537   |\n",
      "+-------------+------------------------+\n"
     ]
    },
    {
     "data": {
      "image/png": "[encoded data removed]",
      "text/plain": [
       "<Figure size 432x288 with 1 Axes>"
      ]
     },
     "metadata": {
      "needs_background": "light"
     },
     "output_type": "display_data"
    }
   ],
   "source": [
    "# Step 6: Calculate 0th, 10th, 20th ..100th Percentile\n",
    "percentile_range= range(0,101,10)\n",
    "tab = PrettyTable()\n",
    "tab.field_names = ['Percentile ', 'Percentile Value']\n",
    "    \n",
    "    \n",
    "for p in percentile_range:\n",
    "    tab.add_row([p, np.percentile(W_percent_change_vector,p)])\n",
    "    \n",
    "    \n",
    "plt.plot(percentile_range, np.percentile(W_percent_change_vector,percentile_range))\n",
    "plt.xlabel('Percentiles')\n",
    "plt.ylabel('No. of multicollinear features')\n",
    "plt.title(\"Plot of no. of multicolinear features against percentiles\")\n",
    "\n",
    "print(tab)\n",
    "del (tab)"
   ]
  },
  {
   "cell_type": "markdown",
   "metadata": {
    "colab_type": "text",
    "id": "0o_20Ss1fDua"
   },
   "source": [
    "**Observation:** We see that there is a sudden rise in values after the 90th percentile value. "
   ]
  },
  {
   "cell_type": "code",
   "execution_count": 88,
   "metadata": {
    "ExecuteTime": {
     "end_time": "2019-03-26T04:09:37.675897Z",
     "start_time": "2019-03-26T04:09:37.424384Z"
    },
    "colab": {
     "base_uri": "https://localhost:8080/",
     "height": 549
    },
    "colab_type": "code",
    "id": "iEi96tUWfDub",
    "outputId": "c0706651-0a73-4967-e82a-033f5c4ffb6a"
   },
   "outputs": [
    {
     "name": "stdout",
     "output_type": "stream",
     "text": [
      "+-------------+----------------------+\n",
      "| Percentile  |   Percentile Value   |\n",
      "+-------------+----------------------+\n",
      "|      90     | 0.005024878518104683 |\n",
      "|      91     | 0.005536440548611815 |\n",
      "|      92     | 0.006223372849219215 |\n",
      "|      93     | 0.007020458291498725 |\n",
      "|      94     | 0.008347083172674468 |\n",
      "|      95     | 0.00971386294287677  |\n",
      "|      96     | 0.011739505021271607 |\n",
      "|      97     | 0.016008687942597848 |\n",
      "|      98     | 0.024976125423512584 |\n",
      "|      99     | 0.047399636184165865 |\n",
      "|     100     |  12.572261483067537  |\n",
      "+-------------+----------------------+\n"
     ]
    },
    {
     "data": {
      "image/png": "[encoded data removed]",
      "text/plain": [
       "<Figure size 432x288 with 1 Axes>"
      ]
     },
     "metadata": {
      "needs_background": "light"
     },
     "output_type": "display_data"
    }
   ],
   "source": [
    "# Plot values after the sudden rise i.e. from the 90th percentile values\n",
    "\n",
    "sudden_rise= range(90,101,1)\n",
    "tab = PrettyTable()\n",
    "tab.field_names = ['Percentile ', 'Percentile Value']\n",
    "\n",
    "for i in sudden_rise:\n",
    "    tab.add_row([i, np.percentile(W_percent_change_vector,i)])\n",
    "    \n",
    "print(tab)\n",
    "plt.plot(sudden_rise,np.percentile(W_percent_change_vector,sudden_rise) );\n",
    "plt.xlabel('Percentiles')\n",
    "plt.ylabel('No. of multicollinear features')\n",
    "plt.title(\"Features greater than sudden rise (>90th Percentile)\")\n",
    "del (tab)"
   ]
  },
  {
   "cell_type": "markdown",
   "metadata": {
    "colab_type": "text",
    "id": "yRBudOrFfDuh"
   },
   "source": [
    "**Observation:** Here, after 99th percentile, we see there is sudden rise in values."
   ]
  },
  {
   "cell_type": "code",
   "execution_count": 89,
   "metadata": {
    "ExecuteTime": {
     "end_time": "2019-03-26T04:09:38.231865Z",
     "start_time": "2019-03-26T04:09:38.133605Z"
    },
    "colab": {
     "base_uri": "https://localhost:8080/",
     "height": 532
    },
    "colab_type": "code",
    "id": "NJOLUp18fDuj",
    "outputId": "9a3f0641-5ec6-4c8a-badd-f2ae768e0c5d"
   },
   "outputs": [
    {
     "name": "stdout",
     "output_type": "stream",
     "text": [
      "+-------------------+----------------------+\n",
      "|    Percentile     |   Percentile Value   |\n",
      "+-------------------+----------------------+\n",
      "|        99.0       | 0.047399636184165865 |\n",
      "| 99.11111111111111 | 0.052915605599829704 |\n",
      "| 99.22222222222223 | 0.05635737937635935  |\n",
      "| 99.33333333333333 | 0.06811388084312188  |\n",
      "| 99.44444444444444 | 0.08260693710378353  |\n",
      "| 99.55555555555556 | 0.10265356775837843  |\n",
      "| 99.66666666666667 | 0.12710099736555297  |\n",
      "| 99.77777777777777 | 0.21553890490009822  |\n",
      "| 99.88888888888889 |  0.6702054059627296  |\n",
      "|       100.0       |  12.572261483067537  |\n",
      "+-------------------+----------------------+\n"
     ]
    },
    {
     "data": {
      "image/png": "[encoded data removed]",
      "text/plain": [
       "<Figure size 432x288 with 1 Axes>"
      ]
     },
     "metadata": {
      "needs_background": "light"
     },
     "output_type": "display_data"
    }
   ],
   "source": [
    "# Plot values after the sudden rise i.e. from the 90th percentile values\n",
    "\n",
    "gt99= np.linspace(99,100,10)\n",
    "tab = PrettyTable()\n",
    "tab.field_names = ['Percentile ', 'Percentile Value']\n",
    "\n",
    "for i in gt99:\n",
    "    tab.add_row([i, np.percentile(W_percent_change_vector,i)])\n",
    "    \n",
    "print(tab)\n",
    "plt.plot(gt99,np.percentile(W_percent_change_vector,gt99) );\n",
    "plt.xlabel('Percentiles')\n",
    "plt.ylabel('No. of multicollinear features')\n",
    "plt.title(\"Features greater than sudden rise (>99th Percentile)\")\n",
    "del (tab)"
   ]
  },
  {
   "cell_type": "markdown",
   "metadata": {
    "colab_type": "text",
    "id": "aPCBBAvffDuq"
   },
   "source": [
    "**Observation:** In this case the threshold value is the percentile **99.88**"
   ]
  },
  {
   "cell_type": "code",
   "execution_count": 90,
   "metadata": {
    "ExecuteTime": {
     "end_time": "2019-03-26T04:09:38.754784Z",
     "start_time": "2019-03-26T04:09:38.703816Z"
    },
    "colab": {
     "base_uri": "https://localhost:8080/",
     "height": 204
    },
    "colab_type": "code",
    "id": "NubUEiXlfDur",
    "outputId": "cb2c269f-c0c6-47d8-d543-a313bc808c55"
   },
   "outputs": [
    {
     "name": "stdout",
     "output_type": "stream",
     "text": [
      "Printing 10 features:\n",
      "minimal\n",
      "free dairy\n",
      "include\n",
      "bowl\n",
      "started using\n",
      "quantity\n",
      "good chocolate\n",
      "not amazon\n",
      "drink good\n",
      "organic ingredients\n"
     ]
    }
   ],
   "source": [
    "# We will list down the features names which are greater than this index value of threshold. \n",
    "# We will print top 10 features by sorting values in descending values of the % changed vector\n",
    "\n",
    "\n",
    "feature_names = bow_vectorizer.get_feature_names() # get feature names\n",
    "weight_vector_values = model_bow_l2_noisy.coef_    # get weight values\n",
    "\n",
    "# sorting change in percent weight vector in descending order i.e. features that have undergone maximum collinearity \n",
    "# and selecting top 10 features out of it\n",
    "mulc_features = np.argsort(W_percent_change_vector)[:,::-1][0,0:10]  \n",
    "\n",
    "# Top 10 features are    \n",
    "print(\"Printing 10 features:\")\n",
    "\n",
    "#tab = PrettyTable()\n",
    "#tab.field_names = ['Feature name', 'Weight vector value']\n",
    "\n",
    "for f in mulc_features:\n",
    "    print(feature_names[f])\n",
    "    #tab.add_row([feature_names[f], weight_vector_values[0,f]])\n",
    "    \n",
    "    \n",
    "#print(tab)\n",
    "#del(tab)"
   ]
  },
  {
   "cell_type": "markdown",
   "metadata": {
    "colab_type": "text",
    "id": "4MTGScOEteFD"
   },
   "source": [
    "**Observation**\n",
    "1. We performed the perturbation test to find multicolinearity.\n",
    "2. Here, we can see that very few features are collinear. Less than 0.02% features are multicolinear\n",
    "3. We can conclude that this model is not affected by multicolinearity of features"
   ]
  },
  {
   "cell_type": "markdown",
   "metadata": {
    "colab_type": "text",
    "id": "e77BiB_J1Kty"
   },
   "source": [
    "**feature importance**"
   ]
  },
  {
   "cell_type": "markdown",
   "metadata": {
    "colab_type": "text",
    "id": "-LQeP5mUfDuw"
   },
   "source": [
    "### [5.1.3] Feature Importance on BOW,<font color='red'> SET 1</font>"
   ]
  },
  {
   "cell_type": "code",
   "execution_count": 91,
   "metadata": {
    "ExecuteTime": {
     "end_time": "2019-03-26T04:09:39.224645Z",
     "start_time": "2019-03-26T04:09:39.218626Z"
    },
    "colab": {
     "base_uri": "https://localhost:8080/",
     "height": 34
    },
    "colab_type": "code",
    "id": "l26yO9h91Kt0",
    "outputId": "fbb84516-6109-4605-e8fe-508159657334"
   },
   "outputs": [
    {
     "data": {
      "text/plain": [
       "array([0, 1], dtype=int64)"
      ]
     },
     "execution_count": 91,
     "metadata": {},
     "output_type": "execute_result"
    }
   ],
   "source": [
    "model_bow_l2.classes_"
   ]
  },
  {
   "cell_type": "markdown",
   "metadata": {
    "colab_type": "text",
    "id": "3pR6owzvfDu1"
   },
   "source": [
    "#### [5.1.3.1] Top 10 important features of positive class from<font color='red'> SET 1</font>\n",
    "\n",
    "\n",
    "#### [5.1.3.2] Top 10 important features of negative class from<font color='red'> SET 1</font>\n",
    "\n"
   ]
  },
  {
   "cell_type": "code",
   "execution_count": 92,
   "metadata": {
    "ExecuteTime": {
     "end_time": "2019-03-26T04:09:39.740365Z",
     "start_time": "2019-03-26T04:09:39.700261Z"
    },
    "colab": {
     "base_uri": "https://localhost:8080/",
     "height": 510
    },
    "colab_type": "code",
    "id": "DtBSmZtF1KuT",
    "outputId": "66d2477f-13e4-46b2-92d3-e0035e3fd39b",
    "scrolled": false
   },
   "outputs": [
    {
     "name": "stdout",
     "output_type": "stream",
     "text": [
      "+-------+--------------------------+---------------+\n",
      "| Class | Coefficient (Importance) |  Feature Name |\n",
      "+-------+--------------------------+---------------+\n",
      "|   0   |   0.18118765370558954    |  disappointed |\n",
      "|   0   |    0.1637476142766516    |     worst     |\n",
      "|   0   |    0.1450317900116653    | not recommend |\n",
      "|   0   |    0.1437890099604434    |    not good   |\n",
      "|   0   |   0.14138196686305474    |   not worth   |\n",
      "|   0   |    0.1394686428948509    |      not      |\n",
      "|   0   |   0.13404722441563235    |    terrible   |\n",
      "|   0   |   0.13008740467603347    |     awful     |\n",
      "|   0   |   0.12911041632708453    |    not buy    |\n",
      "|   0   |   0.12699445630766656    | disappointing |\n",
      "+-------+--------------------------+---------------+\n",
      "****************************************************\n",
      "+-------+--------------------------+--------------+\n",
      "| Class | Coefficient (Importance) | Feature Name |\n",
      "+-------+--------------------------+--------------+\n",
      "|   1   |    0.3205556750029913    |    great     |\n",
      "|   1   |    0.2546191552577402    |     good     |\n",
      "|   1   |   0.24534971037457565    |  delicious   |\n",
      "|   1   |   0.22623311139831281    |     best     |\n",
      "|   1   |   0.22139260541932348    |     love     |\n",
      "|   1   |   0.18358386635904556    |    loves     |\n",
      "|   1   |   0.17424257182496358    |   perfect    |\n",
      "|   1   |   0.16690705041432588    |  excellent   |\n",
      "|   1   |   0.14563081152530527    |  wonderful   |\n",
      "|   1   |   0.14435945555081128    |    tasty     |\n",
      "+-------+--------------------------+--------------+\n"
     ]
    }
   ],
   "source": [
    "most_informative_feature_for_binary_classification(bow_vectorizer, model_bow_l2)"
   ]
  },
  {
   "cell_type": "markdown",
   "metadata": {
    "_uuid": "3bc166f7cfd22ecb52ea1e430f88bc1c11a94f94",
    "colab_type": "text",
    "id": "R1kZLz2b1Kwr"
   },
   "source": [
    "## [4.2] Bi-Grams and n-Grams."
   ]
  },
  {
   "cell_type": "code",
   "execution_count": 0,
   "metadata": {
    "ExecuteTime": {
     "start_time": "2019-03-20T10:32:16.047Z"
    },
    "_uuid": "c3c070a040e1d5a1b0e889d8df933259fba9841f",
    "colab": {},
    "colab_type": "code",
    "id": "AAo6WKox1Kws"
   },
   "outputs": [],
   "source": [
    "#bi-gram, tri-gram and n-gram\n",
    "\n",
    "#removing stop words like \"not\" should be avoided before building n-grams\n",
    "# count_vect = CountVectorizer(ngram_range=(1,2))\n",
    "# please do read the CountVectorizer documentation http://scikit-learn.org/stable/modules/generated/sklearn.feature_extraction.text.CountVectorizer.html\n",
    "\n",
    "# you can choose these numebrs min_df=10, max_features=5000, of your choice\n",
    "#count_vect = CountVectorizer(ngram_range=(1,2), min_df=10, max_features=5000)\n",
    "#final_bigram_counts = count_vect.fit_transform(preprocessed_reviews)\n",
    "#print(\"the type of count vectorizer \",type(final_bigram_counts))\n",
    "#print(\"the shape of out text BOW vectorizer \",final_bigram_counts.get_shape())\n",
    "#print(\"the number of unique words including both unigrams and bigrams \", final_bigram_counts.get_shape()[1])"
   ]
  },
  {
   "cell_type": "markdown",
   "metadata": {
    "_uuid": "3b3048ac927c6351e73f3b1f354c5f59dc53cc73",
    "colab_type": "text",
    "id": "NOdeFIOf1Kwv"
   },
   "source": [
    "## [4.3] TF-IDF"
   ]
  },
  {
   "cell_type": "code",
   "execution_count": 93,
   "metadata": {
    "ExecuteTime": {
     "end_time": "2019-03-26T04:09:52.527115Z",
     "start_time": "2019-03-26T04:09:40.203635Z"
    },
    "_uuid": "41aa60ec9d9ca36442c5f6298ff6c3191c9f861c",
    "colab": {
     "base_uri": "https://localhost:8080/",
     "height": 85
    },
    "colab_type": "code",
    "id": "LHdOu8741Kww",
    "outputId": "0c3d6f5a-d0bf-4841-d1a6-ccd20716d2e6"
   },
   "outputs": [
    {
     "name": "stdout",
     "output_type": "stream",
     "text": [
      "After vectorizations\n",
      "(61441, 36173) (61441,)\n",
      "(26332, 36173) (26332,)\n",
      "====================================================================================================\n"
     ]
    }
   ],
   "source": [
    "# ss\n",
    "from sklearn.feature_extraction.text import TfidfVectorizer\n",
    "tf_idf_vect = TfidfVectorizer(ngram_range=(1,2), min_df=10)\n",
    "tf_idf_vect.fit(X_train) # fit has to happen only on train data\n",
    "\n",
    "# we use the fitted CountVectorizer to convert the text to vector\n",
    "X_train_tfidf = tf_idf_vect.transform(X_train)\n",
    "#X_cv_tfidf = tf_idf_vect.transform(X_cv)\n",
    "X_test_tfidf = tf_idf_vect.transform(X_test)\n",
    "\n",
    "print(\"After vectorizations\")\n",
    "print(X_train_tfidf.shape, y_train.shape)\n",
    "#print(X_cv_tfidf.shape, y_cv.shape)\n",
    "print(X_test_tfidf.shape, y_test.shape)\n",
    "print(\"=\"*100)"
   ]
  },
  {
   "cell_type": "code",
   "execution_count": 94,
   "metadata": {
    "ExecuteTime": {
     "end_time": "2019-03-26T04:09:53.098210Z",
     "start_time": "2019-03-26T04:09:53.084668Z"
    },
    "_uuid": "b0bf672b68a7876aba0ea412c16fe74e5320ea1e",
    "colab": {
     "base_uri": "https://localhost:8080/",
     "height": 68
    },
    "colab_type": "code",
    "id": "IMy3SC4S1Kw0",
    "outputId": "0800bc27-9e7a-4633-c639-13fa42d2545b"
   },
   "outputs": [
    {
     "name": "stdout",
     "output_type": "stream",
     "text": [
      "the type of count vectorizer  <class 'scipy.sparse.csr.csr_matrix'>\n",
      "the shape of cut text TFIDF vectorizer  (61441, 36173)\n",
      "the number of unique words:  36173\n"
     ]
    }
   ],
   "source": [
    "print(\"the type of count vectorizer \",type(X_train_tfidf))\n",
    "print(\"the shape of cut text TFIDF vectorizer \",X_train_tfidf.get_shape())\n",
    "print(\"the number of unique words: \", X_train_tfidf.get_shape()[1])"
   ]
  },
  {
   "cell_type": "markdown",
   "metadata": {
    "ExecuteTime": {
     "end_time": "2019-03-20T06:51:30.024755Z",
     "start_time": "2019-03-20T06:51:30.021749Z"
    },
    "colab_type": "text",
    "id": "Cbo4Veu-fDvf"
   },
   "source": [
    "### [5.2.1] Applying Logistic Regression with L1 regularization on TFIDF,<font color='red'> SET 2</font>"
   ]
  },
  {
   "cell_type": "code",
   "execution_count": 95,
   "metadata": {
    "ExecuteTime": {
     "end_time": "2019-03-26T04:10:20.466591Z",
     "start_time": "2019-03-26T04:09:53.639543Z"
    },
    "colab": {
     "base_uri": "https://localhost:8080/",
     "height": 604
    },
    "colab_type": "code",
    "id": "vFlwdS07fDvg",
    "outputId": "37d88222-c784-4daa-ffa7-3f8556791ceb"
   },
   "outputs": [
    {
     "data": {
      "image/png": "[encoded data removed]",
      "text/plain": [
       "<Figure size 432x288 with 1 Axes>"
      ]
     },
     "metadata": {
      "needs_background": "light"
     },
     "output_type": "display_data"
    },
    {
     "name": "stdout",
     "output_type": "stream",
     "text": [
      "+---------------+--------------+---------------+\n",
      "| Mean CV Score | Std CV Score |     Param     |\n",
      "+---------------+--------------+---------------+\n",
      "|      0.5      |     0.0      | {'C': 0.0001} |\n",
      "|      0.5      |     0.0      |  {'C': 0.001} |\n",
      "|     0.664     |   0.01405    |  {'C': 0.01}  |\n",
      "|     0.886     |   0.01464    |   {'C': 0.1}  |\n",
      "|     0.952     |   0.00962    |    {'C': 1}   |\n",
      "|     0.949     |   0.01358    |   {'C': 10}   |\n",
      "|     0.942     |   0.01555    |   {'C': 100}  |\n",
      "|      0.94     |    0.0167    |  {'C': 1000}  |\n",
      "|     0.932     |   0.01891    |  {'C': 10000} |\n",
      "+---------------+--------------+---------------+\n",
      "\n",
      "The best estimator:LogisticRegression(C=1, class_weight=None, dual=False, fit_intercept=True,\n",
      "          intercept_scaling=1, max_iter=100, multi_class='warn',\n",
      "          n_jobs=None, penalty='l1', random_state=None, solver='warn',\n",
      "          tol=0.0001, verbose=0, warm_start=False)\n",
      "\n",
      "The best score is:0.9516803305794055\n",
      "The best value of C is:{'C': 1}\n",
      "Mean Score: 0.9604442465849716\n"
     ]
    }
   ],
   "source": [
    "# Get the best hyperparameter using GridSearchCV with penalty l1 and cv = 5\n",
    "best_estimator_tfidf_l1 = get_best_hyperparameter_C(tf_idf_vect, X_train_tfidf, X_test_tfidf, y_train, y_test, penalty_l = 'l1' )"
   ]
  },
  {
   "cell_type": "code",
   "execution_count": 96,
   "metadata": {
    "ExecuteTime": {
     "end_time": "2019-03-26T04:10:21.699660Z",
     "start_time": "2019-03-26T04:10:21.027705Z"
    },
    "colab": {},
    "colab_type": "code",
    "id": "5t8gqUqofDvj"
   },
   "outputs": [],
   "source": [
    "# Fitting the model with the best hyperparameter\n",
    "model_tfidf_l1 = LogisticRegression(C= list(best_estimator_tfidf_l1.values())[0] ,penalty = 'l1')\n",
    "model_tfidf_l1.fit(X_train_tfidf,y_train)\n",
    "y_pred = model_tfidf_l1.predict(X_test_tfidf)"
   ]
  },
  {
   "cell_type": "code",
   "execution_count": 97,
   "metadata": {
    "ExecuteTime": {
     "end_time": "2019-03-26T04:10:22.366510Z",
     "start_time": "2019-03-26T04:10:22.244160Z"
    },
    "colab": {
     "base_uri": "https://localhost:8080/",
     "height": 328
    },
    "colab_type": "code",
    "id": "F8Nbx73jfDvl",
    "outputId": "449d0a50-a284-41e0-a539-e6349f8dc1d6"
   },
   "outputs": [
    {
     "data": {
      "image/png": "[encoded data removed]",
      "text/plain": [
       "<Figure size 432x288 with 1 Axes>"
      ]
     },
     "metadata": {
      "needs_background": "light"
     },
     "output_type": "display_data"
    },
    {
     "name": "stdout",
     "output_type": "stream",
     "text": [
      "train AUC: 0.9672404879416822\n",
      "test AUC: 0.9604436620765118\n"
     ]
    }
   ],
   "source": [
    "# AUC- ROC plot\n",
    "auc_train_tfidf_l1, auc_test_tfidf_l1 = plot_auc(model_tfidf_l1, X_train_tfidf, X_test_tfidf)"
   ]
  },
  {
   "cell_type": "code",
   "execution_count": 98,
   "metadata": {
    "ExecuteTime": {
     "end_time": "2019-03-26T04:10:23.011071Z",
     "start_time": "2019-03-26T04:10:22.933365Z"
    },
    "colab": {
     "base_uri": "https://localhost:8080/",
     "height": 136
    },
    "colab_type": "code",
    "id": "ViJc1G8PfDvs",
    "outputId": "90232b13-b35b-45a3-95d0-005d10483be2"
   },
   "outputs": [
    {
     "name": "stdout",
     "output_type": "stream",
     "text": [
      "*****Train confusion matrix*****\n",
      "[[ 6578  3046]\n",
      " [  871 50946]]\n",
      "\n",
      "*****Test confusion matrix*****\n",
      "[[ 3056  1501]\n",
      " [  496 21279]]\n"
     ]
    }
   ],
   "source": [
    "# Confusion Matrix\n",
    "print_confusion_matrix(model_tfidf_l1, X_train_tfidf, X_test_tfidf)"
   ]
  },
  {
   "cell_type": "code",
   "execution_count": 99,
   "metadata": {
    "ExecuteTime": {
     "end_time": "2019-03-26T04:10:23.888864Z",
     "start_time": "2019-03-26T04:10:23.573457Z"
    },
    "colab": {
     "base_uri": "https://localhost:8080/",
     "height": 297
    },
    "colab_type": "code",
    "id": "BuJvZwoPfDvv",
    "outputId": "81e29177-dbfc-4da9-b8b3-111f4b9a6b51",
    "run_control": {
     "marked": false
    }
   },
   "outputs": [
    {
     "data": {
      "text/plain": [
       "<Figure size 432x288 with 0 Axes>"
      ]
     },
     "metadata": {},
     "output_type": "display_data"
    },
    {
     "data": {
      "image/png": "[encoded data removed]",
      "text/plain": [
       "<Figure size 1080x288 with 4 Axes>"
      ]
     },
     "metadata": {
      "needs_background": "light"
     },
     "output_type": "display_data"
    }
   ],
   "source": [
    "# Heatmap Confusion Matrix\n",
    "plt.figure(1)\n",
    "plt.figure(figsize=(15, 4))\n",
    "\n",
    "\n",
    "plt.subplot(121)  # Test confusion matrix\n",
    "cnf_matrix = confusion_matrix(y_test, model_tfidf_l1.predict(X_test_tfidf))\n",
    "np.set_printoptions(precision=2)\n",
    "class_names = ['Negative', 'Positive']\n",
    "# Plot non-normalized confusion matrix\n",
    "#plt.figure()\n",
    "plot_confusion_matrix_heatmap(cnf_matrix, classes=class_names, title='Test Set Confusion Matrix');\n",
    "\n",
    "plt.subplot(122) # Train Confusion matrix\n",
    "cnf_matrix = confusion_matrix(y_train, model_tfidf_l1.predict(X_train_tfidf))\n",
    "np.set_printoptions(precision=2)\n",
    "class_names = ['Negative', 'Positive']\n",
    "# Plot non-normalized confusion matrix\n",
    "#plt.figure()\n",
    "plot_confusion_matrix_heatmap(cnf_matrix, classes=class_names, title='Train Set Confusion Matrix');"
   ]
  },
  {
   "cell_type": "markdown",
   "metadata": {
    "colab_type": "text",
    "id": "diqGTMXdkbEd"
   },
   "source": [
    "**Observation**\n",
    "1. For the TFIDF vectorizer, we calculated C = 1 using GridSearchCV with cv = 5 and with penalty l1. \n",
    "2. We got train AUC: 0.9672404879416822 and test AUC: 0.9604436620765118\n",
    "3. Using the confusion matrix, we can say that our model correctly predicted 21279 positive reviews and 3055 negative reviews.\n",
    "4. The model incorrectly classified 496 negative reviews and 1501 positive reviews.\n",
    "5. The True Postive Rate is 97.84 and the True Negative Rate is 67.03\n",
    "6. The accuracy of the model is 92.50"
   ]
  },
  {
   "cell_type": "markdown",
   "metadata": {
    "colab_type": "text",
    "id": "Jmo7Ira-fDv3"
   },
   "source": [
    "### [5.2.2] Applying Logistic Regression with L2 regularization on TFIDF,<font color='red'> SET 2</font>"
   ]
  },
  {
   "cell_type": "code",
   "execution_count": 100,
   "metadata": {
    "ExecuteTime": {
     "end_time": "2019-03-26T04:11:06.488205Z",
     "start_time": "2019-03-26T04:10:24.444348Z"
    },
    "colab": {
     "base_uri": "https://localhost:8080/",
     "height": 604
    },
    "colab_type": "code",
    "id": "QSHEakyPfDv4",
    "outputId": "7d909c95-732b-49df-edbe-b17f01bfa226"
   },
   "outputs": [
    {
     "data": {
      "image/png": "[encoded data removed]",
      "text/plain": [
       "<Figure size 432x288 with 1 Axes>"
      ]
     },
     "metadata": {
      "needs_background": "light"
     },
     "output_type": "display_data"
    },
    {
     "name": "stdout",
     "output_type": "stream",
     "text": [
      "+---------------+--------------+---------------+\n",
      "| Mean CV Score | Std CV Score |     Param     |\n",
      "+---------------+--------------+---------------+\n",
      "|     0.712     |   0.02389    | {'C': 0.0001} |\n",
      "|     0.913     |   0.01532    |  {'C': 0.001} |\n",
      "|     0.912     |   0.01319    |  {'C': 0.01}  |\n",
      "|     0.935     |   0.01353    |   {'C': 0.1}  |\n",
      "|     0.957     |   0.01182    |    {'C': 1}   |\n",
      "|     0.958     |   0.01198    |   {'C': 10}   |\n",
      "|     0.951     |   0.01371    |   {'C': 100}  |\n",
      "|     0.947     |   0.01465    |  {'C': 1000}  |\n",
      "|     0.945     |   0.01516    |  {'C': 10000} |\n",
      "+---------------+--------------+---------------+\n",
      "\n",
      "The best estimator:LogisticRegression(C=10, class_weight=None, dual=False, fit_intercept=True,\n",
      "          intercept_scaling=1, max_iter=100, multi_class='warn',\n",
      "          n_jobs=None, penalty='l2', random_state=None, solver='warn',\n",
      "          tol=0.0001, verbose=0, warm_start=False)\n",
      "\n",
      "The best score is:0.95818493762303\n",
      "The best value of C is:{'C': 10}\n",
      "Mean Score: 0.964725771053579\n"
     ]
    }
   ],
   "source": [
    "# Get the best hyperparameter\n",
    "best_estimator_tfidf_l2 = get_best_hyperparameter_C(tf_idf_vect, X_train_tfidf, X_test_tfidf, y_train, y_test, penalty_l = 'l2' )"
   ]
  },
  {
   "cell_type": "code",
   "execution_count": 101,
   "metadata": {
    "ExecuteTime": {
     "end_time": "2019-03-26T04:11:08.410897Z",
     "start_time": "2019-03-26T04:11:07.052219Z"
    },
    "colab": {},
    "colab_type": "code",
    "id": "9QmJTCoHfDwD"
   },
   "outputs": [],
   "source": [
    "# Fit the model with the best hyperparameter\n",
    "model_tfidf_l2 = LogisticRegression(C= list(best_estimator_tfidf_l2.values())[0], penalty = 'l2')\n",
    "model_tfidf_l2.fit(X_train_tfidf,y_train)\n",
    "y_pred = model_tfidf_l2.predict(X_test_tfidf)"
   ]
  },
  {
   "cell_type": "code",
   "execution_count": 102,
   "metadata": {
    "ExecuteTime": {
     "end_time": "2019-03-26T04:11:09.088169Z",
     "start_time": "2019-03-26T04:11:08.967850Z"
    },
    "colab": {
     "base_uri": "https://localhost:8080/",
     "height": 328
    },
    "colab_type": "code",
    "id": "jZIvfM4dfDwK",
    "outputId": "ae89565f-0cb9-42bd-d064-c120464515d6"
   },
   "outputs": [
    {
     "data": {
      "image/png": "[encoded data removed]",
      "text/plain": [
       "<Figure size 432x288 with 1 Axes>"
      ]
     },
     "metadata": {
      "needs_background": "light"
     },
     "output_type": "display_data"
    },
    {
     "name": "stdout",
     "output_type": "stream",
     "text": [
      "train AUC: 0.9985166762221631\n",
      "test AUC: 0.964725771053579\n"
     ]
    }
   ],
   "source": [
    "# AUC- ROC plot\n",
    "auc_train_tfidf_l2, auc_test_tfidf_l2 = plot_auc(model_tfidf_l2, X_train_tfidf, X_test_tfidf)"
   ]
  },
  {
   "cell_type": "code",
   "execution_count": 103,
   "metadata": {
    "ExecuteTime": {
     "end_time": "2019-03-26T04:11:09.729776Z",
     "start_time": "2019-03-26T04:11:09.651567Z"
    },
    "colab": {
     "base_uri": "https://localhost:8080/",
     "height": 136
    },
    "colab_type": "code",
    "id": "de1x44AvfDwU",
    "outputId": "51949b9a-e46c-45d7-dc5a-1e423f6145d9"
   },
   "outputs": [
    {
     "name": "stdout",
     "output_type": "stream",
     "text": [
      "*****Train confusion matrix*****\n",
      "[[ 8946   678]\n",
      " [  173 51644]]\n",
      "\n",
      "*****Test confusion matrix*****\n",
      "[[ 3248  1309]\n",
      " [  566 21209]]\n"
     ]
    }
   ],
   "source": [
    "# Confusion matrix\n",
    "print_confusion_matrix(model_tfidf_l2, X_train_tfidf, X_test_tfidf)"
   ]
  },
  {
   "cell_type": "code",
   "execution_count": 104,
   "metadata": {
    "ExecuteTime": {
     "end_time": "2019-03-26T04:11:10.537584Z",
     "start_time": "2019-03-26T04:11:10.275861Z"
    },
    "colab": {
     "base_uri": "https://localhost:8080/",
     "height": 297
    },
    "colab_type": "code",
    "id": "ptfgAGK9fDwZ",
    "outputId": "1c02d7ac-7e52-42a1-abaa-612ab6b82b40"
   },
   "outputs": [
    {
     "data": {
      "text/plain": [
       "<Figure size 432x288 with 0 Axes>"
      ]
     },
     "metadata": {},
     "output_type": "display_data"
    },
    {
     "data": {
      "image/png": "[encoded data removed]",
      "text/plain": [
       "<Figure size 1080x288 with 4 Axes>"
      ]
     },
     "metadata": {
      "needs_background": "light"
     },
     "output_type": "display_data"
    }
   ],
   "source": [
    "# Heatmap confusion Matrix\n",
    "plt.figure(1)\n",
    "plt.figure(figsize=(15, 4))\n",
    "\n",
    "\n",
    "plt.subplot(121)  # Test confusion matrix\n",
    "cnf_matrix = confusion_matrix(y_test, model_tfidf_l2.predict(X_test_tfidf))\n",
    "np.set_printoptions(precision=2)\n",
    "class_names = ['Negative', 'Positive']\n",
    "# Plot non-normalized confusion matrix\n",
    "#plt.figure()\n",
    "plot_confusion_matrix_heatmap(cnf_matrix, classes=class_names, title='Test Set Confusion Matrix');\n",
    "\n",
    "plt.subplot(122) # Train Confusion matrix\n",
    "cnf_matrix = confusion_matrix(y_train, model_tfidf_l2.predict(X_train_tfidf))\n",
    "np.set_printoptions(precision=2)\n",
    "class_names = ['Negative', 'Positive']\n",
    "# Plot non-normalized confusion matrix\n",
    "#plt.figure()\n",
    "plot_confusion_matrix_heatmap(cnf_matrix, classes=class_names, title='Train Set Confusion Matrix');"
   ]
  },
  {
   "cell_type": "markdown",
   "metadata": {
    "colab_type": "text",
    "id": "efx7EqAvLNM3"
   },
   "source": [
    "**Observation**\n",
    "1. For the TF-IDF vectorizer, we calculated C = 10 using GridSearchCV with cv = 5 and with penalty l2. \n",
    "2. We got train AUC: 0.9985166762221631 and test AUC: 0.964725771053579\n",
    "3. Using the confusion matrix, we can say that our model correctly predicted 21209 positive reviews and 3248 negative reviews.\n",
    "4. The model incorrectly classified 566 negative reviews and 1309 positive reviews.\n",
    "5. The True Postive Rate is 98.47 and the True Negative Rate is 60.21\n",
    "6. The accuracy of the model is 91.85"
   ]
  },
  {
   "cell_type": "markdown",
   "metadata": {
    "ExecuteTime": {
     "end_time": "2019-03-20T07:12:25.445740Z",
     "start_time": "2019-03-20T07:12:25.442733Z"
    },
    "colab_type": "text",
    "id": "6bF3XsNpfDwd"
   },
   "source": [
    "### [5.2.3] Feature Importance on TFIDF,<font color='red'> SET 2</font>\n",
    "\n",
    "#### [5.2.3.1] Top 10 important features of positive class from<font color='red'> SET 2</font>\n",
    "\n",
    "#### [5.2.3.2] Top 10 important features of negative class from<font color='red'> SET 2</font>"
   ]
  },
  {
   "cell_type": "code",
   "execution_count": 105,
   "metadata": {
    "ExecuteTime": {
     "end_time": "2019-03-26T04:11:11.214179Z",
     "start_time": "2019-03-26T04:11:11.089118Z"
    },
    "colab": {
     "base_uri": "https://localhost:8080/",
     "height": 510
    },
    "colab_type": "code",
    "id": "881ALSP9fDwg",
    "outputId": "cd801731-78f0-48b5-ca04-f4f945d6f6a2"
   },
   "outputs": [
    {
     "name": "stdout",
     "output_type": "stream",
     "text": [
      "+-------+--------------------------+----------------+\n",
      "| Class | Coefficient (Importance) |  Feature Name  |\n",
      "+-------+--------------------------+----------------+\n",
      "|   0   |    14.05633689502798     |     worst      |\n",
      "|   0   |    11.74311885235004     |   not worth    |\n",
      "|   0   |    11.712297104959422    |  disappointed  |\n",
      "|   0   |    11.553933190987355    |    terrible    |\n",
      "|   0   |    11.31806567269511     |    not good    |\n",
      "|   0   |    11.294343181493128    | not recommend  |\n",
      "|   0   |    11.235079122127873    |   two stars    |\n",
      "|   0   |    10.916559085516361    |     awful      |\n",
      "|   0   |    10.615169158405667    | disappointing  |\n",
      "|   0   |    9.237292164583296     | disappointment |\n",
      "+-------+--------------------------+----------------+\n",
      "****************************************************\n",
      "+-------+--------------------------+------------------+\n",
      "| Class | Coefficient (Importance) |   Feature Name   |\n",
      "+-------+--------------------------+------------------+\n",
      "|   1   |    16.229861601293226    |      great       |\n",
      "|   1   |    14.71476530913575     |    delicious     |\n",
      "|   1   |    12.67482046352735     | not disappointed |\n",
      "|   1   |    12.54874612418282     |       good       |\n",
      "|   1   |    12.181395785494692    |       best       |\n",
      "|   1   |    11.90106615797133     |     perfect      |\n",
      "|   1   |    11.111630609138262    |      loves       |\n",
      "|   1   |    10.525449587060917    |    excellent     |\n",
      "|   1   |    10.043258129638604    |     amazing      |\n",
      "|   1   |    9.770806515013575     |    wonderful     |\n",
      "+-------+--------------------------+------------------+\n"
     ]
    }
   ],
   "source": [
    "most_informative_feature_for_binary_classification(tf_idf_vect, model_tfidf_l2)"
   ]
  },
  {
   "cell_type": "markdown",
   "metadata": {
    "_uuid": "62bcc553cadeaeb9086bf0ea6d4b7c00b638eefd",
    "colab_type": "text",
    "id": "NkTP8p_D1Kxd"
   },
   "source": [
    "## [4.4] Word2Vec"
   ]
  },
  {
   "cell_type": "code",
   "execution_count": 106,
   "metadata": {
    "ExecuteTime": {
     "end_time": "2019-03-26T04:11:12.177883Z",
     "start_time": "2019-03-26T04:11:11.784625Z"
    },
    "_uuid": "3eba5421ef7bac1a8a64c3d1a69e7646db9ca204",
    "colab": {},
    "colab_type": "code",
    "id": "2Yv13gNy1Kxk"
   },
   "outputs": [],
   "source": [
    "# Train your own Word2Vec model using your own text corpus \n",
    "i=0\n",
    "list_of_sentance_train=[]\n",
    "for sentance in X_train:\n",
    "    list_of_sentance_train.append(sentance.split())"
   ]
  },
  {
   "cell_type": "code",
   "execution_count": 108,
   "metadata": {
    "ExecuteTime": {
     "end_time": "2019-03-26T04:11:14.043792Z",
     "start_time": "2019-03-26T04:11:14.037777Z"
    },
    "_uuid": "92d9891774578f8e61bcce0059d2df595d440f90",
    "colab": {
     "base_uri": "https://localhost:8080/",
     "height": 54
    },
    "colab_type": "code",
    "id": "9ndor9pA1Kxr",
    "outputId": "06138a91-3598-4196-ae1f-d73e09295b14"
   },
   "outputs": [
    {
     "name": "stdout",
     "output_type": "stream",
     "text": [
      "['bought', 'apartment', 'infested', 'fruit', 'flies', 'hours', 'trap', 'attracted', 'many', 'flies', 'within', 'days', 'practically', 'gone', 'may', 'not', 'long', 'term', 'solution', 'flies', 'driving', 'crazy', 'consider', 'buying', 'one', 'caution', 'surface', 'sticky', 'try', 'avoid', 'touching']\n"
     ]
    }
   ],
   "source": [
    "print(list_of_sentance_train[0])"
   ]
  },
  {
   "cell_type": "code",
   "execution_count": 109,
   "metadata": {
    "ExecuteTime": {
     "end_time": "2019-03-26T04:11:22.329851Z",
     "start_time": "2019-03-26T04:11:14.742190Z"
    },
    "_uuid": "85f0a3737e103fca84d75deaf28614ff156efdc7",
    "colab": {
     "base_uri": "https://localhost:8080/",
     "height": 88
    },
    "colab_type": "code",
    "id": "tRvIseDA1Kxz",
    "outputId": "1ffc5e78-8e1b-4371-fa9e-6cea26ca35c9"
   },
   "outputs": [
    {
     "name": "stdout",
     "output_type": "stream",
     "text": [
      "[('fantastic', 0.8422129154205322), ('good', 0.8153432011604309), ('excellent', 0.813062310218811), ('awesome', 0.8104643821716309), ('wonderful', 0.8010066747665405), ('terrific', 0.7817002534866333), ('perfect', 0.767562747001648), ('amazing', 0.7452276945114136), ('fabulous', 0.7190866470336914), ('decent', 0.7043147087097168)]\n",
      "==================================================\n",
      "[('greatest', 0.7702896595001221), ('best', 0.7596640586853027), ('tastiest', 0.7124402523040771), ('nastiest', 0.6849291920661926), ('coolest', 0.6719734072685242), ('closest', 0.6640547513961792), ('toughest', 0.6579124927520752), ('disgusting', 0.6277365684509277), ('smoothest', 0.6193704605102539), ('ive', 0.6013782024383545)]\n"
     ]
    }
   ],
   "source": [
    "is_your_ram_gt_16g=False\n",
    "want_to_use_google_w2v = False\n",
    "want_to_train_w2v = True\n",
    "\n",
    "if want_to_train_w2v:\n",
    "    # min_count = 5 considers only words that occured atleast 5 times\n",
    "    w2v_model=Word2Vec(list_of_sentance_train,min_count=5,size=50, workers=4)\n",
    "    print(w2v_model.wv.most_similar('great'))\n",
    "    print('='*50)\n",
    "    print(w2v_model.wv.most_similar('worst'))\n",
    "    \n",
    "elif want_to_use_google_w2v and is_your_ram_gt_16g:\n",
    "    if os.path.isfile('GoogleNews-vectors-negative300.bin'):\n",
    "        w2v_model=KeyedVectors.load_word2vec_format('GoogleNews-vectors-negative300.bin', binary=True)\n",
    "        print(w2v_model.wv.most_similar('great'))\n",
    "        print(w2v_model.wv.most_similar('worst'))\n",
    "    else:\n",
    "        print(\"you don't have gogole's word2vec file, keep want_to_train_w2v = True, to train your own w2v \")"
   ]
  },
  {
   "cell_type": "code",
   "execution_count": 110,
   "metadata": {
    "ExecuteTime": {
     "end_time": "2019-03-26T04:11:23.094426Z",
     "start_time": "2019-03-26T04:11:23.082395Z"
    },
    "_uuid": "3a48a0f64fb3bfa0716f0f02d28819bbbdefdfc5",
    "colab": {
     "base_uri": "https://localhost:8080/",
     "height": 71
    },
    "colab_type": "code",
    "id": "43dvFfQD1Kx3",
    "outputId": "e3de60ca-ac01-4e5b-e3f8-54e7ae704582"
   },
   "outputs": [
    {
     "name": "stdout",
     "output_type": "stream",
     "text": [
      "number of words that occured minimum 5 times  14799\n",
      "sample words  ['bought', 'apartment', 'infested', 'fruit', 'flies', 'hours', 'trap', 'attracted', 'many', 'within', 'days', 'practically', 'gone', 'may', 'not', 'long', 'term', 'solution', 'driving', 'crazy', 'consider', 'buying', 'one', 'caution', 'surface', 'sticky', 'try', 'avoid', 'touching', 'really', 'good', 'idea', 'final', 'product', 'outstanding', 'use', 'car', 'window', 'everybody', 'asks', 'made', 'two', 'thumbs', 'received', 'shipment', 'could', 'hardly', 'wait', 'love', 'call']\n"
     ]
    }
   ],
   "source": [
    "w2v_words = list(w2v_model.wv.vocab)\n",
    "print(\"number of words that occured minimum 5 times \",len(w2v_words))\n",
    "print(\"sample words \", w2v_words[0:50])"
   ]
  },
  {
   "cell_type": "markdown",
   "metadata": {
    "_uuid": "fc2388a44995a313f86ca1076dc1c6e49fd0b3e8",
    "colab_type": "text",
    "id": "0G4-3ywU1Kx8"
   },
   "source": [
    "**Converting train text data**"
   ]
  },
  {
   "cell_type": "code",
   "execution_count": 111,
   "metadata": {
    "ExecuteTime": {
     "end_time": "2019-03-26T04:13:09.424025Z",
     "start_time": "2019-03-26T04:11:23.809778Z"
    },
    "_uuid": "57528fa94bdfc0e346a0a9ed1b21607a1386960a",
    "colab": {
     "base_uri": "https://localhost:8080/",
     "height": 204
    },
    "colab_type": "code",
    "id": "qiC2yQEF1Kx-",
    "outputId": "973f4b8c-d893-4ce1-c1af-64d9a9825651"
   },
   "outputs": [
    {
     "name": "stderr",
     "output_type": "stream",
     "text": [
      "100%|███████████████████████████████████████████████████████████████████████████████████████████████████████████████████████████| 61441/61441 [01:45<00:00, 582.36it/s]\n"
     ]
    },
    {
     "name": "stdout",
     "output_type": "stream",
     "text": [
      "(61441, 50)\n",
      "[ 0.26 -0.27  0.11  0.07 -0.18  0.39 -0.26 -0.31  0.17 -0.01  0.11  0.45\n",
      "  0.32  0.34 -0.19 -0.17  0.37  0.16 -0.03  0.3   0.21  0.57 -0.26 -0.3\n",
      "  0.73  0.11 -0.03  0.08  0.11  0.47  0.11 -0.14 -0.19  0.14 -0.36 -0.38\n",
      " -0.04  0.02  0.57 -0.16  0.78  0.28 -0.42 -0.04  0.11 -0.41 -0.28 -0.21\n",
      " -0.74 -0.19]\n"
     ]
    }
   ],
   "source": [
    "# average Word2Vec\n",
    "# compute average word2vec for each review.\n",
    "sent_vectors_train = []; # the avg-w2v for each sentence/review is stored in this list\n",
    "for sent in tqdm(list_of_sentance_train): # for each review/sentence\n",
    "    sent_vec = np.zeros(50) # as word vectors are of zero length 50, you might need to change this to 300 if you use google's w2v\n",
    "    cnt_words =0; # num of words with a valid vector in the sentence/review\n",
    "    for word in sent: # for each word in a review/sentence\n",
    "        if word in w2v_words:\n",
    "            vec = w2v_model.wv[word]\n",
    "            sent_vec += vec\n",
    "            cnt_words += 1\n",
    "    if cnt_words != 0:\n",
    "        sent_vec /= cnt_words\n",
    "    sent_vectors_train.append(sent_vec)\n",
    "sent_vectors_train = np.array(sent_vectors_train)\n",
    "print(sent_vectors_train.shape)\n",
    "print(sent_vectors_train[0])"
   ]
  },
  {
   "cell_type": "markdown",
   "metadata": {
    "_uuid": "a2c12dd1486c702b87863cf25cee30008bcfbfde",
    "colab_type": "text",
    "id": "1budLyC51KyO"
   },
   "source": [
    "**Converting test text data**"
   ]
  },
  {
   "cell_type": "code",
   "execution_count": 112,
   "metadata": {
    "ExecuteTime": {
     "end_time": "2019-03-26T04:13:10.247375Z",
     "start_time": "2019-03-26T04:13:10.149972Z"
    },
    "_uuid": "e727e3f1df3db7d3a8c9118caaffaa2ae10e8a83",
    "colab": {},
    "colab_type": "code",
    "id": "cSl0uad91KyP"
   },
   "outputs": [],
   "source": [
    "i=0\n",
    "list_of_sentance_test=[]\n",
    "for sentance in X_test:\n",
    "    list_of_sentance_test.append(sentance.split())"
   ]
  },
  {
   "cell_type": "code",
   "execution_count": 113,
   "metadata": {
    "ExecuteTime": {
     "end_time": "2019-03-26T04:13:59.979898Z",
     "start_time": "2019-03-26T04:13:11.144199Z"
    },
    "_uuid": "c8039314c79e3616a6e76e13135665a19bb37697",
    "colab": {
     "base_uri": "https://localhost:8080/",
     "height": 204
    },
    "colab_type": "code",
    "id": "OVxdVVkJ1KyS",
    "outputId": "60c06565-57cb-4c79-f4e4-c4b67dcc30c3"
   },
   "outputs": [
    {
     "name": "stderr",
     "output_type": "stream",
     "text": [
      "100%|███████████████████████████████████████████████████████████████████████████████████████████████████████████████████████████| 26332/26332 [00:48<00:00, 539.88it/s]\n"
     ]
    },
    {
     "name": "stdout",
     "output_type": "stream",
     "text": [
      "(26332, 50)\n",
      "[-0.4  -0.13 -0.11 -0.54  0.27 -0.05  0.48 -0.41  1.71  0.11  0.21  0.17\n",
      "  0.04  0.53 -0.26 -0.07  1.08  0.26  0.04 -0.26  0.4  -1.23 -0.03 -0.5\n",
      "  0.68 -0.36 -0.38  0.14 -0.58  0.17  0.21 -0.55 -0.05  0.75 -0.48  0.13\n",
      " -0.84 -0.25 -0.57 -0.24 -0.56 -0.76  0.55  0.55 -0.16 -0.36  0.34  0.22\n",
      " -0.49 -0.27]\n"
     ]
    }
   ],
   "source": [
    "# average Word2Vec\n",
    "# compute average word2vec for each review.\n",
    "sent_vectors_test = []; # the avg-w2v for each sentence/review is stored in this list\n",
    "for sent in tqdm(list_of_sentance_test): # for each review/sentence\n",
    "    sent_vec = np.zeros(50) # as word vectors are of zero length 50, you might need to change this to 300 if you use google's w2v\n",
    "    cnt_words =0; # num of words with a valid vector in the sentence/review\n",
    "    for word in sent: # for each word in a review/sentence\n",
    "        if word in w2v_words:\n",
    "            vec = w2v_model.wv[word]\n",
    "            sent_vec += vec\n",
    "            cnt_words += 1\n",
    "    if cnt_words != 0:\n",
    "        sent_vec /= cnt_words\n",
    "    sent_vectors_test.append(sent_vec)\n",
    "sent_vectors_test = np.array(sent_vectors_test)\n",
    "\n",
    "print(sent_vectors_test.shape)\n",
    "print(sent_vectors_test[0])"
   ]
  },
  {
   "cell_type": "markdown",
   "metadata": {
    "colab_type": "text",
    "id": "WBNHhAjZkbFe"
   },
   "source": [
    "hyperparameter tuning with cv = 5 using gridsearch"
   ]
  },
  {
   "cell_type": "code",
   "execution_count": 139,
   "metadata": {
    "ExecuteTime": {
     "end_time": "2019-03-26T05:21:33.497039Z",
     "start_time": "2019-03-26T05:20:20.269358Z"
    },
    "colab": {
     "base_uri": "https://localhost:8080/",
     "height": 170
    },
    "colab_type": "code",
    "id": "d9PWDXgdfDxC",
    "outputId": "547d705a-00fe-46f3-ab37-1c8fac23af76"
   },
   "outputs": [
    {
     "data": {
      "text/plain": [
       "GridSearchCV(cv=5, error_score='raise-deprecating',\n",
       "       estimator=LogisticRegression(C=1.0, class_weight=None, dual=False, fit_intercept=True,\n",
       "          intercept_scaling=1, max_iter=100, multi_class='warn',\n",
       "          n_jobs=None, penalty='l1', random_state=None, solver='warn',\n",
       "          tol=0.0001, verbose=0, warm_start=False),\n",
       "       fit_params=None, iid='warn', n_jobs=None,\n",
       "       param_grid=[{'C': [0.0001, 0.001, 0.01, 0.1, 1, 10, 100, 1000, 10000]}],\n",
       "       pre_dispatch='2*n_jobs', refit=True, return_train_score='warn',\n",
       "       scoring='roc_auc', verbose=0)"
      ]
     },
     "execution_count": 139,
     "metadata": {},
     "output_type": "execute_result"
    }
   ],
   "source": [
    "# Get the best hyperparameter\n",
    "tuned_parameters = [{'C': [10**-4, 10**-3,10**-2, 10**-1,10**0, 10**1, 10**2, 10**3, 10**4]}]\n",
    "alpha = [10**-4, 10**-3, 10**-2, 10**-1, 10**0, 10**1, 10**2, 10**3, 10**4]  #k\n",
    "\n",
    "# Using GridSearchCVSearchCV with 5 fold cv\n",
    "gs_obj = GridSearchCV(LogisticRegression(penalty= 'l1'), tuned_parameters, scoring = 'roc_auc', cv=5)\n",
    "\n",
    "gs_obj.fit(sent_vectors_train, y_train)"
   ]
  },
  {
   "cell_type": "code",
   "execution_count": 131,
   "metadata": {
    "ExecuteTime": {
     "end_time": "2019-03-26T05:11:08.195399Z",
     "start_time": "2019-03-26T05:11:08.192392Z"
    }
   },
   "outputs": [],
   "source": [
    "best_estimator_w2v_l1 = gs_obj.best_params_"
   ]
  },
  {
   "cell_type": "code",
   "execution_count": 132,
   "metadata": {
    "ExecuteTime": {
     "end_time": "2019-03-26T05:12:03.410944Z",
     "start_time": "2019-03-26T05:12:03.401920Z"
    }
   },
   "outputs": [
    {
     "data": {
      "text/plain": [
       "100"
      ]
     },
     "execution_count": 132,
     "metadata": {},
     "output_type": "execute_result"
    }
   ],
   "source": [
    "list(best_estimator_w2v_l1.values())[0]"
   ]
  },
  {
   "cell_type": "code",
   "execution_count": 140,
   "metadata": {
    "ExecuteTime": {
     "end_time": "2019-03-26T05:22:31.881155Z",
     "start_time": "2019-03-26T05:22:30.682608Z"
    },
    "colab": {
     "base_uri": "https://localhost:8080/",
     "height": 298
    },
    "colab_type": "code",
    "id": "I2YXcvrOfDxF",
    "outputId": "bf617b14-f83a-4e84-9dc2-6728cf2d7a5e"
   },
   "outputs": [
    {
     "data": {
      "image/png": "[encoded data removed]",
      "text/plain": [
       "<Figure size 432x288 with 1 Axes>"
      ]
     },
     "metadata": {
      "needs_background": "light"
     },
     "output_type": "display_data"
    }
   ],
   "source": [
    "train_auc= gs_obj.cv_results_['mean_train_score']\n",
    "train_auc_std= gs_obj.cv_results_['std_train_score']\n",
    "cv_auc = gs_obj.cv_results_['mean_test_score'] \n",
    "cv_auc_std= gs_obj.cv_results_['std_test_score']\n",
    "\n",
    "# draws the error plot\n",
    "  \n",
    "plt.plot(alpha, train_auc, label='Train AUC')\n",
    "\n",
    "# this code is copied from here: https://stackoverflow.com/a/48803361/4084039\n",
    "plt.gca().fill_between(alpha,train_auc - train_auc_std,train_auc + train_auc_std,alpha=0.2,color='darkblue')\n",
    "\n",
    "plt.plot(alpha, cv_auc, label='CV AUC')\n",
    "# this code is copied from here: https://stackoverflow.com/a/48803361/4084039 \n",
    "plt.gca().fill_between(alpha,cv_auc - cv_auc_std,cv_auc + cv_auc_std,alpha=0.2,color='darkorange')\n",
    "plt.legend()\n",
    "plt.xlabel(\"log(C)- hyperparamter\")\n",
    "plt.xscale('log')\n",
    "plt.ylabel(\"AUC\")\n",
    "plt.title(\"ERROR PLOT\")\n",
    "plt.show()"
   ]
  },
  {
   "cell_type": "code",
   "execution_count": 141,
   "metadata": {
    "ExecuteTime": {
     "end_time": "2019-03-26T05:23:28.198467Z",
     "start_time": "2019-03-26T05:23:28.170390Z"
    },
    "colab": {
     "base_uri": "https://localhost:8080/",
     "height": 323
    },
    "colab_type": "code",
    "id": "1FrK3b0AfDxH",
    "outputId": "ff248415-4026-4f89-c66c-b1365425a82a"
   },
   "outputs": [
    {
     "name": "stdout",
     "output_type": "stream",
     "text": [
      "+---------------+--------------+---------------+\n",
      "| Mean CV Score | Std CV Score |     Param     |\n",
      "+---------------+--------------+---------------+\n",
      "|      0.5      |     0.0      | {'C': 0.0001} |\n",
      "|     0.833     |   0.01844    |  {'C': 0.001} |\n",
      "|     0.898     |   0.01507    |  {'C': 0.01}  |\n",
      "|     0.901     |    0.0144    |   {'C': 0.1}  |\n",
      "|     0.901     |   0.01406    |    {'C': 1}   |\n",
      "|     0.901     |   0.01405    |   {'C': 10}   |\n",
      "|     0.901     |   0.01404    |   {'C': 100}  |\n",
      "|     0.901     |   0.01399    |  {'C': 1000}  |\n",
      "|     0.901     |   0.01404    |  {'C': 10000} |\n",
      "+---------------+--------------+---------------+\n",
      "\n",
      "The best estimator:LogisticRegression(C=1000, class_weight=None, dual=False, fit_intercept=True,\n",
      "          intercept_scaling=1, max_iter=100, multi_class='warn',\n",
      "          n_jobs=None, penalty='l1', random_state=None, solver='warn',\n",
      "          tol=0.0001, verbose=0, warm_start=False)\n",
      "\n",
      "The best score is:0.901461054602771\n",
      "The best value of C is:{'C': 1000}\n",
      "Mean Score: 0.9015784802124991\n"
     ]
    }
   ],
   "source": [
    "# Results of the gs object\n",
    "# Code https://stackoverflow.com/questions/42793254/what-replaces-gridsearchcv-grid-scores-in-scikit#answer-42800056\n",
    "means = gs_obj.cv_results_['mean_test_score']\n",
    "stds = gs_obj.cv_results_['std_test_score']\n",
    "\n",
    "\n",
    "t1 = PrettyTable()\n",
    "t1.field_names = ['Mean CV Score', 'Std CV Score', 'Param']\n",
    "\n",
    "for mean, std, params in zip(means, stds, gs_obj.cv_results_['params']):\n",
    "    t1.add_row([round(mean, 3), round(std * 2,5), params])\n",
    "\n",
    "print(t1) \n",
    "  \n",
    "print(\"\\nThe best estimator:{}\".format(gs_obj.best_estimator_))\n",
    "print(\"\\nThe best score is:{}\".format(gs_obj.best_score_))\n",
    "print(\"The best value of C is:{}\".format(gs_obj.best_params_))\n",
    "\n",
    "# Returns the mean accuracy on the given test data and labels.\n",
    "print(\"Mean Score: {}\".format(gs_obj.score(sent_vectors_test, y_test)))"
   ]
  },
  {
   "cell_type": "code",
   "execution_count": 142,
   "metadata": {
    "ExecuteTime": {
     "end_time": "2019-03-26T05:24:29.782988Z",
     "start_time": "2019-03-26T05:24:26.845678Z"
    },
    "colab": {},
    "colab_type": "code",
    "id": "VOazWNX_fDxK"
   },
   "outputs": [],
   "source": [
    "# Fitting the model with the best hyperparameter\n",
    "model_avgw2v_l1 = LogisticRegression(C= list(best_estimator_w2v_l1.values())[0],penalty = 'l1')\n",
    "model_avgw2v_l1.fit(sent_vectors_train,y_train)\n",
    "y_pred = model_avgw2v_l1.predict(sent_vectors_test)"
   ]
  },
  {
   "cell_type": "code",
   "execution_count": 143,
   "metadata": {
    "ExecuteTime": {
     "end_time": "2019-03-26T05:25:25.030415Z",
     "start_time": "2019-03-26T05:25:24.903041Z"
    },
    "colab": {
     "base_uri": "https://localhost:8080/",
     "height": 328
    },
    "colab_type": "code",
    "id": "cQ0-r-eyfDxM",
    "outputId": "8806b117-f335-449f-d91e-f8edbbe0fd3d"
   },
   "outputs": [
    {
     "data": {
      "image/png": "[encoded data removed]",
      "text/plain": [
       "<Figure size 432x288 with 1 Axes>"
      ]
     },
     "metadata": {
      "needs_background": "light"
     },
     "output_type": "display_data"
    },
    {
     "name": "stdout",
     "output_type": "stream",
     "text": [
      "train AUC: 0.902424731877006\n",
      "test AUC: 0.9015779662481638\n"
     ]
    }
   ],
   "source": [
    "# AUC - ROC plot\n",
    "auc_train_avgw2v_l1, auc_test_avgw2v_l1 = plot_auc(model_avgw2v_l1, sent_vectors_train, sent_vectors_test)"
   ]
  },
  {
   "cell_type": "code",
   "execution_count": 144,
   "metadata": {
    "ExecuteTime": {
     "end_time": "2019-03-26T05:26:19.727545Z",
     "start_time": "2019-03-26T05:26:19.655350Z"
    },
    "colab": {
     "base_uri": "https://localhost:8080/",
     "height": 136
    },
    "colab_type": "code",
    "id": "vqklj7HifDxP",
    "outputId": "c656e9dc-6c19-4cb7-d334-68f1d9967948"
   },
   "outputs": [
    {
     "name": "stdout",
     "output_type": "stream",
     "text": [
      "*****Train confusion matrix*****\n",
      "[[ 4454  5170]\n",
      " [ 1726 50091]]\n",
      "\n",
      "*****Test confusion matrix*****\n",
      "[[ 2146  2411]\n",
      " [  788 20987]]\n"
     ]
    }
   ],
   "source": [
    "# Confusion matrix\n",
    "print_confusion_matrix(model_avgw2v_l1, sent_vectors_train, sent_vectors_test)"
   ]
  },
  {
   "cell_type": "code",
   "execution_count": 156,
   "metadata": {
    "ExecuteTime": {
     "end_time": "2019-03-26T05:38:27.159202Z",
     "start_time": "2019-03-26T05:38:26.900000Z"
    },
    "colab": {
     "base_uri": "https://localhost:8080/",
     "height": 297
    },
    "colab_type": "code",
    "id": "Nqc8-jTmfDxT",
    "outputId": "b49a9a83-3d17-4c62-d956-4ec71e772232"
   },
   "outputs": [
    {
     "data": {
      "text/plain": [
       "<Figure size 432x288 with 0 Axes>"
      ]
     },
     "metadata": {},
     "output_type": "display_data"
    },
    {
     "data": {
      "image/png": "[encoded data removed]",
      "text/plain": [
       "<Figure size 1080x288 with 4 Axes>"
      ]
     },
     "metadata": {
      "needs_background": "light"
     },
     "output_type": "display_data"
    }
   ],
   "source": [
    "# Heatmap confusion matrix\n",
    "plt.figure(1)\n",
    "plt.figure(figsize=(15, 4))\n",
    "\n",
    "\n",
    "plt.subplot(121)  # Test confusion matrix\n",
    "cnf_matrix = confusion_matrix(y_test, model_avgw2v_l1.predict(sent_vectors_test))\n",
    "np.set_printoptions(precision=2)\n",
    "class_names = ['Negative', 'Positive']\n",
    "# Plot non-normalized confusion matrix\n",
    "#plt.figure()\n",
    "plot_confusion_matrix_heatmap(cnf_matrix, classes=class_names, title='Test Set Confusion Matrix');\n",
    "\n",
    "plt.subplot(122) # Train Confusion matrix\n",
    "cnf_matrix = confusion_matrix(y_train, model_avgw2v_l1.predict(sent_vectors_train))\n",
    "np.set_printoptions(precision=2)\n",
    "class_names = ['Negative', 'Positive']\n",
    "# Plot non-normalized confusion matrix\n",
    "#plt.figure()\n",
    "plot_confusion_matrix_heatmap(cnf_matrix, classes=class_names, title='Train Set Confusion Matrix');"
   ]
  },
  {
   "cell_type": "markdown",
   "metadata": {
    "colab_type": "text",
    "id": "yB-0S_VVsLTG"
   },
   "source": [
    "**Observation**\n",
    "1. For the BoW vectorizer, we calculated C = 1000 using GridSearchCV with cv = 5 and with penalty l1. \n",
    "2. We got train AUC: 0.902424731877006 and test AUC: 0.9015779662481638\n",
    "3. Using the confusion matrix, we can say that our model correctly predicted 20987 positive reviews and 2146 negative reviews.\n",
    "4. The model incorrectly classified 788 negative reviews and 2411 positive reviews.\n",
    "5. The True Postive Rate is 96.41 and the True Negative Rate is 47.65\n",
    "6. The accuracy of the model is 87.97\n",
    "\n"
   ]
  },
  {
   "cell_type": "markdown",
   "metadata": {
    "colab_type": "text",
    "id": "MY1qgUX-fDxX"
   },
   "source": [
    "### [5.3.2] Applying Logistic Regression with L2 regularization on AVG W2V,<font color='red'> SET 3</font>"
   ]
  },
  {
   "cell_type": "code",
   "execution_count": 146,
   "metadata": {
    "ExecuteTime": {
     "end_time": "2019-03-26T05:28:34.178316Z",
     "start_time": "2019-03-26T05:28:09.606083Z"
    },
    "colab": {
     "base_uri": "https://localhost:8080/",
     "height": 170
    },
    "colab_type": "code",
    "id": "dIwHuBBBfDxY",
    "outputId": "78497384-47b9-41be-f6ea-2bf4955db628"
   },
   "outputs": [
    {
     "data": {
      "text/plain": [
       "GridSearchCV(cv=5, error_score='raise-deprecating',\n",
       "       estimator=LogisticRegression(C=1.0, class_weight=None, dual=False, fit_intercept=True,\n",
       "          intercept_scaling=1, max_iter=100, multi_class='warn',\n",
       "          n_jobs=None, penalty='l2', random_state=None, solver='warn',\n",
       "          tol=0.0001, verbose=0, warm_start=False),\n",
       "       fit_params=None, iid='warn', n_jobs=None,\n",
       "       param_grid=[{'C': [0.0001, 0.001, 0.01, 0.1, 1, 10, 100, 1000, 10000]}],\n",
       "       pre_dispatch='2*n_jobs', refit=True, return_train_score='warn',\n",
       "       scoring='roc_auc', verbose=0)"
      ]
     },
     "execution_count": 146,
     "metadata": {},
     "output_type": "execute_result"
    }
   ],
   "source": [
    "# Get the best hyperparameter\n",
    "tuned_parameters = [{'C': [10**-4, 10**-3, 10**-2, 10**-1, 10**0, 10**1, 10**2, 10**3, 10**4]}]\n",
    "alpha = [10**-4, 10**-3, 10**-2, 10**-1, 10**0, 10**1, 10**2, 10**3, 10**4]  #k\n",
    "\n",
    "# Using GridSearchCVSearchCV with 5 fold cv\n",
    "gs_obj = GridSearchCV(LogisticRegression(penalty= 'l2'), tuned_parameters, scoring = 'roc_auc', cv=5)\n",
    "\n",
    "gs_obj.fit(sent_vectors_train, y_train)"
   ]
  },
  {
   "cell_type": "code",
   "execution_count": 147,
   "metadata": {
    "ExecuteTime": {
     "end_time": "2019-03-26T05:29:30.865361Z",
     "start_time": "2019-03-26T05:29:30.558760Z"
    },
    "colab": {
     "base_uri": "https://localhost:8080/",
     "height": 298
    },
    "colab_type": "code",
    "id": "ypjb7U6wfDxe",
    "outputId": "885484f0-e31b-4495-e731-87c683775822"
   },
   "outputs": [
    {
     "data": {
      "image/png": "[encoded data removed]",
      "text/plain": [
       "<Figure size 432x288 with 1 Axes>"
      ]
     },
     "metadata": {
      "needs_background": "light"
     },
     "output_type": "display_data"
    }
   ],
   "source": [
    "train_auc= gs_obj.cv_results_['mean_train_score']\n",
    "train_auc_std= gs_obj.cv_results_['std_train_score']\n",
    "cv_auc = gs_obj.cv_results_['mean_test_score'] \n",
    "cv_auc_std= gs_obj.cv_results_['std_test_score']\n",
    "\n",
    "# draws the error plot\n",
    "  \n",
    "plt.plot(alpha, train_auc, label='Train AUC')\n",
    " # this code is copied from here: https://stackoverflow.com/a/48803361/4084039\n",
    "plt.gca().fill_between(alpha,train_auc - train_auc_std,train_auc + train_auc_std,alpha=0.2,color='darkblue')\n",
    "\n",
    "plt.plot(alpha, cv_auc, label='CV AUC')\n",
    "# this code is copied from here: https://stackoverflow.com/a/48803361/4084039 \n",
    "plt.gca().fill_between(alpha,cv_auc - cv_auc_std,cv_auc + cv_auc_std,alpha=0.2,color='darkorange')\n",
    "plt.legend()\n",
    "plt.xlabel(\"log(C): hyperparameter\")\n",
    "plt.xscale('log')\n",
    "plt.ylabel(\"AUC\")\n",
    "plt.title(\"ERROR PLOT\")\n",
    "plt.show()"
   ]
  },
  {
   "cell_type": "code",
   "execution_count": 148,
   "metadata": {
    "ExecuteTime": {
     "end_time": "2019-03-26T05:30:27.026787Z",
     "start_time": "2019-03-26T05:30:26.997208Z"
    },
    "colab": {
     "base_uri": "https://localhost:8080/",
     "height": 323
    },
    "colab_type": "code",
    "id": "pRN0QdqmfDxh",
    "outputId": "b7f2054f-d128-47db-c002-ed8bb4579720"
   },
   "outputs": [
    {
     "name": "stdout",
     "output_type": "stream",
     "text": [
      "+---------------+--------------+---------------+\n",
      "| Mean CV Score | Std CV Score |     Param     |\n",
      "+---------------+--------------+---------------+\n",
      "|     0.825     |   0.02433    | {'C': 0.0001} |\n",
      "|     0.895     |   0.01698    |  {'C': 0.001} |\n",
      "|     0.901     |   0.01463    |  {'C': 0.01}  |\n",
      "|     0.901     |    0.0141    |   {'C': 0.1}  |\n",
      "|     0.901     |   0.01402    |    {'C': 1}   |\n",
      "|     0.901     |   0.01401    |   {'C': 10}   |\n",
      "|     0.901     |   0.01401    |   {'C': 100}  |\n",
      "|     0.901     |   0.01402    |  {'C': 1000}  |\n",
      "|     0.901     |   0.01402    |  {'C': 10000} |\n",
      "+---------------+--------------+---------------+\n",
      "\n",
      "The best estimator:LogisticRegression(C=0.1, class_weight=None, dual=False, fit_intercept=True,\n",
      "          intercept_scaling=1, max_iter=100, multi_class='warn',\n",
      "          n_jobs=None, penalty='l2', random_state=None, solver='warn',\n",
      "          tol=0.0001, verbose=0, warm_start=False)\n",
      "\n",
      "The best score is:0.9014769955102173\n",
      "The best value of C is:{'C': 0.1}\n",
      "Mean Score: 0.9015764646660858\n"
     ]
    }
   ],
   "source": [
    "# Results of the gs object\n",
    "# Code https://stackoverflow.com/questions/42793254/what-replaces-gridsearchcv-grid-scores-in-scikit#answer-42800056\n",
    "means = gs_obj.cv_results_['mean_test_score']\n",
    "stds = gs_obj.cv_results_['std_test_score']\n",
    "\n",
    "\n",
    "t2 = PrettyTable()\n",
    "t2.field_names = ['Mean CV Score', 'Std CV Score', 'Param']\n",
    "\n",
    "for mean, std, params in zip(means, stds, gs_obj.cv_results_['params']):\n",
    "    t2.add_row([round(mean, 3), round(std * 2,5), params])\n",
    "\n",
    "print(t2) \n",
    "  \n",
    "print(\"\\nThe best estimator:{}\".format(gs_obj.best_estimator_))\n",
    "print(\"\\nThe best score is:{}\".format(gs_obj.best_score_))\n",
    "print(\"The best value of C is:{}\".format(gs_obj.best_params_))\n",
    "\n",
    "# Returns the mean accuracy on the given test data and labels.\n",
    "print(\"Mean Score: {}\".format(gs_obj.score(sent_vectors_test, y_test)))"
   ]
  },
  {
   "cell_type": "code",
   "execution_count": 149,
   "metadata": {
    "ExecuteTime": {
     "end_time": "2019-03-26T05:31:22.907095Z",
     "start_time": "2019-03-26T05:31:22.904086Z"
    }
   },
   "outputs": [],
   "source": [
    "best_estimator_w2v_l2 = gs_obj.best_params_"
   ]
  },
  {
   "cell_type": "code",
   "execution_count": 150,
   "metadata": {
    "ExecuteTime": {
     "end_time": "2019-03-26T05:32:19.312063Z",
     "start_time": "2019-03-26T05:32:18.580581Z"
    },
    "colab": {},
    "colab_type": "code",
    "id": "Qa9jH5njfDxk"
   },
   "outputs": [],
   "source": [
    "# Fitting the Avg W2v vectorizer on LogisticRegression Model with  penalty = 'l2'\n",
    "model_avgw2v_l2 = LogisticRegression(C= list(best_estimator_w2v_l2.values())[0],penalty = 'l2')\n",
    "model_avgw2v_l2.fit(sent_vectors_train,y_train)\n",
    "y_pred = model_avgw2v_l2.predict(sent_vectors_test)"
   ]
  },
  {
   "cell_type": "code",
   "execution_count": 151,
   "metadata": {
    "ExecuteTime": {
     "end_time": "2019-03-26T05:33:14.547347Z",
     "start_time": "2019-03-26T05:33:14.380894Z"
    },
    "colab": {
     "base_uri": "https://localhost:8080/",
     "height": 328
    },
    "colab_type": "code",
    "id": "H4C4HJgvfDxo",
    "outputId": "a163adb4-ae3d-4f58-99dd-9cc13ec3942d"
   },
   "outputs": [
    {
     "data": {
      "image/png": "[encoded data removed]",
      "text/plain": [
       "<Figure size 432x288 with 1 Axes>"
      ]
     },
     "metadata": {
      "needs_background": "light"
     },
     "output_type": "display_data"
    },
    {
     "name": "stdout",
     "output_type": "stream",
     "text": [
      "train AUC: 0.9024168652161337\n",
      "test AUC: 0.9015764646660858\n"
     ]
    }
   ],
   "source": [
    "# AUC- ROC plot\n",
    "auc_train_avgw2v_l2, auc_test_avgw2v_l2 = plot_auc(model_avgw2v_l2, sent_vectors_train, sent_vectors_test)"
   ]
  },
  {
   "cell_type": "code",
   "execution_count": 152,
   "metadata": {
    "ExecuteTime": {
     "end_time": "2019-03-26T05:34:09.065825Z",
     "start_time": "2019-03-26T05:34:08.987986Z"
    },
    "colab": {
     "base_uri": "https://localhost:8080/",
     "height": 136
    },
    "colab_type": "code",
    "id": "8TyJ0s1UfDxx",
    "outputId": "dc27bc6f-24c0-4c01-be47-5dcf18283c65"
   },
   "outputs": [
    {
     "name": "stdout",
     "output_type": "stream",
     "text": [
      "*****Train confusion matrix*****\n",
      "[[ 4410  5214]\n",
      " [ 1688 50129]]\n",
      "\n",
      "*****Test confusion matrix*****\n",
      "[[ 2113  2444]\n",
      " [  768 21007]]\n"
     ]
    }
   ],
   "source": [
    "# Confusion Matrix\n",
    "print_confusion_matrix(model_avgw2v_l2, sent_vectors_train, sent_vectors_test)"
   ]
  },
  {
   "cell_type": "code",
   "execution_count": 155,
   "metadata": {
    "ExecuteTime": {
     "end_time": "2019-03-26T05:37:26.779741Z",
     "start_time": "2019-03-26T05:37:26.503434Z"
    },
    "colab": {
     "base_uri": "https://localhost:8080/",
     "height": 297
    },
    "colab_type": "code",
    "id": "lp2QPolYfDx1",
    "outputId": "fec74b4b-afa2-4f21-beb2-ddb009895a3d"
   },
   "outputs": [
    {
     "data": {
      "text/plain": [
       "<Figure size 432x288 with 0 Axes>"
      ]
     },
     "metadata": {},
     "output_type": "display_data"
    },
    {
     "data": {
      "image/png": "[encoded data removed]",
      "text/plain": [
       "<Figure size 1080x288 with 4 Axes>"
      ]
     },
     "metadata": {
      "needs_background": "light"
     },
     "output_type": "display_data"
    }
   ],
   "source": [
    "# Heatmap confusion matrix\n",
    "plt.figure(1)\n",
    "plt.figure(figsize=(15, 4))\n",
    "\n",
    "\n",
    "plt.subplot(121)  # Test confusion matrix\n",
    "cnf_matrix = confusion_matrix(y_test, model_avgw2v_l2.predict(sent_vectors_test))\n",
    "np.set_printoptions(precision=2)\n",
    "class_names = ['Negative', 'Positive']\n",
    "# Plot non-normalized confusion matrix\n",
    "#plt.figure()\n",
    "plot_confusion_matrix_heatmap(cnf_matrix, classes=class_names, title='Test Set Confusion Matrix');\n",
    "\n",
    "plt.subplot(122) # Train Confusion matrix\n",
    "cnf_matrix = confusion_matrix(y_train, model_avgw2v_l2.predict(sent_vectors_train))\n",
    "np.set_printoptions(precision=2)\n",
    "class_names = ['Negative', 'Positive']\n",
    "# Plot non-normalized confusion matrix\n",
    "#plt.figure()\n",
    "plot_confusion_matrix_heatmap(cnf_matrix, classes=class_names, title='Train Set Confusion Matrix');"
   ]
  },
  {
   "cell_type": "markdown",
   "metadata": {
    "colab_type": "text",
    "id": "MLipcxMorLId"
   },
   "source": [
    "**Observation**\n",
    "1. For the BoW vectorizer, we calculated C = 0.1 using GridSearchCV with cv = 5 and with penalty l2. \n",
    "2. We got train AUC: 0.9024168652161337 and test AUC: 0.9015764646660858\n",
    "3. Using the confusion matrix, we can say that our model correctly predicted 21007 positive reviews and 2113 negative reviews.\n",
    "4. The model incorrectly classified 768 negative reviews and 2444 positive reviews.\n",
    "5. The True Postive Rate is 96.42 and the True Negative Rate is 47.59\n",
    "6. The accuracy of the model is 87.97\n"
   ]
  },
  {
   "cell_type": "markdown",
   "metadata": {
    "_uuid": "675688a0dc19b358036ec2b7e58de8b1149cb8f5",
    "colab_type": "text",
    "id": "1eu04ud71Kys"
   },
   "source": [
    "#### [4.4.1.2] TFIDF weighted W2v"
   ]
  },
  {
   "cell_type": "markdown",
   "metadata": {
    "colab_type": "text",
    "id": "XWYAk3CLfDx9"
   },
   "source": [
    "## [5.4] Logistic Regression on TFIDF W2V,<font color='red'> SET 4</font>"
   ]
  },
  {
   "cell_type": "code",
   "execution_count": 114,
   "metadata": {
    "ExecuteTime": {
     "end_time": "2019-03-26T04:14:03.787517Z",
     "start_time": "2019-03-26T04:14:00.891993Z"
    },
    "_uuid": "2d6de87b17ce76fb79714feb17d5c84f7a601975",
    "colab": {},
    "colab_type": "code",
    "id": "G7xuG9Jp1Kyt"
   },
   "outputs": [],
   "source": [
    "# S = [\"abc def pqr\", \"def def def abc\", \"pqr pqr def\"]\n",
    "model = TfidfVectorizer()\n",
    "X_train_tf_idf_w2v = model.fit_transform(X_train)\n",
    "X_test_tf_idf_w2v = model.transform(X_test)\n",
    "# we are converting a dictionary with word as a key, and the idf as a value\n",
    "dictionary = dict(zip(model.get_feature_names(), list(model.idf_)))"
   ]
  },
  {
   "cell_type": "code",
   "execution_count": 115,
   "metadata": {
    "ExecuteTime": {
     "end_time": "2019-03-26T04:41:13.268780Z",
     "start_time": "2019-03-26T04:14:04.828340Z"
    },
    "_uuid": "3b110ff2baf40700eb08ef1b3e2071402b3008a5",
    "colab": {
     "base_uri": "https://localhost:8080/",
     "height": 34
    },
    "colab_type": "code",
    "id": "ImWZHi4Z1Kyw",
    "outputId": "abf1bdf2-7213-4130-8e8c-ebe121d3486c",
    "scrolled": true
   },
   "outputs": [
    {
     "name": "stderr",
     "output_type": "stream",
     "text": [
      "100%|████████████████████████████████████████████████████████████████████████████████████████████████████████████████████████████| 61441/61441 [27:08<00:00, 37.73it/s]\n"
     ]
    }
   ],
   "source": [
    "# TF-IDF weighted Word2Vec for sentences in X_train\n",
    "tfidf_feat = model.get_feature_names() # tfidf words/col-names\n",
    "# final_tf_idf is the sparse matrix with row= sentence, col=word and cell_val = tfidf\n",
    "\n",
    "tfidf_sent_vectors_train = []; # the tfidf-w2v for each sentence/review is stored in this list\n",
    "row=0;\n",
    "for sent in tqdm(list_of_sentance_train): # for each review/sentence \n",
    "    sent_vec = np.zeros(50) # as word vectors are of zero length\n",
    "    weight_sum =0; # num of words with a valid vector in the sentence/review\n",
    "    for word in sent: # for each word in a review/sentence\n",
    "        if word in w2v_words and word in tfidf_feat:\n",
    "            vec = w2v_model.wv[word]\n",
    "#             tf_idf = tf_idf_matrix[row, tfidf_feat.index(word)]\n",
    "            # to reduce the computation we are \n",
    "            # dictionary[word] = idf value of word in whole courpus\n",
    "            # sent.count(word) = tf valeus of word in this review\n",
    "            tf_idf = dictionary[word]*(sent.count(word)/len(sent))\n",
    "            sent_vec += (vec * tf_idf)\n",
    "            weight_sum += tf_idf\n",
    "    if weight_sum != 0:\n",
    "        sent_vec /= weight_sum\n",
    "    tfidf_sent_vectors_train.append(sent_vec)\n",
    "    row += 1"
   ]
  },
  {
   "cell_type": "code",
   "execution_count": 116,
   "metadata": {
    "ExecuteTime": {
     "end_time": "2019-03-26T04:53:43.698418Z",
     "start_time": "2019-03-26T04:41:53.497972Z"
    },
    "_uuid": "bcd740ff495275cfcb325e9272e1dfdbeb741471",
    "colab": {
     "base_uri": "https://localhost:8080/",
     "height": 34
    },
    "colab_type": "code",
    "id": "-vKhBthA1Ky4",
    "outputId": "82cce351-8d36-4946-89f0-b9c4605d91e8"
   },
   "outputs": [
    {
     "name": "stderr",
     "output_type": "stream",
     "text": [
      "100%|████████████████████████████████████████████████████████████████████████████████████████████████████████████████████████████| 26332/26332 [11:50<00:00, 37.08it/s]\n"
     ]
    }
   ],
   "source": [
    "# TF-IDF weighted Word2Vec for sentences in X_test\n",
    "tfidf_feat = model.get_feature_names() # tfidf words/col-names\n",
    "# final_tf_idf is the sparse matrix with row= sentence, col=word and cell_val = tfidf\n",
    "\n",
    "tfidf_sent_vectors_test = []; # the tfidf-w2v for each sentence/review is stored in this list\n",
    "row=0;\n",
    "for sent in tqdm(list_of_sentance_test): # for each review/sentence \n",
    "    sent_vec = np.zeros(50) # as word vectors are of zero length\n",
    "    weight_sum =0; # num of words with a valid vector in the sentence/review\n",
    "    for word in sent: # for each word in a review/sentence\n",
    "        if word in w2v_words and word in tfidf_feat:\n",
    "            vec = w2v_model.wv[word]\n",
    "#             tf_idf = tf_idf_matrix[row, tfidf_feat.index(word)]\n",
    "            # to reduce the computation we are \n",
    "            # dictionary[word] = idf value of word in whole courpus\n",
    "            # sent.count(word) = tf valeus of word in this review\n",
    "            tf_idf = dictionary[word]*(sent.count(word)/len(sent))\n",
    "            sent_vec += (vec * tf_idf)\n",
    "            weight_sum += tf_idf\n",
    "    if weight_sum != 0:\n",
    "        sent_vec /= weight_sum\n",
    "    tfidf_sent_vectors_test.append(sent_vec)\n",
    "    \n",
    "    row += 1"
   ]
  },
  {
   "cell_type": "markdown",
   "metadata": {
    "colab_type": "text",
    "id": "6GagCrE6fDyI"
   },
   "source": [
    "### [5.4.1] Applying Logistic Regression with L1 regularization on TFIDF W2V,<font color='red'> SET 4</font>"
   ]
  },
  {
   "cell_type": "code",
   "execution_count": 117,
   "metadata": {
    "ExecuteTime": {
     "end_time": "2019-03-26T04:55:40.877854Z",
     "start_time": "2019-03-26T04:54:39.094441Z"
    },
    "colab": {
     "base_uri": "https://localhost:8080/",
     "height": 604
    },
    "colab_type": "code",
    "id": "szJifPdifDyJ",
    "outputId": "152cf055-e4de-4aab-859c-fbdc76455fdc"
   },
   "outputs": [
    {
     "data": {
      "image/png": "[encoded data removed]",
      "text/plain": [
       "<Figure size 432x288 with 1 Axes>"
      ]
     },
     "metadata": {
      "needs_background": "light"
     },
     "output_type": "display_data"
    },
    {
     "name": "stdout",
     "output_type": "stream",
     "text": [
      "+---------------+--------------+---------------+\n",
      "| Mean CV Score | Std CV Score |     Param     |\n",
      "+---------------+--------------+---------------+\n",
      "|      0.5      |     0.0      | {'C': 0.0001} |\n",
      "|     0.801     |   0.01918    |  {'C': 0.001} |\n",
      "|     0.872     |   0.01642    |  {'C': 0.01}  |\n",
      "|     0.877     |   0.01663    |   {'C': 0.1}  |\n",
      "|     0.877     |    0.0166    |    {'C': 1}   |\n",
      "|     0.877     |   0.01661    |   {'C': 10}   |\n",
      "|     0.877     |   0.01661    |   {'C': 100}  |\n",
      "|     0.877     |   0.01661    |  {'C': 1000}  |\n",
      "|     0.877     |   0.01661    |  {'C': 10000} |\n",
      "+---------------+--------------+---------------+\n",
      "\n",
      "The best estimator:LogisticRegression(C=1, class_weight=None, dual=False, fit_intercept=True,\n",
      "          intercept_scaling=1, max_iter=100, multi_class='warn',\n",
      "          n_jobs=None, penalty='l1', random_state=None, solver='warn',\n",
      "          tol=0.0001, verbose=0, warm_start=False)\n",
      "\n",
      "The best score is:0.8769711699379582\n",
      "The best value of C is:{'C': 1}\n",
      "Mean Score: 0.8734700629631506\n"
     ]
    }
   ],
   "source": [
    "best_estimator_tfidfw2v_l1 = get_best_hyperparameter_C(model, tfidf_sent_vectors_train, tfidf_sent_vectors_test, y_train, y_test, penalty_l = 'l1' )"
   ]
  },
  {
   "cell_type": "code",
   "execution_count": 118,
   "metadata": {
    "ExecuteTime": {
     "end_time": "2019-03-26T04:56:37.589548Z",
     "start_time": "2019-03-26T04:56:35.718522Z"
    },
    "colab": {},
    "colab_type": "code",
    "id": "oJOC8sgNfDyK"
   },
   "outputs": [],
   "source": [
    "# Fitting the TFIDF - weighted W2V vectorizer on LogisticRegression Model \n",
    "model_tfidfw2v_l1 = LogisticRegression(C= list(best_estimator_tfidfw2v_l1.values())[0], penalty = 'l1')\n",
    "model_tfidfw2v_l1.fit(tfidf_sent_vectors_train,y_train)\n",
    "y_pred = model_tfidfw2v_l1.predict(tfidf_sent_vectors_test)"
   ]
  },
  {
   "cell_type": "code",
   "execution_count": 119,
   "metadata": {
    "ExecuteTime": {
     "end_time": "2019-03-26T04:57:32.679059Z",
     "start_time": "2019-03-26T04:57:32.491902Z"
    },
    "colab": {
     "base_uri": "https://localhost:8080/",
     "height": 328
    },
    "colab_type": "code",
    "id": "mcbIifuCfDyM",
    "outputId": "95386ed9-9d40-4b7e-9eae-a9285940de1d"
   },
   "outputs": [
    {
     "data": {
      "image/png": "[encoded data removed]",
      "text/plain": [
       "<Figure size 432x288 with 1 Axes>"
      ]
     },
     "metadata": {
      "needs_background": "light"
     },
     "output_type": "display_data"
    },
    {
     "name": "stdout",
     "output_type": "stream",
     "text": [
      "train AUC: 0.8785712594988075\n",
      "test AUC: 0.8734706575493425\n"
     ]
    }
   ],
   "source": [
    "# AUC- ROC plot\n",
    "auc_train_tfidfw2v_l1, auc_test_tfidfw2v_l1 = plot_auc(model_tfidfw2v_l1, tfidf_sent_vectors_train, tfidf_sent_vectors_test)"
   ]
  },
  {
   "cell_type": "code",
   "execution_count": 120,
   "metadata": {
    "ExecuteTime": {
     "end_time": "2019-03-26T04:58:29.353727Z",
     "start_time": "2019-03-26T04:58:29.195307Z"
    },
    "colab": {
     "base_uri": "https://localhost:8080/",
     "height": 136
    },
    "colab_type": "code",
    "id": "ar67oz4sfDyP",
    "outputId": "4274d1cc-f030-40f0-8229-135c8a553e1c"
   },
   "outputs": [
    {
     "name": "stdout",
     "output_type": "stream",
     "text": [
      "*****Train confusion matrix*****\n",
      "[[ 3636  5988]\n",
      " [ 1577 50240]]\n",
      "\n",
      "*****Test confusion matrix*****\n",
      "[[ 1731  2826]\n",
      " [  704 21071]]\n"
     ]
    }
   ],
   "source": [
    "# Confusion Matrix\n",
    "print_confusion_matrix(model_tfidfw2v_l1, tfidf_sent_vectors_train, tfidf_sent_vectors_test)"
   ]
  },
  {
   "cell_type": "code",
   "execution_count": 121,
   "metadata": {
    "ExecuteTime": {
     "end_time": "2019-03-26T04:59:25.256148Z",
     "start_time": "2019-03-26T04:59:24.935151Z"
    },
    "colab": {
     "base_uri": "https://localhost:8080/",
     "height": 297
    },
    "colab_type": "code",
    "id": "wmxbXKRtfDyR",
    "outputId": "6db5d35b-c13a-424a-c278-123ee31feddf"
   },
   "outputs": [
    {
     "data": {
      "text/plain": [
       "<Figure size 432x288 with 0 Axes>"
      ]
     },
     "metadata": {},
     "output_type": "display_data"
    },
    {
     "data": {
      "image/png": "[encoded data removed]",
      "text/plain": [
       "<Figure size 1080x288 with 4 Axes>"
      ]
     },
     "metadata": {
      "needs_background": "light"
     },
     "output_type": "display_data"
    }
   ],
   "source": [
    "# Heatmap Confusion Matrix\n",
    "plt.figure(1)\n",
    "plt.figure(figsize=(15, 4))\n",
    "\n",
    "\n",
    "plt.subplot(121)  # Test confusion matrix\n",
    "cnf_matrix = confusion_matrix(y_test, model_tfidfw2v_l1.predict(tfidf_sent_vectors_test))\n",
    "np.set_printoptions(precision=2)\n",
    "class_names = ['Negative', 'Positive']\n",
    "# Plot non-normalized confusion matrix\n",
    "#plt.figure()\n",
    "plot_confusion_matrix_heatmap(cnf_matrix, classes=class_names, title='Test Set Confusion Matrix');\n",
    "\n",
    "plt.subplot(122) # Train Confusion matrix\n",
    "cnf_matrix = confusion_matrix(y_train, model_tfidfw2v_l1.predict(tfidf_sent_vectors_train))\n",
    "np.set_printoptions(precision=2)\n",
    "class_names = ['Negative', 'Positive']\n",
    "# Plot non-normalized confusion matrix\n",
    "#plt.figure()\n",
    "plot_confusion_matrix_heatmap(cnf_matrix, classes=class_names, title='Train Set Confusion Matrix');"
   ]
  },
  {
   "cell_type": "markdown",
   "metadata": {
    "colab_type": "text",
    "id": "N_b1V-DspKGG"
   },
   "source": [
    "**Observation**\n",
    "1. For the BoW vectorizer, we calculated C = 1 using GridSearchCV with cv = 5 and with penalty l1. \n",
    "2. We got train AUC: 0.8785712594988075 and test AUC: 0.8734706575493425\n",
    "3. Using the confusion matrix, we can say that our model correctly predicted 21071 positive reviews and 1731 negative reviews.\n",
    "4. The model incorrectly classified 704 negative reviews and 2826 positive reviews.\n",
    "5. The True Postive Rate is 96.60 and the True Negative Rate is 39.52\n",
    "6. The accuracy of the model is 86.72"
   ]
  },
  {
   "cell_type": "markdown",
   "metadata": {
    "colab_type": "text",
    "id": "LdCBbeXofDyW"
   },
   "source": [
    "### [5.4.2] Applying Logistic Regression with L2 regularization on TFIDF W2V,<font color='red'> SET 4</font>"
   ]
  },
  {
   "cell_type": "code",
   "execution_count": 122,
   "metadata": {
    "ExecuteTime": {
     "end_time": "2019-03-26T05:00:50.253576Z",
     "start_time": "2019-03-26T05:00:20.567668Z"
    },
    "colab": {
     "base_uri": "https://localhost:8080/",
     "height": 604
    },
    "colab_type": "code",
    "id": "-ESZO7H_fDyX",
    "outputId": "9f1fb0ee-654e-4463-9cbd-dde5d5c38897"
   },
   "outputs": [
    {
     "data": {
      "image/png": "[encoded data removed]",
      "text/plain": [
       "<Figure size 432x288 with 1 Axes>"
      ]
     },
     "metadata": {
      "needs_background": "light"
     },
     "output_type": "display_data"
    },
    {
     "name": "stdout",
     "output_type": "stream",
     "text": [
      "+---------------+--------------+---------------+\n",
      "| Mean CV Score | Std CV Score |     Param     |\n",
      "+---------------+--------------+---------------+\n",
      "|     0.795     |   0.02675    | {'C': 0.0001} |\n",
      "|     0.869     |   0.01828    |  {'C': 0.001} |\n",
      "|     0.876     |   0.01677    |  {'C': 0.01}  |\n",
      "|     0.877     |   0.01661    |   {'C': 0.1}  |\n",
      "|     0.877     |   0.01662    |    {'C': 1}   |\n",
      "|     0.877     |   0.01661    |   {'C': 10}   |\n",
      "|     0.877     |   0.01661    |   {'C': 100}  |\n",
      "|     0.877     |   0.01661    |  {'C': 1000}  |\n",
      "|     0.877     |   0.01661    |  {'C': 10000} |\n",
      "+---------------+--------------+---------------+\n",
      "\n",
      "The best estimator:LogisticRegression(C=0.1, class_weight=None, dual=False, fit_intercept=True,\n",
      "          intercept_scaling=1, max_iter=100, multi_class='warn',\n",
      "          n_jobs=None, penalty='l2', random_state=None, solver='warn',\n",
      "          tol=0.0001, verbose=0, warm_start=False)\n",
      "\n",
      "The best score is:0.8769926148015947\n",
      "The best value of C is:{'C': 0.1}\n",
      "Mean Score: 0.8735281610885159\n"
     ]
    }
   ],
   "source": [
    "best_estimator_tfidfw2v_l2 = get_best_hyperparameter_C(model, tfidf_sent_vectors_train, tfidf_sent_vectors_test, y_train, y_test, penalty_l = 'l2' )"
   ]
  },
  {
   "cell_type": "code",
   "execution_count": 123,
   "metadata": {
    "ExecuteTime": {
     "end_time": "2019-03-26T05:01:51.313930Z",
     "start_time": "2019-03-26T05:01:50.458021Z"
    },
    "colab": {},
    "colab_type": "code",
    "id": "DRMtujH8fDyZ"
   },
   "outputs": [],
   "source": [
    "# Fitting the TFIDF - weighted W2V vectorizer on LogisticRegression Model with C =  and penalty = 'l2'\n",
    "model_tfidfw2v_l2 = LogisticRegression(C= list(best_estimator_tfidfw2v_l2.values())[0],penalty = 'l2')\n",
    "model_tfidfw2v_l2.fit(tfidf_sent_vectors_train,y_train)\n",
    "y_pred = model_tfidfw2v_l2.predict(tfidf_sent_vectors_test)"
   ]
  },
  {
   "cell_type": "code",
   "execution_count": 124,
   "metadata": {
    "ExecuteTime": {
     "end_time": "2019-03-26T05:02:46.364368Z",
     "start_time": "2019-03-26T05:02:46.180345Z"
    },
    "colab": {
     "base_uri": "https://localhost:8080/",
     "height": 328
    },
    "colab_type": "code",
    "id": "cn_OPhAsfDyb",
    "outputId": "e956e311-c6cc-4e99-c7ac-a7cf7cbe6156"
   },
   "outputs": [
    {
     "data": {
      "image/png": "[encoded data removed]",
      "text/plain": [
       "<Figure size 432x288 with 1 Axes>"
      ]
     },
     "metadata": {
      "needs_background": "light"
     },
     "output_type": "display_data"
    },
    {
     "name": "stdout",
     "output_type": "stream",
     "text": [
      "train AUC: 0.8785701044652459\n",
      "test AUC: 0.8735281610885159\n"
     ]
    }
   ],
   "source": [
    "# AUC- ROC plot\n",
    "auc_train_tfidfw2v_l2, auc_test_tfidfw2v_l2 = plot_auc(model_tfidfw2v_l2, tfidf_sent_vectors_train, tfidf_sent_vectors_test)"
   ]
  },
  {
   "cell_type": "code",
   "execution_count": 125,
   "metadata": {
    "ExecuteTime": {
     "end_time": "2019-03-26T05:03:45.038643Z",
     "start_time": "2019-03-26T05:03:44.902281Z"
    },
    "colab": {
     "base_uri": "https://localhost:8080/",
     "height": 136
    },
    "colab_type": "code",
    "id": "D1TLVQFsfDyg",
    "outputId": "3c537422-548f-4a84-f2a9-074eef611153"
   },
   "outputs": [
    {
     "name": "stdout",
     "output_type": "stream",
     "text": [
      "*****Train confusion matrix*****\n",
      "[[ 3607  6017]\n",
      " [ 1548 50269]]\n",
      "\n",
      "*****Test confusion matrix*****\n",
      "[[ 1708  2849]\n",
      " [  690 21085]]\n"
     ]
    }
   ],
   "source": [
    "# Confusion Matrix\n",
    "print_confusion_matrix(model_tfidfw2v_l2, tfidf_sent_vectors_train, tfidf_sent_vectors_test)"
   ]
  },
  {
   "cell_type": "code",
   "execution_count": 126,
   "metadata": {
    "ExecuteTime": {
     "end_time": "2019-03-26T05:04:44.209606Z",
     "start_time": "2019-03-26T05:04:43.850720Z"
    },
    "colab": {
     "base_uri": "https://localhost:8080/",
     "height": 297
    },
    "colab_type": "code",
    "id": "xjtluGdHfDyi",
    "outputId": "1ba5b1ee-118b-422f-8341-b17fa66c9b14"
   },
   "outputs": [
    {
     "data": {
      "text/plain": [
       "<Figure size 432x288 with 0 Axes>"
      ]
     },
     "metadata": {},
     "output_type": "display_data"
    },
    {
     "data": {
      "image/png": "[encoded data removed]",
      "text/plain": [
       "<Figure size 1080x288 with 4 Axes>"
      ]
     },
     "metadata": {
      "needs_background": "light"
     },
     "output_type": "display_data"
    }
   ],
   "source": [
    "# Heatmap Confusion Matrix\n",
    "plt.figure(1)\n",
    "plt.figure(figsize=(15, 4))\n",
    "\n",
    "\n",
    "plt.subplot(121)  # Test confusion matrix\n",
    "cnf_matrix = confusion_matrix(y_test, model_tfidfw2v_l2.predict(tfidf_sent_vectors_test))\n",
    "np.set_printoptions(precision=2)\n",
    "class_names = ['Negative', 'Positive']\n",
    "# Plot non-normalized confusion matrix\n",
    "#plt.figure()\n",
    "plot_confusion_matrix_heatmap(cnf_matrix, classes=class_names, title='Test Set Confusion Matrix');\n",
    "\n",
    "plt.subplot(122) # Train Confusion matrix\n",
    "cnf_matrix = confusion_matrix(y_train, model_tfidfw2v_l2.predict(tfidf_sent_vectors_train))\n",
    "np.set_printoptions(precision=2)\n",
    "class_names = ['Negative', 'Positive']\n",
    "# Plot non-normalized confusion matrix\n",
    "#plt.figure()\n",
    "plot_confusion_matrix_heatmap(cnf_matrix, classes=class_names, title='Train Set Confusion Matrix');"
   ]
  },
  {
   "cell_type": "markdown",
   "metadata": {
    "colab_type": "text",
    "id": "HN2rWkrqlUDF"
   },
   "source": [
    "**Observation**\n",
    "1. For the TFIDF-W2V vectorizer, we calculated C = 0.1 using GridSearchCV with cv = 5 and with penalty l2. \n",
    "2. We got train AUC: 0.8785701044652459 and test AUC: 0.8735281610885159\n",
    "3. Using the confusion matrix, we can say that our model correctly predicted 21085 positive reviews and 1702 negative reviews.\n",
    "4. The model incorrectly classified 690 negative reviews and 2849 positive reviews.\n",
    "5. The True Postive Rate is 96.6 and the True Negative Rate is 39.54\n",
    "6. The accuracy of the model is 86.73"
   ]
  },
  {
   "cell_type": "markdown",
   "metadata": {
    "_uuid": "c41670f7e5f7297a0ffb2ef7ad0530d915590c64",
    "colab_type": "text",
    "id": "iO8PJ7N51K3h"
   },
   "source": [
    "# Conclusions"
   ]
  },
  {
   "cell_type": "code",
   "execution_count": 157,
   "metadata": {
    "ExecuteTime": {
     "end_time": "2019-03-26T05:40:38.346011Z",
     "start_time": "2019-03-26T05:40:38.336987Z"
    },
    "_uuid": "cb30fb8b0724c950bcdf193760d95e5ccdd652a4",
    "colab": {
     "base_uri": "https://localhost:8080/",
     "height": 221
    },
    "colab_type": "code",
    "id": "cKFZZnlI1K3p",
    "outputId": "b3bb57ee-a60b-43c1-a493-53610d314cf1"
   },
   "outputs": [
    {
     "name": "stdout",
     "output_type": "stream",
     "text": [
      "+--------+------------+------+-------+--------------------+--------------------+\n",
      "| Sr. No | Vectorizer | Norm |   C   |     Train AUC      |      Test AUC      |\n",
      "+--------+------------+------+-------+--------------------+--------------------+\n",
      "|   1    |    BoW     |  L1  |  0.01 | 0.9695167883807346 | 0.9695167883807346 |\n",
      "|   1    |    BoW     |  L2  | 0.001 |  0.99309054211035  | 0.9415796492294188 |\n",
      "|   1    |   TF_IDF   |  L1  |   1   | 0.9672404879416822 | 0.9604436620765118 |\n",
      "|   1    |   TF_IDF   |  L2  |   10  | 0.9985166762221631 | 0.9985166762221631 |\n",
      "|   1    |  Avg-W2V   |  L1  |  100  | 0.902424731877006  | 0.9015779662481638 |\n",
      "|   1    |  Avg-W2V   |  L2  |  0.1  | 0.9024168652161337 | 0.9015764646660858 |\n",
      "|   1    | TFIDF-W2V  |  L1  |   1   | 0.8785712594988075 | 0.8734706575493425 |\n",
      "|   1    | TFIDF-W2V  |  L2  |  0.1  | 0.8785701044652459 | 0.8735281610885159 |\n",
      "+--------+------------+------+-------+--------------------+--------------------+\n"
     ]
    }
   ],
   "source": [
    "C = PrettyTable()\n",
    "\n",
    "C.field_names = ['Sr. No', 'Vectorizer','Norm','C', 'Train AUC', 'Test AUC']\n",
    "C.add_row([1, 'BoW', 'L1', list(best_estimator_bow_l1.values())[0], auc_train_bow_l1, auc_train_bow_l1])\n",
    "C.add_row([1, 'BoW', 'L2',list(best_estimator_bow_l2.values())[0] ,auc_train_bow_l2 ,auc_test_bow_l2])\n",
    "C.add_row([1, 'TF_IDF', 'L1', list(best_estimator_tfidf_l1.values())[0], auc_train_tfidf_l1, auc_test_tfidf_l1])\n",
    "C.add_row([1, 'TF_IDF', 'L2',list(best_estimator_tfidf_l2.values())[0] , auc_train_tfidf_l2, auc_train_tfidf_l2])\n",
    "C.add_row([1, 'Avg-W2V', 'L1',list(best_estimator_w2v_l1.values())[0] ,auc_train_avgw2v_l1 ,auc_test_avgw2v_l1])\n",
    "C.add_row([1, 'Avg-W2V', 'L2', list(best_estimator_w2v_l2.values())[0],auc_train_avgw2v_l2 ,auc_test_avgw2v_l2])\n",
    "C.add_row([1, 'TFIDF-W2V', 'L1',list(best_estimator_tfidfw2v_l1.values())[0] ,auc_train_tfidfw2v_l1, auc_test_tfidfw2v_l1])\n",
    "C.add_row([1, 'TFIDF-W2V', 'L2', list(best_estimator_tfidfw2v_l2.values())[0], auc_train_tfidfw2v_l2,auc_test_tfidfw2v_l2])\n",
    "           \n",
    "\n",
    "print(C)\n",
    "del C"
   ]
  },
  {
   "cell_type": "markdown",
   "metadata": {
    "_uuid": "489e4b94d8f413824e02413fd197b3dd915699da",
    "colab_type": "text",
    "id": "iphzOcp71K3y"
   },
   "source": [
    "# Summary\n"
   ]
  },
  {
   "cell_type": "markdown",
   "metadata": {
    "_uuid": "d8f5ef87e3ac2db665b07a24e34ef6dd6e414c34",
    "colab_type": "text",
    "id": "7GxV4loy1K3z"
   },
   "source": [
    "1. We performed Logistic Regression with L1 and L2 normalization on BoW, TFIDF, Avg-W2V, TFIDF-WW2V on the Amazon Fine Food Reviews.\n",
    "2. Made use of GridSearchCV to find the best value of C, the hyperparameter in logistic regression.\n",
    "3. Performed Feature Engineering on the BoW model and found out the model slightly performed better.\n",
    "4. Different vectors take on different C values. We saw C values being taken from  10**-4 to 10**4\n",
    "5. We obtained the colinear features using perturbation and found out that we have less than 0.02% of colinear features.\n",
    "6. If dataset is balanced, we can get better TNR."
   ]
  }
 ],
 "metadata": {
  "colab": {
   "collapsed_sections": [
    "1eu04ud71Kys"
   ],
   "name": "Amazon Logistic Regression Submission.ipynb",
   "provenance": [],
   "version": "0.3.2"
  },
  "hide_input": false,
  "kernelspec": {
   "display_name": "Python 3",
   "language": "python",
   "name": "python3"
  },
  "language_info": {
   "codemirror_mode": {
    "name": "ipython",
    "version": 3
   },
   "file_extension": ".py",
   "mimetype": "text/x-python",
   "name": "python",
   "nbconvert_exporter": "python",
   "pygments_lexer": "ipython3",
   "version": "3.7.0"
  },
  "notify_time": "5",
  "toc": {
   "base_numbering": 1,
   "nav_menu": {},
   "number_sections": true,
   "sideBar": true,
   "skip_h1_title": false,
   "title_cell": "Table of Contents",
   "title_sidebar": "Contents",
   "toc_cell": false,
   "toc_position": {},
   "toc_section_display": true,
   "toc_window_display": false
  },
  "varInspector": {
   "cols": {
    "lenName": 16,
    "lenType": 16,
    "lenVar": 40
   },
   "kernels_config": {
    "python": {
     "delete_cmd_postfix": "",
     "delete_cmd_prefix": "del ",
     "library": "var_list.py",
     "varRefreshCmd": "print(var_dic_list())"
    },
    "r": {
     "delete_cmd_postfix": ") ",
     "delete_cmd_prefix": "rm(",
     "library": "var_list.r",
     "varRefreshCmd": "cat(var_dic_list()) "
    }
   },
   "types_to_exclude": [
    "module",
    "function",
    "builtin_function_or_method",
    "instance",
    "_Feature"
   ],
   "window_display": false
  }
 },
 "nbformat": 4,
 "nbformat_minor": 1
}
